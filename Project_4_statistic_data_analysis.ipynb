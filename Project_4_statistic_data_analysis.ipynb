{
 "cells": [
  {
   "cell_type": "markdown",
   "id": "f0c454d6",
   "metadata": {},
   "source": [
    "<div style=\"border:solid steelblue 3px; padding: 20px; border-radius: 10px\">\n",
    "\n",
    "**Привет!** 👋\n",
    "    \n",
    "К сожалению, не вижу в тикете, как тебя зовут.\n",
    "\n",
    "Меня зовут Алексей Манелюк, я буду проверять твой проект. В Яндекс Практикуме принято общаться на \"ты\" 😉, но если некомфортно - скажи и перейдем на \"Вы\".\n",
    "\n",
    "Моя цель - не указать на ошибки, а поделиться опытом и помочь в освоении анализа данных.\n",
    "\n",
    "В тетрадке ты увидишь мои комментарии, пожалуйста, не удаляй, не перемещай и не изменяй их. У комментариев могут быть приписки **V2**, **V3**, **V...**, которые соответствуют каждой версии проверки.\n",
    "\n",
    "Я буду использовать цветовую разметку:\n",
    "<p>\n",
    "<div class=\"alert-danger\" style=\"padding: 20px; border-radius: 10px\">\n",
    "<b>Комментарий ревьюера ❌</b>\n",
    "\n",
    "Так выделены критические замечания. Без их отработки я не смогу принять проект. </div>\n",
    "\n",
    "<div class=\"alert-warning\" style=\"padding: 20px; border-radius: 10px\">\n",
    "<b>  Комментарий ревьюера ⚠️</b>\n",
    "\n",
    "Так выделены небольшие замечания или полезные советы. Постарайся учесть их.</div>\n",
    "<p>\n",
    "<div class=\"alert-success\" style=\"padding: 20px; border-radius: 10px\">\n",
    "<b>Комментарий ревьюера ✔️</b>\n",
    "\n",
    "Так выделены правильные решения.</div>\n",
    "\n",
    "Предлагаю работать в диалоге: если что-то дорабатываешь или отвечаешь на мой комментарий - пиши об этом. Мне будет удобней, если ты выделишь свои комментарии:\n",
    "<p>\n",
    "<div class=\"alert-info\" style=\"padding: 20px; border-radius: 10px\">\n",
    "<b>Комментарий студента 💎</b>\n",
    "\n",
    "Здесь исправил.</div>\n",
    "\n",
    "Все это поможет мне быстрее принять твой проект.</div>"
   ]
  },
  {
   "cell_type": "markdown",
   "id": "1e11b9a5",
   "metadata": {},
   "source": [
    "<div class=\"alert-info\" style=\"padding: 20px; border-radius: 10px\">\n",
    "<b>Комментарий студента 💎</b>\n",
    "\n",
    "Написать свой комментарий можно, скопировав этот блок в ячейку Markdown.</div>"
   ]
  },
  {
   "cell_type": "markdown",
   "id": "6c0d2287",
   "metadata": {},
   "source": [
    "<div class=\"alert-danger\" style=\"padding: 20px; border-radius: 10px\">\n",
    "<b>Комментарий ревьюера ❌</b>\n",
    "\n",
    "<s>В самом начале проекта обязательно нужно добавлять название, цели исследования, описание данных и план работы.\n",
    "\n",
    "А в конце каждого шага (раздела) работы стоит написать промежуточный вывод.\n",
    "\n",
    "Как правильно оформить проект ты можешь прочитать в материалах курса:\n",
    "\n",
    "`Полезные инструкции для учёбы - Оформление проекта - Рекомендации по выполнению проектов`\n",
    "</div>"
   ]
  },
  {
   "cell_type": "markdown",
   "id": "b24220ef",
   "metadata": {},
   "source": [
    "<div class=\"alert-info\" style=\"padding: 20px; border-radius: 10px\">\n",
    "<b>Комментарий студента 💎</b>\n",
    "\n",
    "Привет, Меня зовут Артем Русаков.</div>"
   ]
  },
  {
   "cell_type": "markdown",
   "id": "36521920",
   "metadata": {},
   "source": [
    "<div class=\"alert-danger\" style=\"padding: 20px; border-radius: 10px\">\n",
    "<b>Комментарий ревьюера V2 ❌</b>\n",
    "\n",
    "<s>Артем, привет! Добавь пожалуйста описание проекта.\n",
    "</div>"
   ]
  },
  {
   "cell_type": "markdown",
   "id": "02bc9f54",
   "metadata": {},
   "source": [
    "# Сервис аренды самокатов GoFast\n",
    "#### Описание проекта\n",
    "Анализ популярного сервиса аренды самокатов GoFast.  \n",
    "Объектом исследования являются данные о некоторых пользователях из нескольких городов, а также об их поездках. \n",
    "Чтобы совершать поездки по городу, пользователи сервиса GoFast пользуются мобильным приложением.   \n",
    "Сервисом можно пользоваться: c подпиской и без.\n",
    "Тарифы подписок указаны в файле subscriptions_go.csv\n",
    "  \n",
    "  **План работ:**  \n",
    "\n",
    "1 Загрузка и ознакомления с данными\n",
    "  \n",
    "  2 Предобработка данных(выявление пропусков, дубликатов итд)\n",
    "  \n",
    "  3 Анализ данных(нахождение зависимостей между данными, наличие аномалий, параметры распределений данных)\n",
    "  \n",
    "  4 Объединение данных в одну таблицу\n",
    "  \n",
    "  5 Проверка гипотез которые могут помочь бизнесу вырасти.\n",
    "  \n",
    "  6 Проверка вероятностного эффекта от проведения акций\n",
    "  \n",
    "  7 Общий вывод\n"
   ]
  },
  {
   "cell_type": "markdown",
   "id": "dec9e668",
   "metadata": {},
   "source": [
    "<div class=\"alert-success\" style=\"border-radius: 10px; padding: 20px\">\n",
    "<b>Комментарий ревьюера V3 ✔️</b>\n",
    "\n",
    "Отлично. 👌</div>"
   ]
  },
  {
   "cell_type": "code",
   "execution_count": 1,
   "id": "72576667",
   "metadata": {},
   "outputs": [],
   "source": [
    "import pandas as pd\n",
    "import seaborn as sns\n",
    "import matplotlib.pyplot as plt\n",
    "import numpy as np\n",
    "from scipy import stats as st\n",
    "from math import factorial, sqrt"
   ]
  },
  {
   "cell_type": "markdown",
   "id": "c42cbe00",
   "metadata": {},
   "source": [
    "#### Шаг 1. Загрузка данных"
   ]
  },
  {
   "cell_type": "code",
   "execution_count": 2,
   "id": "eff9f206",
   "metadata": {
    "scrolled": true
   },
   "outputs": [],
   "source": [
    "с\n",
    "data_rides = pd.read_csv('/datasets/rides_go.csv')\n",
    "data_subscribes = pd.read_csv('/datasets/subscriptions_go.csv')"
   ]
  },
  {
   "cell_type": "markdown",
   "id": "40418ece",
   "metadata": {},
   "source": [
    "Выведем первые 5 строк для ознакомления с данными каждого датафрейма."
   ]
  },
  {
   "cell_type": "code",
   "execution_count": 3,
   "id": "fd80a21a",
   "metadata": {},
   "outputs": [
    {
     "data": {
      "text/html": [
       "<div>\n",
       "<style scoped>\n",
       "    .dataframe tbody tr th:only-of-type {\n",
       "        vertical-align: middle;\n",
       "    }\n",
       "\n",
       "    .dataframe tbody tr th {\n",
       "        vertical-align: top;\n",
       "    }\n",
       "\n",
       "    .dataframe thead th {\n",
       "        text-align: right;\n",
       "    }\n",
       "</style>\n",
       "<table border=\"1\" class=\"dataframe\">\n",
       "  <thead>\n",
       "    <tr style=\"text-align: right;\">\n",
       "      <th></th>\n",
       "      <th>user_id</th>\n",
       "      <th>name</th>\n",
       "      <th>age</th>\n",
       "      <th>city</th>\n",
       "      <th>subscription_type</th>\n",
       "    </tr>\n",
       "  </thead>\n",
       "  <tbody>\n",
       "    <tr>\n",
       "      <th>0</th>\n",
       "      <td>1</td>\n",
       "      <td>Кира</td>\n",
       "      <td>22</td>\n",
       "      <td>Тюмень</td>\n",
       "      <td>ultra</td>\n",
       "    </tr>\n",
       "    <tr>\n",
       "      <th>1</th>\n",
       "      <td>2</td>\n",
       "      <td>Станислав</td>\n",
       "      <td>31</td>\n",
       "      <td>Омск</td>\n",
       "      <td>ultra</td>\n",
       "    </tr>\n",
       "    <tr>\n",
       "      <th>2</th>\n",
       "      <td>3</td>\n",
       "      <td>Алексей</td>\n",
       "      <td>20</td>\n",
       "      <td>Москва</td>\n",
       "      <td>ultra</td>\n",
       "    </tr>\n",
       "    <tr>\n",
       "      <th>3</th>\n",
       "      <td>4</td>\n",
       "      <td>Константин</td>\n",
       "      <td>26</td>\n",
       "      <td>Ростов-на-Дону</td>\n",
       "      <td>ultra</td>\n",
       "    </tr>\n",
       "    <tr>\n",
       "      <th>4</th>\n",
       "      <td>5</td>\n",
       "      <td>Адель</td>\n",
       "      <td>28</td>\n",
       "      <td>Омск</td>\n",
       "      <td>ultra</td>\n",
       "    </tr>\n",
       "  </tbody>\n",
       "</table>\n",
       "</div>"
      ],
      "text/plain": [
       "   user_id        name  age            city subscription_type\n",
       "0        1        Кира   22          Тюмень             ultra\n",
       "1        2   Станислав   31            Омск             ultra\n",
       "2        3     Алексей   20          Москва             ultra\n",
       "3        4  Константин   26  Ростов-на-Дону             ultra\n",
       "4        5       Адель   28            Омск             ultra"
      ]
     },
     "metadata": {},
     "output_type": "display_data"
    },
    {
     "data": {
      "text/html": [
       "<div>\n",
       "<style scoped>\n",
       "    .dataframe tbody tr th:only-of-type {\n",
       "        vertical-align: middle;\n",
       "    }\n",
       "\n",
       "    .dataframe tbody tr th {\n",
       "        vertical-align: top;\n",
       "    }\n",
       "\n",
       "    .dataframe thead th {\n",
       "        text-align: right;\n",
       "    }\n",
       "</style>\n",
       "<table border=\"1\" class=\"dataframe\">\n",
       "  <thead>\n",
       "    <tr style=\"text-align: right;\">\n",
       "      <th></th>\n",
       "      <th>user_id</th>\n",
       "      <th>distance</th>\n",
       "      <th>duration</th>\n",
       "      <th>date</th>\n",
       "    </tr>\n",
       "  </thead>\n",
       "  <tbody>\n",
       "    <tr>\n",
       "      <th>0</th>\n",
       "      <td>1</td>\n",
       "      <td>4409.919140</td>\n",
       "      <td>25.599769</td>\n",
       "      <td>2021-01-01</td>\n",
       "    </tr>\n",
       "    <tr>\n",
       "      <th>1</th>\n",
       "      <td>1</td>\n",
       "      <td>2617.592153</td>\n",
       "      <td>15.816871</td>\n",
       "      <td>2021-01-18</td>\n",
       "    </tr>\n",
       "    <tr>\n",
       "      <th>2</th>\n",
       "      <td>1</td>\n",
       "      <td>754.159807</td>\n",
       "      <td>6.232113</td>\n",
       "      <td>2021-04-20</td>\n",
       "    </tr>\n",
       "    <tr>\n",
       "      <th>3</th>\n",
       "      <td>1</td>\n",
       "      <td>2694.783254</td>\n",
       "      <td>18.511000</td>\n",
       "      <td>2021-08-11</td>\n",
       "    </tr>\n",
       "    <tr>\n",
       "      <th>4</th>\n",
       "      <td>1</td>\n",
       "      <td>4028.687306</td>\n",
       "      <td>26.265803</td>\n",
       "      <td>2021-08-28</td>\n",
       "    </tr>\n",
       "  </tbody>\n",
       "</table>\n",
       "</div>"
      ],
      "text/plain": [
       "   user_id     distance   duration        date\n",
       "0        1  4409.919140  25.599769  2021-01-01\n",
       "1        1  2617.592153  15.816871  2021-01-18\n",
       "2        1   754.159807   6.232113  2021-04-20\n",
       "3        1  2694.783254  18.511000  2021-08-11\n",
       "4        1  4028.687306  26.265803  2021-08-28"
      ]
     },
     "metadata": {},
     "output_type": "display_data"
    },
    {
     "data": {
      "text/html": [
       "<div>\n",
       "<style scoped>\n",
       "    .dataframe tbody tr th:only-of-type {\n",
       "        vertical-align: middle;\n",
       "    }\n",
       "\n",
       "    .dataframe tbody tr th {\n",
       "        vertical-align: top;\n",
       "    }\n",
       "\n",
       "    .dataframe thead th {\n",
       "        text-align: right;\n",
       "    }\n",
       "</style>\n",
       "<table border=\"1\" class=\"dataframe\">\n",
       "  <thead>\n",
       "    <tr style=\"text-align: right;\">\n",
       "      <th></th>\n",
       "      <th>subscription_type</th>\n",
       "      <th>minute_price</th>\n",
       "      <th>start_ride_price</th>\n",
       "      <th>subscription_fee</th>\n",
       "    </tr>\n",
       "  </thead>\n",
       "  <tbody>\n",
       "    <tr>\n",
       "      <th>0</th>\n",
       "      <td>free</td>\n",
       "      <td>8</td>\n",
       "      <td>50</td>\n",
       "      <td>0</td>\n",
       "    </tr>\n",
       "    <tr>\n",
       "      <th>1</th>\n",
       "      <td>ultra</td>\n",
       "      <td>6</td>\n",
       "      <td>0</td>\n",
       "      <td>199</td>\n",
       "    </tr>\n",
       "  </tbody>\n",
       "</table>\n",
       "</div>"
      ],
      "text/plain": [
       "  subscription_type  minute_price  start_ride_price  subscription_fee\n",
       "0              free             8                50                 0\n",
       "1             ultra             6                 0               199"
      ]
     },
     "metadata": {},
     "output_type": "display_data"
    }
   ],
   "source": [
    "display(data_users.head())\n",
    "display(data_rides.head())\n",
    "display(data_subscribes.head())"
   ]
  },
  {
   "cell_type": "markdown",
   "id": "dc59a814",
   "metadata": {},
   "source": [
    "<div class=\"alert-warning\" style=\"padding: 20px; border-radius: 10px\">\n",
    "<b>Комментарий ревьюера ⚠️</b>\n",
    "\n",
    "<s>Для вывода таблиц в Jupyter Notebook, стоит использовать функцию `display()` вместо `print()`.\n",
    "\n",
    "А если вывод таблицы в последней строке ячейки Jupyter Notebook, можно вообще эти функции не использовать.</div>"
   ]
  },
  {
   "cell_type": "markdown",
   "id": "380d4a50",
   "metadata": {},
   "source": [
    "Общая гистограмма для всех числовых столбцов таблиц"
   ]
  },
  {
   "cell_type": "code",
   "execution_count": 4,
   "id": "f078ac16",
   "metadata": {
    "scrolled": false
   },
   "outputs": [
    {
     "data": {
      "image/png": "[encoded data removed]",
      "text/plain": [
       "<Figure size 1080x1440 with 2 Axes>"
      ]
     },
     "metadata": {
      "needs_background": "light"
     },
     "output_type": "display_data"
    },
    {
     "data": {
      "image/png": "[encoded data removed]",
      "text/plain": [
       "<Figure size 1080x1440 with 4 Axes>"
      ]
     },
     "metadata": {
      "needs_background": "light"
     },
     "output_type": "display_data"
    }
   ],
   "source": [
    "data_users.hist(figsize=(15, 20))\n",
    "data_rides.hist(figsize=(15, 20))\n",
    "plt.show()"
   ]
  },
  {
   "cell_type": "code",
   "execution_count": 5,
   "id": "3935df3f",
   "metadata": {},
   "outputs": [
    {
     "name": "stdout",
     "output_type": "stream",
     "text": [
      "<class 'pandas.core.frame.DataFrame'>\n",
      "RangeIndex: 1565 entries, 0 to 1564\n",
      "Data columns (total 5 columns):\n",
      " #   Column             Non-Null Count  Dtype \n",
      "---  ------             --------------  ----- \n",
      " 0   user_id            1565 non-null   int64 \n",
      " 1   name               1565 non-null   object\n",
      " 2   age                1565 non-null   int64 \n",
      " 3   city               1565 non-null   object\n",
      " 4   subscription_type  1565 non-null   object\n",
      "dtypes: int64(2), object(3)\n",
      "memory usage: 61.3+ KB\n",
      "<class 'pandas.core.frame.DataFrame'>\n",
      "RangeIndex: 18068 entries, 0 to 18067\n",
      "Data columns (total 4 columns):\n",
      " #   Column    Non-Null Count  Dtype  \n",
      "---  ------    --------------  -----  \n",
      " 0   user_id   18068 non-null  int64  \n",
      " 1   distance  18068 non-null  float64\n",
      " 2   duration  18068 non-null  float64\n",
      " 3   date      18068 non-null  object \n",
      "dtypes: float64(2), int64(1), object(1)\n",
      "memory usage: 564.8+ KB\n"
     ]
    }
   ],
   "source": [
    "data_users.info()\n",
    "data_rides.info()"
   ]
  },
  {
   "cell_type": "markdown",
   "id": "020ee882",
   "metadata": {},
   "source": [
    "<div class=\"alert-success\" style=\"padding: 20px; border-radius: 10px\">\n",
    "<b>Комментарий ревьюера ✔️</b>\n",
    "\n",
    "Данные загружены верно, получена общая информация о датафреймах. 🚀</div>"
   ]
  },
  {
   "cell_type": "markdown",
   "id": "46cd6a9a",
   "metadata": {},
   "source": [
    "<div class=\"alert-warning\" style=\"padding: 20px; border-radius: 10px\">\n",
    "<b>Комментарий ревьюера ⚠️</b>\n",
    "\n",
    "<s>Какой можно сделать промежуточный вывод по первичному знакомству с данными?</div>"
   ]
  },
  {
   "cell_type": "markdown",
   "id": "bf9d9987",
   "metadata": {},
   "source": [
    "<div class=\"alert-info\" style=\"padding: 20px; border-radius: 10px\">\n",
    "<b>Комментарий студента 💎</b>\n",
    "\n",
    "По типу данных столбцы первых двух датафреймов делятся:  \n",
    "-Категориальные: name, city, subscription_type.  \n",
    "-Количественные: age, distance, duration, date.\n",
    "\n",
    "В датафрейме subscription содержится информация по тарифам с подпиской и без.</div>"
   ]
  },
  {
   "cell_type": "markdown",
   "id": "c9f35635",
   "metadata": {},
   "source": [
    "<div class=\"alert-success\" style=\"border-radius: 10px; padding: 20px\">\n",
    "<b>Комментарий ревьюера V2 ✔️</b>\n",
    "\n",
    "Супер! Можно также добавить информацию о размерах датафреймов, какие есть проблемы, набросать план по предобработке.</div>"
   ]
  },
  {
   "cell_type": "markdown",
   "id": "e95ebca7",
   "metadata": {},
   "source": [
    "#### Шаг 2. Предобработка данных"
   ]
  },
  {
   "cell_type": "markdown",
   "id": "4170876e",
   "metadata": {},
   "source": [
    "Приведем столбец date к типу даты pandas"
   ]
  },
  {
   "cell_type": "code",
   "execution_count": 6,
   "id": "af6d202c",
   "metadata": {},
   "outputs": [],
   "source": [
    "data_rides['date'] =  pd.to_datetime(data_rides['date'], format='%Y-%m-%d')"
   ]
  },
  {
   "cell_type": "markdown",
   "id": "322dc8f7",
   "metadata": {},
   "source": [
    "Создадим дополнительный столбец с номером месяца "
   ]
  },
  {
   "cell_type": "code",
   "execution_count": 7,
   "id": "5c579361",
   "metadata": {},
   "outputs": [
    {
     "data": {
      "text/html": [
       "<div>\n",
       "<style scoped>\n",
       "    .dataframe tbody tr th:only-of-type {\n",
       "        vertical-align: middle;\n",
       "    }\n",
       "\n",
       "    .dataframe tbody tr th {\n",
       "        vertical-align: top;\n",
       "    }\n",
       "\n",
       "    .dataframe thead th {\n",
       "        text-align: right;\n",
       "    }\n",
       "</style>\n",
       "<table border=\"1\" class=\"dataframe\">\n",
       "  <thead>\n",
       "    <tr style=\"text-align: right;\">\n",
       "      <th></th>\n",
       "      <th>user_id</th>\n",
       "      <th>distance</th>\n",
       "      <th>duration</th>\n",
       "      <th>date</th>\n",
       "      <th>month</th>\n",
       "    </tr>\n",
       "  </thead>\n",
       "  <tbody>\n",
       "    <tr>\n",
       "      <th>0</th>\n",
       "      <td>1</td>\n",
       "      <td>4409.919140</td>\n",
       "      <td>25.599769</td>\n",
       "      <td>2021-01-01</td>\n",
       "      <td>1</td>\n",
       "    </tr>\n",
       "    <tr>\n",
       "      <th>1</th>\n",
       "      <td>1</td>\n",
       "      <td>2617.592153</td>\n",
       "      <td>15.816871</td>\n",
       "      <td>2021-01-18</td>\n",
       "      <td>1</td>\n",
       "    </tr>\n",
       "    <tr>\n",
       "      <th>2</th>\n",
       "      <td>1</td>\n",
       "      <td>754.159807</td>\n",
       "      <td>6.232113</td>\n",
       "      <td>2021-04-20</td>\n",
       "      <td>4</td>\n",
       "    </tr>\n",
       "    <tr>\n",
       "      <th>3</th>\n",
       "      <td>1</td>\n",
       "      <td>2694.783254</td>\n",
       "      <td>18.511000</td>\n",
       "      <td>2021-08-11</td>\n",
       "      <td>8</td>\n",
       "    </tr>\n",
       "    <tr>\n",
       "      <th>4</th>\n",
       "      <td>1</td>\n",
       "      <td>4028.687306</td>\n",
       "      <td>26.265803</td>\n",
       "      <td>2021-08-28</td>\n",
       "      <td>8</td>\n",
       "    </tr>\n",
       "  </tbody>\n",
       "</table>\n",
       "</div>"
      ],
      "text/plain": [
       "   user_id     distance   duration       date  month\n",
       "0        1  4409.919140  25.599769 2021-01-01      1\n",
       "1        1  2617.592153  15.816871 2021-01-18      1\n",
       "2        1   754.159807   6.232113 2021-04-20      4\n",
       "3        1  2694.783254  18.511000 2021-08-11      8\n",
       "4        1  4028.687306  26.265803 2021-08-28      8"
      ]
     },
     "metadata": {},
     "output_type": "display_data"
    },
    {
     "name": "stdout",
     "output_type": "stream",
     "text": [
      "Данные представлены за период от 2021-01 до 2021-12\n"
     ]
    }
   ],
   "source": [
    "data_rides['month'] = data_rides['date'].dt.month\n",
    "#def make_month(row):\n",
    "#    row[4] = row[3].month\n",
    "#    return row\n",
    "#data_rides = data_rides.apply(make_month,axis=1)\n",
    "\n",
    "display(data_rides.head())\n",
    "\n",
    "\n",
    "print(f\"Данные представлены за период от {data_rides['date'].dt.to_period('M').min()} до {data_rides['date'].dt.to_period('M').max()}\")"
   ]
  },
  {
   "cell_type": "markdown",
   "id": "e7292739",
   "metadata": {},
   "source": [
    "<div class=\"alert-warning\" style=\"padding: 20px; border-radius: 10px\">\n",
    "<b>Комментарий ревьюера ⚠️</b>\n",
    "    \n",
    "<s>Вытащить месяц из даты можно так:\n",
    "    \n",
    "```py\n",
    "df['month'] = df['date'].dt.month\n",
    "```\n",
    "\n",
    "На этом этапе также можно проверить за какой период у нас данные.</div>"
   ]
  },
  {
   "cell_type": "markdown",
   "id": "4163e073",
   "metadata": {},
   "source": [
    "Проверим пропуски в данных data_users и data_rides"
   ]
  },
  {
   "cell_type": "code",
   "execution_count": 8,
   "id": "956700b8",
   "metadata": {},
   "outputs": [
    {
     "name": "stdout",
     "output_type": "stream",
     "text": [
      "user_id              0\n",
      "name                 0\n",
      "age                  0\n",
      "city                 0\n",
      "subscription_type    0\n",
      "dtype: int64\n",
      "user_id     0\n",
      "distance    0\n",
      "duration    0\n",
      "date        0\n",
      "month       0\n",
      "dtype: int64\n"
     ]
    }
   ],
   "source": [
    "print(data_users.isna().sum())\n",
    "print(data_rides.isna().sum())"
   ]
  },
  {
   "cell_type": "markdown",
   "id": "d5168091",
   "metadata": {},
   "source": [
    "<div class=\"alert-info\" style=\"padding: 20px; border-radius: 10px\">\n",
    "Проверим дубликаты в датафреймах data_users и data_rides\n",
    "    </div>"
   ]
  },
  {
   "cell_type": "code",
   "execution_count": 9,
   "id": "5a6e8b5b",
   "metadata": {},
   "outputs": [
    {
     "data": {
      "text/plain": [
       "False    1534\n",
       "True       31\n",
       "dtype: int64"
      ]
     },
     "metadata": {},
     "output_type": "display_data"
    },
    {
     "data": {
      "text/plain": [
       "False    18068\n",
       "dtype: int64"
      ]
     },
     "metadata": {},
     "output_type": "display_data"
    }
   ],
   "source": [
    "display(data_users.duplicated().value_counts())\n",
    "display(data_rides.duplicated().value_counts())"
   ]
  },
  {
   "cell_type": "markdown",
   "id": "201ceba0",
   "metadata": {},
   "source": [
    "<div class=\"alert-info\" style=\"padding: 20px; border-radius: 10px\">\n",
    "В data_users содержится 31 явных дубликатов, удалим их.\n",
    "</div>"
   ]
  },
  {
   "cell_type": "code",
   "execution_count": 10,
   "id": "c547ac3f",
   "metadata": {
    "scrolled": true
   },
   "outputs": [
    {
     "data": {
      "text/plain": [
       "False    1534\n",
       "dtype: int64"
      ]
     },
     "metadata": {},
     "output_type": "display_data"
    }
   ],
   "source": [
    "data_users.drop_duplicates(inplace = True)\n",
    "display(data_users.duplicated().value_counts())"
   ]
  },
  {
   "cell_type": "markdown",
   "id": "e469fca6",
   "metadata": {},
   "source": [
    "<div class=\"alert-warning\" style=\"padding: 20px; border-radius: 10px\">\n",
    "<b>Комментарий ревьюера ⚠️</b>\n",
    "\n",
    "<s>А почему ты считаешь, что в данных были дубликаты? Перед удалением, хорошо бы удостовериться что дубликаты присутствуют.</div>"
   ]
  },
  {
   "cell_type": "markdown",
   "id": "1ceeae3e",
   "metadata": {},
   "source": [
    "<div class=\"alert-danger\"  style=\"padding: 20px; border-radius: 10px\">\n",
    "<b>Комментарий ревьюера ❌</b>\n",
    "\n",
    "<s>Чтобы удалить дубликаты, нужно перезаписать датафрейм или использовать параметр `inplace = True` в методе `drop_duplicates()`\n",
    "    \n",
    "\n",
    "</div>"
   ]
  },
  {
   "cell_type": "code",
   "execution_count": 11,
   "id": "1fa8ad5a",
   "metadata": {},
   "outputs": [
    {
     "data": {
      "text/plain": [
       "0"
      ]
     },
     "execution_count": 11,
     "metadata": {},
     "output_type": "execute_result"
    }
   ],
   "source": [
    "# Код ревьюера\n",
    "data_users.duplicated().sum()"
   ]
  },
  {
   "cell_type": "markdown",
   "id": "83d5a5dc",
   "metadata": {},
   "source": [
    "<div class=\"alert-success\" style=\"padding: 20px; border-radius: 10px\">\n",
    "<b>Комментарий ревьюера V2 ✔️</b>\n",
    "\n",
    "Дубликаты обработаны правильно.</div>"
   ]
  },
  {
   "cell_type": "markdown",
   "id": "212593c7",
   "metadata": {},
   "source": [
    "#### Шаг 3. Исследовательский анализ данных"
   ]
  },
  {
   "cell_type": "markdown",
   "id": "d6e55c8b",
   "metadata": {},
   "source": [
    "##### Частота встречаемости городов"
   ]
  },
  {
   "cell_type": "code",
   "execution_count": 12,
   "id": "e3a4274c",
   "metadata": {
    "scrolled": false
   },
   "outputs": [
    {
     "data": {
      "text/plain": [
       "Пятигорск         219\n",
       "Екатеринбург      204\n",
       "Ростов-на-Дону    198\n",
       "Краснодар         193\n",
       "Сочи              189\n",
       "Омск              183\n",
       "Тюмень            180\n",
       "Москва            168\n",
       "Name: city, dtype: int64"
      ]
     },
     "metadata": {},
     "output_type": "display_data"
    },
    {
     "data": {
      "image/png": "[encoded data removed]",
      "text/plain": [
       "<Figure size 432x288 with 1 Axes>"
      ]
     },
     "metadata": {
      "needs_background": "light"
     },
     "output_type": "display_data"
    }
   ],
   "source": [
    "data_users_city = data_users['city'].value_counts()\n",
    "display(data_users_city)\n",
    "data_users_city.sort_values(ascending=True).plot(kind='barh',grid=True, legend = False)\n",
    "plt.title('Частота встречаемости городов', fontsize= 20)\n",
    "plt.ylabel('Город')\n",
    "plt.xlabel('Количество поездок')\n",
    "pd.options.mode.chained_assignment = None\n"
   ]
  },
  {
   "cell_type": "markdown",
   "id": "4dc33371",
   "metadata": {},
   "source": [
    "<div class=\"alert-warning\" style=\"padding: 20px; border-radius: 10px\">\n",
    "<b>Комментарий ревьюера ⚠️</b>\n",
    "\n",
    "<s>Этот график можно немного доработать:\n",
    "\n",
    "- отсортировать категории по убыванию\n",
    "- добавить название\n",
    "\n",
    "Также можно либо развернуть график на 90 градусов (тип графика `barh`) или развернуть подписи к оси Х (параметром `rot=`)</div>"
   ]
  },
  {
   "cell_type": "markdown",
   "id": "26adcdff",
   "metadata": {},
   "source": [
    "Самый популярный город Пятигорск - 219 пользователей. Меньше всего пользователей в Москве - 168"
   ]
  },
  {
   "cell_type": "markdown",
   "id": "38cc2e04",
   "metadata": {},
   "source": [
    "##### Соотношение пользователей с подпиской и без "
   ]
  },
  {
   "cell_type": "code",
   "execution_count": 13,
   "id": "6e5ad9de",
   "metadata": {},
   "outputs": [
    {
     "name": "stdout",
     "output_type": "stream",
     "text": [
      "free     835\n",
      "ultra    699\n",
      "Name: subscription_type, dtype: int64\n"
     ]
    }
   ],
   "source": [
    "print(data_users['subscription_type'].value_counts())"
   ]
  },
  {
   "cell_type": "code",
   "execution_count": 14,
   "id": "af5ac635",
   "metadata": {},
   "outputs": [
    {
     "data": {
      "image/png": "[encoded data removed]",
      "text/plain": [
       "<Figure size 432x288 with 1 Axes>"
      ]
     },
     "metadata": {},
     "output_type": "display_data"
    }
   ],
   "source": [
    "data_users.groupby(['subscription_type']).count().plot(kind='pie', y = 'user_id', autopct='%1.0f%%')\n",
    "plt.title('Соотношение пользователей с подпиской и без ', fontsize= 15)\n",
    "plt.show()"
   ]
  },
  {
   "cell_type": "markdown",
   "id": "9fd559a2",
   "metadata": {},
   "source": [
    "Количество пользователей без подписки(835) немного меньше чем с подпиской(699)."
   ]
  },
  {
   "cell_type": "markdown",
   "id": "eb8879aa",
   "metadata": {},
   "source": [
    "<div class=\"alert-danger\" style=\"padding: 20px; border-radius: 10px\">\n",
    "<b>Комментарий ревьюера ❌</b>\n",
    "\n",
    "<s>Не посчитано соотношение пользователей с подпиской и без (в долях или процентах от целого).\n",
    "</div>"
   ]
  },
  {
   "cell_type": "markdown",
   "id": "d86f34a8",
   "metadata": {},
   "source": [
    "<div class=\"alert-info\" style=\"padding: 20px; border-radius: 10px\">\n",
    "<b>Комментарий студента 💎</b>\n",
    "\n",
    "Добавил проценты на график.</div>"
   ]
  },
  {
   "cell_type": "markdown",
   "id": "6bb5dcb3",
   "metadata": {},
   "source": [
    "<div class=\"alert-success\" style=\"padding: 20px; border-radius: 10px\">\n",
    "<b>Комментарий ревьюера V2 ✔️</b>\n",
    "\n",
    "Теперь всё отлично! 👍</div>"
   ]
  },
  {
   "cell_type": "markdown",
   "id": "7a9cb745",
   "metadata": {},
   "source": [
    "##### Возраст пользователей"
   ]
  },
  {
   "cell_type": "code",
   "execution_count": 15,
   "id": "fe0ad487",
   "metadata": {},
   "outputs": [
    {
     "data": {
      "text/plain": [
       "count    1534.000000\n",
       "mean       24.903520\n",
       "std         4.572367\n",
       "min        12.000000\n",
       "25%        22.000000\n",
       "50%        25.000000\n",
       "75%        28.000000\n",
       "max        43.000000\n",
       "Name: age, dtype: float64"
      ]
     },
     "metadata": {},
     "output_type": "display_data"
    },
    {
     "data": {
      "image/png": "[encoded data removed]",
      "text/plain": [
       "<Figure size 432x288 with 1 Axes>"
      ]
     },
     "metadata": {
      "needs_background": "light"
     },
     "output_type": "display_data"
    }
   ],
   "source": [
    "display(data_users['age'].describe())\n",
    "\n",
    "data_users.pivot_table(index='age', values='user_id', aggfunc=['count']).plot(kind='bar',grid=True, legend = False)\n",
    "plt.ylabel('Количество пользователей')\n",
    "plt.xlabel('Возраст')\n",
    "pd.options.mode.chained_assignment = None"
   ]
  },
  {
   "cell_type": "markdown",
   "id": "078e8df0",
   "metadata": {},
   "source": [
    "График принимает вид нормального распределения. Самый распространенный возраст 25 лет."
   ]
  },
  {
   "cell_type": "markdown",
   "id": "742f72ba",
   "metadata": {},
   "source": [
    "<div class=\"alert-warning\" style=\"border-radius: 10px; padding: 20px\">\n",
    "<b>Комментарий ревьюера V2 ⚠️</b>\n",
    "\n",
    "Для визуализации распределения стоит использовать гистограмму. 👇\n",
    "</div>"
   ]
  },
  {
   "cell_type": "code",
   "execution_count": 16,
   "id": "d31632c4",
   "metadata": {},
   "outputs": [
    {
     "data": {
      "image/png": "[encoded data removed]",
      "text/plain": [
       "<Figure size 864x360 with 1 Axes>"
      ]
     },
     "metadata": {
      "needs_background": "light"
     },
     "output_type": "display_data"
    }
   ],
   "source": [
    "# Код ревьюера\n",
    "plt.figure(figsize = (12, 5))\n",
    "data_users['age'].hist(bins = max(data_users['age']))\n",
    "plt.show()"
   ]
  },
  {
   "cell_type": "markdown",
   "id": "20b361bd",
   "metadata": {},
   "source": [
    "##### Расстояние, которое пользователь преодолел за одну поездку"
   ]
  },
  {
   "cell_type": "code",
   "execution_count": 17,
   "id": "932a33b1",
   "metadata": {},
   "outputs": [
    {
     "data": {
      "text/plain": [
       "count    18068.000000\n",
       "mean      3070.659976\n",
       "std       1116.831209\n",
       "min          0.855683\n",
       "25%       2543.226360\n",
       "50%       3133.609994\n",
       "75%       3776.222735\n",
       "max       7211.007745\n",
       "Name: distance, dtype: float64"
      ]
     },
     "metadata": {},
     "output_type": "display_data"
    },
    {
     "data": {
      "image/png": "[encoded data removed]",
      "text/plain": [
       "<Figure size 720x576 with 1 Axes>"
      ]
     },
     "metadata": {
      "needs_background": "light"
     },
     "output_type": "display_data"
    }
   ],
   "source": [
    "display(data_rides['distance'].describe())\n",
    "data_rides['distance'].hist(figsize=(10, 8), bins=100)\n",
    "plt.xlabel('Дистанция, м')\n",
    "pd.options.mode.chained_assignment = None"
   ]
  },
  {
   "cell_type": "markdown",
   "id": "d9e630e2",
   "metadata": {},
   "source": [
    "Есть небольшая группа пользователей, длительная поездка которых составляет то 1,5км. Скорее всего это расстояние от метро до конечной или начальной точки.\n",
    "Самое распространенное расстояние около 3км.\n",
    "\n",
    "<div class=\"alert-info\" style=\"padding: 20px; border-radius: 10px\">\n",
    "<b>Комментарий студента 💎</b>\n",
    "\n",
    "Минимальное расстояние 0.85км. Основной диапазон значений от 2.5км до 3.8км</div>"
   ]
  },
  {
   "cell_type": "markdown",
   "id": "99e2f44f",
   "metadata": {},
   "source": [
    "<div class=\"alert-success\" style=\"border-radius: 10px; padding: 20px\">\n",
    "<b>Комментарий ревьюера V2 ✔️</b>\n",
    "\n",
    "Да, судя по графику поездки можно поделить на короткие и длинные.</div>"
   ]
  },
  {
   "cell_type": "markdown",
   "id": "bcfdf664",
   "metadata": {},
   "source": [
    "\n",
    "##### Продолжительность поездок"
   ]
  },
  {
   "cell_type": "code",
   "execution_count": 18,
   "id": "801035f2",
   "metadata": {},
   "outputs": [
    {
     "data": {
      "text/plain": [
       "count    18068.000000\n",
       "mean        17.805011\n",
       "std          6.091051\n",
       "min          0.500000\n",
       "25%         13.597563\n",
       "50%         17.678395\n",
       "75%         21.724800\n",
       "max         40.823963\n",
       "Name: duration, dtype: float64"
      ]
     },
     "metadata": {},
     "output_type": "display_data"
    },
    {
     "data": {
      "text/plain": [
       "<AxesSubplot:>"
      ]
     },
     "execution_count": 18,
     "metadata": {},
     "output_type": "execute_result"
    },
    {
     "data": {
      "image/png": "[encoded data removed]",
      "text/plain": [
       "<Figure size 720x576 with 1 Axes>"
      ]
     },
     "metadata": {
      "needs_background": "light"
     },
     "output_type": "display_data"
    }
   ],
   "source": [
    "display(data_rides['duration'].describe())\n",
    "data_rides['duration'].hist(figsize=(10, 8), bins=100)"
   ]
  },
  {
   "cell_type": "markdown",
   "id": "94129988",
   "metadata": {},
   "source": [
    "Есть выброс в околонулевых значениях. Возможно это отмененные поездки. \n",
    "<div class=\"alert-info\" style=\"padding: 20px; border-radius: 10px\">\n",
    "Минимальное значение 0.5мин, возможно это ошибка в данных так как много одинаковых значений, проверим их количество</div>"
   ]
  },
  {
   "cell_type": "code",
   "execution_count": 19,
   "id": "a163febf",
   "metadata": {},
   "outputs": [
    {
     "name": "stdout",
     "output_type": "stream",
     "text": [
      "Аномалии составляют: 0.53 % от всей выборки.\n"
     ]
    }
   ],
   "source": [
    "data_anomaly = data_rides[data_rides['duration'] == 0.5].shape[0]\n",
    "print(f'Аномалии составляют: {round(data_anomaly/len(data_rides)*100, 2)} % от всей выборки.')"
   ]
  },
  {
   "cell_type": "markdown",
   "id": "0547051e",
   "metadata": {},
   "source": [
    "<div class=\"alert-info\" style=\"padding: 20px; border-radius: 10px\">\n",
    "<b>Комментарий студента V2💎</b>\n",
    "    \n",
    "Так как количество аномалий мало относительно всей выборки и плата за эти поездки была списана(что может повлиять на расчет выручки в далбнейшем) удалять эти данные из датафрейма не будем\n",
    "</div>"
   ]
  },
  {
   "cell_type": "code",
   "execution_count": 20,
   "id": "4c4ed96a",
   "metadata": {},
   "outputs": [],
   "source": [
    "#data_rides = data_rides[data_rides['duration'] != 0.5]\n",
    "#display(data_rides['duration'].describe())\n",
    "#data_rides['duration'].hist(figsize=(10, 8), bins=100)"
   ]
  },
  {
   "cell_type": "markdown",
   "id": "8e39a8e2",
   "metadata": {},
   "source": [
    "<div class=\"alert-danger\" style=\"padding: 20px; border-radius: 10px\">\n",
    "<b>Комментарий ревьюера V2 ❌</b>\n",
    "\n",
    "<s>Я согласен с тобой, что суперкороткие поездки кажутся выбросами. Обратить на это внимание стоит, но удалять - нет. За эти поездки была начислена плата. Дальше мы будем считать выручку по пользователям за месяц и удаление части данных может повлиять на финансовый результат.\n",
    "</div>"
   ]
  },
  {
   "cell_type": "markdown",
   "id": "4b57c70d",
   "metadata": {},
   "source": [
    "<div class=\"alert-info\" style=\"padding: 20px; border-radius: 10px\">\n",
    "<b>Комментарий студента 💎</b>\n",
    "\n",
    "Среднее время поездок составляет 17мин, максимальное 40 мин, минимальное 0.5 мин\n",
    "Основной диапазон значений от 13 до 22 мин</div>"
   ]
  },
  {
   "cell_type": "markdown",
   "id": "78925a66",
   "metadata": {},
   "source": [
    "<div class=\"alert-danger\" style=\"padding: 20px; border-radius: 10px\">\n",
    "<b>Комментарий ревьюера ❌</b>\n",
    "\n",
    "<s>Стоит более подробно описать все распределения данных: основной диапазон, минимум, максимум, наличие аномалий.\n",
    "\n",
    "Рассчитать описательные статистики можно с помощью метода `describe()`\n",
    "</div>"
   ]
  },
  {
   "cell_type": "markdown",
   "id": "4ef51331",
   "metadata": {},
   "source": [
    "#### Шаг 4. Объединение данных"
   ]
  },
  {
   "cell_type": "markdown",
   "id": "e102fd6b",
   "metadata": {},
   "source": [
    "##### Добавим датафрейм data_rides к data_users"
   ]
  },
  {
   "cell_type": "code",
   "execution_count": 21,
   "id": "6bf288b5",
   "metadata": {},
   "outputs": [
    {
     "data": {
      "text/html": [
       "<div>\n",
       "<style scoped>\n",
       "    .dataframe tbody tr th:only-of-type {\n",
       "        vertical-align: middle;\n",
       "    }\n",
       "\n",
       "    .dataframe tbody tr th {\n",
       "        vertical-align: top;\n",
       "    }\n",
       "\n",
       "    .dataframe thead th {\n",
       "        text-align: right;\n",
       "    }\n",
       "</style>\n",
       "<table border=\"1\" class=\"dataframe\">\n",
       "  <thead>\n",
       "    <tr style=\"text-align: right;\">\n",
       "      <th></th>\n",
       "      <th>user_id</th>\n",
       "      <th>name</th>\n",
       "      <th>age</th>\n",
       "      <th>city</th>\n",
       "      <th>subscription_type</th>\n",
       "      <th>distance</th>\n",
       "      <th>duration</th>\n",
       "      <th>date</th>\n",
       "      <th>month</th>\n",
       "    </tr>\n",
       "  </thead>\n",
       "  <tbody>\n",
       "    <tr>\n",
       "      <th>0</th>\n",
       "      <td>1</td>\n",
       "      <td>Кира</td>\n",
       "      <td>22</td>\n",
       "      <td>Тюмень</td>\n",
       "      <td>ultra</td>\n",
       "      <td>4409.919140</td>\n",
       "      <td>25.599769</td>\n",
       "      <td>2021-01-01</td>\n",
       "      <td>1</td>\n",
       "    </tr>\n",
       "    <tr>\n",
       "      <th>1</th>\n",
       "      <td>1</td>\n",
       "      <td>Кира</td>\n",
       "      <td>22</td>\n",
       "      <td>Тюмень</td>\n",
       "      <td>ultra</td>\n",
       "      <td>2617.592153</td>\n",
       "      <td>15.816871</td>\n",
       "      <td>2021-01-18</td>\n",
       "      <td>1</td>\n",
       "    </tr>\n",
       "    <tr>\n",
       "      <th>2</th>\n",
       "      <td>1</td>\n",
       "      <td>Кира</td>\n",
       "      <td>22</td>\n",
       "      <td>Тюмень</td>\n",
       "      <td>ultra</td>\n",
       "      <td>754.159807</td>\n",
       "      <td>6.232113</td>\n",
       "      <td>2021-04-20</td>\n",
       "      <td>4</td>\n",
       "    </tr>\n",
       "    <tr>\n",
       "      <th>3</th>\n",
       "      <td>1</td>\n",
       "      <td>Кира</td>\n",
       "      <td>22</td>\n",
       "      <td>Тюмень</td>\n",
       "      <td>ultra</td>\n",
       "      <td>2694.783254</td>\n",
       "      <td>18.511000</td>\n",
       "      <td>2021-08-11</td>\n",
       "      <td>8</td>\n",
       "    </tr>\n",
       "    <tr>\n",
       "      <th>4</th>\n",
       "      <td>1</td>\n",
       "      <td>Кира</td>\n",
       "      <td>22</td>\n",
       "      <td>Тюмень</td>\n",
       "      <td>ultra</td>\n",
       "      <td>4028.687306</td>\n",
       "      <td>26.265803</td>\n",
       "      <td>2021-08-28</td>\n",
       "      <td>8</td>\n",
       "    </tr>\n",
       "    <tr>\n",
       "      <th>5</th>\n",
       "      <td>1</td>\n",
       "      <td>Кира</td>\n",
       "      <td>22</td>\n",
       "      <td>Тюмень</td>\n",
       "      <td>ultra</td>\n",
       "      <td>2770.890808</td>\n",
       "      <td>16.650138</td>\n",
       "      <td>2021-10-09</td>\n",
       "      <td>10</td>\n",
       "    </tr>\n",
       "    <tr>\n",
       "      <th>6</th>\n",
       "      <td>1</td>\n",
       "      <td>Кира</td>\n",
       "      <td>22</td>\n",
       "      <td>Тюмень</td>\n",
       "      <td>ultra</td>\n",
       "      <td>3039.020292</td>\n",
       "      <td>14.927879</td>\n",
       "      <td>2021-10-19</td>\n",
       "      <td>10</td>\n",
       "    </tr>\n",
       "    <tr>\n",
       "      <th>7</th>\n",
       "      <td>1</td>\n",
       "      <td>Кира</td>\n",
       "      <td>22</td>\n",
       "      <td>Тюмень</td>\n",
       "      <td>ultra</td>\n",
       "      <td>2842.118050</td>\n",
       "      <td>23.117468</td>\n",
       "      <td>2021-11-06</td>\n",
       "      <td>11</td>\n",
       "    </tr>\n",
       "    <tr>\n",
       "      <th>8</th>\n",
       "      <td>1</td>\n",
       "      <td>Кира</td>\n",
       "      <td>22</td>\n",
       "      <td>Тюмень</td>\n",
       "      <td>ultra</td>\n",
       "      <td>3412.690668</td>\n",
       "      <td>15.238072</td>\n",
       "      <td>2021-11-14</td>\n",
       "      <td>11</td>\n",
       "    </tr>\n",
       "    <tr>\n",
       "      <th>9</th>\n",
       "      <td>1</td>\n",
       "      <td>Кира</td>\n",
       "      <td>22</td>\n",
       "      <td>Тюмень</td>\n",
       "      <td>ultra</td>\n",
       "      <td>748.690645</td>\n",
       "      <td>15.041884</td>\n",
       "      <td>2021-11-22</td>\n",
       "      <td>11</td>\n",
       "    </tr>\n",
       "    <tr>\n",
       "      <th>10</th>\n",
       "      <td>1</td>\n",
       "      <td>Кира</td>\n",
       "      <td>22</td>\n",
       "      <td>Тюмень</td>\n",
       "      <td>ultra</td>\n",
       "      <td>4031.020195</td>\n",
       "      <td>17.674448</td>\n",
       "      <td>2021-12-14</td>\n",
       "      <td>12</td>\n",
       "    </tr>\n",
       "    <tr>\n",
       "      <th>11</th>\n",
       "      <td>1</td>\n",
       "      <td>Кира</td>\n",
       "      <td>22</td>\n",
       "      <td>Тюмень</td>\n",
       "      <td>ultra</td>\n",
       "      <td>2720.609748</td>\n",
       "      <td>9.529463</td>\n",
       "      <td>2021-12-22</td>\n",
       "      <td>12</td>\n",
       "    </tr>\n",
       "    <tr>\n",
       "      <th>12</th>\n",
       "      <td>2</td>\n",
       "      <td>Станислав</td>\n",
       "      <td>31</td>\n",
       "      <td>Омск</td>\n",
       "      <td>ultra</td>\n",
       "      <td>3105.086678</td>\n",
       "      <td>24.307514</td>\n",
       "      <td>2021-03-15</td>\n",
       "      <td>3</td>\n",
       "    </tr>\n",
       "    <tr>\n",
       "      <th>13</th>\n",
       "      <td>2</td>\n",
       "      <td>Станислав</td>\n",
       "      <td>31</td>\n",
       "      <td>Омск</td>\n",
       "      <td>ultra</td>\n",
       "      <td>3053.519401</td>\n",
       "      <td>11.543256</td>\n",
       "      <td>2021-03-18</td>\n",
       "      <td>3</td>\n",
       "    </tr>\n",
       "    <tr>\n",
       "      <th>14</th>\n",
       "      <td>2</td>\n",
       "      <td>Станислав</td>\n",
       "      <td>31</td>\n",
       "      <td>Омск</td>\n",
       "      <td>ultra</td>\n",
       "      <td>4029.116927</td>\n",
       "      <td>25.109188</td>\n",
       "      <td>2021-03-23</td>\n",
       "      <td>3</td>\n",
       "    </tr>\n",
       "    <tr>\n",
       "      <th>15</th>\n",
       "      <td>2</td>\n",
       "      <td>Станислав</td>\n",
       "      <td>31</td>\n",
       "      <td>Омск</td>\n",
       "      <td>ultra</td>\n",
       "      <td>2805.786329</td>\n",
       "      <td>20.652145</td>\n",
       "      <td>2021-04-08</td>\n",
       "      <td>4</td>\n",
       "    </tr>\n",
       "    <tr>\n",
       "      <th>16</th>\n",
       "      <td>2</td>\n",
       "      <td>Станислав</td>\n",
       "      <td>31</td>\n",
       "      <td>Омск</td>\n",
       "      <td>ultra</td>\n",
       "      <td>3358.595495</td>\n",
       "      <td>18.396489</td>\n",
       "      <td>2021-04-13</td>\n",
       "      <td>4</td>\n",
       "    </tr>\n",
       "    <tr>\n",
       "      <th>17</th>\n",
       "      <td>2</td>\n",
       "      <td>Станислав</td>\n",
       "      <td>31</td>\n",
       "      <td>Омск</td>\n",
       "      <td>ultra</td>\n",
       "      <td>3255.338202</td>\n",
       "      <td>13.851127</td>\n",
       "      <td>2021-06-20</td>\n",
       "      <td>6</td>\n",
       "    </tr>\n",
       "    <tr>\n",
       "      <th>18</th>\n",
       "      <td>2</td>\n",
       "      <td>Станислав</td>\n",
       "      <td>31</td>\n",
       "      <td>Омск</td>\n",
       "      <td>ultra</td>\n",
       "      <td>3942.817648</td>\n",
       "      <td>20.142725</td>\n",
       "      <td>2021-07-02</td>\n",
       "      <td>7</td>\n",
       "    </tr>\n",
       "    <tr>\n",
       "      <th>19</th>\n",
       "      <td>2</td>\n",
       "      <td>Станислав</td>\n",
       "      <td>31</td>\n",
       "      <td>Омск</td>\n",
       "      <td>ultra</td>\n",
       "      <td>2837.905316</td>\n",
       "      <td>26.027432</td>\n",
       "      <td>2021-07-18</td>\n",
       "      <td>7</td>\n",
       "    </tr>\n",
       "  </tbody>\n",
       "</table>\n",
       "</div>"
      ],
      "text/plain": [
       "    user_id       name  age    city subscription_type     distance   duration  \\\n",
       "0         1       Кира   22  Тюмень             ultra  4409.919140  25.599769   \n",
       "1         1       Кира   22  Тюмень             ultra  2617.592153  15.816871   \n",
       "2         1       Кира   22  Тюмень             ultra   754.159807   6.232113   \n",
       "3         1       Кира   22  Тюмень             ultra  2694.783254  18.511000   \n",
       "4         1       Кира   22  Тюмень             ultra  4028.687306  26.265803   \n",
       "5         1       Кира   22  Тюмень             ultra  2770.890808  16.650138   \n",
       "6         1       Кира   22  Тюмень             ultra  3039.020292  14.927879   \n",
       "7         1       Кира   22  Тюмень             ultra  2842.118050  23.117468   \n",
       "8         1       Кира   22  Тюмень             ultra  3412.690668  15.238072   \n",
       "9         1       Кира   22  Тюмень             ultra   748.690645  15.041884   \n",
       "10        1       Кира   22  Тюмень             ultra  4031.020195  17.674448   \n",
       "11        1       Кира   22  Тюмень             ultra  2720.609748   9.529463   \n",
       "12        2  Станислав   31    Омск             ultra  3105.086678  24.307514   \n",
       "13        2  Станислав   31    Омск             ultra  3053.519401  11.543256   \n",
       "14        2  Станислав   31    Омск             ultra  4029.116927  25.109188   \n",
       "15        2  Станислав   31    Омск             ultra  2805.786329  20.652145   \n",
       "16        2  Станислав   31    Омск             ultra  3358.595495  18.396489   \n",
       "17        2  Станислав   31    Омск             ultra  3255.338202  13.851127   \n",
       "18        2  Станислав   31    Омск             ultra  3942.817648  20.142725   \n",
       "19        2  Станислав   31    Омск             ultra  2837.905316  26.027432   \n",
       "\n",
       "         date  month  \n",
       "0  2021-01-01      1  \n",
       "1  2021-01-18      1  \n",
       "2  2021-04-20      4  \n",
       "3  2021-08-11      8  \n",
       "4  2021-08-28      8  \n",
       "5  2021-10-09     10  \n",
       "6  2021-10-19     10  \n",
       "7  2021-11-06     11  \n",
       "8  2021-11-14     11  \n",
       "9  2021-11-22     11  \n",
       "10 2021-12-14     12  \n",
       "11 2021-12-22     12  \n",
       "12 2021-03-15      3  \n",
       "13 2021-03-18      3  \n",
       "14 2021-03-23      3  \n",
       "15 2021-04-08      4  \n",
       "16 2021-04-13      4  \n",
       "17 2021-06-20      6  \n",
       "18 2021-07-02      7  \n",
       "19 2021-07-18      7  "
      ]
     },
     "execution_count": 21,
     "metadata": {},
     "output_type": "execute_result"
    }
   ],
   "source": [
    "data_merge = data_users.merge(data_rides, on = 'user_id')\n",
    "data_merge.head(20)"
   ]
  },
  {
   "cell_type": "markdown",
   "id": "67f341b2",
   "metadata": {},
   "source": [
    "##### Создадим два датафрейма c данными о пользователях без подписки(data_merge_free) и с данными о пользователях с подпиской(data_merge_ultra) на освнове объедененного на предыдущем этапе датафрейма"
   ]
  },
  {
   "cell_type": "code",
   "execution_count": 22,
   "id": "191bf00c",
   "metadata": {},
   "outputs": [
    {
     "data": {
      "text/html": [
       "<div>\n",
       "<style scoped>\n",
       "    .dataframe tbody tr th:only-of-type {\n",
       "        vertical-align: middle;\n",
       "    }\n",
       "\n",
       "    .dataframe tbody tr th {\n",
       "        vertical-align: top;\n",
       "    }\n",
       "\n",
       "    .dataframe thead th {\n",
       "        text-align: right;\n",
       "    }\n",
       "</style>\n",
       "<table border=\"1\" class=\"dataframe\">\n",
       "  <thead>\n",
       "    <tr style=\"text-align: right;\">\n",
       "      <th></th>\n",
       "      <th>user_id</th>\n",
       "      <th>name</th>\n",
       "      <th>age</th>\n",
       "      <th>city</th>\n",
       "      <th>subscription_type</th>\n",
       "      <th>distance</th>\n",
       "      <th>duration</th>\n",
       "      <th>date</th>\n",
       "      <th>month</th>\n",
       "    </tr>\n",
       "  </thead>\n",
       "  <tbody>\n",
       "    <tr>\n",
       "      <th>0</th>\n",
       "      <td>1</td>\n",
       "      <td>Кира</td>\n",
       "      <td>22</td>\n",
       "      <td>Тюмень</td>\n",
       "      <td>ultra</td>\n",
       "      <td>4409.919140</td>\n",
       "      <td>25.599769</td>\n",
       "      <td>2021-01-01</td>\n",
       "      <td>1</td>\n",
       "    </tr>\n",
       "    <tr>\n",
       "      <th>1</th>\n",
       "      <td>1</td>\n",
       "      <td>Кира</td>\n",
       "      <td>22</td>\n",
       "      <td>Тюмень</td>\n",
       "      <td>ultra</td>\n",
       "      <td>2617.592153</td>\n",
       "      <td>15.816871</td>\n",
       "      <td>2021-01-18</td>\n",
       "      <td>1</td>\n",
       "    </tr>\n",
       "    <tr>\n",
       "      <th>2</th>\n",
       "      <td>1</td>\n",
       "      <td>Кира</td>\n",
       "      <td>22</td>\n",
       "      <td>Тюмень</td>\n",
       "      <td>ultra</td>\n",
       "      <td>754.159807</td>\n",
       "      <td>6.232113</td>\n",
       "      <td>2021-04-20</td>\n",
       "      <td>4</td>\n",
       "    </tr>\n",
       "    <tr>\n",
       "      <th>3</th>\n",
       "      <td>1</td>\n",
       "      <td>Кира</td>\n",
       "      <td>22</td>\n",
       "      <td>Тюмень</td>\n",
       "      <td>ultra</td>\n",
       "      <td>2694.783254</td>\n",
       "      <td>18.511000</td>\n",
       "      <td>2021-08-11</td>\n",
       "      <td>8</td>\n",
       "    </tr>\n",
       "    <tr>\n",
       "      <th>4</th>\n",
       "      <td>1</td>\n",
       "      <td>Кира</td>\n",
       "      <td>22</td>\n",
       "      <td>Тюмень</td>\n",
       "      <td>ultra</td>\n",
       "      <td>4028.687306</td>\n",
       "      <td>26.265803</td>\n",
       "      <td>2021-08-28</td>\n",
       "      <td>8</td>\n",
       "    </tr>\n",
       "    <tr>\n",
       "      <th>...</th>\n",
       "      <td>...</td>\n",
       "      <td>...</td>\n",
       "      <td>...</td>\n",
       "      <td>...</td>\n",
       "      <td>...</td>\n",
       "      <td>...</td>\n",
       "      <td>...</td>\n",
       "      <td>...</td>\n",
       "      <td>...</td>\n",
       "    </tr>\n",
       "    <tr>\n",
       "      <th>6495</th>\n",
       "      <td>699</td>\n",
       "      <td>Оксана</td>\n",
       "      <td>22</td>\n",
       "      <td>Москва</td>\n",
       "      <td>ultra</td>\n",
       "      <td>3973.046497</td>\n",
       "      <td>24.671163</td>\n",
       "      <td>2021-08-29</td>\n",
       "      <td>8</td>\n",
       "    </tr>\n",
       "    <tr>\n",
       "      <th>6496</th>\n",
       "      <td>699</td>\n",
       "      <td>Оксана</td>\n",
       "      <td>22</td>\n",
       "      <td>Москва</td>\n",
       "      <td>ultra</td>\n",
       "      <td>3288.702563</td>\n",
       "      <td>15.892886</td>\n",
       "      <td>2021-09-12</td>\n",
       "      <td>9</td>\n",
       "    </tr>\n",
       "    <tr>\n",
       "      <th>6497</th>\n",
       "      <td>699</td>\n",
       "      <td>Оксана</td>\n",
       "      <td>22</td>\n",
       "      <td>Москва</td>\n",
       "      <td>ultra</td>\n",
       "      <td>3076.159348</td>\n",
       "      <td>14.389525</td>\n",
       "      <td>2021-09-26</td>\n",
       "      <td>9</td>\n",
       "    </tr>\n",
       "    <tr>\n",
       "      <th>6498</th>\n",
       "      <td>699</td>\n",
       "      <td>Оксана</td>\n",
       "      <td>22</td>\n",
       "      <td>Москва</td>\n",
       "      <td>ultra</td>\n",
       "      <td>4707.845501</td>\n",
       "      <td>15.839579</td>\n",
       "      <td>2021-10-17</td>\n",
       "      <td>10</td>\n",
       "    </tr>\n",
       "    <tr>\n",
       "      <th>6499</th>\n",
       "      <td>699</td>\n",
       "      <td>Оксана</td>\n",
       "      <td>22</td>\n",
       "      <td>Москва</td>\n",
       "      <td>ultra</td>\n",
       "      <td>3202.890770</td>\n",
       "      <td>25.217345</td>\n",
       "      <td>2021-12-03</td>\n",
       "      <td>12</td>\n",
       "    </tr>\n",
       "  </tbody>\n",
       "</table>\n",
       "<p>6500 rows × 9 columns</p>\n",
       "</div>"
      ],
      "text/plain": [
       "      user_id    name  age    city subscription_type     distance   duration  \\\n",
       "0           1    Кира   22  Тюмень             ultra  4409.919140  25.599769   \n",
       "1           1    Кира   22  Тюмень             ultra  2617.592153  15.816871   \n",
       "2           1    Кира   22  Тюмень             ultra   754.159807   6.232113   \n",
       "3           1    Кира   22  Тюмень             ultra  2694.783254  18.511000   \n",
       "4           1    Кира   22  Тюмень             ultra  4028.687306  26.265803   \n",
       "...       ...     ...  ...     ...               ...          ...        ...   \n",
       "6495      699  Оксана   22  Москва             ultra  3973.046497  24.671163   \n",
       "6496      699  Оксана   22  Москва             ultra  3288.702563  15.892886   \n",
       "6497      699  Оксана   22  Москва             ultra  3076.159348  14.389525   \n",
       "6498      699  Оксана   22  Москва             ultra  4707.845501  15.839579   \n",
       "6499      699  Оксана   22  Москва             ultra  3202.890770  25.217345   \n",
       "\n",
       "           date  month  \n",
       "0    2021-01-01      1  \n",
       "1    2021-01-18      1  \n",
       "2    2021-04-20      4  \n",
       "3    2021-08-11      8  \n",
       "4    2021-08-28      8  \n",
       "...         ...    ...  \n",
       "6495 2021-08-29      8  \n",
       "6496 2021-09-12      9  \n",
       "6497 2021-09-26      9  \n",
       "6498 2021-10-17     10  \n",
       "6499 2021-12-03     12  \n",
       "\n",
       "[6500 rows x 9 columns]"
      ]
     },
     "metadata": {},
     "output_type": "display_data"
    },
    {
     "data": {
      "text/html": [
       "<div>\n",
       "<style scoped>\n",
       "    .dataframe tbody tr th:only-of-type {\n",
       "        vertical-align: middle;\n",
       "    }\n",
       "\n",
       "    .dataframe tbody tr th {\n",
       "        vertical-align: top;\n",
       "    }\n",
       "\n",
       "    .dataframe thead th {\n",
       "        text-align: right;\n",
       "    }\n",
       "</style>\n",
       "<table border=\"1\" class=\"dataframe\">\n",
       "  <thead>\n",
       "    <tr style=\"text-align: right;\">\n",
       "      <th></th>\n",
       "      <th>user_id</th>\n",
       "      <th>name</th>\n",
       "      <th>age</th>\n",
       "      <th>city</th>\n",
       "      <th>subscription_type</th>\n",
       "      <th>distance</th>\n",
       "      <th>duration</th>\n",
       "      <th>date</th>\n",
       "      <th>month</th>\n",
       "    </tr>\n",
       "  </thead>\n",
       "  <tbody>\n",
       "    <tr>\n",
       "      <th>6500</th>\n",
       "      <td>700</td>\n",
       "      <td>Айдар</td>\n",
       "      <td>22</td>\n",
       "      <td>Омск</td>\n",
       "      <td>free</td>\n",
       "      <td>2515.690719</td>\n",
       "      <td>14.944286</td>\n",
       "      <td>2021-01-02</td>\n",
       "      <td>1</td>\n",
       "    </tr>\n",
       "    <tr>\n",
       "      <th>6501</th>\n",
       "      <td>700</td>\n",
       "      <td>Айдар</td>\n",
       "      <td>22</td>\n",
       "      <td>Омск</td>\n",
       "      <td>free</td>\n",
       "      <td>846.932642</td>\n",
       "      <td>16.234663</td>\n",
       "      <td>2021-02-01</td>\n",
       "      <td>2</td>\n",
       "    </tr>\n",
       "    <tr>\n",
       "      <th>6502</th>\n",
       "      <td>700</td>\n",
       "      <td>Айдар</td>\n",
       "      <td>22</td>\n",
       "      <td>Омск</td>\n",
       "      <td>free</td>\n",
       "      <td>4004.434142</td>\n",
       "      <td>20.016628</td>\n",
       "      <td>2021-02-04</td>\n",
       "      <td>2</td>\n",
       "    </tr>\n",
       "    <tr>\n",
       "      <th>6503</th>\n",
       "      <td>700</td>\n",
       "      <td>Айдар</td>\n",
       "      <td>22</td>\n",
       "      <td>Омск</td>\n",
       "      <td>free</td>\n",
       "      <td>1205.911290</td>\n",
       "      <td>9.782872</td>\n",
       "      <td>2021-02-10</td>\n",
       "      <td>2</td>\n",
       "    </tr>\n",
       "    <tr>\n",
       "      <th>6504</th>\n",
       "      <td>700</td>\n",
       "      <td>Айдар</td>\n",
       "      <td>22</td>\n",
       "      <td>Омск</td>\n",
       "      <td>free</td>\n",
       "      <td>3047.379435</td>\n",
       "      <td>17.427673</td>\n",
       "      <td>2021-02-14</td>\n",
       "      <td>2</td>\n",
       "    </tr>\n",
       "    <tr>\n",
       "      <th>...</th>\n",
       "      <td>...</td>\n",
       "      <td>...</td>\n",
       "      <td>...</td>\n",
       "      <td>...</td>\n",
       "      <td>...</td>\n",
       "      <td>...</td>\n",
       "      <td>...</td>\n",
       "      <td>...</td>\n",
       "      <td>...</td>\n",
       "    </tr>\n",
       "    <tr>\n",
       "      <th>18063</th>\n",
       "      <td>1534</td>\n",
       "      <td>Альберт</td>\n",
       "      <td>25</td>\n",
       "      <td>Краснодар</td>\n",
       "      <td>free</td>\n",
       "      <td>3781.098080</td>\n",
       "      <td>19.822962</td>\n",
       "      <td>2021-11-04</td>\n",
       "      <td>11</td>\n",
       "    </tr>\n",
       "    <tr>\n",
       "      <th>18064</th>\n",
       "      <td>1534</td>\n",
       "      <td>Альберт</td>\n",
       "      <td>25</td>\n",
       "      <td>Краснодар</td>\n",
       "      <td>free</td>\n",
       "      <td>2840.423057</td>\n",
       "      <td>21.409799</td>\n",
       "      <td>2021-11-16</td>\n",
       "      <td>11</td>\n",
       "    </tr>\n",
       "    <tr>\n",
       "      <th>18065</th>\n",
       "      <td>1534</td>\n",
       "      <td>Альберт</td>\n",
       "      <td>25</td>\n",
       "      <td>Краснодар</td>\n",
       "      <td>free</td>\n",
       "      <td>3826.185507</td>\n",
       "      <td>18.435051</td>\n",
       "      <td>2021-11-18</td>\n",
       "      <td>11</td>\n",
       "    </tr>\n",
       "    <tr>\n",
       "      <th>18066</th>\n",
       "      <td>1534</td>\n",
       "      <td>Альберт</td>\n",
       "      <td>25</td>\n",
       "      <td>Краснодар</td>\n",
       "      <td>free</td>\n",
       "      <td>2902.308661</td>\n",
       "      <td>16.674362</td>\n",
       "      <td>2021-11-27</td>\n",
       "      <td>11</td>\n",
       "    </tr>\n",
       "    <tr>\n",
       "      <th>18067</th>\n",
       "      <td>1534</td>\n",
       "      <td>Альберт</td>\n",
       "      <td>25</td>\n",
       "      <td>Краснодар</td>\n",
       "      <td>free</td>\n",
       "      <td>2371.711192</td>\n",
       "      <td>15.893917</td>\n",
       "      <td>2021-12-29</td>\n",
       "      <td>12</td>\n",
       "    </tr>\n",
       "  </tbody>\n",
       "</table>\n",
       "<p>11568 rows × 9 columns</p>\n",
       "</div>"
      ],
      "text/plain": [
       "       user_id     name  age       city subscription_type     distance  \\\n",
       "6500       700    Айдар   22       Омск              free  2515.690719   \n",
       "6501       700    Айдар   22       Омск              free   846.932642   \n",
       "6502       700    Айдар   22       Омск              free  4004.434142   \n",
       "6503       700    Айдар   22       Омск              free  1205.911290   \n",
       "6504       700    Айдар   22       Омск              free  3047.379435   \n",
       "...        ...      ...  ...        ...               ...          ...   \n",
       "18063     1534  Альберт   25  Краснодар              free  3781.098080   \n",
       "18064     1534  Альберт   25  Краснодар              free  2840.423057   \n",
       "18065     1534  Альберт   25  Краснодар              free  3826.185507   \n",
       "18066     1534  Альберт   25  Краснодар              free  2902.308661   \n",
       "18067     1534  Альберт   25  Краснодар              free  2371.711192   \n",
       "\n",
       "        duration       date  month  \n",
       "6500   14.944286 2021-01-02      1  \n",
       "6501   16.234663 2021-02-01      2  \n",
       "6502   20.016628 2021-02-04      2  \n",
       "6503    9.782872 2021-02-10      2  \n",
       "6504   17.427673 2021-02-14      2  \n",
       "...          ...        ...    ...  \n",
       "18063  19.822962 2021-11-04     11  \n",
       "18064  21.409799 2021-11-16     11  \n",
       "18065  18.435051 2021-11-18     11  \n",
       "18066  16.674362 2021-11-27     11  \n",
       "18067  15.893917 2021-12-29     12  \n",
       "\n",
       "[11568 rows x 9 columns]"
      ]
     },
     "metadata": {},
     "output_type": "display_data"
    }
   ],
   "source": [
    "data_merge_ultra = data_merge.query('subscription_type == \"ultra\"')\n",
    "display(data_merge_ultra)\n",
    "data_merge_free = data_merge.query('subscription_type == \"free\"')\n",
    "display(data_merge_free)"
   ]
  },
  {
   "cell_type": "code",
   "execution_count": 23,
   "id": "045741c7",
   "metadata": {},
   "outputs": [
    {
     "data": {
      "text/plain": [
       "18068"
      ]
     },
     "metadata": {},
     "output_type": "display_data"
    },
    {
     "data": {
      "text/plain": [
       "11568"
      ]
     },
     "metadata": {},
     "output_type": "display_data"
    },
    {
     "data": {
      "text/plain": [
       "6500"
      ]
     },
     "execution_count": 23,
     "metadata": {},
     "output_type": "execute_result"
    }
   ],
   "source": [
    "# Код ревьюера\n",
    "display(data_merge.shape[0])\n",
    "display(data_merge_free.shape[0])\n",
    "data_merge_ultra.shape[0]"
   ]
  },
  {
   "cell_type": "markdown",
   "id": "2a6a1552",
   "metadata": {},
   "source": [
    "<div class=\"alert-warning\" style=\"padding: 20px; border-radius: 10px\">\n",
    "<b>Комментарий ревьюера ⚠️</b>\n",
    "\n",
    "После объединения данных имеет смысл вывести несколько строк датафрейма, проверить размерность. \n",
    "    \n",
    "Из-за того, что не были удалены дубликаты, объединение прошло не совсем корректно.\n",
    "\n",
    "</div>"
   ]
  },
  {
   "cell_type": "markdown",
   "id": "33820ce6",
   "metadata": {},
   "source": [
    "<div class=\"alert-warning\" style=\"padding: 20px; border-radius: 10px\">\n",
    "<b>Комментарий ревьюера V2 ⚠️</b>\n",
    "\n",
    "<s>Теперь часть данных из объединенного фрейма потерялась. (Из-за удаления аномалий.)\n",
    "\n",
    "</div>"
   ]
  },
  {
   "cell_type": "markdown",
   "id": "75fb46b9",
   "metadata": {},
   "source": [
    "<div class=\"alert-info\" style=\"padding: 20px; border-radius: 10px\">\n",
    "<b>Комментарий студента V2💎</b>\n",
    "\n",
    "Аномалии вернул </div>"
   ]
  },
  {
   "cell_type": "markdown",
   "id": "4440255e",
   "metadata": {},
   "source": [
    "<div class=\"alert-success\" style=\"border-radius: 10px; padding: 20px\">\n",
    "<b>Комментарий ревьюера V3 ✔️</b>\n",
    "\n",
    "Теперь размеры датафреймов корректные.</div>"
   ]
  },
  {
   "cell_type": "markdown",
   "id": "ff33ef60",
   "metadata": {},
   "source": [
    "##### Графики распределения расстояния и времени поездок для пользователей обеих категорий"
   ]
  },
  {
   "cell_type": "code",
   "execution_count": 24,
   "id": "9a0bfd28",
   "metadata": {},
   "outputs": [
    {
     "data": {
      "text/plain": [
       "<seaborn.axisgrid.FacetGrid at 0x7f5e1bfd1940>"
      ]
     },
     "execution_count": 24,
     "metadata": {},
     "output_type": "execute_result"
    },
    {
     "data": {
      "image/png": "[encoded data removed]",
      "text/plain": [
       "<Figure size 456.125x360 with 1 Axes>"
      ]
     },
     "metadata": {
      "needs_background": "light"
     },
     "output_type": "display_data"
    },
    {
     "data": {
      "image/png": "[encoded data removed]",
      "text/plain": [
       "<Figure size 456.125x360 with 1 Axes>"
      ]
     },
     "metadata": {
      "needs_background": "light"
     },
     "output_type": "display_data"
    }
   ],
   "source": [
    "sns.displot(data_merge, x=\"duration\", hue=\"subscription_type\", kind=\"kde\")\n",
    "sns.displot(data_merge, x=\"distance\", hue=\"subscription_type\", kind=\"kde\")"
   ]
  },
  {
   "cell_type": "markdown",
   "id": "4261af06",
   "metadata": {},
   "source": [
    "<div class=\"alert-danger\"  style=\"padding: 20px; border-radius: 10px\">\n",
    "<b>Комментарий ревьюера ❌</b>\n",
    "\n",
    "<s>Что можно сказать о сравнении профилей категорий пользователей при пользовании самокатами (расстояние, длительность)? Какие есть различия и сходства?\n",
    "\n",
    "</div>"
   ]
  },
  {
   "cell_type": "markdown",
   "id": "156686b3",
   "metadata": {},
   "source": [
    "<div class=\"alert-info\" style=\"padding: 20px; border-radius: 10px\">\n",
    "<b>Комментарий студента 💎</b>\n",
    "\n",
    "По времени:\n",
    "Формы распеделения времени поездок схожи для категорий с подпиской и без, пики графиков находятся в районе 20 мин. Из-за большего количества поездок без подписок, график располагается выше.  \n",
    "По расстоянию:\n",
    "График распределения расстояния для пользователей с подпиской имеет более явный пик в районе 3км, это говорит о однотипных по расстоянию поездках. Так же пики значений для пользователей без подписки смещены ближе к 0. </div>\n"
   ]
  },
  {
   "cell_type": "markdown",
   "id": "0d296622",
   "metadata": {},
   "source": [
    "<div class=\"alert-success\" style=\"padding: 20px; border-radius: 10px\">\n",
    "<b>Комментарий ревьюера V2 ✔️</b>\n",
    "\n",
    "Согласен, можно сказать, что профили пользователей обоих подписок похожи.\n",
    "\n",
    "</div>"
   ]
  },
  {
   "cell_type": "markdown",
   "id": "402d620f",
   "metadata": {},
   "source": [
    "#### Шаг 5. Подсчёт выручки"
   ]
  },
  {
   "cell_type": "code",
   "execution_count": 25,
   "id": "53049e0a",
   "metadata": {},
   "outputs": [
    {
     "data": {
      "text/html": [
       "<div>\n",
       "<style scoped>\n",
       "    .dataframe tbody tr th:only-of-type {\n",
       "        vertical-align: middle;\n",
       "    }\n",
       "\n",
       "    .dataframe tbody tr th {\n",
       "        vertical-align: top;\n",
       "    }\n",
       "\n",
       "    .dataframe thead th {\n",
       "        text-align: right;\n",
       "    }\n",
       "</style>\n",
       "<table border=\"1\" class=\"dataframe\">\n",
       "  <thead>\n",
       "    <tr style=\"text-align: right;\">\n",
       "      <th></th>\n",
       "      <th>user_id</th>\n",
       "      <th>month</th>\n",
       "      <th>total_distance</th>\n",
       "      <th>total_duration</th>\n",
       "      <th>rides_count</th>\n",
       "      <th>subscription_type</th>\n",
       "    </tr>\n",
       "  </thead>\n",
       "  <tbody>\n",
       "    <tr>\n",
       "      <th>0</th>\n",
       "      <td>1</td>\n",
       "      <td>1</td>\n",
       "      <td>7027.511294</td>\n",
       "      <td>42.0</td>\n",
       "      <td>2</td>\n",
       "      <td>ultra</td>\n",
       "    </tr>\n",
       "    <tr>\n",
       "      <th>1</th>\n",
       "      <td>1</td>\n",
       "      <td>4</td>\n",
       "      <td>754.159807</td>\n",
       "      <td>7.0</td>\n",
       "      <td>1</td>\n",
       "      <td>ultra</td>\n",
       "    </tr>\n",
       "    <tr>\n",
       "      <th>2</th>\n",
       "      <td>1</td>\n",
       "      <td>8</td>\n",
       "      <td>6723.470560</td>\n",
       "      <td>46.0</td>\n",
       "      <td>2</td>\n",
       "      <td>ultra</td>\n",
       "    </tr>\n",
       "    <tr>\n",
       "      <th>3</th>\n",
       "      <td>1</td>\n",
       "      <td>10</td>\n",
       "      <td>5809.911100</td>\n",
       "      <td>32.0</td>\n",
       "      <td>2</td>\n",
       "      <td>ultra</td>\n",
       "    </tr>\n",
       "    <tr>\n",
       "      <th>4</th>\n",
       "      <td>1</td>\n",
       "      <td>11</td>\n",
       "      <td>7003.499363</td>\n",
       "      <td>56.0</td>\n",
       "      <td>3</td>\n",
       "      <td>ultra</td>\n",
       "    </tr>\n",
       "    <tr>\n",
       "      <th>...</th>\n",
       "      <td>...</td>\n",
       "      <td>...</td>\n",
       "      <td>...</td>\n",
       "      <td>...</td>\n",
       "      <td>...</td>\n",
       "      <td>...</td>\n",
       "    </tr>\n",
       "    <tr>\n",
       "      <th>11326</th>\n",
       "      <td>1534</td>\n",
       "      <td>6</td>\n",
       "      <td>3409.468534</td>\n",
       "      <td>26.0</td>\n",
       "      <td>2</td>\n",
       "      <td>free</td>\n",
       "    </tr>\n",
       "    <tr>\n",
       "      <th>11327</th>\n",
       "      <td>1534</td>\n",
       "      <td>8</td>\n",
       "      <td>7622.453034</td>\n",
       "      <td>48.0</td>\n",
       "      <td>2</td>\n",
       "      <td>free</td>\n",
       "    </tr>\n",
       "    <tr>\n",
       "      <th>11328</th>\n",
       "      <td>1534</td>\n",
       "      <td>9</td>\n",
       "      <td>4928.173852</td>\n",
       "      <td>23.0</td>\n",
       "      <td>1</td>\n",
       "      <td>free</td>\n",
       "    </tr>\n",
       "    <tr>\n",
       "      <th>11329</th>\n",
       "      <td>1534</td>\n",
       "      <td>11</td>\n",
       "      <td>13350.015305</td>\n",
       "      <td>78.0</td>\n",
       "      <td>4</td>\n",
       "      <td>free</td>\n",
       "    </tr>\n",
       "    <tr>\n",
       "      <th>11330</th>\n",
       "      <td>1534</td>\n",
       "      <td>12</td>\n",
       "      <td>2371.711192</td>\n",
       "      <td>16.0</td>\n",
       "      <td>1</td>\n",
       "      <td>free</td>\n",
       "    </tr>\n",
       "  </tbody>\n",
       "</table>\n",
       "<p>11331 rows × 6 columns</p>\n",
       "</div>"
      ],
      "text/plain": [
       "       user_id  month  total_distance  total_duration  rides_count  \\\n",
       "0            1      1     7027.511294            42.0            2   \n",
       "1            1      4      754.159807             7.0            1   \n",
       "2            1      8     6723.470560            46.0            2   \n",
       "3            1     10     5809.911100            32.0            2   \n",
       "4            1     11     7003.499363            56.0            3   \n",
       "...        ...    ...             ...             ...          ...   \n",
       "11326     1534      6     3409.468534            26.0            2   \n",
       "11327     1534      8     7622.453034            48.0            2   \n",
       "11328     1534      9     4928.173852            23.0            1   \n",
       "11329     1534     11    13350.015305            78.0            4   \n",
       "11330     1534     12     2371.711192            16.0            1   \n",
       "\n",
       "      subscription_type  \n",
       "0                 ultra  \n",
       "1                 ultra  \n",
       "2                 ultra  \n",
       "3                 ultra  \n",
       "4                 ultra  \n",
       "...                 ...  \n",
       "11326              free  \n",
       "11327              free  \n",
       "11328              free  \n",
       "11329              free  \n",
       "11330              free  \n",
       "\n",
       "[11331 rows x 6 columns]"
      ]
     },
     "metadata": {},
     "output_type": "display_data"
    },
    {
     "data": {
      "text/html": [
       "<div>\n",
       "<style scoped>\n",
       "    .dataframe tbody tr th:only-of-type {\n",
       "        vertical-align: middle;\n",
       "    }\n",
       "\n",
       "    .dataframe tbody tr th {\n",
       "        vertical-align: top;\n",
       "    }\n",
       "\n",
       "    .dataframe thead th {\n",
       "        text-align: right;\n",
       "    }\n",
       "</style>\n",
       "<table border=\"1\" class=\"dataframe\">\n",
       "  <thead>\n",
       "    <tr style=\"text-align: right;\">\n",
       "      <th></th>\n",
       "      <th>user_id</th>\n",
       "      <th>month</th>\n",
       "      <th>total_distance</th>\n",
       "      <th>total_duration</th>\n",
       "      <th>rides_count</th>\n",
       "      <th>subscription_type</th>\n",
       "      <th>income</th>\n",
       "    </tr>\n",
       "  </thead>\n",
       "  <tbody>\n",
       "    <tr>\n",
       "      <th>0</th>\n",
       "      <td>1</td>\n",
       "      <td>1</td>\n",
       "      <td>7027.511294</td>\n",
       "      <td>42.0</td>\n",
       "      <td>2</td>\n",
       "      <td>ultra</td>\n",
       "      <td>451.0</td>\n",
       "    </tr>\n",
       "    <tr>\n",
       "      <th>1</th>\n",
       "      <td>1</td>\n",
       "      <td>4</td>\n",
       "      <td>754.159807</td>\n",
       "      <td>7.0</td>\n",
       "      <td>1</td>\n",
       "      <td>ultra</td>\n",
       "      <td>241.0</td>\n",
       "    </tr>\n",
       "    <tr>\n",
       "      <th>2</th>\n",
       "      <td>1</td>\n",
       "      <td>8</td>\n",
       "      <td>6723.470560</td>\n",
       "      <td>46.0</td>\n",
       "      <td>2</td>\n",
       "      <td>ultra</td>\n",
       "      <td>475.0</td>\n",
       "    </tr>\n",
       "    <tr>\n",
       "      <th>3</th>\n",
       "      <td>1</td>\n",
       "      <td>10</td>\n",
       "      <td>5809.911100</td>\n",
       "      <td>32.0</td>\n",
       "      <td>2</td>\n",
       "      <td>ultra</td>\n",
       "      <td>391.0</td>\n",
       "    </tr>\n",
       "    <tr>\n",
       "      <th>4</th>\n",
       "      <td>1</td>\n",
       "      <td>11</td>\n",
       "      <td>7003.499363</td>\n",
       "      <td>56.0</td>\n",
       "      <td>3</td>\n",
       "      <td>ultra</td>\n",
       "      <td>535.0</td>\n",
       "    </tr>\n",
       "    <tr>\n",
       "      <th>...</th>\n",
       "      <td>...</td>\n",
       "      <td>...</td>\n",
       "      <td>...</td>\n",
       "      <td>...</td>\n",
       "      <td>...</td>\n",
       "      <td>...</td>\n",
       "      <td>...</td>\n",
       "    </tr>\n",
       "    <tr>\n",
       "      <th>11326</th>\n",
       "      <td>1534</td>\n",
       "      <td>6</td>\n",
       "      <td>3409.468534</td>\n",
       "      <td>26.0</td>\n",
       "      <td>2</td>\n",
       "      <td>free</td>\n",
       "      <td>308.0</td>\n",
       "    </tr>\n",
       "    <tr>\n",
       "      <th>11327</th>\n",
       "      <td>1534</td>\n",
       "      <td>8</td>\n",
       "      <td>7622.453034</td>\n",
       "      <td>48.0</td>\n",
       "      <td>2</td>\n",
       "      <td>free</td>\n",
       "      <td>484.0</td>\n",
       "    </tr>\n",
       "    <tr>\n",
       "      <th>11328</th>\n",
       "      <td>1534</td>\n",
       "      <td>9</td>\n",
       "      <td>4928.173852</td>\n",
       "      <td>23.0</td>\n",
       "      <td>1</td>\n",
       "      <td>free</td>\n",
       "      <td>234.0</td>\n",
       "    </tr>\n",
       "    <tr>\n",
       "      <th>11329</th>\n",
       "      <td>1534</td>\n",
       "      <td>11</td>\n",
       "      <td>13350.015305</td>\n",
       "      <td>78.0</td>\n",
       "      <td>4</td>\n",
       "      <td>free</td>\n",
       "      <td>824.0</td>\n",
       "    </tr>\n",
       "    <tr>\n",
       "      <th>11330</th>\n",
       "      <td>1534</td>\n",
       "      <td>12</td>\n",
       "      <td>2371.711192</td>\n",
       "      <td>16.0</td>\n",
       "      <td>1</td>\n",
       "      <td>free</td>\n",
       "      <td>178.0</td>\n",
       "    </tr>\n",
       "  </tbody>\n",
       "</table>\n",
       "<p>11331 rows × 7 columns</p>\n",
       "</div>"
      ],
      "text/plain": [
       "       user_id  month  total_distance  total_duration  rides_count  \\\n",
       "0            1      1     7027.511294            42.0            2   \n",
       "1            1      4      754.159807             7.0            1   \n",
       "2            1      8     6723.470560            46.0            2   \n",
       "3            1     10     5809.911100            32.0            2   \n",
       "4            1     11     7003.499363            56.0            3   \n",
       "...        ...    ...             ...             ...          ...   \n",
       "11326     1534      6     3409.468534            26.0            2   \n",
       "11327     1534      8     7622.453034            48.0            2   \n",
       "11328     1534      9     4928.173852            23.0            1   \n",
       "11329     1534     11    13350.015305            78.0            4   \n",
       "11330     1534     12     2371.711192            16.0            1   \n",
       "\n",
       "      subscription_type  income  \n",
       "0                 ultra   451.0  \n",
       "1                 ultra   241.0  \n",
       "2                 ultra   475.0  \n",
       "3                 ultra   391.0  \n",
       "4                 ultra   535.0  \n",
       "...                 ...     ...  \n",
       "11326              free   308.0  \n",
       "11327              free   484.0  \n",
       "11328              free   234.0  \n",
       "11329              free   824.0  \n",
       "11330              free   178.0  \n",
       "\n",
       "[11331 rows x 7 columns]"
      ]
     },
     "metadata": {},
     "output_type": "display_data"
    }
   ],
   "source": [
    "#Округлим до следующего целого числа продолжительность поездок\n",
    "data_merge['duration']= np.ceil(data_merge['duration'])\n",
    "\n",
    "#Создадим сводную таблицу с дополнительными столбцами по суммарному расстоянию и времени, кол-ву поездок, типу подписок \n",
    "data_total = data_merge.pivot_table(index=['user_id', 'month'], values = ['distance', 'duration', 'name', 'subscription_type'], aggfunc={'distance':'sum', 'duration':'sum', 'name':'count', 'subscription_type': 'min'})\n",
    "data_total.columns = ['total_distance', 'total_duration','rides_count', 'subscription_type']\n",
    "data_total = data_total.reset_index()\n",
    "display(data_total)\n",
    "\n",
    "#Добавим столбец помесячной стоимости поездок каждого пользователя\n",
    "def income_func (row):\n",
    "    if row['subscription_type'] == 'ultra':\n",
    "        return data_subscribes['minute_price'].values[1]*row['total_duration'] + data_subscribes['subscription_fee'].values[1]\n",
    "    if row['subscription_type'] == 'free':\n",
    "        return data_subscribes['minute_price'].values[0]*row['total_duration'] + data_subscribes['start_ride_price'].values[0]*row['rides_count']\n",
    "\n",
    "data_total['income'] = data_total.apply(income_func, axis=1)  \n",
    "display(data_total)"
   ]
  },
  {
   "cell_type": "code",
   "execution_count": 26,
   "id": "f562a74c",
   "metadata": {},
   "outputs": [
    {
     "data": {
      "text/plain": [
       "subscription_type\n",
       "free     328.641365\n",
       "ultra    362.792191\n",
       "Name: income, dtype: float64"
      ]
     },
     "execution_count": 26,
     "metadata": {},
     "output_type": "execute_result"
    }
   ],
   "source": [
    "data_total.groupby('subscription_type')['income'].mean()"
   ]
  },
  {
   "cell_type": "markdown",
   "id": "3d6846eb",
   "metadata": {},
   "source": [
    "<div class=\"alert-success\" style=\"border-radius: 10px; padding: 20px\">\n",
    "<b>Комментарий ревьюера V3 ✔️</b>\n",
    "\n",
    "Выручка рассчитана правильно. 👍</div>"
   ]
  },
  {
   "cell_type": "markdown",
   "id": "31706400",
   "metadata": {},
   "source": [
    "<div class=\"alert-info\" style=\"padding: 20px; border-radius: 10px\">\n",
    "<b>Комментарий студента 💎</b>\n",
    "\n",
    "Среднее значение помесячной выручки от пользователей с подпиской выше примерно на 10% </div>"
   ]
  },
  {
   "cell_type": "markdown",
   "id": "816b750c",
   "metadata": {},
   "source": [
    "<div class=\"alert-warning\" style=\"padding: 20px; border-radius: 10px\">\n",
    "<b>Комментарий ревьюера V2 ⚠️</b>\n",
    "\n",
    "<s>Теперь на расчет выручки повлияло удаление аномалий.</div>"
   ]
  },
  {
   "cell_type": "markdown",
   "id": "77b4733b",
   "metadata": {},
   "source": [
    "<div class=\"alert-info\" style=\"padding: 20px; border-radius: 10px\">\n",
    "<b>Комментарий студента 💎</b>\n",
    "\n",
    "Аномалии вернул </div>"
   ]
  },
  {
   "cell_type": "code",
   "execution_count": 27,
   "id": "13c9176e",
   "metadata": {},
   "outputs": [
    {
     "data": {
      "text/plain": [
       "subscription_type\n",
       "free     328.641365\n",
       "ultra    362.792191\n",
       "Name: income, dtype: float64"
      ]
     },
     "execution_count": 27,
     "metadata": {},
     "output_type": "execute_result"
    }
   ],
   "source": [
    "# Код ревьюера\n",
    "data_total.groupby('subscription_type')['income'].mean()"
   ]
  },
  {
   "cell_type": "markdown",
   "id": "31633d86",
   "metadata": {},
   "source": [
    "<div class=\"alert-warning\" style=\"padding: 20px; border-radius: 10px\">\n",
    "<b>Комментарий ревьюера ⚠️</b>\n",
    "\n",
    "<s>В целом, расчет выручки правильный, но из-за того что не были удалены дубликаты в пользователях, средние значения получились не совсем верные.</s>\n",
    "\n",
    "Не забывай пожалуйста заканчивать шаг работы промежуточным выводом о том, что было сделано.</div>"
   ]
  },
  {
   "cell_type": "markdown",
   "id": "7109e7f8",
   "metadata": {},
   "source": [
    "<div class=\"alert-info\" style=\"padding: 20px; border-radius: 10px\">\n",
    "<b>Комментарий студента V2💎</b>\n",
    "\n",
    "На данном шаге была посчитана выручка:  \n",
    "    Среднее значение помесячной выручки от пользователей с подпиской составляет 363руб.  \n",
    "    Среднее значение помесячной выручки от пользователей без подписки составляет 329руб.  \n",
    "    Среднее значение помесячной выручки от пользователей с подпиской выше примерно на 10%</div>"
   ]
  },
  {
   "cell_type": "markdown",
   "id": "41545ac0",
   "metadata": {},
   "source": [
    "#### Шаг 6. Проверка гипотез"
   ]
  },
  {
   "cell_type": "markdown",
   "id": "b4ed9d36",
   "metadata": {},
   "source": [
    "##### Тратят ли пользователи с подпиской больше времени на поездки?"
   ]
  },
  {
   "cell_type": "markdown",
   "id": "9c53e588",
   "metadata": {},
   "source": [
    "<div class=\"alert-danger\" style=\"padding: 20px; border-radius: 10px\">\n",
    "<b>Комментарий ревьюера ❌</b>\n",
    "\n",
    "<s>Перед проверкой гипотезы нужно сформулировать нулевую и альтернативную гипотезы.\n",
    "\n",
    "Это относится к каждому статистическому тесту</div>"
   ]
  },
  {
   "cell_type": "markdown",
   "id": "f1fbb0ef",
   "metadata": {},
   "source": [
    "<div class=\"alert-info\" style=\"padding: 20px; border-radius: 10px\">\n",
    "<b>Комментарий студента 💎</b>\n",
    "    \n",
    "H0 - пользователи с подпиской тратят на поездку столько же времени что и пользователи без подписки   \n",
    "    H1 - пользователи с подпиской тратят на поездку больше времени чеми пользователи без подписки \n",
    "</div>"
   ]
  },
  {
   "cell_type": "code",
   "execution_count": 28,
   "id": "15370a93",
   "metadata": {},
   "outputs": [
    {
     "name": "stdout",
     "output_type": "stream",
     "text": [
      "p-value: 1.2804098316645618e-34\n",
      "Отвергаем нулевую гипотезу\n"
     ]
    }
   ],
   "source": [
    "ultra_group = data_merge_ultra['duration']\n",
    "free_group = data_merge_free['duration']\n",
    "alpha = 0.05\n",
    "results = st.ttest_ind(ultra_group, free_group, alternative='greater')\n",
    "print('p-value:', results.pvalue)\n",
    "if results.pvalue < alpha:\n",
    "    print('Отвергаем нулевую гипотезу')\n",
    "else:\n",
    "    print('Не получилось отвергнуть нулевую гипотезу')"
   ]
  },
  {
   "cell_type": "markdown",
   "id": "fcdafb42",
   "metadata": {},
   "source": [
    "Полученное значение p-value меньше заданного уровня значимости, поэтому можно отвергнуть нулевую гипотезу. Есть основания говорить, что пользователи с подпиской тратят в сервисе больше времени на поездку."
   ]
  },
  {
   "cell_type": "markdown",
   "id": "1e37def8",
   "metadata": {},
   "source": [
    "<div class=\"alert-success\" style=\"padding: 20px; border-radius: 10px\">\n",
    "<b>Комментарий ревьюера ✔️</b>\n",
    "\n",
    "Результат проверки гипотезы правильный. 👌</div>"
   ]
  },
  {
   "cell_type": "markdown",
   "id": "89661a5a",
   "metadata": {},
   "source": [
    "##### Можно ли сказать, что расстояние, которое проезжают пользователи с подпиской за одну поездку, не превышает 3130 метров?"
   ]
  },
  {
   "cell_type": "markdown",
   "id": "572f2d9d",
   "metadata": {},
   "source": [
    "<div class=\"alert-info\" style=\"padding: 20px; border-radius: 10px\">\n",
    "<b>Комментарий студента 💎</b>\n",
    "  \n",
    "H0 - пользователи с подпиской проезжают 3130 метров за одну подписку   \n",
    "    H1 - пользователи с подпиской проезжают за одну поездку расстояние превышающее 3130 метров\n",
    "</div>"
   ]
  },
  {
   "cell_type": "code",
   "execution_count": 29,
   "id": "300146b1",
   "metadata": {},
   "outputs": [
    {
     "name": "stdout",
     "output_type": "stream",
     "text": [
      "p-value: 0.9195368847849785\n",
      "Не получилось отвергнуть нулевую гипотезу\n"
     ]
    }
   ],
   "source": [
    "ultra_group_dist = data_merge_ultra['distance']\n",
    "wear_distance = 3130\n",
    "alpha = 0.05\n",
    "results = st.ttest_1samp(ultra_group_dist, wear_distance, alternative='greater')\n",
    "print('p-value:', results.pvalue)\n",
    "if results.pvalue < alpha:\n",
    "    print('Отвергаем нулевую гипотезу')\n",
    "else:\n",
    "    print('Не получилось отвергнуть нулевую гипотезу')"
   ]
  },
  {
   "cell_type": "markdown",
   "id": "37fd8b32",
   "metadata": {},
   "source": [
    "Гипотеза, о том что пользователи с подпиской проезжают больше 3130 метров, не может быть отвергнута, так как p-value равен 92%"
   ]
  },
  {
   "cell_type": "markdown",
   "id": "376aa1af",
   "metadata": {},
   "source": [
    "<div class=\"alert-info\" style=\"padding: 20px; border-radius: 10px\">\n",
    "<b>Комментарий студента 💎</b>\n",
    "  \n",
    "Пользователи с подпиской проезжают по статистике вероятно больше 3130 метров, тем самым сильнее изнашивают самокаты. \n",
    "</div>"
   ]
  },
  {
   "cell_type": "markdown",
   "id": "edc7cae1",
   "metadata": {},
   "source": [
    "<div class=\"alert-warning\" style=\"padding: 20px; border-radius: 10px\">\n",
    "<b>Комментарий ревьюера V2 ⚠️</b>\n",
    "\n",
    "Приведи пожалуйста свой вывод в соответсвие с формулировкой гипотезы и результатом статистического теста. </div>"
   ]
  },
  {
   "cell_type": "markdown",
   "id": "7e078fbc",
   "metadata": {},
   "source": [
    "<div class=\"alert-info\" style=\"padding: 20px; border-radius: 10px\">\n",
    "<b>Комментарий студента V2💎</b>\n",
    "    \n",
    "Выборочное среднее дистанции от значения, предполагаемого в H0, находится рядом и удовлетворяет условию в H1 c p-value 92%.\n",
    "    Из этого следует что пользователи с подпиской вероятнее всего проезжают больше 3130м и тем самым сильнее изнашивают самокаты.\n",
    "</div>\n",
    " "
   ]
  },
  {
   "cell_type": "markdown",
   "id": "99e37362",
   "metadata": {},
   "source": [
    "<div class=\"alert-warning\" style=\"padding: 20px; border-radius: 10px\">\n",
    "<b>Комментарий ревьюера V3 ⚠️</b>\n",
    "\n",
    "По итогам теста ты не отвергаешь нулевую гипотезе о равенстве средней дистанции поездки 3130. Это означает, что подписчики не превышают оптимальной дистанции по износу. </div>"
   ]
  },
  {
   "cell_type": "markdown",
   "id": "e91c2faf",
   "metadata": {},
   "source": [
    "<div class=\"alert-warning\" style=\"padding: 20px; border-radius: 10px\">\n",
    "<b>Комментарий ревьюера ⚠️</b>\n",
    "\n",
    "Статистический тест проведен правильно. Но как можно сформулировать вывод исходя из задачи поставленной бизнесом: изнашивают ли подписчики сильнее самокаты? </div>"
   ]
  },
  {
   "cell_type": "markdown",
   "id": "c9caa3d3",
   "metadata": {},
   "source": [
    "##### Гипотеза о том, будет ли помесячная выручка от пользователей с подпиской по месяцам выше, чем выручка от пользователей без подписки."
   ]
  },
  {
   "cell_type": "markdown",
   "id": "39d1cecb",
   "metadata": {},
   "source": [
    "<div class=\"alert-info\" style=\"padding: 20px; border-radius: 10px\">\n",
    "<b>Комментарий студента 💎</b>\n",
    "  \n",
    "H0 - пользователи с подпиской тратят в месяц столько же что и пользователи без подписки    \n",
    "H1 - пользователи с подпиской тратят в месяц больше чем пользователи без подписки\n",
    "</div>"
   ]
  },
  {
   "cell_type": "code",
   "execution_count": 30,
   "id": "92adbc06",
   "metadata": {},
   "outputs": [
    {
     "name": "stdout",
     "output_type": "stream",
     "text": [
      "p-value: 1.8850394384715216e-31\n",
      "Отвергаем нулевую гипотезу\n"
     ]
    }
   ],
   "source": [
    "ultra_group_income = data_total.query('subscription_type == \"ultra\"')['income']\n",
    "free_group_income = data_total.query('subscription_type == \"free\"')['income']\n",
    "alpha = 0.05\n",
    "results = st.ttest_ind(ultra_group_income, free_group_income, alternative='greater')\n",
    "print('p-value:', results.pvalue)\n",
    "if results.pvalue < alpha:\n",
    "    print('Отвергаем нулевую гипотезу')\n",
    "else:\n",
    "    print('Не получилось отвергнуть нулевую гипотезу')\n"
   ]
  },
  {
   "cell_type": "markdown",
   "id": "b743dd21",
   "metadata": {},
   "source": [
    "Полученное значение p-value меньше заданного уровня значимости, поэтому можно отвергнуть нулевую гипотезу. Есть основания говорить, что пользователи с подпиской тратят в сервисе меньше денег на поездку в месяц."
   ]
  },
  {
   "cell_type": "markdown",
   "id": "ee3c1a5c",
   "metadata": {},
   "source": [
    "<div class=\"alert-success\" style=\"border-radius: 10px; padding: 20px\">\n",
    "<b>Комментарий ревьюера V2 ✔️</b>\n",
    "\n",
    "Результат проверки гипотезы - правильный.\n",
    "</div>"
   ]
  },
  {
   "cell_type": "markdown",
   "id": "26ee8ce0",
   "metadata": {},
   "source": [
    "##### Представьте такую ситуацию: техническая команда сервиса обновила сервера, с которыми взаимодействует мобильное приложение. Она надеется, что из-за этого количество обращений в техподдержку значимо снизилось. Некоторый файл содержит для каждого пользователя данные о количестве обращений до обновления и после него. Какой тест вам понадобился бы для проверки этой гипотезы?\n"
   ]
  },
  {
   "cell_type": "markdown",
   "id": "6a44acb9",
   "metadata": {},
   "source": [
    "Необходима проверка левосторонней альтернативной гипотезы о равенстве средних для зависимых (парных) выборок(истинное среднее генеральной совокупности до изменения должно быть меньше, чем истинное среднее генеральной совокупности после изменения)."
   ]
  },
  {
   "cell_type": "markdown",
   "id": "2da1d78f",
   "metadata": {},
   "source": [
    "<div class=\"alert-success\" style=\"padding: 20px; border-radius: 10px\">\n",
    "<b>Комментарий ревьюера ✔️</b>\n",
    "\n",
    "Верно, чтобы проверить, значительно ли уменьшилось количество обращений в техподдержку после обновления серверов, можно использовать t-тест для парных выборок.\n",
    "\n",
    "</div>"
   ]
  },
  {
   "cell_type": "markdown",
   "id": "61213c5e",
   "metadata": {},
   "source": [
    "#### Шаг 7. Распределения"
   ]
  },
  {
   "cell_type": "markdown",
   "id": "5b9c0bde",
   "metadata": {},
   "source": [
    "##### Акция с раздачей промокодов"
   ]
  },
  {
   "cell_type": "code",
   "execution_count": 31,
   "id": "95cd1d51",
   "metadata": {},
   "outputs": [
    {
     "name": "stdout",
     "output_type": "stream",
     "text": [
      "0.05043959099661155\n"
     ]
    },
    {
     "data": {
      "text/plain": [
       "<BarContainer object of 857 artists>"
      ]
     },
     "execution_count": 31,
     "metadata": {},
     "output_type": "execute_result"
    },
    {
     "data": {
      "image/png": "[encoded data removed]",
      "text/plain": [
       "<Figure size 432x288 with 1 Axes>"
      ]
     },
     "metadata": {
      "needs_background": "light"
     },
     "output_type": "display_data"
    }
   ],
   "source": [
    "n = 856\n",
    "p = 0.1 \n",
    "\n",
    "mu = n * p\n",
    "sigma = sqrt(n * p * (1 - p))\n",
    "\n",
    "distr = st.norm(mu, sigma)\n",
    "\n",
    "result = 1 - distr.cdf(100)\n",
    "print(result)\n",
    "\n",
    "distr1 = []\n",
    "\n",
    "for k in range(0, n + 1):\n",
    "    choose = factorial(n) / (factorial(k) * factorial(n - k))\n",
    "    prob = choose * p**k * (1 - p)**(n - k) \n",
    "    distr1.append(prob)\n",
    "    \n",
    "plt.bar(range(0, n + 1), distr1)"
   ]
  },
  {
   "cell_type": "markdown",
   "id": "610f1f10",
   "metadata": {},
   "source": [
    "<div class=\"alert-warning\" style=\"padding: 20px; border-radius: 10px\">\n",
    "<b>Комментарий ревьюера ⚠️</b>\n",
    "\n",
    "Поясни пожалуйста, откуда сразу берется число 856 в параметрах распределения, которые ты задаешь?</div>"
   ]
  },
  {
   "cell_type": "markdown",
   "id": "eb11eb9c",
   "metadata": {},
   "source": [
    "<div class=\"alert-info\" style=\"padding: 20px; border-radius: 10px\">\n",
    "<b>Комментарий студента 💎</b>\n",
    "  \n",
    "n подбирал таким образом чтобы вероятность невыполнения составляла 5%\n",
    "</div>"
   ]
  },
  {
   "cell_type": "markdown",
   "id": "55863c20",
   "metadata": {},
   "source": [
    "<div class=\"alert-warning\" style=\"padding: 20px; border-radius: 10px\">\n",
    "<b>Комментарий ревьюера V2 ⚠️</b>\n",
    "\n",
    "Для решения задачи не нужно указывать количество промокодов напрямую, потому что оно зависит от заданных вероятности и уровня значимости (например, 5%).\n",
    "\n",
    "Можно использовать функцию биномиального распределения, где в качестве параметров задать количество клиентов, которые могут продлить подписку (то есть, клиенты, которым можно отправить промокод), вероятность продления подписки после использования промокода (10%), и число клиентов, которое должно продлить подписку (100).\n",
    "\n",
    "Затем нужно использовать цикл и посчитать вероятность, пока она не достигнет заданной. Для расчета вероятности можно использовать метод cdf().\n",
    "\n",
    "Таким образом, после нескольких итераций цикла можно получить количество промокодов, которое нужно разослать, чтобы вероятность не выполнения плана была примерно 5%\n",
    "\n",
    "</div>"
   ]
  },
  {
   "cell_type": "markdown",
   "id": "ccd75e08",
   "metadata": {},
   "source": [
    "Необходимо раздать 856 промокодов для вероятности невыполнения плана в 5%"
   ]
  },
  {
   "cell_type": "markdown",
   "id": "44d6f190",
   "metadata": {},
   "source": [
    "##### Отдел маркетинга рассылает клиентам push-уведомления в мобильном приложении."
   ]
  },
  {
   "cell_type": "code",
   "execution_count": 32,
   "id": "6d91f840",
   "metadata": {},
   "outputs": [
    {
     "name": "stdout",
     "output_type": "stream",
     "text": [
      "0.15371708296369768\n"
     ]
    }
   ],
   "source": [
    "n = 1000000\n",
    "p = 0.4\n",
    "\n",
    "mu = n * p\n",
    "sigma = sqrt(n * p * (1 - p))\n",
    "\n",
    "distr = st.norm(mu, sigma)\n",
    "\n",
    "result = distr.cdf(399500)\n",
    "print(result)\n"
   ]
  },
  {
   "cell_type": "markdown",
   "id": "e299c8c9",
   "metadata": {},
   "source": [
    "Вероятность что уведомление откроют 399,5 тыс пользователей, составляет 15%"
   ]
  },
  {
   "cell_type": "markdown",
   "id": "ba068345",
   "metadata": {},
   "source": [
    "<div class=\"alert-success\" style=\"padding: 20px; border-radius: 10px\">\n",
    "<b>Комментарий ревьюера ✔️</b>\n",
    "\n",
    "Здесь результат верный! 👍\n",
    "\n",
    "</div>"
   ]
  },
  {
   "cell_type": "markdown",
   "id": "62c8a9ce",
   "metadata": {},
   "source": [
    "<div class=\"alert-danger\" style=\"padding: 20px; border-radius: 10px\">\n",
    "<b>Комментарий ревьюера ❌</b>\n",
    "\n",
    "<s>Не хватает общего вывода по проекту.\n",
    "\n",
    "Общий вывод - важный элемент работы. Его нужно сформулировать, взяв основные результаты из всех шагов проекта. Начать нужно с того, с какими данными мы работали, сформулировать все основные результаты исследования, дать аргументированный ответ на главный вопрос исследования: являются ли подписчики более выгодными для компании?\n",
    "\n",
    "Заказчик, зачастую, читает только общий вывод исследования - поэтому он должен быть максимально информативным.</div>"
   ]
  },
  {
   "cell_type": "markdown",
   "id": "488e483a",
   "metadata": {},
   "source": [
    "<div style=\"border:solid steelblue 3px; padding: 20px; border-radius: 10px\">\n",
    "\n",
    "<b>Общий комментарий ревьюера:</b>\n",
    "\n",
    "Проделана большая работа над проектом. Но нужно кое-что поправить, чтобы я его принял.\n",
    "\n",
    "Есть несколько критических замечаний:\n",
    "    \n",
    "- по обработке дубликатов\n",
    "- по оформлению работы: вводная часть и промежуточные выводы по разделам\n",
    "- по расчету соотношения пользователей с подпиской и без\n",
    "- по описанию распределений возраста пользователей, расстояния и времени поездки\n",
    "- по сравнению расстояния и времени поездок разных категорий пользователей\n",
    "- по формулировке нулевой и альтернативной гипотез\n",
    "- по общему выводу\n",
    "\n",
    "Также, постарайся отработать желтые комментарии.\n",
    "\n",
    "Буду ждать твой доработанный проект. ⌛️</div>"
   ]
  },
  {
   "cell_type": "markdown",
   "id": "5c1c145b",
   "metadata": {},
   "source": [
    "\n",
    "#### Общий вывод \n",
    "В ходе работы над проектом исследованы три датафрейма о _пользователях, поездках и подписках._  \n",
    "    В датафрейме subscription содержится информация по тарифам с подпиской и без.  \n",
    "    Количество записей по поездкам равно 18068.  \n",
    "    Данные представлены за период от января до декабря 2021 года     \n",
    "    **На стадии предобработки было выявлено:**  \n",
    "    -Пропусков в данных не обнаружено.  \n",
    "    -В датафрейме с пользователями содержалось 31 явных дубликатов, которые впоследствии мы удалили.  \n",
    "    -Так же обнаружена аномалия в данных. 95 записей были с продолжитьельностью 30 сек. Эти записи были удалены, так как составляли 0.5% от всей всей выборки и не повляили бы на объективность проверки гипотез.  \n",
    "    **На шаге исследования было выявлено:**  \n",
    "    -Самый популярный город Пятигорск - 219 пользователей. Меньше всего пользователей в Москве - 168  \n",
    "    -Количество пользователей без подписки составляет 835 человек(54%), а пользователей с подпиской 699 человек(46%)  \n",
    "    -Самый распространенный возраст пользователей 25 лет.  \n",
    "    -Минимальное расстояние поездки 0.85км. Основной диапазон значений от 2.5км до 3.8км  \n",
    "    -Среднее время поездок составляет 17мин, максимальное 40 мин, минимальное 2 мин.Основной диапазон значений от 13 до 22 мин  \n",
    "    **Построены графики распределения расстояния и времени поездок для пользователей обеих категорий:**  \n",
    "    -Формы распеделения времени поездок схожи для категорий с подпиской и без, пики графиков находятся в районе 20 мин. Из-за большего количества поездок без подписок, график располагается выше.  \n",
    "    -График распределения расстояния для пользователей с подпиской имеет более явный пик в районе 3км, это говорит о однотипных по расстоянию поездках.  \n",
    "    **Подсчитана выручка:**  \n",
    "    Среднее значение помесячной выручки от пользователей с подпиской составляет 363руб.  \n",
    "    Среднее значение помесячной выручки от пользователей без подписки составляет 329руб.  \n",
    "    Среднее значение помесячной выручки от пользователей с подпиской выше примерно на 10%  \n",
    "    **На шаге проверки гипотез пришли к выводам:**  \n",
    "    1)Есть основания говорить, что пользователи с подпиской тратят в сервисе больше времени на поездку.  \n",
    "    2)Пользователи с подпиской проезжают по статистике вероятно больше 3130 метров, тем самым сильнее изнашивают самокаты.  \n",
    "    3)Есть основания говорить, что пользователи с подпиской тратят в сервисе меньше денег на поездку в месяц.  \n",
    "    Для проведения акции с раздачей промокодов на один бесплатный месяц подписки, в рамках которой как минимум 100 существующих клиентов должны продлить эту подписку с вероятностью успеха в 95% необходимо раздать 856 промокодов.  \n",
    "    Вероятность того, что 1 млн разосланных push-уведомлений, разосланных отделом маркетинга, откроют не более 399,5 тыс. пользователей составляет 15%.    "
   ]
  },
  {
   "cell_type": "markdown",
   "id": "1f4e53d8",
   "metadata": {},
   "source": [
    "<div class=\"alert-warning\" style=\"padding: 20px; border-radius: 10px\">\n",
    "<b>Комментарий ревьюера V2 ⚠️</b>\n",
    "\n",
    "В целом, хороший вывод. Я бы разделил его на абзацы для легкости чтения. Также, можно выделить **самые важные моменты** с помощью форматирования.\n",
    "\n",
    "Вот ссылочка, которая поможет отформатировать текст в ячейке Markdown\n",
    "\n",
    "https://medium.com/analytics-vidhya/the-ultimate-markdown-guide-for-jupyter-notebook-d5e5abf728fd</div>"
   ]
  },
  {
   "cell_type": "markdown",
   "id": "baeb0c7b",
   "metadata": {},
   "source": [
    "<div style=\"border:solid steelblue 3px; padding: 20px; border-radius: 10px\">\n",
    "\n",
    "<b>Общий комментарий ревьюера V2:</b>\n",
    "\n",
    "Спасибо, что дорабатываешь проект.\n",
    "\n",
    "У меня остались критические замечания:\n",
    "    \n",
    "- по описанию исследования (вводная часть)\n",
    "- по удалению части данных\n",
    "\n",
    "Также, посмотри новые желтые комментарии V2.\n",
    "\n",
    "Уверен, ты быстро всё поправишь. ⏱</div>"
   ]
  },
  {
   "cell_type": "markdown",
   "id": "f0ada09c",
   "metadata": {},
   "source": [
    "<div style=\"border:solid steelblue 3px; padding: 20px; border-radius: 10px\">\n",
    "\n",
    "<b>Общий комментарий ревьюера V3</b>\n",
    "\n",
    "Спасибо, что доработал проект! Критических замечаний больше нет, получилась хорошая работа.\n",
    "\n",
    "Успехов в дальнейшем обучении! 🏆\n",
    "\n",
    "</div>"
   ]
  },
  {
   "cell_type": "code",
   "execution_count": null,
   "id": "28a7caca",
   "metadata": {},
   "outputs": [],
   "source": []
  }
 ],
 "metadata": {
  "ExecuteTimeLog": [
   {
    "duration": 52,
    "start_time": "2023-06-14T20:09:40.454Z"
   },
   {
    "duration": 375,
    "start_time": "2023-06-14T20:09:46.312Z"
   },
   {
    "duration": 107,
    "start_time": "2023-06-14T20:09:48.700Z"
   },
   {
    "duration": 278,
    "start_time": "2023-06-14T20:11:13.700Z"
   },
   {
    "duration": 75,
    "start_time": "2023-06-14T20:12:06.828Z"
   },
   {
    "duration": 70,
    "start_time": "2023-06-14T20:12:51.401Z"
   },
   {
    "duration": 8,
    "start_time": "2023-06-14T20:40:44.220Z"
   },
   {
    "duration": 73,
    "start_time": "2023-06-14T20:42:14.689Z"
   },
   {
    "duration": 16,
    "start_time": "2023-06-14T20:42:56.488Z"
   },
   {
    "duration": 114,
    "start_time": "2023-06-14T20:47:29.021Z"
   },
   {
    "duration": 1160,
    "start_time": "2023-06-14T20:48:53.618Z"
   },
   {
    "duration": 99,
    "start_time": "2023-06-14T20:49:09.314Z"
   },
   {
    "duration": 144,
    "start_time": "2023-06-14T20:49:25.330Z"
   },
   {
    "duration": 110,
    "start_time": "2023-06-14T20:49:38.397Z"
   },
   {
    "duration": 1826,
    "start_time": "2023-06-14T20:50:01.389Z"
   },
   {
    "duration": 18,
    "start_time": "2023-06-14T20:50:57.712Z"
   },
   {
    "duration": 1022,
    "start_time": "2023-06-14T20:51:31.027Z"
   },
   {
    "duration": 13,
    "start_time": "2023-06-14T20:53:23.456Z"
   },
   {
    "duration": 14,
    "start_time": "2023-06-14T20:53:36.932Z"
   },
   {
    "duration": 57,
    "start_time": "2023-06-14T20:53:52.516Z"
   },
   {
    "duration": 18,
    "start_time": "2023-06-14T20:54:15.940Z"
   },
   {
    "duration": 14,
    "start_time": "2023-06-14T20:54:26.439Z"
   },
   {
    "duration": 14,
    "start_time": "2023-06-14T20:54:40.393Z"
   },
   {
    "duration": 3,
    "start_time": "2023-06-14T20:55:29.137Z"
   },
   {
    "duration": 18,
    "start_time": "2023-06-14T20:55:34.326Z"
   },
   {
    "duration": 79,
    "start_time": "2023-06-14T20:56:43.933Z"
   },
   {
    "duration": 1167,
    "start_time": "2023-06-14T20:57:19.924Z"
   },
   {
    "duration": 1181,
    "start_time": "2023-06-14T20:57:31.359Z"
   },
   {
    "duration": 1273,
    "start_time": "2023-06-14T21:48:02.008Z"
   },
   {
    "duration": 2,
    "start_time": "2023-06-14T21:48:49.345Z"
   },
   {
    "duration": 834,
    "start_time": "2023-06-14T21:48:51.245Z"
   },
   {
    "duration": 68,
    "start_time": "2023-06-14T21:54:48.832Z"
   },
   {
    "duration": 11,
    "start_time": "2023-06-14T21:54:51.492Z"
   },
   {
    "duration": 742,
    "start_time": "2023-06-14T21:54:58.719Z"
   },
   {
    "duration": 7,
    "start_time": "2023-06-14T22:05:19.416Z"
   },
   {
    "duration": 11,
    "start_time": "2023-06-14T22:06:57.627Z"
   },
   {
    "duration": 1191,
    "start_time": "2023-06-14T22:06:59.164Z"
   },
   {
    "duration": 11,
    "start_time": "2023-06-14T22:08:54.636Z"
   },
   {
    "duration": 15,
    "start_time": "2023-06-14T22:11:35.203Z"
   },
   {
    "duration": 10,
    "start_time": "2023-06-14T22:13:20.908Z"
   },
   {
    "duration": 18,
    "start_time": "2023-06-14T22:13:37.992Z"
   },
   {
    "duration": 5,
    "start_time": "2023-06-14T22:14:24.294Z"
   },
   {
    "duration": 89,
    "start_time": "2023-06-14T22:14:24.302Z"
   },
   {
    "duration": 12,
    "start_time": "2023-06-14T22:14:24.394Z"
   },
   {
    "duration": 933,
    "start_time": "2023-06-14T22:14:24.407Z"
   },
   {
    "duration": 16,
    "start_time": "2023-06-14T22:14:25.343Z"
   },
   {
    "duration": 36,
    "start_time": "2023-06-14T22:14:25.360Z"
   },
   {
    "duration": 1359,
    "start_time": "2023-06-14T22:14:25.397Z"
   },
   {
    "duration": 12,
    "start_time": "2023-06-14T22:14:26.758Z"
   },
   {
    "duration": 17,
    "start_time": "2023-06-14T22:14:26.772Z"
   },
   {
    "duration": 24,
    "start_time": "2023-06-14T22:14:50.430Z"
   },
   {
    "duration": 23,
    "start_time": "2023-06-14T22:15:32.621Z"
   },
   {
    "duration": 5,
    "start_time": "2023-06-14T22:21:33.727Z"
   },
   {
    "duration": 5,
    "start_time": "2023-06-14T22:22:34.215Z"
   },
   {
    "duration": 1042,
    "start_time": "2023-06-14T22:27:13.956Z"
   },
   {
    "duration": 128,
    "start_time": "2023-06-14T22:27:39.461Z"
   },
   {
    "duration": 95,
    "start_time": "2023-06-14T22:27:53.188Z"
   },
   {
    "duration": 137,
    "start_time": "2023-06-14T22:32:06.661Z"
   },
   {
    "duration": 148,
    "start_time": "2023-06-14T22:33:10.970Z"
   },
   {
    "duration": 5,
    "start_time": "2023-06-14T22:42:17.413Z"
   },
   {
    "duration": 110,
    "start_time": "2023-06-14T22:43:27.337Z"
   },
   {
    "duration": 14,
    "start_time": "2023-06-14T22:43:54.638Z"
   },
   {
    "duration": 15,
    "start_time": "2023-06-14T22:44:16.546Z"
   },
   {
    "duration": 15,
    "start_time": "2023-06-14T22:44:33.765Z"
   },
   {
    "duration": 18,
    "start_time": "2023-06-14T22:45:01.904Z"
   },
   {
    "duration": 21,
    "start_time": "2023-06-14T22:45:07.285Z"
   },
   {
    "duration": 8,
    "start_time": "2023-06-14T22:45:22.089Z"
   },
   {
    "duration": 16,
    "start_time": "2023-06-14T22:45:46.964Z"
   },
   {
    "duration": 255,
    "start_time": "2023-06-14T22:47:11.256Z"
   },
   {
    "duration": 264,
    "start_time": "2023-06-14T22:47:17.732Z"
   },
   {
    "duration": 8,
    "start_time": "2023-06-14T22:48:57.729Z"
   },
   {
    "duration": 302,
    "start_time": "2023-06-14T22:49:37.779Z"
   },
   {
    "duration": 286,
    "start_time": "2023-06-14T22:49:57.983Z"
   },
   {
    "duration": 257,
    "start_time": "2023-06-14T22:50:40.115Z"
   },
   {
    "duration": 242,
    "start_time": "2023-06-14T22:50:57.185Z"
   },
   {
    "duration": 279,
    "start_time": "2023-06-14T22:51:06.350Z"
   },
   {
    "duration": 10,
    "start_time": "2023-06-14T22:57:36.742Z"
   },
   {
    "duration": 207,
    "start_time": "2023-06-14T22:57:48.302Z"
   },
   {
    "duration": 10,
    "start_time": "2023-06-14T22:58:24.030Z"
   },
   {
    "duration": 393,
    "start_time": "2023-06-14T22:58:33.811Z"
   },
   {
    "duration": 11,
    "start_time": "2023-06-14T22:58:47.833Z"
   },
   {
    "duration": 11,
    "start_time": "2023-06-14T22:59:00.861Z"
   },
   {
    "duration": 102,
    "start_time": "2023-06-14T22:59:22.789Z"
   },
   {
    "duration": 46,
    "start_time": "2023-06-15T16:06:14.811Z"
   },
   {
    "duration": 791,
    "start_time": "2023-06-15T16:06:35.243Z"
   },
   {
    "duration": 289,
    "start_time": "2023-06-15T16:06:36.036Z"
   },
   {
    "duration": 12,
    "start_time": "2023-06-15T16:06:36.327Z"
   },
   {
    "duration": 894,
    "start_time": "2023-06-15T16:06:36.341Z"
   },
   {
    "duration": 27,
    "start_time": "2023-06-15T16:06:37.236Z"
   },
   {
    "duration": 57,
    "start_time": "2023-06-15T16:06:37.265Z"
   },
   {
    "duration": 1267,
    "start_time": "2023-06-15T16:06:37.323Z"
   },
   {
    "duration": 7,
    "start_time": "2023-06-15T16:06:38.592Z"
   },
   {
    "duration": 28,
    "start_time": "2023-06-15T16:06:38.600Z"
   },
   {
    "duration": 157,
    "start_time": "2023-06-15T16:06:38.630Z"
   },
   {
    "duration": 4,
    "start_time": "2023-06-15T16:06:38.789Z"
   },
   {
    "duration": 128,
    "start_time": "2023-06-15T16:06:38.795Z"
   },
   {
    "duration": 252,
    "start_time": "2023-06-15T16:06:38.925Z"
   },
   {
    "duration": 247,
    "start_time": "2023-06-15T16:13:39.473Z"
   },
   {
    "duration": 232,
    "start_time": "2023-06-15T16:14:12.004Z"
   },
   {
    "duration": 250,
    "start_time": "2023-06-15T16:14:30.133Z"
   },
   {
    "duration": 262,
    "start_time": "2023-06-15T16:21:44.346Z"
   },
   {
    "duration": 312,
    "start_time": "2023-06-15T16:25:24.531Z"
   },
   {
    "duration": 33,
    "start_time": "2023-06-15T18:26:25.046Z"
   },
   {
    "duration": 16,
    "start_time": "2023-06-15T18:26:42.216Z"
   },
   {
    "duration": 18,
    "start_time": "2023-06-15T18:27:17.815Z"
   },
   {
    "duration": 17,
    "start_time": "2023-06-15T18:30:24.173Z"
   },
   {
    "duration": 25,
    "start_time": "2023-06-15T18:31:20.202Z"
   },
   {
    "duration": 14,
    "start_time": "2023-06-15T18:35:06.057Z"
   },
   {
    "duration": 21,
    "start_time": "2023-06-15T18:36:38.607Z"
   },
   {
    "duration": 334,
    "start_time": "2023-06-15T18:57:19.451Z"
   },
   {
    "duration": 332,
    "start_time": "2023-06-15T18:57:59.894Z"
   },
   {
    "duration": 280,
    "start_time": "2023-06-15T18:58:25.634Z"
   },
   {
    "duration": 271,
    "start_time": "2023-06-15T18:58:35.118Z"
   },
   {
    "duration": 247,
    "start_time": "2023-06-15T18:58:44.641Z"
   },
   {
    "duration": 199,
    "start_time": "2023-06-15T18:58:51.950Z"
   },
   {
    "duration": 154,
    "start_time": "2023-06-15T18:59:05.022Z"
   },
   {
    "duration": 508,
    "start_time": "2023-06-15T19:04:36.106Z"
   },
   {
    "duration": 293,
    "start_time": "2023-06-15T19:04:45.649Z"
   },
   {
    "duration": 208,
    "start_time": "2023-06-15T19:05:34.006Z"
   },
   {
    "duration": 198,
    "start_time": "2023-06-15T19:06:40.910Z"
   },
   {
    "duration": 427,
    "start_time": "2023-06-15T19:07:02.119Z"
   },
   {
    "duration": 350,
    "start_time": "2023-06-15T19:07:15.406Z"
   },
   {
    "duration": 204,
    "start_time": "2023-06-15T19:07:24.623Z"
   },
   {
    "duration": 201,
    "start_time": "2023-06-15T19:07:35.927Z"
   },
   {
    "duration": 297,
    "start_time": "2023-06-15T19:08:13.306Z"
   },
   {
    "duration": 459,
    "start_time": "2023-06-15T19:08:44.614Z"
   },
   {
    "duration": 589,
    "start_time": "2023-06-15T19:08:58.824Z"
   },
   {
    "duration": 288,
    "start_time": "2023-06-15T19:09:46.214Z"
   },
   {
    "duration": 34,
    "start_time": "2023-06-15T19:10:23.502Z"
   },
   {
    "duration": 307,
    "start_time": "2023-06-15T19:12:55.718Z"
   },
   {
    "duration": 8,
    "start_time": "2023-06-15T19:16:39.018Z"
   },
   {
    "duration": 8,
    "start_time": "2023-06-15T19:18:52.806Z"
   },
   {
    "duration": 8,
    "start_time": "2023-06-15T19:19:34.906Z"
   },
   {
    "duration": 608,
    "start_time": "2023-06-15T19:19:54.806Z"
   },
   {
    "duration": 1246,
    "start_time": "2023-06-15T19:20:16.448Z"
   },
   {
    "duration": 1531,
    "start_time": "2023-06-15T19:20:44.939Z"
   },
   {
    "duration": 804,
    "start_time": "2023-06-15T19:21:22.723Z"
   },
   {
    "duration": 1657,
    "start_time": "2023-06-15T19:21:52.908Z"
   },
   {
    "duration": 31,
    "start_time": "2023-06-15T19:33:45.626Z"
   },
   {
    "duration": 66,
    "start_time": "2023-06-15T19:34:32.297Z"
   },
   {
    "duration": 35,
    "start_time": "2023-06-15T19:34:50.812Z"
   },
   {
    "duration": 26,
    "start_time": "2023-06-15T19:35:26.895Z"
   },
   {
    "duration": 26,
    "start_time": "2023-06-15T19:36:31.739Z"
   },
   {
    "duration": 69,
    "start_time": "2023-06-15T19:37:53.805Z"
   },
   {
    "duration": 57,
    "start_time": "2023-06-15T19:38:48.253Z"
   },
   {
    "duration": 65,
    "start_time": "2023-06-15T19:38:53.903Z"
   },
   {
    "duration": 86,
    "start_time": "2023-06-15T19:38:57.469Z"
   },
   {
    "duration": 91,
    "start_time": "2023-06-15T19:39:01.606Z"
   },
   {
    "duration": 27,
    "start_time": "2023-06-15T19:39:05.584Z"
   },
   {
    "duration": 31,
    "start_time": "2023-06-15T19:39:43.006Z"
   },
   {
    "duration": 20,
    "start_time": "2023-06-15T19:42:59.932Z"
   },
   {
    "duration": 35,
    "start_time": "2023-06-15T19:43:10.540Z"
   },
   {
    "duration": 21,
    "start_time": "2023-06-15T19:43:18.734Z"
   },
   {
    "duration": 3,
    "start_time": "2023-06-15T19:47:37.435Z"
   },
   {
    "duration": 4,
    "start_time": "2023-06-15T19:48:18.523Z"
   },
   {
    "duration": 22,
    "start_time": "2023-06-15T19:48:31.836Z"
   },
   {
    "duration": 21,
    "start_time": "2023-06-15T19:48:59.954Z"
   },
   {
    "duration": 74,
    "start_time": "2023-06-15T19:49:08.740Z"
   },
   {
    "duration": 15,
    "start_time": "2023-06-15T19:49:30.881Z"
   },
   {
    "duration": 20,
    "start_time": "2023-06-15T19:49:42.844Z"
   },
   {
    "duration": 12,
    "start_time": "2023-06-15T19:50:12.403Z"
   },
   {
    "duration": 19,
    "start_time": "2023-06-15T19:50:26.768Z"
   },
   {
    "duration": 34,
    "start_time": "2023-06-15T19:50:39.418Z"
   },
   {
    "duration": 24,
    "start_time": "2023-06-15T19:52:04.532Z"
   },
   {
    "duration": 41,
    "start_time": "2023-06-15T19:52:21.912Z"
   },
   {
    "duration": 12,
    "start_time": "2023-06-15T19:52:50.008Z"
   },
   {
    "duration": 26,
    "start_time": "2023-06-15T19:53:36.823Z"
   },
   {
    "duration": 12,
    "start_time": "2023-06-15T19:57:47.509Z"
   },
   {
    "duration": 12,
    "start_time": "2023-06-15T19:58:37.933Z"
   },
   {
    "duration": 10,
    "start_time": "2023-06-15T20:01:01.712Z"
   },
   {
    "duration": 8,
    "start_time": "2023-06-15T20:01:52.504Z"
   },
   {
    "duration": 11,
    "start_time": "2023-06-15T20:02:20.404Z"
   },
   {
    "duration": 19,
    "start_time": "2023-06-15T20:10:29.800Z"
   },
   {
    "duration": 27,
    "start_time": "2023-06-15T20:10:42.608Z"
   },
   {
    "duration": 998,
    "start_time": "2023-06-15T20:12:08.554Z"
   },
   {
    "duration": 23,
    "start_time": "2023-06-15T20:12:27.055Z"
   },
   {
    "duration": 20,
    "start_time": "2023-06-15T20:13:13.333Z"
   },
   {
    "duration": 29,
    "start_time": "2023-06-15T20:13:43.708Z"
   },
   {
    "duration": 27,
    "start_time": "2023-06-15T20:22:18.315Z"
   },
   {
    "duration": 27,
    "start_time": "2023-06-15T20:22:37.507Z"
   },
   {
    "duration": 28,
    "start_time": "2023-06-15T20:22:51.824Z"
   },
   {
    "duration": 35,
    "start_time": "2023-06-15T20:27:00.848Z"
   },
   {
    "duration": 29,
    "start_time": "2023-06-15T20:27:55.459Z"
   },
   {
    "duration": 1150,
    "start_time": "2023-06-15T20:29:01.203Z"
   },
   {
    "duration": 1083,
    "start_time": "2023-06-15T21:41:12.766Z"
   },
   {
    "duration": 38,
    "start_time": "2023-06-15T21:45:01.261Z"
   },
   {
    "duration": 1011,
    "start_time": "2023-06-15T21:48:59.543Z"
   },
   {
    "duration": 36,
    "start_time": "2023-06-15T21:49:42.812Z"
   },
   {
    "duration": 996,
    "start_time": "2023-06-15T21:50:10.653Z"
   },
   {
    "duration": 996,
    "start_time": "2023-06-15T21:50:36.873Z"
   },
   {
    "duration": 32,
    "start_time": "2023-06-15T21:50:51.253Z"
   },
   {
    "duration": 1020,
    "start_time": "2023-06-15T21:51:52.448Z"
   },
   {
    "duration": 36,
    "start_time": "2023-06-15T22:00:36.685Z"
   },
   {
    "duration": 27,
    "start_time": "2023-06-15T22:01:30.726Z"
   },
   {
    "duration": 17,
    "start_time": "2023-06-15T22:13:45.513Z"
   },
   {
    "duration": 1770,
    "start_time": "2023-06-15T22:14:43.713Z"
   },
   {
    "duration": 883,
    "start_time": "2023-06-15T22:15:40.017Z"
   },
   {
    "duration": 1806,
    "start_time": "2023-06-15T22:20:46.509Z"
   },
   {
    "duration": 922,
    "start_time": "2023-06-15T22:21:35.029Z"
   },
   {
    "duration": 3,
    "start_time": "2023-06-15T22:24:19.466Z"
   },
   {
    "duration": 14,
    "start_time": "2023-06-15T22:24:29.271Z"
   },
   {
    "duration": 19,
    "start_time": "2023-06-15T22:24:37.337Z"
   },
   {
    "duration": 67,
    "start_time": "2023-06-15T22:31:18.809Z"
   },
   {
    "duration": 16,
    "start_time": "2023-06-15T22:31:25.905Z"
   },
   {
    "duration": 15,
    "start_time": "2023-06-15T22:31:47.309Z"
   },
   {
    "duration": 14,
    "start_time": "2023-06-15T22:31:52.957Z"
   },
   {
    "duration": 9,
    "start_time": "2023-06-15T22:33:08.629Z"
   },
   {
    "duration": 1002,
    "start_time": "2023-06-15T22:37:09.021Z"
   },
   {
    "duration": 52,
    "start_time": "2023-06-16T16:54:14.230Z"
   },
   {
    "duration": 1429,
    "start_time": "2023-06-16T16:54:18.859Z"
   },
   {
    "duration": 312,
    "start_time": "2023-06-16T16:54:20.290Z"
   },
   {
    "duration": 15,
    "start_time": "2023-06-16T16:54:20.604Z"
   },
   {
    "duration": 877,
    "start_time": "2023-06-16T16:54:20.623Z"
   },
   {
    "duration": 33,
    "start_time": "2023-06-16T16:54:21.502Z"
   },
   {
    "duration": 18,
    "start_time": "2023-06-16T16:54:21.537Z"
   },
   {
    "duration": 1371,
    "start_time": "2023-06-16T16:54:21.556Z"
   },
   {
    "duration": 7,
    "start_time": "2023-06-16T16:54:22.928Z"
   },
   {
    "duration": 26,
    "start_time": "2023-06-16T16:54:22.937Z"
   },
   {
    "duration": 168,
    "start_time": "2023-06-16T16:54:22.965Z"
   },
   {
    "duration": 5,
    "start_time": "2023-06-16T16:54:23.134Z"
   },
   {
    "duration": 137,
    "start_time": "2023-06-16T16:54:23.141Z"
   },
   {
    "duration": 294,
    "start_time": "2023-06-16T16:54:23.280Z"
   },
   {
    "duration": 314,
    "start_time": "2023-06-16T16:54:23.575Z"
   },
   {
    "duration": 371,
    "start_time": "2023-06-16T16:54:23.891Z"
   },
   {
    "duration": 20,
    "start_time": "2023-06-16T16:54:24.264Z"
   },
   {
    "duration": 42,
    "start_time": "2023-06-16T16:54:24.286Z"
   },
   {
    "duration": 1580,
    "start_time": "2023-06-16T16:54:24.330Z"
   },
   {
    "duration": 1195,
    "start_time": "2023-06-16T16:54:25.912Z"
   },
   {
    "duration": 3,
    "start_time": "2023-06-16T17:59:36.455Z"
   },
   {
    "duration": 7,
    "start_time": "2023-06-16T18:01:12.077Z"
   },
   {
    "duration": 8,
    "start_time": "2023-06-16T18:09:00.550Z"
   },
   {
    "duration": 7,
    "start_time": "2023-06-16T18:11:30.991Z"
   },
   {
    "duration": 6,
    "start_time": "2023-06-16T18:26:57.545Z"
   },
   {
    "duration": 7,
    "start_time": "2023-06-16T18:35:04.359Z"
   },
   {
    "duration": 116,
    "start_time": "2023-06-16T18:50:29.812Z"
   },
   {
    "duration": 10,
    "start_time": "2023-06-16T18:50:38.697Z"
   },
   {
    "duration": 16,
    "start_time": "2023-06-16T18:51:00.079Z"
   },
   {
    "duration": 14,
    "start_time": "2023-06-16T18:52:05.376Z"
   },
   {
    "duration": 65,
    "start_time": "2023-06-16T18:53:03.008Z"
   },
   {
    "duration": 13,
    "start_time": "2023-06-16T18:53:36.266Z"
   },
   {
    "duration": 28,
    "start_time": "2023-06-16T18:54:17.855Z"
   },
   {
    "duration": 36,
    "start_time": "2023-06-16T18:55:01.205Z"
   },
   {
    "duration": 14,
    "start_time": "2023-06-16T18:55:13.293Z"
   },
   {
    "duration": 9,
    "start_time": "2023-06-16T21:23:17.176Z"
   },
   {
    "duration": 3,
    "start_time": "2023-06-16T21:24:08.496Z"
   },
   {
    "duration": 6,
    "start_time": "2023-06-16T21:24:15.283Z"
   },
   {
    "duration": 5,
    "start_time": "2023-06-16T21:24:25.275Z"
   },
   {
    "duration": 10,
    "start_time": "2023-06-16T21:24:30.767Z"
   },
   {
    "duration": 7,
    "start_time": "2023-06-16T21:24:36.201Z"
   },
   {
    "duration": 11,
    "start_time": "2023-06-16T21:24:40.950Z"
   },
   {
    "duration": 7,
    "start_time": "2023-06-16T21:24:50.835Z"
   },
   {
    "duration": 11,
    "start_time": "2023-06-16T21:24:58.530Z"
   },
   {
    "duration": 6,
    "start_time": "2023-06-16T21:27:10.202Z"
   },
   {
    "duration": 8,
    "start_time": "2023-06-16T21:27:15.050Z"
   },
   {
    "duration": 15,
    "start_time": "2023-06-16T21:27:29.748Z"
   },
   {
    "duration": 5,
    "start_time": "2023-06-16T21:27:35.167Z"
   },
   {
    "duration": 11,
    "start_time": "2023-06-16T21:27:39.960Z"
   },
   {
    "duration": 8,
    "start_time": "2023-06-16T21:27:44.656Z"
   },
   {
    "duration": 6,
    "start_time": "2023-06-16T21:27:57.475Z"
   },
   {
    "duration": 6,
    "start_time": "2023-06-16T21:28:04.739Z"
   },
   {
    "duration": 6,
    "start_time": "2023-06-16T21:28:09.705Z"
   },
   {
    "duration": 7,
    "start_time": "2023-06-16T21:28:28.294Z"
   },
   {
    "duration": 5,
    "start_time": "2023-06-16T21:28:48.593Z"
   },
   {
    "duration": 12,
    "start_time": "2023-06-16T21:28:54.932Z"
   },
   {
    "duration": 13,
    "start_time": "2023-06-16T21:29:00.547Z"
   },
   {
    "duration": 5,
    "start_time": "2023-06-16T21:29:04.373Z"
   },
   {
    "duration": 7,
    "start_time": "2023-06-16T21:29:09.545Z"
   },
   {
    "duration": 1542,
    "start_time": "2023-06-16T21:37:07.564Z"
   },
   {
    "duration": 152,
    "start_time": "2023-06-16T21:37:56.106Z"
   },
   {
    "duration": 1484,
    "start_time": "2023-06-16T21:48:51.698Z"
   },
   {
    "duration": 0,
    "start_time": "2023-06-16T22:04:27.559Z"
   },
   {
    "duration": 5,
    "start_time": "2023-06-16T22:07:33.550Z"
   },
   {
    "duration": 7,
    "start_time": "2023-06-16T22:07:49.690Z"
   },
   {
    "duration": 9,
    "start_time": "2023-06-16T22:09:43.862Z"
   },
   {
    "duration": 1437,
    "start_time": "2023-06-17T01:51:27.156Z"
   },
   {
    "duration": 564,
    "start_time": "2023-06-17T01:51:28.595Z"
   },
   {
    "duration": 14,
    "start_time": "2023-06-17T01:51:29.161Z"
   },
   {
    "duration": 962,
    "start_time": "2023-06-17T01:51:29.177Z"
   },
   {
    "duration": 21,
    "start_time": "2023-06-17T01:51:30.141Z"
   },
   {
    "duration": 57,
    "start_time": "2023-06-17T01:51:30.164Z"
   },
   {
    "duration": 1480,
    "start_time": "2023-06-17T01:51:30.223Z"
   },
   {
    "duration": 14,
    "start_time": "2023-06-17T01:51:31.705Z"
   },
   {
    "duration": 44,
    "start_time": "2023-06-17T01:51:31.721Z"
   },
   {
    "duration": 159,
    "start_time": "2023-06-17T01:51:31.768Z"
   },
   {
    "duration": 5,
    "start_time": "2023-06-17T01:51:31.929Z"
   },
   {
    "duration": 154,
    "start_time": "2023-06-17T01:51:31.935Z"
   },
   {
    "duration": 341,
    "start_time": "2023-06-17T01:51:32.091Z"
   },
   {
    "duration": 295,
    "start_time": "2023-06-17T01:51:32.433Z"
   },
   {
    "duration": 370,
    "start_time": "2023-06-17T01:51:32.730Z"
   },
   {
    "duration": 31,
    "start_time": "2023-06-17T01:51:33.102Z"
   },
   {
    "duration": 24,
    "start_time": "2023-06-17T01:51:33.134Z"
   },
   {
    "duration": 1655,
    "start_time": "2023-06-17T01:51:33.160Z"
   },
   {
    "duration": 1179,
    "start_time": "2023-06-17T01:51:34.817Z"
   },
   {
    "duration": 7,
    "start_time": "2023-06-17T01:51:35.998Z"
   },
   {
    "duration": 8,
    "start_time": "2023-06-17T01:51:36.014Z"
   },
   {
    "duration": 22,
    "start_time": "2023-06-17T01:51:36.024Z"
   },
   {
    "duration": 1405,
    "start_time": "2023-06-17T01:51:36.048Z"
   },
   {
    "duration": 6,
    "start_time": "2023-06-17T01:51:37.455Z"
   },
   {
    "duration": 1294,
    "start_time": "2023-06-17T14:29:45.112Z"
   },
   {
    "duration": 303,
    "start_time": "2023-06-17T14:29:46.408Z"
   },
   {
    "duration": 15,
    "start_time": "2023-06-17T14:29:46.713Z"
   },
   {
    "duration": 864,
    "start_time": "2023-06-17T14:29:46.731Z"
   },
   {
    "duration": 19,
    "start_time": "2023-06-17T14:29:47.597Z"
   },
   {
    "duration": 22,
    "start_time": "2023-06-17T14:29:47.617Z"
   },
   {
    "duration": 1198,
    "start_time": "2023-06-17T14:29:47.640Z"
   },
   {
    "duration": 14,
    "start_time": "2023-06-17T14:29:48.840Z"
   },
   {
    "duration": 32,
    "start_time": "2023-06-17T14:29:48.855Z"
   },
   {
    "duration": 147,
    "start_time": "2023-06-17T14:29:48.889Z"
   },
   {
    "duration": 15,
    "start_time": "2023-06-17T14:29:49.039Z"
   },
   {
    "duration": 133,
    "start_time": "2023-06-17T14:29:49.056Z"
   },
   {
    "duration": 269,
    "start_time": "2023-06-17T14:29:49.191Z"
   },
   {
    "duration": 251,
    "start_time": "2023-06-17T14:29:49.462Z"
   },
   {
    "duration": 311,
    "start_time": "2023-06-17T14:29:49.715Z"
   },
   {
    "duration": 32,
    "start_time": "2023-06-17T14:29:50.027Z"
   },
   {
    "duration": 20,
    "start_time": "2023-06-17T14:29:50.060Z"
   },
   {
    "duration": 1512,
    "start_time": "2023-06-17T14:29:50.082Z"
   },
   {
    "duration": 1093,
    "start_time": "2023-06-17T14:29:51.596Z"
   },
   {
    "duration": 6,
    "start_time": "2023-06-17T14:29:52.690Z"
   },
   {
    "duration": 25,
    "start_time": "2023-06-17T14:29:52.697Z"
   },
   {
    "duration": 10,
    "start_time": "2023-06-17T14:29:52.724Z"
   },
   {
    "duration": 1352,
    "start_time": "2023-06-17T14:29:52.736Z"
   },
   {
    "duration": 5,
    "start_time": "2023-06-17T14:29:54.090Z"
   },
   {
    "duration": 105,
    "start_time": "2023-06-17T14:39:00.670Z"
   },
   {
    "duration": 7,
    "start_time": "2023-06-17T14:39:11.686Z"
   },
   {
    "duration": 7,
    "start_time": "2023-06-17T14:43:13.401Z"
   },
   {
    "duration": 104,
    "start_time": "2023-06-17T14:49:23.419Z"
   },
   {
    "duration": 1408,
    "start_time": "2023-06-17T16:13:15.397Z"
   },
   {
    "duration": 196,
    "start_time": "2023-06-17T16:13:16.808Z"
   },
   {
    "duration": 26,
    "start_time": "2023-06-17T16:13:17.006Z"
   },
   {
    "duration": 843,
    "start_time": "2023-06-17T16:13:17.036Z"
   },
   {
    "duration": 19,
    "start_time": "2023-06-17T16:13:17.881Z"
   },
   {
    "duration": 27,
    "start_time": "2023-06-17T16:13:17.902Z"
   },
   {
    "duration": 1491,
    "start_time": "2023-06-17T16:13:17.931Z"
   },
   {
    "duration": 8,
    "start_time": "2023-06-17T16:13:19.424Z"
   },
   {
    "duration": 46,
    "start_time": "2023-06-17T16:13:19.433Z"
   },
   {
    "duration": 158,
    "start_time": "2023-06-17T16:13:19.481Z"
   },
   {
    "duration": 13,
    "start_time": "2023-06-17T16:13:19.641Z"
   },
   {
    "duration": 132,
    "start_time": "2023-06-17T16:13:19.656Z"
   },
   {
    "duration": 274,
    "start_time": "2023-06-17T16:13:19.790Z"
   },
   {
    "duration": 282,
    "start_time": "2023-06-17T16:13:20.067Z"
   },
   {
    "duration": 396,
    "start_time": "2023-06-17T16:13:20.351Z"
   },
   {
    "duration": 24,
    "start_time": "2023-06-17T16:13:20.751Z"
   },
   {
    "duration": 36,
    "start_time": "2023-06-17T16:13:20.777Z"
   },
   {
    "duration": 7,
    "start_time": "2023-06-17T16:13:20.815Z"
   },
   {
    "duration": 1671,
    "start_time": "2023-06-17T16:13:20.824Z"
   },
   {
    "duration": 1092,
    "start_time": "2023-06-17T16:13:22.497Z"
   },
   {
    "duration": 7,
    "start_time": "2023-06-17T16:13:23.591Z"
   },
   {
    "duration": 7,
    "start_time": "2023-06-17T16:13:23.600Z"
   },
   {
    "duration": 7,
    "start_time": "2023-06-17T16:13:23.609Z"
   },
   {
    "duration": 35,
    "start_time": "2023-06-17T16:13:23.618Z"
   },
   {
    "duration": 1415,
    "start_time": "2023-06-17T16:13:23.654Z"
   },
   {
    "duration": 7,
    "start_time": "2023-06-17T16:13:25.071Z"
   },
   {
    "duration": 18,
    "start_time": "2023-06-17T16:14:42.666Z"
   },
   {
    "duration": 17,
    "start_time": "2023-06-17T18:41:29.571Z"
   },
   {
    "duration": 93,
    "start_time": "2023-06-17T18:44:41.985Z"
   },
   {
    "duration": 8,
    "start_time": "2023-06-17T18:46:13.918Z"
   },
   {
    "duration": 8,
    "start_time": "2023-06-17T18:47:13.342Z"
   },
   {
    "duration": 7,
    "start_time": "2023-06-17T18:47:55.886Z"
   },
   {
    "duration": 100,
    "start_time": "2023-06-17T18:48:23.986Z"
   },
   {
    "duration": 87,
    "start_time": "2023-06-17T18:52:15.498Z"
   },
   {
    "duration": 16,
    "start_time": "2023-06-17T18:52:37.217Z"
   },
   {
    "duration": 12,
    "start_time": "2023-06-17T18:52:57.863Z"
   },
   {
    "duration": 13,
    "start_time": "2023-06-17T18:53:27.145Z"
   },
   {
    "duration": 26,
    "start_time": "2023-06-17T18:53:40.285Z"
   },
   {
    "duration": 11,
    "start_time": "2023-06-17T18:53:52.337Z"
   },
   {
    "duration": 9,
    "start_time": "2023-06-17T18:54:20.609Z"
   },
   {
    "duration": 11,
    "start_time": "2023-06-17T18:54:56.108Z"
   },
   {
    "duration": 12,
    "start_time": "2023-06-17T18:55:40.940Z"
   },
   {
    "duration": 31,
    "start_time": "2023-06-17T18:56:14.995Z"
   },
   {
    "duration": 29,
    "start_time": "2023-06-17T18:57:05.291Z"
   },
   {
    "duration": 18,
    "start_time": "2023-06-17T18:58:41.835Z"
   },
   {
    "duration": 11,
    "start_time": "2023-06-17T18:58:52.836Z"
   },
   {
    "duration": 14,
    "start_time": "2023-06-17T18:59:16.748Z"
   },
   {
    "duration": 38,
    "start_time": "2023-06-17T18:59:27.367Z"
   },
   {
    "duration": 7,
    "start_time": "2023-06-17T18:59:45.285Z"
   },
   {
    "duration": 32,
    "start_time": "2023-06-17T19:00:05.354Z"
   },
   {
    "duration": 12,
    "start_time": "2023-06-17T19:00:10.885Z"
   },
   {
    "duration": 13,
    "start_time": "2023-06-17T19:00:25.943Z"
   },
   {
    "duration": 16,
    "start_time": "2023-06-17T19:00:45.367Z"
   },
   {
    "duration": 15,
    "start_time": "2023-06-17T19:00:57.048Z"
   },
   {
    "duration": 13,
    "start_time": "2023-06-17T19:01:08.190Z"
   },
   {
    "duration": 4,
    "start_time": "2023-06-17T19:01:19.518Z"
   },
   {
    "duration": 70,
    "start_time": "2023-06-17T19:01:19.524Z"
   },
   {
    "duration": 23,
    "start_time": "2023-06-17T19:01:19.597Z"
   },
   {
    "duration": 861,
    "start_time": "2023-06-17T19:01:19.623Z"
   },
   {
    "duration": 23,
    "start_time": "2023-06-17T19:01:20.486Z"
   },
   {
    "duration": 10,
    "start_time": "2023-06-17T19:01:20.512Z"
   },
   {
    "duration": 43,
    "start_time": "2023-06-17T19:01:20.524Z"
   },
   {
    "duration": 8,
    "start_time": "2023-06-17T19:01:20.568Z"
   },
   {
    "duration": 30,
    "start_time": "2023-06-17T19:01:20.580Z"
   },
   {
    "duration": 167,
    "start_time": "2023-06-17T19:01:20.612Z"
   },
   {
    "duration": 5,
    "start_time": "2023-06-17T19:01:20.781Z"
   },
   {
    "duration": 145,
    "start_time": "2023-06-17T19:01:20.787Z"
   },
   {
    "duration": 310,
    "start_time": "2023-06-17T19:01:20.934Z"
   },
   {
    "duration": 296,
    "start_time": "2023-06-17T19:01:21.246Z"
   },
   {
    "duration": 439,
    "start_time": "2023-06-17T19:01:21.543Z"
   },
   {
    "duration": 29,
    "start_time": "2023-06-17T19:01:21.985Z"
   },
   {
    "duration": 45,
    "start_time": "2023-06-17T19:01:22.017Z"
   },
   {
    "duration": 9,
    "start_time": "2023-06-17T19:01:22.063Z"
   },
   {
    "duration": 1486,
    "start_time": "2023-06-17T19:01:22.073Z"
   },
   {
    "duration": 1154,
    "start_time": "2023-06-17T19:01:23.562Z"
   },
   {
    "duration": 8,
    "start_time": "2023-06-17T19:01:24.719Z"
   },
   {
    "duration": 14,
    "start_time": "2023-06-17T19:01:24.729Z"
   },
   {
    "duration": 6,
    "start_time": "2023-06-17T19:01:24.753Z"
   },
   {
    "duration": 16,
    "start_time": "2023-06-17T19:01:24.763Z"
   },
   {
    "duration": 1484,
    "start_time": "2023-06-17T19:01:24.781Z"
   },
   {
    "duration": 6,
    "start_time": "2023-06-17T19:01:26.267Z"
   },
   {
    "duration": 32,
    "start_time": "2023-06-17T19:02:28.920Z"
   },
   {
    "duration": 16,
    "start_time": "2023-06-17T19:05:49.298Z"
   },
   {
    "duration": 15,
    "start_time": "2023-06-17T19:07:14.992Z"
   },
   {
    "duration": 3,
    "start_time": "2023-06-17T19:07:30.227Z"
   },
   {
    "duration": 94,
    "start_time": "2023-06-17T19:07:30.232Z"
   },
   {
    "duration": 18,
    "start_time": "2023-06-17T19:07:30.328Z"
   },
   {
    "duration": 887,
    "start_time": "2023-06-17T19:07:30.348Z"
   },
   {
    "duration": 30,
    "start_time": "2023-06-17T19:07:31.238Z"
   },
   {
    "duration": 44,
    "start_time": "2023-06-17T19:07:31.270Z"
   },
   {
    "duration": 76,
    "start_time": "2023-06-17T19:07:31.316Z"
   },
   {
    "duration": 29,
    "start_time": "2023-06-17T19:07:31.394Z"
   },
   {
    "duration": 59,
    "start_time": "2023-06-17T19:07:31.426Z"
   },
   {
    "duration": 52,
    "start_time": "2023-06-17T19:07:31.487Z"
   },
   {
    "duration": 170,
    "start_time": "2023-06-17T19:07:31.541Z"
   },
   {
    "duration": 5,
    "start_time": "2023-06-17T19:07:31.713Z"
   },
   {
    "duration": 150,
    "start_time": "2023-06-17T19:07:31.719Z"
   },
   {
    "duration": 307,
    "start_time": "2023-06-17T19:07:31.871Z"
   },
   {
    "duration": 513,
    "start_time": "2023-06-17T19:07:32.180Z"
   },
   {
    "duration": 287,
    "start_time": "2023-06-17T19:07:32.695Z"
   },
   {
    "duration": 21,
    "start_time": "2023-06-17T19:07:32.984Z"
   },
   {
    "duration": 24,
    "start_time": "2023-06-17T19:07:33.006Z"
   },
   {
    "duration": 23,
    "start_time": "2023-06-17T19:07:33.032Z"
   },
   {
    "duration": 1482,
    "start_time": "2023-06-17T19:07:33.057Z"
   },
   {
    "duration": 1193,
    "start_time": "2023-06-17T19:07:34.540Z"
   },
   {
    "duration": 7,
    "start_time": "2023-06-17T19:07:35.735Z"
   },
   {
    "duration": 6,
    "start_time": "2023-06-17T19:07:35.753Z"
   },
   {
    "duration": 27,
    "start_time": "2023-06-17T19:07:35.763Z"
   },
   {
    "duration": 24,
    "start_time": "2023-06-17T19:07:35.791Z"
   },
   {
    "duration": 1514,
    "start_time": "2023-06-17T19:07:35.816Z"
   },
   {
    "duration": 6,
    "start_time": "2023-06-17T19:07:37.332Z"
   },
   {
    "duration": 19,
    "start_time": "2023-06-17T19:08:45.146Z"
   },
   {
    "duration": 10,
    "start_time": "2023-06-17T19:09:09.371Z"
   },
   {
    "duration": 152,
    "start_time": "2023-06-17T19:10:01.080Z"
   },
   {
    "duration": 154,
    "start_time": "2023-06-17T19:13:36.780Z"
   },
   {
    "duration": 27,
    "start_time": "2023-06-17T19:14:01.433Z"
   },
   {
    "duration": 20,
    "start_time": "2023-06-17T19:14:27.642Z"
   },
   {
    "duration": 151,
    "start_time": "2023-06-17T19:14:42.387Z"
   },
   {
    "duration": 171,
    "start_time": "2023-06-17T19:15:05.231Z"
   },
   {
    "duration": 158,
    "start_time": "2023-06-17T19:15:24.890Z"
   },
   {
    "duration": 163,
    "start_time": "2023-06-17T19:15:42.265Z"
   },
   {
    "duration": 143,
    "start_time": "2023-06-17T19:26:23.169Z"
   },
   {
    "duration": 167,
    "start_time": "2023-06-17T19:26:35.925Z"
   },
   {
    "duration": 5,
    "start_time": "2023-06-17T19:27:23.569Z"
   },
   {
    "duration": 159,
    "start_time": "2023-06-17T19:27:28.830Z"
   },
   {
    "duration": 76,
    "start_time": "2023-06-17T19:28:21.927Z"
   },
   {
    "duration": 292,
    "start_time": "2023-06-17T19:28:44.736Z"
   },
   {
    "duration": 140,
    "start_time": "2023-06-17T19:29:06.893Z"
   },
   {
    "duration": 138,
    "start_time": "2023-06-17T19:29:29.863Z"
   },
   {
    "duration": 146,
    "start_time": "2023-06-17T19:29:49.726Z"
   },
   {
    "duration": 149,
    "start_time": "2023-06-17T19:30:55.439Z"
   },
   {
    "duration": 163,
    "start_time": "2023-06-17T19:31:14.526Z"
   },
   {
    "duration": 148,
    "start_time": "2023-06-17T19:32:11.764Z"
   },
   {
    "duration": 139,
    "start_time": "2023-06-17T19:32:57.579Z"
   },
   {
    "duration": 149,
    "start_time": "2023-06-17T19:34:46.804Z"
   },
   {
    "duration": 185,
    "start_time": "2023-06-17T19:35:38.006Z"
   },
   {
    "duration": 476,
    "start_time": "2023-06-17T19:35:45.348Z"
   },
   {
    "duration": 150,
    "start_time": "2023-06-17T19:36:12.045Z"
   },
   {
    "duration": 151,
    "start_time": "2023-06-17T19:36:39.963Z"
   },
   {
    "duration": 139,
    "start_time": "2023-06-17T19:37:55.177Z"
   },
   {
    "duration": 144,
    "start_time": "2023-06-17T19:39:39.564Z"
   },
   {
    "duration": 140,
    "start_time": "2023-06-17T19:39:48.909Z"
   },
   {
    "duration": 160,
    "start_time": "2023-06-17T19:39:55.306Z"
   },
   {
    "duration": 149,
    "start_time": "2023-06-17T19:41:14.768Z"
   },
   {
    "duration": 15,
    "start_time": "2023-06-17T19:44:44.686Z"
   },
   {
    "duration": 320,
    "start_time": "2023-06-17T19:44:55.194Z"
   },
   {
    "duration": 271,
    "start_time": "2023-06-17T19:45:13.177Z"
   },
   {
    "duration": 272,
    "start_time": "2023-06-17T19:46:45.624Z"
   },
   {
    "duration": 287,
    "start_time": "2023-06-17T19:47:00.264Z"
   },
   {
    "duration": 279,
    "start_time": "2023-06-17T19:47:27.774Z"
   },
   {
    "duration": 11,
    "start_time": "2023-06-17T20:27:41.266Z"
   },
   {
    "duration": 16,
    "start_time": "2023-06-17T20:29:11.089Z"
   },
   {
    "duration": 20,
    "start_time": "2023-06-17T20:30:16.892Z"
   },
   {
    "duration": 9,
    "start_time": "2023-06-17T20:31:00.788Z"
   },
   {
    "duration": 16,
    "start_time": "2023-06-17T20:31:57.055Z"
   },
   {
    "duration": 6,
    "start_time": "2023-06-17T20:33:53.008Z"
   },
   {
    "duration": 10,
    "start_time": "2023-06-17T20:41:26.445Z"
   },
   {
    "duration": 11,
    "start_time": "2023-06-17T20:41:38.717Z"
   },
   {
    "duration": 11,
    "start_time": "2023-06-17T20:42:04.987Z"
   },
   {
    "duration": 12,
    "start_time": "2023-06-17T20:42:44.828Z"
   },
   {
    "duration": 6,
    "start_time": "2023-06-17T20:43:00.022Z"
   },
   {
    "duration": 7,
    "start_time": "2023-06-17T20:43:11.646Z"
   },
   {
    "duration": 20,
    "start_time": "2023-06-17T20:47:19.339Z"
   },
   {
    "duration": 86,
    "start_time": "2023-06-17T20:51:14.100Z"
   },
   {
    "duration": 80,
    "start_time": "2023-06-17T20:51:48.564Z"
   },
   {
    "duration": 11,
    "start_time": "2023-06-17T20:52:45.610Z"
   },
   {
    "duration": 5,
    "start_time": "2023-06-17T20:52:49.694Z"
   },
   {
    "duration": 5,
    "start_time": "2023-06-17T20:52:52.991Z"
   },
   {
    "duration": 10,
    "start_time": "2023-06-17T20:54:32.398Z"
   },
   {
    "duration": 5,
    "start_time": "2023-06-17T20:54:52.161Z"
   },
   {
    "duration": 90,
    "start_time": "2023-06-17T20:57:53.966Z"
   },
   {
    "duration": 66,
    "start_time": "2023-06-17T20:58:02.937Z"
   },
   {
    "duration": 6,
    "start_time": "2023-06-17T20:59:18.296Z"
   },
   {
    "duration": 17,
    "start_time": "2023-06-17T20:59:41.950Z"
   },
   {
    "duration": 8,
    "start_time": "2023-06-17T20:59:48.312Z"
   },
   {
    "duration": 304,
    "start_time": "2023-06-17T21:00:05.496Z"
   },
   {
    "duration": 9,
    "start_time": "2023-06-17T21:02:27.976Z"
   },
   {
    "duration": 7,
    "start_time": "2023-06-17T21:02:32.471Z"
   },
   {
    "duration": 6,
    "start_time": "2023-06-17T21:02:37.368Z"
   },
   {
    "duration": 6,
    "start_time": "2023-06-17T21:02:43.464Z"
   },
   {
    "duration": 618,
    "start_time": "2023-06-17T21:02:49.502Z"
   },
   {
    "duration": 6,
    "start_time": "2023-06-17T21:02:53.168Z"
   },
   {
    "duration": 3,
    "start_time": "2023-06-17T21:03:00.274Z"
   },
   {
    "duration": 106,
    "start_time": "2023-06-17T21:03:00.280Z"
   },
   {
    "duration": 26,
    "start_time": "2023-06-17T21:03:00.388Z"
   },
   {
    "duration": 1004,
    "start_time": "2023-06-17T21:03:00.416Z"
   },
   {
    "duration": 30,
    "start_time": "2023-06-17T21:03:01.423Z"
   },
   {
    "duration": 75,
    "start_time": "2023-06-17T21:03:01.456Z"
   },
   {
    "duration": 64,
    "start_time": "2023-06-17T21:03:01.533Z"
   },
   {
    "duration": 43,
    "start_time": "2023-06-17T21:03:01.598Z"
   },
   {
    "duration": 63,
    "start_time": "2023-06-17T21:03:01.643Z"
   },
   {
    "duration": 32,
    "start_time": "2023-06-17T21:03:01.708Z"
   },
   {
    "duration": 222,
    "start_time": "2023-06-17T21:03:01.743Z"
   },
   {
    "duration": 8,
    "start_time": "2023-06-17T21:03:01.968Z"
   },
   {
    "duration": 228,
    "start_time": "2023-06-17T21:03:01.978Z"
   },
   {
    "duration": 331,
    "start_time": "2023-06-17T21:03:02.208Z"
   },
   {
    "duration": 356,
    "start_time": "2023-06-17T21:03:02.541Z"
   },
   {
    "duration": 393,
    "start_time": "2023-06-17T21:03:02.899Z"
   },
   {
    "duration": 6,
    "start_time": "2023-06-17T21:03:03.293Z"
   },
   {
    "duration": 342,
    "start_time": "2023-06-17T21:03:03.301Z"
   },
   {
    "duration": 35,
    "start_time": "2023-06-17T21:03:03.645Z"
   },
   {
    "duration": 34,
    "start_time": "2023-06-17T21:03:03.683Z"
   },
   {
    "duration": 33,
    "start_time": "2023-06-17T21:03:03.720Z"
   },
   {
    "duration": 1769,
    "start_time": "2023-06-17T21:03:03.757Z"
   },
   {
    "duration": 1423,
    "start_time": "2023-06-17T21:03:05.528Z"
   },
   {
    "duration": 10,
    "start_time": "2023-06-17T21:03:06.954Z"
   },
   {
    "duration": 20,
    "start_time": "2023-06-17T21:03:06.967Z"
   },
   {
    "duration": 18,
    "start_time": "2023-06-17T21:03:06.988Z"
   },
   {
    "duration": 36,
    "start_time": "2023-06-17T21:03:07.009Z"
   },
   {
    "duration": 1922,
    "start_time": "2023-06-17T21:03:07.048Z"
   },
   {
    "duration": 8,
    "start_time": "2023-06-17T21:03:08.974Z"
   },
   {
    "duration": 31,
    "start_time": "2023-06-17T21:08:34.021Z"
   },
   {
    "duration": 43,
    "start_time": "2023-06-17T21:08:45.228Z"
   },
   {
    "duration": 4,
    "start_time": "2023-06-17T21:59:16.216Z"
   },
   {
    "duration": 70,
    "start_time": "2023-06-17T21:59:16.222Z"
   },
   {
    "duration": 20,
    "start_time": "2023-06-17T21:59:16.294Z"
   },
   {
    "duration": 802,
    "start_time": "2023-06-17T21:59:16.316Z"
   },
   {
    "duration": 32,
    "start_time": "2023-06-17T21:59:17.120Z"
   },
   {
    "duration": 8,
    "start_time": "2023-06-17T21:59:17.153Z"
   },
   {
    "duration": 21,
    "start_time": "2023-06-17T21:59:17.162Z"
   },
   {
    "duration": 8,
    "start_time": "2023-06-17T21:59:17.184Z"
   },
   {
    "duration": 19,
    "start_time": "2023-06-17T21:59:17.195Z"
   },
   {
    "duration": 40,
    "start_time": "2023-06-17T21:59:17.216Z"
   },
   {
    "duration": 166,
    "start_time": "2023-06-17T21:59:17.258Z"
   },
   {
    "duration": 5,
    "start_time": "2023-06-17T21:59:17.426Z"
   },
   {
    "duration": 153,
    "start_time": "2023-06-17T21:59:17.433Z"
   },
   {
    "duration": 283,
    "start_time": "2023-06-17T21:59:17.588Z"
   },
   {
    "duration": 293,
    "start_time": "2023-06-17T21:59:17.873Z"
   },
   {
    "duration": 672,
    "start_time": "2023-06-17T21:59:18.168Z"
   },
   {
    "duration": 15,
    "start_time": "2023-06-17T21:59:18.841Z"
   },
   {
    "duration": 317,
    "start_time": "2023-06-17T21:59:18.858Z"
   },
   {
    "duration": 23,
    "start_time": "2023-06-17T21:59:19.176Z"
   },
   {
    "duration": 61,
    "start_time": "2023-06-17T21:59:19.201Z"
   },
   {
    "duration": 7,
    "start_time": "2023-06-17T21:59:19.264Z"
   },
   {
    "duration": 1568,
    "start_time": "2023-06-17T21:59:19.272Z"
   },
   {
    "duration": 1184,
    "start_time": "2023-06-17T21:59:20.842Z"
   },
   {
    "duration": 7,
    "start_time": "2023-06-17T21:59:22.029Z"
   },
   {
    "duration": 18,
    "start_time": "2023-06-17T21:59:22.038Z"
   },
   {
    "duration": 16,
    "start_time": "2023-06-17T21:59:22.058Z"
   },
   {
    "duration": 26,
    "start_time": "2023-06-17T21:59:22.076Z"
   },
   {
    "duration": 1175,
    "start_time": "2023-06-17T21:59:22.104Z"
   },
   {
    "duration": 5,
    "start_time": "2023-06-17T21:59:23.281Z"
   },
   {
    "duration": 8,
    "start_time": "2023-06-17T22:08:04.464Z"
   },
   {
    "duration": 9,
    "start_time": "2023-06-17T22:11:52.534Z"
   },
   {
    "duration": 10,
    "start_time": "2023-06-17T22:12:43.905Z"
   },
   {
    "duration": 7,
    "start_time": "2023-06-17T22:12:50.329Z"
   },
   {
    "duration": 1161,
    "start_time": "2023-06-18T09:35:05.618Z"
   },
   {
    "duration": 79,
    "start_time": "2023-06-18T09:35:06.782Z"
   },
   {
    "duration": 29,
    "start_time": "2023-06-18T09:35:06.863Z"
   },
   {
    "duration": 1099,
    "start_time": "2023-06-18T09:35:06.894Z"
   },
   {
    "duration": 33,
    "start_time": "2023-06-18T09:35:07.998Z"
   },
   {
    "duration": 20,
    "start_time": "2023-06-18T09:35:08.033Z"
   },
   {
    "duration": 66,
    "start_time": "2023-06-18T09:35:08.055Z"
   },
   {
    "duration": 45,
    "start_time": "2023-06-18T09:35:08.123Z"
   },
   {
    "duration": 19,
    "start_time": "2023-06-18T09:35:08.170Z"
   },
   {
    "duration": 11,
    "start_time": "2023-06-18T09:35:08.191Z"
   },
   {
    "duration": 209,
    "start_time": "2023-06-18T09:35:08.204Z"
   },
   {
    "duration": 11,
    "start_time": "2023-06-18T09:35:08.416Z"
   },
   {
    "duration": 249,
    "start_time": "2023-06-18T09:35:08.429Z"
   },
   {
    "duration": 467,
    "start_time": "2023-06-18T09:35:08.682Z"
   },
   {
    "duration": 494,
    "start_time": "2023-06-18T09:35:09.152Z"
   },
   {
    "duration": 559,
    "start_time": "2023-06-18T09:35:09.647Z"
   },
   {
    "duration": 13,
    "start_time": "2023-06-18T09:35:10.213Z"
   },
   {
    "duration": 504,
    "start_time": "2023-06-18T09:35:10.228Z"
   },
   {
    "duration": 37,
    "start_time": "2023-06-18T09:35:10.734Z"
   },
   {
    "duration": 68,
    "start_time": "2023-06-18T09:35:10.773Z"
   },
   {
    "duration": 8,
    "start_time": "2023-06-18T09:35:10.843Z"
   },
   {
    "duration": 1924,
    "start_time": "2023-06-18T09:35:10.852Z"
   },
   {
    "duration": 1437,
    "start_time": "2023-06-18T09:35:12.778Z"
   },
   {
    "duration": 8,
    "start_time": "2023-06-18T09:35:14.217Z"
   },
   {
    "duration": 37,
    "start_time": "2023-06-18T09:35:14.227Z"
   },
   {
    "duration": 47,
    "start_time": "2023-06-18T09:35:14.266Z"
   },
   {
    "duration": 29,
    "start_time": "2023-06-18T09:35:14.315Z"
   },
   {
    "duration": 50,
    "start_time": "2023-06-18T09:35:14.345Z"
   },
   {
    "duration": 1389,
    "start_time": "2023-06-18T09:35:14.397Z"
   },
   {
    "duration": 4,
    "start_time": "2023-06-18T09:35:15.788Z"
   },
   {
    "duration": 6,
    "start_time": "2023-06-18T09:38:42.518Z"
   },
   {
    "duration": 211,
    "start_time": "2023-06-18T09:41:18.015Z"
   },
   {
    "duration": 185,
    "start_time": "2023-06-18T09:41:26.167Z"
   },
   {
    "duration": 205,
    "start_time": "2023-06-18T09:41:41.965Z"
   },
   {
    "duration": 1978,
    "start_time": "2023-06-18T15:16:59.809Z"
   },
   {
    "duration": 577,
    "start_time": "2023-06-18T15:17:01.789Z"
   },
   {
    "duration": 30,
    "start_time": "2023-06-18T15:17:02.372Z"
   },
   {
    "duration": 886,
    "start_time": "2023-06-18T15:17:02.405Z"
   },
   {
    "duration": 21,
    "start_time": "2023-06-18T15:17:03.293Z"
   },
   {
    "duration": 8,
    "start_time": "2023-06-18T15:17:03.316Z"
   },
   {
    "duration": 54,
    "start_time": "2023-06-18T15:17:03.325Z"
   },
   {
    "duration": 8,
    "start_time": "2023-06-18T15:17:03.381Z"
   },
   {
    "duration": 27,
    "start_time": "2023-06-18T15:17:03.390Z"
   },
   {
    "duration": 22,
    "start_time": "2023-06-18T15:17:03.420Z"
   },
   {
    "duration": 11,
    "start_time": "2023-06-18T15:17:03.445Z"
   },
   {
    "duration": 184,
    "start_time": "2023-06-18T15:17:03.460Z"
   },
   {
    "duration": 6,
    "start_time": "2023-06-18T15:17:03.646Z"
   },
   {
    "duration": 161,
    "start_time": "2023-06-18T15:17:03.660Z"
   },
   {
    "duration": 281,
    "start_time": "2023-06-18T15:17:03.823Z"
   },
   {
    "duration": 205,
    "start_time": "2023-06-18T15:17:04.106Z"
   },
   {
    "duration": 411,
    "start_time": "2023-06-18T15:17:04.313Z"
   },
   {
    "duration": 295,
    "start_time": "2023-06-18T15:17:04.725Z"
   },
   {
    "duration": 8,
    "start_time": "2023-06-18T15:17:05.022Z"
   },
   {
    "duration": 15,
    "start_time": "2023-06-18T15:17:05.032Z"
   },
   {
    "duration": 38,
    "start_time": "2023-06-18T15:17:05.048Z"
   },
   {
    "duration": 59,
    "start_time": "2023-06-18T15:17:05.088Z"
   },
   {
    "duration": 6,
    "start_time": "2023-06-18T15:17:05.149Z"
   },
   {
    "duration": 1556,
    "start_time": "2023-06-18T15:17:05.158Z"
   },
   {
    "duration": 1166,
    "start_time": "2023-06-18T15:17:06.716Z"
   },
   {
    "duration": 11,
    "start_time": "2023-06-18T15:17:07.885Z"
   },
   {
    "duration": 33,
    "start_time": "2023-06-18T15:17:07.898Z"
   },
   {
    "duration": 28,
    "start_time": "2023-06-18T15:17:07.935Z"
   },
   {
    "duration": 12,
    "start_time": "2023-06-18T15:17:07.969Z"
   },
   {
    "duration": 73,
    "start_time": "2023-06-18T15:17:07.983Z"
   },
   {
    "duration": 1489,
    "start_time": "2023-06-18T15:17:08.057Z"
   },
   {
    "duration": 14,
    "start_time": "2023-06-18T15:17:09.548Z"
   },
   {
    "duration": 1414,
    "start_time": "2023-06-18T20:35:01.403Z"
   },
   {
    "duration": 121,
    "start_time": "2023-06-18T20:35:02.825Z"
   },
   {
    "duration": 36,
    "start_time": "2023-06-18T20:35:02.948Z"
   },
   {
    "duration": 1106,
    "start_time": "2023-06-18T20:35:02.987Z"
   },
   {
    "duration": 34,
    "start_time": "2023-06-18T20:35:04.097Z"
   },
   {
    "duration": 29,
    "start_time": "2023-06-18T20:35:04.138Z"
   },
   {
    "duration": 27,
    "start_time": "2023-06-18T20:35:04.174Z"
   },
   {
    "duration": 9,
    "start_time": "2023-06-18T20:35:04.203Z"
   },
   {
    "duration": 41,
    "start_time": "2023-06-18T20:35:04.228Z"
   },
   {
    "duration": 13,
    "start_time": "2023-06-18T20:35:04.271Z"
   },
   {
    "duration": 24,
    "start_time": "2023-06-18T20:35:04.286Z"
   },
   {
    "duration": 215,
    "start_time": "2023-06-18T20:35:04.314Z"
   },
   {
    "duration": 5,
    "start_time": "2023-06-18T20:35:04.534Z"
   },
   {
    "duration": 187,
    "start_time": "2023-06-18T20:35:04.542Z"
   },
   {
    "duration": 348,
    "start_time": "2023-06-18T20:35:04.738Z"
   },
   {
    "duration": 271,
    "start_time": "2023-06-18T20:35:05.088Z"
   },
   {
    "duration": 455,
    "start_time": "2023-06-18T20:35:05.366Z"
   },
   {
    "duration": 369,
    "start_time": "2023-06-18T20:35:05.828Z"
   },
   {
    "duration": 7,
    "start_time": "2023-06-18T20:35:06.201Z"
   },
   {
    "duration": 33,
    "start_time": "2023-06-18T20:35:06.210Z"
   },
   {
    "duration": 34,
    "start_time": "2023-06-18T20:35:06.247Z"
   },
   {
    "duration": 45,
    "start_time": "2023-06-18T20:35:06.284Z"
   },
   {
    "duration": 9,
    "start_time": "2023-06-18T20:35:06.331Z"
   },
   {
    "duration": 1814,
    "start_time": "2023-06-18T20:35:06.342Z"
   },
   {
    "duration": 1682,
    "start_time": "2023-06-18T20:35:08.158Z"
   },
   {
    "duration": 17,
    "start_time": "2023-06-18T20:35:09.848Z"
   },
   {
    "duration": 24,
    "start_time": "2023-06-18T20:35:09.877Z"
   },
   {
    "duration": 9,
    "start_time": "2023-06-18T20:35:09.903Z"
   },
   {
    "duration": 20,
    "start_time": "2023-06-18T20:35:09.925Z"
   },
   {
    "duration": 16,
    "start_time": "2023-06-18T20:35:09.951Z"
   },
   {
    "duration": 2104,
    "start_time": "2023-06-18T20:35:09.970Z"
   },
   {
    "duration": 7,
    "start_time": "2023-06-18T20:35:12.076Z"
   }
  ],
  "kernelspec": {
   "display_name": "Python 3 (ipykernel)",
   "language": "python",
   "name": "python3"
  },
  "language_info": {
   "codemirror_mode": {
    "name": "ipython",
    "version": 3
   },
   "file_extension": ".py",
   "mimetype": "text/x-python",
   "name": "python",
   "nbconvert_exporter": "python",
   "pygments_lexer": "ipython3",
   "version": "3.11.5"
  },
  "toc": {
   "base_numbering": 1,
   "nav_menu": {},
   "number_sections": true,
   "sideBar": true,
   "skip_h1_title": true,
   "title_cell": "Table of Contents",
   "title_sidebar": "Contents",
   "toc_cell": false,
   "toc_position": {},
   "toc_section_display": true,
   "toc_window_display": false
  }
 },
 "nbformat": 4,
 "nbformat_minor": 5
}
