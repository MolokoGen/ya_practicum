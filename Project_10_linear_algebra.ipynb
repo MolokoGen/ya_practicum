{
 "cells": [
  {
   "cell_type": "markdown",
   "metadata": {},
   "source": [
    "# Защита персональных данных клиентов"
   ]
  },
  {
   "cell_type": "markdown",
   "metadata": {},
   "source": [
    "Вам нужно защитить данные клиентов страховой компании «Хоть потоп». Разработайте такой метод преобразования данных, чтобы по ним было сложно восстановить персональную информацию. Обоснуйте корректность его работы.\n",
    "\n",
    "Нужно защитить данные, чтобы при преобразовании качество моделей машинного обучения не ухудшилось. Подбирать наилучшую модель не требуется."
   ]
  },
  {
   "cell_type": "markdown",
   "metadata": {
    "toc": true
   },
   "source": [
    "<h1>Содержание<span class=\"tocSkip\"></span></h1>\n",
    "<div class=\"toc\"><ul class=\"toc-item\"><li><span><a href=\"#Загрузка-данных\" data-toc-modified-id=\"Загрузка-данных-1\"><span class=\"toc-item-num\">1&nbsp;&nbsp;</span>Загрузка данных</a></span></li><li><span><a href=\"#Умножение-матриц\" data-toc-modified-id=\"Умножение-матриц-2\"><span class=\"toc-item-num\">2&nbsp;&nbsp;</span>Умножение матриц</a></span></li><li><span><a href=\"#Алгоритм-преобразования\" data-toc-modified-id=\"Алгоритм-преобразования-3\"><span class=\"toc-item-num\">3&nbsp;&nbsp;</span>Алгоритм преобразования</a></span></li><li><span><a href=\"#Проверка-алгоритма\" data-toc-modified-id=\"Проверка-алгоритма-4\"><span class=\"toc-item-num\">4&nbsp;&nbsp;</span>Проверка алгоритма</a></span><ul class=\"toc-item\"><li><span><a href=\"#Создание-матрицы-шифрования\" data-toc-modified-id=\"Создание-матрицы-шифрования-4.1\"><span class=\"toc-item-num\">4.1&nbsp;&nbsp;</span>Создание матрицы шифрования</a></span></li><li><span><a href=\"#Проверка-качества-модели-до-преобразования\" data-toc-modified-id=\"Проверка-качества-модели-до-преобразования-4.2\"><span class=\"toc-item-num\">4.2&nbsp;&nbsp;</span>Проверка качества модели до преобразования</a></span></li><li><span><a href=\"#Проверка-качества-модели-после-преобразования\" data-toc-modified-id=\"Проверка-качества-модели-после-преобразования-4.3\"><span class=\"toc-item-num\">4.3&nbsp;&nbsp;</span>Проверка качества модели после преобразования</a></span></li></ul></li><li><span><a href=\"#Чек-лист-проверки\" data-toc-modified-id=\"Чек-лист-проверки-5\"><span class=\"toc-item-num\">5&nbsp;&nbsp;</span>Чек-лист проверки</a></span></li></ul></div>"
   ]
  },
  {
   "cell_type": "markdown",
   "metadata": {},
   "source": [
    "## Загрузка данных"
   ]
  },
  {
   "cell_type": "code",
   "execution_count": 1,
   "metadata": {},
   "outputs": [],
   "source": [
    "import pandas as pd\n",
    "import numpy as np\n",
    "from sklearn.linear_model import LinearRegression\n",
    "from sklearn.model_selection import train_test_split\n",
    "from sklearn.metrics import r2_score\n",
    "rs = 12345"
   ]
  },
  {
   "cell_type": "code",
   "execution_count": 2,
   "metadata": {},
   "outputs": [
    {
     "name": "stdout",
     "output_type": "stream",
     "text": [
      "<class 'pandas.core.frame.DataFrame'>\n",
      "RangeIndex: 5000 entries, 0 to 4999\n",
      "Data columns (total 5 columns):\n",
      " #   Column             Non-Null Count  Dtype  \n",
      "---  ------             --------------  -----  \n",
      " 0   Пол                5000 non-null   int64  \n",
      " 1   Возраст            5000 non-null   float64\n",
      " 2   Зарплата           5000 non-null   float64\n",
      " 3   Члены семьи        5000 non-null   int64  \n",
      " 4   Страховые выплаты  5000 non-null   int64  \n",
      "dtypes: float64(2), int64(3)\n",
      "memory usage: 195.4 KB\n"
     ]
    },
    {
     "data": {
      "text/html": [
       "<div>\n",
       "<style scoped>\n",
       "    .dataframe tbody tr th:only-of-type {\n",
       "        vertical-align: middle;\n",
       "    }\n",
       "\n",
       "    .dataframe tbody tr th {\n",
       "        vertical-align: top;\n",
       "    }\n",
       "\n",
       "    .dataframe thead th {\n",
       "        text-align: right;\n",
       "    }\n",
       "</style>\n",
       "<table border=\"1\" class=\"dataframe\">\n",
       "  <thead>\n",
       "    <tr style=\"text-align: right;\">\n",
       "      <th></th>\n",
       "      <th>Пол</th>\n",
       "      <th>Возраст</th>\n",
       "      <th>Зарплата</th>\n",
       "      <th>Члены семьи</th>\n",
       "      <th>Страховые выплаты</th>\n",
       "    </tr>\n",
       "  </thead>\n",
       "  <tbody>\n",
       "    <tr>\n",
       "      <th>0</th>\n",
       "      <td>1</td>\n",
       "      <td>41.0</td>\n",
       "      <td>49600.0</td>\n",
       "      <td>1</td>\n",
       "      <td>0</td>\n",
       "    </tr>\n",
       "    <tr>\n",
       "      <th>1</th>\n",
       "      <td>0</td>\n",
       "      <td>46.0</td>\n",
       "      <td>38000.0</td>\n",
       "      <td>1</td>\n",
       "      <td>1</td>\n",
       "    </tr>\n",
       "    <tr>\n",
       "      <th>2</th>\n",
       "      <td>0</td>\n",
       "      <td>29.0</td>\n",
       "      <td>21000.0</td>\n",
       "      <td>0</td>\n",
       "      <td>0</td>\n",
       "    </tr>\n",
       "    <tr>\n",
       "      <th>3</th>\n",
       "      <td>0</td>\n",
       "      <td>21.0</td>\n",
       "      <td>41700.0</td>\n",
       "      <td>2</td>\n",
       "      <td>0</td>\n",
       "    </tr>\n",
       "    <tr>\n",
       "      <th>4</th>\n",
       "      <td>1</td>\n",
       "      <td>28.0</td>\n",
       "      <td>26100.0</td>\n",
       "      <td>0</td>\n",
       "      <td>0</td>\n",
       "    </tr>\n",
       "  </tbody>\n",
       "</table>\n",
       "</div>"
      ],
      "text/plain": [
       "   Пол  Возраст  Зарплата  Члены семьи  Страховые выплаты\n",
       "0    1     41.0   49600.0            1                  0\n",
       "1    0     46.0   38000.0            1                  1\n",
       "2    0     29.0   21000.0            0                  0\n",
       "3    0     21.0   41700.0            2                  0\n",
       "4    1     28.0   26100.0            0                  0"
      ]
     },
     "execution_count": 2,
     "metadata": {},
     "output_type": "execute_result"
    }
   ],
   "source": [
    "df = pd.read_csv('/datasets/insurance.csv')\n",
    "df.info()\n",
    "df.head()"
   ]
  },
  {
   "cell_type": "markdown",
   "metadata": {},
   "source": [
    "Проверим уникальные значения каждого столбца"
   ]
  },
  {
   "cell_type": "code",
   "execution_count": 3,
   "metadata": {},
   "outputs": [
    {
     "name": "stdout",
     "output_type": "stream",
     "text": [
      "Уникальные значения столбца Пол\n",
      "[1 0]\n",
      "Уникальные значения столбца Возраст\n",
      "[41. 46. 29. 21. 28. 43. 39. 25. 36. 32. 38. 23. 40. 34. 26. 42. 27. 33.\n",
      " 47. 30. 19. 31. 22. 20. 24. 18. 37. 48. 45. 44. 52. 49. 35. 56. 65. 55.\n",
      " 57. 54. 50. 53. 51. 58. 59. 60. 61. 62.]\n",
      "Уникальные значения столбца Зарплата\n",
      "[49600. 38000. 21000. 41700. 26100. 41000. 39700. 38600. 49700. 51700.\n",
      " 36600. 29300. 39500. 55000. 43700. 23300. 48900. 33200. 36900. 43500.\n",
      " 36100. 26600. 48700. 40400. 38400. 34600. 34800. 36800. 42200. 46300.\n",
      " 30300. 51000. 28100. 64800. 30400. 45300. 38300. 49500. 19400. 40200.\n",
      " 31700. 69200. 33100. 31600. 34500. 38700. 39600. 42400. 34900. 30500.\n",
      " 24200. 49900. 14300. 47000. 44800. 43800. 42700. 35400. 57200. 29600.\n",
      " 37400. 48100. 33700. 61800. 39400. 15600. 52600. 37600. 52500. 32700.\n",
      " 51600. 60900. 41800. 47400. 26500. 45900. 35700. 34300. 26700. 25700.\n",
      " 33300. 31100. 31500. 42100. 37300. 42500. 27300. 46800. 33500. 44300.\n",
      " 41600. 53900. 40100. 44600. 45000. 32000. 38200. 33000. 38500. 51800.\n",
      " 33800. 46400. 43200. 31800. 50200. 35100. 30700. 45800. 49300. 42800.\n",
      " 33600. 50300. 34000. 36400. 44900. 43600. 54600. 52800. 29700. 39000.\n",
      " 44100. 31900. 37700. 35200. 43100. 51300. 47500. 40800. 26800. 64900.\n",
      " 35900. 31200. 39900. 43300. 33900. 40700. 44700. 53400. 30600. 56000.\n",
      " 35600. 55200. 40600. 48300. 50800. 41200. 44200. 44400. 40500. 39800.\n",
      " 16600. 48400. 25100. 23100. 32100. 31000. 42900. 46700. 26000. 55900.\n",
      " 52000. 41500. 49400. 60300. 45600. 49000. 37500. 21900. 45100. 47900.\n",
      " 54300. 32400. 41300. 44500. 23200. 37900. 48000. 52100. 45700. 29900.\n",
      " 42600. 45200. 36000. 46500. 23800. 30200. 24400. 32800. 29000. 43400.\n",
      " 51500. 61700. 45400. 50700. 36200. 41900. 27900. 47200. 48800. 55100.\n",
      " 48200. 35500. 35000. 43900. 40000. 22000. 40300. 36300. 49800. 25600.\n",
      " 42300. 54900. 25500. 32900. 36700. 38900. 24700. 28800. 22900. 47300.\n",
      " 14500. 28700. 44000. 34100. 53000. 59300. 28500. 47100. 41400. 58900.\n",
      " 17500. 54200. 43000. 29800. 20000. 13800. 27500. 67700. 28000. 37100.\n",
      "  8900. 14600. 56200. 38800. 27700. 50500. 58400. 34700. 34400. 49100.\n",
      " 50900. 28200. 61500. 32500. 25900.  9800. 28300. 41100. 62000. 32600.\n",
      " 37200. 53800. 24000. 53600. 54800. 59600. 20200. 21700. 29200. 38100.\n",
      " 20700. 32300. 21200. 62100. 54000. 24500. 51900. 47800. 56100. 55300.\n",
      " 58100. 28900. 39100. 58000. 27200. 24600. 30100. 57100. 60100. 22200.\n",
      " 47700. 24900. 37800. 52700. 34200. 18700. 42000. 26300. 22600. 30900.\n",
      " 35800. 30800. 51100. 53300. 46200. 24100. 54700. 51200. 62300. 51400.\n",
      " 40900. 23400. 35300. 55800. 33400. 21300. 30000. 56700. 46900.  5300.\n",
      " 39200. 57500. 31300. 53700. 21600. 50000. 36500. 16400. 15900. 65100.\n",
      " 59900. 63200. 26200. 61200. 48500. 32200. 29100. 50100. 22700. 28600.\n",
      " 23500. 23700. 19600. 17800. 50600. 57900. 22500. 22100. 58300. 64100.\n",
      " 25000. 60400. 59100. 37000. 62400. 29500. 25800. 25400. 26900. 21500.\n",
      " 52200. 46600. 57300. 46100. 19300. 18900. 31400. 28400. 29400. 17600.\n",
      " 13900. 52400. 11300. 46000. 60500. 58700. 58200. 24800. 63700. 60600.\n",
      " 20400. 26400. 55600. 57000. 45500. 48600. 57600. 52900. 62800. 17000.\n",
      " 56500. 52300. 18400. 63300. 12900. 27000. 55700. 39300. 27800. 18300.\n",
      " 56300. 59800. 24300. 14400. 13400. 17900. 47600. 54500. 54400. 23900.\n",
      " 13000. 19900. 55400. 22800. 61000. 57400. 23000. 20500. 53200. 18100.\n",
      " 25300. 59500. 18200. 50400. 21100. 20900. 27400. 17300. 60700. 70600.\n",
      " 17700. 19700. 49200. 63100. 59200. 14700. 53100. 21800. 68000. 16500.\n",
      " 71400. 10000. 55500. 54100. 56400. 20600. 66300. 18800. 11000. 66100.\n",
      " 27100. 57800. 53500. 19200. 58500. 64000. 63600. 23600. 25200. 19100.\n",
      " 18600. 57700. 62700. 56600. 21400. 58800. 68400. 17100. 13300. 68500.\n",
      " 56900. 64400. 27600. 67200. 16200. 58600. 62200. 16000. 79000. 22300.\n",
      " 11200. 71600. 61300. 70500. 67100. 59000. 13500. 16700. 15700. 60000.\n",
      " 17400. 63400. 61900. 65200. 62600. 14100. 20100. 63800. 15100. 70000.\n",
      " 60200. 20300. 65900. 15200. 63500. 13200. 68900. 12200.  6000. 74800.\n",
      " 59700. 10800. 19000. 10600. 69400. 15000. 75200. 62500. 16300. 20800.\n",
      "  7400. 65300. 61400. 56800.]\n",
      "Уникальные значения столбца Члены семьи\n",
      "[1 0 2 4 3 5 6]\n",
      "Уникальные значения столбца Страховые выплаты\n",
      "[0 1 2 3 5 4]\n"
     ]
    }
   ],
   "source": [
    "for column in df.columns:\n",
    "    print('Уникальные значения столбца', column)\n",
    "    print(df[column].unique())"
   ]
  },
  {
   "cell_type": "markdown",
   "metadata": {},
   "source": [
    "Все признаки имеют целочисленные значения. Столбцы \"Возраст\" и \"Зарплата\" можно перевести к целочисленному типу."
   ]
  },
  {
   "cell_type": "code",
   "execution_count": 4,
   "metadata": {},
   "outputs": [],
   "source": [
    "df[[\"Возраст\",\"Зарплата\"]] = df[[\"Возраст\",\"Зарплата\"]].astype(int)"
   ]
  },
  {
   "cell_type": "code",
   "execution_count": 5,
   "metadata": {},
   "outputs": [
    {
     "name": "stdout",
     "output_type": "stream",
     "text": [
      "<class 'pandas.core.frame.DataFrame'>\n",
      "RangeIndex: 5000 entries, 0 to 4999\n",
      "Data columns (total 5 columns):\n",
      " #   Column             Non-Null Count  Dtype\n",
      "---  ------             --------------  -----\n",
      " 0   Пол                5000 non-null   int64\n",
      " 1   Возраст            5000 non-null   int64\n",
      " 2   Зарплата           5000 non-null   int64\n",
      " 3   Члены семьи        5000 non-null   int64\n",
      " 4   Страховые выплаты  5000 non-null   int64\n",
      "dtypes: int64(5)\n",
      "memory usage: 195.4 KB\n"
     ]
    }
   ],
   "source": [
    "df.info()"
   ]
  },
  {
   "cell_type": "markdown",
   "metadata": {},
   "source": [
    "Выделим целевой признак"
   ]
  },
  {
   "cell_type": "code",
   "execution_count": 6,
   "metadata": {},
   "outputs": [],
   "source": [
    "features = df.drop(['Страховые выплаты'] , axis=1)\n",
    "target = df['Страховые выплаты']"
   ]
  },
  {
   "cell_type": "markdown",
   "metadata": {},
   "source": [
    "## Умножение матриц"
   ]
  },
  {
   "cell_type": "markdown",
   "metadata": {},
   "source": [
    "В этом задании вы можете записывать формулы в *Jupyter Notebook.*\n",
    "\n",
    "Чтобы записать формулу внутри текста, окружите её символами доллара \\\\$; если снаружи —  двойными символами \\\\$\\\\$. Эти формулы записываются на языке вёрстки *LaTeX.* \n",
    "\n",
    "Для примера мы записали формулы линейной регрессии. Можете их скопировать и отредактировать, чтобы решить задачу.\n",
    "\n",
    "Работать в *LaTeX* необязательно."
   ]
  },
  {
   "cell_type": "markdown",
   "metadata": {},
   "source": [
    "Обозначения:\n",
    "\n",
    "- $X$ — матрица признаков (нулевой столбец состоит из единиц)\n",
    "\n",
    "- $y$ — вектор целевого признака\n",
    "\n",
    "- $P$ — матрица, на которую умножаются признаки\n",
    "\n",
    "- $w$ — вектор весов линейной регрессии (нулевой элемент равен сдвигу)"
   ]
  },
  {
   "cell_type": "markdown",
   "metadata": {},
   "source": [
    "Предсказания:\n",
    "\n",
    "$$\n",
    "a = Xw\n",
    "$$\n",
    "\n",
    "Задача обучения:\n",
    "\n",
    "$$\n",
    "w = \\arg\\min_w MSE(Xw, y)\n",
    "$$\n",
    "\n",
    "Формула обучения:\n",
    "\n",
    "$$\n",
    "w = (X^T X)^{-1} X^T y\n",
    "$$"
   ]
  },
  {
   "cell_type": "markdown",
   "metadata": {},
   "source": [
    "**Ответ:** не изменится.\n",
    "\n",
    "**Обоснование:** \n",
    "$$\n",
    "a_1 = XPw_1\n",
    "$$\n",
    "\n",
    "$$\n",
    "w_1 = ((XP)^T (XP))^{-1} (XP)^T y \n",
    "$$\n",
    "\n",
    "$$\n",
    "a_1 = XP((XP)^T (XP))^{-1} (XP)^T y\n",
    "$$\n",
    "\n",
    "$$\n",
    "a_1 = XP((P^T X^T XP)^{-1} P^T X^T y\n",
    "$$\n",
    "\n",
    "$$\n",
    "a_1 = XP P^{-1}(X^T X)^{-1} (P^T)^{-1} P^T X^T y\n",
    "$$\n",
    "\n",
    "$$\n",
    "P P^{-1}=E, (P^T)^{-1} P^T=E \n",
    "$$\n",
    "\n",
    "$$\n",
    "a_1 = X(X^T X)^{-1} X^T y\n",
    "$$\n",
    "\n",
    "$$\n",
    "a = Xw = X(X^T X)^{-1} X^T y\n",
    "$$\n",
    "\n",
    "$$\n",
    "a_1 = a\n",
    "$$\n",
    "\n",
    "Значение предсказания не меняется, если умножать матрицу признаков на обратимую матрицу."
   ]
  },
  {
   "cell_type": "markdown",
   "metadata": {},
   "source": [
    "Уравнение связи между исходными весами  𝑤 и преобразованными  𝑤1:\n",
    "$$\n",
    "w_1 = P^{-1}(X^T X)^{-1} (P^T)^{-1} P^T X^T y\n",
    "$$\n",
    "\n",
    "$$\n",
    "w = (X^T X)^{-1} X^T y\n",
    "$$\n",
    "\n",
    "$$\n",
    "w_1 = P^{-1} (P^T)^{-1} P^T w\n",
    "$$\n",
    "\n",
    "$$\n",
    "(P^T)^{-1} P^T=E \n",
    "$$\n",
    "\n",
    "$$\n",
    "w_1 = P^{-1}  w\n",
    "$$"
   ]
  },
  {
   "cell_type": "markdown",
   "metadata": {},
   "source": [
    "## Алгоритм преобразования"
   ]
  },
  {
   "cell_type": "markdown",
   "metadata": {},
   "source": [
    "**Алгоритм**\n",
    "\n",
    "-Составление квадратной матрицы с размерностью эквивалентной количеству признаков \n",
    "\n",
    "-Проверка матрицы на обратимость.\n",
    "\n",
    "-Получение матрицы преобразованных признаков \n",
    "\n",
    "-Применение алгоритма на преобразованных признаках \n"
   ]
  },
  {
   "cell_type": "markdown",
   "metadata": {},
   "source": [
    "**Обоснование**\n",
    "\n",
    "При умножении каждого набора строк-векторов из исходной таблицы на одинаковые наборы столбцов-векторов  из случайной матрицы , итоговые веса каждого такого вектора будут примерно соотносится с весами набора признаков для каждого нового набора векторов в результирующей матрице."
   ]
  },
  {
   "cell_type": "markdown",
   "metadata": {},
   "source": [
    "## Проверка алгоритма"
   ]
  },
  {
   "cell_type": "markdown",
   "metadata": {},
   "source": [
    "### Создание матрицы шифрования"
   ]
  },
  {
   "cell_type": "markdown",
   "metadata": {},
   "source": [
    "Создадим случайную квадратную матрицу M с размерностью n равной количеству признаков."
   ]
  },
  {
   "cell_type": "code",
   "execution_count": 7,
   "metadata": {},
   "outputs": [
    {
     "data": {
      "text/plain": [
       "array([[4, 7, 5, 5],\n",
       "       [8, 5, 1, 4],\n",
       "       [4, 1, 7, 8],\n",
       "       [8, 2, 1, 6]])"
      ]
     },
     "metadata": {},
     "output_type": "display_data"
    },
    {
     "data": {
      "text/plain": [
       "-395.99999999999966"
      ]
     },
     "metadata": {},
     "output_type": "display_data"
    }
   ],
   "source": [
    "n = features.shape[1]\n",
    "M = np.random.randint(1, 10, (n,n))\n",
    "determ = np.linalg.det(M)\n",
    "display(M)\n",
    "display(determ)"
   ]
  },
  {
   "cell_type": "markdown",
   "metadata": {},
   "source": [
    "Условие обратимости случайной матрицы:"
   ]
  },
  {
   "cell_type": "code",
   "execution_count": 8,
   "metadata": {},
   "outputs": [
    {
     "data": {
      "text/plain": [
       "array([[4, 7, 5, 5],\n",
       "       [8, 5, 1, 4],\n",
       "       [4, 1, 7, 8],\n",
       "       [8, 2, 1, 6]])"
      ]
     },
     "metadata": {},
     "output_type": "display_data"
    },
    {
     "data": {
      "text/plain": [
       "-395.99999999999966"
      ]
     },
     "metadata": {},
     "output_type": "display_data"
    }
   ],
   "source": [
    "while determ==0:\n",
    "    matrix = np.random.randint(1, 10, (n,n))\n",
    "    determ = np.linalg.det(M)\n",
    "display(M)\n",
    "display(determ)"
   ]
  },
  {
   "cell_type": "markdown",
   "metadata": {},
   "source": [
    "### Проверка качества модели до преобразования"
   ]
  },
  {
   "cell_type": "markdown",
   "metadata": {},
   "source": [
    "Разделим на тренировочную и тестовую выборки"
   ]
  },
  {
   "cell_type": "code",
   "execution_count": 9,
   "metadata": {},
   "outputs": [],
   "source": [
    "features_train, features_test, target_train, target_test = train_test_split(\n",
    "    features, target, test_size=0.25, random_state=rs)"
   ]
  },
  {
   "cell_type": "markdown",
   "metadata": {},
   "source": [
    "Обучим модель линейной регрессии и проверим R2 значение:"
   ]
  },
  {
   "cell_type": "code",
   "execution_count": 10,
   "metadata": {},
   "outputs": [
    {
     "name": "stdout",
     "output_type": "stream",
     "text": [
      "R2 = 0.4352275684083322\n"
     ]
    }
   ],
   "source": [
    "model = LinearRegression()\n",
    "model.fit(features_train, target_train)\n",
    "R2 = r2_score(target_test, model.predict(features_test))\n",
    "print(\"R2 =\", R2)"
   ]
  },
  {
   "cell_type": "markdown",
   "metadata": {},
   "source": [
    "### Проверка качества модели после преобразования"
   ]
  },
  {
   "cell_type": "markdown",
   "metadata": {},
   "source": [
    "Преобразуем features, с помощью умножения на матрицу M"
   ]
  },
  {
   "cell_type": "code",
   "execution_count": 11,
   "metadata": {},
   "outputs": [
    {
     "data": {
      "text/html": [
       "<div>\n",
       "<style scoped>\n",
       "    .dataframe tbody tr th:only-of-type {\n",
       "        vertical-align: middle;\n",
       "    }\n",
       "\n",
       "    .dataframe tbody tr th {\n",
       "        vertical-align: top;\n",
       "    }\n",
       "\n",
       "    .dataframe thead th {\n",
       "        text-align: right;\n",
       "    }\n",
       "</style>\n",
       "<table border=\"1\" class=\"dataframe\">\n",
       "  <thead>\n",
       "    <tr style=\"text-align: right;\">\n",
       "      <th></th>\n",
       "      <th>0</th>\n",
       "      <th>1</th>\n",
       "      <th>2</th>\n",
       "      <th>3</th>\n",
       "    </tr>\n",
       "  </thead>\n",
       "  <tbody>\n",
       "    <tr>\n",
       "      <th>0</th>\n",
       "      <td>198740</td>\n",
       "      <td>49814</td>\n",
       "      <td>347247</td>\n",
       "      <td>396975</td>\n",
       "    </tr>\n",
       "    <tr>\n",
       "      <th>1</th>\n",
       "      <td>152376</td>\n",
       "      <td>38232</td>\n",
       "      <td>266047</td>\n",
       "      <td>304190</td>\n",
       "    </tr>\n",
       "    <tr>\n",
       "      <th>2</th>\n",
       "      <td>84232</td>\n",
       "      <td>21145</td>\n",
       "      <td>147029</td>\n",
       "      <td>168116</td>\n",
       "    </tr>\n",
       "    <tr>\n",
       "      <th>3</th>\n",
       "      <td>166984</td>\n",
       "      <td>41809</td>\n",
       "      <td>291923</td>\n",
       "      <td>333696</td>\n",
       "    </tr>\n",
       "    <tr>\n",
       "      <th>4</th>\n",
       "      <td>104628</td>\n",
       "      <td>26247</td>\n",
       "      <td>182733</td>\n",
       "      <td>208917</td>\n",
       "    </tr>\n",
       "  </tbody>\n",
       "</table>\n",
       "</div>"
      ],
      "text/plain": [
       "        0      1       2       3\n",
       "0  198740  49814  347247  396975\n",
       "1  152376  38232  266047  304190\n",
       "2   84232  21145  147029  168116\n",
       "3  166984  41809  291923  333696\n",
       "4  104628  26247  182733  208917"
      ]
     },
     "execution_count": 11,
     "metadata": {},
     "output_type": "execute_result"
    }
   ],
   "source": [
    "features_X = features@M\n",
    "features_X.head()"
   ]
  },
  {
   "cell_type": "markdown",
   "metadata": {},
   "source": [
    "Разделим на тренировочную и тестовую выборки"
   ]
  },
  {
   "cell_type": "code",
   "execution_count": 12,
   "metadata": {},
   "outputs": [],
   "source": [
    "features_X_train, features_X_test, target_train, target_test = train_test_split(\n",
    "    features_X, target, test_size=0.25, random_state=rs)"
   ]
  },
  {
   "cell_type": "markdown",
   "metadata": {},
   "source": [
    "Обучим модель линейной регрессии и проверим R2 значение:"
   ]
  },
  {
   "cell_type": "code",
   "execution_count": 13,
   "metadata": {},
   "outputs": [
    {
     "name": "stdout",
     "output_type": "stream",
     "text": [
      "R2 = 0.43522756840828225\n"
     ]
    }
   ],
   "source": [
    "model = LinearRegression()\n",
    "model.fit(features_X_train, target_train)\n",
    "R2 = r2_score(target_test, model.predict(features_X_test))\n",
    "print(\"R2 =\", R2)"
   ]
  },
  {
   "cell_type": "markdown",
   "metadata": {},
   "source": [
    "Вывод: Качество модели после преобразования идентично качеству модели после преобразовния, метрики R2 совпадают."
   ]
  }
 ],
 "metadata": {
  "ExecuteTimeLog": [
   {
    "duration": 1182,
    "start_time": "2023-09-14T18:14:54.454Z"
   },
   {
    "duration": 3,
    "start_time": "2023-09-14T18:15:20.148Z"
   },
   {
    "duration": 35,
    "start_time": "2023-09-14T18:15:20.681Z"
   },
   {
    "duration": 54,
    "start_time": "2023-09-14T18:33:51.949Z"
   },
   {
    "duration": 8,
    "start_time": "2023-09-14T18:34:37.255Z"
   },
   {
    "duration": 14,
    "start_time": "2023-09-14T18:34:48.347Z"
   },
   {
    "duration": 7,
    "start_time": "2023-09-14T19:10:21.079Z"
   },
   {
    "duration": 6,
    "start_time": "2023-09-14T19:10:42.924Z"
   },
   {
    "duration": 6,
    "start_time": "2023-09-14T19:11:21.001Z"
   },
   {
    "duration": 3,
    "start_time": "2023-09-14T19:14:38.130Z"
   },
   {
    "duration": 212,
    "start_time": "2023-09-14T19:14:57.608Z"
   },
   {
    "duration": 3,
    "start_time": "2023-09-14T19:15:30.387Z"
   },
   {
    "duration": 39,
    "start_time": "2023-09-14T19:15:32.556Z"
   },
   {
    "duration": 4,
    "start_time": "2023-09-14T19:15:33.633Z"
   },
   {
    "duration": 62,
    "start_time": "2023-09-14T19:15:34.683Z"
   },
   {
    "duration": 3,
    "start_time": "2023-09-14T19:33:17.502Z"
   },
   {
    "duration": 3,
    "start_time": "2023-09-14T19:33:28.310Z"
   },
   {
    "duration": 9,
    "start_time": "2023-09-14T19:33:56.770Z"
   },
   {
    "duration": 5,
    "start_time": "2023-09-14T19:36:56.750Z"
   },
   {
    "duration": 10,
    "start_time": "2023-09-14T19:37:14.265Z"
   },
   {
    "duration": 10,
    "start_time": "2023-09-14T19:38:02.281Z"
   },
   {
    "duration": 6,
    "start_time": "2023-09-14T19:41:06.657Z"
   },
   {
    "duration": 10,
    "start_time": "2023-09-14T19:41:10.462Z"
   },
   {
    "duration": 83,
    "start_time": "2023-09-14T19:41:35.475Z"
   },
   {
    "duration": 6,
    "start_time": "2023-09-14T19:45:21.190Z"
   },
   {
    "duration": 16,
    "start_time": "2023-09-14T19:45:23.266Z"
   },
   {
    "duration": 5,
    "start_time": "2023-09-14T19:49:00.757Z"
   },
   {
    "duration": 10,
    "start_time": "2023-09-14T20:02:06.280Z"
   },
   {
    "duration": 12,
    "start_time": "2023-09-14T20:03:03.469Z"
   },
   {
    "duration": 6,
    "start_time": "2023-09-14T20:03:34.686Z"
   },
   {
    "duration": 14,
    "start_time": "2023-09-14T20:03:39.101Z"
   },
   {
    "duration": 12,
    "start_time": "2023-09-14T20:04:00.146Z"
   },
   {
    "duration": 18,
    "start_time": "2023-09-14T20:04:47.131Z"
   },
   {
    "duration": 51,
    "start_time": "2023-09-14T20:08:17.793Z"
   },
   {
    "duration": 19,
    "start_time": "2023-09-14T20:09:48.017Z"
   },
   {
    "duration": 7,
    "start_time": "2023-09-14T20:13:30.101Z"
   },
   {
    "duration": 16,
    "start_time": "2023-09-14T20:13:32.496Z"
   },
   {
    "duration": 4,
    "start_time": "2023-09-14T20:13:40.379Z"
   },
   {
    "duration": 16,
    "start_time": "2023-09-14T20:13:44.511Z"
   },
   {
    "duration": 17,
    "start_time": "2023-09-14T20:14:05.771Z"
   },
   {
    "duration": 5,
    "start_time": "2023-09-14T20:14:35.051Z"
   },
   {
    "duration": 7,
    "start_time": "2023-09-14T20:14:38.933Z"
   },
   {
    "duration": 14,
    "start_time": "2023-09-14T20:14:40.176Z"
   },
   {
    "duration": 13,
    "start_time": "2023-09-14T20:14:45.626Z"
   },
   {
    "duration": 10,
    "start_time": "2023-09-14T20:15:08.147Z"
   },
   {
    "duration": 1045,
    "start_time": "2023-09-14T20:15:20.586Z"
   },
   {
    "duration": 46,
    "start_time": "2023-09-14T20:15:21.633Z"
   },
   {
    "duration": 10,
    "start_time": "2023-09-14T20:15:21.681Z"
   },
   {
    "duration": 6,
    "start_time": "2023-09-14T20:15:21.693Z"
   },
   {
    "duration": 16,
    "start_time": "2023-09-14T20:15:21.700Z"
   },
   {
    "duration": 18,
    "start_time": "2023-09-14T20:15:21.718Z"
   },
   {
    "duration": 9,
    "start_time": "2023-09-14T20:15:21.737Z"
   },
   {
    "duration": 95,
    "start_time": "2023-09-14T20:15:21.748Z"
   },
   {
    "duration": 3,
    "start_time": "2023-09-14T20:17:13.177Z"
   },
   {
    "duration": 39,
    "start_time": "2023-09-14T20:17:14.847Z"
   },
   {
    "duration": 11,
    "start_time": "2023-09-14T20:17:17.387Z"
   },
   {
    "duration": 5,
    "start_time": "2023-09-14T20:17:22.571Z"
   },
   {
    "duration": 9,
    "start_time": "2023-09-14T20:17:23.300Z"
   },
   {
    "duration": 5,
    "start_time": "2023-09-14T20:17:27.145Z"
   },
   {
    "duration": 16,
    "start_time": "2023-09-14T20:17:32.295Z"
   },
   {
    "duration": 8,
    "start_time": "2023-09-14T20:17:34.716Z"
   },
   {
    "duration": 6,
    "start_time": "2023-09-14T20:36:30.649Z"
   },
   {
    "duration": 60,
    "start_time": "2023-09-18T15:59:45.743Z"
   },
   {
    "duration": 1188,
    "start_time": "2023-09-18T15:59:57.011Z"
   },
   {
    "duration": 95,
    "start_time": "2023-09-18T15:59:58.201Z"
   },
   {
    "duration": 9,
    "start_time": "2023-09-18T15:59:58.297Z"
   },
   {
    "duration": 25,
    "start_time": "2023-09-18T15:59:58.308Z"
   },
   {
    "duration": 11,
    "start_time": "2023-09-18T15:59:58.335Z"
   },
   {
    "duration": 5,
    "start_time": "2023-09-18T15:59:58.348Z"
   },
   {
    "duration": 7,
    "start_time": "2023-09-18T15:59:58.354Z"
   },
   {
    "duration": 66,
    "start_time": "2023-09-18T15:59:58.363Z"
   },
   {
    "duration": 93,
    "start_time": "2023-09-18T15:59:58.432Z"
   },
   {
    "duration": 64,
    "start_time": "2023-09-18T16:01:26.986Z"
   },
   {
    "duration": 11,
    "start_time": "2023-09-18T16:01:35.845Z"
   },
   {
    "duration": 6,
    "start_time": "2023-09-18T16:01:41.363Z"
   },
   {
    "duration": 5,
    "start_time": "2023-09-18T16:01:45.057Z"
   },
   {
    "duration": 6,
    "start_time": "2023-09-18T16:01:47.686Z"
   },
   {
    "duration": 7,
    "start_time": "2023-09-18T16:03:04.378Z"
   },
   {
    "duration": 6,
    "start_time": "2023-09-18T16:03:07.787Z"
   },
   {
    "duration": 6,
    "start_time": "2023-09-18T16:03:10.915Z"
   },
   {
    "duration": 6,
    "start_time": "2023-09-18T16:05:35.736Z"
   },
   {
    "duration": 9,
    "start_time": "2023-09-18T16:08:01.811Z"
   },
   {
    "duration": 5,
    "start_time": "2023-09-18T16:08:09.210Z"
   },
   {
    "duration": 3,
    "start_time": "2023-09-18T16:08:11.602Z"
   },
   {
    "duration": 6,
    "start_time": "2023-09-18T16:08:33.042Z"
   },
   {
    "duration": 5,
    "start_time": "2023-09-18T16:09:38.459Z"
   },
   {
    "duration": 5,
    "start_time": "2023-09-18T16:09:40.231Z"
   },
   {
    "duration": 9,
    "start_time": "2023-09-18T16:25:07.036Z"
   },
   {
    "duration": 3,
    "start_time": "2023-09-18T16:25:49.441Z"
   },
   {
    "duration": 5,
    "start_time": "2023-09-18T16:25:57.814Z"
   },
   {
    "duration": 5,
    "start_time": "2023-09-18T16:27:25.461Z"
   },
   {
    "duration": 8,
    "start_time": "2023-09-18T16:27:30.313Z"
   },
   {
    "duration": 124,
    "start_time": "2023-09-18T16:28:17.282Z"
   },
   {
    "duration": 10,
    "start_time": "2023-09-18T16:28:23.916Z"
   },
   {
    "duration": 3,
    "start_time": "2023-09-18T16:28:58.686Z"
   },
   {
    "duration": 12,
    "start_time": "2023-09-18T16:36:03.108Z"
   },
   {
    "duration": 7,
    "start_time": "2023-09-18T16:36:19.988Z"
   },
   {
    "duration": 4,
    "start_time": "2023-09-18T16:36:55.787Z"
   },
   {
    "duration": 7,
    "start_time": "2023-09-18T16:37:20.506Z"
   },
   {
    "duration": 10,
    "start_time": "2023-09-18T16:39:09.929Z"
   },
   {
    "duration": 7,
    "start_time": "2023-09-18T16:39:14.449Z"
   },
   {
    "duration": 6,
    "start_time": "2023-09-18T16:39:16.489Z"
   },
   {
    "duration": 10,
    "start_time": "2023-09-18T16:39:18.585Z"
   },
   {
    "duration": 7,
    "start_time": "2023-09-18T16:45:36.049Z"
   },
   {
    "duration": 9,
    "start_time": "2023-09-18T16:46:37.499Z"
   },
   {
    "duration": 4,
    "start_time": "2023-09-18T16:46:41.155Z"
   },
   {
    "duration": 8,
    "start_time": "2023-09-18T16:46:41.875Z"
   },
   {
    "duration": 3,
    "start_time": "2023-09-18T16:47:29.705Z"
   },
   {
    "duration": 4,
    "start_time": "2023-09-18T16:47:35.096Z"
   },
   {
    "duration": 12,
    "start_time": "2023-09-18T16:47:35.622Z"
   },
   {
    "duration": 5,
    "start_time": "2023-09-18T16:47:53.677Z"
   },
   {
    "duration": 8,
    "start_time": "2023-09-18T16:47:54.519Z"
   },
   {
    "duration": 7,
    "start_time": "2023-09-18T16:48:02.056Z"
   },
   {
    "duration": 7,
    "start_time": "2023-09-18T16:48:03.322Z"
   },
   {
    "duration": 4,
    "start_time": "2023-09-18T16:48:07.797Z"
   },
   {
    "duration": 8,
    "start_time": "2023-09-18T16:48:08.756Z"
   },
   {
    "duration": 13,
    "start_time": "2023-09-18T16:48:10.235Z"
   },
   {
    "duration": 5,
    "start_time": "2023-09-18T16:48:14.356Z"
   },
   {
    "duration": 9,
    "start_time": "2023-09-18T16:48:15.110Z"
   },
   {
    "duration": 205,
    "start_time": "2023-09-18T16:52:05.475Z"
   },
   {
    "duration": 84,
    "start_time": "2023-09-18T16:56:12.177Z"
   },
   {
    "duration": 1200,
    "start_time": "2023-09-18T16:57:53.361Z"
   },
   {
    "duration": 49,
    "start_time": "2023-09-18T16:57:54.563Z"
   },
   {
    "duration": 11,
    "start_time": "2023-09-18T16:57:54.614Z"
   },
   {
    "duration": 17,
    "start_time": "2023-09-18T16:57:54.627Z"
   },
   {
    "duration": 21,
    "start_time": "2023-09-18T16:57:54.646Z"
   },
   {
    "duration": 16,
    "start_time": "2023-09-18T16:57:54.669Z"
   },
   {
    "duration": 10,
    "start_time": "2023-09-18T16:57:54.687Z"
   },
   {
    "duration": 20,
    "start_time": "2023-09-18T16:57:54.699Z"
   },
   {
    "duration": 207,
    "start_time": "2023-09-18T16:57:54.720Z"
   },
   {
    "duration": 83,
    "start_time": "2023-09-18T16:57:54.930Z"
   },
   {
    "duration": 2102,
    "start_time": "2023-09-18T17:00:00.604Z"
   },
   {
    "duration": 56,
    "start_time": "2023-09-18T17:00:02.708Z"
   },
   {
    "duration": 11,
    "start_time": "2023-09-18T17:00:02.766Z"
   },
   {
    "duration": 27,
    "start_time": "2023-09-18T17:00:02.780Z"
   },
   {
    "duration": 184,
    "start_time": "2023-09-18T17:00:02.809Z"
   },
   {
    "duration": 393,
    "start_time": "2023-09-18T17:00:02.995Z"
   },
   {
    "duration": 666,
    "start_time": "2023-09-18T17:00:03.390Z"
   },
   {
    "duration": 416,
    "start_time": "2023-09-18T17:00:04.058Z"
   },
   {
    "duration": 358,
    "start_time": "2023-09-18T17:00:04.475Z"
   },
   {
    "duration": 97,
    "start_time": "2023-09-18T17:00:04.835Z"
   },
   {
    "duration": 674388,
    "start_time": "2023-09-18T17:00:04.936Z"
   },
   {
    "duration": 10,
    "start_time": "2023-09-18T17:11:19.327Z"
   },
   {
    "duration": 92,
    "start_time": "2023-09-18T17:11:19.342Z"
   },
   {
    "duration": 6,
    "start_time": "2023-09-18T17:11:19.436Z"
   },
   {
    "duration": 16,
    "start_time": "2023-09-18T17:11:19.444Z"
   },
   {
    "duration": 15,
    "start_time": "2023-09-18T17:11:19.461Z"
   },
   {
    "duration": 25,
    "start_time": "2023-09-18T17:11:19.478Z"
   },
   {
    "duration": 43,
    "start_time": "2023-09-18T17:11:19.505Z"
   },
   {
    "duration": 268,
    "start_time": "2023-09-18T17:11:19.552Z"
   },
   {
    "duration": 2275,
    "start_time": "2023-09-18T18:18:38.213Z"
   },
   {
    "duration": 50,
    "start_time": "2023-09-18T18:18:40.490Z"
   },
   {
    "duration": 11,
    "start_time": "2023-09-18T18:18:40.541Z"
   },
   {
    "duration": 10,
    "start_time": "2023-09-18T18:18:40.554Z"
   },
   {
    "duration": 12,
    "start_time": "2023-09-18T18:18:40.566Z"
   },
   {
    "duration": 9,
    "start_time": "2023-09-18T18:18:40.580Z"
   },
   {
    "duration": 8,
    "start_time": "2023-09-18T18:18:40.591Z"
   },
   {
    "duration": 10,
    "start_time": "2023-09-18T18:18:40.601Z"
   },
   {
    "duration": 202,
    "start_time": "2023-09-18T18:18:40.613Z"
   },
   {
    "duration": 89,
    "start_time": "2023-09-18T18:18:40.818Z"
   },
   {
    "duration": 2123,
    "start_time": "2023-09-18T18:26:46.404Z"
   },
   {
    "duration": 49,
    "start_time": "2023-09-18T18:26:48.529Z"
   },
   {
    "duration": 27,
    "start_time": "2023-09-18T18:26:48.580Z"
   },
   {
    "duration": 5,
    "start_time": "2023-09-18T18:26:48.610Z"
   },
   {
    "duration": 15,
    "start_time": "2023-09-18T18:26:48.618Z"
   },
   {
    "duration": 5,
    "start_time": "2023-09-18T18:26:48.635Z"
   },
   {
    "duration": 7,
    "start_time": "2023-09-18T18:26:48.641Z"
   },
   {
    "duration": 10,
    "start_time": "2023-09-18T18:26:48.649Z"
   },
   {
    "duration": 203,
    "start_time": "2023-09-18T18:26:48.661Z"
   },
   {
    "duration": 86,
    "start_time": "2023-09-18T18:26:48.866Z"
   },
   {
    "duration": 4,
    "start_time": "2023-09-18T18:26:50.531Z"
   },
   {
    "duration": 8,
    "start_time": "2023-09-18T18:27:02.777Z"
   },
   {
    "duration": 116,
    "start_time": "2023-09-18T18:27:11.267Z"
   },
   {
    "duration": 4,
    "start_time": "2023-09-18T18:27:13.957Z"
   },
   {
    "duration": 3,
    "start_time": "2023-09-19T15:47:37.827Z"
   },
   {
    "duration": 2,
    "start_time": "2023-09-19T15:47:40.076Z"
   },
   {
    "duration": 2,
    "start_time": "2023-09-19T15:47:41.169Z"
   },
   {
    "duration": 2,
    "start_time": "2023-09-19T15:47:42.438Z"
   },
   {
    "duration": 185,
    "start_time": "2023-09-19T16:05:05.800Z"
   },
   {
    "duration": 1925,
    "start_time": "2023-09-19T16:44:59.160Z"
   },
   {
    "duration": 48,
    "start_time": "2023-09-19T16:45:01.087Z"
   },
   {
    "duration": 49,
    "start_time": "2023-09-19T16:45:01.136Z"
   },
   {
    "duration": 88,
    "start_time": "2023-09-19T16:45:01.187Z"
   },
   {
    "duration": 92,
    "start_time": "2023-09-19T16:45:01.277Z"
   },
   {
    "duration": 355,
    "start_time": "2023-09-19T16:45:01.370Z"
   },
   {
    "duration": 63,
    "start_time": "2023-09-19T16:45:01.727Z"
   },
   {
    "duration": 70,
    "start_time": "2023-09-19T16:45:01.791Z"
   },
   {
    "duration": 78,
    "start_time": "2023-09-19T16:45:01.863Z"
   },
   {
    "duration": 78,
    "start_time": "2023-09-19T16:45:01.943Z"
   },
   {
    "duration": 80,
    "start_time": "2023-09-19T16:45:02.023Z"
   },
   {
    "duration": 92,
    "start_time": "2023-09-19T16:45:02.105Z"
   },
   {
    "duration": 112,
    "start_time": "2023-09-19T16:45:02.199Z"
   },
   {
    "duration": 2011,
    "start_time": "2023-09-19T19:19:00.549Z"
   },
   {
    "duration": 83,
    "start_time": "2023-09-19T19:19:02.565Z"
   },
   {
    "duration": 16,
    "start_time": "2023-09-19T19:19:02.651Z"
   },
   {
    "duration": 13,
    "start_time": "2023-09-19T19:19:02.675Z"
   },
   {
    "duration": 14,
    "start_time": "2023-09-19T19:19:02.704Z"
   },
   {
    "duration": 4,
    "start_time": "2023-09-19T19:19:02.720Z"
   },
   {
    "duration": 18,
    "start_time": "2023-09-19T19:19:02.726Z"
   },
   {
    "duration": 45,
    "start_time": "2023-09-19T19:19:02.747Z"
   },
   {
    "duration": 10,
    "start_time": "2023-09-19T19:19:02.801Z"
   },
   {
    "duration": 23,
    "start_time": "2023-09-19T19:19:02.813Z"
   },
   {
    "duration": 7,
    "start_time": "2023-09-19T19:19:02.837Z"
   },
   {
    "duration": 13,
    "start_time": "2023-09-19T19:19:02.845Z"
   },
   {
    "duration": 11,
    "start_time": "2023-09-19T19:19:02.869Z"
   },
   {
    "duration": 83,
    "start_time": "2023-09-20T18:16:37.263Z"
   },
   {
    "duration": 1840,
    "start_time": "2023-09-20T18:34:10.041Z"
   },
   {
    "duration": 94,
    "start_time": "2023-09-20T18:34:11.883Z"
   },
   {
    "duration": 11,
    "start_time": "2023-09-20T18:34:11.979Z"
   },
   {
    "duration": 31,
    "start_time": "2023-09-20T18:34:11.991Z"
   },
   {
    "duration": 23,
    "start_time": "2023-09-20T18:34:12.023Z"
   },
   {
    "duration": 8,
    "start_time": "2023-09-20T18:34:12.048Z"
   },
   {
    "duration": 19,
    "start_time": "2023-09-20T18:34:12.058Z"
   },
   {
    "duration": 25,
    "start_time": "2023-09-20T18:34:12.079Z"
   },
   {
    "duration": 18,
    "start_time": "2023-09-20T18:34:12.106Z"
   },
   {
    "duration": 21,
    "start_time": "2023-09-20T18:34:12.127Z"
   },
   {
    "duration": 29,
    "start_time": "2023-09-20T18:34:12.150Z"
   },
   {
    "duration": 20,
    "start_time": "2023-09-20T18:34:12.182Z"
   },
   {
    "duration": 32,
    "start_time": "2023-09-20T18:34:12.204Z"
   }
  ],
  "kernelspec": {
   "display_name": "Python 3 (ipykernel)",
   "language": "python",
   "name": "python3"
  },
  "language_info": {
   "codemirror_mode": {
    "name": "ipython",
    "version": 3
   },
   "file_extension": ".py",
   "mimetype": "text/x-python",
   "name": "python",
   "nbconvert_exporter": "python",
   "pygments_lexer": "ipython3",
   "version": "3.11.5"
  },
  "toc": {
   "base_numbering": 1,
   "nav_menu": {},
   "number_sections": true,
   "sideBar": true,
   "skip_h1_title": true,
   "title_cell": "Содержание",
   "title_sidebar": "Contents",
   "toc_cell": true,
   "toc_position": {},
   "toc_section_display": true,
   "toc_window_display": true
  }
 },
 "nbformat": 4,
 "nbformat_minor": 2
}
