{
 "cells": [
  {
   "cell_type": "markdown",
   "id": "4f11de00",
   "metadata": {
    "deletable": false,
    "editable": false,
    "id": "4f11de00"
   },
   "source": [
    "# Исследование надежности заемщиков"
   ]
  },
  {
   "cell_type": "markdown",
   "id": "f09d6878",
   "metadata": {
    "deletable": false,
    "editable": false,
    "id": "f09d6878"
   },
   "source": [
    "Это первая часть проекта, она будет проверена автоматически. Вторую часть проверит ревьюер. "
   ]
  },
  {
   "cell_type": "markdown",
   "id": "516620ee",
   "metadata": {
    "deletable": false,
    "editable": false,
    "id": "516620ee"
   },
   "source": [
    "## Откройте таблицу и изучите общую информацию о данных"
   ]
  },
  {
   "cell_type": "markdown",
   "id": "76a8a9ce",
   "metadata": {
    "deletable": false,
    "editable": false,
    "id": "76a8a9ce",
    "tags": [
     "start_task"
    ]
   },
   "source": [
    "**Задание 1. Импортируйте библиотеку pandas. Считайте данные из csv-файла в датафрейм и сохраните в переменную `data`. Путь к файлу:**\n",
    "\n",
    "`/datasets/data.csv`"
   ]
  },
  {
   "cell_type": "code",
   "execution_count": 1,
   "id": "fab207d0",
   "metadata": {
    "id": "fab207d0"
   },
   "outputs": [],
   "source": [
    "# импортируйте библиотеку pandas\n",
    "import pandas as pd"
   ]
  },
  {
   "cell_type": "code",
   "execution_count": 2,
   "id": "6c82b607",
   "metadata": {
    "id": "6c82b607"
   },
   "outputs": [],
   "source": [
    "# прочитайте csv-файл\n",
    "data = pd.read_csv('/datasets/data.csv')"
   ]
  },
  {
   "cell_type": "markdown",
   "id": "08bbb5b3",
   "metadata": {
    "deletable": false,
    "editable": false,
    "id": "08bbb5b3",
    "tags": [
     "start_task"
    ]
   },
   "source": [
    "**Задание 2. Выведите первые 20 строчек датафрейма `data` на экран.**"
   ]
  },
  {
   "cell_type": "code",
   "execution_count": 3,
   "id": "4ff33b36",
   "metadata": {
    "id": "4ff33b36"
   },
   "outputs": [
    {
     "name": "stdout",
     "output_type": "stream",
     "text": [
      "    children  days_employed  dob_years            education  education_id  \\\n",
      "0          1   -8437.673028         42               высшее             0   \n",
      "1          1   -4024.803754         36              среднее             1   \n",
      "2          0   -5623.422610         33              Среднее             1   \n",
      "3          3   -4124.747207         32              среднее             1   \n",
      "4          0  340266.072047         53              среднее             1   \n",
      "5          0    -926.185831         27               высшее             0   \n",
      "6          0   -2879.202052         43               высшее             0   \n",
      "7          0    -152.779569         50              СРЕДНЕЕ             1   \n",
      "8          2   -6929.865299         35               ВЫСШЕЕ             0   \n",
      "9          0   -2188.756445         41              среднее             1   \n",
      "10         2   -4171.483647         36               высшее             0   \n",
      "11         0    -792.701887         40              среднее             1   \n",
      "12         0            NaN         65              среднее             1   \n",
      "13         0   -1846.641941         54  неоконченное высшее             2   \n",
      "14         0   -1844.956182         56               высшее             0   \n",
      "15         1    -972.364419         26              среднее             1   \n",
      "16         0   -1719.934226         35              среднее             1   \n",
      "17         0   -2369.999720         33               высшее             0   \n",
      "18         0  400281.136913         53              среднее             1   \n",
      "19         0  -10038.818549         48              СРЕДНЕЕ             1   \n",
      "\n",
      "       family_status  family_status_id gender income_type  debt  \\\n",
      "0    женат / замужем                 0      F   сотрудник     0   \n",
      "1    женат / замужем                 0      F   сотрудник     0   \n",
      "2    женат / замужем                 0      M   сотрудник     0   \n",
      "3    женат / замужем                 0      M   сотрудник     0   \n",
      "4   гражданский брак                 1      F   пенсионер     0   \n",
      "5   гражданский брак                 1      M   компаньон     0   \n",
      "6    женат / замужем                 0      F   компаньон     0   \n",
      "7    женат / замужем                 0      M   сотрудник     0   \n",
      "8   гражданский брак                 1      F   сотрудник     0   \n",
      "9    женат / замужем                 0      M   сотрудник     0   \n",
      "10   женат / замужем                 0      M   компаньон     0   \n",
      "11   женат / замужем                 0      F   сотрудник     0   \n",
      "12  гражданский брак                 1      M   пенсионер     0   \n",
      "13   женат / замужем                 0      F   сотрудник     0   \n",
      "14  гражданский брак                 1      F   компаньон     1   \n",
      "15   женат / замужем                 0      F   сотрудник     0   \n",
      "16   женат / замужем                 0      F   сотрудник     0   \n",
      "17  гражданский брак                 1      M   сотрудник     0   \n",
      "18    вдовец / вдова                 2      F   пенсионер     0   \n",
      "19         в разводе                 3      F   сотрудник     0   \n",
      "\n",
      "     total_income                                 purpose  \n",
      "0   253875.639453                           покупка жилья  \n",
      "1   112080.014102                 приобретение автомобиля  \n",
      "2   145885.952297                           покупка жилья  \n",
      "3   267628.550329              дополнительное образование  \n",
      "4   158616.077870                         сыграть свадьбу  \n",
      "5   255763.565419                           покупка жилья  \n",
      "6   240525.971920                       операции с жильем  \n",
      "7   135823.934197                             образование  \n",
      "8    95856.832424                   на проведение свадьбы  \n",
      "9   144425.938277                 покупка жилья для семьи  \n",
      "10  113943.491460                    покупка недвижимости  \n",
      "11   77069.234271       покупка коммерческой недвижимости  \n",
      "12            NaN                         сыграть свадьбу  \n",
      "13  130458.228857                 приобретение автомобиля  \n",
      "14  165127.911772              покупка жилой недвижимости  \n",
      "15  116820.904450  строительство собственной недвижимости  \n",
      "16  289202.704229                            недвижимость  \n",
      "17   90410.586745              строительство недвижимости  \n",
      "18   56823.777243      на покупку подержанного автомобиля  \n",
      "19  242831.107982            на покупку своего автомобиля  \n"
     ]
    }
   ],
   "source": [
    "# ваш код здесь\n",
    "print(data.head(20))"
   ]
  },
  {
   "cell_type": "markdown",
   "id": "c8f382ae",
   "metadata": {
    "deletable": false,
    "editable": false,
    "id": "c8f382ae",
    "tags": [
     "start_task"
    ]
   },
   "source": [
    "**Задание 3. Выведите основную информацию о датафрейме с помощью метода `info()`.**"
   ]
  },
  {
   "cell_type": "code",
   "execution_count": 4,
   "id": "e1ed9908",
   "metadata": {
    "id": "e1ed9908"
   },
   "outputs": [
    {
     "name": "stdout",
     "output_type": "stream",
     "text": [
      "<class 'pandas.core.frame.DataFrame'>\n",
      "RangeIndex: 21525 entries, 0 to 21524\n",
      "Data columns (total 12 columns):\n",
      " #   Column            Non-Null Count  Dtype  \n",
      "---  ------            --------------  -----  \n",
      " 0   children          21525 non-null  int64  \n",
      " 1   days_employed     19351 non-null  float64\n",
      " 2   dob_years         21525 non-null  int64  \n",
      " 3   education         21525 non-null  object \n",
      " 4   education_id      21525 non-null  int64  \n",
      " 5   family_status     21525 non-null  object \n",
      " 6   family_status_id  21525 non-null  int64  \n",
      " 7   gender            21525 non-null  object \n",
      " 8   income_type       21525 non-null  object \n",
      " 9   debt              21525 non-null  int64  \n",
      " 10  total_income      19351 non-null  float64\n",
      " 11  purpose           21525 non-null  object \n",
      "dtypes: float64(2), int64(5), object(5)\n",
      "memory usage: 2.0+ MB\n",
      "None\n"
     ]
    }
   ],
   "source": [
    "# ваш код здесь\n",
    "print(data.info())"
   ]
  },
  {
   "cell_type": "markdown",
   "id": "f969a1cd",
   "metadata": {
    "deletable": false,
    "editable": false,
    "id": "f969a1cd"
   },
   "source": [
    "## Предобработка данных"
   ]
  },
  {
   "cell_type": "markdown",
   "id": "7283e864",
   "metadata": {
    "deletable": false,
    "editable": false,
    "id": "7283e864"
   },
   "source": [
    "### Удаление пропусков"
   ]
  },
  {
   "cell_type": "markdown",
   "id": "c9a0745e",
   "metadata": {
    "deletable": false,
    "editable": false,
    "id": "c9a0745e",
    "tags": [
     "start_task"
    ]
   },
   "source": [
    "**Задание 4. Выведите количество пропущенных значений для каждого столбца. Используйте комбинацию двух методов.**"
   ]
  },
  {
   "cell_type": "code",
   "execution_count": 5,
   "id": "b7a096e1",
   "metadata": {
    "id": "b7a096e1"
   },
   "outputs": [
    {
     "name": "stdout",
     "output_type": "stream",
     "text": [
      "children               0\n",
      "days_employed       2174\n",
      "dob_years              0\n",
      "education              0\n",
      "education_id           0\n",
      "family_status          0\n",
      "family_status_id       0\n",
      "gender                 0\n",
      "income_type            0\n",
      "debt                   0\n",
      "total_income        2174\n",
      "purpose                0\n",
      "dtype: int64\n"
     ]
    }
   ],
   "source": [
    "print(data.isna().sum())# ваш код здесь"
   ]
  },
  {
   "cell_type": "markdown",
   "id": "c2578616",
   "metadata": {
    "deletable": false,
    "editable": false,
    "id": "c2578616",
    "tags": [
     "start_task"
    ]
   },
   "source": [
    "**Задание 5. В двух столбцах есть пропущенные значения. Один из них — `days_employed`. Пропуски в этом столбце вы обработаете на следующем этапе. Другой столбец с пропущенными значениями — `total_income` — хранит данные о доходах. На сумму дохода сильнее всего влияет тип занятости, поэтому заполнить пропуски в этом столбце нужно медианным значением по каждому типу из столбца `income_type`. Например, у человека с типом занятости `сотрудник` пропуск в столбце `total_income` должен быть заполнен медианным доходом среди всех записей с тем же типом.**"
   ]
  },
  {
   "cell_type": "code",
   "execution_count": 6,
   "id": "e8afc4bc",
   "metadata": {
    "id": "e8afc4bc"
   },
   "outputs": [],
   "source": [
    "# ваш код здесь\n",
    "for d in data['income_type'].unique():\n",
    "    data.loc[(data['income_type'] == d) & (data['total_income'].isna()), 'total_income'] = \\\n",
    "    data.loc[(data['income_type'] == d), 'total_income'].median()"
   ]
  },
  {
   "cell_type": "markdown",
   "id": "ae986d46",
   "metadata": {
    "deletable": false,
    "editable": false,
    "id": "ae986d46"
   },
   "source": [
    "### Обработка аномальных значений"
   ]
  },
  {
   "cell_type": "markdown",
   "id": "b049cbae",
   "metadata": {
    "deletable": false,
    "editable": false,
    "id": "b049cbae",
    "tags": [
     "start_task"
    ]
   },
   "source": [
    "**Задание 6. В данных могут встречаться артефакты (аномалии) — значения, которые не отражают действительность и появились по какой-то ошибке. Таким артефактом будет отрицательное количество дней трудового стажа в столбце `days_employed`. Для реальных данных это нормально. Обработайте значения в этом столбце: замените все отрицательные значения положительными с помощью метода `abs()`.**"
   ]
  },
  {
   "cell_type": "code",
   "execution_count": 7,
   "id": "187779b0",
   "metadata": {
    "id": "187779b0"
   },
   "outputs": [],
   "source": [
    "# ваш код здесь\n",
    "data['days_employed'] = data['days_employed'].abs()"
   ]
  },
  {
   "cell_type": "markdown",
   "id": "a13054c2",
   "metadata": {
    "deletable": false,
    "editable": false,
    "id": "a13054c2",
    "tags": [
     "start_task"
    ]
   },
   "source": [
    "**Задание 7. Для каждого типа занятости выведите медианное значение трудового стажа `days_employed` в днях.**"
   ]
  },
  {
   "cell_type": "code",
   "execution_count": 8,
   "id": "f3f5810c",
   "metadata": {
    "id": "f3f5810c"
   },
   "outputs": [
    {
     "name": "stdout",
     "output_type": "stream",
     "text": [
      "income_type\n",
      "безработный        366413.652744\n",
      "в декрете            3296.759962\n",
      "госслужащий          2689.368353\n",
      "компаньон            1547.382223\n",
      "пенсионер          365213.306266\n",
      "предприниматель       520.848083\n",
      "сотрудник            1574.202821\n",
      "студент               578.751554\n",
      "Name: days_employed, dtype: float64\n"
     ]
    }
   ],
   "source": [
    "# ваш код здесь\n",
    "print(data.groupby('income_type')['days_employed'].median())"
   ]
  },
  {
   "cell_type": "markdown",
   "id": "dbc3168c",
   "metadata": {
    "deletable": false,
    "editable": false,
    "id": "dbc3168c"
   },
   "source": [
    "У двух типов (безработные и пенсионеры) получатся аномально большие значения. Исправить такие значения сложно, поэтому оставьте их как есть."
   ]
  },
  {
   "cell_type": "markdown",
   "id": "ff4378c2",
   "metadata": {
    "deletable": false,
    "editable": false,
    "id": "ff4378c2",
    "tags": [
     "start_task"
    ]
   },
   "source": [
    "**Задание 8. Выведите перечень уникальных значений столбца `children`.**"
   ]
  },
  {
   "cell_type": "code",
   "execution_count": 9,
   "id": "9bd0c232",
   "metadata": {
    "id": "9bd0c232"
   },
   "outputs": [
    {
     "name": "stdout",
     "output_type": "stream",
     "text": [
      "[ 1  0  3  2 -1  4 20  5]\n"
     ]
    }
   ],
   "source": [
    "# ваш код здесь\n",
    "print(data['children'].unique())"
   ]
  },
  {
   "cell_type": "markdown",
   "id": "8e911990",
   "metadata": {
    "deletable": false,
    "editable": false,
    "id": "8e911990",
    "tags": [
     "start_task"
    ]
   },
   "source": [
    "**Задание 9. В столбце `children` есть два аномальных значения. Удалите строки, в которых встречаются такие аномальные значения из датафрейма `data`.**"
   ]
  },
  {
   "cell_type": "code",
   "execution_count": 10,
   "id": "6d5ba289",
   "metadata": {
    "id": "6d5ba289"
   },
   "outputs": [],
   "source": [
    "# ваш код здесь\n",
    "data = data.loc[data['children'] != -1]\n",
    "data = data.loc[data['children'] != 20]\n"
   ]
  },
  {
   "cell_type": "markdown",
   "id": "18d77455",
   "metadata": {
    "deletable": false,
    "editable": false,
    "id": "18d77455",
    "tags": [
     "start_task"
    ]
   },
   "source": [
    "**Задание 10. Ещё раз выведите перечень уникальных значений столбца `children`, чтобы убедиться, что артефакты удалены.**"
   ]
  },
  {
   "cell_type": "code",
   "execution_count": 11,
   "id": "2c5fa92c",
   "metadata": {
    "id": "2c5fa92c"
   },
   "outputs": [
    {
     "name": "stdout",
     "output_type": "stream",
     "text": [
      "[1 0 3 2 4 5]\n"
     ]
    }
   ],
   "source": [
    "# ваш код здесь\n",
    "print(data['children'].unique())"
   ]
  },
  {
   "cell_type": "markdown",
   "id": "0ec07dee",
   "metadata": {
    "deletable": false,
    "editable": false,
    "id": "0ec07dee"
   },
   "source": [
    "### Удаление пропусков (продолжение)"
   ]
  },
  {
   "cell_type": "markdown",
   "id": "0fc3ae3f",
   "metadata": {
    "deletable": false,
    "editable": false,
    "id": "0fc3ae3f",
    "tags": [
     "start_task"
    ]
   },
   "source": [
    "**Задание 11. Заполните пропуски в столбце `days_employed` медианными значениями по каждому типу занятости `income_type`.**"
   ]
  },
  {
   "cell_type": "code",
   "execution_count": 12,
   "id": "e2aea7ac",
   "metadata": {
    "id": "e2aea7ac"
   },
   "outputs": [],
   "source": [
    "# ваш код здесь\n",
    "for d in data['income_type'].unique():\n",
    "    data.loc[(data['income_type'] == d) & (data['days_employed'].isna()), 'days_employed'] = \\\n",
    "    data.loc[(data['income_type'] == d), 'days_employed'].median()"
   ]
  },
  {
   "cell_type": "markdown",
   "id": "97b0b795",
   "metadata": {
    "deletable": false,
    "editable": false,
    "id": "97b0b795",
    "tags": [
     "start_task"
    ]
   },
   "source": [
    "**Задание 12. Убедитесь, что все пропуски заполнены. Проверьте себя и ещё раз выведите количество пропущенных значений для каждого столбца с помощью двух методов.**"
   ]
  },
  {
   "cell_type": "code",
   "execution_count": 13,
   "id": "79632a21",
   "metadata": {
    "id": "79632a21"
   },
   "outputs": [
    {
     "name": "stdout",
     "output_type": "stream",
     "text": [
      "children            0\n",
      "days_employed       0\n",
      "dob_years           0\n",
      "education           0\n",
      "education_id        0\n",
      "family_status       0\n",
      "family_status_id    0\n",
      "gender              0\n",
      "income_type         0\n",
      "debt                0\n",
      "total_income        0\n",
      "purpose             0\n",
      "dtype: int64\n"
     ]
    }
   ],
   "source": [
    "# ваш код здесь\n",
    "print(data.isna().sum())"
   ]
  },
  {
   "cell_type": "markdown",
   "id": "bd4aeb20",
   "metadata": {
    "deletable": false,
    "editable": false,
    "id": "bd4aeb20"
   },
   "source": [
    "### Изменение типов данных"
   ]
  },
  {
   "cell_type": "markdown",
   "id": "963bfa58",
   "metadata": {
    "deletable": false,
    "editable": false,
    "id": "963bfa58",
    "tags": [
     "start_task"
    ]
   },
   "source": [
    "**Задание 13. Замените вещественный тип данных в столбце `total_income` на целочисленный с помощью метода `astype()`.**"
   ]
  },
  {
   "cell_type": "code",
   "execution_count": 14,
   "id": "73da6ea0",
   "metadata": {
    "id": "73da6ea0"
   },
   "outputs": [],
   "source": [
    "# ваш код здесь\n",
    "data['total_income'] = data['total_income'].astype('int')"
   ]
  },
  {
   "cell_type": "markdown",
   "id": "d290239e",
   "metadata": {
    "deletable": false,
    "editable": false,
    "id": "d290239e"
   },
   "source": [
    "### Обработка дубликатов"
   ]
  },
  {
   "cell_type": "markdown",
   "id": "1b5844fd",
   "metadata": {
    "deletable": false,
    "editable": false,
    "id": "1b5844fd",
    "tags": [
     "start_task"
    ]
   },
   "source": [
    "**Задание 14. Обработайте неявные дубликаты в столбце `education`. В этом столбце есть одни и те же значения, но записанные по-разному: с использованием заглавных и строчных букв. Приведите их к нижнему регистру.**"
   ]
  },
  {
   "cell_type": "code",
   "execution_count": 15,
   "id": "3f2504b3",
   "metadata": {
    "id": "3f2504b3"
   },
   "outputs": [],
   "source": [
    "# ваш код здесь\n",
    "data['education'] = data['education'].str.lower()"
   ]
  },
  {
   "cell_type": "markdown",
   "id": "4c22acbc",
   "metadata": {
    "deletable": false,
    "editable": false,
    "id": "4c22acbc",
    "tags": [
     "start_task"
    ]
   },
   "source": [
    "**Задание 15. Выведите на экран количество строк-дубликатов в данных. Если такие строки присутствуют, удалите их.**"
   ]
  },
  {
   "cell_type": "code",
   "execution_count": 23,
   "id": "d34a4325",
   "metadata": {
    "id": "d34a4325",
    "scrolled": true
   },
   "outputs": [
    {
     "data": {
      "text/plain": [
       "0"
      ]
     },
     "execution_count": 23,
     "metadata": {},
     "output_type": "execute_result"
    }
   ],
   "source": [
    "# посчитайте дубликаты\n",
    "data.duplicated().sum()"
   ]
  },
  {
   "cell_type": "code",
   "execution_count": 17,
   "id": "6e1a6499",
   "metadata": {
    "id": "6e1a6499"
   },
   "outputs": [],
   "source": [
    "# удалите дубликаты\n",
    "data = data.drop_duplicates(keep='first')"
   ]
  },
  {
   "cell_type": "markdown",
   "id": "e5686ccc",
   "metadata": {
    "deletable": false,
    "editable": false,
    "id": "e5686ccc"
   },
   "source": [
    "### Категоризация данных"
   ]
  },
  {
   "cell_type": "markdown",
   "id": "636e9acd",
   "metadata": {
    "deletable": false,
    "editable": false,
    "id": "636e9acd",
    "tags": [
     "start_task"
    ]
   },
   "source": [
    "**Задание 16. На основании диапазонов, указанных ниже, создайте в датафрейме `data` столбец `total_income_category` с категориями:**\n",
    "\n",
    "- 0–30000 — `'E'`;\n",
    "- 30001–50000 — `'D'`;\n",
    "- 50001–200000 — `'C'`;\n",
    "- 200001–1000000 — `'B'`;\n",
    "- 1000001 и выше — `'A'`.\n",
    "\n",
    "\n",
    "**Например, кредитополучателю с доходом 25000 нужно назначить категорию `'E'`, а клиенту, получающему 235000, — `'B'`. Используйте собственную функцию с именем `categorize_income()` и метод `apply()`.**"
   ]
  },
  {
   "cell_type": "code",
   "execution_count": 24,
   "id": "880a77e5",
   "metadata": {
    "id": "880a77e5"
   },
   "outputs": [],
   "source": [
    "# создайте функцию categorize_income()\n",
    "def categorize_income(income):\n",
    "    if   0 < income <= 30000:\n",
    "        return 'E'\n",
    "    elif   30000 < income <= 50000:\n",
    "        return 'D'\n",
    "    elif   50001 < income <= 200000:\n",
    "        return 'C'\n",
    "    elif   200001 <= income <= 1000000:\n",
    "        return 'B'\n",
    "    else:   \n",
    "        return 'A'    \n",
    "    \n",
    "    \n"
   ]
  },
  {
   "cell_type": "code",
   "execution_count": 19,
   "id": "6f25f161",
   "metadata": {
    "id": "6f25f161"
   },
   "outputs": [],
   "source": [
    "# примените функцию методом apply()\n",
    "data['total_income_category'] = data['total_income'].apply(categorize_income)"
   ]
  },
  {
   "cell_type": "markdown",
   "id": "3363b685",
   "metadata": {
    "deletable": false,
    "editable": false,
    "id": "3363b685",
    "tags": [
     "start_task"
    ]
   },
   "source": [
    "**Задание 17. Выведите на экран перечень уникальных целей взятия кредита из столбца `purpose`.**"
   ]
  },
  {
   "cell_type": "code",
   "execution_count": 25,
   "id": "e59f2c15",
   "metadata": {
    "id": "e59f2c15"
   },
   "outputs": [
    {
     "name": "stdout",
     "output_type": "stream",
     "text": [
      "['покупка жилья' 'приобретение автомобиля' 'дополнительное образование'\n",
      " 'сыграть свадьбу' 'операции с жильем' 'образование'\n",
      " 'на проведение свадьбы' 'покупка жилья для семьи' 'покупка недвижимости'\n",
      " 'покупка коммерческой недвижимости' 'покупка жилой недвижимости'\n",
      " 'строительство собственной недвижимости' 'недвижимость'\n",
      " 'строительство недвижимости' 'на покупку подержанного автомобиля'\n",
      " 'на покупку своего автомобиля' 'операции с коммерческой недвижимостью'\n",
      " 'строительство жилой недвижимости' 'жилье'\n",
      " 'операции со своей недвижимостью' 'автомобили' 'заняться образованием'\n",
      " 'сделка с подержанным автомобилем' 'получение образования' 'автомобиль'\n",
      " 'свадьба' 'получение дополнительного образования' 'покупка своего жилья'\n",
      " 'операции с недвижимостью' 'получение высшего образования'\n",
      " 'свой автомобиль' 'сделка с автомобилем' 'профильное образование'\n",
      " 'высшее образование' 'покупка жилья для сдачи' 'на покупку автомобиля'\n",
      " 'ремонт жилью' 'заняться высшим образованием']\n"
     ]
    }
   ],
   "source": [
    "# ваш код здесь\n",
    "print(data['purpose'].unique())"
   ]
  },
  {
   "cell_type": "markdown",
   "id": "bb33e847",
   "metadata": {
    "deletable": false,
    "editable": false,
    "id": "bb33e847",
    "tags": [
     "start_task"
    ]
   },
   "source": [
    "**Задание 18. Создайте функцию, которая на основании данных из столбца `purpose` сформирует новый столбец `purpose_category`, в который войдут следующие категории:**\n",
    "\n",
    "- `'операции с автомобилем'`,\n",
    "- `'операции с недвижимостью'`,\n",
    "- `'проведение свадьбы'`,\n",
    "- `'получение образования'`.\n",
    "\n",
    "**Например, если в столбце `purpose` находится подстрока `'на покупку автомобиля'`, то в столбце `purpose_category` должна появиться строка `'операции с автомобилем'`.**\n",
    "\n",
    "**Используйте собственную функцию с именем `categorize_purpose()` и метод `apply()`. Изучите данные в столбце `purpose` и определите, какие подстроки помогут вам правильно определить категорию.**"
   ]
  },
  {
   "cell_type": "code",
   "execution_count": 37,
   "id": "63909b83",
   "metadata": {
    "id": "63909b83"
   },
   "outputs": [],
   "source": [
    "# создайте функцию categorize_purpose()\n",
    "def categorize_purpose(purpose):\n",
    "    if   'авто' in purpose:\n",
    "        return 'операции с автомобилем'\n",
    "    elif  'недвиж' in purpose or 'жиль' in purpose:\n",
    "        return 'операции с недвижимостью'   \n",
    "    elif   'свадьб' in purpose:\n",
    "        return 'проведение свадьбы' \n",
    "    elif   'образ' in purpose:\n",
    "        return 'получение образования' \n",
    "    else:\n",
    "        return 'без категории'\n",
    "    "
   ]
  },
  {
   "cell_type": "code",
   "execution_count": 38,
   "id": "7cb4a81d",
   "metadata": {
    "id": "7cb4a81d"
   },
   "outputs": [],
   "source": [
    "# примените функцию методом apply()\n",
    "data['purpose_category'] = data['purpose'].apply(categorize_purpose)"
   ]
  },
  {
   "cell_type": "code",
   "execution_count": null,
   "id": "298936f2",
   "metadata": {},
   "outputs": [],
   "source": []
  }
 ],
 "metadata": {
  "ExecuteTimeLog": [
   {
    "duration": 406,
    "start_time": "2023-05-05T19:41:36.147Z"
   },
   {
    "duration": 159,
    "start_time": "2023-05-05T19:41:37.811Z"
   },
   {
    "duration": 23,
    "start_time": "2023-05-05T19:41:42.239Z"
   },
   {
    "duration": 20,
    "start_time": "2023-05-05T19:41:57.781Z"
   },
   {
    "duration": 10,
    "start_time": "2023-05-05T19:45:45.483Z"
   },
   {
    "duration": 9,
    "start_time": "2023-05-05T19:46:21.521Z"
   },
   {
    "duration": 73,
    "start_time": "2023-05-05T20:44:10.972Z"
   },
   {
    "duration": 4,
    "start_time": "2023-05-05T20:44:28.892Z"
   },
   {
    "duration": 8,
    "start_time": "2023-05-05T20:46:49.424Z"
   },
   {
    "duration": 35,
    "start_time": "2023-05-05T20:47:57.800Z"
   },
   {
    "duration": 4,
    "start_time": "2023-05-05T20:48:03.510Z"
   },
   {
    "duration": 8,
    "start_time": "2023-05-05T20:48:06.306Z"
   },
   {
    "duration": 5,
    "start_time": "2023-05-05T20:49:17.705Z"
   },
   {
    "duration": 4,
    "start_time": "2023-05-05T20:49:47.083Z"
   },
   {
    "duration": 4,
    "start_time": "2023-05-05T20:50:30.406Z"
   },
   {
    "duration": 5,
    "start_time": "2023-05-05T20:51:16.887Z"
   },
   {
    "duration": 4,
    "start_time": "2023-05-05T20:51:31.860Z"
   },
   {
    "duration": 8,
    "start_time": "2023-05-05T20:52:02.187Z"
   },
   {
    "duration": 4,
    "start_time": "2023-05-05T20:52:45.531Z"
   },
   {
    "duration": 12,
    "start_time": "2023-05-05T20:54:23.132Z"
   },
   {
    "duration": 4,
    "start_time": "2023-05-05T20:55:08.997Z"
   },
   {
    "duration": 3,
    "start_time": "2023-05-05T20:58:06.725Z"
   },
   {
    "duration": 65,
    "start_time": "2023-05-05T20:58:06.730Z"
   },
   {
    "duration": 8,
    "start_time": "2023-05-05T20:58:06.797Z"
   },
   {
    "duration": 19,
    "start_time": "2023-05-05T20:58:06.806Z"
   },
   {
    "duration": 7,
    "start_time": "2023-05-05T20:58:06.827Z"
   },
   {
    "duration": 30,
    "start_time": "2023-05-05T20:58:06.836Z"
   },
   {
    "duration": 3,
    "start_time": "2023-05-05T20:58:06.868Z"
   },
   {
    "duration": 7,
    "start_time": "2023-05-05T20:58:06.892Z"
   },
   {
    "duration": 7,
    "start_time": "2023-05-05T20:58:06.900Z"
   },
   {
    "duration": 4,
    "start_time": "2023-05-05T20:58:06.908Z"
   },
   {
    "duration": 5,
    "start_time": "2023-05-05T20:58:06.913Z"
   },
   {
    "duration": 4,
    "start_time": "2023-05-05T20:58:06.919Z"
   },
   {
    "duration": 6,
    "start_time": "2023-05-05T20:58:06.924Z"
   },
   {
    "duration": 5,
    "start_time": "2023-05-05T20:58:06.932Z"
   },
   {
    "duration": 4,
    "start_time": "2023-05-05T20:58:06.938Z"
   },
   {
    "duration": 3,
    "start_time": "2023-05-05T20:58:06.944Z"
   },
   {
    "duration": 5,
    "start_time": "2023-05-05T20:58:06.948Z"
   },
   {
    "duration": 11,
    "start_time": "2023-05-05T20:58:06.954Z"
   },
   {
    "duration": 4,
    "start_time": "2023-05-05T20:58:06.966Z"
   },
   {
    "duration": 2,
    "start_time": "2023-05-05T20:58:06.992Z"
   },
   {
    "duration": 4,
    "start_time": "2023-05-05T20:58:06.996Z"
   },
   {
    "duration": 9,
    "start_time": "2023-05-05T20:58:07.001Z"
   },
   {
    "duration": 7,
    "start_time": "2023-05-05T20:59:36.725Z"
   },
   {
    "duration": 4,
    "start_time": "2023-05-05T21:20:24.593Z"
   },
   {
    "duration": 49,
    "start_time": "2023-05-05T21:20:31.039Z"
   },
   {
    "duration": 54,
    "start_time": "2023-05-05T21:20:38.493Z"
   },
   {
    "duration": 6,
    "start_time": "2023-05-05T21:26:43.943Z"
   },
   {
    "duration": 6,
    "start_time": "2023-05-05T21:26:51.491Z"
   },
   {
    "duration": 425,
    "start_time": "2023-05-11T21:26:43.373Z"
   },
   {
    "duration": 157,
    "start_time": "2023-05-11T21:26:43.800Z"
   },
   {
    "duration": 13,
    "start_time": "2023-05-11T21:26:43.959Z"
   },
   {
    "duration": 29,
    "start_time": "2023-05-11T21:26:43.976Z"
   },
   {
    "duration": 19,
    "start_time": "2023-05-11T21:26:44.009Z"
   },
   {
    "duration": 54,
    "start_time": "2023-05-11T21:26:44.029Z"
   },
   {
    "duration": 20,
    "start_time": "2023-05-11T21:26:44.085Z"
   },
   {
    "duration": 11,
    "start_time": "2023-05-11T21:26:44.106Z"
   },
   {
    "duration": 5,
    "start_time": "2023-05-11T21:26:44.119Z"
   },
   {
    "duration": 355,
    "start_time": "2023-05-11T21:26:44.127Z"
   },
   {
    "duration": 0,
    "start_time": "2023-05-11T21:26:44.484Z"
   },
   {
    "duration": 0,
    "start_time": "2023-05-11T21:26:44.485Z"
   },
   {
    "duration": 0,
    "start_time": "2023-05-11T21:26:44.486Z"
   },
   {
    "duration": 0,
    "start_time": "2023-05-11T21:26:44.488Z"
   },
   {
    "duration": 0,
    "start_time": "2023-05-11T21:26:44.489Z"
   },
   {
    "duration": 0,
    "start_time": "2023-05-11T21:26:44.490Z"
   },
   {
    "duration": 0,
    "start_time": "2023-05-11T21:26:44.491Z"
   },
   {
    "duration": 0,
    "start_time": "2023-05-11T21:26:44.493Z"
   },
   {
    "duration": 0,
    "start_time": "2023-05-11T21:26:44.494Z"
   },
   {
    "duration": 0,
    "start_time": "2023-05-11T21:26:44.495Z"
   },
   {
    "duration": 0,
    "start_time": "2023-05-11T21:26:44.498Z"
   },
   {
    "duration": 0,
    "start_time": "2023-05-11T21:26:44.499Z"
   },
   {
    "duration": 236,
    "start_time": "2023-05-11T21:34:24.206Z"
   },
   {
    "duration": 251,
    "start_time": "2023-05-11T21:34:37.515Z"
   },
   {
    "duration": 235,
    "start_time": "2023-05-11T21:45:26.472Z"
   },
   {
    "duration": 206,
    "start_time": "2023-05-11T21:45:44.548Z"
   },
   {
    "duration": 25,
    "start_time": "2023-05-11T21:46:03.669Z"
   },
   {
    "duration": 11,
    "start_time": "2023-05-11T21:46:23.814Z"
   },
   {
    "duration": 8,
    "start_time": "2023-05-11T21:52:59.272Z"
   },
   {
    "duration": 8,
    "start_time": "2023-05-11T21:53:06.254Z"
   },
   {
    "duration": 4,
    "start_time": "2023-05-11T21:53:50.867Z"
   },
   {
    "duration": 32,
    "start_time": "2023-05-11T22:20:38.098Z"
   },
   {
    "duration": 37,
    "start_time": "2023-05-11T22:21:34.152Z"
   },
   {
    "duration": 45,
    "start_time": "2023-05-11T22:23:29.265Z"
   },
   {
    "duration": 10,
    "start_time": "2023-05-11T22:23:59.409Z"
   },
   {
    "duration": 4,
    "start_time": "2023-05-11T22:32:27.258Z"
   },
   {
    "duration": 8,
    "start_time": "2023-05-11T22:35:57.419Z"
   },
   {
    "duration": 17,
    "start_time": "2023-05-11T22:37:14.664Z"
   },
   {
    "duration": 48,
    "start_time": "2023-05-11T22:38:50.498Z"
   },
   {
    "duration": 11,
    "start_time": "2023-05-11T22:41:32.085Z"
   },
   {
    "duration": 51,
    "start_time": "2023-05-11T22:42:07.876Z"
   },
   {
    "duration": 7,
    "start_time": "2023-05-11T22:44:29.052Z"
   },
   {
    "duration": 6,
    "start_time": "2023-05-11T22:45:50.494Z"
   },
   {
    "duration": 48,
    "start_time": "2023-05-11T22:58:50.713Z"
   },
   {
    "duration": 4,
    "start_time": "2023-05-11T22:59:13.352Z"
   },
   {
    "duration": 205,
    "start_time": "2023-05-11T23:01:20.878Z"
   },
   {
    "duration": 6,
    "start_time": "2023-05-11T23:03:28.448Z"
   },
   {
    "duration": 2,
    "start_time": "2023-05-11T23:03:55.849Z"
   },
   {
    "duration": 70,
    "start_time": "2023-05-11T23:03:55.853Z"
   },
   {
    "duration": 8,
    "start_time": "2023-05-11T23:03:55.925Z"
   },
   {
    "duration": 18,
    "start_time": "2023-05-11T23:03:55.935Z"
   },
   {
    "duration": 9,
    "start_time": "2023-05-11T23:03:55.954Z"
   },
   {
    "duration": 34,
    "start_time": "2023-05-11T23:03:55.975Z"
   },
   {
    "duration": 4,
    "start_time": "2023-05-11T23:03:56.010Z"
   },
   {
    "duration": 13,
    "start_time": "2023-05-11T23:03:56.016Z"
   },
   {
    "duration": 4,
    "start_time": "2023-05-11T23:03:56.032Z"
   },
   {
    "duration": 37,
    "start_time": "2023-05-11T23:03:56.038Z"
   },
   {
    "duration": 4,
    "start_time": "2023-05-11T23:03:56.077Z"
   },
   {
    "duration": 34,
    "start_time": "2023-05-11T23:03:56.083Z"
   },
   {
    "duration": 8,
    "start_time": "2023-05-11T23:03:56.119Z"
   },
   {
    "duration": 3,
    "start_time": "2023-05-11T23:03:56.129Z"
   },
   {
    "duration": 25,
    "start_time": "2023-05-11T23:03:56.134Z"
   },
   {
    "duration": 29,
    "start_time": "2023-05-11T23:03:56.161Z"
   },
   {
    "duration": 17,
    "start_time": "2023-05-11T23:03:56.191Z"
   },
   {
    "duration": 4,
    "start_time": "2023-05-11T23:03:56.210Z"
   },
   {
    "duration": 18,
    "start_time": "2023-05-11T23:03:56.216Z"
   },
   {
    "duration": 4,
    "start_time": "2023-05-11T23:03:56.236Z"
   },
   {
    "duration": 34,
    "start_time": "2023-05-11T23:03:56.241Z"
   },
   {
    "duration": 3,
    "start_time": "2023-05-11T23:03:56.277Z"
   },
   {
    "duration": 5,
    "start_time": "2023-05-11T23:11:52.118Z"
   },
   {
    "duration": 10,
    "start_time": "2023-05-11T23:11:56.740Z"
   },
   {
    "duration": 396,
    "start_time": "2023-05-13T18:55:26.516Z"
   },
   {
    "duration": 176,
    "start_time": "2023-05-13T18:55:26.914Z"
   },
   {
    "duration": 12,
    "start_time": "2023-05-13T18:55:27.094Z"
   },
   {
    "duration": 17,
    "start_time": "2023-05-13T18:55:27.107Z"
   },
   {
    "duration": 8,
    "start_time": "2023-05-13T18:55:27.126Z"
   },
   {
    "duration": 50,
    "start_time": "2023-05-13T18:55:27.135Z"
   },
   {
    "duration": 3,
    "start_time": "2023-05-13T18:55:27.187Z"
   },
   {
    "duration": 9,
    "start_time": "2023-05-13T18:55:27.191Z"
   },
   {
    "duration": 7,
    "start_time": "2023-05-13T18:55:27.202Z"
   },
   {
    "duration": 8,
    "start_time": "2023-05-13T18:55:27.211Z"
   },
   {
    "duration": 3,
    "start_time": "2023-05-13T18:55:27.220Z"
   },
   {
    "duration": 50,
    "start_time": "2023-05-13T18:55:27.225Z"
   },
   {
    "duration": 11,
    "start_time": "2023-05-13T18:55:27.277Z"
   },
   {
    "duration": 4,
    "start_time": "2023-05-13T18:55:27.291Z"
   },
   {
    "duration": 19,
    "start_time": "2023-05-13T18:55:27.296Z"
   },
   {
    "duration": 24,
    "start_time": "2023-05-13T18:55:27.316Z"
   },
   {
    "duration": 29,
    "start_time": "2023-05-13T18:55:27.341Z"
   },
   {
    "duration": 5,
    "start_time": "2023-05-13T18:55:27.373Z"
   },
   {
    "duration": 17,
    "start_time": "2023-05-13T18:55:27.381Z"
   },
   {
    "duration": 3,
    "start_time": "2023-05-13T18:55:27.399Z"
   },
   {
    "duration": 4,
    "start_time": "2023-05-13T18:55:27.404Z"
   },
   {
    "duration": 4,
    "start_time": "2023-05-13T18:55:27.409Z"
   },
   {
    "duration": 33,
    "start_time": "2023-05-13T18:56:18.036Z"
   },
   {
    "duration": 3,
    "start_time": "2023-05-13T18:59:10.911Z"
   },
   {
    "duration": 7,
    "start_time": "2023-05-13T19:05:44.659Z"
   },
   {
    "duration": 82,
    "start_time": "2023-05-13T19:18:53.179Z"
   },
   {
    "duration": 58,
    "start_time": "2023-05-13T19:18:59.875Z"
   },
   {
    "duration": 47,
    "start_time": "2023-05-13T19:19:26.597Z"
   },
   {
    "duration": 57,
    "start_time": "2023-05-13T19:19:40.934Z"
   },
   {
    "duration": 61,
    "start_time": "2023-05-13T19:19:59.759Z"
   },
   {
    "duration": 48,
    "start_time": "2023-05-13T19:23:54.492Z"
   },
   {
    "duration": 56,
    "start_time": "2023-05-13T19:25:38.875Z"
   },
   {
    "duration": 49,
    "start_time": "2023-05-13T19:26:30.191Z"
   },
   {
    "duration": 38,
    "start_time": "2023-05-13T19:34:26.708Z"
   },
   {
    "duration": 63,
    "start_time": "2023-05-13T19:34:52.469Z"
   },
   {
    "duration": 3,
    "start_time": "2023-05-13T19:34:59.219Z"
   },
   {
    "duration": 5,
    "start_time": "2023-05-13T19:35:54.854Z"
   },
   {
    "duration": 7,
    "start_time": "2023-05-13T19:35:58.185Z"
   }
  ],
  "colab": {
   "provenance": []
  },
  "kernelspec": {
   "display_name": "Python 3 (ipykernel)",
   "language": "python",
   "name": "python3"
  },
  "language_info": {
   "codemirror_mode": {
    "name": "ipython",
    "version": 3
   },
   "file_extension": ".py",
   "mimetype": "text/x-python",
   "name": "python",
   "nbconvert_exporter": "python",
   "pygments_lexer": "ipython3",
   "version": "3.9.5"
  },
  "toc": {
   "base_numbering": 1,
   "nav_menu": {},
   "number_sections": true,
   "sideBar": true,
   "skip_h1_title": true,
   "title_cell": "Table of Contents",
   "title_sidebar": "Contents",
   "toc_cell": false,
   "toc_position": {},
   "toc_section_display": true,
   "toc_window_display": false
  }
 },
 "nbformat": 4,
 "nbformat_minor": 5
}
