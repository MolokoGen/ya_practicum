{
 "cells": [
  {
   "cell_type": "markdown",
   "metadata": {},
   "source": [
    "Привет! меня зовут Люман Аблаев. Сегодня я проверю твой проект.\n",
    "<br> Дальнейшее общение будет происходить на \"ты\" если это не вызывает никаких проблем.\n",
    "<br> Желательно реагировать на красные комментарии ('исправил', 'не понятно как исправить ошибку', ...)\n",
    "<br> Пожалуйста, не удаляй комментарии ревьюера, так как они повышают качество повторного ревью.\n",
    "\n",
    "Комментарии будут в <font color='green'>зеленой</font>, <font color='blue'>синей</font> или <font color='red'>красной</font> рамках:\n",
    "\n",
    "\n",
    "<div class=\"alert alert-block alert-success\">\n",
    "<b>Успех:</b> Если все сделано отлично\n",
    "</div>\n",
    "\n",
    "<div class=\"alert alert-block alert-info\">\n",
    "<b>Совет: </b> Если можно немного улучшить\n",
    "</div>\n",
    "\n",
    "<div class=\"alert alert-block alert-danger\">\n",
    "<b>Ошибка:</b> Если требуются исправления. Работа не может быть принята с красными комментариями.\n",
    "</div>\n",
    "\n",
    "-------------------\n",
    "\n",
    "Будет очень хорошо, если ты будешь помечать свои действия следующим образом:\n",
    "<div class=\"alert alert-block alert-warning\">\n",
    "<b>Комментарий студента:</b> ..\n",
    "</div>\n",
    "<div class=\"alert alert-block alert-warning\">\n",
    "<b>Изменения:</b> Были внесены следующие изменения ...\n",
    "</div>\n",
    "\n",
    "<font color='orange' style='font-size:24px; font-weight:bold'>Общее впечатление</font>\n",
    "* Спасибо за  качественную работу, было интересно ее проверять.\n",
    "- Я оставил некоторые советы надеюсь они будут полезными или интересными.\n",
    "\n",
    "- Техника бутстрап применилась корректно, было проведено тщательное исследование и выбран правильный регион!\n",
    "- Отправляю проект назад, чтобы у тебя была возможность задать вопросы, если они у тебя есть. Если их нет, то можешь просто отправить проект еще раз и я его зачту\n"
   ]
  },
  {
   "cell_type": "markdown",
   "metadata": {},
   "source": [
    "# Выбор локации для скважины"
   ]
  },
  {
   "cell_type": "markdown",
   "metadata": {},
   "source": [
    "Допустим, вы работаете в добывающей компании «ГлавРосГосНефть». Нужно решить, где бурить новую скважину.\n",
    "\n",
    "Вам предоставлены пробы нефти в трёх регионах: в каждом 10 000 месторождений, где измерили качество нефти и объём её запасов. Постройте модель машинного обучения, которая поможет определить регион, где добыча принесёт наибольшую прибыль. Проанализируйте возможную прибыль и риски техникой *Bootstrap.*\n",
    "\n",
    "Шаги для выбора локации:\n",
    "\n",
    "- В избранном регионе ищут месторождения, для каждого определяют значения признаков;\n",
    "- Строят модель и оценивают объём запасов;\n",
    "- Выбирают месторождения с самым высокими оценками значений. Количество месторождений зависит от бюджета компании и стоимости разработки одной скважины;\n",
    "- Прибыль равна суммарной прибыли отобранных месторождений."
   ]
  },
  {
   "cell_type": "markdown",
   "metadata": {},
   "source": [
    "## Загрузка и подготовка данных"
   ]
  },
  {
   "cell_type": "code",
   "execution_count": 1,
   "metadata": {},
   "outputs": [],
   "source": [
    "import pandas as pd\n",
    "import matplotlib.pyplot as plt\n",
    "import numpy as np\n",
    "\n",
    "from sklearn.linear_model import LinearRegression\n",
    "from sklearn.model_selection import train_test_split\n",
    "from sklearn.metrics import mean_squared_error\n"
   ]
  },
  {
   "cell_type": "markdown",
   "metadata": {},
   "source": [
    "\n",
    "<div class=\"alert alert-block alert-success\">\n",
    "<b>Успех:</b> Импорты  на месте\n",
    "</div>\n"
   ]
  },
  {
   "cell_type": "code",
   "execution_count": 2,
   "metadata": {},
   "outputs": [],
   "source": [
    "df1 = pd.read_csv('/datasets/geo_data_0.csv')\n",
    "df2 = pd.read_csv('/datasets/geo_data_1.csv')\n",
    "df3 = pd.read_csv('/datasets/geo_data_2.csv')"
   ]
  },
  {
   "cell_type": "markdown",
   "metadata": {},
   "source": [
    "Посмторим как выглядят данные 3х районов"
   ]
  },
  {
   "cell_type": "code",
   "execution_count": 3,
   "metadata": {},
   "outputs": [
    {
     "data": {
      "text/html": [
       "<div>\n",
       "<style scoped>\n",
       "    .dataframe tbody tr th:only-of-type {\n",
       "        vertical-align: middle;\n",
       "    }\n",
       "\n",
       "    .dataframe tbody tr th {\n",
       "        vertical-align: top;\n",
       "    }\n",
       "\n",
       "    .dataframe thead th {\n",
       "        text-align: right;\n",
       "    }\n",
       "</style>\n",
       "<table border=\"1\" class=\"dataframe\">\n",
       "  <thead>\n",
       "    <tr style=\"text-align: right;\">\n",
       "      <th></th>\n",
       "      <th>id</th>\n",
       "      <th>f0</th>\n",
       "      <th>f1</th>\n",
       "      <th>f2</th>\n",
       "      <th>product</th>\n",
       "    </tr>\n",
       "  </thead>\n",
       "  <tbody>\n",
       "    <tr>\n",
       "      <th>0</th>\n",
       "      <td>txEyH</td>\n",
       "      <td>0.705745</td>\n",
       "      <td>-0.497823</td>\n",
       "      <td>1.221170</td>\n",
       "      <td>105.280062</td>\n",
       "    </tr>\n",
       "    <tr>\n",
       "      <th>1</th>\n",
       "      <td>2acmU</td>\n",
       "      <td>1.334711</td>\n",
       "      <td>-0.340164</td>\n",
       "      <td>4.365080</td>\n",
       "      <td>73.037750</td>\n",
       "    </tr>\n",
       "    <tr>\n",
       "      <th>2</th>\n",
       "      <td>409Wp</td>\n",
       "      <td>1.022732</td>\n",
       "      <td>0.151990</td>\n",
       "      <td>1.419926</td>\n",
       "      <td>85.265647</td>\n",
       "    </tr>\n",
       "    <tr>\n",
       "      <th>3</th>\n",
       "      <td>iJLyR</td>\n",
       "      <td>-0.032172</td>\n",
       "      <td>0.139033</td>\n",
       "      <td>2.978566</td>\n",
       "      <td>168.620776</td>\n",
       "    </tr>\n",
       "    <tr>\n",
       "      <th>4</th>\n",
       "      <td>Xdl7t</td>\n",
       "      <td>1.988431</td>\n",
       "      <td>0.155413</td>\n",
       "      <td>4.751769</td>\n",
       "      <td>154.036647</td>\n",
       "    </tr>\n",
       "  </tbody>\n",
       "</table>\n",
       "</div>"
      ],
      "text/plain": [
       "      id        f0        f1        f2     product\n",
       "0  txEyH  0.705745 -0.497823  1.221170  105.280062\n",
       "1  2acmU  1.334711 -0.340164  4.365080   73.037750\n",
       "2  409Wp  1.022732  0.151990  1.419926   85.265647\n",
       "3  iJLyR -0.032172  0.139033  2.978566  168.620776\n",
       "4  Xdl7t  1.988431  0.155413  4.751769  154.036647"
      ]
     },
     "metadata": {},
     "output_type": "display_data"
    },
    {
     "name": "stdout",
     "output_type": "stream",
     "text": [
      "<class 'pandas.core.frame.DataFrame'>\n",
      "RangeIndex: 100000 entries, 0 to 99999\n",
      "Data columns (total 5 columns):\n",
      " #   Column   Non-Null Count   Dtype  \n",
      "---  ------   --------------   -----  \n",
      " 0   id       100000 non-null  object \n",
      " 1   f0       100000 non-null  float64\n",
      " 2   f1       100000 non-null  float64\n",
      " 3   f2       100000 non-null  float64\n",
      " 4   product  100000 non-null  float64\n",
      "dtypes: float64(4), object(1)\n",
      "memory usage: 3.8+ MB\n"
     ]
    },
    {
     "data": {
      "text/html": [
       "<div>\n",
       "<style scoped>\n",
       "    .dataframe tbody tr th:only-of-type {\n",
       "        vertical-align: middle;\n",
       "    }\n",
       "\n",
       "    .dataframe tbody tr th {\n",
       "        vertical-align: top;\n",
       "    }\n",
       "\n",
       "    .dataframe thead th {\n",
       "        text-align: right;\n",
       "    }\n",
       "</style>\n",
       "<table border=\"1\" class=\"dataframe\">\n",
       "  <thead>\n",
       "    <tr style=\"text-align: right;\">\n",
       "      <th></th>\n",
       "      <th>f0</th>\n",
       "      <th>f1</th>\n",
       "      <th>f2</th>\n",
       "      <th>product</th>\n",
       "    </tr>\n",
       "  </thead>\n",
       "  <tbody>\n",
       "    <tr>\n",
       "      <th>count</th>\n",
       "      <td>100000.000000</td>\n",
       "      <td>100000.000000</td>\n",
       "      <td>100000.000000</td>\n",
       "      <td>100000.000000</td>\n",
       "    </tr>\n",
       "    <tr>\n",
       "      <th>mean</th>\n",
       "      <td>0.500419</td>\n",
       "      <td>0.250143</td>\n",
       "      <td>2.502647</td>\n",
       "      <td>92.500000</td>\n",
       "    </tr>\n",
       "    <tr>\n",
       "      <th>std</th>\n",
       "      <td>0.871832</td>\n",
       "      <td>0.504433</td>\n",
       "      <td>3.248248</td>\n",
       "      <td>44.288691</td>\n",
       "    </tr>\n",
       "    <tr>\n",
       "      <th>min</th>\n",
       "      <td>-1.408605</td>\n",
       "      <td>-0.848218</td>\n",
       "      <td>-12.088328</td>\n",
       "      <td>0.000000</td>\n",
       "    </tr>\n",
       "    <tr>\n",
       "      <th>25%</th>\n",
       "      <td>-0.072580</td>\n",
       "      <td>-0.200881</td>\n",
       "      <td>0.287748</td>\n",
       "      <td>56.497507</td>\n",
       "    </tr>\n",
       "    <tr>\n",
       "      <th>50%</th>\n",
       "      <td>0.502360</td>\n",
       "      <td>0.250252</td>\n",
       "      <td>2.515969</td>\n",
       "      <td>91.849972</td>\n",
       "    </tr>\n",
       "    <tr>\n",
       "      <th>75%</th>\n",
       "      <td>1.073581</td>\n",
       "      <td>0.700646</td>\n",
       "      <td>4.715088</td>\n",
       "      <td>128.564089</td>\n",
       "    </tr>\n",
       "    <tr>\n",
       "      <th>max</th>\n",
       "      <td>2.362331</td>\n",
       "      <td>1.343769</td>\n",
       "      <td>16.003790</td>\n",
       "      <td>185.364347</td>\n",
       "    </tr>\n",
       "  </tbody>\n",
       "</table>\n",
       "</div>"
      ],
      "text/plain": [
       "                  f0             f1             f2        product\n",
       "count  100000.000000  100000.000000  100000.000000  100000.000000\n",
       "mean        0.500419       0.250143       2.502647      92.500000\n",
       "std         0.871832       0.504433       3.248248      44.288691\n",
       "min        -1.408605      -0.848218     -12.088328       0.000000\n",
       "25%        -0.072580      -0.200881       0.287748      56.497507\n",
       "50%         0.502360       0.250252       2.515969      91.849972\n",
       "75%         1.073581       0.700646       4.715088     128.564089\n",
       "max         2.362331       1.343769      16.003790     185.364347"
      ]
     },
     "execution_count": 3,
     "metadata": {},
     "output_type": "execute_result"
    }
   ],
   "source": [
    "display(df1.head())\n",
    "df1.info()\n",
    "df1.describe()"
   ]
  },
  {
   "cell_type": "code",
   "execution_count": 4,
   "metadata": {},
   "outputs": [
    {
     "data": {
      "text/html": [
       "<div>\n",
       "<style scoped>\n",
       "    .dataframe tbody tr th:only-of-type {\n",
       "        vertical-align: middle;\n",
       "    }\n",
       "\n",
       "    .dataframe tbody tr th {\n",
       "        vertical-align: top;\n",
       "    }\n",
       "\n",
       "    .dataframe thead th {\n",
       "        text-align: right;\n",
       "    }\n",
       "</style>\n",
       "<table border=\"1\" class=\"dataframe\">\n",
       "  <thead>\n",
       "    <tr style=\"text-align: right;\">\n",
       "      <th></th>\n",
       "      <th>id</th>\n",
       "      <th>f0</th>\n",
       "      <th>f1</th>\n",
       "      <th>f2</th>\n",
       "      <th>product</th>\n",
       "    </tr>\n",
       "  </thead>\n",
       "  <tbody>\n",
       "    <tr>\n",
       "      <th>0</th>\n",
       "      <td>kBEdx</td>\n",
       "      <td>-15.001348</td>\n",
       "      <td>-8.276000</td>\n",
       "      <td>-0.005876</td>\n",
       "      <td>3.179103</td>\n",
       "    </tr>\n",
       "    <tr>\n",
       "      <th>1</th>\n",
       "      <td>62mP7</td>\n",
       "      <td>14.272088</td>\n",
       "      <td>-3.475083</td>\n",
       "      <td>0.999183</td>\n",
       "      <td>26.953261</td>\n",
       "    </tr>\n",
       "    <tr>\n",
       "      <th>2</th>\n",
       "      <td>vyE1P</td>\n",
       "      <td>6.263187</td>\n",
       "      <td>-5.948386</td>\n",
       "      <td>5.001160</td>\n",
       "      <td>134.766305</td>\n",
       "    </tr>\n",
       "    <tr>\n",
       "      <th>3</th>\n",
       "      <td>KcrkZ</td>\n",
       "      <td>-13.081196</td>\n",
       "      <td>-11.506057</td>\n",
       "      <td>4.999415</td>\n",
       "      <td>137.945408</td>\n",
       "    </tr>\n",
       "    <tr>\n",
       "      <th>4</th>\n",
       "      <td>AHL4O</td>\n",
       "      <td>12.702195</td>\n",
       "      <td>-8.147433</td>\n",
       "      <td>5.004363</td>\n",
       "      <td>134.766305</td>\n",
       "    </tr>\n",
       "  </tbody>\n",
       "</table>\n",
       "</div>"
      ],
      "text/plain": [
       "      id         f0         f1        f2     product\n",
       "0  kBEdx -15.001348  -8.276000 -0.005876    3.179103\n",
       "1  62mP7  14.272088  -3.475083  0.999183   26.953261\n",
       "2  vyE1P   6.263187  -5.948386  5.001160  134.766305\n",
       "3  KcrkZ -13.081196 -11.506057  4.999415  137.945408\n",
       "4  AHL4O  12.702195  -8.147433  5.004363  134.766305"
      ]
     },
     "metadata": {},
     "output_type": "display_data"
    },
    {
     "name": "stdout",
     "output_type": "stream",
     "text": [
      "<class 'pandas.core.frame.DataFrame'>\n",
      "RangeIndex: 100000 entries, 0 to 99999\n",
      "Data columns (total 5 columns):\n",
      " #   Column   Non-Null Count   Dtype  \n",
      "---  ------   --------------   -----  \n",
      " 0   id       100000 non-null  object \n",
      " 1   f0       100000 non-null  float64\n",
      " 2   f1       100000 non-null  float64\n",
      " 3   f2       100000 non-null  float64\n",
      " 4   product  100000 non-null  float64\n",
      "dtypes: float64(4), object(1)\n",
      "memory usage: 3.8+ MB\n"
     ]
    },
    {
     "data": {
      "text/html": [
       "<div>\n",
       "<style scoped>\n",
       "    .dataframe tbody tr th:only-of-type {\n",
       "        vertical-align: middle;\n",
       "    }\n",
       "\n",
       "    .dataframe tbody tr th {\n",
       "        vertical-align: top;\n",
       "    }\n",
       "\n",
       "    .dataframe thead th {\n",
       "        text-align: right;\n",
       "    }\n",
       "</style>\n",
       "<table border=\"1\" class=\"dataframe\">\n",
       "  <thead>\n",
       "    <tr style=\"text-align: right;\">\n",
       "      <th></th>\n",
       "      <th>f0</th>\n",
       "      <th>f1</th>\n",
       "      <th>f2</th>\n",
       "      <th>product</th>\n",
       "    </tr>\n",
       "  </thead>\n",
       "  <tbody>\n",
       "    <tr>\n",
       "      <th>count</th>\n",
       "      <td>100000.000000</td>\n",
       "      <td>100000.000000</td>\n",
       "      <td>100000.000000</td>\n",
       "      <td>100000.000000</td>\n",
       "    </tr>\n",
       "    <tr>\n",
       "      <th>mean</th>\n",
       "      <td>1.141296</td>\n",
       "      <td>-4.796579</td>\n",
       "      <td>2.494541</td>\n",
       "      <td>68.825000</td>\n",
       "    </tr>\n",
       "    <tr>\n",
       "      <th>std</th>\n",
       "      <td>8.965932</td>\n",
       "      <td>5.119872</td>\n",
       "      <td>1.703572</td>\n",
       "      <td>45.944423</td>\n",
       "    </tr>\n",
       "    <tr>\n",
       "      <th>min</th>\n",
       "      <td>-31.609576</td>\n",
       "      <td>-26.358598</td>\n",
       "      <td>-0.018144</td>\n",
       "      <td>0.000000</td>\n",
       "    </tr>\n",
       "    <tr>\n",
       "      <th>25%</th>\n",
       "      <td>-6.298551</td>\n",
       "      <td>-8.267985</td>\n",
       "      <td>1.000021</td>\n",
       "      <td>26.953261</td>\n",
       "    </tr>\n",
       "    <tr>\n",
       "      <th>50%</th>\n",
       "      <td>1.153055</td>\n",
       "      <td>-4.813172</td>\n",
       "      <td>2.011479</td>\n",
       "      <td>57.085625</td>\n",
       "    </tr>\n",
       "    <tr>\n",
       "      <th>75%</th>\n",
       "      <td>8.621015</td>\n",
       "      <td>-1.332816</td>\n",
       "      <td>3.999904</td>\n",
       "      <td>107.813044</td>\n",
       "    </tr>\n",
       "    <tr>\n",
       "      <th>max</th>\n",
       "      <td>29.421755</td>\n",
       "      <td>18.734063</td>\n",
       "      <td>5.019721</td>\n",
       "      <td>137.945408</td>\n",
       "    </tr>\n",
       "  </tbody>\n",
       "</table>\n",
       "</div>"
      ],
      "text/plain": [
       "                  f0             f1             f2        product\n",
       "count  100000.000000  100000.000000  100000.000000  100000.000000\n",
       "mean        1.141296      -4.796579       2.494541      68.825000\n",
       "std         8.965932       5.119872       1.703572      45.944423\n",
       "min       -31.609576     -26.358598      -0.018144       0.000000\n",
       "25%        -6.298551      -8.267985       1.000021      26.953261\n",
       "50%         1.153055      -4.813172       2.011479      57.085625\n",
       "75%         8.621015      -1.332816       3.999904     107.813044\n",
       "max        29.421755      18.734063       5.019721     137.945408"
      ]
     },
     "execution_count": 4,
     "metadata": {},
     "output_type": "execute_result"
    }
   ],
   "source": [
    "display(df2.head())\n",
    "df2.info()\n",
    "df2.describe()"
   ]
  },
  {
   "cell_type": "code",
   "execution_count": 5,
   "metadata": {},
   "outputs": [
    {
     "data": {
      "text/html": [
       "<div>\n",
       "<style scoped>\n",
       "    .dataframe tbody tr th:only-of-type {\n",
       "        vertical-align: middle;\n",
       "    }\n",
       "\n",
       "    .dataframe tbody tr th {\n",
       "        vertical-align: top;\n",
       "    }\n",
       "\n",
       "    .dataframe thead th {\n",
       "        text-align: right;\n",
       "    }\n",
       "</style>\n",
       "<table border=\"1\" class=\"dataframe\">\n",
       "  <thead>\n",
       "    <tr style=\"text-align: right;\">\n",
       "      <th></th>\n",
       "      <th>id</th>\n",
       "      <th>f0</th>\n",
       "      <th>f1</th>\n",
       "      <th>f2</th>\n",
       "      <th>product</th>\n",
       "    </tr>\n",
       "  </thead>\n",
       "  <tbody>\n",
       "    <tr>\n",
       "      <th>0</th>\n",
       "      <td>fwXo0</td>\n",
       "      <td>-1.146987</td>\n",
       "      <td>0.963328</td>\n",
       "      <td>-0.828965</td>\n",
       "      <td>27.758673</td>\n",
       "    </tr>\n",
       "    <tr>\n",
       "      <th>1</th>\n",
       "      <td>WJtFt</td>\n",
       "      <td>0.262778</td>\n",
       "      <td>0.269839</td>\n",
       "      <td>-2.530187</td>\n",
       "      <td>56.069697</td>\n",
       "    </tr>\n",
       "    <tr>\n",
       "      <th>2</th>\n",
       "      <td>ovLUW</td>\n",
       "      <td>0.194587</td>\n",
       "      <td>0.289035</td>\n",
       "      <td>-5.586433</td>\n",
       "      <td>62.871910</td>\n",
       "    </tr>\n",
       "    <tr>\n",
       "      <th>3</th>\n",
       "      <td>q6cA6</td>\n",
       "      <td>2.236060</td>\n",
       "      <td>-0.553760</td>\n",
       "      <td>0.930038</td>\n",
       "      <td>114.572842</td>\n",
       "    </tr>\n",
       "    <tr>\n",
       "      <th>4</th>\n",
       "      <td>WPMUX</td>\n",
       "      <td>-0.515993</td>\n",
       "      <td>1.716266</td>\n",
       "      <td>5.899011</td>\n",
       "      <td>149.600746</td>\n",
       "    </tr>\n",
       "  </tbody>\n",
       "</table>\n",
       "</div>"
      ],
      "text/plain": [
       "      id        f0        f1        f2     product\n",
       "0  fwXo0 -1.146987  0.963328 -0.828965   27.758673\n",
       "1  WJtFt  0.262778  0.269839 -2.530187   56.069697\n",
       "2  ovLUW  0.194587  0.289035 -5.586433   62.871910\n",
       "3  q6cA6  2.236060 -0.553760  0.930038  114.572842\n",
       "4  WPMUX -0.515993  1.716266  5.899011  149.600746"
      ]
     },
     "metadata": {},
     "output_type": "display_data"
    },
    {
     "name": "stdout",
     "output_type": "stream",
     "text": [
      "<class 'pandas.core.frame.DataFrame'>\n",
      "RangeIndex: 100000 entries, 0 to 99999\n",
      "Data columns (total 5 columns):\n",
      " #   Column   Non-Null Count   Dtype  \n",
      "---  ------   --------------   -----  \n",
      " 0   id       100000 non-null  object \n",
      " 1   f0       100000 non-null  float64\n",
      " 2   f1       100000 non-null  float64\n",
      " 3   f2       100000 non-null  float64\n",
      " 4   product  100000 non-null  float64\n",
      "dtypes: float64(4), object(1)\n",
      "memory usage: 3.8+ MB\n"
     ]
    },
    {
     "data": {
      "text/html": [
       "<div>\n",
       "<style scoped>\n",
       "    .dataframe tbody tr th:only-of-type {\n",
       "        vertical-align: middle;\n",
       "    }\n",
       "\n",
       "    .dataframe tbody tr th {\n",
       "        vertical-align: top;\n",
       "    }\n",
       "\n",
       "    .dataframe thead th {\n",
       "        text-align: right;\n",
       "    }\n",
       "</style>\n",
       "<table border=\"1\" class=\"dataframe\">\n",
       "  <thead>\n",
       "    <tr style=\"text-align: right;\">\n",
       "      <th></th>\n",
       "      <th>f0</th>\n",
       "      <th>f1</th>\n",
       "      <th>f2</th>\n",
       "      <th>product</th>\n",
       "    </tr>\n",
       "  </thead>\n",
       "  <tbody>\n",
       "    <tr>\n",
       "      <th>count</th>\n",
       "      <td>100000.000000</td>\n",
       "      <td>100000.000000</td>\n",
       "      <td>100000.000000</td>\n",
       "      <td>100000.000000</td>\n",
       "    </tr>\n",
       "    <tr>\n",
       "      <th>mean</th>\n",
       "      <td>0.002023</td>\n",
       "      <td>-0.002081</td>\n",
       "      <td>2.495128</td>\n",
       "      <td>95.000000</td>\n",
       "    </tr>\n",
       "    <tr>\n",
       "      <th>std</th>\n",
       "      <td>1.732045</td>\n",
       "      <td>1.730417</td>\n",
       "      <td>3.473445</td>\n",
       "      <td>44.749921</td>\n",
       "    </tr>\n",
       "    <tr>\n",
       "      <th>min</th>\n",
       "      <td>-8.760004</td>\n",
       "      <td>-7.084020</td>\n",
       "      <td>-11.970335</td>\n",
       "      <td>0.000000</td>\n",
       "    </tr>\n",
       "    <tr>\n",
       "      <th>25%</th>\n",
       "      <td>-1.162288</td>\n",
       "      <td>-1.174820</td>\n",
       "      <td>0.130359</td>\n",
       "      <td>59.450441</td>\n",
       "    </tr>\n",
       "    <tr>\n",
       "      <th>50%</th>\n",
       "      <td>0.009424</td>\n",
       "      <td>-0.009482</td>\n",
       "      <td>2.484236</td>\n",
       "      <td>94.925613</td>\n",
       "    </tr>\n",
       "    <tr>\n",
       "      <th>75%</th>\n",
       "      <td>1.158535</td>\n",
       "      <td>1.163678</td>\n",
       "      <td>4.858794</td>\n",
       "      <td>130.595027</td>\n",
       "    </tr>\n",
       "    <tr>\n",
       "      <th>max</th>\n",
       "      <td>7.238262</td>\n",
       "      <td>7.844801</td>\n",
       "      <td>16.739402</td>\n",
       "      <td>190.029838</td>\n",
       "    </tr>\n",
       "  </tbody>\n",
       "</table>\n",
       "</div>"
      ],
      "text/plain": [
       "                  f0             f1             f2        product\n",
       "count  100000.000000  100000.000000  100000.000000  100000.000000\n",
       "mean        0.002023      -0.002081       2.495128      95.000000\n",
       "std         1.732045       1.730417       3.473445      44.749921\n",
       "min        -8.760004      -7.084020     -11.970335       0.000000\n",
       "25%        -1.162288      -1.174820       0.130359      59.450441\n",
       "50%         0.009424      -0.009482       2.484236      94.925613\n",
       "75%         1.158535       1.163678       4.858794     130.595027\n",
       "max         7.238262       7.844801      16.739402     190.029838"
      ]
     },
     "execution_count": 5,
     "metadata": {},
     "output_type": "execute_result"
    }
   ],
   "source": [
    "display(df3.head())\n",
    "df3.info()\n",
    "df3.describe()"
   ]
  },
  {
   "cell_type": "code",
   "execution_count": 6,
   "metadata": {},
   "outputs": [
    {
     "data": {
      "text/html": [
       "<div>\n",
       "<style scoped>\n",
       "    .dataframe tbody tr th:only-of-type {\n",
       "        vertical-align: middle;\n",
       "    }\n",
       "\n",
       "    .dataframe tbody tr th {\n",
       "        vertical-align: top;\n",
       "    }\n",
       "\n",
       "    .dataframe thead th {\n",
       "        text-align: right;\n",
       "    }\n",
       "</style>\n",
       "<table border=\"1\" class=\"dataframe\">\n",
       "  <thead>\n",
       "    <tr style=\"text-align: right;\">\n",
       "      <th></th>\n",
       "      <th>id</th>\n",
       "      <th>f0</th>\n",
       "      <th>f1</th>\n",
       "      <th>f2</th>\n",
       "      <th>product</th>\n",
       "    </tr>\n",
       "  </thead>\n",
       "  <tbody>\n",
       "    <tr>\n",
       "      <th>11</th>\n",
       "      <td>OXyvW</td>\n",
       "      <td>16.320755</td>\n",
       "      <td>-0.562946</td>\n",
       "      <td>-0.001783</td>\n",
       "      <td>0.0</td>\n",
       "    </tr>\n",
       "    <tr>\n",
       "      <th>13</th>\n",
       "      <td>igmai</td>\n",
       "      <td>6.695604</td>\n",
       "      <td>-0.749449</td>\n",
       "      <td>-0.007630</td>\n",
       "      <td>0.0</td>\n",
       "    </tr>\n",
       "    <tr>\n",
       "      <th>62</th>\n",
       "      <td>Qjy5w</td>\n",
       "      <td>21.418478</td>\n",
       "      <td>-5.134490</td>\n",
       "      <td>-0.002836</td>\n",
       "      <td>0.0</td>\n",
       "    </tr>\n",
       "    <tr>\n",
       "      <th>63</th>\n",
       "      <td>G6WCj</td>\n",
       "      <td>6.822701</td>\n",
       "      <td>3.104979</td>\n",
       "      <td>-0.000723</td>\n",
       "      <td>0.0</td>\n",
       "    </tr>\n",
       "    <tr>\n",
       "      <th>77</th>\n",
       "      <td>MzQhL</td>\n",
       "      <td>6.750150</td>\n",
       "      <td>-11.893512</td>\n",
       "      <td>-0.001601</td>\n",
       "      <td>0.0</td>\n",
       "    </tr>\n",
       "    <tr>\n",
       "      <th>...</th>\n",
       "      <td>...</td>\n",
       "      <td>...</td>\n",
       "      <td>...</td>\n",
       "      <td>...</td>\n",
       "      <td>...</td>\n",
       "    </tr>\n",
       "    <tr>\n",
       "      <th>99936</th>\n",
       "      <td>YrRU8</td>\n",
       "      <td>5.085749</td>\n",
       "      <td>-3.980305</td>\n",
       "      <td>0.005063</td>\n",
       "      <td>0.0</td>\n",
       "    </tr>\n",
       "    <tr>\n",
       "      <th>99948</th>\n",
       "      <td>Jbnur</td>\n",
       "      <td>8.277805</td>\n",
       "      <td>-9.178818</td>\n",
       "      <td>0.003275</td>\n",
       "      <td>0.0</td>\n",
       "    </tr>\n",
       "    <tr>\n",
       "      <th>99956</th>\n",
       "      <td>aV1cJ</td>\n",
       "      <td>13.343983</td>\n",
       "      <td>-1.290200</td>\n",
       "      <td>0.005980</td>\n",
       "      <td>0.0</td>\n",
       "    </tr>\n",
       "    <tr>\n",
       "      <th>99961</th>\n",
       "      <td>Zjbn2</td>\n",
       "      <td>13.854163</td>\n",
       "      <td>-11.528089</td>\n",
       "      <td>-0.005556</td>\n",
       "      <td>0.0</td>\n",
       "    </tr>\n",
       "    <tr>\n",
       "      <th>99973</th>\n",
       "      <td>VsayB</td>\n",
       "      <td>12.698645</td>\n",
       "      <td>-4.384673</td>\n",
       "      <td>-0.002600</td>\n",
       "      <td>0.0</td>\n",
       "    </tr>\n",
       "  </tbody>\n",
       "</table>\n",
       "<p>8235 rows × 5 columns</p>\n",
       "</div>"
      ],
      "text/plain": [
       "          id         f0         f1        f2  product\n",
       "11     OXyvW  16.320755  -0.562946 -0.001783      0.0\n",
       "13     igmai   6.695604  -0.749449 -0.007630      0.0\n",
       "62     Qjy5w  21.418478  -5.134490 -0.002836      0.0\n",
       "63     G6WCj   6.822701   3.104979 -0.000723      0.0\n",
       "77     MzQhL   6.750150 -11.893512 -0.001601      0.0\n",
       "...      ...        ...        ...       ...      ...\n",
       "99936  YrRU8   5.085749  -3.980305  0.005063      0.0\n",
       "99948  Jbnur   8.277805  -9.178818  0.003275      0.0\n",
       "99956  aV1cJ  13.343983  -1.290200  0.005980      0.0\n",
       "99961  Zjbn2  13.854163 -11.528089 -0.005556      0.0\n",
       "99973  VsayB  12.698645  -4.384673 -0.002600      0.0\n",
       "\n",
       "[8235 rows x 5 columns]"
      ]
     },
     "metadata": {},
     "output_type": "display_data"
    }
   ],
   "source": [
    "display(df2.loc[df2['product'] == 0])"
   ]
  },
  {
   "cell_type": "code",
   "execution_count": 7,
   "metadata": {},
   "outputs": [
    {
     "data": {
      "text/html": [
       "<div>\n",
       "<style scoped>\n",
       "    .dataframe tbody tr th:only-of-type {\n",
       "        vertical-align: middle;\n",
       "    }\n",
       "\n",
       "    .dataframe tbody tr th {\n",
       "        vertical-align: top;\n",
       "    }\n",
       "\n",
       "    .dataframe thead th {\n",
       "        text-align: right;\n",
       "    }\n",
       "</style>\n",
       "<table border=\"1\" class=\"dataframe\">\n",
       "  <thead>\n",
       "    <tr style=\"text-align: right;\">\n",
       "      <th></th>\n",
       "      <th>id</th>\n",
       "      <th>f0</th>\n",
       "      <th>f1</th>\n",
       "      <th>f2</th>\n",
       "      <th>product</th>\n",
       "    </tr>\n",
       "  </thead>\n",
       "  <tbody>\n",
       "    <tr>\n",
       "      <th>68149</th>\n",
       "      <td>qeefd</td>\n",
       "      <td>-0.865596</td>\n",
       "      <td>-1.615247</td>\n",
       "      <td>-4.126441</td>\n",
       "      <td>0.0</td>\n",
       "    </tr>\n",
       "  </tbody>\n",
       "</table>\n",
       "</div>"
      ],
      "text/plain": [
       "          id        f0        f1        f2  product\n",
       "68149  qeefd -0.865596 -1.615247 -4.126441      0.0"
      ]
     },
     "metadata": {},
     "output_type": "display_data"
    }
   ],
   "source": [
    "display(df3.loc[df3['product'] == 0])"
   ]
  },
  {
   "cell_type": "markdown",
   "metadata": {},
   "source": [
    "Пропусков в данных не обнаружено.  \n",
    "\n",
    "Во втором регионе более 8% тестов с нулевым запасом нефти в скважине,возможно ошибка в данных.  \n",
    "\n",
    "Удалим столбец id, тк он нам не понадобиться."
   ]
  },
  {
   "cell_type": "code",
   "execution_count": 8,
   "metadata": {},
   "outputs": [],
   "source": [
    "df1 = df1.drop(['id'], axis=1)\n",
    "df2 = df2.drop(['id'], axis=1)\n",
    "df3 = df3.drop(['id'], axis=1)"
   ]
  },
  {
   "cell_type": "markdown",
   "metadata": {},
   "source": [
    "\n",
    "<div class=\"alert alert-block alert-success\">\n",
    "<b>Успех:</b> Данные осмотрены, но можно было бы еще как минимум изучить корреляции, так как мы планируем использовать линейные модели, а для них это важно. \n",
    "</div>\n",
    "\n",
    "\n",
    "<div class=\"alert alert-block alert-info\">\n",
    "<b>Совет:</b>  Советую обратить внимание на библиотеки sweetviz и pandas_profiling помогут в проведении более тщательного EDA анализа. Исследовательский анализ можно делать и с помощью ручного вызова функций дефолтных библиотек. Данные библиотеки хороши для максимизации комфорта презентации результатов анализа бизнес-пользователям.  \n",
    "\n",
    "Очень просты в использоовании, на вход кладется датафрейм: pandas_profiling.ProfileReport(df) \n",
    "</div>\n"
   ]
  },
  {
   "cell_type": "markdown",
   "metadata": {},
   "source": [
    "### Разделение выборок"
   ]
  },
  {
   "cell_type": "markdown",
   "metadata": {},
   "source": [
    "Разобьем данные на обучающую и валидационную выборки в соотношении 75:25."
   ]
  },
  {
   "cell_type": "code",
   "execution_count": 9,
   "metadata": {},
   "outputs": [],
   "source": [
    "def train_valid_split(df, target):\n",
    "    features = df.drop([target] , axis=1)\n",
    "    target = df[target]\n",
    "\n",
    "    features_train, features_valid, target_train, target_valid = train_test_split(\n",
    "    features, target, test_size=0.25, random_state=12345)\n",
    "    \n",
    "    return features_train, features_valid, target_train, target_valid"
   ]
  },
  {
   "cell_type": "code",
   "execution_count": 10,
   "metadata": {},
   "outputs": [],
   "source": [
    "features_train_df1, features_valid_df1, target_train_df1, target_valid_df1 = train_valid_split(df1, 'product')"
   ]
  },
  {
   "cell_type": "code",
   "execution_count": 11,
   "metadata": {},
   "outputs": [],
   "source": [
    "features_train_df2, features_valid_df2, target_train_df2, target_valid_df2 = train_valid_split(df2, 'product')"
   ]
  },
  {
   "cell_type": "code",
   "execution_count": 12,
   "metadata": {},
   "outputs": [],
   "source": [
    "features_train_df3, features_valid_df3, target_train_df3, target_valid_df3 = train_valid_split(df3, 'product')"
   ]
  },
  {
   "cell_type": "markdown",
   "metadata": {},
   "source": [
    "## Обучение и проверка модели"
   ]
  },
  {
   "cell_type": "code",
   "execution_count": 13,
   "metadata": {},
   "outputs": [
    {
     "name": "stdout",
     "output_type": "stream",
     "text": [
      "RMSE - 37.5794217150813\n"
     ]
    }
   ],
   "source": [
    "model1 = LinearRegression()\n",
    "\n",
    "model1.fit(features_train_df1, target_train_df1)\n",
    "predicted_target_df1 = model1.predict(features_valid_df1)\n",
    "print('RMSE -', mean_squared_error(target_valid_df1, predicted_target_df1)**0.5)"
   ]
  },
  {
   "cell_type": "code",
   "execution_count": 14,
   "metadata": {},
   "outputs": [
    {
     "name": "stdout",
     "output_type": "stream",
     "text": [
      "RMSE - 0.893099286775617\n"
     ]
    }
   ],
   "source": [
    "model2 = LinearRegression()\n",
    "\n",
    "model2.fit(features_train_df2, target_train_df2)\n",
    "predicted_target_df2 = model2.predict(features_valid_df2)\n",
    "print('RMSE -', mean_squared_error(target_valid_df2, predicted_target_df2)**0.5)"
   ]
  },
  {
   "cell_type": "code",
   "execution_count": 15,
   "metadata": {},
   "outputs": [
    {
     "name": "stdout",
     "output_type": "stream",
     "text": [
      "RMSE - 40.02970873393434\n"
     ]
    }
   ],
   "source": [
    "model3 = LinearRegression()\n",
    "\n",
    "model3.fit(features_train_df3, target_train_df3)\n",
    "predicted_target_df3 = model3.predict(features_valid_df3)\n",
    "print('RMSE -', mean_squared_error(target_valid_df3, predicted_target_df3)**0.5)"
   ]
  },
  {
   "cell_type": "code",
   "execution_count": 16,
   "metadata": {},
   "outputs": [],
   "source": [
    "def oil_predict(target_valid,predicted_target):\n",
    "    data = {'real_product' : target_valid,\n",
    "            'predicted_product' : predicted_target         \n",
    "    }\n",
    "    data_frame = pd.DataFrame(data, columns = ['real_product', 'predicted_product'])\n",
    "    rmse = mean_squared_error(target_valid, predicted_target)**0.5\n",
    "    mean = data_frame['predicted_product'].mean()\n",
    "    oil_sum_pred = data_frame['predicted_product'].sum()\n",
    "    oil_sum_real = data_frame['real_product'].sum()\n",
    "    print(data_frame.head())\n",
    "    print('RMSE -', rmse)\n",
    "    print('Cредний запас предсказанного сырья -', mean) \n",
    "    print('Суммарный предсказанный запас', oil_sum_pred)\n",
    "    print('Суммарный реальный запас', oil_sum_real)\n",
    "    return data_frame, rmse, mean, oil_sum_pred"
   ]
  },
  {
   "cell_type": "code",
   "execution_count": 17,
   "metadata": {},
   "outputs": [
    {
     "name": "stdout",
     "output_type": "stream",
     "text": [
      "       real_product  predicted_product\n",
      "71751     10.038645          95.894952\n",
      "80493    114.551489          77.572583\n",
      "2655     132.603635          77.892640\n",
      "53233    169.072125          90.175134\n",
      "91141    122.325180          70.510088\n",
      "RMSE - 37.5794217150813\n",
      "Cредний запас предсказанного сырья - 92.59256778438035\n",
      "Суммарный предсказанный запас 2314814.194609509\n",
      "Суммарный реальный запас 2301964.918520732\n"
     ]
    }
   ],
   "source": [
    "df1_predicted, df1_rmse, df1_predicted_mean, df1_predicted_sum = oil_predict(target_valid_df1, predicted_target_df1)"
   ]
  },
  {
   "cell_type": "code",
   "execution_count": 18,
   "metadata": {},
   "outputs": [
    {
     "name": "stdout",
     "output_type": "stream",
     "text": [
      "       real_product  predicted_product\n",
      "71751     80.859783          82.663314\n",
      "80493     53.906522          54.431786\n",
      "2655      30.132364          29.748760\n",
      "53233     53.906522          53.552133\n",
      "91141      0.000000           1.243856\n",
      "RMSE - 0.893099286775617\n",
      "Cредний запас предсказанного сырья - 68.728546895446\n",
      "Суммарный предсказанный запас 1718213.67238615\n",
      "Суммарный реальный запас 1718078.4006089992\n"
     ]
    }
   ],
   "source": [
    "df2_predicted, df2_rmse, df2_predicted_mean, df2_predicted_sum = oil_predict(target_valid_df2, predicted_target_df2)"
   ]
  },
  {
   "cell_type": "code",
   "execution_count": 19,
   "metadata": {},
   "outputs": [
    {
     "name": "stdout",
     "output_type": "stream",
     "text": [
      "       real_product  predicted_product\n",
      "71751     61.212375          93.599633\n",
      "80493     41.850118          75.105159\n",
      "2655      57.776581          90.066809\n",
      "53233    100.053761         105.162375\n",
      "91141    109.897122         115.303310\n",
      "RMSE - 40.02970873393434\n",
      "Cредний запас предсказанного сырья - 94.96504596800489\n",
      "Суммарный предсказанный запас 2374126.1492001223\n",
      "Суммарный реальный запас 2372105.8202213594\n"
     ]
    }
   ],
   "source": [
    "df3_predicted, df3_rmse, df3_predicted_mean, df3_predicted_sum = oil_predict(target_valid_df3, predicted_target_df3)"
   ]
  },
  {
   "cell_type": "markdown",
   "metadata": {},
   "source": [
    "**Промежуточный Вывод:**  \n",
    "Суммарные запасы предсказанные незначительно отличаются от реальных во всех регионах.  \n",
    "Наилучший показатель RMSE во втором регионе, так как в выборке имеется большое количество нулевых значений и достаточно низкий средний запас сырья, второй регион мы рассматривать не будем."
   ]
  },
  {
   "cell_type": "markdown",
   "metadata": {},
   "source": [
    "\n",
    "<div class=\"alert alert-block alert-success\">\n",
    "<b>Успех:</b> Шаг проделан лаконично, все метрики посчитаны корректно\n",
    "</div> \n"
   ]
  },
  {
   "cell_type": "markdown",
   "metadata": {},
   "source": [
    "## Подготовка к расчёту прибыли"
   ]
  },
  {
   "cell_type": "markdown",
   "metadata": {},
   "source": [
    "Все ключевые значения для расчётов сохраним в отдельных переменных"
   ]
  },
  {
   "cell_type": "code",
   "execution_count": 20,
   "metadata": {},
   "outputs": [],
   "source": [
    "BUDGET = 1e+07\n",
    "SCOUTING_WELL = 500\n",
    "BEST_WELL = 200\n",
    "COST_PER_BARREL  = 450"
   ]
  },
  {
   "cell_type": "markdown",
   "metadata": {},
   "source": [
    "\n",
    "<div class=\"alert alert-block alert-info\">\n",
    "    \n",
    "<b>Совет:</b> Константы принято записывать в ВЕРХНЕМ РЕГИСТРЕ =) Читем здесь https://pythonworld.ru/osnovy/pep-8-rukovodstvo-po-napisaniyu-koda-na-python.html#section-29\n",
    "    \n",
    "А большие значение можно записывать так: `10_000_000`.\n",
    "</div> \n"
   ]
  },
  {
   "cell_type": "code",
   "execution_count": 21,
   "metadata": {},
   "outputs": [
    {
     "name": "stdout",
     "output_type": "stream",
     "text": [
      "Средняя прибыль лучшей скважины: 50000.0 тыс.руб.\n",
      "Средний объем нефти в скважине: 111.11111111111111 тыс. барелей\n",
      "Средний объем нефти на регион: 22222.222222222223 тыс. барелей\n"
     ]
    }
   ],
   "source": [
    "print('Средняя прибыль лучшей скважины:', BUDGET / BEST_WELL, 'тыс.руб.')\n",
    "print('Средний объем нефти в скважине:', BUDGET / BEST_WELL  / COST_PER_BARREL, 'тыс. барелей')\n",
    "print('Средний объем нефти на регион:',BUDGET / COST_PER_BARREL, 'тыс. барелей')"
   ]
  },
  {
   "cell_type": "code",
   "execution_count": 22,
   "metadata": {
    "scrolled": true
   },
   "outputs": [
    {
     "name": "stdout",
     "output_type": "stream",
     "text": [
      "Средний реальный запас нефти на скважину в регионе 1 92.50000000000001\n",
      "Средний реальный запас нефти на скважину в регионе 2 68.82500000000002\n",
      "Средний реальный запас нефти на скважину в регионе 3 95.00000000000004\n"
     ]
    }
   ],
   "source": [
    "print('Средний реальный запас нефти на скважину в регионе 1', df1['product'].mean())\n",
    "print('Средний реальный запас нефти на скважину в регионе 2', df2['product'].mean())\n",
    "print('Средний реальный запас нефти на скважину в регионе 3', df3['product'].mean())"
   ]
  },
  {
   "cell_type": "markdown",
   "metadata": {},
   "source": [
    "Создадим фунцию для вывода гистограммы распределения по объему скважин"
   ]
  },
  {
   "cell_type": "code",
   "execution_count": 23,
   "metadata": {},
   "outputs": [],
   "source": [
    "def hist(col, bins, xlim_max, ylim_max):\n",
    "    plt.figure(figsize=[12,9])\n",
    "    plt.hist(col, bins=bins)\n",
    "    plt.xlim([0,xlim_max])\n",
    "    plt.ylim([0,ylim_max])\n",
    "    plt.xlabel(\"Объем нефти в скважине, тыс. барелей\")\n",
    "    plt.ylabel(\"Кол-во скважин, шт\")\n",
    "    plt.title(\"Гистограмма распределения по объему скважин\")\n",
    "    plt.show()"
   ]
  },
  {
   "cell_type": "code",
   "execution_count": 24,
   "metadata": {},
   "outputs": [
    {
     "data": {
      "image/png": "[encoded data removed]",
      "text/plain": [
       "<Figure size 864x648 with 1 Axes>"
      ]
     },
     "metadata": {
      "needs_background": "light"
     },
     "output_type": "display_data"
    },
    {
     "data": {
      "image/png": "[encoded data removed]",
      "text/plain": [
       "<Figure size 864x648 with 1 Axes>"
      ]
     },
     "metadata": {
      "needs_background": "light"
     },
     "output_type": "display_data"
    },
    {
     "data": {
      "image/png": "[encoded data removed]",
      "text/plain": [
       "<Figure size 864x648 with 1 Axes>"
      ]
     },
     "metadata": {
      "needs_background": "light"
     },
     "output_type": "display_data"
    }
   ],
   "source": [
    "hist(df1_predicted['predicted_product'], 200, 190, 500)\n",
    "hist(df2_predicted['predicted_product'], 200, 150, 1000)\n",
    "hist(df3_predicted['predicted_product'], 200, 170, 400)"
   ]
  },
  {
   "cell_type": "markdown",
   "metadata": {},
   "source": [
    "Промежуточный вывод:  \n",
    "Средние запасы нефти на скважину в 1 и 3 регионе близки к значениям по условию задачи. Из гистограмм видно, что значений больше 110тыс барелей достаточное количество, чтобы остановить свой выбор на 1 и 3 регионе.\n",
    "Во втором регионе распределение по объему нефти в скаважинах неравномерное, но если значение не нулевое, то запасы в скважинах с большим объемом чем в 1 и 3 регионах."
   ]
  },
  {
   "cell_type": "markdown",
   "metadata": {},
   "source": [
    "\n",
    "<div class=\"alert alert-block alert-success\">\n",
    "<b>Успех:</b> Значение для безубыточной разработки посчитано верно, с выводом согласен  \n",
    "</div>\n"
   ]
  },
  {
   "cell_type": "markdown",
   "metadata": {},
   "source": [
    "Создадим функцию для подсчета прибыли"
   ]
  },
  {
   "cell_type": "code",
   "execution_count": 25,
   "metadata": {},
   "outputs": [],
   "source": [
    "def calculation_profit(target, probabilities, count):\n",
    "    probs_sorted = probabilities.sort_values(ascending=False)\n",
    "    selected = target[probs_sorted.index][:count]\n",
    "    return COST_PER_BARREL * selected.sum() - BUDGET"
   ]
  },
  {
   "cell_type": "markdown",
   "metadata": {},
   "source": [
    "<div class=\"alert alert-block alert-success\">\n",
    "<b>Успех:</b> Ф-ция для подсчета прибыли определена верно\n",
    "</div>"
   ]
  },
  {
   "cell_type": "markdown",
   "metadata": {},
   "source": [
    "## Расчёт прибыли и рисков "
   ]
  },
  {
   "cell_type": "markdown",
   "metadata": {},
   "source": [
    "Применим технику Bootstrap с 1000 выборок"
   ]
  },
  {
   "cell_type": "code",
   "execution_count": 26,
   "metadata": {},
   "outputs": [],
   "source": [
    "state = np.random.RandomState(12345)\n",
    "def bootstrap_1000(target, probs):\n",
    "    values=[]\n",
    "    lost = 0\n",
    "    for i in range(1000):\n",
    "        target_sample = target.sample(replace=True, random_state=state, n=SCOUTING_WELL)\n",
    "        probs_sample = probs[target_sample.index]\n",
    "        profit = calculation_profit(target, probs_sample, BEST_WELL)\n",
    "        if profit < 0:\n",
    "            lost +=1\n",
    "        values.append(profit)    \n",
    "    values = pd.Series(values)\n",
    "    lower = values.quantile(0.025)\n",
    "    upper = values.quantile(0.975)\n",
    "    average = values.mean()\n",
    "    risk = lost / 1000\n",
    "    print('Средняя прибыль по региону = {:.2f} тыс.руб.'.format(average))\n",
    "    print('95% доверительный интервал от {:.2f} до {:.2f} тыс.руб.'.format(lower, upper))\n",
    "    print('Риск {:.1%}'.format(risk))"
   ]
  },
  {
   "cell_type": "markdown",
   "metadata": {},
   "source": [
    "<div class=\"alert alert-block alert-success\">\n",
    "<b>Успех:</b> С бутстрапом тоже все в порядке, метрики считаются верным образом!  \n",
    "</div>\n",
    "\n",
    "<div class=\"alert alert-block alert-info\">\n",
    "<b>Совет: </b>\n",
    "    \n",
    "Риски можно лаконично считать в 1 строку: `(values < 0).mean() * 100`\n",
    "</div>           "
   ]
  },
  {
   "cell_type": "markdown",
   "metadata": {},
   "source": [
    "**Расчет для первого региона**"
   ]
  },
  {
   "cell_type": "code",
   "execution_count": 27,
   "metadata": {
    "scrolled": false
   },
   "outputs": [
    {
     "name": "stdout",
     "output_type": "stream",
     "text": [
      "Средняя прибыль по региону = 396164.98 тыс.руб.\n",
      "95% доверительный интервал от -111215.55 до 909766.94 тыс.руб.\n",
      "Риск 6.9%\n"
     ]
    },
    {
     "data": {
      "text/plain": [
       "None"
      ]
     },
     "metadata": {},
     "output_type": "display_data"
    }
   ],
   "source": [
    "display(bootstrap_1000(df1_predicted['real_product'], df1_predicted['predicted_product']))"
   ]
  },
  {
   "cell_type": "markdown",
   "metadata": {},
   "source": [
    "**Расчет для второго региона**"
   ]
  },
  {
   "cell_type": "code",
   "execution_count": 28,
   "metadata": {
    "scrolled": false
   },
   "outputs": [
    {
     "name": "stdout",
     "output_type": "stream",
     "text": [
      "Средняя прибыль по региону = 461155.82 тыс.руб.\n",
      "95% доверительный интервал от 78050.81 до 862952.06 тыс.руб.\n",
      "Риск 0.7%\n"
     ]
    },
    {
     "data": {
      "text/plain": [
       "None"
      ]
     },
     "metadata": {},
     "output_type": "display_data"
    }
   ],
   "source": [
    "display(bootstrap_1000(df2_predicted['real_product'], df2_predicted['predicted_product']))"
   ]
  },
  {
   "cell_type": "markdown",
   "metadata": {},
   "source": [
    "**Расчет для первого региона**"
   ]
  },
  {
   "cell_type": "code",
   "execution_count": 29,
   "metadata": {
    "scrolled": false
   },
   "outputs": [
    {
     "name": "stdout",
     "output_type": "stream",
     "text": [
      "Средняя прибыль по региону = 392950.48 тыс.руб.\n",
      "95% доверительный интервал от -112227.63 до 934562.91 тыс.руб.\n",
      "Риск 6.5%\n"
     ]
    },
    {
     "data": {
      "text/plain": [
       "None"
      ]
     },
     "metadata": {},
     "output_type": "display_data"
    }
   ],
   "source": [
    "display(bootstrap_1000(df3_predicted['real_product'], df3_predicted['predicted_product']))"
   ]
  },
  {
   "cell_type": "markdown",
   "metadata": {},
   "source": [
    "## ВЫВОД"
   ]
  },
  {
   "cell_type": "markdown",
   "metadata": {},
   "source": [
    "По результатам исследования, лучшим регионом для разработки скважин является второй регион.  \n",
    "На выбор повлияли следующие причины:  \n",
    "- Наименьшая вероятность убытков, всего 0.7%, против более 6% риска в 1 и 3 регионе.\n",
    "- Положительная нижняя граница доверительного интервала\n",
    "- Средняя прибыль по региону выше остальных"
   ]
  },
  {
   "cell_type": "markdown",
   "metadata": {},
   "source": [
    "\n",
    "<div class=\"alert alert-block alert-success\">\n",
    "<b>Успех:</b> Отлично, проведено детальное исследование и был выбран правильный регион!\n",
    "</div>\n",
    "\n",
    "\n",
    "\n",
    "<div class=\"alert alert-block alert-info\">\n",
    "<b>Совет: </b> Если интересно изучить тему бутстрапа глубже - я оставлю  ниже несколько интересных и полезных ссылок по теме:\n",
    "        \n",
    "1. \"Bootstrap Hypothesis Testing in Statistics with Example\" \n",
    "        \n",
    "https://www.youtube.com/watch?v=9STZ7MxkNVg\n",
    "        \n",
    "2. \"How to Calculate Bootstrap Confidence Intervals For Machine Learning Results in Python\" \n",
    "        \n",
    "https://machinelearningmastery.com/calculate-bootstrap-confidence-intervals-machine-learning-results-python/\n",
    "        \n",
    "3. \"A Gentle Introduction to the Bootstrap Method\" \n",
    "\n",
    "https://machinelearningmastery.com/a-gentle-introduction-to-the-bootstrap-method/\n",
    "        \n",
    "4. \"An Introduction to the Bootstrap Method\" \n",
    "        \n",
    "https://towardsdatascience.com/an-introduction-to-the-bootstrap-method-58bcb51b4d60#:~:text=The%20basic%20idea%20of%20bootstrap,population%20mean)%20on%20sample%20data.&amp;text=A%20sample%20from%20population%20with%20sample%20size%20n\n",
    "        \n",
    "5. \"Bootstrapping and Resampling in Statistics with Example\" \n",
    "        \n",
    "        \n",
    "https://www.youtube.com/watch?v=O_Fj4q8lgmc\n",
    "\n",
    "6. Также одна из программ на рынке по этой теме управлненеческого моделирования - AnyLogic - интересный продукт. Можешь видео из интернета посмотреть по какому-нибудь примеру с её использованием. Тогда тема управленческого моделирования и бутстрапа может по-другому лечь.\n",
    "</div>\n",
    "\n"
   ]
  },
  {
   "cell_type": "markdown",
   "metadata": {},
   "source": [
    "<div class=\"alert alert-block alert-warning\">\n",
    "<b>Комментарий студента:</b> Спасибо за оперативную проверку и доп материалы, поправил по твоему совету константы, остальное изучу на досуге!\n",
    "</div>"
   ]
  },
  {
   "cell_type": "markdown",
   "metadata": {},
   "source": [
    "\n",
    "<div class=\"alert alert-block alert-success\">\n",
    "    \n",
    "<b>Успех[2]:</b> 🤝\n",
    "</div>"
   ]
  },
  {
   "cell_type": "markdown",
   "metadata": {},
   "source": [
    "## Чек-лист готовности проекта"
   ]
  },
  {
   "cell_type": "markdown",
   "metadata": {},
   "source": [
    "Поставьте 'x' в выполненных пунктах. Далее нажмите Shift+Enter."
   ]
  },
  {
   "cell_type": "markdown",
   "metadata": {},
   "source": [
    "- [x]  Jupyter Notebook открыт\n",
    "- [x]  Весь код выполняется без ошибок\n",
    "- [x]  Ячейки с кодом расположены в порядке исполнения\n",
    "- [x]  Выполнен шаг 1: данные подготовлены\n",
    "- [x]  Выполнен шаг 2: модели обучены и проверены\n",
    "    - [x]  Данные корректно разбиты на обучающую и валидационную выборки\n",
    "    - [x]  Модели обучены, предсказания сделаны\n",
    "    - [x]  Предсказания и правильные ответы на валидационной выборке сохранены\n",
    "    - [x]  На экране напечатаны результаты\n",
    "    - [x]  Сделаны выводы\n",
    "- [x]  Выполнен шаг 3: проведена подготовка к расчёту прибыли\n",
    "    - [x]  Для всех ключевых значений созданы константы Python\n",
    "    - [x]  Посчитано минимальное среднее количество продукта в месторождениях региона, достаточное для разработки\n",
    "    - [x]  По предыдущему пункту сделаны выводы\n",
    "    - [x]  Написана функция расчёта прибыли\n",
    "- [x]  Выполнен шаг 4: посчитаны риски и прибыль\n",
    "    - [x]  Проведена процедура *Bootstrap*\n",
    "    - [x]  Все параметры бутстрепа соответствуют условию\n",
    "    - [x]  Найдены все нужные величины\n",
    "    - [x]  Предложен регион для разработки месторождения\n",
    "    - [x]  Выбор региона обоснован"
   ]
  },
  {
   "cell_type": "code",
   "execution_count": null,
   "metadata": {},
   "outputs": [],
   "source": []
  }
 ],
 "metadata": {
  "ExecuteTimeLog": [
   {
    "duration": 1197,
    "start_time": "2023-08-07T17:56:32.779Z"
   },
   {
    "duration": 425,
    "start_time": "2023-08-07T17:56:33.978Z"
   },
   {
    "duration": 173,
    "start_time": "2023-08-07T17:56:34.953Z"
   },
   {
    "duration": 68,
    "start_time": "2023-08-07T17:56:56.311Z"
   },
   {
    "duration": 65,
    "start_time": "2023-08-07T17:57:43.799Z"
   },
   {
    "duration": 52,
    "start_time": "2023-08-07T18:03:09.517Z"
   },
   {
    "duration": 13,
    "start_time": "2023-08-07T18:14:21.419Z"
   },
   {
    "duration": 25,
    "start_time": "2023-08-07T18:15:15.674Z"
   },
   {
    "duration": 27,
    "start_time": "2023-08-07T18:15:16.278Z"
   },
   {
    "duration": 26,
    "start_time": "2023-08-07T18:15:16.896Z"
   },
   {
    "duration": 23,
    "start_time": "2023-08-07T18:19:06.110Z"
   },
   {
    "duration": 39,
    "start_time": "2023-08-07T18:19:06.705Z"
   },
   {
    "duration": 24,
    "start_time": "2023-08-07T18:19:07.405Z"
   },
   {
    "duration": 21,
    "start_time": "2023-08-07T18:47:31.623Z"
   },
   {
    "duration": 9,
    "start_time": "2023-08-07T18:50:41.922Z"
   },
   {
    "duration": 4,
    "start_time": "2023-08-07T18:50:47.974Z"
   },
   {
    "duration": 27,
    "start_time": "2023-08-07T18:50:49.715Z"
   },
   {
    "duration": 14,
    "start_time": "2023-08-07T18:50:50.449Z"
   },
   {
    "duration": 17,
    "start_time": "2023-08-07T18:50:50.824Z"
   },
   {
    "duration": 7155,
    "start_time": "2023-08-07T18:52:44.495Z"
   },
   {
    "duration": 7722,
    "start_time": "2023-08-07T18:56:09.117Z"
   },
   {
    "duration": 8639,
    "start_time": "2023-08-07T18:57:03.238Z"
   },
   {
    "duration": 1452,
    "start_time": "2023-08-07T18:58:57.166Z"
   },
   {
    "duration": 626,
    "start_time": "2023-08-07T18:58:58.621Z"
   },
   {
    "duration": 118,
    "start_time": "2023-08-07T18:58:59.249Z"
   },
   {
    "duration": 79,
    "start_time": "2023-08-07T18:58:59.376Z"
   },
   {
    "duration": 83,
    "start_time": "2023-08-07T18:58:59.458Z"
   },
   {
    "duration": 24,
    "start_time": "2023-08-07T18:58:59.543Z"
   },
   {
    "duration": 26,
    "start_time": "2023-08-07T18:58:59.569Z"
   },
   {
    "duration": 40,
    "start_time": "2023-08-07T18:58:59.599Z"
   },
   {
    "duration": 19,
    "start_time": "2023-08-07T18:58:59.643Z"
   },
   {
    "duration": 17,
    "start_time": "2023-08-07T18:58:59.665Z"
   },
   {
    "duration": 7921,
    "start_time": "2023-08-07T18:58:59.683Z"
   },
   {
    "duration": 13,
    "start_time": "2023-08-07T19:28:53.828Z"
   },
   {
    "duration": 3,
    "start_time": "2023-08-07T19:29:03.465Z"
   },
   {
    "duration": 19,
    "start_time": "2023-08-07T19:29:08.395Z"
   },
   {
    "duration": 28,
    "start_time": "2023-08-07T19:32:51.159Z"
   },
   {
    "duration": 22,
    "start_time": "2023-08-07T19:33:30.489Z"
   },
   {
    "duration": 32,
    "start_time": "2023-08-07T19:42:25.346Z"
   },
   {
    "duration": 15,
    "start_time": "2023-08-07T19:46:02.656Z"
   },
   {
    "duration": 6,
    "start_time": "2023-08-07T19:46:51.102Z"
   },
   {
    "duration": 33,
    "start_time": "2023-08-07T19:46:56.883Z"
   },
   {
    "duration": 187,
    "start_time": "2023-08-07T20:01:03.314Z"
   },
   {
    "duration": 5,
    "start_time": "2023-08-07T20:01:57.635Z"
   },
   {
    "duration": 28,
    "start_time": "2023-08-07T20:02:13.804Z"
   },
   {
    "duration": 48,
    "start_time": "2023-08-07T20:03:21.202Z"
   },
   {
    "duration": 17,
    "start_time": "2023-08-07T20:04:21.036Z"
   },
   {
    "duration": 1824,
    "start_time": "2023-08-07T21:21:16.531Z"
   },
   {
    "duration": 8,
    "start_time": "2023-08-07T21:21:43.437Z"
   },
   {
    "duration": 1904,
    "start_time": "2023-08-07T21:21:55.434Z"
   },
   {
    "duration": 14,
    "start_time": "2023-08-07T21:23:25.866Z"
   },
   {
    "duration": 28,
    "start_time": "2023-08-07T21:23:35.815Z"
   },
   {
    "duration": 13,
    "start_time": "2023-08-07T21:24:05.263Z"
   },
   {
    "duration": 19,
    "start_time": "2023-08-07T21:24:44.198Z"
   },
   {
    "duration": 19,
    "start_time": "2023-08-07T21:24:58.415Z"
   },
   {
    "duration": 9,
    "start_time": "2023-08-07T21:25:04.732Z"
   },
   {
    "duration": 112,
    "start_time": "2023-08-07T21:42:15.656Z"
   },
   {
    "duration": 22,
    "start_time": "2023-08-07T21:42:24.975Z"
   },
   {
    "duration": 15,
    "start_time": "2023-08-07T21:44:34.013Z"
   },
   {
    "duration": 7,
    "start_time": "2023-08-07T21:44:39.438Z"
   },
   {
    "duration": 16,
    "start_time": "2023-08-07T21:44:53.712Z"
   },
   {
    "duration": 6,
    "start_time": "2023-08-07T21:45:43.120Z"
   },
   {
    "duration": 10,
    "start_time": "2023-08-07T21:46:40.249Z"
   },
   {
    "duration": 11,
    "start_time": "2023-08-07T21:46:42.124Z"
   },
   {
    "duration": 16,
    "start_time": "2023-08-07T21:46:44.115Z"
   },
   {
    "duration": 5,
    "start_time": "2023-08-07T21:54:52.320Z"
   },
   {
    "duration": 20,
    "start_time": "2023-08-07T21:54:53.148Z"
   },
   {
    "duration": 9,
    "start_time": "2023-08-07T21:55:10.918Z"
   },
   {
    "duration": 34,
    "start_time": "2023-08-07T21:55:11.607Z"
   },
   {
    "duration": 6,
    "start_time": "2023-08-07T21:55:22.121Z"
   },
   {
    "duration": 6,
    "start_time": "2023-08-07T21:55:46.703Z"
   },
   {
    "duration": 10,
    "start_time": "2023-08-07T21:55:47.441Z"
   },
   {
    "duration": 10,
    "start_time": "2023-08-07T21:55:52.943Z"
   },
   {
    "duration": 15,
    "start_time": "2023-08-07T21:56:06.923Z"
   },
   {
    "duration": 3,
    "start_time": "2023-08-07T23:17:04.113Z"
   },
   {
    "duration": 11,
    "start_time": "2023-08-07T23:17:04.608Z"
   },
   {
    "duration": 11,
    "start_time": "2023-08-07T23:17:53.852Z"
   },
   {
    "duration": 10,
    "start_time": "2023-08-07T23:18:08.946Z"
   },
   {
    "duration": 8,
    "start_time": "2023-08-07T23:18:13.886Z"
   },
   {
    "duration": 9,
    "start_time": "2023-08-07T23:19:03.097Z"
   },
   {
    "duration": 4,
    "start_time": "2023-08-07T23:19:03.614Z"
   },
   {
    "duration": 3,
    "start_time": "2023-08-07T23:21:09.437Z"
   },
   {
    "duration": 5,
    "start_time": "2023-08-07T23:21:11.306Z"
   },
   {
    "duration": 7,
    "start_time": "2023-08-07T23:33:24.184Z"
   },
   {
    "duration": 15,
    "start_time": "2023-08-07T23:34:28.288Z"
   },
   {
    "duration": 10,
    "start_time": "2023-08-07T23:34:33.851Z"
   },
   {
    "duration": 6,
    "start_time": "2023-08-07T23:34:46.614Z"
   },
   {
    "duration": 44,
    "start_time": "2023-08-08T18:50:35.661Z"
   },
   {
    "duration": 1102,
    "start_time": "2023-08-08T18:50:43.947Z"
   },
   {
    "duration": 2016,
    "start_time": "2023-08-08T18:50:45.051Z"
   },
   {
    "duration": 57,
    "start_time": "2023-08-08T18:50:47.068Z"
   },
   {
    "duration": 56,
    "start_time": "2023-08-08T18:50:47.127Z"
   },
   {
    "duration": 46,
    "start_time": "2023-08-08T18:50:47.185Z"
   },
   {
    "duration": 14,
    "start_time": "2023-08-08T18:50:47.233Z"
   },
   {
    "duration": 27,
    "start_time": "2023-08-08T18:50:47.248Z"
   },
   {
    "duration": 19,
    "start_time": "2023-08-08T18:50:47.277Z"
   },
   {
    "duration": 11,
    "start_time": "2023-08-08T18:50:47.297Z"
   },
   {
    "duration": 29,
    "start_time": "2023-08-08T18:50:47.310Z"
   },
   {
    "duration": 17,
    "start_time": "2023-08-08T18:50:47.340Z"
   },
   {
    "duration": 15,
    "start_time": "2023-08-08T18:50:47.358Z"
   },
   {
    "duration": 19,
    "start_time": "2023-08-08T18:50:47.375Z"
   },
   {
    "duration": 184,
    "start_time": "2023-08-08T18:50:47.395Z"
   },
   {
    "duration": 101,
    "start_time": "2023-08-08T18:50:47.581Z"
   },
   {
    "duration": 95,
    "start_time": "2023-08-08T18:50:47.684Z"
   },
   {
    "duration": 103,
    "start_time": "2023-08-08T18:50:47.781Z"
   },
   {
    "duration": 8,
    "start_time": "2023-08-08T18:50:47.886Z"
   },
   {
    "duration": 15,
    "start_time": "2023-08-08T18:50:47.895Z"
   },
   {
    "duration": 3,
    "start_time": "2023-08-08T18:50:47.911Z"
   },
   {
    "duration": 16,
    "start_time": "2023-08-08T18:50:47.915Z"
   },
   {
    "duration": 11,
    "start_time": "2023-08-08T18:50:47.933Z"
   },
   {
    "duration": 632,
    "start_time": "2023-08-08T18:50:47.946Z"
   },
   {
    "duration": 73,
    "start_time": "2023-08-08T18:50:48.580Z"
   },
   {
    "duration": 0,
    "start_time": "2023-08-08T18:50:48.654Z"
   },
   {
    "duration": 133,
    "start_time": "2023-08-08T18:51:31.599Z"
   },
   {
    "duration": 167,
    "start_time": "2023-08-08T18:52:01.498Z"
   },
   {
    "duration": 102,
    "start_time": "2023-08-08T19:01:18.802Z"
   },
   {
    "duration": 3,
    "start_time": "2023-08-08T19:01:53.991Z"
   },
   {
    "duration": 4,
    "start_time": "2023-08-08T19:03:15.999Z"
   },
   {
    "duration": 3,
    "start_time": "2023-08-08T19:03:21.003Z"
   },
   {
    "duration": 950,
    "start_time": "2023-08-08T19:03:24.396Z"
   },
   {
    "duration": 441,
    "start_time": "2023-08-08T19:03:41.059Z"
   },
   {
    "duration": 407,
    "start_time": "2023-08-08T19:03:58.964Z"
   },
   {
    "duration": 365,
    "start_time": "2023-08-08T19:04:03.886Z"
   },
   {
    "duration": 1168,
    "start_time": "2023-08-08T19:04:31.198Z"
   },
   {
    "duration": 1179,
    "start_time": "2023-08-08T19:05:20.809Z"
   },
   {
    "duration": 1160,
    "start_time": "2023-08-08T19:05:28.765Z"
   },
   {
    "duration": 1190,
    "start_time": "2023-08-08T19:05:57.517Z"
   },
   {
    "duration": 1318,
    "start_time": "2023-08-08T19:06:10.133Z"
   },
   {
    "duration": 3,
    "start_time": "2023-08-08T19:19:37.347Z"
   },
   {
    "duration": 12,
    "start_time": "2023-08-08T19:27:26.928Z"
   },
   {
    "duration": 12,
    "start_time": "2023-08-08T19:28:00.078Z"
   },
   {
    "duration": 5,
    "start_time": "2023-08-08T19:28:11.358Z"
   },
   {
    "duration": 5,
    "start_time": "2023-08-08T19:31:12.438Z"
   },
   {
    "duration": 887,
    "start_time": "2023-08-08T19:32:22.412Z"
   },
   {
    "duration": 902,
    "start_time": "2023-08-08T19:33:55.798Z"
   },
   {
    "duration": 917,
    "start_time": "2023-08-08T19:34:54.796Z"
   },
   {
    "duration": 847,
    "start_time": "2023-08-08T19:35:48.161Z"
   },
   {
    "duration": 839,
    "start_time": "2023-08-08T19:35:52.551Z"
   },
   {
    "duration": 877,
    "start_time": "2023-08-08T19:35:56.015Z"
   },
   {
    "duration": 950,
    "start_time": "2023-08-08T19:36:02.966Z"
   },
   {
    "duration": 839,
    "start_time": "2023-08-08T19:36:14.587Z"
   },
   {
    "duration": 5,
    "start_time": "2023-08-08T19:36:37.529Z"
   },
   {
    "duration": 842,
    "start_time": "2023-08-08T19:36:38.608Z"
   },
   {
    "duration": 6,
    "start_time": "2023-08-08T19:36:51.031Z"
   },
   {
    "duration": 862,
    "start_time": "2023-08-08T19:36:51.904Z"
   },
   {
    "duration": 5,
    "start_time": "2023-08-08T19:37:18.456Z"
   },
   {
    "duration": 941,
    "start_time": "2023-08-08T19:37:20.011Z"
   },
   {
    "duration": 6,
    "start_time": "2023-08-08T19:37:30.089Z"
   },
   {
    "duration": 896,
    "start_time": "2023-08-08T19:37:31.323Z"
   },
   {
    "duration": 6,
    "start_time": "2023-08-08T19:37:43.508Z"
   },
   {
    "duration": 846,
    "start_time": "2023-08-08T19:37:45.122Z"
   },
   {
    "duration": 881,
    "start_time": "2023-08-08T19:37:52.108Z"
   },
   {
    "duration": 924,
    "start_time": "2023-08-08T19:37:57.198Z"
   },
   {
    "duration": 11,
    "start_time": "2023-08-08T19:39:09.919Z"
   },
   {
    "duration": 5,
    "start_time": "2023-08-08T19:39:20.298Z"
   },
   {
    "duration": 5,
    "start_time": "2023-08-08T19:39:36.499Z"
   },
   {
    "duration": 855,
    "start_time": "2023-08-08T19:39:36.910Z"
   },
   {
    "duration": 885,
    "start_time": "2023-08-08T19:39:39.467Z"
   },
   {
    "duration": 874,
    "start_time": "2023-08-08T19:39:44.252Z"
   },
   {
    "duration": 6,
    "start_time": "2023-08-08T19:48:36.492Z"
   },
   {
    "duration": 893,
    "start_time": "2023-08-08T19:48:37.766Z"
   },
   {
    "duration": 946,
    "start_time": "2023-08-08T19:48:42.459Z"
   },
   {
    "duration": 940,
    "start_time": "2023-08-08T19:48:49.400Z"
   },
   {
    "duration": 6,
    "start_time": "2023-08-08T19:48:58.135Z"
   },
   {
    "duration": 949,
    "start_time": "2023-08-08T19:48:59.627Z"
   },
   {
    "duration": 953,
    "start_time": "2023-08-08T19:49:01.692Z"
   },
   {
    "duration": 885,
    "start_time": "2023-08-08T19:49:13.587Z"
   },
   {
    "duration": 7,
    "start_time": "2023-08-08T21:39:37.708Z"
   },
   {
    "duration": 42,
    "start_time": "2023-08-08T21:39:38.618Z"
   },
   {
    "duration": 3,
    "start_time": "2023-08-08T21:42:16.990Z"
   },
   {
    "duration": 7,
    "start_time": "2023-08-08T21:42:18.196Z"
   },
   {
    "duration": 6,
    "start_time": "2023-08-08T21:42:20.036Z"
   },
   {
    "duration": 4,
    "start_time": "2023-08-08T21:42:33.467Z"
   },
   {
    "duration": 5,
    "start_time": "2023-08-08T21:42:34.595Z"
   },
   {
    "duration": 1494,
    "start_time": "2023-08-08T21:42:46.896Z"
   },
   {
    "duration": 693,
    "start_time": "2023-08-08T21:42:48.391Z"
   },
   {
    "duration": 56,
    "start_time": "2023-08-08T21:42:49.085Z"
   },
   {
    "duration": 58,
    "start_time": "2023-08-08T21:42:49.142Z"
   },
   {
    "duration": 47,
    "start_time": "2023-08-08T21:42:49.202Z"
   },
   {
    "duration": 19,
    "start_time": "2023-08-08T21:42:49.250Z"
   },
   {
    "duration": 29,
    "start_time": "2023-08-08T21:42:49.271Z"
   },
   {
    "duration": 13,
    "start_time": "2023-08-08T21:42:49.302Z"
   },
   {
    "duration": 6,
    "start_time": "2023-08-08T21:42:49.317Z"
   },
   {
    "duration": 18,
    "start_time": "2023-08-08T21:42:49.324Z"
   },
   {
    "duration": 19,
    "start_time": "2023-08-08T21:42:49.343Z"
   },
   {
    "duration": 15,
    "start_time": "2023-08-08T21:42:49.363Z"
   },
   {
    "duration": 30,
    "start_time": "2023-08-08T21:42:49.379Z"
   },
   {
    "duration": 185,
    "start_time": "2023-08-08T21:42:49.414Z"
   },
   {
    "duration": 101,
    "start_time": "2023-08-08T21:42:49.603Z"
   },
   {
    "duration": 92,
    "start_time": "2023-08-08T21:42:49.709Z"
   },
   {
    "duration": 102,
    "start_time": "2023-08-08T21:42:49.807Z"
   },
   {
    "duration": 12,
    "start_time": "2023-08-08T21:42:49.910Z"
   },
   {
    "duration": 22,
    "start_time": "2023-08-08T21:42:49.923Z"
   },
   {
    "duration": 6,
    "start_time": "2023-08-08T21:42:49.946Z"
   },
   {
    "duration": 7,
    "start_time": "2023-08-08T21:42:49.954Z"
   },
   {
    "duration": 6,
    "start_time": "2023-08-08T21:42:49.962Z"
   },
   {
    "duration": 18,
    "start_time": "2023-08-08T21:42:49.969Z"
   },
   {
    "duration": 1045,
    "start_time": "2023-08-08T21:42:49.988Z"
   },
   {
    "duration": 3,
    "start_time": "2023-08-08T21:42:51.034Z"
   },
   {
    "duration": 15,
    "start_time": "2023-08-08T21:42:51.039Z"
   },
   {
    "duration": 693,
    "start_time": "2023-08-08T21:42:51.056Z"
   },
   {
    "duration": 676,
    "start_time": "2023-08-08T21:42:51.751Z"
   },
   {
    "duration": 684,
    "start_time": "2023-08-08T21:42:52.428Z"
   }
  ],
  "kernelspec": {
   "display_name": "Python 3 (ipykernel)",
   "language": "python",
   "name": "python3"
  },
  "language_info": {
   "codemirror_mode": {
    "name": "ipython",
    "version": 3
   },
   "file_extension": ".py",
   "mimetype": "text/x-python",
   "name": "python",
   "nbconvert_exporter": "python",
   "pygments_lexer": "ipython3",
   "version": "3.9.5"
  },
  "toc": {
   "base_numbering": 1,
   "nav_menu": {},
   "number_sections": true,
   "sideBar": true,
   "skip_h1_title": true,
   "title_cell": "Table of Contents",
   "title_sidebar": "Contents",
   "toc_cell": false,
   "toc_position": {},
   "toc_section_display": true,
   "toc_window_display": false
  }
 },
 "nbformat": 4,
 "nbformat_minor": 2
}
