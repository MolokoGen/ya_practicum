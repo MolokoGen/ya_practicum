{
 "cells": [
  {
   "cell_type": "markdown",
   "metadata": {},
   "source": [
    "Привет! Меня зовут Исмаил, я буду проверять твой проект :) Можешь обращаться ко мне на «ты». Если тебе комфортно, то и я буду к тебе так обращаться, если нет, то обязательно скажи об этом.\n",
    "\n",
    "Пожалуйста, не удаляй мои комментарии, которые я буду оставлять в работе. Это особенно поможет, если твои проекты будут отправлены на повторную проверку. При повторных проверках у комментариев будут приписки: \"Вторая итерация\", \"Третья итерация\" и т.д. \n",
    "\n",
    "Ты тоже можешь реагировать на мои комментарии, но в таком случае постарайся, чтобы твои комментарии отличались от моих: например, выделяй их своим любимым цветом — так у нас не возникнет путаницы :)\n",
    "\n",
    "Кстати, про цвета! Мои комментарии будут в следующей цветовой гамме: зелеными, желтыми и красными. Например:\n",
    "\n",
    "<div class=\"alert-success\"> \n",
    "<b>Комментарий ревьюера 👍 </b>\n",
    "    \n",
    "В случае, если решение на отдельном шаге является полностью правильным. </div>\n",
    "\n",
    "<div class=\"alert-warning\"> \n",
    "<b>Комментарий ревьюера 💡</b> \n",
    "    \n",
    "В случае, если решение может стать еще лучше с некоторыми корректировками </div>\n",
    " \n",
    "<div class=\"alert-danger\"> \n",
    "<b>Комментарий ревьюера ❌</b> \n",
    "    \n",
    "В случае, если решение какого-то шага требует значительных изменений. Проект не может быть принят с первого раза, если ревью содержит комментарии, помеченные этим цветом </div>"
   ]
  },
  {
   "cell_type": "markdown",
   "metadata": {},
   "source": [
    "# Рекомендация тарифов"
   ]
  },
  {
   "cell_type": "markdown",
   "metadata": {},
   "source": [
    "В вашем распоряжении данные о поведении клиентов, которые уже перешли на эти тарифы (из проекта курса «Статистический анализ данных»). Нужно построить модель для задачи классификации, которая выберет подходящий тариф. Предобработка данных не понадобится — вы её уже сделали.\n",
    "\n",
    "Постройте модель с максимально большим значением *accuracy*. Чтобы сдать проект успешно, нужно довести долю правильных ответов по крайней мере до 0.75. Проверьте *accuracy* на тестовой выборке самостоятельно."
   ]
  },
  {
   "cell_type": "markdown",
   "metadata": {},
   "source": [
    "## Откройте и изучите файл"
   ]
  },
  {
   "cell_type": "code",
   "execution_count": 2,
   "metadata": {
    "scrolled": true
   },
   "outputs": [],
   "source": [
    "import pandas as pd\n",
    "\n",
    "from sklearn.linear_model import LogisticRegression\n",
    "from sklearn.model_selection import train_test_split\n",
    "from sklearn.dummy import DummyClassifier\n",
    "from sklearn.metrics import accuracy_score\n",
    "from sklearn.model_selection import GridSearchCV\n"
   ]
  },
  {
   "cell_type": "code",
   "execution_count": 3,
   "metadata": {},
   "outputs": [],
   "source": [
    "df = pd.read_csv('/datasets/geo_data_0.csv')\n"
   ]
  },
  {
   "cell_type": "markdown",
   "metadata": {},
   "source": [
    "<div class=\"alert-success\"> \n",
    "<b>Комментарий ревьюера 👍</b>\n",
    "\n",
    "Хороший первичный анализ данных"
   ]
  },
  {
   "cell_type": "markdown",
   "metadata": {},
   "source": [
    "## Разбейте данные на выборки"
   ]
  },
  {
   "cell_type": "markdown",
   "metadata": {},
   "source": [
    "Разобьем выборку на три части обучающую, валидационную и тестовую, в отношении 3:1:1"
   ]
  },
  {
   "cell_type": "code",
   "execution_count": 2,
   "metadata": {
    "scrolled": true
   },
   "outputs": [],
   "source": [
    "df_train_base, df_test = train_test_split(df, test_size=0.2, random_state=12345)\n",
    "df_train, df_valid = train_test_split(df_train_base, test_size=0.25, random_state=12345)\n",
    "features_test = df_test.drop(['is_ultra'], axis=1)\n",
    "target_test = df_test['is_ultra']\n",
    "features_train = df_train.drop(['is_ultra'], axis=1)\n",
    "target_train = df_train['is_ultra']\n",
    "features_valid = df_valid.drop(['is_ultra'], axis=1)\n",
    "target_valid = df_valid['is_ultra']"
   ]
  },
  {
   "cell_type": "markdown",
   "metadata": {},
   "source": [
    "**Размер тестовой выборки** "
   ]
  },
  {
   "cell_type": "code",
   "execution_count": 3,
   "metadata": {},
   "outputs": [
    {
     "name": "stdout",
     "output_type": "stream",
     "text": [
      "(643, 4)\n",
      "(643,)\n"
     ]
    }
   ],
   "source": [
    "print(features_test.shape)\n",
    "print(target_test.shape)"
   ]
  },
  {
   "cell_type": "markdown",
   "metadata": {},
   "source": [
    "**Размер обучающей выборки**"
   ]
  },
  {
   "cell_type": "code",
   "execution_count": 4,
   "metadata": {},
   "outputs": [
    {
     "name": "stdout",
     "output_type": "stream",
     "text": [
      "(1928, 4)\n",
      "(1928,)\n"
     ]
    }
   ],
   "source": [
    "print(features_train.shape)\n",
    "print(target_train.shape)"
   ]
  },
  {
   "cell_type": "markdown",
   "metadata": {},
   "source": [
    "**Размер валидационной выборки**"
   ]
  },
  {
   "cell_type": "code",
   "execution_count": 5,
   "metadata": {},
   "outputs": [
    {
     "name": "stdout",
     "output_type": "stream",
     "text": [
      "(643, 4)\n",
      "(643,)\n"
     ]
    }
   ],
   "source": [
    "print(features_valid.shape)\n",
    "print(target_valid.shape)"
   ]
  },
  {
   "cell_type": "markdown",
   "metadata": {},
   "source": [
    "<div class=\"alert-success\"> \n",
    "<b>Комментарий ревьюера 👍</b>\n",
    "\n",
    "Выборки разделены верно, здорово, что проверены их размеры"
   ]
  },
  {
   "cell_type": "markdown",
   "metadata": {},
   "source": [
    "## Исследуйте модели"
   ]
  },
  {
   "cell_type": "markdown",
   "metadata": {},
   "source": [
    "**Дерево решений**"
   ]
  },
  {
   "cell_type": "code",
   "execution_count": 6,
   "metadata": {
    "scrolled": true
   },
   "outputs": [
    {
     "name": "stdout",
     "output_type": "stream",
     "text": [
      "Accuracy лучшей модели дерева решений: 0.7838258164852255 Глубина дерева: 9 Критерий качества разбиения: entropy Стратегия разбиения: best\n"
     ]
    }
   ],
   "source": [
    "best_model = None\n",
    "best_result = 0\n",
    "for list_splitter in ['best','random']:\n",
    "    for list_criterion in ['gini', 'entropy']:\n",
    "        for depth in range(1, 20):\n",
    "            model = DecisionTreeClassifier(random_state=12345, max_depth=depth, criterion = list_criterion, splitter=list_splitter)\n",
    "            model.fit(features_train,target_train) \n",
    "            predictions = model.predict(features_valid)\n",
    "            result = accuracy_score(target_valid,predictions) \n",
    "            if result > best_result:\n",
    "                best_model = model\n",
    "                best_depth = depth\n",
    "                best_result = result\n",
    "                best_criterion = list_criterion\n",
    "                best_splitter = list_splitter\n",
    "print(\"Accuracy лучшей модели дерева решений:\", best_result,\"Глубина дерева:\",  best_depth, \"Критерий качества разбиения:\", best_criterion, \"Стратегия разбиения:\", best_splitter)\n"
   ]
  },
  {
   "cell_type": "markdown",
   "metadata": {},
   "source": [
    "<div class=\"alert-danger\"> \n",
    "<b>Комментарий ревьюера ❌</b> \n",
    "\n",
    "Обучение верное, но рассмотрен только один гиперпараметр. Хотелось бы видеть перебор значений и у других гиперпараметров"
   ]
  },
  {
   "cell_type": "markdown",
   "metadata": {},
   "source": [
    "**Логистическая регрессия**"
   ]
  },
  {
   "cell_type": "code",
   "execution_count": 33,
   "metadata": {},
   "outputs": [
    {
     "name": "stdout",
     "output_type": "stream",
     "text": [
      "Accuracy лучшей модели дерева решений: 0.7262830482115086 multi_class: auto max_iter: 100\n"
     ]
    }
   ],
   "source": [
    "best_model = None\n",
    "best_result = 0\n",
    "#for list_solver in ['newton-cg', 'lbfgs', 'liblinear', 'sag', 'saga']:\n",
    "for list_multi_class in ['auto', 'ovr', 'multinomial']:\n",
    "     for list_max_iter in range(100, 500, 10):\n",
    "        model = LogisticRegression(random_state=12345, multi_class = list_multi_class, max_iter=list_max_iter)\n",
    "        model.fit(features_train,target_train) \n",
    "        predictions = model.predict(features_valid)\n",
    "        result = accuracy_score(target_valid,predictions) \n",
    "        if result > best_result:\n",
    "            best_model = model\n",
    "            best_result = result\n",
    "            best_multi_class = list_multi_class\n",
    "            best_max_iter = list_max_iter\n",
    "            \n",
    "print(\"Accuracy лучшей модели дерева решений:\", best_result,\"multi_class:\", best_multi_class, \"max_iter:\", best_max_iter)"
   ]
  },
  {
   "cell_type": "markdown",
   "metadata": {},
   "source": [
    "**Подбор гиперпараметров для модели логистической регрессии с помощью GridSearchCV**"
   ]
  },
  {
   "cell_type": "code",
   "execution_count": 34,
   "metadata": {},
   "outputs": [
    {
     "name": "stdout",
     "output_type": "stream",
     "text": [
      "Лучшие гиперпараметры для логистической регрессии: {'max_iter': 100, 'multi_class': 'multinomial', 'random_state': None}\n"
     ]
    }
   ],
   "source": [
    "model_lr = LogisticRegression()\n",
    "parametrs = {'multi_class': ['auto', 'ovr', 'multinomial'],\n",
    "                    'max_iter': range (100, 500, 10), \n",
    "                    'random_state': [None, 12345]}\n",
    "clf = GridSearchCV(model_lr, parametrs, n_jobs=-1, cv=5, refit=True, scoring='accuracy')\n",
    "clf.fit(features_train, target_train) \n",
    "best_params = clf.best_params_\n",
    "\n",
    "print('Лучшие гиперпараметры для логистической регрессии:', best_params)\n"
   ]
  },
  {
   "cell_type": "code",
   "execution_count": 35,
   "metadata": {},
   "outputs": [
    {
     "name": "stdout",
     "output_type": "stream",
     "text": [
      "Accuracy логистической регрессии: 0.7262830482115086\n"
     ]
    }
   ],
   "source": [
    "model = LogisticRegression(random_state=None, max_iter=100, multi_class='multinomial' )\n",
    "model.fit(features_train, target_train) \n",
    "predictions = model.predict(features_valid)\n",
    "accuracy_lr = accuracy_score(predictions, target_valid)\n",
    "print('Accuracy логистической регрессии:', accuracy_lr)"
   ]
  },
  {
   "cell_type": "markdown",
   "metadata": {},
   "source": [
    "<div class=\"alert-warning\"> \n",
    "<b>Комментарий ревьюера 💡 </b>\n",
    "\n",
    "Тут тоже хотелось бы видеть перебор значений параметров \n",
    "\n",
    "(и регрессия логистическая)"
   ]
  },
  {
   "cell_type": "markdown",
   "metadata": {},
   "source": [
    "**Модель случайный лес**"
   ]
  },
  {
   "cell_type": "code",
   "execution_count": 17,
   "metadata": {},
   "outputs": [
    {
     "name": "stdout",
     "output_type": "stream",
     "text": [
      "Accuracy лучшей модели случайного леса: 0.7993779160186625 Количество деревьев 3 Глубина: 9 минимальное число образцов в листах 1 минимальное число образцов для сплита 8\n"
     ]
    }
   ],
   "source": [
    "best_model = None\n",
    "best_result = 0\n",
    "for est in range(1, 11):\n",
    "    for depth in range(1, 10):\n",
    "        for samples_leaf in range(1,8):\n",
    "            for samples_split in range (2,10,2):\n",
    "                model = RandomForestClassifier(\n",
    "                random_state=12345, n_estimators=est, max_depth = depth, min_samples_leaf=samples_leaf, min_samples_split=samples_split) \n",
    "                model.fit(features_train,target_train) \n",
    "                result = model.score(features_valid,target_valid) \n",
    "                if result > best_result:\n",
    "                    best_model = model\n",
    "                    best_result = result\n",
    "                    best_depth = depth\n",
    "                    best_est = est\n",
    "                    best_samples_leaf = samples_leaf\n",
    "                    best_samples_split = samples_split\n",
    "print(\"Accuracy лучшей модели случайного леса:\", best_result, \"Количество деревьев\", best_est, \"Глубина:\",best_depth, \"минимальное число образцов в листах\", best_samples_leaf, \"минимальное число образцов для сплита\",best_samples_split)"
   ]
  },
  {
   "cell_type": "code",
   "execution_count": 16,
   "metadata": {},
   "outputs": [
    {
     "name": "stdout",
     "output_type": "stream",
     "text": [
      "Accuracy лучшей модели случайного леса: 0.7993779160186625\n"
     ]
    }
   ],
   "source": [
    "model = RandomForestClassifier(random_state=12345, n_estimators=3, max_depth=9, min_samples_leaf=1, min_samples_split=8) \n",
    "model.fit(features_train,target_train) \n",
    "result = model.score(features_valid,target_valid) \n",
    "print(\"Accuracy лучшей модели случайного леса:\", result)"
   ]
  },
  {
   "cell_type": "markdown",
   "metadata": {},
   "source": [
    "**Подбор гиперпараметров для модели случайного леса с помощью GridSearchCV**"
   ]
  },
  {
   "cell_type": "code",
   "execution_count": 18,
   "metadata": {},
   "outputs": [
    {
     "name": "stdout",
     "output_type": "stream",
     "text": [
      "Лучшие гиперпараметры для модели случайного леса: {'max_depth': 9, 'min_samples_leaf': 5, 'min_samples_split': 8, 'n_estimators': 7}\n"
     ]
    }
   ],
   "source": [
    "model_RFC = RandomForestClassifier()\n",
    "parametrs_RFC = { 'n_estimators': range (1, 11),\n",
    "              'max_depth': range (1,10),\n",
    "              'min_samples_leaf': range (1,8),\n",
    "              'min_samples_split': range (2,10,2) }\n",
    "clf_RFC = GridSearchCV(model_RFC, parametrs_RFC, cv=5)\n",
    "clf_RFC.fit(features_train, target_train) \n",
    "best_params_RFC = clf_RFC.best_params_\n",
    "\n",
    "print('Лучшие гиперпараметры для модели случайного леса:', best_params_RFC)"
   ]
  },
  {
   "cell_type": "code",
   "execution_count": 20,
   "metadata": {},
   "outputs": [
    {
     "name": "stdout",
     "output_type": "stream",
     "text": [
      "Accuracy модели случайного леса: 0.7822706065318819\n"
     ]
    }
   ],
   "source": [
    "model = RandomForestClassifier(random_state=12345, n_estimators=7, max_depth=9, min_samples_leaf=5, min_samples_split=8) \n",
    "model.fit(features_train,target_train) \n",
    "result = model.score(features_valid,target_valid) \n",
    "print(\"Accuracy модели случайного леса:\", result)"
   ]
  },
  {
   "cell_type": "markdown",
   "metadata": {},
   "source": [
    "<div class=\"alert-danger\"> \n",
    "<b>Комментарий ревьюера ❌</b> \n",
    "\n",
    "Аналогично с позапрошлым комментарием, у леса можно много чего глянуть"
   ]
  },
  {
   "cell_type": "markdown",
   "metadata": {},
   "source": [
    "**Промежуточный вывод**"
   ]
  },
  {
   "cell_type": "markdown",
   "metadata": {},
   "source": [
    "Лучше всего показала себя модель случайного леса с количеством деревьев равным 3, глубиной 9, минимальным числом образцов в листах 1, минимальным числом образцов для сплита 8 и Accuracy равным 0.7993779160186625\n",
    "\n",
    "Подбор гиперпараметров с помощью GridSearchCV оказался менее точным с Accuracy равным 0.7822706065318819"
   ]
  },
  {
   "cell_type": "markdown",
   "metadata": {},
   "source": [
    "<div class=\"alert-success\"> \n",
    "<b>Комментарий ревьюера 👍 Вторая итерация </b>\n",
    "\n",
    "Теперь здорово, рассмотрено достаточное кол-во гиперпараметров. Чтобы циклы/подциклы перебора гиперпараметров не были такими громоздкими, можно испспользовать GridSearch (что ты и делаешь)"
   ]
  },
  {
   "cell_type": "markdown",
   "metadata": {},
   "source": [
    "## Проверьте модель на тестовой выборке"
   ]
  },
  {
   "cell_type": "code",
   "execution_count": 36,
   "metadata": {},
   "outputs": [
    {
     "name": "stdout",
     "output_type": "stream",
     "text": [
      "Accuracy RandomForestClassifier: 0.7993779160186625\n"
     ]
    }
   ],
   "source": [
    "model_rfc = RandomForestClassifier(random_state=12345, n_estimators=3, max_depth=9, min_samples_leaf=1, min_samples_split=8)\n",
    "model_rfc.fit(features_train, target_train)\n",
    "predictions_test_rfc = model_rfc.predict(features_test)\n",
    "result_test_rfc = accuracy_score(predictions_test_rfc, target_test)\n",
    "print('Accuracy RandomForestClassifier:', result_test_rfc)"
   ]
  },
  {
   "cell_type": "markdown",
   "metadata": {},
   "source": [
    "Accuracy у модели случайного леса на тестовой выборке равна 0.7993779160186625"
   ]
  },
  {
   "cell_type": "markdown",
   "metadata": {},
   "source": [
    "<div class=\"alert-success\"> \n",
    "<b>Комментарий ревьюера 👍 </b>\n",
    "\n",
    "Модель проверена на тесте"
   ]
  },
  {
   "cell_type": "markdown",
   "metadata": {},
   "source": [
    "## (бонус) Проверьте модели на адекватность"
   ]
  },
  {
   "cell_type": "code",
   "execution_count": 22,
   "metadata": {},
   "outputs": [
    {
     "name": "stdout",
     "output_type": "stream",
     "text": [
      "Accuracy DummyClassifier: 0.6889580093312597\n"
     ]
    }
   ],
   "source": [
    "model_dc = DummyClassifier(strategy='most_frequent', random_state=12345)\n",
    "model_dc.fit(features_train, target_train)\n",
    "result_dc = model_dc.score(features_valid, target_valid)\n",
    "print('Accuracy DummyClassifier:', result_dc)"
   ]
  },
  {
   "cell_type": "markdown",
   "metadata": {},
   "source": [
    "Accuracy модели DummyClassifier ниже, чем у модели RandomForestClassifier - модель адекватна."
   ]
  },
  {
   "cell_type": "markdown",
   "metadata": {},
   "source": [
    "<div class=\"alert-success\"> \n",
    "<b>Комментарий ревьюера 👍 </b>\n",
    "\n",
    "Можно проще, посмотреть на баланс классов: например, если у нас 90 процентов таргета это \"1\", а остальные \"10\" - 0, то мы можем тупо выдавать каждый раз цифру 1 и получать метрику 90 %. Любая модель, которая будет выдавать качество ниже этого - плохая/неадекватная\n",
    "\n",
    "dummy classifier с strategy='most_frequent' работает так же: смотрит на самый часто встречающийся класс и выдает только его (только одно значение - константу, поэтому это константная модель)"
   ]
  },
  {
   "cell_type": "markdown",
   "metadata": {},
   "source": [
    "## Вывод"
   ]
  },
  {
   "cell_type": "markdown",
   "metadata": {},
   "source": [
    "В данном проекте мы рассмотрели три модели DecisionTreeClassifier, LogisticRegression, RandomForestClassifier.   \n",
    "-Датафрейм был разделен на обучающую, тестовую и валидационную выборки в отношении 3:1:1.  \n",
    "-Наилучшим образом показала себя модель RandomForestClassifier с гиперпараметрами random_state=12345, n_estimators=3, max_depth=9, min_samples_leaf=1, min_samples_split=8. Accuracy на тестовой выборке составила 0.793 \n",
    "-Адекватность модели проверена с помощью модели DummyClassifier на тестовой выборке. Accuracy составила: 0.689\n"
   ]
  },
  {
   "cell_type": "markdown",
   "metadata": {},
   "source": [
    "<div class=\"alert-danger\"> \n",
    "<b>Комментарий ревьюера ❌</b>\n",
    "\n",
    "Хороший проект, тобою проделана большая работа, ты молодец!\n",
    "\n",
    "Сперва похвалю за наличие везде промежуточных выводов, комментариев. Хороший код, показываешь навыки владения sklearn. Все требуемые пункты в задании в целом выполнены. Оставил пару желтых комментариев, думаю, это сможет улучшить твой проект. Также можно добавить визуализацию в проект: посмотреть на графиках, как влияет перебор параметров на результат нашей метрики\n",
    "\n",
    "В этом проекте большое внимание уделяется подбору гиперпараметров, но это можно автоматизировать! Советую почитать на досуге про GridsearchCV и Optuna, будет полезно\n",
    "    \n",
    "Также отправляю ссылки на документации некоторых моделей для классификации: https://scikit-learn.org/stable/modules/generated/sklearn.tree.DecisionTreeClassifier.html, https://scikit-learn.org/stable/modules/generated/sklearn.ensemble.RandomForestClassifier.html, https://scikit-learn.org/stable/modules/generated/sklearn.linear_model.LogisticRegression.html\n",
    "    \n",
    "Что обязательно стоит доработать: посмотреть побольше гиперпараметров у решающего дерева и случайного леса\n",
    "    \n",
    "Из курсов и дополнительной информации советую Yandex ML Handbook (https://academy.yandex.ru/handbook/ml) и курсы Евгения Соколова на ФКН (Машинное обучение - 1 с математикой https://github.com/esokolov/ml-course-hse и Основы машинного обучения без глубокой математики https://github.com/hse-ds/iad-intro-ds) - там можешь получить дополнительную информацию, более глубокую, возможно. http://wiki.cs.hse.ru/Заглавная_страница - тут можешь глянуть записи семинаров и лекций и другие материалы соответствующих курсов. \n",
    "    \n",
    "Буду ждать доработок, удачи!"
   ]
  },
  {
   "cell_type": "markdown",
   "metadata": {},
   "source": [
    "<div class=\"alert-success\"> \n",
    "<b>Комментарий ревьюера 👍 Вторая итерация </b>\n",
    "\n",
    "Все критические ошибки исправлены, проект стал еще лучше, принимаю. Успехов в дальнейшей учебе!"
   ]
  },
  {
   "cell_type": "markdown",
   "metadata": {},
   "source": [
    "## Чек-лист готовности проекта"
   ]
  },
  {
   "cell_type": "markdown",
   "metadata": {},
   "source": [
    "Поставьте 'x' в выполненных пунктах. Далее нажмите Shift+Enter."
   ]
  },
  {
   "cell_type": "markdown",
   "metadata": {},
   "source": [
    "- [x] Jupyter Notebook открыт\n",
    "- [x] Весь код исполняется без ошибок\n",
    "- [x] Ячейки с кодом расположены в порядке исполнения\n",
    "- [x] Выполнено задание 1: данные загружены и изучены\n",
    "- [x] Выполнено задание 2: данные разбиты на три выборки\n",
    "- [x] Выполнено задание 3: проведено исследование моделей\n",
    "    - [x] Рассмотрено больше одной модели\n",
    "    - [x] Рассмотрено хотя бы 3 значения гипепараметров для какой-нибудь модели\n",
    "    - [x] Написаны выводы по результатам исследования\n",
    "- [x] Выполнено задание 3: Проведено тестирование\n",
    "- [x] Удалось достичь accuracy не меньше 0.75\n"
   ]
  }
 ],
 "metadata": {
  "ExecuteTimeLog": [
   {
    "duration": 46,
    "start_time": "2023-07-01T11:44:49.810Z"
   },
   {
    "duration": 1048,
    "start_time": "2023-07-01T11:44:57.758Z"
   },
   {
    "duration": 117,
    "start_time": "2023-07-01T11:44:58.808Z"
   },
   {
    "duration": 20,
    "start_time": "2023-07-01T11:44:58.927Z"
   },
   {
    "duration": 37,
    "start_time": "2023-07-01T11:45:56.811Z"
   },
   {
    "duration": 40,
    "start_time": "2023-07-01T11:46:24.326Z"
   },
   {
    "duration": 42,
    "start_time": "2023-07-01T11:47:05.489Z"
   },
   {
    "duration": 9,
    "start_time": "2023-07-01T11:52:53.982Z"
   },
   {
    "duration": 56,
    "start_time": "2023-07-03T18:42:26.868Z"
   },
   {
    "duration": 1182,
    "start_time": "2023-07-03T18:42:41.592Z"
   },
   {
    "duration": 8,
    "start_time": "2023-07-03T18:42:42.776Z"
   },
   {
    "duration": 9,
    "start_time": "2023-07-03T18:56:34.275Z"
   },
   {
    "duration": 11,
    "start_time": "2023-07-03T19:01:11.260Z"
   },
   {
    "duration": 10,
    "start_time": "2023-07-03T19:01:39.396Z"
   },
   {
    "duration": 9,
    "start_time": "2023-07-03T19:02:40.874Z"
   },
   {
    "duration": 9,
    "start_time": "2023-07-03T19:03:36.167Z"
   },
   {
    "duration": 9,
    "start_time": "2023-07-03T19:04:06.660Z"
   },
   {
    "duration": 8,
    "start_time": "2023-07-03T19:04:18.596Z"
   },
   {
    "duration": 10,
    "start_time": "2023-07-03T19:04:23.409Z"
   },
   {
    "duration": 10,
    "start_time": "2023-07-03T19:04:30.914Z"
   },
   {
    "duration": 9,
    "start_time": "2023-07-03T19:04:35.809Z"
   },
   {
    "duration": 1304,
    "start_time": "2023-07-03T21:57:42.753Z"
   },
   {
    "duration": 10,
    "start_time": "2023-07-03T21:57:44.059Z"
   },
   {
    "duration": 98,
    "start_time": "2023-07-03T22:17:26.332Z"
   },
   {
    "duration": 113,
    "start_time": "2023-07-03T22:19:04.961Z"
   },
   {
    "duration": 119,
    "start_time": "2023-07-03T22:20:57.938Z"
   },
   {
    "duration": 42,
    "start_time": "2023-07-03T22:21:22.458Z"
   },
   {
    "duration": 10,
    "start_time": "2023-07-03T22:21:22.502Z"
   },
   {
    "duration": 13,
    "start_time": "2023-07-03T22:21:22.513Z"
   },
   {
    "duration": 47,
    "start_time": "2023-07-03T22:22:57.312Z"
   },
   {
    "duration": 22,
    "start_time": "2023-07-03T22:23:01.793Z"
   },
   {
    "duration": 35,
    "start_time": "2023-07-03T22:27:37.656Z"
   },
   {
    "duration": 9,
    "start_time": "2023-07-03T22:31:55.793Z"
   },
   {
    "duration": 9,
    "start_time": "2023-07-03T22:33:08.609Z"
   },
   {
    "duration": 46,
    "start_time": "2023-07-03T22:33:27.100Z"
   },
   {
    "duration": 7,
    "start_time": "2023-07-03T22:33:31.584Z"
   },
   {
    "duration": 2606,
    "start_time": "2023-07-03T22:37:31.379Z"
   },
   {
    "duration": 2529,
    "start_time": "2023-07-03T22:37:34.195Z"
   },
   {
    "duration": 1464,
    "start_time": "2023-07-05T17:09:07.375Z"
   },
   {
    "duration": 12,
    "start_time": "2023-07-05T17:09:08.841Z"
   },
   {
    "duration": 31,
    "start_time": "2023-07-05T17:09:08.855Z"
   },
   {
    "duration": 20,
    "start_time": "2023-07-05T17:09:08.889Z"
   },
   {
    "duration": 2916,
    "start_time": "2023-07-05T17:09:08.911Z"
   },
   {
    "duration": 3,
    "start_time": "2023-07-05T17:30:33.548Z"
   },
   {
    "duration": 10,
    "start_time": "2023-07-05T17:30:41.736Z"
   },
   {
    "duration": 45,
    "start_time": "2023-07-05T17:30:45.225Z"
   },
   {
    "duration": 10,
    "start_time": "2023-07-05T17:30:45.272Z"
   },
   {
    "duration": 11,
    "start_time": "2023-07-05T17:30:45.284Z"
   },
   {
    "duration": 25,
    "start_time": "2023-07-05T17:30:45.297Z"
   },
   {
    "duration": 12,
    "start_time": "2023-07-05T17:30:45.324Z"
   },
   {
    "duration": 35,
    "start_time": "2023-07-05T17:30:45.338Z"
   },
   {
    "duration": 9,
    "start_time": "2023-07-05T17:30:45.375Z"
   },
   {
    "duration": 2847,
    "start_time": "2023-07-05T17:30:45.385Z"
   },
   {
    "duration": 10,
    "start_time": "2023-07-05T17:32:24.921Z"
   },
   {
    "duration": 52,
    "start_time": "2023-07-05T17:32:28.357Z"
   },
   {
    "duration": 9,
    "start_time": "2023-07-05T17:32:28.414Z"
   },
   {
    "duration": 21,
    "start_time": "2023-07-05T17:32:28.425Z"
   },
   {
    "duration": 9,
    "start_time": "2023-07-05T17:32:28.447Z"
   },
   {
    "duration": 6,
    "start_time": "2023-07-05T17:32:28.458Z"
   },
   {
    "duration": 29,
    "start_time": "2023-07-05T17:32:28.465Z"
   },
   {
    "duration": 10,
    "start_time": "2023-07-05T17:32:28.503Z"
   },
   {
    "duration": 4671,
    "start_time": "2023-07-05T17:32:28.518Z"
   },
   {
    "duration": 145,
    "start_time": "2023-07-05T17:39:36.283Z"
   },
   {
    "duration": 54,
    "start_time": "2023-07-05T17:39:47.563Z"
   },
   {
    "duration": 38,
    "start_time": "2023-07-05T17:39:56.082Z"
   },
   {
    "duration": 171,
    "start_time": "2023-07-05T17:40:08.386Z"
   },
   {
    "duration": 49,
    "start_time": "2023-07-05T17:40:29.235Z"
   },
   {
    "duration": 12,
    "start_time": "2023-07-05T17:40:29.286Z"
   },
   {
    "duration": 8,
    "start_time": "2023-07-05T17:40:29.299Z"
   },
   {
    "duration": 29,
    "start_time": "2023-07-05T17:40:29.309Z"
   },
   {
    "duration": 13,
    "start_time": "2023-07-05T17:40:29.340Z"
   },
   {
    "duration": 170,
    "start_time": "2023-07-05T17:40:29.354Z"
   },
   {
    "duration": 9,
    "start_time": "2023-07-05T17:40:29.526Z"
   },
   {
    "duration": 4873,
    "start_time": "2023-07-05T17:40:29.537Z"
   },
   {
    "duration": 219,
    "start_time": "2023-07-05T17:41:10.355Z"
   },
   {
    "duration": 170,
    "start_time": "2023-07-05T17:43:14.766Z"
   },
   {
    "duration": 78,
    "start_time": "2023-07-05T20:53:13.322Z"
   },
   {
    "duration": 1794,
    "start_time": "2023-07-05T20:53:23.329Z"
   },
   {
    "duration": 114,
    "start_time": "2023-07-05T20:53:33.385Z"
   },
   {
    "duration": 11,
    "start_time": "2023-07-05T20:53:58.602Z"
   },
   {
    "duration": 49,
    "start_time": "2023-07-05T20:54:08.077Z"
   },
   {
    "duration": 9,
    "start_time": "2023-07-05T20:54:08.128Z"
   },
   {
    "duration": 9,
    "start_time": "2023-07-05T20:54:08.138Z"
   },
   {
    "duration": 25,
    "start_time": "2023-07-05T20:54:08.149Z"
   },
   {
    "duration": 11,
    "start_time": "2023-07-05T20:54:08.176Z"
   },
   {
    "duration": 239,
    "start_time": "2023-07-05T20:54:08.188Z"
   },
   {
    "duration": 13,
    "start_time": "2023-07-05T20:54:08.430Z"
   },
   {
    "duration": 0,
    "start_time": "2023-07-05T20:54:08.445Z"
   },
   {
    "duration": 307,
    "start_time": "2023-07-05T20:54:17.572Z"
   },
   {
    "duration": 54,
    "start_time": "2023-07-05T20:59:38.889Z"
   },
   {
    "duration": 69,
    "start_time": "2023-07-05T21:00:09.225Z"
   },
   {
    "duration": 216,
    "start_time": "2023-07-05T21:05:57.220Z"
   },
   {
    "duration": 52,
    "start_time": "2023-07-05T21:10:28.675Z"
   },
   {
    "duration": 6,
    "start_time": "2023-07-05T21:13:11.078Z"
   },
   {
    "duration": 2651,
    "start_time": "2023-07-05T21:30:36.347Z"
   },
   {
    "duration": 2563,
    "start_time": "2023-07-05T21:30:57.535Z"
   },
   {
    "duration": 57,
    "start_time": "2023-07-05T21:31:58.531Z"
   },
   {
    "duration": 6,
    "start_time": "2023-07-05T21:32:21.716Z"
   },
   {
    "duration": 1130,
    "start_time": "2023-07-08T10:43:37.161Z"
   },
   {
    "duration": 7,
    "start_time": "2023-07-08T10:43:38.293Z"
   },
   {
    "duration": 3,
    "start_time": "2023-07-08T10:43:38.302Z"
   },
   {
    "duration": 6,
    "start_time": "2023-07-08T10:43:38.306Z"
   },
   {
    "duration": 8,
    "start_time": "2023-07-08T10:43:38.314Z"
   },
   {
    "duration": 162,
    "start_time": "2023-07-08T10:43:38.323Z"
   },
   {
    "duration": 35,
    "start_time": "2023-07-08T10:43:38.486Z"
   },
   {
    "duration": 2470,
    "start_time": "2023-07-08T10:43:38.522Z"
   },
   {
    "duration": 51,
    "start_time": "2023-07-08T10:43:40.993Z"
   },
   {
    "duration": 4,
    "start_time": "2023-07-08T10:43:41.046Z"
   },
   {
    "duration": 128,
    "start_time": "2023-07-08T10:43:41.051Z"
   },
   {
    "duration": 153,
    "start_time": "2023-07-08T10:44:05.474Z"
   },
   {
    "duration": 187,
    "start_time": "2023-07-08T10:44:43.988Z"
   },
   {
    "duration": 312,
    "start_time": "2023-07-08T10:48:32.633Z"
   },
   {
    "duration": 312,
    "start_time": "2023-07-08T10:49:56.263Z"
   },
   {
    "duration": 303,
    "start_time": "2023-07-08T10:51:49.114Z"
   },
   {
    "duration": 94,
    "start_time": "2023-07-08T10:52:16.872Z"
   },
   {
    "duration": 142,
    "start_time": "2023-07-08T10:52:44.997Z"
   },
   {
    "duration": 171,
    "start_time": "2023-07-08T10:53:18.037Z"
   },
   {
    "duration": 157,
    "start_time": "2023-07-08T10:53:32.406Z"
   },
   {
    "duration": 181,
    "start_time": "2023-07-08T10:53:44.275Z"
   },
   {
    "duration": 316,
    "start_time": "2023-07-08T10:53:51.493Z"
   },
   {
    "duration": 437,
    "start_time": "2023-07-08T10:58:03.563Z"
   },
   {
    "duration": 30,
    "start_time": "2023-07-08T13:24:19.666Z"
   },
   {
    "duration": 101,
    "start_time": "2023-07-08T13:59:36.907Z"
   },
   {
    "duration": 40,
    "start_time": "2023-07-08T13:59:56.702Z"
   },
   {
    "duration": 41124,
    "start_time": "2023-07-08T14:00:05.057Z"
   },
   {
    "duration": 93,
    "start_time": "2023-07-08T14:02:34.228Z"
   },
   {
    "duration": 94,
    "start_time": "2023-07-08T14:02:39.547Z"
   },
   {
    "duration": 124,
    "start_time": "2023-07-08T14:02:46.232Z"
   },
   {
    "duration": 90,
    "start_time": "2023-07-08T14:02:50.272Z"
   },
   {
    "duration": 134,
    "start_time": "2023-07-08T14:06:47.397Z"
   },
   {
    "duration": 97,
    "start_time": "2023-07-08T14:07:26.706Z"
   },
   {
    "duration": 189,
    "start_time": "2023-07-08T14:07:55.830Z"
   },
   {
    "duration": 85964,
    "start_time": "2023-07-08T14:08:03.282Z"
   },
   {
    "duration": 84,
    "start_time": "2023-07-08T14:11:56.972Z"
   },
   {
    "duration": 80,
    "start_time": "2023-07-08T14:12:01.161Z"
   },
   {
    "duration": 0,
    "start_time": "2023-07-08T14:15:06.648Z"
   },
   {
    "duration": 9,
    "start_time": "2023-07-08T14:15:22.189Z"
   },
   {
    "duration": 89346,
    "start_time": "2023-07-08T14:15:32.537Z"
   },
   {
    "duration": 11,
    "start_time": "2023-07-08T14:17:31.593Z"
   },
   {
    "duration": 35,
    "start_time": "2023-07-08T14:17:41.893Z"
   },
   {
    "duration": 85,
    "start_time": "2023-07-08T14:18:32.098Z"
   },
   {
    "duration": 0,
    "start_time": "2023-07-08T14:27:48.639Z"
   },
   {
    "duration": 1421,
    "start_time": "2023-07-08T14:27:50.413Z"
   },
   {
    "duration": 9,
    "start_time": "2023-07-08T14:30:22.988Z"
   },
   {
    "duration": 12,
    "start_time": "2023-07-08T14:31:06.235Z"
   },
   {
    "duration": 9,
    "start_time": "2023-07-08T14:31:57.591Z"
   },
   {
    "duration": 272668,
    "start_time": "2023-07-08T14:34:41.739Z"
   },
   {
    "duration": 84,
    "start_time": "2023-07-08T14:41:20.892Z"
   },
   {
    "duration": 17,
    "start_time": "2023-07-08T14:43:04.831Z"
   },
   {
    "duration": 77238,
    "start_time": "2023-07-08T14:43:42.116Z"
   },
   {
    "duration": 13118,
    "start_time": "2023-07-08T14:45:15.656Z"
   },
   {
    "duration": 8468,
    "start_time": "2023-07-08T14:45:53.058Z"
   },
   {
    "duration": 6983,
    "start_time": "2023-07-08T14:46:14.078Z"
   },
   {
    "duration": 9705,
    "start_time": "2023-07-08T14:46:36.231Z"
   },
   {
    "duration": 264235,
    "start_time": "2023-07-08T14:47:01.983Z"
   },
   {
    "duration": 1044,
    "start_time": "2023-07-08T14:51:39.743Z"
   },
   {
    "duration": 7,
    "start_time": "2023-07-08T14:51:40.789Z"
   },
   {
    "duration": 6,
    "start_time": "2023-07-08T14:51:40.797Z"
   },
   {
    "duration": 8,
    "start_time": "2023-07-08T14:51:40.805Z"
   },
   {
    "duration": 13,
    "start_time": "2023-07-08T14:51:40.814Z"
   },
   {
    "duration": 436,
    "start_time": "2023-07-08T14:51:40.828Z"
   },
   {
    "duration": 81540,
    "start_time": "2023-07-08T14:51:41.266Z"
   },
   {
    "duration": 77,
    "start_time": "2023-07-08T14:53:02.808Z"
   },
   {
    "duration": 1337,
    "start_time": "2023-07-08T14:53:02.886Z"
   },
   {
    "duration": 153422,
    "start_time": "2023-07-08T14:53:04.226Z"
   },
   {
    "duration": 0,
    "start_time": "2023-07-08T14:55:37.650Z"
   },
   {
    "duration": 0,
    "start_time": "2023-07-08T14:55:37.651Z"
   },
   {
    "duration": 0,
    "start_time": "2023-07-08T14:55:37.651Z"
   },
   {
    "duration": 0,
    "start_time": "2023-07-08T14:55:37.653Z"
   },
   {
    "duration": 79867,
    "start_time": "2023-07-08T14:55:49.144Z"
   },
   {
    "duration": 285002,
    "start_time": "2023-07-08T14:57:55.612Z"
   },
   {
    "duration": 5216,
    "start_time": "2023-07-08T15:21:08.421Z"
   },
   {
    "duration": 287789,
    "start_time": "2023-07-08T15:29:15.820Z"
   },
   {
    "duration": 37027,
    "start_time": "2023-07-08T15:42:43.736Z"
   },
   {
    "duration": 24,
    "start_time": "2023-07-08T15:44:08.151Z"
   },
   {
    "duration": 37181,
    "start_time": "2023-07-08T15:45:51.752Z"
   },
   {
    "duration": 176003,
    "start_time": "2023-07-08T15:46:46.330Z"
   },
   {
    "duration": 29,
    "start_time": "2023-07-08T15:50:27.127Z"
   },
   {
    "duration": 26,
    "start_time": "2023-07-08T15:57:41.561Z"
   },
   {
    "duration": 28,
    "start_time": "2023-07-08T16:01:37.123Z"
   },
   {
    "duration": 6,
    "start_time": "2023-07-08T16:01:54.731Z"
   },
   {
    "duration": 18461,
    "start_time": "2023-07-08T16:09:46.794Z"
   },
   {
    "duration": 85,
    "start_time": "2023-07-08T16:12:04.342Z"
   },
   {
    "duration": 3514,
    "start_time": "2023-07-08T16:12:38.525Z"
   },
   {
    "duration": 10,
    "start_time": "2023-07-08T16:13:34.782Z"
   },
   {
    "duration": 41,
    "start_time": "2023-07-08T16:13:46.121Z"
   },
   {
    "duration": 25,
    "start_time": "2023-07-08T16:13:56.294Z"
   },
   {
    "duration": 27,
    "start_time": "2023-07-08T16:14:08.543Z"
   },
   {
    "duration": 2715,
    "start_time": "2023-07-08T16:16:57.173Z"
   },
   {
    "duration": 0,
    "start_time": "2023-07-08T16:16:59.890Z"
   },
   {
    "duration": 30,
    "start_time": "2023-07-08T16:17:04.758Z"
   },
   {
    "duration": 3525,
    "start_time": "2023-07-08T16:19:14.322Z"
   },
   {
    "duration": 24870,
    "start_time": "2023-07-08T16:19:25.130Z"
   },
   {
    "duration": 43,
    "start_time": "2023-07-08T16:21:08.420Z"
   },
   {
    "duration": 17,
    "start_time": "2023-07-08T16:31:31.614Z"
   },
   {
    "duration": 2206,
    "start_time": "2023-08-07T17:42:47.543Z"
   },
   {
    "duration": 1,
    "start_time": "2023-08-07T17:42:49.751Z"
   },
   {
    "duration": 3,
    "start_time": "2023-08-07T17:43:00.760Z"
   },
   {
    "duration": 393,
    "start_time": "2023-08-07T17:43:01.700Z"
   },
   {
    "duration": 44,
    "start_time": "2023-08-07T17:43:03.375Z"
   },
   {
    "duration": 27,
    "start_time": "2023-08-07T17:44:14.638Z"
   },
   {
    "duration": 31,
    "start_time": "2023-08-07T17:44:29.173Z"
   },
   {
    "duration": 37,
    "start_time": "2023-08-07T17:45:07.377Z"
   }
  ],
  "kernelspec": {
   "display_name": "Python 3 (ipykernel)",
   "language": "python",
   "name": "python3"
  },
  "language_info": {
   "codemirror_mode": {
    "name": "ipython",
    "version": 3
   },
   "file_extension": ".py",
   "mimetype": "text/x-python",
   "name": "python",
   "nbconvert_exporter": "python",
   "pygments_lexer": "ipython3",
   "version": "3.9.5"
  },
  "toc": {
   "base_numbering": 1,
   "nav_menu": {},
   "number_sections": true,
   "sideBar": true,
   "skip_h1_title": true,
   "title_cell": "Table of Contents",
   "title_sidebar": "Contents",
   "toc_cell": false,
   "toc_position": {},
   "toc_section_display": true,
   "toc_window_display": false
  }
 },
 "nbformat": 4,
 "nbformat_minor": 2
}
