{
 "cells": [
  {
   "cell_type": "markdown",
   "metadata": {},
   "source": [
    "# Отток клиентов"
   ]
  },
  {
   "cell_type": "markdown",
   "metadata": {},
   "source": [
    "Из «Бета-Банка» стали уходить клиенты. Каждый месяц. Немного, но заметно. Банковские маркетологи посчитали: сохранять текущих клиентов дешевле, чем привлекать новых.\n",
    "\n",
    "Нужно спрогнозировать, уйдёт клиент из банка в ближайшее время или нет. Вам предоставлены исторические данные о поведении клиентов и расторжении договоров с банком. \n",
    "\n",
    "Постройте модель с предельно большим значением *F1*-меры. Чтобы сдать проект успешно, нужно довести метрику до 0.59. Проверьте *F1*-меру на тестовой выборке самостоятельно.\n",
    "\n",
    "Дополнительно измеряйте *AUC-ROC*, сравнивайте её значение с *F1*-мерой.\n",
    "\n",
    "Источник данных: [https://www.kaggle.com/barelydedicated/bank-customer-churn-modeling](https://www.kaggle.com/barelydedicated/bank-customer-churn-modeling)"
   ]
  },
  {
   "cell_type": "markdown",
   "metadata": {
    "toc": true
   },
   "source": [
    "<h1>Содержание<span class=\"tocSkip\"></span></h1>\n",
    "<div class=\"toc\"><ul class=\"toc-item\"><li><span><a href=\"#Подготовка-данных\" data-toc-modified-id=\"Подготовка-данных-1\"><span class=\"toc-item-num\">1&nbsp;&nbsp;</span>Подготовка данных</a></span><ul class=\"toc-item\"><li><span><a href=\"#Поиск-дубликатов\" data-toc-modified-id=\"Поиск-дубликатов-1.1\"><span class=\"toc-item-num\">1.1&nbsp;&nbsp;</span>Поиск дубликатов</a></span></li><li><span><a href=\"#Обработка-пропусков\" data-toc-modified-id=\"Обработка-пропусков-1.2\"><span class=\"toc-item-num\">1.2&nbsp;&nbsp;</span>Обработка пропусков</a></span></li><li><span><a href=\"#Удаление-излишних-данных\" data-toc-modified-id=\"Удаление-излишних-данных-1.3\"><span class=\"toc-item-num\">1.3&nbsp;&nbsp;</span>Удаление излишних данных</a></span></li><li><span><a href=\"#Кодирование\" data-toc-modified-id=\"Кодирование-1.4\"><span class=\"toc-item-num\">1.4&nbsp;&nbsp;</span>Кодирование</a></span></li></ul></li><li><span><a href=\"#Исследование-задачи\" data-toc-modified-id=\"Исследование-задачи-2\"><span class=\"toc-item-num\">2&nbsp;&nbsp;</span>Исследование задачи</a></span><ul class=\"toc-item\"><li><span><a href=\"#Разделение-данных-на-выборки\" data-toc-modified-id=\"Разделение-данных-на-выборки-2.1\"><span class=\"toc-item-num\">2.1&nbsp;&nbsp;</span>Разделение данных на выборки</a></span></li><li><span><a href=\"#Масштабирование-признаков\" data-toc-modified-id=\"Масштабирование-признаков-2.2\"><span class=\"toc-item-num\">2.2&nbsp;&nbsp;</span>Масштабирование признаков</a></span></li><li><span><a href=\"#Инициализация-моделей\" data-toc-modified-id=\"Инициализация-моделей-2.3\"><span class=\"toc-item-num\">2.3&nbsp;&nbsp;</span>Инициализация моделей</a></span><ul class=\"toc-item\"><li><span><a href=\"#DecisionTreeClassifier\" data-toc-modified-id=\"DecisionTreeClassifier-2.3.1\"><span class=\"toc-item-num\">2.3.1&nbsp;&nbsp;</span>DecisionTreeClassifier</a></span></li><li><span><a href=\"#RandomForestClassifier\" data-toc-modified-id=\"RandomForestClassifier-2.3.2\"><span class=\"toc-item-num\">2.3.2&nbsp;&nbsp;</span>RandomForestClassifier</a></span></li><li><span><a href=\"#LogisticRegression\" data-toc-modified-id=\"LogisticRegression-2.3.3\"><span class=\"toc-item-num\">2.3.3&nbsp;&nbsp;</span>LogisticRegression</a></span></li></ul></li><li><span><a href=\"#Промежуточный-Вывод\" data-toc-modified-id=\"Промежуточный-Вывод-2.4\"><span class=\"toc-item-num\">2.4&nbsp;&nbsp;</span>Промежуточный Вывод</a></span></li></ul></li><li><span><a href=\"#Борьба-с-дисбалансом\" data-toc-modified-id=\"Борьба-с-дисбалансом-3\"><span class=\"toc-item-num\">3&nbsp;&nbsp;</span>Борьба с дисбалансом</a></span><ul class=\"toc-item\"><li><span><a href=\"#Взвешивание-классов\" data-toc-modified-id=\"Взвешивание-классов-3.1\"><span class=\"toc-item-num\">3.1&nbsp;&nbsp;</span>Взвешивание классов</a></span></li><li><span><a href=\"#Downsampling\" data-toc-modified-id=\"Downsampling-3.2\"><span class=\"toc-item-num\">3.2&nbsp;&nbsp;</span>Downsampling</a></span></li><li><span><a href=\"#Upsampling\" data-toc-modified-id=\"Upsampling-3.3\"><span class=\"toc-item-num\">3.3&nbsp;&nbsp;</span>Upsampling</a></span></li><li><span><a href=\"#Промежуточный-Вывод\" data-toc-modified-id=\"Промежуточный-Вывод-3.4\"><span class=\"toc-item-num\">3.4&nbsp;&nbsp;</span>Промежуточный Вывод</a></span></li></ul></li><li><span><a href=\"#Тестирование-модели\" data-toc-modified-id=\"Тестирование-модели-4\"><span class=\"toc-item-num\">4&nbsp;&nbsp;</span>Тестирование модели</a></span></li><li><span><a href=\"#Вывод\" data-toc-modified-id=\"Вывод-5\"><span class=\"toc-item-num\">5&nbsp;&nbsp;</span>Вывод</a></span></li><li><span><a href=\"#Чек-лист-готовности-проекта\" data-toc-modified-id=\"Чек-лист-готовности-проекта-6\"><span class=\"toc-item-num\">6&nbsp;&nbsp;</span>Чек-лист готовности проекта</a></span></li></ul></div>"
   ]
  },
  {
   "cell_type": "markdown",
   "metadata": {},
   "source": [
    "## Подготовка данных"
   ]
  },
  {
   "cell_type": "code",
   "execution_count": 1,
   "metadata": {},
   "outputs": [
    {
     "name": "stdout",
     "output_type": "stream",
     "text": [
      "Collecting c\n",
      "  Downloading c-0.1.0-py3-none-any.whl (13 kB)\n",
      "Collecting click==6.7\n",
      "  Downloading click-6.7-py2.py3-none-any.whl (71 kB)\n",
      "\u001b[K     |████████████████████████████████| 71 kB 1.9 MB/s eta 0:00:01\n",
      "\u001b[?25hCollecting ipython==7.2.0\n",
      "  Downloading ipython-7.2.0-py3-none-any.whl (765 kB)\n",
      "\u001b[K     |████████████████████████████████| 765 kB 8.8 MB/s eta 0:00:01\n",
      "\u001b[?25hCollecting scipy==1.0.0\n",
      "  Downloading scipy-1.0.0.tar.gz (15.2 MB)\n",
      "\u001b[K     |████████████████████████████████| 15.2 MB 960 kB/s eta 0:00:011\n",
      "\u001b[?25hCollecting matplotlib==2.2.0\n",
      "  Downloading matplotlib-2.2.0.tar.gz (37.2 MB)\n",
      "\u001b[K     |████████████████████████████████| 37.2 MB 807 kB/s eta 0:00:011\n",
      "\u001b[31m    ERROR: Command errored out with exit status 1:\n",
      "     command: /opt/conda/bin/python3.9 -c 'import io, os, sys, setuptools, tokenize; sys.argv[0] = '\"'\"'/tmp/pip-install-4uory5qg/matplotlib_0e14b01472e04758990c07c830ade651/setup.py'\"'\"'; __file__='\"'\"'/tmp/pip-install-4uory5qg/matplotlib_0e14b01472e04758990c07c830ade651/setup.py'\"'\"';f = getattr(tokenize, '\"'\"'open'\"'\"', open)(__file__) if os.path.exists(__file__) else io.StringIO('\"'\"'from setuptools import setup; setup()'\"'\"');code = f.read().replace('\"'\"'\\r\\n'\"'\"', '\"'\"'\\n'\"'\"');f.close();exec(compile(code, __file__, '\"'\"'exec'\"'\"'))' egg_info --egg-base /tmp/pip-pip-egg-info-bnfl7ly0\n",
      "         cwd: /tmp/pip-install-4uory5qg/matplotlib_0e14b01472e04758990c07c830ade651/\n",
      "    Complete output (65 lines):\n",
      "    IMPORTANT WARNING:\n",
      "        pkg-config is not installed.\n",
      "        matplotlib may not be able to find some of its dependencies\n",
      "    ============================================================================\n",
      "    Edit setup.cfg to change the build options\n",
      "    \n",
      "    BUILDING MATPLOTLIB\n",
      "                matplotlib: yes [2.2.0]\n",
      "                    python: yes [3.9.5 | packaged by conda-forge | (default, Jun\n",
      "                            19 2021, 00:32:32)  [GCC 9.3.0]]\n",
      "                  platform: yes [linux]\n",
      "    \n",
      "    REQUIRED DEPENDENCIES AND EXTENSIONS\n",
      "                     numpy: yes [version 1.21.1]\n",
      "          install_requires: yes [handled by setuptools]\n",
      "                    libagg: yes [pkg-config information for 'libagg' could not\n",
      "                            be found. Using local copy.]\n",
      "                  freetype: no  [The C/C++ header for freetype2 (ft2build.h)\n",
      "                            could not be found.  You may need to install the\n",
      "                            development package.]\n",
      "                       png: no  [pkg-config information for 'libpng' could not\n",
      "                            be found.]\n",
      "                     qhull: yes [pkg-config information for 'libqhull' could not\n",
      "                            be found. Using local copy.]\n",
      "    \n",
      "    OPTIONAL SUBPACKAGES\n",
      "               sample_data: yes [installing]\n",
      "                  toolkits: yes [installing]\n",
      "                     tests: no  [skipping due to configuration]\n",
      "            toolkits_tests: no  [skipping due to configuration]\n",
      "    \n",
      "    OPTIONAL BACKEND EXTENSIONS\n",
      "                    macosx: no  [Mac OS-X only]\n",
      "                    qt5agg: no  [PySide2 not found; PyQt5 not found]\n",
      "                    qt4agg: no  [PySide not found; PyQt4 not found]\n",
      "                   gtk3agg: no  [Requires pygobject to be installed.]\n",
      "    Traceback (most recent call last):\n",
      "      File \"<string>\", line 1, in <module>\n",
      "      File \"/tmp/pip-install-4uory5qg/matplotlib_0e14b01472e04758990c07c830ade651/setup.py\", line 197, in <module>\n",
      "        msg = pkg.install_help_msg()\n",
      "      File \"/tmp/pip-install-4uory5qg/matplotlib_0e14b01472e04758990c07c830ade651/setupext.py\", line 592, in install_help_msg\n",
      "        release = platform.linux_distribution()[0].lower()\n",
      "    AttributeError: module 'platform' has no attribute 'linux_distribution'\n",
      "                 gtk3cairo: no  [Requires cairocffi or pycairo to be installed.]\n",
      "                    gtkagg: no  [Requires pygtk]\n",
      "                     tkagg: yes [installing; run-time loading from Python Tcl /\n",
      "                            Tk]\n",
      "                     wxagg: no  [requires wxPython]\n",
      "                       gtk: no  [Requires pygtk]\n",
      "                       agg: yes [installing]\n",
      "                     cairo: no  [cairocffi or pycairo not found]\n",
      "                 windowing: no  [Microsoft Windows only]\n",
      "    \n",
      "    OPTIONAL LATEX DEPENDENCIES\n",
      "                    dvipng: no\n",
      "               ghostscript: no\n",
      "                     latex: no\n",
      "                   pdftops: no\n",
      "    \n",
      "    OPTIONAL PACKAGE DATA\n",
      "                      dlls: no  [skipping due to configuration]\n",
      "    \n",
      "    ============================================================================\n",
      "                            * The following required packages can not be built:\n",
      "                            * freetype, png\n",
      "    ----------------------------------------\u001b[0m\n",
      "\u001b[33mWARNING: Discarding https://files.pythonhosted.org/packages/51/15/a397b941318d7d7f9cf2acbb4a35ce53681ec9799068f5ea57d91a6eea7e/matplotlib-2.2.0.tar.gz#sha256=d744e56eb6742a4a3a9dbbb22c71bd0d6262543a2817fb35c9ed21ff4d06e4ce (from https://pypi.org/simple/matplotlib/). Command errored out with exit status 1: python setup.py egg_info Check the logs for full command output.\u001b[0m\n",
      "\u001b[?25hCollecting c\n",
      "  Downloading c-0.0.6-py3-none-any.whl (13 kB)\n",
      "  Downloading c-0.0.5-py3-none-any.whl (12 kB)\n",
      "  Downloading c-0.0.4-py3-none-any.whl (12 kB)\n",
      "  Downloading c-0.0.3-py3-none-any.whl (13 kB)\n",
      "  Downloading c-0.0.2-py3-none-any.whl (12 kB)\n",
      "Collecting pyparsing==2.2.0\n",
      "  Downloading pyparsing-2.2.0-py2.py3-none-any.whl (56 kB)\n",
      "\u001b[K     |████████████████████████████████| 56 kB 3.2 MB/s  eta 0:00:01\n",
      "\u001b[?25hCollecting python-dateutil==2.7.0\n",
      "  Downloading python_dateutil-2.7.0-py2.py3-none-any.whl (207 kB)\n",
      "\u001b[K     |████████████████████████████████| 207 kB 37.5 MB/s eta 0:00:01\n",
      "\u001b[?25hCollecting six==1.11.0\n",
      "  Downloading six-1.11.0-py2.py3-none-any.whl (10 kB)\n",
      "Collecting c\n",
      "  Downloading c-0.0.1-py3-none-any.whl (11 kB)\n",
      "Installing collected packages: c\n",
      "Successfully installed c-0.0.1\n"
     ]
    }
   ],
   "source": [
    "!pip install c\n",
    "\n",
    "import pandas as pd\n",
    "import seaborn as sns\n",
    "import matplotlib.pyplot as plt\n",
    "import category_encoders as ce\n",
    "\n",
    "from sklearn.tree import DecisionTreeClassifier\n",
    "from sklearn.ensemble import RandomForestClassifier\n",
    "from sklearn.linear_model import LogisticRegression\n",
    "from sklearn.model_selection import train_test_split,GridSearchCV\n",
    "from sklearn.preprocessing import OrdinalEncoder,StandardScaler,OneHotEncoder\n",
    "from sklearn.utils import shuffle\n",
    "from sklearn.metrics import f1_score,roc_auc_score,roc_curve"
   ]
  },
  {
   "cell_type": "code",
   "execution_count": 2,
   "metadata": {},
   "outputs": [],
   "source": [
    "data = pd.read_csv('/datasets/Churn.csv')"
   ]
  },
  {
   "cell_type": "code",
   "execution_count": 3,
   "metadata": {},
   "outputs": [
    {
     "name": "stdout",
     "output_type": "stream",
     "text": [
      "<class 'pandas.core.frame.DataFrame'>\n",
      "RangeIndex: 10000 entries, 0 to 9999\n",
      "Data columns (total 14 columns):\n",
      " #   Column           Non-Null Count  Dtype  \n",
      "---  ------           --------------  -----  \n",
      " 0   RowNumber        10000 non-null  int64  \n",
      " 1   CustomerId       10000 non-null  int64  \n",
      " 2   Surname          10000 non-null  object \n",
      " 3   CreditScore      10000 non-null  int64  \n",
      " 4   Geography        10000 non-null  object \n",
      " 5   Gender           10000 non-null  object \n",
      " 6   Age              10000 non-null  int64  \n",
      " 7   Tenure           9091 non-null   float64\n",
      " 8   Balance          10000 non-null  float64\n",
      " 9   NumOfProducts    10000 non-null  int64  \n",
      " 10  HasCrCard        10000 non-null  int64  \n",
      " 11  IsActiveMember   10000 non-null  int64  \n",
      " 12  EstimatedSalary  10000 non-null  float64\n",
      " 13  Exited           10000 non-null  int64  \n",
      "dtypes: float64(3), int64(8), object(3)\n",
      "memory usage: 1.1+ MB\n"
     ]
    },
    {
     "data": {
      "text/html": [
       "<div>\n",
       "<style scoped>\n",
       "    .dataframe tbody tr th:only-of-type {\n",
       "        vertical-align: middle;\n",
       "    }\n",
       "\n",
       "    .dataframe tbody tr th {\n",
       "        vertical-align: top;\n",
       "    }\n",
       "\n",
       "    .dataframe thead th {\n",
       "        text-align: right;\n",
       "    }\n",
       "</style>\n",
       "<table border=\"1\" class=\"dataframe\">\n",
       "  <thead>\n",
       "    <tr style=\"text-align: right;\">\n",
       "      <th></th>\n",
       "      <th>RowNumber</th>\n",
       "      <th>CustomerId</th>\n",
       "      <th>Surname</th>\n",
       "      <th>CreditScore</th>\n",
       "      <th>Geography</th>\n",
       "      <th>Gender</th>\n",
       "      <th>Age</th>\n",
       "      <th>Tenure</th>\n",
       "      <th>Balance</th>\n",
       "      <th>NumOfProducts</th>\n",
       "      <th>HasCrCard</th>\n",
       "      <th>IsActiveMember</th>\n",
       "      <th>EstimatedSalary</th>\n",
       "      <th>Exited</th>\n",
       "    </tr>\n",
       "  </thead>\n",
       "  <tbody>\n",
       "    <tr>\n",
       "      <th>0</th>\n",
       "      <td>1</td>\n",
       "      <td>15634602</td>\n",
       "      <td>Hargrave</td>\n",
       "      <td>619</td>\n",
       "      <td>France</td>\n",
       "      <td>Female</td>\n",
       "      <td>42</td>\n",
       "      <td>2.0</td>\n",
       "      <td>0.00</td>\n",
       "      <td>1</td>\n",
       "      <td>1</td>\n",
       "      <td>1</td>\n",
       "      <td>101348.88</td>\n",
       "      <td>1</td>\n",
       "    </tr>\n",
       "    <tr>\n",
       "      <th>1</th>\n",
       "      <td>2</td>\n",
       "      <td>15647311</td>\n",
       "      <td>Hill</td>\n",
       "      <td>608</td>\n",
       "      <td>Spain</td>\n",
       "      <td>Female</td>\n",
       "      <td>41</td>\n",
       "      <td>1.0</td>\n",
       "      <td>83807.86</td>\n",
       "      <td>1</td>\n",
       "      <td>0</td>\n",
       "      <td>1</td>\n",
       "      <td>112542.58</td>\n",
       "      <td>0</td>\n",
       "    </tr>\n",
       "    <tr>\n",
       "      <th>2</th>\n",
       "      <td>3</td>\n",
       "      <td>15619304</td>\n",
       "      <td>Onio</td>\n",
       "      <td>502</td>\n",
       "      <td>France</td>\n",
       "      <td>Female</td>\n",
       "      <td>42</td>\n",
       "      <td>8.0</td>\n",
       "      <td>159660.80</td>\n",
       "      <td>3</td>\n",
       "      <td>1</td>\n",
       "      <td>0</td>\n",
       "      <td>113931.57</td>\n",
       "      <td>1</td>\n",
       "    </tr>\n",
       "    <tr>\n",
       "      <th>3</th>\n",
       "      <td>4</td>\n",
       "      <td>15701354</td>\n",
       "      <td>Boni</td>\n",
       "      <td>699</td>\n",
       "      <td>France</td>\n",
       "      <td>Female</td>\n",
       "      <td>39</td>\n",
       "      <td>1.0</td>\n",
       "      <td>0.00</td>\n",
       "      <td>2</td>\n",
       "      <td>0</td>\n",
       "      <td>0</td>\n",
       "      <td>93826.63</td>\n",
       "      <td>0</td>\n",
       "    </tr>\n",
       "    <tr>\n",
       "      <th>4</th>\n",
       "      <td>5</td>\n",
       "      <td>15737888</td>\n",
       "      <td>Mitchell</td>\n",
       "      <td>850</td>\n",
       "      <td>Spain</td>\n",
       "      <td>Female</td>\n",
       "      <td>43</td>\n",
       "      <td>2.0</td>\n",
       "      <td>125510.82</td>\n",
       "      <td>1</td>\n",
       "      <td>1</td>\n",
       "      <td>1</td>\n",
       "      <td>79084.10</td>\n",
       "      <td>0</td>\n",
       "    </tr>\n",
       "  </tbody>\n",
       "</table>\n",
       "</div>"
      ],
      "text/plain": [
       "   RowNumber  CustomerId   Surname  CreditScore Geography  Gender  Age  \\\n",
       "0          1    15634602  Hargrave          619    France  Female   42   \n",
       "1          2    15647311      Hill          608     Spain  Female   41   \n",
       "2          3    15619304      Onio          502    France  Female   42   \n",
       "3          4    15701354      Boni          699    France  Female   39   \n",
       "4          5    15737888  Mitchell          850     Spain  Female   43   \n",
       "\n",
       "   Tenure    Balance  NumOfProducts  HasCrCard  IsActiveMember  \\\n",
       "0     2.0       0.00              1          1               1   \n",
       "1     1.0   83807.86              1          0               1   \n",
       "2     8.0  159660.80              3          1               0   \n",
       "3     1.0       0.00              2          0               0   \n",
       "4     2.0  125510.82              1          1               1   \n",
       "\n",
       "   EstimatedSalary  Exited  \n",
       "0        101348.88       1  \n",
       "1        112542.58       0  \n",
       "2        113931.57       1  \n",
       "3         93826.63       0  \n",
       "4         79084.10       0  "
      ]
     },
     "metadata": {},
     "output_type": "display_data"
    }
   ],
   "source": [
    "data.info()\n",
    "display(data.head())"
   ]
  },
  {
   "cell_type": "code",
   "execution_count": 4,
   "metadata": {},
   "outputs": [
    {
     "data": {
      "text/html": [
       "<div>\n",
       "<style scoped>\n",
       "    .dataframe tbody tr th:only-of-type {\n",
       "        vertical-align: middle;\n",
       "    }\n",
       "\n",
       "    .dataframe tbody tr th {\n",
       "        vertical-align: top;\n",
       "    }\n",
       "\n",
       "    .dataframe thead th {\n",
       "        text-align: right;\n",
       "    }\n",
       "</style>\n",
       "<table border=\"1\" class=\"dataframe\">\n",
       "  <thead>\n",
       "    <tr style=\"text-align: right;\">\n",
       "      <th></th>\n",
       "      <th>RowNumber</th>\n",
       "      <th>CustomerId</th>\n",
       "      <th>CreditScore</th>\n",
       "      <th>Age</th>\n",
       "      <th>Tenure</th>\n",
       "      <th>Balance</th>\n",
       "      <th>NumOfProducts</th>\n",
       "      <th>HasCrCard</th>\n",
       "      <th>IsActiveMember</th>\n",
       "      <th>EstimatedSalary</th>\n",
       "      <th>Exited</th>\n",
       "    </tr>\n",
       "  </thead>\n",
       "  <tbody>\n",
       "    <tr>\n",
       "      <th>count</th>\n",
       "      <td>10000.00000</td>\n",
       "      <td>1.000000e+04</td>\n",
       "      <td>10000.000000</td>\n",
       "      <td>10000.000000</td>\n",
       "      <td>9091.000000</td>\n",
       "      <td>10000.000000</td>\n",
       "      <td>10000.000000</td>\n",
       "      <td>10000.00000</td>\n",
       "      <td>10000.000000</td>\n",
       "      <td>10000.000000</td>\n",
       "      <td>10000.000000</td>\n",
       "    </tr>\n",
       "    <tr>\n",
       "      <th>mean</th>\n",
       "      <td>5000.50000</td>\n",
       "      <td>1.569094e+07</td>\n",
       "      <td>650.528800</td>\n",
       "      <td>38.921800</td>\n",
       "      <td>4.997690</td>\n",
       "      <td>76485.889288</td>\n",
       "      <td>1.530200</td>\n",
       "      <td>0.70550</td>\n",
       "      <td>0.515100</td>\n",
       "      <td>100090.239881</td>\n",
       "      <td>0.203700</td>\n",
       "    </tr>\n",
       "    <tr>\n",
       "      <th>std</th>\n",
       "      <td>2886.89568</td>\n",
       "      <td>7.193619e+04</td>\n",
       "      <td>96.653299</td>\n",
       "      <td>10.487806</td>\n",
       "      <td>2.894723</td>\n",
       "      <td>62397.405202</td>\n",
       "      <td>0.581654</td>\n",
       "      <td>0.45584</td>\n",
       "      <td>0.499797</td>\n",
       "      <td>57510.492818</td>\n",
       "      <td>0.402769</td>\n",
       "    </tr>\n",
       "    <tr>\n",
       "      <th>min</th>\n",
       "      <td>1.00000</td>\n",
       "      <td>1.556570e+07</td>\n",
       "      <td>350.000000</td>\n",
       "      <td>18.000000</td>\n",
       "      <td>0.000000</td>\n",
       "      <td>0.000000</td>\n",
       "      <td>1.000000</td>\n",
       "      <td>0.00000</td>\n",
       "      <td>0.000000</td>\n",
       "      <td>11.580000</td>\n",
       "      <td>0.000000</td>\n",
       "    </tr>\n",
       "    <tr>\n",
       "      <th>25%</th>\n",
       "      <td>2500.75000</td>\n",
       "      <td>1.562853e+07</td>\n",
       "      <td>584.000000</td>\n",
       "      <td>32.000000</td>\n",
       "      <td>2.000000</td>\n",
       "      <td>0.000000</td>\n",
       "      <td>1.000000</td>\n",
       "      <td>0.00000</td>\n",
       "      <td>0.000000</td>\n",
       "      <td>51002.110000</td>\n",
       "      <td>0.000000</td>\n",
       "    </tr>\n",
       "    <tr>\n",
       "      <th>50%</th>\n",
       "      <td>5000.50000</td>\n",
       "      <td>1.569074e+07</td>\n",
       "      <td>652.000000</td>\n",
       "      <td>37.000000</td>\n",
       "      <td>5.000000</td>\n",
       "      <td>97198.540000</td>\n",
       "      <td>1.000000</td>\n",
       "      <td>1.00000</td>\n",
       "      <td>1.000000</td>\n",
       "      <td>100193.915000</td>\n",
       "      <td>0.000000</td>\n",
       "    </tr>\n",
       "    <tr>\n",
       "      <th>75%</th>\n",
       "      <td>7500.25000</td>\n",
       "      <td>1.575323e+07</td>\n",
       "      <td>718.000000</td>\n",
       "      <td>44.000000</td>\n",
       "      <td>7.000000</td>\n",
       "      <td>127644.240000</td>\n",
       "      <td>2.000000</td>\n",
       "      <td>1.00000</td>\n",
       "      <td>1.000000</td>\n",
       "      <td>149388.247500</td>\n",
       "      <td>0.000000</td>\n",
       "    </tr>\n",
       "    <tr>\n",
       "      <th>max</th>\n",
       "      <td>10000.00000</td>\n",
       "      <td>1.581569e+07</td>\n",
       "      <td>850.000000</td>\n",
       "      <td>92.000000</td>\n",
       "      <td>10.000000</td>\n",
       "      <td>250898.090000</td>\n",
       "      <td>4.000000</td>\n",
       "      <td>1.00000</td>\n",
       "      <td>1.000000</td>\n",
       "      <td>199992.480000</td>\n",
       "      <td>1.000000</td>\n",
       "    </tr>\n",
       "  </tbody>\n",
       "</table>\n",
       "</div>"
      ],
      "text/plain": [
       "         RowNumber    CustomerId   CreditScore           Age       Tenure  \\\n",
       "count  10000.00000  1.000000e+04  10000.000000  10000.000000  9091.000000   \n",
       "mean    5000.50000  1.569094e+07    650.528800     38.921800     4.997690   \n",
       "std     2886.89568  7.193619e+04     96.653299     10.487806     2.894723   \n",
       "min        1.00000  1.556570e+07    350.000000     18.000000     0.000000   \n",
       "25%     2500.75000  1.562853e+07    584.000000     32.000000     2.000000   \n",
       "50%     5000.50000  1.569074e+07    652.000000     37.000000     5.000000   \n",
       "75%     7500.25000  1.575323e+07    718.000000     44.000000     7.000000   \n",
       "max    10000.00000  1.581569e+07    850.000000     92.000000    10.000000   \n",
       "\n",
       "             Balance  NumOfProducts    HasCrCard  IsActiveMember  \\\n",
       "count   10000.000000   10000.000000  10000.00000    10000.000000   \n",
       "mean    76485.889288       1.530200      0.70550        0.515100   \n",
       "std     62397.405202       0.581654      0.45584        0.499797   \n",
       "min         0.000000       1.000000      0.00000        0.000000   \n",
       "25%         0.000000       1.000000      0.00000        0.000000   \n",
       "50%     97198.540000       1.000000      1.00000        1.000000   \n",
       "75%    127644.240000       2.000000      1.00000        1.000000   \n",
       "max    250898.090000       4.000000      1.00000        1.000000   \n",
       "\n",
       "       EstimatedSalary        Exited  \n",
       "count     10000.000000  10000.000000  \n",
       "mean     100090.239881      0.203700  \n",
       "std       57510.492818      0.402769  \n",
       "min          11.580000      0.000000  \n",
       "25%       51002.110000      0.000000  \n",
       "50%      100193.915000      0.000000  \n",
       "75%      149388.247500      0.000000  \n",
       "max      199992.480000      1.000000  "
      ]
     },
     "execution_count": 4,
     "metadata": {},
     "output_type": "execute_result"
    }
   ],
   "source": [
    "data.describe()"
   ]
  },
  {
   "cell_type": "markdown",
   "metadata": {},
   "source": [
    "В представленном датафрейме 10000 записей.  \n",
    "Столбцы Geography, Gender имеют категориальный тип данных, которые необходимо преобразовать в численный  \n",
    "Пропуски, имеются только в столбце Tenure (9-10% от общего числа)"
   ]
  },
  {
   "cell_type": "markdown",
   "metadata": {},
   "source": [
    "### Поиск дубликатов"
   ]
  },
  {
   "cell_type": "markdown",
   "metadata": {},
   "source": [
    "Удалим явные дубликаты"
   ]
  },
  {
   "cell_type": "code",
   "execution_count": 5,
   "metadata": {},
   "outputs": [
    {
     "name": "stdout",
     "output_type": "stream",
     "text": [
      "<class 'pandas.core.frame.DataFrame'>\n",
      "RangeIndex: 10000 entries, 0 to 9999\n",
      "Data columns (total 14 columns):\n",
      " #   Column           Non-Null Count  Dtype  \n",
      "---  ------           --------------  -----  \n",
      " 0   RowNumber        10000 non-null  int64  \n",
      " 1   CustomerId       10000 non-null  int64  \n",
      " 2   Surname          10000 non-null  object \n",
      " 3   CreditScore      10000 non-null  int64  \n",
      " 4   Geography        10000 non-null  object \n",
      " 5   Gender           10000 non-null  object \n",
      " 6   Age              10000 non-null  int64  \n",
      " 7   Tenure           9091 non-null   float64\n",
      " 8   Balance          10000 non-null  float64\n",
      " 9   NumOfProducts    10000 non-null  int64  \n",
      " 10  HasCrCard        10000 non-null  int64  \n",
      " 11  IsActiveMember   10000 non-null  int64  \n",
      " 12  EstimatedSalary  10000 non-null  float64\n",
      " 13  Exited           10000 non-null  int64  \n",
      "dtypes: float64(3), int64(8), object(3)\n",
      "memory usage: 1.1+ MB\n"
     ]
    }
   ],
   "source": [
    "data.drop_duplicates()\n",
    "data.info()"
   ]
  },
  {
   "cell_type": "markdown",
   "metadata": {},
   "source": [
    "Проверим неявные дубликаты в столбцах 'CustomerId','Surname'"
   ]
  },
  {
   "cell_type": "code",
   "execution_count": 6,
   "metadata": {},
   "outputs": [
    {
     "data": {
      "text/html": [
       "<div>\n",
       "<style scoped>\n",
       "    .dataframe tbody tr th:only-of-type {\n",
       "        vertical-align: middle;\n",
       "    }\n",
       "\n",
       "    .dataframe tbody tr th {\n",
       "        vertical-align: top;\n",
       "    }\n",
       "\n",
       "    .dataframe thead th {\n",
       "        text-align: right;\n",
       "    }\n",
       "</style>\n",
       "<table border=\"1\" class=\"dataframe\">\n",
       "  <thead>\n",
       "    <tr style=\"text-align: right;\">\n",
       "      <th></th>\n",
       "      <th>RowNumber</th>\n",
       "      <th>CustomerId</th>\n",
       "      <th>Surname</th>\n",
       "      <th>CreditScore</th>\n",
       "      <th>Geography</th>\n",
       "      <th>Gender</th>\n",
       "      <th>Age</th>\n",
       "      <th>Tenure</th>\n",
       "      <th>Balance</th>\n",
       "      <th>NumOfProducts</th>\n",
       "      <th>HasCrCard</th>\n",
       "      <th>IsActiveMember</th>\n",
       "      <th>EstimatedSalary</th>\n",
       "      <th>Exited</th>\n",
       "    </tr>\n",
       "  </thead>\n",
       "  <tbody>\n",
       "  </tbody>\n",
       "</table>\n",
       "</div>"
      ],
      "text/plain": [
       "Empty DataFrame\n",
       "Columns: [RowNumber, CustomerId, Surname, CreditScore, Geography, Gender, Age, Tenure, Balance, NumOfProducts, HasCrCard, IsActiveMember, EstimatedSalary, Exited]\n",
       "Index: []"
      ]
     },
     "metadata": {},
     "output_type": "display_data"
    }
   ],
   "source": [
    "display(data[data.duplicated(subset=['CustomerId','Surname'], keep=False) == True])"
   ]
  },
  {
   "cell_type": "markdown",
   "metadata": {},
   "source": [
    "**Дубликаты не обнаружены**"
   ]
  },
  {
   "cell_type": "markdown",
   "metadata": {},
   "source": [
    "### Обработка пропусков"
   ]
  },
  {
   "cell_type": "markdown",
   "metadata": {},
   "source": [
    "Пропуски имеются только в Tenure. Так как число пропусков составляет 9-10% от общего количества записей и среди заполненных значений нет больших выбивающихся значений, заполнить пропуски логично медианными значениями."
   ]
  },
  {
   "cell_type": "code",
   "execution_count": 7,
   "metadata": {},
   "outputs": [],
   "source": [
    "data['Tenure'] = data['Tenure'].fillna(data['Tenure'].median())"
   ]
  },
  {
   "cell_type": "code",
   "execution_count": 8,
   "metadata": {},
   "outputs": [
    {
     "name": "stdout",
     "output_type": "stream",
     "text": [
      "<class 'pandas.core.frame.DataFrame'>\n",
      "RangeIndex: 10000 entries, 0 to 9999\n",
      "Data columns (total 14 columns):\n",
      " #   Column           Non-Null Count  Dtype  \n",
      "---  ------           --------------  -----  \n",
      " 0   RowNumber        10000 non-null  int64  \n",
      " 1   CustomerId       10000 non-null  int64  \n",
      " 2   Surname          10000 non-null  object \n",
      " 3   CreditScore      10000 non-null  int64  \n",
      " 4   Geography        10000 non-null  object \n",
      " 5   Gender           10000 non-null  object \n",
      " 6   Age              10000 non-null  int64  \n",
      " 7   Tenure           10000 non-null  float64\n",
      " 8   Balance          10000 non-null  float64\n",
      " 9   NumOfProducts    10000 non-null  int64  \n",
      " 10  HasCrCard        10000 non-null  int64  \n",
      " 11  IsActiveMember   10000 non-null  int64  \n",
      " 12  EstimatedSalary  10000 non-null  float64\n",
      " 13  Exited           10000 non-null  int64  \n",
      "dtypes: float64(3), int64(8), object(3)\n",
      "memory usage: 1.1+ MB\n"
     ]
    }
   ],
   "source": [
    "data.info()"
   ]
  },
  {
   "cell_type": "markdown",
   "metadata": {},
   "source": [
    "### Удаление излишних данных"
   ]
  },
  {
   "cell_type": "markdown",
   "metadata": {},
   "source": [
    "Столбцы RowNumber,CustomerId,Surname  не несут полезной информации для построния модели и прогнозирования, удалим их "
   ]
  },
  {
   "cell_type": "code",
   "execution_count": 9,
   "metadata": {},
   "outputs": [],
   "source": [
    "data = data.drop([\"RowNumber\",\"CustomerId\",\"Surname\"], axis = 1)"
   ]
  },
  {
   "cell_type": "markdown",
   "metadata": {},
   "source": [
    "### Кодирование "
   ]
  },
  {
   "cell_type": "markdown",
   "metadata": {},
   "source": [
    "Для признака Gender применим прямое кодирование"
   ]
  },
  {
   "cell_type": "code",
   "execution_count": 10,
   "metadata": {},
   "outputs": [
    {
     "name": "stdout",
     "output_type": "stream",
     "text": [
      "<class 'pandas.core.frame.DataFrame'>\n",
      "RangeIndex: 10000 entries, 0 to 9999\n",
      "Data columns (total 11 columns):\n",
      " #   Column           Non-Null Count  Dtype  \n",
      "---  ------           --------------  -----  \n",
      " 0   CreditScore      10000 non-null  int64  \n",
      " 1   Geography        10000 non-null  object \n",
      " 2   Gender           10000 non-null  uint8  \n",
      " 3   Age              10000 non-null  int64  \n",
      " 4   Tenure           10000 non-null  float64\n",
      " 5   Balance          10000 non-null  float64\n",
      " 6   NumOfProducts    10000 non-null  int64  \n",
      " 7   HasCrCard        10000 non-null  int64  \n",
      " 8   IsActiveMember   10000 non-null  int64  \n",
      " 9   EstimatedSalary  10000 non-null  float64\n",
      " 10  Exited           10000 non-null  int64  \n",
      "dtypes: float64(3), int64(6), object(1), uint8(1)\n",
      "memory usage: 791.1+ KB\n"
     ]
    }
   ],
   "source": [
    "data['Gender'] = pd.get_dummies(data['Gender'], drop_first=True)\n",
    "data.info()"
   ]
  },
  {
   "cell_type": "code",
   "execution_count": 11,
   "metadata": {},
   "outputs": [
    {
     "data": {
      "text/plain": [
       "France     5014\n",
       "Germany    2509\n",
       "Spain      2477\n",
       "Name: Geography, dtype: int64"
      ]
     },
     "metadata": {},
     "output_type": "display_data"
    }
   ],
   "source": [
    "display(data['Geography'].value_counts())"
   ]
  },
  {
   "cell_type": "markdown",
   "metadata": {},
   "source": [
    "## Исследование задачи"
   ]
  },
  {
   "cell_type": "markdown",
   "metadata": {},
   "source": [
    "### Разделение данных на выборки"
   ]
  },
  {
   "cell_type": "code",
   "execution_count": 13,
   "metadata": {},
   "outputs": [],
   "source": [
    "target = data['Exited']\n",
    "features = data.drop('Exited', axis=1)\n"
   ]
  },
  {
   "cell_type": "markdown",
   "metadata": {},
   "source": [
    "Разобьем выборку на три части обучающую, валидационную и тестовую, в отношении 3:1:1"
   ]
  },
  {
   "cell_type": "code",
   "execution_count": 14,
   "metadata": {},
   "outputs": [],
   "source": [
    "features_train_base, features_test, target_train_base, target_test = train_test_split(\n",
    "    features, target, test_size=0.2, random_state=12345)\n",
    "features_train, features_valid, target_train, target_valid = train_test_split(\n",
    "    features_train_base, target_train_base, test_size=0.25, random_state=12345)\n"
   ]
  },
  {
   "cell_type": "markdown",
   "metadata": {},
   "source": [
    "Выполним кодирование категориального признака с помощью category_encoders"
   ]
  },
  {
   "cell_type": "code",
   "execution_count": 16,
   "metadata": {},
   "outputs": [],
   "source": [
    "ohe_encoder = ce.OneHotEncoder(cols = ['Geography'])\n",
    "\n",
    "features_train = ohe_encoder.fit_transform(features_train)\n",
    "features_train.drop(\"Geography_1\", axis= 1 , inplace= True )\n",
    "features_test = ohe_encoder.transform(features_test)\n",
    "features_test.drop(\"Geography_1\", axis= 1 , inplace= True )\n",
    "features_valid = ohe_encoder.transform(features_valid)\n",
    "features_valid.drop(\"Geography_1\", axis= 1 , inplace= True )"
   ]
  },
  {
   "cell_type": "code",
   "execution_count": 18,
   "metadata": {},
   "outputs": [
    {
     "data": {
      "text/plain": [
       "(6000, 11)"
      ]
     },
     "metadata": {},
     "output_type": "display_data"
    },
    {
     "data": {
      "text/plain": [
       "(2000, 11)"
      ]
     },
     "metadata": {},
     "output_type": "display_data"
    },
    {
     "data": {
      "text/plain": [
       "(2000, 11)"
      ]
     },
     "metadata": {},
     "output_type": "display_data"
    }
   ],
   "source": [
    "display(features_train.shape)\n",
    "display(features_valid.shape)\n",
    "display(features_test.shape)"
   ]
  },
  {
   "cell_type": "markdown",
   "metadata": {},
   "source": [
    "### Масштабирование признаков"
   ]
  },
  {
   "cell_type": "markdown",
   "metadata": {},
   "source": [
    "Все небинарные признаки необходимо масштабировать с помошью стандартизации данных."
   ]
  },
  {
   "cell_type": "code",
   "execution_count": 19,
   "metadata": {
    "scrolled": false
   },
   "outputs": [
    {
     "data": {
      "text/html": [
       "<div>\n",
       "<style scoped>\n",
       "    .dataframe tbody tr th:only-of-type {\n",
       "        vertical-align: middle;\n",
       "    }\n",
       "\n",
       "    .dataframe tbody tr th {\n",
       "        vertical-align: top;\n",
       "    }\n",
       "\n",
       "    .dataframe thead th {\n",
       "        text-align: right;\n",
       "    }\n",
       "</style>\n",
       "<table border=\"1\" class=\"dataframe\">\n",
       "  <thead>\n",
       "    <tr style=\"text-align: right;\">\n",
       "      <th></th>\n",
       "      <th>CreditScore</th>\n",
       "      <th>Geography_2</th>\n",
       "      <th>Geography_3</th>\n",
       "      <th>Gender</th>\n",
       "      <th>Age</th>\n",
       "      <th>Tenure</th>\n",
       "      <th>Balance</th>\n",
       "      <th>NumOfProducts</th>\n",
       "      <th>HasCrCard</th>\n",
       "      <th>IsActiveMember</th>\n",
       "      <th>EstimatedSalary</th>\n",
       "    </tr>\n",
       "  </thead>\n",
       "  <tbody>\n",
       "    <tr>\n",
       "      <th>492</th>\n",
       "      <td>-0.134048</td>\n",
       "      <td>0</td>\n",
       "      <td>0</td>\n",
       "      <td>0</td>\n",
       "      <td>-0.078068</td>\n",
       "      <td>-0.369113</td>\n",
       "      <td>0.076163</td>\n",
       "      <td>2</td>\n",
       "      <td>0</td>\n",
       "      <td>1</td>\n",
       "      <td>0.331571</td>\n",
       "    </tr>\n",
       "    <tr>\n",
       "      <th>6655</th>\n",
       "      <td>-1.010798</td>\n",
       "      <td>0</td>\n",
       "      <td>0</td>\n",
       "      <td>1</td>\n",
       "      <td>0.494555</td>\n",
       "      <td>-0.007415</td>\n",
       "      <td>0.136391</td>\n",
       "      <td>1</td>\n",
       "      <td>1</td>\n",
       "      <td>1</td>\n",
       "      <td>-0.727858</td>\n",
       "    </tr>\n",
       "    <tr>\n",
       "      <th>4287</th>\n",
       "      <td>0.639554</td>\n",
       "      <td>1</td>\n",
       "      <td>0</td>\n",
       "      <td>1</td>\n",
       "      <td>1.353490</td>\n",
       "      <td>-1.454209</td>\n",
       "      <td>0.358435</td>\n",
       "      <td>1</td>\n",
       "      <td>1</td>\n",
       "      <td>1</td>\n",
       "      <td>-0.477006</td>\n",
       "    </tr>\n",
       "    <tr>\n",
       "      <th>42</th>\n",
       "      <td>-0.990168</td>\n",
       "      <td>0</td>\n",
       "      <td>0</td>\n",
       "      <td>0</td>\n",
       "      <td>2.116987</td>\n",
       "      <td>-1.092511</td>\n",
       "      <td>0.651725</td>\n",
       "      <td>1</td>\n",
       "      <td>1</td>\n",
       "      <td>1</td>\n",
       "      <td>-0.100232</td>\n",
       "    </tr>\n",
       "    <tr>\n",
       "      <th>8178</th>\n",
       "      <td>0.567351</td>\n",
       "      <td>0</td>\n",
       "      <td>0</td>\n",
       "      <td>0</td>\n",
       "      <td>0.685430</td>\n",
       "      <td>0.715982</td>\n",
       "      <td>0.813110</td>\n",
       "      <td>2</td>\n",
       "      <td>1</td>\n",
       "      <td>1</td>\n",
       "      <td>0.801922</td>\n",
       "    </tr>\n",
       "    <tr>\n",
       "      <th>2127</th>\n",
       "      <td>0.598296</td>\n",
       "      <td>1</td>\n",
       "      <td>0</td>\n",
       "      <td>1</td>\n",
       "      <td>-0.459816</td>\n",
       "      <td>1.439380</td>\n",
       "      <td>0.921963</td>\n",
       "      <td>2</td>\n",
       "      <td>1</td>\n",
       "      <td>0</td>\n",
       "      <td>0.820416</td>\n",
       "    </tr>\n",
       "    <tr>\n",
       "      <th>2051</th>\n",
       "      <td>0.618925</td>\n",
       "      <td>0</td>\n",
       "      <td>0</td>\n",
       "      <td>0</td>\n",
       "      <td>-0.173505</td>\n",
       "      <td>-1.454209</td>\n",
       "      <td>0.482629</td>\n",
       "      <td>2</td>\n",
       "      <td>0</td>\n",
       "      <td>0</td>\n",
       "      <td>1.208574</td>\n",
       "    </tr>\n",
       "    <tr>\n",
       "      <th>6712</th>\n",
       "      <td>-0.546636</td>\n",
       "      <td>0</td>\n",
       "      <td>0</td>\n",
       "      <td>0</td>\n",
       "      <td>0.399118</td>\n",
       "      <td>-0.369113</td>\n",
       "      <td>-1.232442</td>\n",
       "      <td>1</td>\n",
       "      <td>1</td>\n",
       "      <td>0</td>\n",
       "      <td>1.225280</td>\n",
       "    </tr>\n",
       "    <tr>\n",
       "      <th>4994</th>\n",
       "      <td>1.485360</td>\n",
       "      <td>1</td>\n",
       "      <td>0</td>\n",
       "      <td>0</td>\n",
       "      <td>1.258053</td>\n",
       "      <td>-0.007415</td>\n",
       "      <td>1.450438</td>\n",
       "      <td>1</td>\n",
       "      <td>1</td>\n",
       "      <td>1</td>\n",
       "      <td>-0.645530</td>\n",
       "    </tr>\n",
       "    <tr>\n",
       "      <th>9523</th>\n",
       "      <td>0.082561</td>\n",
       "      <td>0</td>\n",
       "      <td>0</td>\n",
       "      <td>0</td>\n",
       "      <td>-0.650691</td>\n",
       "      <td>-1.815908</td>\n",
       "      <td>0.607589</td>\n",
       "      <td>1</td>\n",
       "      <td>1</td>\n",
       "      <td>0</td>\n",
       "      <td>-0.266350</td>\n",
       "    </tr>\n",
       "    <tr>\n",
       "      <th>3414</th>\n",
       "      <td>0.051616</td>\n",
       "      <td>0</td>\n",
       "      <td>0</td>\n",
       "      <td>0</td>\n",
       "      <td>-0.173505</td>\n",
       "      <td>-1.092511</td>\n",
       "      <td>-1.232442</td>\n",
       "      <td>2</td>\n",
       "      <td>1</td>\n",
       "      <td>1</td>\n",
       "      <td>-1.604809</td>\n",
       "    </tr>\n",
       "    <tr>\n",
       "      <th>8168</th>\n",
       "      <td>-0.567266</td>\n",
       "      <td>0</td>\n",
       "      <td>1</td>\n",
       "      <td>0</td>\n",
       "      <td>-0.555253</td>\n",
       "      <td>-1.092511</td>\n",
       "      <td>-1.232442</td>\n",
       "      <td>2</td>\n",
       "      <td>1</td>\n",
       "      <td>1</td>\n",
       "      <td>-1.656422</td>\n",
       "    </tr>\n",
       "    <tr>\n",
       "      <th>8949</th>\n",
       "      <td>0.814904</td>\n",
       "      <td>0</td>\n",
       "      <td>1</td>\n",
       "      <td>1</td>\n",
       "      <td>0.685430</td>\n",
       "      <td>1.801078</td>\n",
       "      <td>-1.232442</td>\n",
       "      <td>2</td>\n",
       "      <td>1</td>\n",
       "      <td>0</td>\n",
       "      <td>0.923766</td>\n",
       "    </tr>\n",
       "    <tr>\n",
       "      <th>773</th>\n",
       "      <td>1.186234</td>\n",
       "      <td>0</td>\n",
       "      <td>0</td>\n",
       "      <td>1</td>\n",
       "      <td>-0.268942</td>\n",
       "      <td>-0.730812</td>\n",
       "      <td>1.000909</td>\n",
       "      <td>1</td>\n",
       "      <td>0</td>\n",
       "      <td>0</td>\n",
       "      <td>0.416909</td>\n",
       "    </tr>\n",
       "    <tr>\n",
       "      <th>4220</th>\n",
       "      <td>-0.649783</td>\n",
       "      <td>0</td>\n",
       "      <td>1</td>\n",
       "      <td>0</td>\n",
       "      <td>0.589993</td>\n",
       "      <td>-1.454209</td>\n",
       "      <td>-1.232442</td>\n",
       "      <td>1</td>\n",
       "      <td>0</td>\n",
       "      <td>0</td>\n",
       "      <td>0.452729</td>\n",
       "    </tr>\n",
       "    <tr>\n",
       "      <th>1695</th>\n",
       "      <td>-1.505903</td>\n",
       "      <td>0</td>\n",
       "      <td>0</td>\n",
       "      <td>1</td>\n",
       "      <td>-0.459816</td>\n",
       "      <td>0.715982</td>\n",
       "      <td>-1.232442</td>\n",
       "      <td>2</td>\n",
       "      <td>0</td>\n",
       "      <td>0</td>\n",
       "      <td>0.277073</td>\n",
       "    </tr>\n",
       "    <tr>\n",
       "      <th>5082</th>\n",
       "      <td>0.742701</td>\n",
       "      <td>0</td>\n",
       "      <td>1</td>\n",
       "      <td>0</td>\n",
       "      <td>0.208244</td>\n",
       "      <td>-0.369113</td>\n",
       "      <td>1.060283</td>\n",
       "      <td>3</td>\n",
       "      <td>0</td>\n",
       "      <td>0</td>\n",
       "      <td>1.489607</td>\n",
       "    </tr>\n",
       "    <tr>\n",
       "      <th>7049</th>\n",
       "      <td>-0.515692</td>\n",
       "      <td>0</td>\n",
       "      <td>0</td>\n",
       "      <td>0</td>\n",
       "      <td>0.017370</td>\n",
       "      <td>0.354284</td>\n",
       "      <td>1.240662</td>\n",
       "      <td>2</td>\n",
       "      <td>1</td>\n",
       "      <td>0</td>\n",
       "      <td>1.334318</td>\n",
       "    </tr>\n",
       "    <tr>\n",
       "      <th>7663</th>\n",
       "      <td>-0.639468</td>\n",
       "      <td>0</td>\n",
       "      <td>0</td>\n",
       "      <td>1</td>\n",
       "      <td>0.017370</td>\n",
       "      <td>1.439380</td>\n",
       "      <td>-1.232442</td>\n",
       "      <td>2</td>\n",
       "      <td>1</td>\n",
       "      <td>1</td>\n",
       "      <td>0.083768</td>\n",
       "    </tr>\n",
       "    <tr>\n",
       "      <th>1597</th>\n",
       "      <td>1.227492</td>\n",
       "      <td>0</td>\n",
       "      <td>0</td>\n",
       "      <td>1</td>\n",
       "      <td>-0.650691</td>\n",
       "      <td>-0.007415</td>\n",
       "      <td>-0.232400</td>\n",
       "      <td>1</td>\n",
       "      <td>1</td>\n",
       "      <td>1</td>\n",
       "      <td>-1.026315</td>\n",
       "    </tr>\n",
       "  </tbody>\n",
       "</table>\n",
       "</div>"
      ],
      "text/plain": [
       "      CreditScore  Geography_2  Geography_3  Gender       Age    Tenure  \\\n",
       "492     -0.134048            0            0       0 -0.078068 -0.369113   \n",
       "6655    -1.010798            0            0       1  0.494555 -0.007415   \n",
       "4287     0.639554            1            0       1  1.353490 -1.454209   \n",
       "42      -0.990168            0            0       0  2.116987 -1.092511   \n",
       "8178     0.567351            0            0       0  0.685430  0.715982   \n",
       "2127     0.598296            1            0       1 -0.459816  1.439380   \n",
       "2051     0.618925            0            0       0 -0.173505 -1.454209   \n",
       "6712    -0.546636            0            0       0  0.399118 -0.369113   \n",
       "4994     1.485360            1            0       0  1.258053 -0.007415   \n",
       "9523     0.082561            0            0       0 -0.650691 -1.815908   \n",
       "3414     0.051616            0            0       0 -0.173505 -1.092511   \n",
       "8168    -0.567266            0            1       0 -0.555253 -1.092511   \n",
       "8949     0.814904            0            1       1  0.685430  1.801078   \n",
       "773      1.186234            0            0       1 -0.268942 -0.730812   \n",
       "4220    -0.649783            0            1       0  0.589993 -1.454209   \n",
       "1695    -1.505903            0            0       1 -0.459816  0.715982   \n",
       "5082     0.742701            0            1       0  0.208244 -0.369113   \n",
       "7049    -0.515692            0            0       0  0.017370  0.354284   \n",
       "7663    -0.639468            0            0       1  0.017370  1.439380   \n",
       "1597     1.227492            0            0       1 -0.650691 -0.007415   \n",
       "\n",
       "       Balance  NumOfProducts  HasCrCard  IsActiveMember  EstimatedSalary  \n",
       "492   0.076163              2          0               1         0.331571  \n",
       "6655  0.136391              1          1               1        -0.727858  \n",
       "4287  0.358435              1          1               1        -0.477006  \n",
       "42    0.651725              1          1               1        -0.100232  \n",
       "8178  0.813110              2          1               1         0.801922  \n",
       "2127  0.921963              2          1               0         0.820416  \n",
       "2051  0.482629              2          0               0         1.208574  \n",
       "6712 -1.232442              1          1               0         1.225280  \n",
       "4994  1.450438              1          1               1        -0.645530  \n",
       "9523  0.607589              1          1               0        -0.266350  \n",
       "3414 -1.232442              2          1               1        -1.604809  \n",
       "8168 -1.232442              2          1               1        -1.656422  \n",
       "8949 -1.232442              2          1               0         0.923766  \n",
       "773   1.000909              1          0               0         0.416909  \n",
       "4220 -1.232442              1          0               0         0.452729  \n",
       "1695 -1.232442              2          0               0         0.277073  \n",
       "5082  1.060283              3          0               0         1.489607  \n",
       "7049  1.240662              2          1               0         1.334318  \n",
       "7663 -1.232442              2          1               1         0.083768  \n",
       "1597 -0.232400              1          1               1        -1.026315  "
      ]
     },
     "metadata": {},
     "output_type": "display_data"
    }
   ],
   "source": [
    "numeric = ['CreditScore', 'Age', 'Tenure', 'Balance', 'EstimatedSalary']\n",
    "\n",
    "scaler = StandardScaler()\n",
    "\n",
    "features_train[numeric] = scaler.fit_transform(features_train[numeric])\n",
    "features_valid[numeric] = scaler.transform(features_valid[numeric]) \n",
    "features_test[numeric] = scaler.transform(features_test[numeric]) \n",
    "pd.options.mode.chained_assignment = None\n",
    "\n",
    "display(features_train.head(20))\n"
   ]
  },
  {
   "cell_type": "markdown",
   "metadata": {},
   "source": [
    "### Инициализация моделей"
   ]
  },
  {
   "cell_type": "markdown",
   "metadata": {},
   "source": [
    "Рассмотрим 3 модели обучения: \n",
    "* DecisionTreeClassifier \n",
    "* RandomForestClassifier \n",
    "* LogisticRegression\n",
    "\n",
    "Выполним подбор гиперпараметров для каждой модели"
   ]
  },
  {
   "cell_type": "markdown",
   "metadata": {},
   "source": [
    "#### DecisionTreeClassifier"
   ]
  },
  {
   "cell_type": "code",
   "execution_count": 20,
   "metadata": {},
   "outputs": [],
   "source": [
    "def DTC(X1,Y1,X2,Y2,cw=None): #X=features, Y=target, cw=class_weight(введен для борьбы с дисбалансом путем взвешивания классов)\n",
    "    best_model = None\n",
    "    best_params_f1 = []\n",
    "    best_f1 = 0\n",
    "    for max_depth in range(2,10):\n",
    "        for min_samples_split in range(2,6):\n",
    "            for min_samples_leaf in range(1,10):\n",
    "                for criterion in ['gini', 'entropy']:                \n",
    "                    model_dtc_clf = DecisionTreeClassifier(random_state=12345,\n",
    "                                                             max_depth=max_depth,\n",
    "                                                             min_samples_split=min_samples_split,\n",
    "                                                             min_samples_leaf=min_samples_leaf,\n",
    "                                                             criterion=criterion)           \n",
    "                    model_dtc_clf.fit(X1,Y1) #X1=features_train, Y1=target_train\n",
    "                    predictions = model_dtc_clf.predict(X2) #X2=features_valid\n",
    "                    f1 = f1_score(Y2,predictions) #Y2=target_valid\n",
    "                    if f1 > best_f1:\n",
    "                        best_params_f1 = [max_depth, min_samples_split, min_samples_leaf, criterion]\n",
    "                        best_f1 = f1\n",
    "    print('''Лучшая метрика f1: {}\n",
    "    Гиперараметры для лучшей модели DecisionTreeClassifier:\n",
    "    max_depth = {}\n",
    "    min_samples_split = {}\n",
    "    min_samples_leaf = {}\n",
    "    criterion = {} \\n'''.format(round(best_f1, 3),\n",
    "                                 best_params_f1[0],\n",
    "                                 best_params_f1[1],\n",
    "                                 best_params_f1[2],\n",
    "                                 best_params_f1[3]\n",
    "                                ))"
   ]
  },
  {
   "cell_type": "code",
   "execution_count": 21,
   "metadata": {
    "scrolled": true
   },
   "outputs": [
    {
     "name": "stdout",
     "output_type": "stream",
     "text": [
      "Лучшая метрика f1: 0.566\n",
      "    Гиперараметры для лучшей модели DecisionTreeClassifier:\n",
      "    max_depth = 9\n",
      "    min_samples_split = 2\n",
      "    min_samples_leaf = 8\n",
      "    criterion = gini \n",
      "\n"
     ]
    }
   ],
   "source": [
    "DTC(features_train,target_train,features_valid,target_valid)"
   ]
  },
  {
   "cell_type": "markdown",
   "metadata": {},
   "source": [
    "#### RandomForestClassifier"
   ]
  },
  {
   "cell_type": "code",
   "execution_count": 22,
   "metadata": {
    "scrolled": true
   },
   "outputs": [],
   "source": [
    "def RFC(X1,Y1,X2,Y2,cw=None): #X=features, Y=target, cw=class_weight(введен для борьбы с дисбалансом путем взвешивания классов)\n",
    "    best_model = None\n",
    "    best_params_f1 = []\n",
    "    best_f1 = 0\n",
    "    for n_estimators in range(30,40):\n",
    "        for max_depth in range(10,17,2):\n",
    "            for min_samples_split in range(2,5):\n",
    "                 for min_samples_leaf in range(1,4):\n",
    "                        model_rf = RandomForestClassifier(random_state=123,\n",
    "                                                          n_estimators=n_estimators,\n",
    "                                                          max_depth=max_depth,\n",
    "                                                          min_samples_split=min_samples_split,\n",
    "                                                          min_samples_leaf=min_samples_leaf)\n",
    "                        model_rf.fit(X1,Y1) #X1=features_train, Y1=target_train                \n",
    "                        predictions = model_rf.predict(X2) #X2=features_valid\n",
    "                        f1 = f1_score(Y2, predictions) #Y2=target_valid\n",
    "                        if f1 > best_f1:\n",
    "                            best_params_f1 = [n_estimators, max_depth, min_samples_split, min_samples_leaf]\n",
    "                            best_f1 = f1\n",
    "    print('''Наилучшая метрика f1: {}\n",
    "    Гиперараметры для лучшей модели RandomForestClassifier:\n",
    "    n_estimators = {}\n",
    "    max_depth = {}\n",
    "    min_samples_split = {}\n",
    "    min_samples_leaf = {} \\n'''.format(round(best_f1, 3),\n",
    "                                 best_params_f1[0],\n",
    "                                 best_params_f1[1],\n",
    "                                 best_params_f1[2],\n",
    "                                 best_params_f1[3]\n",
    "                                ))"
   ]
  },
  {
   "cell_type": "code",
   "execution_count": 23,
   "metadata": {
    "scrolled": true
   },
   "outputs": [
    {
     "name": "stdout",
     "output_type": "stream",
     "text": [
      "Наилучшая метрика f1: 0.576\n",
      "    Гиперараметры для лучшей модели RandomForestClassifier:\n",
      "    n_estimators = 38\n",
      "    max_depth = 14\n",
      "    min_samples_split = 2\n",
      "    min_samples_leaf = 2 \n",
      "\n"
     ]
    }
   ],
   "source": [
    "RFC(features_train,target_train,features_valid,target_valid)"
   ]
  },
  {
   "cell_type": "markdown",
   "metadata": {},
   "source": [
    "#### LogisticRegression"
   ]
  },
  {
   "cell_type": "code",
   "execution_count": 24,
   "metadata": {},
   "outputs": [],
   "source": [
    "def LR(X1,Y1,X2,Y2,cw=None): #X=features, Y=target, cw=class_weight(введен для борьбы с дисбалансом путем взвешивания классов)\n",
    "    best_model = None\n",
    "    best_params_f1 = []\n",
    "    best_f1 = 0 \n",
    "    for multi_class in ['auto', 'ovr', 'multinomial']:\n",
    "        for max_iter in range(100, 200, 10):\n",
    "            model_lr = LogisticRegression(random_state=12345, multi_class = multi_class, max_iter=max_iter)\n",
    "            model_lr.fit(X1,Y1) #X1=features_train, Y1=target_train\n",
    "            predictions = model_lr.predict(X2) #X2=features_valid\n",
    "            f1 = f1_score(Y2,predictions) #Y2=target_valid\n",
    "            if f1 > best_f1:\n",
    "                    best_params_f1 = [multi_class, max_iter]\n",
    "                    best_f1 = f1\n",
    "    print('''Наилучшая метрика f1: {}\n",
    "    Гиперараметры для лучшей модели LogisticRegression:\n",
    "    multi_class = {}\n",
    "    max_iter = {} \\n'''.format(round(best_f1, 3),\n",
    "                                     best_params_f1[0],\n",
    "                                     best_params_f1[1]\n",
    "                                            ))            "
   ]
  },
  {
   "cell_type": "code",
   "execution_count": 25,
   "metadata": {
    "scrolled": true
   },
   "outputs": [
    {
     "name": "stdout",
     "output_type": "stream",
     "text": [
      "Наилучшая метрика f1: 0.301\n",
      "    Гиперараметры для лучшей модели LogisticRegression:\n",
      "    multi_class = auto\n",
      "    max_iter = 100 \n",
      "\n"
     ]
    }
   ],
   "source": [
    "LR(features_train,target_train,features_valid,target_valid)"
   ]
  },
  {
   "cell_type": "markdown",
   "metadata": {},
   "source": [
    "### Промежуточный Вывод"
   ]
  },
  {
   "cell_type": "markdown",
   "metadata": {},
   "source": [
    "Подобраны лучшие гиперпараметры для исследуемых моделей  \n",
    "**DecisionTreeClassifier:**\n",
    "* criterion: gini \n",
    "* max_depth: 9, \n",
    "* min_samples_leaf: 8 \n",
    "* min_samples_split: 2   \n",
    "\n",
    "f1-мера при данных гиперпараметрах равна 0.566\n",
    "\n",
    "\n",
    "**RandomForestClassifier:**\n",
    "\n",
    "* n_estimators: 38\n",
    "* max_depth: 14\n",
    "* min_samples_split: 2\n",
    "* min_samples_leaf: 2 \n",
    " \n",
    "f1-мера при данных гиперпараметрах равна 0.576\n",
    "\n",
    "**LogisticRegression**\n",
    "* max_iter: 100 \n",
    "* multi_class: auto \n",
    "\n",
    "f1-мера при данных гиперпараметрах равна 0.301"
   ]
  },
  {
   "cell_type": "markdown",
   "metadata": {},
   "source": [
    "Лучшим образом на несбалансированных классах повела себя модель случайного леса с f1-мерой равной 0.576."
   ]
  },
  {
   "cell_type": "markdown",
   "metadata": {},
   "source": [
    "## Борьба с дисбалансом"
   ]
  },
  {
   "cell_type": "markdown",
   "metadata": {},
   "source": [
    "Проверим баланс целевого признака"
   ]
  },
  {
   "cell_type": "code",
   "execution_count": 26,
   "metadata": {},
   "outputs": [
    {
     "data": {
      "text/plain": [
       "0    7963\n",
       "1    2037\n",
       "Name: Exited, dtype: int64"
      ]
     },
     "metadata": {},
     "output_type": "display_data"
    }
   ],
   "source": [
    "display(data['Exited'].value_counts())"
   ]
  },
  {
   "cell_type": "markdown",
   "metadata": {},
   "source": [
    "Распределение целевого признака приблизительно 4:1.  \n",
    "Выполним балансировку классов тремя методами:\n",
    "* Взвешивание классов\n",
    "* Downsampling\n",
    "* Upsampling  \n",
    "\n",
    "Для каждого метода проверим измение F1-меры каждой модели с подбором лучших гиперпараметров."
   ]
  },
  {
   "cell_type": "markdown",
   "metadata": {},
   "source": [
    "### Взвешивание классов"
   ]
  },
  {
   "cell_type": "code",
   "execution_count": 27,
   "metadata": {
    "scrolled": true
   },
   "outputs": [
    {
     "name": "stdout",
     "output_type": "stream",
     "text": [
      "Лучшая метрика f1: 0.566\n",
      "    Гиперараметры для лучшей модели DecisionTreeClassifier:\n",
      "    max_depth = 9\n",
      "    min_samples_split = 2\n",
      "    min_samples_leaf = 8\n",
      "    criterion = gini \n",
      "\n"
     ]
    }
   ],
   "source": [
    "DTC(features_train,target_train,features_valid,target_valid,cw='balanced')"
   ]
  },
  {
   "cell_type": "code",
   "execution_count": 28,
   "metadata": {
    "scrolled": true
   },
   "outputs": [
    {
     "name": "stdout",
     "output_type": "stream",
     "text": [
      "Наилучшая метрика f1: 0.576\n",
      "    Гиперараметры для лучшей модели RandomForestClassifier:\n",
      "    n_estimators = 38\n",
      "    max_depth = 14\n",
      "    min_samples_split = 2\n",
      "    min_samples_leaf = 2 \n",
      "\n"
     ]
    }
   ],
   "source": [
    "RFC(features_train,target_train,features_valid,target_valid,cw='balanced')"
   ]
  },
  {
   "cell_type": "code",
   "execution_count": 29,
   "metadata": {
    "scrolled": false
   },
   "outputs": [
    {
     "name": "stdout",
     "output_type": "stream",
     "text": [
      "Наилучшая метрика f1: 0.301\n",
      "    Гиперараметры для лучшей модели LogisticRegression:\n",
      "    multi_class = auto\n",
      "    max_iter = 100 \n",
      "\n"
     ]
    }
   ],
   "source": [
    "LR(features_train,target_train,features_valid,target_valid,cw='balanced')"
   ]
  },
  {
   "cell_type": "markdown",
   "metadata": {},
   "source": [
    "### Downsampling"
   ]
  },
  {
   "cell_type": "markdown",
   "metadata": {},
   "source": [
    "Коэффициент уменьшения выборки должен быть равен 0.25, чтобы соотношение классов было 1:1"
   ]
  },
  {
   "cell_type": "code",
   "execution_count": 30,
   "metadata": {},
   "outputs": [],
   "source": [
    "def downsample(features, target, fraction):\n",
    "    features_zeros = features[target == 0]\n",
    "    features_ones = features[target == 1]\n",
    "    target_zeros = target[target == 0]\n",
    "    target_ones = target[target == 1]\n",
    "\n",
    "    features_downsampled = pd.concat(\n",
    "        [features_zeros.sample(frac=fraction, random_state=12345)] + [features_ones])\n",
    "    target_downsampled = pd.concat(\n",
    "        [target_zeros.sample(frac=fraction, random_state=12345)] + [target_ones])\n",
    "    \n",
    "    features_downsampled, target_downsampled = shuffle(\n",
    "        features_downsampled, target_downsampled, random_state=12345)\n",
    "    \n",
    "    return features_downsampled, target_downsampled\n",
    "\n",
    "features_train_downsampled, target_train_downsampled = downsample(features_train, target_train, 0.25)\n"
   ]
  },
  {
   "cell_type": "markdown",
   "metadata": {},
   "source": [
    "Проверим результаты на моделях"
   ]
  },
  {
   "cell_type": "code",
   "execution_count": 31,
   "metadata": {
    "scrolled": false
   },
   "outputs": [
    {
     "name": "stdout",
     "output_type": "stream",
     "text": [
      "Лучшая метрика f1: 0.548\n",
      "    Гиперараметры для лучшей модели DecisionTreeClassifier:\n",
      "    max_depth = 7\n",
      "    min_samples_split = 2\n",
      "    min_samples_leaf = 2\n",
      "    criterion = gini \n",
      "\n"
     ]
    }
   ],
   "source": [
    "DTC(features_train_downsampled,target_train_downsampled,features_valid,target_valid)"
   ]
  },
  {
   "cell_type": "code",
   "execution_count": 32,
   "metadata": {},
   "outputs": [
    {
     "name": "stdout",
     "output_type": "stream",
     "text": [
      "Наилучшая метрика f1: 0.579\n",
      "    Гиперараметры для лучшей модели RandomForestClassifier:\n",
      "    n_estimators = 31\n",
      "    max_depth = 10\n",
      "    min_samples_split = 2\n",
      "    min_samples_leaf = 2 \n",
      "\n"
     ]
    }
   ],
   "source": [
    "RFC(features_train_downsampled,target_train_downsampled,features_valid,target_valid)"
   ]
  },
  {
   "cell_type": "code",
   "execution_count": 33,
   "metadata": {
    "scrolled": false
   },
   "outputs": [
    {
     "name": "stdout",
     "output_type": "stream",
     "text": [
      "Наилучшая метрика f1: 0.474\n",
      "    Гиперараметры для лучшей модели LogisticRegression:\n",
      "    multi_class = auto\n",
      "    max_iter = 100 \n",
      "\n"
     ]
    }
   ],
   "source": [
    "LR(features_train_downsampled,target_train_downsampled,features_valid,target_valid)"
   ]
  },
  {
   "cell_type": "markdown",
   "metadata": {},
   "source": [
    "### Upsampling"
   ]
  },
  {
   "cell_type": "markdown",
   "metadata": {},
   "source": [
    "Коэффициент увеличения выборки должен быть равен 4, чтобы соотношение классов было 1:1"
   ]
  },
  {
   "cell_type": "code",
   "execution_count": 34,
   "metadata": {},
   "outputs": [],
   "source": [
    "def upsample(features, target, repeat):\n",
    "    features_zeros = features[target == 0]\n",
    "    features_ones = features[target == 1]\n",
    "    target_zeros = target[target == 0]\n",
    "    target_ones = target[target == 1]\n",
    "\n",
    "    features_upsampled = pd.concat([features_zeros] + [features_ones] * repeat)\n",
    "    target_upsampled = pd.concat([target_zeros] + [target_ones] * repeat)\n",
    "    \n",
    "    features_upsampled, target_upsampled = shuffle(\n",
    "        features_upsampled, target_upsampled, random_state=12345)\n",
    "    \n",
    "    return features_upsampled, target_upsampled\n",
    "\n",
    "features_train_upsampled, target_train_upsampled = upsample(features_train, target_train, 4)"
   ]
  },
  {
   "cell_type": "markdown",
   "metadata": {},
   "source": [
    "Проверим результаты на моделях"
   ]
  },
  {
   "cell_type": "code",
   "execution_count": 35,
   "metadata": {
    "scrolled": false
   },
   "outputs": [
    {
     "name": "stdout",
     "output_type": "stream",
     "text": [
      "Лучшая метрика f1: 0.566\n",
      "    Гиперараметры для лучшей модели DecisionTreeClassifier:\n",
      "    max_depth = 6\n",
      "    min_samples_split = 2\n",
      "    min_samples_leaf = 8\n",
      "    criterion = gini \n",
      "\n"
     ]
    }
   ],
   "source": [
    "DTC(features_train_upsampled,target_train_upsampled,features_valid,target_valid)"
   ]
  },
  {
   "cell_type": "code",
   "execution_count": 36,
   "metadata": {
    "scrolled": true
   },
   "outputs": [
    {
     "name": "stdout",
     "output_type": "stream",
     "text": [
      "Наилучшая метрика f1: 0.607\n",
      "    Гиперараметры для лучшей модели RandomForestClassifier:\n",
      "    n_estimators = 38\n",
      "    max_depth = 16\n",
      "    min_samples_split = 2\n",
      "    min_samples_leaf = 2 \n",
      "\n"
     ]
    }
   ],
   "source": [
    "RFC(features_train_upsampled,target_train_upsampled,features_valid,target_valid)"
   ]
  },
  {
   "cell_type": "code",
   "execution_count": 37,
   "metadata": {
    "scrolled": false
   },
   "outputs": [
    {
     "name": "stdout",
     "output_type": "stream",
     "text": [
      "Наилучшая метрика f1: 0.477\n",
      "    Гиперараметры для лучшей модели LogisticRegression:\n",
      "    multi_class = auto\n",
      "    max_iter = 100 \n",
      "\n"
     ]
    }
   ],
   "source": [
    "LR(features_train_upsampled,target_train_upsampled,features_valid,target_valid)"
   ]
  },
  {
   "cell_type": "markdown",
   "metadata": {},
   "source": [
    "### Промежуточный Вывод"
   ]
  },
  {
   "cell_type": "markdown",
   "metadata": {},
   "source": [
    "Лучшее влияние на увеличение f1-меры показала баллансировка классов с помошью апсемплинга. f1-мера на модели Случайного леса достигла значения 0.607, что больше требуемого 0.59 из условия задачи."
   ]
  },
  {
   "cell_type": "markdown",
   "metadata": {},
   "source": [
    "## Тестирование модели"
   ]
  },
  {
   "cell_type": "markdown",
   "metadata": {},
   "source": [
    "Протеститируем лучшую модель Случайного Леса с гиперпараметрами подобранными после баллансировки классов с помошью апсемплинга  "
   ]
  },
  {
   "cell_type": "code",
   "execution_count": 40,
   "metadata": {},
   "outputs": [
    {
     "name": "stdout",
     "output_type": "stream",
     "text": [
      "f1_score: 0.6143024618991794\n",
      "roc_auc_score: 0.7546618805933263\n"
     ]
    }
   ],
   "source": [
    "model_rf = RandomForestClassifier(random_state=123,n_estimators=38,max_depth=16,min_samples_split=2,min_samples_leaf=2)\n",
    "model_rf.fit(features_train_upsampled,target_train_upsampled)\n",
    "predictions_rf = model_rf.predict(features_test)\n",
    "\n",
    "f1 = f1_score(target_test,predictions_rf)\n",
    "roc_auc = roc_auc_score(target_test, predictions_rf)\n",
    "              \n",
    "print('f1_score: {}\\nroc_auc_score: {}'.format(f1,roc_auc))              "
   ]
  },
  {
   "cell_type": "markdown",
   "metadata": {},
   "source": [
    "Построим ROC-кривую на тестовой выборке"
   ]
  },
  {
   "cell_type": "code",
   "execution_count": 39,
   "metadata": {},
   "outputs": [
    {
     "data": {
      "image/png": "[encoded data removed]",
      "text/plain": [
       "<Figure size 432x288 with 1 Axes>"
      ]
     },
     "metadata": {
      "needs_background": "light"
     },
     "output_type": "display_data"
    }
   ],
   "source": [
    "probabilities_test = model_rf.predict_proba(features_test)\n",
    "probabilities_one_test = probabilities_test[:, 1]\n",
    "\n",
    "fpr, tpr, thresholds =  roc_curve(target_test, probabilities_one_test)\n",
    "\n",
    "plt.figure()\n",
    "\n",
    "plt.plot(fpr, tpr)\n",
    "\n",
    "plt.plot([0, 1], [0, 1], linestyle='--')\n",
    "plt.xlim([0.0, 1.0])\n",
    "plt.ylim([0.0, 1.0])\n",
    "plt.xlabel('False Positive Rate')\n",
    "plt.ylabel('True Positive Rate')\n",
    "plt.title('ROC-кривая')\n",
    "\n",
    "plt.show()"
   ]
  },
  {
   "cell_type": "markdown",
   "metadata": {},
   "source": [
    "## Вывод"
   ]
  },
  {
   "cell_type": "markdown",
   "metadata": {},
   "source": [
    "Цель проекта заключалась в прогнозировании оттока клиентов из «Бета-Банка». Для достижения этой цели была построена модель с максимально возможным значением F1-меры, не менее 0.59. Кроме того, измерялась также AUC-ROC для сравнения с F1-мерой.\n",
    "\n",
    "Проект был разделен на несколько этапов:\n",
    "\n",
    "**Подготовка данных:**   \n",
    "Произведено преобразование категориальных признаков в численные, обработаны пропущенные значения в столбце Tenure, а также удалены ненужные столбцы.\n",
    "\n",
    "**Исследование задачи:**   \n",
    "Выборка была разделена на обучающую, валидационную и тестовую. Произведено масштабирование признаков и инициализация трех моделей: DecisionTreeClassifier, RandomForestClassifier и LogisticRegression. Для каждой модели были подобраны оптимальные гиперпараметры.\n",
    "\n",
    "**Борьба с дисбалансом:**   \n",
    "Был проведен анализ баланса целевого признака, который оказался недостаточно сбалансированным. Для решения этой проблемы были применены три метода балансировки классов: взвешивание классов, Downsampling и Upsampling. Лучшее улучшение метрики F1 показало применение Upsampling.\n",
    "\n",
    "**Тестирование модели:**   \n",
    "Лучшая модель, RandomForestClassifier с применением Upsampling, была протестирована на тестовой выборке. Также была построена ROC-кривая.\n",
    "\n",
    "Итоговые результаты проекта показали, что достигнута метрика F1-меры равная 0.614, что превышает требуемое значение 0.59. Это означает, что модель хорошо справляется с задачей прогнозирования оттока клиентов. AUC-ROC также была измерена и может быть использована для оценки качества модели, особенно в задачах с сильно несбалансированными классами.\n",
    "\n",
    "Таким образом, был разработан успешный прогнозный алгоритм для предсказания оттока клиентов, который может быть использован банком для принятия соответствующих мер по удержанию клиентов и повышению их лояльности."
   ]
  }
 ],
 "metadata": {
  "ExecuteTimeLog": [
   {
    "duration": 1264,
    "start_time": "2023-07-20T18:48:14.262Z"
   },
   {
    "duration": 86,
    "start_time": "2023-07-20T18:50:04.877Z"
   },
   {
    "duration": 83,
    "start_time": "2023-07-20T19:01:48.960Z"
   },
   {
    "duration": 90,
    "start_time": "2023-07-20T19:08:08.076Z"
   },
   {
    "duration": 100,
    "start_time": "2023-07-20T19:10:01.217Z"
   },
   {
    "duration": 217,
    "start_time": "2023-07-20T19:10:12.445Z"
   },
   {
    "duration": 212,
    "start_time": "2023-07-20T19:11:59.046Z"
   },
   {
    "duration": 2110,
    "start_time": "2023-07-20T19:16:32.509Z"
   },
   {
    "duration": 1171,
    "start_time": "2023-07-20T19:16:59.981Z"
   },
   {
    "duration": 29,
    "start_time": "2023-07-20T19:17:01.154Z"
   },
   {
    "duration": 100,
    "start_time": "2023-07-20T21:47:28.601Z"
   },
   {
    "duration": 12,
    "start_time": "2023-07-20T21:47:54.220Z"
   },
   {
    "duration": 9,
    "start_time": "2023-07-20T21:48:12.847Z"
   },
   {
    "duration": 18,
    "start_time": "2023-07-20T21:54:53.974Z"
   },
   {
    "duration": 4,
    "start_time": "2023-07-20T22:06:37.006Z"
   },
   {
    "duration": 11,
    "start_time": "2023-07-20T22:06:37.741Z"
   },
   {
    "duration": 5,
    "start_time": "2023-07-20T22:12:37.085Z"
   },
   {
    "duration": 21,
    "start_time": "2023-07-20T22:12:56.387Z"
   },
   {
    "duration": 2289,
    "start_time": "2023-07-20T22:14:43.105Z"
   },
   {
    "duration": 1351,
    "start_time": "2023-07-20T22:15:09.862Z"
   },
   {
    "duration": 21,
    "start_time": "2023-07-20T22:15:11.215Z"
   },
   {
    "duration": 10,
    "start_time": "2023-07-20T22:15:11.238Z"
   },
   {
    "duration": 9,
    "start_time": "2023-07-20T22:15:11.250Z"
   },
   {
    "duration": 8,
    "start_time": "2023-07-20T22:15:11.260Z"
   },
   {
    "duration": 39,
    "start_time": "2023-07-20T22:15:11.270Z"
   },
   {
    "duration": 10,
    "start_time": "2023-07-20T22:15:11.311Z"
   },
   {
    "duration": 29,
    "start_time": "2023-07-20T22:15:11.323Z"
   },
   {
    "duration": 1187,
    "start_time": "2023-07-20T22:25:03.242Z"
   },
   {
    "duration": 17,
    "start_time": "2023-07-20T22:25:04.430Z"
   },
   {
    "duration": 12,
    "start_time": "2023-07-20T22:25:04.449Z"
   },
   {
    "duration": 7,
    "start_time": "2023-07-20T22:25:04.462Z"
   },
   {
    "duration": 22,
    "start_time": "2023-07-20T22:25:04.472Z"
   },
   {
    "duration": 13,
    "start_time": "2023-07-20T22:25:04.495Z"
   },
   {
    "duration": 4,
    "start_time": "2023-07-20T22:25:04.510Z"
   },
   {
    "duration": 103,
    "start_time": "2023-07-20T22:25:04.515Z"
   },
   {
    "duration": 88,
    "start_time": "2023-07-20T22:25:33.761Z"
   },
   {
    "duration": 14,
    "start_time": "2023-07-20T22:25:39.502Z"
   },
   {
    "duration": 17,
    "start_time": "2023-07-20T22:26:52.175Z"
   },
   {
    "duration": 1140,
    "start_time": "2023-07-20T22:27:51.580Z"
   },
   {
    "duration": 16,
    "start_time": "2023-07-20T22:27:52.722Z"
   },
   {
    "duration": 15,
    "start_time": "2023-07-20T22:27:52.740Z"
   },
   {
    "duration": 4,
    "start_time": "2023-07-20T22:27:52.757Z"
   },
   {
    "duration": 8,
    "start_time": "2023-07-20T22:27:52.763Z"
   },
   {
    "duration": 14,
    "start_time": "2023-07-20T22:27:52.772Z"
   },
   {
    "duration": 4,
    "start_time": "2023-07-20T22:27:52.787Z"
   },
   {
    "duration": 132,
    "start_time": "2023-07-20T22:27:52.793Z"
   },
   {
    "duration": 27,
    "start_time": "2023-07-20T22:28:15.012Z"
   },
   {
    "duration": 28,
    "start_time": "2023-07-20T22:28:22.925Z"
   },
   {
    "duration": 16,
    "start_time": "2023-07-20T22:28:49.413Z"
   },
   {
    "duration": 30,
    "start_time": "2023-07-20T22:29:13.603Z"
   },
   {
    "duration": 1177,
    "start_time": "2023-07-20T22:29:26.831Z"
   },
   {
    "duration": 23,
    "start_time": "2023-07-20T22:29:28.010Z"
   },
   {
    "duration": 10,
    "start_time": "2023-07-20T22:29:28.035Z"
   },
   {
    "duration": 6,
    "start_time": "2023-07-20T22:29:28.047Z"
   },
   {
    "duration": 12,
    "start_time": "2023-07-20T22:29:28.054Z"
   },
   {
    "duration": 13,
    "start_time": "2023-07-20T22:29:28.067Z"
   },
   {
    "duration": 11,
    "start_time": "2023-07-20T22:29:28.081Z"
   },
   {
    "duration": 128,
    "start_time": "2023-07-20T22:29:28.094Z"
   },
   {
    "duration": 30,
    "start_time": "2023-07-20T22:29:38.935Z"
   },
   {
    "duration": 32,
    "start_time": "2023-07-20T22:32:02.598Z"
   },
   {
    "duration": 43,
    "start_time": "2023-07-20T22:32:13.757Z"
   },
   {
    "duration": 36,
    "start_time": "2023-07-20T22:32:40.099Z"
   },
   {
    "duration": 32,
    "start_time": "2023-07-20T22:36:52.414Z"
   },
   {
    "duration": 42,
    "start_time": "2023-07-20T22:37:16.417Z"
   },
   {
    "duration": 1180,
    "start_time": "2023-07-20T22:38:16.000Z"
   },
   {
    "duration": 16,
    "start_time": "2023-07-20T22:38:17.182Z"
   },
   {
    "duration": 9,
    "start_time": "2023-07-20T22:38:17.200Z"
   },
   {
    "duration": 22,
    "start_time": "2023-07-20T22:38:17.210Z"
   },
   {
    "duration": 7,
    "start_time": "2023-07-20T22:38:17.234Z"
   },
   {
    "duration": 15,
    "start_time": "2023-07-20T22:38:17.242Z"
   },
   {
    "duration": 4,
    "start_time": "2023-07-20T22:38:17.259Z"
   },
   {
    "duration": 14,
    "start_time": "2023-07-20T22:38:17.264Z"
   },
   {
    "duration": 54,
    "start_time": "2023-07-20T22:38:17.279Z"
   },
   {
    "duration": 126,
    "start_time": "2023-07-20T22:39:04.706Z"
   },
   {
    "duration": 1214,
    "start_time": "2023-07-20T22:39:11.669Z"
   },
   {
    "duration": 18,
    "start_time": "2023-07-20T22:39:12.884Z"
   },
   {
    "duration": 10,
    "start_time": "2023-07-20T22:39:12.903Z"
   },
   {
    "duration": 7,
    "start_time": "2023-07-20T22:39:12.915Z"
   },
   {
    "duration": 8,
    "start_time": "2023-07-20T22:39:12.923Z"
   },
   {
    "duration": 14,
    "start_time": "2023-07-20T22:39:12.933Z"
   },
   {
    "duration": 4,
    "start_time": "2023-07-20T22:39:12.948Z"
   },
   {
    "duration": 15,
    "start_time": "2023-07-20T22:39:12.953Z"
   },
   {
    "duration": 142,
    "start_time": "2023-07-20T22:39:12.969Z"
   },
   {
    "duration": 43,
    "start_time": "2023-07-20T22:43:10.660Z"
   },
   {
    "duration": 29,
    "start_time": "2023-07-20T22:44:06.064Z"
   },
   {
    "duration": 27,
    "start_time": "2023-07-20T22:44:22.763Z"
   },
   {
    "duration": 26,
    "start_time": "2023-07-20T22:44:43.930Z"
   },
   {
    "duration": 30,
    "start_time": "2023-07-20T22:44:55.229Z"
   },
   {
    "duration": 44,
    "start_time": "2023-07-20T22:45:00.571Z"
   },
   {
    "duration": 55,
    "start_time": "2023-07-20T22:47:50.252Z"
   },
   {
    "duration": 1105,
    "start_time": "2023-07-20T22:47:58.379Z"
   },
   {
    "duration": 18,
    "start_time": "2023-07-20T22:47:59.486Z"
   },
   {
    "duration": 26,
    "start_time": "2023-07-20T22:47:59.506Z"
   },
   {
    "duration": 6,
    "start_time": "2023-07-20T22:47:59.534Z"
   },
   {
    "duration": 17,
    "start_time": "2023-07-20T22:47:59.541Z"
   },
   {
    "duration": 13,
    "start_time": "2023-07-20T22:47:59.559Z"
   },
   {
    "duration": 3,
    "start_time": "2023-07-20T22:47:59.574Z"
   },
   {
    "duration": 25,
    "start_time": "2023-07-20T22:47:59.578Z"
   },
   {
    "duration": 49,
    "start_time": "2023-07-20T22:47:59.604Z"
   },
   {
    "duration": 105,
    "start_time": "2023-07-20T22:48:48.554Z"
   },
   {
    "duration": 40,
    "start_time": "2023-07-20T22:49:14.832Z"
   },
   {
    "duration": 1210,
    "start_time": "2023-07-20T22:49:27.009Z"
   },
   {
    "duration": 18,
    "start_time": "2023-07-20T22:49:28.221Z"
   },
   {
    "duration": 11,
    "start_time": "2023-07-20T22:49:28.241Z"
   },
   {
    "duration": 10,
    "start_time": "2023-07-20T22:49:28.254Z"
   },
   {
    "duration": 7,
    "start_time": "2023-07-20T22:49:28.265Z"
   },
   {
    "duration": 16,
    "start_time": "2023-07-20T22:49:28.273Z"
   },
   {
    "duration": 4,
    "start_time": "2023-07-20T22:49:28.290Z"
   },
   {
    "duration": 28,
    "start_time": "2023-07-20T22:49:28.295Z"
   },
   {
    "duration": 43,
    "start_time": "2023-07-20T22:49:28.325Z"
   },
   {
    "duration": 97,
    "start_time": "2023-07-20T22:50:35.646Z"
   },
   {
    "duration": 41,
    "start_time": "2023-07-20T22:50:51.848Z"
   },
   {
    "duration": 9,
    "start_time": "2023-07-20T23:13:40.077Z"
   },
   {
    "duration": 26,
    "start_time": "2023-07-20T23:14:17.373Z"
   },
   {
    "duration": 25,
    "start_time": "2023-07-20T23:16:10.978Z"
   },
   {
    "duration": 1181,
    "start_time": "2023-07-20T23:16:20.506Z"
   },
   {
    "duration": 18,
    "start_time": "2023-07-20T23:16:21.689Z"
   },
   {
    "duration": 24,
    "start_time": "2023-07-20T23:16:21.708Z"
   },
   {
    "duration": 5,
    "start_time": "2023-07-20T23:16:21.734Z"
   },
   {
    "duration": 18,
    "start_time": "2023-07-20T23:16:21.741Z"
   },
   {
    "duration": 24,
    "start_time": "2023-07-20T23:16:21.761Z"
   },
   {
    "duration": 16,
    "start_time": "2023-07-20T23:16:21.786Z"
   },
   {
    "duration": 18,
    "start_time": "2023-07-20T23:16:21.803Z"
   },
   {
    "duration": 21,
    "start_time": "2023-07-20T23:16:21.823Z"
   },
   {
    "duration": 4,
    "start_time": "2023-07-20T23:36:29.723Z"
   },
   {
    "duration": 7,
    "start_time": "2023-07-20T23:36:31.947Z"
   },
   {
    "duration": 103,
    "start_time": "2023-07-20T23:50:03.630Z"
   },
   {
    "duration": 89,
    "start_time": "2023-07-20T23:50:11.193Z"
   },
   {
    "duration": 1153,
    "start_time": "2023-07-20T23:50:16.898Z"
   },
   {
    "duration": 17,
    "start_time": "2023-07-20T23:50:18.053Z"
   },
   {
    "duration": 10,
    "start_time": "2023-07-20T23:50:18.072Z"
   },
   {
    "duration": 7,
    "start_time": "2023-07-20T23:50:18.084Z"
   },
   {
    "duration": 26,
    "start_time": "2023-07-20T23:50:18.092Z"
   },
   {
    "duration": 29,
    "start_time": "2023-07-20T23:50:18.119Z"
   },
   {
    "duration": 5,
    "start_time": "2023-07-20T23:50:18.150Z"
   },
   {
    "duration": 19,
    "start_time": "2023-07-20T23:50:18.157Z"
   },
   {
    "duration": 26,
    "start_time": "2023-07-20T23:50:18.177Z"
   },
   {
    "duration": 3,
    "start_time": "2023-07-20T23:50:18.205Z"
   },
   {
    "duration": 8,
    "start_time": "2023-07-20T23:50:18.210Z"
   },
   {
    "duration": 32,
    "start_time": "2023-07-20T23:50:18.220Z"
   },
   {
    "duration": 27,
    "start_time": "2023-07-20T23:51:05.299Z"
   },
   {
    "duration": 25,
    "start_time": "2023-07-20T23:51:07.567Z"
   },
   {
    "duration": 1367,
    "start_time": "2023-07-23T16:21:09.590Z"
   },
   {
    "duration": 29,
    "start_time": "2023-07-23T16:21:10.959Z"
   },
   {
    "duration": 14,
    "start_time": "2023-07-23T16:21:10.990Z"
   },
   {
    "duration": 8,
    "start_time": "2023-07-23T16:21:11.006Z"
   },
   {
    "duration": 6,
    "start_time": "2023-07-23T16:21:11.016Z"
   },
   {
    "duration": 37,
    "start_time": "2023-07-23T16:21:11.023Z"
   },
   {
    "duration": 6,
    "start_time": "2023-07-23T16:21:11.062Z"
   },
   {
    "duration": 14,
    "start_time": "2023-07-23T16:21:11.070Z"
   },
   {
    "duration": 27,
    "start_time": "2023-07-23T16:21:11.085Z"
   },
   {
    "duration": 4,
    "start_time": "2023-07-23T16:21:11.115Z"
   },
   {
    "duration": 44,
    "start_time": "2023-07-23T16:21:11.121Z"
   },
   {
    "duration": 33,
    "start_time": "2023-07-23T16:21:11.167Z"
   },
   {
    "duration": 113,
    "start_time": "2023-07-23T16:21:11.201Z"
   },
   {
    "duration": 111,
    "start_time": "2023-07-23T16:26:09.600Z"
   },
   {
    "duration": 30,
    "start_time": "2023-07-23T16:26:09.714Z"
   },
   {
    "duration": 14,
    "start_time": "2023-07-23T16:26:09.759Z"
   },
   {
    "duration": 7,
    "start_time": "2023-07-23T16:26:09.776Z"
   },
   {
    "duration": 8,
    "start_time": "2023-07-23T16:26:09.784Z"
   },
   {
    "duration": 18,
    "start_time": "2023-07-23T16:26:09.794Z"
   },
   {
    "duration": 4,
    "start_time": "2023-07-23T16:26:09.813Z"
   },
   {
    "duration": 40,
    "start_time": "2023-07-23T16:26:09.819Z"
   },
   {
    "duration": 29,
    "start_time": "2023-07-23T16:26:09.861Z"
   },
   {
    "duration": 4,
    "start_time": "2023-07-23T16:26:09.892Z"
   },
   {
    "duration": 7,
    "start_time": "2023-07-23T16:26:09.898Z"
   },
   {
    "duration": 53,
    "start_time": "2023-07-23T16:26:09.907Z"
   },
   {
    "duration": 9,
    "start_time": "2023-07-23T16:26:09.962Z"
   },
   {
    "duration": 678,
    "start_time": "2023-07-23T17:11:13.586Z"
   },
   {
    "duration": 25,
    "start_time": "2023-07-23T17:11:14.266Z"
   },
   {
    "duration": 12,
    "start_time": "2023-07-23T17:11:14.293Z"
   },
   {
    "duration": 10,
    "start_time": "2023-07-23T17:11:14.307Z"
   },
   {
    "duration": 6,
    "start_time": "2023-07-23T17:11:14.320Z"
   },
   {
    "duration": 48,
    "start_time": "2023-07-23T17:11:14.328Z"
   },
   {
    "duration": 5,
    "start_time": "2023-07-23T17:11:14.378Z"
   },
   {
    "duration": 25,
    "start_time": "2023-07-23T17:11:14.384Z"
   },
   {
    "duration": 47,
    "start_time": "2023-07-23T17:11:14.412Z"
   },
   {
    "duration": 9,
    "start_time": "2023-07-23T17:11:14.461Z"
   },
   {
    "duration": 10,
    "start_time": "2023-07-23T17:11:14.472Z"
   },
   {
    "duration": 27,
    "start_time": "2023-07-23T17:11:14.483Z"
   },
   {
    "duration": 132,
    "start_time": "2023-07-23T17:11:14.512Z"
   },
   {
    "duration": 169,
    "start_time": "2023-07-23T17:11:30.828Z"
   },
   {
    "duration": 96,
    "start_time": "2023-07-23T17:16:47.079Z"
   },
   {
    "duration": 100,
    "start_time": "2023-07-23T17:17:27.614Z"
   },
   {
    "duration": 105,
    "start_time": "2023-07-23T17:19:39.267Z"
   },
   {
    "duration": 194,
    "start_time": "2023-07-23T17:19:46.890Z"
   },
   {
    "duration": 113,
    "start_time": "2023-07-23T17:20:31.265Z"
   },
   {
    "duration": 102,
    "start_time": "2023-07-23T17:20:49.859Z"
   },
   {
    "duration": 110,
    "start_time": "2023-07-23T17:23:17.684Z"
   },
   {
    "duration": 1518,
    "start_time": "2023-07-23T17:25:20.764Z"
   },
   {
    "duration": 20,
    "start_time": "2023-07-23T17:25:22.283Z"
   },
   {
    "duration": 13,
    "start_time": "2023-07-23T17:25:22.305Z"
   },
   {
    "duration": 5,
    "start_time": "2023-07-23T17:25:22.321Z"
   },
   {
    "duration": 29,
    "start_time": "2023-07-23T17:25:22.330Z"
   },
   {
    "duration": 12,
    "start_time": "2023-07-23T17:25:22.361Z"
   },
   {
    "duration": 5,
    "start_time": "2023-07-23T17:25:22.375Z"
   },
   {
    "duration": 13,
    "start_time": "2023-07-23T17:25:22.382Z"
   },
   {
    "duration": 25,
    "start_time": "2023-07-23T17:25:22.397Z"
   },
   {
    "duration": 38,
    "start_time": "2023-07-23T17:25:22.424Z"
   },
   {
    "duration": 9,
    "start_time": "2023-07-23T17:25:22.465Z"
   },
   {
    "duration": 32,
    "start_time": "2023-07-23T17:25:22.476Z"
   },
   {
    "duration": 123279,
    "start_time": "2023-07-23T17:25:22.510Z"
   },
   {
    "duration": 87,
    "start_time": "2023-07-23T17:30:11.761Z"
   },
   {
    "duration": 109,
    "start_time": "2023-07-23T17:30:54.895Z"
   },
   {
    "duration": 15,
    "start_time": "2023-07-23T17:31:00.158Z"
   },
   {
    "duration": 114,
    "start_time": "2023-07-23T17:31:44.109Z"
   },
   {
    "duration": 129,
    "start_time": "2023-07-23T17:32:16.161Z"
   },
   {
    "duration": 6,
    "start_time": "2023-07-23T17:32:41.926Z"
   },
   {
    "duration": 50,
    "start_time": "2023-07-23T17:52:27.051Z"
   },
   {
    "duration": 27,
    "start_time": "2023-07-23T18:07:31.049Z"
   },
   {
    "duration": 141,
    "start_time": "2023-07-23T18:08:41.149Z"
   },
   {
    "duration": 13,
    "start_time": "2023-07-23T18:08:46.639Z"
   },
   {
    "duration": 12,
    "start_time": "2023-07-23T18:09:22.073Z"
   },
   {
    "duration": 19,
    "start_time": "2023-07-23T18:09:42.514Z"
   },
   {
    "duration": 6,
    "start_time": "2023-07-23T18:10:00.115Z"
   },
   {
    "duration": 1587,
    "start_time": "2023-07-23T19:47:36.641Z"
   },
   {
    "duration": 19,
    "start_time": "2023-07-23T19:47:38.230Z"
   },
   {
    "duration": 15,
    "start_time": "2023-07-23T19:47:38.260Z"
   },
   {
    "duration": 8,
    "start_time": "2023-07-23T19:47:38.278Z"
   },
   {
    "duration": 16,
    "start_time": "2023-07-23T19:47:38.287Z"
   },
   {
    "duration": 19,
    "start_time": "2023-07-23T19:47:38.304Z"
   },
   {
    "duration": 4,
    "start_time": "2023-07-23T19:47:38.325Z"
   },
   {
    "duration": 38,
    "start_time": "2023-07-23T19:47:38.331Z"
   },
   {
    "duration": 25,
    "start_time": "2023-07-23T19:47:38.371Z"
   },
   {
    "duration": 5,
    "start_time": "2023-07-23T19:47:38.398Z"
   },
   {
    "duration": 42,
    "start_time": "2023-07-23T19:47:38.404Z"
   },
   {
    "duration": 39,
    "start_time": "2023-07-23T19:47:38.448Z"
   },
   {
    "duration": 5,
    "start_time": "2023-07-23T19:47:38.488Z"
   },
   {
    "duration": 14,
    "start_time": "2023-07-23T19:47:38.494Z"
   },
   {
    "duration": 124,
    "start_time": "2023-07-23T19:47:57.114Z"
   },
   {
    "duration": 38,
    "start_time": "2023-07-23T19:47:57.240Z"
   },
   {
    "duration": 10,
    "start_time": "2023-07-23T19:47:57.280Z"
   },
   {
    "duration": 8,
    "start_time": "2023-07-23T19:47:57.293Z"
   },
   {
    "duration": 16,
    "start_time": "2023-07-23T19:47:57.303Z"
   },
   {
    "duration": 27,
    "start_time": "2023-07-23T19:47:57.322Z"
   },
   {
    "duration": 4,
    "start_time": "2023-07-23T19:47:57.369Z"
   },
   {
    "duration": 18,
    "start_time": "2023-07-23T19:47:57.375Z"
   },
   {
    "duration": 24,
    "start_time": "2023-07-23T19:47:57.395Z"
   },
   {
    "duration": 5,
    "start_time": "2023-07-23T19:47:57.421Z"
   },
   {
    "duration": 36,
    "start_time": "2023-07-23T19:47:57.427Z"
   },
   {
    "duration": 46,
    "start_time": "2023-07-23T19:47:57.465Z"
   },
   {
    "duration": 6,
    "start_time": "2023-07-23T19:47:57.513Z"
   },
   {
    "duration": 12,
    "start_time": "2023-07-23T19:47:57.521Z"
   },
   {
    "duration": 113,
    "start_time": "2023-07-23T19:48:06.469Z"
   },
   {
    "duration": 100,
    "start_time": "2023-07-23T19:48:22.130Z"
   },
   {
    "duration": 19,
    "start_time": "2023-07-23T19:48:25.713Z"
   },
   {
    "duration": 11,
    "start_time": "2023-07-23T19:48:32.437Z"
   },
   {
    "duration": 16,
    "start_time": "2023-07-23T20:52:50.916Z"
   },
   {
    "duration": 135,
    "start_time": "2023-07-23T20:52:59.307Z"
   },
   {
    "duration": 1739,
    "start_time": "2023-07-23T21:00:17.102Z"
   },
   {
    "duration": 33,
    "start_time": "2023-07-23T21:00:18.842Z"
   },
   {
    "duration": 169,
    "start_time": "2023-07-23T21:00:18.877Z"
   },
   {
    "duration": 9,
    "start_time": "2023-07-23T21:00:19.048Z"
   },
   {
    "duration": 24,
    "start_time": "2023-07-23T21:00:19.059Z"
   },
   {
    "duration": 25,
    "start_time": "2023-07-23T21:00:19.085Z"
   },
   {
    "duration": 24,
    "start_time": "2023-07-23T21:00:19.112Z"
   },
   {
    "duration": 6,
    "start_time": "2023-07-23T21:00:19.138Z"
   },
   {
    "duration": 39,
    "start_time": "2023-07-23T21:00:19.146Z"
   },
   {
    "duration": 31,
    "start_time": "2023-07-23T21:00:19.188Z"
   },
   {
    "duration": 44,
    "start_time": "2023-07-23T21:00:19.221Z"
   },
   {
    "duration": 86,
    "start_time": "2023-07-23T21:00:19.267Z"
   },
   {
    "duration": 1659897,
    "start_time": "2023-07-23T21:00:19.355Z"
   },
   {
    "duration": 8,
    "start_time": "2023-07-23T21:27:59.254Z"
   },
   {
    "duration": 21,
    "start_time": "2023-07-23T21:27:59.264Z"
   },
   {
    "duration": 1539,
    "start_time": "2023-07-23T22:16:46.321Z"
   },
   {
    "duration": 18,
    "start_time": "2023-07-23T22:16:47.862Z"
   },
   {
    "duration": 11,
    "start_time": "2023-07-23T22:16:47.882Z"
   },
   {
    "duration": 7,
    "start_time": "2023-07-23T22:16:47.895Z"
   },
   {
    "duration": 46,
    "start_time": "2023-07-23T22:16:47.904Z"
   },
   {
    "duration": 4,
    "start_time": "2023-07-23T22:16:47.952Z"
   },
   {
    "duration": 17,
    "start_time": "2023-07-23T22:16:47.957Z"
   },
   {
    "duration": 6,
    "start_time": "2023-07-23T22:16:47.975Z"
   },
   {
    "duration": 34,
    "start_time": "2023-07-23T22:16:47.982Z"
   },
   {
    "duration": 4,
    "start_time": "2023-07-23T22:16:48.018Z"
   },
   {
    "duration": 21,
    "start_time": "2023-07-23T22:16:48.024Z"
   },
   {
    "duration": 53,
    "start_time": "2023-07-23T22:16:48.047Z"
   },
   {
    "duration": 1465,
    "start_time": "2023-07-23T22:43:40.792Z"
   },
   {
    "duration": 17,
    "start_time": "2023-07-23T22:43:42.259Z"
   },
   {
    "duration": 11,
    "start_time": "2023-07-23T22:43:42.277Z"
   },
   {
    "duration": 13,
    "start_time": "2023-07-23T22:43:42.289Z"
   },
   {
    "duration": 11,
    "start_time": "2023-07-23T22:43:42.304Z"
   },
   {
    "duration": 4,
    "start_time": "2023-07-23T22:43:42.316Z"
   },
   {
    "duration": 37,
    "start_time": "2023-07-23T22:43:42.322Z"
   },
   {
    "duration": 6,
    "start_time": "2023-07-23T22:43:42.361Z"
   },
   {
    "duration": 24,
    "start_time": "2023-07-23T22:43:42.369Z"
   },
   {
    "duration": 4,
    "start_time": "2023-07-23T22:43:42.394Z"
   },
   {
    "duration": 17,
    "start_time": "2023-07-23T22:43:42.400Z"
   },
   {
    "duration": 44,
    "start_time": "2023-07-23T22:43:42.418Z"
   },
   {
    "duration": 1540,
    "start_time": "2023-07-23T22:58:58.031Z"
   },
   {
    "duration": 19,
    "start_time": "2023-07-23T22:58:59.573Z"
   },
   {
    "duration": 11,
    "start_time": "2023-07-23T22:58:59.593Z"
   },
   {
    "duration": 7,
    "start_time": "2023-07-23T22:58:59.606Z"
   },
   {
    "duration": 12,
    "start_time": "2023-07-23T22:58:59.614Z"
   },
   {
    "duration": 4,
    "start_time": "2023-07-23T22:58:59.627Z"
   },
   {
    "duration": 33,
    "start_time": "2023-07-23T22:58:59.632Z"
   },
   {
    "duration": 8,
    "start_time": "2023-07-23T22:58:59.667Z"
   },
   {
    "duration": 23,
    "start_time": "2023-07-23T22:58:59.677Z"
   },
   {
    "duration": 4,
    "start_time": "2023-07-23T22:58:59.702Z"
   },
   {
    "duration": 10,
    "start_time": "2023-07-23T22:58:59.708Z"
   },
   {
    "duration": 58,
    "start_time": "2023-07-23T22:58:59.720Z"
   },
   {
    "duration": 1453552,
    "start_time": "2023-07-23T22:58:59.779Z"
   },
   {
    "duration": 4704,
    "start_time": "2023-07-23T23:23:13.332Z"
   },
   {
    "duration": 236821,
    "start_time": "2023-07-23T23:23:18.038Z"
   },
   {
    "duration": 97,
    "start_time": "2023-07-23T23:27:14.861Z"
   },
   {
    "duration": 11,
    "start_time": "2023-07-23T23:27:14.961Z"
   },
   {
    "duration": 161,
    "start_time": "2023-07-24T17:57:30.961Z"
   },
   {
    "duration": 2847,
    "start_time": "2023-07-24T17:57:42.530Z"
   },
   {
    "duration": 55,
    "start_time": "2023-07-24T17:57:45.385Z"
   },
   {
    "duration": 137,
    "start_time": "2023-07-24T17:57:45.447Z"
   },
   {
    "duration": 78,
    "start_time": "2023-07-24T17:57:45.596Z"
   },
   {
    "duration": 59,
    "start_time": "2023-07-24T17:57:45.682Z"
   },
   {
    "duration": 24,
    "start_time": "2023-07-24T17:57:45.749Z"
   },
   {
    "duration": 58,
    "start_time": "2023-07-24T17:57:45.775Z"
   },
   {
    "duration": 82,
    "start_time": "2023-07-24T17:57:45.840Z"
   },
   {
    "duration": 121,
    "start_time": "2023-07-24T17:57:45.927Z"
   },
   {
    "duration": 66,
    "start_time": "2023-07-24T17:57:46.055Z"
   },
   {
    "duration": 90,
    "start_time": "2023-07-24T17:57:46.123Z"
   },
   {
    "duration": 135,
    "start_time": "2023-07-24T17:57:46.215Z"
   },
   {
    "duration": 1502355,
    "start_time": "2023-07-24T17:57:46.352Z"
   },
   {
    "duration": 0,
    "start_time": "2023-07-24T18:22:48.709Z"
   },
   {
    "duration": 0,
    "start_time": "2023-07-24T18:22:48.710Z"
   },
   {
    "duration": 0,
    "start_time": "2023-07-24T18:22:48.712Z"
   },
   {
    "duration": 0,
    "start_time": "2023-07-24T18:22:48.713Z"
   },
   {
    "duration": 21,
    "start_time": "2023-07-24T18:23:04.782Z"
   },
   {
    "duration": 38,
    "start_time": "2023-07-24T18:23:07.763Z"
   },
   {
    "duration": 25,
    "start_time": "2023-07-24T18:23:11.128Z"
   },
   {
    "duration": 38,
    "start_time": "2023-07-24T18:23:27.276Z"
   },
   {
    "duration": 28,
    "start_time": "2023-07-24T18:23:38.266Z"
   },
   {
    "duration": 25,
    "start_time": "2023-07-24T18:25:38.698Z"
   },
   {
    "duration": 123,
    "start_time": "2023-07-24T18:28:00.717Z"
   },
   {
    "duration": 62,
    "start_time": "2023-07-24T18:30:46.108Z"
   },
   {
    "duration": 38,
    "start_time": "2023-07-24T18:41:07.704Z"
   },
   {
    "duration": 31,
    "start_time": "2023-07-24T18:42:15.701Z"
   },
   {
    "duration": 22,
    "start_time": "2023-07-24T18:42:57.654Z"
   },
   {
    "duration": 59,
    "start_time": "2023-07-24T18:42:58.717Z"
   },
   {
    "duration": 510,
    "start_time": "2023-07-24T18:43:00.383Z"
   },
   {
    "duration": 233,
    "start_time": "2023-07-24T18:43:02.857Z"
   },
   {
    "duration": 437,
    "start_time": "2023-07-24T18:43:10.144Z"
   },
   {
    "duration": 185,
    "start_time": "2023-07-24T18:43:13.068Z"
   },
   {
    "duration": 134,
    "start_time": "2023-07-24T18:43:15.925Z"
   },
   {
    "duration": 569,
    "start_time": "2023-07-24T18:43:16.755Z"
   },
   {
    "duration": 192,
    "start_time": "2023-07-24T18:43:18.792Z"
   },
   {
    "duration": 418,
    "start_time": "2023-07-24T18:43:21.799Z"
   },
   {
    "duration": 435,
    "start_time": "2023-07-24T18:43:30.124Z"
   },
   {
    "duration": 120,
    "start_time": "2023-07-24T18:43:33.323Z"
   },
   {
    "duration": 644,
    "start_time": "2023-07-24T18:44:18.840Z"
   },
   {
    "duration": 628,
    "start_time": "2023-07-24T18:44:22.437Z"
   },
   {
    "duration": 161,
    "start_time": "2023-07-24T18:44:25.406Z"
   },
   {
    "duration": 153,
    "start_time": "2023-07-24T18:44:39.338Z"
   },
   {
    "duration": 39,
    "start_time": "2023-07-24T18:47:53.880Z"
   },
   {
    "duration": 72,
    "start_time": "2023-07-24T18:53:47.657Z"
   },
   {
    "duration": 399,
    "start_time": "2023-07-24T18:54:07.680Z"
   },
   {
    "duration": 55,
    "start_time": "2023-07-24T18:54:23.989Z"
   },
   {
    "duration": 126,
    "start_time": "2023-07-24T18:54:27.768Z"
   },
   {
    "duration": 492,
    "start_time": "2023-07-24T18:54:33.457Z"
   },
   {
    "duration": 130,
    "start_time": "2023-07-24T18:54:35.477Z"
   },
   {
    "duration": 457,
    "start_time": "2023-07-24T18:54:37.605Z"
   },
   {
    "duration": 116,
    "start_time": "2023-07-24T18:54:40.422Z"
   },
   {
    "duration": 294,
    "start_time": "2023-07-24T18:54:42.153Z"
   },
   {
    "duration": 436,
    "start_time": "2023-07-24T18:54:45.723Z"
   },
   {
    "duration": 307,
    "start_time": "2023-07-24T18:54:52.100Z"
   },
   {
    "duration": 453,
    "start_time": "2023-07-24T18:54:54.826Z"
   },
   {
    "duration": 344,
    "start_time": "2023-07-24T18:54:57.689Z"
   },
   {
    "duration": 49,
    "start_time": "2023-07-24T18:55:01.279Z"
   },
   {
    "duration": 335,
    "start_time": "2023-07-24T19:18:57.971Z"
   },
   {
    "duration": 305,
    "start_time": "2023-07-24T19:20:16.295Z"
   },
   {
    "duration": 111,
    "start_time": "2023-07-24T19:20:19.323Z"
   },
   {
    "duration": 246,
    "start_time": "2023-07-24T19:20:22.513Z"
   },
   {
    "duration": 286,
    "start_time": "2023-07-24T19:20:25.998Z"
   },
   {
    "duration": 29,
    "start_time": "2023-07-24T19:29:18.118Z"
   },
   {
    "duration": 17,
    "start_time": "2023-07-24T19:30:58.508Z"
   },
   {
    "duration": 38,
    "start_time": "2023-07-24T19:32:48.359Z"
   },
   {
    "duration": 755348,
    "start_time": "2023-07-24T19:48:40.849Z"
   },
   {
    "duration": 0,
    "start_time": "2023-07-24T20:01:16.203Z"
   },
   {
    "duration": 0,
    "start_time": "2023-07-24T20:01:16.208Z"
   },
   {
    "duration": 1629,
    "start_time": "2023-07-24T20:01:21.326Z"
   },
   {
    "duration": 853,
    "start_time": "2023-07-24T20:03:32.766Z"
   },
   {
    "duration": 1923,
    "start_time": "2023-07-24T20:04:03.288Z"
   },
   {
    "duration": 863,
    "start_time": "2023-07-24T20:04:53.956Z"
   },
   {
    "duration": 260,
    "start_time": "2023-07-24T20:22:07.052Z"
   },
   {
    "duration": 3107,
    "start_time": "2023-07-24T20:22:23.743Z"
   },
   {
    "duration": 43,
    "start_time": "2023-07-24T20:22:26.859Z"
   },
   {
    "duration": 167,
    "start_time": "2023-07-24T20:22:26.912Z"
   },
   {
    "duration": 91,
    "start_time": "2023-07-24T20:22:27.086Z"
   },
   {
    "duration": 78,
    "start_time": "2023-07-24T20:22:27.180Z"
   },
   {
    "duration": 118,
    "start_time": "2023-07-24T20:22:27.263Z"
   },
   {
    "duration": 114,
    "start_time": "2023-07-24T20:22:27.393Z"
   },
   {
    "duration": 111,
    "start_time": "2023-07-24T20:22:27.513Z"
   },
   {
    "duration": 174,
    "start_time": "2023-07-24T20:22:27.644Z"
   },
   {
    "duration": 118,
    "start_time": "2023-07-24T20:22:27.824Z"
   },
   {
    "duration": 77,
    "start_time": "2023-07-24T20:22:27.948Z"
   },
   {
    "duration": 130,
    "start_time": "2023-07-24T20:22:28.038Z"
   },
   {
    "duration": 4850,
    "start_time": "2023-07-24T20:22:28.174Z"
   },
   {
    "duration": 0,
    "start_time": "2023-07-24T20:22:33.032Z"
   },
   {
    "duration": 0,
    "start_time": "2023-07-24T20:22:33.045Z"
   },
   {
    "duration": 0,
    "start_time": "2023-07-24T20:22:33.050Z"
   },
   {
    "duration": 0,
    "start_time": "2023-07-24T20:22:33.056Z"
   },
   {
    "duration": 0,
    "start_time": "2023-07-24T20:22:33.061Z"
   },
   {
    "duration": 0,
    "start_time": "2023-07-24T20:22:33.066Z"
   },
   {
    "duration": 0,
    "start_time": "2023-07-24T20:22:33.071Z"
   },
   {
    "duration": 0,
    "start_time": "2023-07-24T20:22:33.073Z"
   },
   {
    "duration": 0,
    "start_time": "2023-07-24T20:22:33.074Z"
   },
   {
    "duration": 0,
    "start_time": "2023-07-24T20:22:33.076Z"
   },
   {
    "duration": 0,
    "start_time": "2023-07-24T20:22:33.080Z"
   },
   {
    "duration": 0,
    "start_time": "2023-07-24T20:22:33.081Z"
   },
   {
    "duration": 0,
    "start_time": "2023-07-24T20:22:33.083Z"
   },
   {
    "duration": 0,
    "start_time": "2023-07-24T20:22:33.086Z"
   },
   {
    "duration": 0,
    "start_time": "2023-07-24T20:22:33.088Z"
   },
   {
    "duration": 0,
    "start_time": "2023-07-24T20:22:33.093Z"
   },
   {
    "duration": 1,
    "start_time": "2023-07-24T20:22:33.096Z"
   },
   {
    "duration": 0,
    "start_time": "2023-07-24T20:22:33.098Z"
   },
   {
    "duration": 0,
    "start_time": "2023-07-24T20:22:33.104Z"
   },
   {
    "duration": 0,
    "start_time": "2023-07-24T20:22:33.105Z"
   },
   {
    "duration": 0,
    "start_time": "2023-07-24T20:22:33.107Z"
   },
   {
    "duration": 0,
    "start_time": "2023-07-24T20:22:33.115Z"
   },
   {
    "duration": 0,
    "start_time": "2023-07-24T20:22:33.116Z"
   },
   {
    "duration": 288,
    "start_time": "2023-07-24T20:22:53.266Z"
   },
   {
    "duration": 42,
    "start_time": "2023-07-24T20:23:57.679Z"
   },
   {
    "duration": 23,
    "start_time": "2023-07-24T20:24:46.975Z"
   },
   {
    "duration": 16887,
    "start_time": "2023-07-24T20:25:27.616Z"
   },
   {
    "duration": 14552,
    "start_time": "2023-07-24T20:26:27.572Z"
   },
   {
    "duration": 15,
    "start_time": "2023-07-24T20:29:57.009Z"
   },
   {
    "duration": 10,
    "start_time": "2023-07-24T20:30:10.218Z"
   },
   {
    "duration": 30,
    "start_time": "2023-07-24T20:30:16.961Z"
   },
   {
    "duration": 43,
    "start_time": "2023-07-24T20:30:19.560Z"
   },
   {
    "duration": 7200,
    "start_time": "2023-07-24T20:30:35.206Z"
   },
   {
    "duration": 16805,
    "start_time": "2023-07-24T20:42:57.520Z"
   },
   {
    "duration": 31,
    "start_time": "2023-07-24T20:47:13.542Z"
   },
   {
    "duration": 32,
    "start_time": "2023-07-24T20:47:19.978Z"
   },
   {
    "duration": 9975,
    "start_time": "2023-07-24T20:48:20.856Z"
   },
   {
    "duration": 22,
    "start_time": "2023-07-24T20:49:04.660Z"
   },
   {
    "duration": 49,
    "start_time": "2023-07-24T20:55:27.605Z"
   },
   {
    "duration": 2123,
    "start_time": "2023-07-24T20:55:38.677Z"
   },
   {
    "duration": 33,
    "start_time": "2023-07-24T20:55:40.806Z"
   },
   {
    "duration": 112,
    "start_time": "2023-07-24T20:55:40.841Z"
   },
   {
    "duration": 26,
    "start_time": "2023-07-24T20:55:40.960Z"
   },
   {
    "duration": 50,
    "start_time": "2023-07-24T20:55:40.996Z"
   },
   {
    "duration": 58,
    "start_time": "2023-07-24T20:55:41.052Z"
   },
   {
    "duration": 42,
    "start_time": "2023-07-24T20:55:41.113Z"
   },
   {
    "duration": 30,
    "start_time": "2023-07-24T20:55:41.161Z"
   },
   {
    "duration": 130,
    "start_time": "2023-07-24T20:55:41.197Z"
   },
   {
    "duration": 18,
    "start_time": "2023-07-24T20:55:41.329Z"
   },
   {
    "duration": 77,
    "start_time": "2023-07-24T20:55:41.348Z"
   },
   {
    "duration": 138,
    "start_time": "2023-07-24T20:55:41.427Z"
   },
   {
    "duration": 2777,
    "start_time": "2023-07-24T20:55:41.566Z"
   },
   {
    "duration": 0,
    "start_time": "2023-07-24T20:55:44.346Z"
   },
   {
    "duration": 0,
    "start_time": "2023-07-24T20:55:44.351Z"
   },
   {
    "duration": 0,
    "start_time": "2023-07-24T20:55:44.352Z"
   },
   {
    "duration": 0,
    "start_time": "2023-07-24T20:55:44.353Z"
   },
   {
    "duration": 0,
    "start_time": "2023-07-24T20:55:44.354Z"
   },
   {
    "duration": 0,
    "start_time": "2023-07-24T20:55:44.360Z"
   },
   {
    "duration": 0,
    "start_time": "2023-07-24T20:55:44.361Z"
   },
   {
    "duration": 0,
    "start_time": "2023-07-24T20:55:44.363Z"
   },
   {
    "duration": 0,
    "start_time": "2023-07-24T20:55:44.364Z"
   },
   {
    "duration": 0,
    "start_time": "2023-07-24T20:55:44.365Z"
   },
   {
    "duration": 0,
    "start_time": "2023-07-24T20:55:44.366Z"
   },
   {
    "duration": 0,
    "start_time": "2023-07-24T20:55:44.367Z"
   },
   {
    "duration": 0,
    "start_time": "2023-07-24T20:55:44.368Z"
   },
   {
    "duration": 0,
    "start_time": "2023-07-24T20:55:44.371Z"
   },
   {
    "duration": 0,
    "start_time": "2023-07-24T20:55:44.372Z"
   },
   {
    "duration": 0,
    "start_time": "2023-07-24T20:55:44.380Z"
   },
   {
    "duration": 0,
    "start_time": "2023-07-24T20:55:44.381Z"
   },
   {
    "duration": 0,
    "start_time": "2023-07-24T20:55:44.382Z"
   },
   {
    "duration": 0,
    "start_time": "2023-07-24T20:55:44.383Z"
   },
   {
    "duration": 0,
    "start_time": "2023-07-24T20:55:44.386Z"
   },
   {
    "duration": 0,
    "start_time": "2023-07-24T20:55:44.388Z"
   },
   {
    "duration": 0,
    "start_time": "2023-07-24T20:55:44.389Z"
   },
   {
    "duration": 33,
    "start_time": "2023-07-24T20:57:01.765Z"
   },
   {
    "duration": 13681,
    "start_time": "2023-07-24T20:57:10.528Z"
   },
   {
    "duration": 19,
    "start_time": "2023-07-24T20:57:32.700Z"
   },
   {
    "duration": 12,
    "start_time": "2023-07-24T20:57:36.207Z"
   },
   {
    "duration": 22,
    "start_time": "2023-07-24T20:57:39.986Z"
   },
   {
    "duration": 7372,
    "start_time": "2023-07-24T20:57:43.403Z"
   },
   {
    "duration": 7479,
    "start_time": "2023-07-24T20:58:14.919Z"
   },
   {
    "duration": 137,
    "start_time": "2023-07-24T20:58:22.400Z"
   },
   {
    "duration": 116,
    "start_time": "2023-07-24T20:58:22.538Z"
   },
   {
    "duration": 88,
    "start_time": "2023-07-24T20:58:22.664Z"
   },
   {
    "duration": 1945,
    "start_time": "2023-07-24T20:58:22.755Z"
   },
   {
    "duration": 44,
    "start_time": "2023-07-24T20:58:24.702Z"
   },
   {
    "duration": 350,
    "start_time": "2023-07-24T20:58:24.751Z"
   },
   {
    "duration": 145,
    "start_time": "2023-07-24T20:58:25.110Z"
   },
   {
    "duration": 50953,
    "start_time": "2023-07-24T20:58:25.266Z"
   },
   {
    "duration": 0,
    "start_time": "2023-07-24T20:59:16.227Z"
   },
   {
    "duration": 0,
    "start_time": "2023-07-24T20:59:16.230Z"
   },
   {
    "duration": 0,
    "start_time": "2023-07-24T20:59:16.231Z"
   },
   {
    "duration": 0,
    "start_time": "2023-07-24T20:59:16.232Z"
   },
   {
    "duration": 0,
    "start_time": "2023-07-24T20:59:16.233Z"
   },
   {
    "duration": 0,
    "start_time": "2023-07-24T20:59:16.233Z"
   },
   {
    "duration": 0,
    "start_time": "2023-07-24T20:59:16.234Z"
   },
   {
    "duration": 199,
    "start_time": "2023-07-24T20:59:44.568Z"
   },
   {
    "duration": 1060,
    "start_time": "2023-07-24T20:59:44.791Z"
   },
   {
    "duration": 28,
    "start_time": "2023-07-24T20:59:45.853Z"
   },
   {
    "duration": 330,
    "start_time": "2023-07-24T20:59:45.883Z"
   },
   {
    "duration": 66,
    "start_time": "2023-07-24T20:59:46.220Z"
   },
   {
    "duration": 97,
    "start_time": "2023-07-24T20:59:46.288Z"
   },
   {
    "duration": 30,
    "start_time": "2023-07-24T20:59:46.387Z"
   },
   {
    "duration": 80,
    "start_time": "2023-07-24T20:59:46.420Z"
   },
   {
    "duration": 241,
    "start_time": "2023-07-24T21:01:40.306Z"
   },
   {
    "duration": 8,
    "start_time": "2023-07-24T21:01:43.718Z"
   },
   {
    "duration": 29,
    "start_time": "2023-07-24T21:01:47.319Z"
   },
   {
    "duration": 13,
    "start_time": "2023-07-24T21:01:48.673Z"
   },
   {
    "duration": 74,
    "start_time": "2023-07-24T21:01:49.567Z"
   },
   {
    "duration": 21,
    "start_time": "2023-07-24T21:01:51.295Z"
   },
   {
    "duration": 7575,
    "start_time": "2023-07-24T21:02:41.452Z"
   },
   {
    "duration": 24,
    "start_time": "2023-07-24T21:03:43.596Z"
   },
   {
    "duration": 31,
    "start_time": "2023-07-24T21:03:46.572Z"
   },
   {
    "duration": 66,
    "start_time": "2023-07-24T21:03:47.631Z"
   },
   {
    "duration": 8193,
    "start_time": "2023-07-24T21:04:43.339Z"
   },
   {
    "duration": 165,
    "start_time": "2023-07-24T21:04:53.618Z"
   },
   {
    "duration": 59,
    "start_time": "2023-07-24T21:04:57.519Z"
   },
   {
    "duration": 55,
    "start_time": "2023-07-24T21:05:16.488Z"
   },
   {
    "duration": 22,
    "start_time": "2023-07-24T21:05:19.595Z"
   },
   {
    "duration": 75,
    "start_time": "2023-07-24T21:05:22.564Z"
   },
   {
    "duration": 15,
    "start_time": "2023-07-24T21:05:28.096Z"
   },
   {
    "duration": 37,
    "start_time": "2023-07-24T21:05:31.054Z"
   },
   {
    "duration": 58,
    "start_time": "2023-07-24T21:06:19.356Z"
   },
   {
    "duration": 49,
    "start_time": "2023-07-25T16:22:25.634Z"
   },
   {
    "duration": 1942,
    "start_time": "2023-07-25T16:22:32.695Z"
   },
   {
    "duration": 20,
    "start_time": "2023-07-25T16:22:34.640Z"
   },
   {
    "duration": 17,
    "start_time": "2023-07-25T16:22:34.675Z"
   },
   {
    "duration": 5,
    "start_time": "2023-07-25T16:22:34.694Z"
   },
   {
    "duration": 25,
    "start_time": "2023-07-25T16:22:34.701Z"
   },
   {
    "duration": 5,
    "start_time": "2023-07-25T16:22:34.728Z"
   },
   {
    "duration": 13,
    "start_time": "2023-07-25T16:22:34.735Z"
   },
   {
    "duration": 30,
    "start_time": "2023-07-25T16:22:34.749Z"
   },
   {
    "duration": 42,
    "start_time": "2023-07-25T16:22:34.780Z"
   },
   {
    "duration": 8,
    "start_time": "2023-07-25T16:22:34.824Z"
   },
   {
    "duration": 6,
    "start_time": "2023-07-25T16:22:34.834Z"
   },
   {
    "duration": 47,
    "start_time": "2023-07-25T16:22:34.842Z"
   },
   {
    "duration": 9459,
    "start_time": "2023-07-25T16:22:34.891Z"
   },
   {
    "duration": 234,
    "start_time": "2023-07-25T16:22:44.353Z"
   },
   {
    "duration": 0,
    "start_time": "2023-07-25T16:22:44.589Z"
   },
   {
    "duration": 0,
    "start_time": "2023-07-25T16:22:44.590Z"
   },
   {
    "duration": 0,
    "start_time": "2023-07-25T16:22:44.592Z"
   },
   {
    "duration": 0,
    "start_time": "2023-07-25T16:22:44.593Z"
   },
   {
    "duration": 0,
    "start_time": "2023-07-25T16:22:44.594Z"
   },
   {
    "duration": 0,
    "start_time": "2023-07-25T16:22:44.595Z"
   },
   {
    "duration": 0,
    "start_time": "2023-07-25T16:22:44.596Z"
   },
   {
    "duration": 0,
    "start_time": "2023-07-25T16:22:44.597Z"
   },
   {
    "duration": 0,
    "start_time": "2023-07-25T16:22:44.598Z"
   },
   {
    "duration": 0,
    "start_time": "2023-07-25T16:22:44.599Z"
   },
   {
    "duration": 0,
    "start_time": "2023-07-25T16:22:44.600Z"
   },
   {
    "duration": 0,
    "start_time": "2023-07-25T16:22:44.601Z"
   },
   {
    "duration": 1,
    "start_time": "2023-07-25T16:22:44.602Z"
   },
   {
    "duration": 0,
    "start_time": "2023-07-25T16:22:44.603Z"
   },
   {
    "duration": 0,
    "start_time": "2023-07-25T16:22:44.605Z"
   },
   {
    "duration": 0,
    "start_time": "2023-07-25T16:22:44.606Z"
   },
   {
    "duration": 0,
    "start_time": "2023-07-25T16:22:44.607Z"
   },
   {
    "duration": 0,
    "start_time": "2023-07-25T16:22:44.607Z"
   },
   {
    "duration": 79207,
    "start_time": "2023-07-25T16:23:05.939Z"
   },
   {
    "duration": 66,
    "start_time": "2023-07-25T16:34:31.768Z"
   },
   {
    "duration": 65,
    "start_time": "2023-07-25T16:35:33.160Z"
   },
   {
    "duration": 14,
    "start_time": "2023-07-25T16:35:56.230Z"
   },
   {
    "duration": 1761,
    "start_time": "2023-07-25T17:13:04.334Z"
   },
   {
    "duration": 25,
    "start_time": "2023-07-25T17:13:06.098Z"
   },
   {
    "duration": 14,
    "start_time": "2023-07-25T17:13:06.125Z"
   },
   {
    "duration": 15,
    "start_time": "2023-07-25T17:13:06.141Z"
   },
   {
    "duration": 24,
    "start_time": "2023-07-25T17:13:06.157Z"
   },
   {
    "duration": 8,
    "start_time": "2023-07-25T17:13:06.183Z"
   },
   {
    "duration": 15,
    "start_time": "2023-07-25T17:13:06.192Z"
   },
   {
    "duration": 7,
    "start_time": "2023-07-25T17:13:06.209Z"
   },
   {
    "duration": 68,
    "start_time": "2023-07-25T17:13:06.217Z"
   },
   {
    "duration": 5,
    "start_time": "2023-07-25T17:13:06.289Z"
   },
   {
    "duration": 12,
    "start_time": "2023-07-25T17:13:06.296Z"
   },
   {
    "duration": 36,
    "start_time": "2023-07-25T17:13:06.310Z"
   },
   {
    "duration": 86,
    "start_time": "2023-07-25T17:13:06.348Z"
   },
   {
    "duration": 0,
    "start_time": "2023-07-25T17:13:06.435Z"
   },
   {
    "duration": 0,
    "start_time": "2023-07-25T17:13:06.436Z"
   },
   {
    "duration": 0,
    "start_time": "2023-07-25T17:13:06.437Z"
   },
   {
    "duration": 1,
    "start_time": "2023-07-25T17:13:06.438Z"
   },
   {
    "duration": 0,
    "start_time": "2023-07-25T17:13:06.440Z"
   },
   {
    "duration": 0,
    "start_time": "2023-07-25T17:13:06.441Z"
   },
   {
    "duration": 0,
    "start_time": "2023-07-25T17:13:06.442Z"
   },
   {
    "duration": 0,
    "start_time": "2023-07-25T17:13:06.443Z"
   },
   {
    "duration": 0,
    "start_time": "2023-07-25T17:13:06.444Z"
   },
   {
    "duration": 0,
    "start_time": "2023-07-25T17:13:06.445Z"
   },
   {
    "duration": 0,
    "start_time": "2023-07-25T17:13:06.446Z"
   },
   {
    "duration": 0,
    "start_time": "2023-07-25T17:13:06.448Z"
   },
   {
    "duration": 0,
    "start_time": "2023-07-25T17:13:06.449Z"
   },
   {
    "duration": 0,
    "start_time": "2023-07-25T17:13:06.451Z"
   },
   {
    "duration": 0,
    "start_time": "2023-07-25T17:13:06.452Z"
   },
   {
    "duration": 0,
    "start_time": "2023-07-25T17:13:06.453Z"
   },
   {
    "duration": 0,
    "start_time": "2023-07-25T17:13:06.454Z"
   },
   {
    "duration": 0,
    "start_time": "2023-07-25T17:13:06.455Z"
   },
   {
    "duration": 0,
    "start_time": "2023-07-25T17:13:06.456Z"
   },
   {
    "duration": 0,
    "start_time": "2023-07-25T17:13:06.458Z"
   },
   {
    "duration": 105,
    "start_time": "2023-07-25T17:13:13.305Z"
   },
   {
    "duration": 28,
    "start_time": "2023-07-25T17:13:13.413Z"
   },
   {
    "duration": 32,
    "start_time": "2023-07-25T17:13:13.443Z"
   },
   {
    "duration": 6,
    "start_time": "2023-07-25T17:13:13.477Z"
   },
   {
    "duration": 45,
    "start_time": "2023-07-25T17:13:13.486Z"
   },
   {
    "duration": 36,
    "start_time": "2023-07-25T17:13:13.533Z"
   },
   {
    "duration": 18,
    "start_time": "2023-07-25T17:13:13.571Z"
   },
   {
    "duration": 28,
    "start_time": "2023-07-25T17:13:13.591Z"
   },
   {
    "duration": 57,
    "start_time": "2023-07-25T17:13:13.621Z"
   },
   {
    "duration": 7,
    "start_time": "2023-07-25T17:13:13.680Z"
   },
   {
    "duration": 38,
    "start_time": "2023-07-25T17:13:13.688Z"
   },
   {
    "duration": 66,
    "start_time": "2023-07-25T17:13:13.727Z"
   },
   {
    "duration": 75,
    "start_time": "2023-07-25T17:13:13.795Z"
   },
   {
    "duration": 0,
    "start_time": "2023-07-25T17:13:13.873Z"
   },
   {
    "duration": 0,
    "start_time": "2023-07-25T17:13:13.875Z"
   },
   {
    "duration": 0,
    "start_time": "2023-07-25T17:13:13.876Z"
   },
   {
    "duration": 0,
    "start_time": "2023-07-25T17:13:13.877Z"
   },
   {
    "duration": 0,
    "start_time": "2023-07-25T17:13:13.878Z"
   },
   {
    "duration": 0,
    "start_time": "2023-07-25T17:13:13.880Z"
   },
   {
    "duration": 0,
    "start_time": "2023-07-25T17:13:13.881Z"
   },
   {
    "duration": 0,
    "start_time": "2023-07-25T17:13:13.882Z"
   },
   {
    "duration": 0,
    "start_time": "2023-07-25T17:13:13.883Z"
   },
   {
    "duration": 0,
    "start_time": "2023-07-25T17:13:13.885Z"
   },
   {
    "duration": 0,
    "start_time": "2023-07-25T17:13:13.886Z"
   },
   {
    "duration": 0,
    "start_time": "2023-07-25T17:13:13.888Z"
   },
   {
    "duration": 0,
    "start_time": "2023-07-25T17:13:13.889Z"
   },
   {
    "duration": 0,
    "start_time": "2023-07-25T17:13:13.891Z"
   },
   {
    "duration": 0,
    "start_time": "2023-07-25T17:13:13.894Z"
   },
   {
    "duration": 0,
    "start_time": "2023-07-25T17:13:13.895Z"
   },
   {
    "duration": 0,
    "start_time": "2023-07-25T17:13:13.896Z"
   },
   {
    "duration": 0,
    "start_time": "2023-07-25T17:13:13.897Z"
   },
   {
    "duration": 0,
    "start_time": "2023-07-25T17:13:13.899Z"
   },
   {
    "duration": 0,
    "start_time": "2023-07-25T17:13:13.900Z"
   },
   {
    "duration": 60,
    "start_time": "2023-07-25T17:13:49.095Z"
   },
   {
    "duration": 63,
    "start_time": "2023-07-25T17:14:05.387Z"
   },
   {
    "duration": 7,
    "start_time": "2023-07-25T17:15:13.736Z"
   },
   {
    "duration": 110,
    "start_time": "2023-07-25T17:16:10.762Z"
   },
   {
    "duration": 19,
    "start_time": "2023-07-25T17:16:48.511Z"
   },
   {
    "duration": 19,
    "start_time": "2023-07-25T17:20:20.439Z"
   },
   {
    "duration": 96,
    "start_time": "2023-07-25T17:20:30.920Z"
   },
   {
    "duration": 19,
    "start_time": "2023-07-25T17:20:31.018Z"
   },
   {
    "duration": 41,
    "start_time": "2023-07-25T17:20:31.038Z"
   },
   {
    "duration": 35,
    "start_time": "2023-07-25T17:20:31.080Z"
   },
   {
    "duration": 56,
    "start_time": "2023-07-25T17:20:31.117Z"
   },
   {
    "duration": 34,
    "start_time": "2023-07-25T17:20:31.176Z"
   },
   {
    "duration": 55,
    "start_time": "2023-07-25T17:20:31.212Z"
   },
   {
    "duration": 63,
    "start_time": "2023-07-25T17:20:31.269Z"
   },
   {
    "duration": 54,
    "start_time": "2023-07-25T17:20:31.334Z"
   },
   {
    "duration": 44,
    "start_time": "2023-07-25T17:20:31.389Z"
   },
   {
    "duration": 48,
    "start_time": "2023-07-25T17:20:31.435Z"
   },
   {
    "duration": 72,
    "start_time": "2023-07-25T17:20:31.485Z"
   },
   {
    "duration": 42,
    "start_time": "2023-07-25T17:20:31.559Z"
   },
   {
    "duration": 0,
    "start_time": "2023-07-25T17:20:31.603Z"
   },
   {
    "duration": 0,
    "start_time": "2023-07-25T17:20:31.604Z"
   },
   {
    "duration": 0,
    "start_time": "2023-07-25T17:20:31.605Z"
   },
   {
    "duration": 0,
    "start_time": "2023-07-25T17:20:31.607Z"
   },
   {
    "duration": 0,
    "start_time": "2023-07-25T17:20:31.609Z"
   },
   {
    "duration": 0,
    "start_time": "2023-07-25T17:20:31.611Z"
   },
   {
    "duration": 0,
    "start_time": "2023-07-25T17:20:31.612Z"
   },
   {
    "duration": 0,
    "start_time": "2023-07-25T17:20:31.613Z"
   },
   {
    "duration": 0,
    "start_time": "2023-07-25T17:20:31.614Z"
   },
   {
    "duration": 0,
    "start_time": "2023-07-25T17:20:31.616Z"
   },
   {
    "duration": 0,
    "start_time": "2023-07-25T17:20:31.617Z"
   },
   {
    "duration": 0,
    "start_time": "2023-07-25T17:20:31.619Z"
   },
   {
    "duration": 0,
    "start_time": "2023-07-25T17:20:31.620Z"
   },
   {
    "duration": 0,
    "start_time": "2023-07-25T17:20:31.622Z"
   },
   {
    "duration": 0,
    "start_time": "2023-07-25T17:20:31.623Z"
   },
   {
    "duration": 0,
    "start_time": "2023-07-25T17:20:31.625Z"
   },
   {
    "duration": 0,
    "start_time": "2023-07-25T17:20:31.626Z"
   },
   {
    "duration": 0,
    "start_time": "2023-07-25T17:20:31.628Z"
   },
   {
    "duration": 0,
    "start_time": "2023-07-25T17:20:31.630Z"
   },
   {
    "duration": 0,
    "start_time": "2023-07-25T17:20:31.632Z"
   },
   {
    "duration": 15,
    "start_time": "2023-07-25T17:21:01.647Z"
   },
   {
    "duration": 17,
    "start_time": "2023-07-25T17:21:50.395Z"
   },
   {
    "duration": 16,
    "start_time": "2023-07-25T17:22:10.412Z"
   },
   {
    "duration": 19,
    "start_time": "2023-07-25T17:23:31.760Z"
   },
   {
    "duration": 14,
    "start_time": "2023-07-25T17:24:15.191Z"
   },
   {
    "duration": 15,
    "start_time": "2023-07-25T17:24:28.395Z"
   },
   {
    "duration": 14,
    "start_time": "2023-07-25T17:25:53.396Z"
   },
   {
    "duration": 19,
    "start_time": "2023-07-25T17:26:32.143Z"
   },
   {
    "duration": 191,
    "start_time": "2023-07-25T17:26:52.641Z"
   },
   {
    "duration": 19,
    "start_time": "2023-07-25T17:26:52.834Z"
   },
   {
    "duration": 35,
    "start_time": "2023-07-25T17:26:52.855Z"
   },
   {
    "duration": 4,
    "start_time": "2023-07-25T17:26:52.891Z"
   },
   {
    "duration": 35,
    "start_time": "2023-07-25T17:26:52.897Z"
   },
   {
    "duration": 25,
    "start_time": "2023-07-25T17:26:52.934Z"
   },
   {
    "duration": 39,
    "start_time": "2023-07-25T17:26:52.960Z"
   },
   {
    "duration": 28,
    "start_time": "2023-07-25T17:26:53.001Z"
   },
   {
    "duration": 57,
    "start_time": "2023-07-25T17:26:53.031Z"
   },
   {
    "duration": 17,
    "start_time": "2023-07-25T17:26:53.090Z"
   },
   {
    "duration": 57,
    "start_time": "2023-07-25T17:26:53.109Z"
   },
   {
    "duration": 64,
    "start_time": "2023-07-25T17:26:53.168Z"
   },
   {
    "duration": 90,
    "start_time": "2023-07-25T17:26:53.233Z"
   },
   {
    "duration": 83290,
    "start_time": "2023-07-25T17:26:53.326Z"
   },
   {
    "duration": 17257,
    "start_time": "2023-07-25T17:28:16.618Z"
   },
   {
    "duration": 9,
    "start_time": "2023-07-25T17:28:33.878Z"
   },
   {
    "duration": 103,
    "start_time": "2023-07-25T17:28:33.890Z"
   },
   {
    "duration": 21,
    "start_time": "2023-07-25T17:28:33.995Z"
   },
   {
    "duration": 5805,
    "start_time": "2023-07-25T17:28:34.019Z"
   },
   {
    "duration": 122,
    "start_time": "2023-07-25T17:28:39.826Z"
   },
   {
    "duration": 51,
    "start_time": "2023-07-25T17:28:39.950Z"
   },
   {
    "duration": 98,
    "start_time": "2023-07-25T17:28:40.003Z"
   },
   {
    "duration": 1671,
    "start_time": "2023-07-25T17:28:40.174Z"
   },
   {
    "duration": 35,
    "start_time": "2023-07-25T17:28:41.847Z"
   },
   {
    "duration": 282,
    "start_time": "2023-07-25T17:28:41.887Z"
   },
   {
    "duration": 106,
    "start_time": "2023-07-25T17:28:42.170Z"
   },
   {
    "duration": 850,
    "start_time": "2023-07-25T17:28:42.278Z"
   },
   {
    "duration": 31,
    "start_time": "2023-07-25T17:28:43.129Z"
   },
   {
    "duration": 193,
    "start_time": "2023-07-25T17:28:43.177Z"
   },
   {
    "duration": 44,
    "start_time": "2023-07-25T17:28:43.372Z"
   },
   {
    "duration": 162,
    "start_time": "2023-07-25T17:28:43.419Z"
   },
   {
    "duration": 12,
    "start_time": "2023-07-25T17:28:43.583Z"
   },
   {
    "duration": 81,
    "start_time": "2023-07-25T17:28:43.597Z"
   },
   {
    "duration": 10363,
    "start_time": "2023-07-25T17:28:43.685Z"
   },
   {
    "duration": 5,
    "start_time": "2023-07-25T17:29:32.993Z"
   },
   {
    "duration": 10662,
    "start_time": "2023-07-25T17:29:36.399Z"
   },
   {
    "duration": 5,
    "start_time": "2023-07-25T17:32:36.647Z"
   },
   {
    "duration": 82883,
    "start_time": "2023-07-25T17:33:14.007Z"
   },
   {
    "duration": 4,
    "start_time": "2023-07-25T17:43:38.444Z"
   },
   {
    "duration": 7645,
    "start_time": "2023-07-25T17:43:54.161Z"
   },
   {
    "duration": 10,
    "start_time": "2023-07-25T17:48:33.192Z"
   },
   {
    "duration": 5741,
    "start_time": "2023-07-25T17:48:50.696Z"
   },
   {
    "duration": 5436,
    "start_time": "2023-07-25T17:49:19.454Z"
   },
   {
    "duration": 8469,
    "start_time": "2023-07-25T17:51:41.545Z"
   },
   {
    "duration": 112207,
    "start_time": "2023-07-25T17:51:55.270Z"
   },
   {
    "duration": 2015,
    "start_time": "2023-07-25T18:07:29.042Z"
   },
   {
    "duration": 37,
    "start_time": "2023-07-25T18:07:31.060Z"
   },
   {
    "duration": 30,
    "start_time": "2023-07-25T18:07:31.099Z"
   },
   {
    "duration": 47,
    "start_time": "2023-07-25T18:07:31.133Z"
   },
   {
    "duration": 55,
    "start_time": "2023-07-25T18:07:31.187Z"
   },
   {
    "duration": 80,
    "start_time": "2023-07-25T18:07:31.244Z"
   },
   {
    "duration": 109,
    "start_time": "2023-07-25T18:07:31.327Z"
   },
   {
    "duration": 31,
    "start_time": "2023-07-25T18:07:31.438Z"
   },
   {
    "duration": 83,
    "start_time": "2023-07-25T18:07:31.471Z"
   },
   {
    "duration": 12,
    "start_time": "2023-07-25T18:07:31.556Z"
   },
   {
    "duration": 44,
    "start_time": "2023-07-25T18:07:31.570Z"
   },
   {
    "duration": 72,
    "start_time": "2023-07-25T18:07:31.617Z"
   },
   {
    "duration": 9,
    "start_time": "2023-07-25T18:07:31.703Z"
   },
   {
    "duration": 12071,
    "start_time": "2023-07-25T18:07:31.716Z"
   },
   {
    "duration": 9,
    "start_time": "2023-07-25T18:07:43.789Z"
   },
   {
    "duration": 93609,
    "start_time": "2023-07-25T18:07:43.800Z"
   },
   {
    "duration": 5,
    "start_time": "2023-07-25T18:09:17.411Z"
   },
   {
    "duration": 13861,
    "start_time": "2023-07-25T18:09:17.418Z"
   },
   {
    "duration": 17,
    "start_time": "2023-07-25T18:09:31.283Z"
   },
   {
    "duration": 79,
    "start_time": "2023-07-25T18:09:31.307Z"
   },
   {
    "duration": 6248,
    "start_time": "2023-07-25T18:09:31.392Z"
   },
   {
    "duration": 49980,
    "start_time": "2023-07-25T18:09:37.642Z"
   },
   {
    "duration": 13579,
    "start_time": "2023-07-25T18:10:27.624Z"
   },
   {
    "duration": 20,
    "start_time": "2023-07-25T18:10:41.273Z"
   },
   {
    "duration": 14464,
    "start_time": "2023-07-25T18:10:41.300Z"
   },
   {
    "duration": 125817,
    "start_time": "2023-07-25T18:10:55.766Z"
   },
   {
    "duration": 16816,
    "start_time": "2023-07-25T18:13:01.584Z"
   },
   {
    "duration": 10240,
    "start_time": "2023-07-25T18:13:18.402Z"
   },
   {
    "duration": 83007,
    "start_time": "2023-07-25T18:13:28.644Z"
   },
   {
    "duration": 13251,
    "start_time": "2023-07-25T18:14:51.653Z"
   },
   {
    "duration": 272,
    "start_time": "2023-07-25T18:15:04.906Z"
   },
   {
    "duration": 0,
    "start_time": "2023-07-25T18:15:05.180Z"
   },
   {
    "duration": 0,
    "start_time": "2023-07-25T18:15:05.182Z"
   },
   {
    "duration": 13504,
    "start_time": "2023-07-25T19:18:16.235Z"
   },
   {
    "duration": 124528,
    "start_time": "2023-07-25T19:18:29.741Z"
   },
   {
    "duration": 14217,
    "start_time": "2023-07-25T19:20:34.271Z"
   },
   {
    "duration": 16,
    "start_time": "2023-07-25T19:20:48.493Z"
   },
   {
    "duration": 0,
    "start_time": "2023-07-25T19:20:48.511Z"
   },
   {
    "duration": 0,
    "start_time": "2023-07-25T19:20:48.513Z"
   },
   {
    "duration": 12,
    "start_time": "2023-07-25T19:22:30.319Z"
   },
   {
    "duration": 327,
    "start_time": "2023-07-25T19:26:12.707Z"
   },
   {
    "duration": 32,
    "start_time": "2023-07-25T19:38:10.999Z"
   },
   {
    "duration": 155,
    "start_time": "2023-07-25T19:49:20.748Z"
   },
   {
    "duration": 378,
    "start_time": "2023-07-25T19:49:40.306Z"
   },
   {
    "duration": 151,
    "start_time": "2023-07-25T19:50:45.560Z"
   },
   {
    "duration": 345,
    "start_time": "2023-07-25T19:51:01.306Z"
   },
   {
    "duration": 330,
    "start_time": "2023-07-25T19:51:18.225Z"
   },
   {
    "duration": 365,
    "start_time": "2023-07-25T19:51:55.765Z"
   },
   {
    "duration": 335,
    "start_time": "2023-07-25T19:52:04.256Z"
   },
   {
    "duration": 345,
    "start_time": "2023-07-25T19:55:09.900Z"
   },
   {
    "duration": 315,
    "start_time": "2023-07-25T19:55:20.967Z"
   },
   {
    "duration": 327,
    "start_time": "2023-07-25T19:55:26.932Z"
   },
   {
    "duration": 338,
    "start_time": "2023-07-25T19:55:59.621Z"
   },
   {
    "duration": 116,
    "start_time": "2023-07-25T19:56:32.726Z"
   },
   {
    "duration": 6,
    "start_time": "2023-07-25T19:56:46.314Z"
   },
   {
    "duration": 25,
    "start_time": "2023-07-25T20:11:25.534Z"
   },
   {
    "duration": 121,
    "start_time": "2023-07-25T20:11:58.216Z"
   },
   {
    "duration": 40,
    "start_time": "2023-07-25T20:12:04.606Z"
   },
   {
    "duration": 143,
    "start_time": "2023-07-25T20:12:30.150Z"
   },
   {
    "duration": 212,
    "start_time": "2023-07-25T20:12:35.228Z"
   },
   {
    "duration": 3330,
    "start_time": "2023-07-26T05:19:04.962Z"
   },
   {
    "duration": 26,
    "start_time": "2023-07-26T05:19:08.294Z"
   },
   {
    "duration": 46,
    "start_time": "2023-07-26T05:19:08.322Z"
   },
   {
    "duration": 14,
    "start_time": "2023-07-26T05:19:08.371Z"
   },
   {
    "duration": 24,
    "start_time": "2023-07-26T05:19:08.387Z"
   },
   {
    "duration": 7,
    "start_time": "2023-07-26T05:19:08.413Z"
   },
   {
    "duration": 29,
    "start_time": "2023-07-26T05:19:08.422Z"
   },
   {
    "duration": 16,
    "start_time": "2023-07-26T05:19:08.454Z"
   },
   {
    "duration": 66,
    "start_time": "2023-07-26T05:19:08.473Z"
   },
   {
    "duration": 5,
    "start_time": "2023-07-26T05:19:08.542Z"
   },
   {
    "duration": 23,
    "start_time": "2023-07-26T05:19:08.548Z"
   },
   {
    "duration": 43,
    "start_time": "2023-07-26T05:19:08.572Z"
   },
   {
    "duration": 6,
    "start_time": "2023-07-26T05:19:08.617Z"
   },
   {
    "duration": 10623,
    "start_time": "2023-07-26T05:19:08.624Z"
   },
   {
    "duration": 8,
    "start_time": "2023-07-26T05:19:19.248Z"
   },
   {
    "duration": 87295,
    "start_time": "2023-07-26T05:19:19.257Z"
   },
   {
    "duration": 4,
    "start_time": "2023-07-26T05:20:46.554Z"
   },
   {
    "duration": 7119,
    "start_time": "2023-07-26T05:20:46.560Z"
   },
   {
    "duration": 76,
    "start_time": "2023-07-26T05:20:53.682Z"
   },
   {
    "duration": 10772,
    "start_time": "2023-07-26T05:20:53.762Z"
   },
   {
    "duration": 91283,
    "start_time": "2023-07-26T05:21:04.536Z"
   },
   {
    "duration": 7051,
    "start_time": "2023-07-26T05:22:35.820Z"
   },
   {
    "duration": 93,
    "start_time": "2023-07-26T05:22:42.873Z"
   },
   {
    "duration": 5763,
    "start_time": "2023-07-26T05:22:43.053Z"
   },
   {
    "duration": 48655,
    "start_time": "2023-07-26T05:22:48.819Z"
   },
   {
    "duration": 6281,
    "start_time": "2023-07-26T05:23:37.475Z"
   },
   {
    "duration": 194,
    "start_time": "2023-07-26T05:23:43.758Z"
   },
   {
    "duration": 13506,
    "start_time": "2023-07-26T05:23:43.955Z"
   },
   {
    "duration": 124041,
    "start_time": "2023-07-26T05:23:57.463Z"
   },
   {
    "duration": 8383,
    "start_time": "2023-07-26T05:26:01.506Z"
   },
   {
    "duration": 475,
    "start_time": "2023-07-26T05:26:09.890Z"
   },
   {
    "duration": 198,
    "start_time": "2023-07-26T05:26:10.367Z"
   },
   {
    "duration": 0,
    "start_time": "2023-07-26T05:26:10.566Z"
   },
   {
    "duration": 253,
    "start_time": "2023-07-26T05:38:25.300Z"
   },
   {
    "duration": 79,
    "start_time": "2023-07-27T20:22:50.608Z"
   },
   {
    "duration": 2110,
    "start_time": "2023-07-27T20:22:53.973Z"
   },
   {
    "duration": 563,
    "start_time": "2023-07-27T20:22:57.640Z"
   },
   {
    "duration": 50,
    "start_time": "2023-07-27T20:22:59.408Z"
   },
   {
    "duration": 90,
    "start_time": "2023-07-27T20:23:03.921Z"
   },
   {
    "duration": 26,
    "start_time": "2023-07-27T20:24:47.806Z"
   },
   {
    "duration": 22,
    "start_time": "2023-07-27T20:35:30.701Z"
   },
   {
    "duration": 5,
    "start_time": "2023-07-27T20:35:46.638Z"
   },
   {
    "duration": 13,
    "start_time": "2023-07-27T21:56:04.698Z"
   },
   {
    "duration": 6,
    "start_time": "2023-07-27T21:56:09.925Z"
   },
   {
    "duration": 3,
    "start_time": "2023-07-27T21:56:22.707Z"
   },
   {
    "duration": 4,
    "start_time": "2023-07-27T21:56:35.502Z"
   },
   {
    "duration": 9,
    "start_time": "2023-07-27T21:56:37.927Z"
   },
   {
    "duration": 82,
    "start_time": "2023-07-27T21:56:41.100Z"
   },
   {
    "duration": 13,
    "start_time": "2023-07-27T21:56:58.894Z"
   },
   {
    "duration": 4,
    "start_time": "2023-07-27T21:57:49.192Z"
   },
   {
    "duration": 24,
    "start_time": "2023-07-27T21:57:56.515Z"
   },
   {
    "duration": 13,
    "start_time": "2023-07-27T21:59:07.597Z"
   },
   {
    "duration": 13,
    "start_time": "2023-07-27T21:59:35.777Z"
   },
   {
    "duration": 10,
    "start_time": "2023-07-27T21:59:56.000Z"
   },
   {
    "duration": 4,
    "start_time": "2023-07-27T22:00:41.024Z"
   },
   {
    "duration": 5,
    "start_time": "2023-07-27T22:00:55.885Z"
   },
   {
    "duration": 23,
    "start_time": "2023-07-27T22:01:19.385Z"
   },
   {
    "duration": 20,
    "start_time": "2023-07-27T22:01:34.673Z"
   },
   {
    "duration": 15,
    "start_time": "2023-07-27T22:02:03.655Z"
   },
   {
    "duration": 18,
    "start_time": "2023-07-27T22:02:20.473Z"
   },
   {
    "duration": 279,
    "start_time": "2023-07-27T22:02:37.522Z"
   },
   {
    "duration": 11,
    "start_time": "2023-07-27T22:02:39.914Z"
   },
   {
    "duration": 19,
    "start_time": "2023-07-27T22:05:51.043Z"
   },
   {
    "duration": 14,
    "start_time": "2023-07-27T22:05:59.895Z"
   },
   {
    "duration": 1520,
    "start_time": "2023-07-27T22:06:09.966Z"
   },
   {
    "duration": 47,
    "start_time": "2023-07-27T22:06:11.488Z"
   },
   {
    "duration": 31,
    "start_time": "2023-07-27T22:06:11.537Z"
   },
   {
    "duration": 46,
    "start_time": "2023-07-27T22:06:11.570Z"
   },
   {
    "duration": 40,
    "start_time": "2023-07-27T22:06:11.618Z"
   },
   {
    "duration": 15,
    "start_time": "2023-07-27T22:06:11.660Z"
   },
   {
    "duration": 9,
    "start_time": "2023-07-27T22:06:11.677Z"
   },
   {
    "duration": 28,
    "start_time": "2023-07-27T22:06:11.688Z"
   },
   {
    "duration": 16,
    "start_time": "2023-07-27T22:06:11.717Z"
   },
   {
    "duration": 20,
    "start_time": "2023-07-27T22:06:11.735Z"
   },
   {
    "duration": 21,
    "start_time": "2023-07-27T22:06:11.757Z"
   },
   {
    "duration": 24,
    "start_time": "2023-07-27T22:06:11.779Z"
   },
   {
    "duration": 32,
    "start_time": "2023-07-27T22:06:11.806Z"
   },
   {
    "duration": 28,
    "start_time": "2023-07-27T22:06:11.842Z"
   },
   {
    "duration": 155,
    "start_time": "2023-07-27T22:06:11.871Z"
   },
   {
    "duration": 0,
    "start_time": "2023-07-27T22:06:12.028Z"
   },
   {
    "duration": 0,
    "start_time": "2023-07-27T22:06:12.029Z"
   },
   {
    "duration": 0,
    "start_time": "2023-07-27T22:06:12.031Z"
   },
   {
    "duration": 0,
    "start_time": "2023-07-27T22:06:12.033Z"
   },
   {
    "duration": 0,
    "start_time": "2023-07-27T22:06:12.034Z"
   },
   {
    "duration": 0,
    "start_time": "2023-07-27T22:06:12.035Z"
   },
   {
    "duration": 0,
    "start_time": "2023-07-27T22:06:12.036Z"
   },
   {
    "duration": 0,
    "start_time": "2023-07-27T22:06:12.037Z"
   },
   {
    "duration": 0,
    "start_time": "2023-07-27T22:06:12.059Z"
   },
   {
    "duration": 0,
    "start_time": "2023-07-27T22:06:12.060Z"
   },
   {
    "duration": 0,
    "start_time": "2023-07-27T22:06:12.062Z"
   },
   {
    "duration": 0,
    "start_time": "2023-07-27T22:06:12.063Z"
   },
   {
    "duration": 0,
    "start_time": "2023-07-27T22:06:12.065Z"
   },
   {
    "duration": 0,
    "start_time": "2023-07-27T22:06:12.066Z"
   },
   {
    "duration": 0,
    "start_time": "2023-07-27T22:06:12.067Z"
   },
   {
    "duration": 0,
    "start_time": "2023-07-27T22:06:12.068Z"
   },
   {
    "duration": 0,
    "start_time": "2023-07-27T22:06:12.069Z"
   },
   {
    "duration": 0,
    "start_time": "2023-07-27T22:06:12.070Z"
   },
   {
    "duration": 0,
    "start_time": "2023-07-27T22:06:12.071Z"
   },
   {
    "duration": 0,
    "start_time": "2023-07-27T22:06:12.072Z"
   },
   {
    "duration": 0,
    "start_time": "2023-07-27T22:06:12.073Z"
   },
   {
    "duration": 0,
    "start_time": "2023-07-27T22:06:12.074Z"
   },
   {
    "duration": 4,
    "start_time": "2023-07-27T22:06:16.471Z"
   },
   {
    "duration": 46,
    "start_time": "2023-07-27T22:06:16.478Z"
   },
   {
    "duration": 29,
    "start_time": "2023-07-27T22:06:16.526Z"
   },
   {
    "duration": 42,
    "start_time": "2023-07-27T22:06:16.557Z"
   },
   {
    "duration": 24,
    "start_time": "2023-07-27T22:06:16.602Z"
   },
   {
    "duration": 38,
    "start_time": "2023-07-27T22:06:16.628Z"
   },
   {
    "duration": 5,
    "start_time": "2023-07-27T22:06:16.668Z"
   },
   {
    "duration": 15,
    "start_time": "2023-07-27T22:06:16.674Z"
   },
   {
    "duration": 3,
    "start_time": "2023-07-27T22:06:16.691Z"
   },
   {
    "duration": 14,
    "start_time": "2023-07-27T22:06:16.696Z"
   },
   {
    "duration": 7,
    "start_time": "2023-07-27T22:06:16.712Z"
   },
   {
    "duration": 5,
    "start_time": "2023-07-27T22:06:16.755Z"
   },
   {
    "duration": 5,
    "start_time": "2023-07-27T22:06:16.764Z"
   },
   {
    "duration": 11,
    "start_time": "2023-07-27T22:06:16.771Z"
   },
   {
    "duration": 14,
    "start_time": "2023-07-27T22:06:16.784Z"
   },
   {
    "duration": 0,
    "start_time": "2023-07-27T22:06:16.799Z"
   },
   {
    "duration": 0,
    "start_time": "2023-07-27T22:06:16.801Z"
   },
   {
    "duration": 0,
    "start_time": "2023-07-27T22:06:16.803Z"
   },
   {
    "duration": 0,
    "start_time": "2023-07-27T22:06:16.804Z"
   },
   {
    "duration": 0,
    "start_time": "2023-07-27T22:06:16.805Z"
   },
   {
    "duration": 0,
    "start_time": "2023-07-27T22:06:16.806Z"
   },
   {
    "duration": 0,
    "start_time": "2023-07-27T22:06:16.807Z"
   },
   {
    "duration": 0,
    "start_time": "2023-07-27T22:06:16.808Z"
   },
   {
    "duration": 0,
    "start_time": "2023-07-27T22:06:16.809Z"
   },
   {
    "duration": 0,
    "start_time": "2023-07-27T22:06:16.810Z"
   },
   {
    "duration": 0,
    "start_time": "2023-07-27T22:06:16.811Z"
   },
   {
    "duration": 0,
    "start_time": "2023-07-27T22:06:16.857Z"
   },
   {
    "duration": 0,
    "start_time": "2023-07-27T22:06:16.858Z"
   },
   {
    "duration": 0,
    "start_time": "2023-07-27T22:06:16.859Z"
   },
   {
    "duration": 0,
    "start_time": "2023-07-27T22:06:16.860Z"
   },
   {
    "duration": 0,
    "start_time": "2023-07-27T22:06:16.861Z"
   },
   {
    "duration": 0,
    "start_time": "2023-07-27T22:06:16.862Z"
   },
   {
    "duration": 0,
    "start_time": "2023-07-27T22:06:16.863Z"
   },
   {
    "duration": 0,
    "start_time": "2023-07-27T22:06:16.864Z"
   },
   {
    "duration": 0,
    "start_time": "2023-07-27T22:06:16.865Z"
   },
   {
    "duration": 0,
    "start_time": "2023-07-27T22:06:16.865Z"
   },
   {
    "duration": 0,
    "start_time": "2023-07-27T22:06:16.866Z"
   },
   {
    "duration": 16,
    "start_time": "2023-07-27T22:06:56.502Z"
   },
   {
    "duration": 23,
    "start_time": "2023-07-27T22:20:53.717Z"
   },
   {
    "duration": 24,
    "start_time": "2023-07-27T22:22:08.254Z"
   },
   {
    "duration": 21,
    "start_time": "2023-07-27T22:25:25.512Z"
   },
   {
    "duration": 279,
    "start_time": "2023-07-27T22:25:55.904Z"
   },
   {
    "duration": 29,
    "start_time": "2023-07-27T22:31:28.973Z"
   },
   {
    "duration": 31,
    "start_time": "2023-07-27T22:31:47.718Z"
   },
   {
    "duration": 35,
    "start_time": "2023-07-27T22:31:54.549Z"
   },
   {
    "duration": 98,
    "start_time": "2023-07-27T22:33:32.045Z"
   },
   {
    "duration": 1680,
    "start_time": "2023-07-27T22:36:07.947Z"
   },
   {
    "duration": 48,
    "start_time": "2023-07-27T22:36:09.629Z"
   },
   {
    "duration": 26,
    "start_time": "2023-07-27T22:36:09.680Z"
   },
   {
    "duration": 61,
    "start_time": "2023-07-27T22:36:09.708Z"
   },
   {
    "duration": 20,
    "start_time": "2023-07-27T22:36:09.771Z"
   },
   {
    "duration": 12,
    "start_time": "2023-07-27T22:36:09.792Z"
   },
   {
    "duration": 6,
    "start_time": "2023-07-27T22:36:09.805Z"
   },
   {
    "duration": 46,
    "start_time": "2023-07-27T22:36:09.812Z"
   },
   {
    "duration": 5,
    "start_time": "2023-07-27T22:36:09.860Z"
   },
   {
    "duration": 19,
    "start_time": "2023-07-27T22:36:09.873Z"
   },
   {
    "duration": 7,
    "start_time": "2023-07-27T22:36:09.894Z"
   },
   {
    "duration": 6,
    "start_time": "2023-07-27T22:36:09.902Z"
   },
   {
    "duration": 12,
    "start_time": "2023-07-27T22:36:09.910Z"
   },
   {
    "duration": 10,
    "start_time": "2023-07-27T22:36:09.924Z"
   },
   {
    "duration": 231,
    "start_time": "2023-07-27T22:36:09.936Z"
   },
   {
    "duration": 0,
    "start_time": "2023-07-27T22:36:10.170Z"
   },
   {
    "duration": 0,
    "start_time": "2023-07-27T22:36:10.172Z"
   },
   {
    "duration": 0,
    "start_time": "2023-07-27T22:36:10.173Z"
   },
   {
    "duration": 0,
    "start_time": "2023-07-27T22:36:10.174Z"
   },
   {
    "duration": 0,
    "start_time": "2023-07-27T22:36:10.175Z"
   },
   {
    "duration": 0,
    "start_time": "2023-07-27T22:36:10.176Z"
   },
   {
    "duration": 0,
    "start_time": "2023-07-27T22:36:10.176Z"
   },
   {
    "duration": 0,
    "start_time": "2023-07-27T22:36:10.178Z"
   },
   {
    "duration": 0,
    "start_time": "2023-07-27T22:36:10.179Z"
   },
   {
    "duration": 0,
    "start_time": "2023-07-27T22:36:10.179Z"
   },
   {
    "duration": 0,
    "start_time": "2023-07-27T22:36:10.180Z"
   },
   {
    "duration": 0,
    "start_time": "2023-07-27T22:36:10.181Z"
   },
   {
    "duration": 0,
    "start_time": "2023-07-27T22:36:10.182Z"
   },
   {
    "duration": 0,
    "start_time": "2023-07-27T22:36:10.183Z"
   },
   {
    "duration": 0,
    "start_time": "2023-07-27T22:36:10.184Z"
   },
   {
    "duration": 0,
    "start_time": "2023-07-27T22:36:10.186Z"
   },
   {
    "duration": 0,
    "start_time": "2023-07-27T22:36:10.187Z"
   },
   {
    "duration": 0,
    "start_time": "2023-07-27T22:36:10.188Z"
   },
   {
    "duration": 0,
    "start_time": "2023-07-27T22:36:10.189Z"
   },
   {
    "duration": 0,
    "start_time": "2023-07-27T22:36:10.189Z"
   },
   {
    "duration": 0,
    "start_time": "2023-07-27T22:36:10.191Z"
   },
   {
    "duration": 0,
    "start_time": "2023-07-27T22:36:10.192Z"
   },
   {
    "duration": 30,
    "start_time": "2023-07-27T22:38:20.169Z"
   },
   {
    "duration": 118,
    "start_time": "2023-07-27T22:38:33.618Z"
   },
   {
    "duration": 19,
    "start_time": "2023-07-27T22:47:50.114Z"
   },
   {
    "duration": 21,
    "start_time": "2023-07-27T22:53:16.962Z"
   },
   {
    "duration": 15,
    "start_time": "2023-07-27T22:54:13.722Z"
   },
   {
    "duration": 15,
    "start_time": "2023-07-27T22:59:16.308Z"
   },
   {
    "duration": 13,
    "start_time": "2023-07-27T23:02:33.491Z"
   },
   {
    "duration": 21,
    "start_time": "2023-07-27T23:02:56.470Z"
   },
   {
    "duration": 93,
    "start_time": "2023-07-27T23:03:46.729Z"
   },
   {
    "duration": 112,
    "start_time": "2023-07-27T23:06:44.725Z"
   },
   {
    "duration": 22,
    "start_time": "2023-07-27T23:08:14.704Z"
   },
   {
    "duration": 26,
    "start_time": "2023-07-27T23:10:34.793Z"
   },
   {
    "duration": 46,
    "start_time": "2023-07-27T23:10:52.641Z"
   },
   {
    "duration": 26,
    "start_time": "2023-07-27T23:21:40.929Z"
   },
   {
    "duration": 22,
    "start_time": "2023-07-27T23:23:59.597Z"
   },
   {
    "duration": 3,
    "start_time": "2023-07-27T23:24:55.266Z"
   },
   {
    "duration": 1472,
    "start_time": "2023-07-27T23:26:56.597Z"
   },
   {
    "duration": 43,
    "start_time": "2023-07-27T23:26:58.072Z"
   },
   {
    "duration": 26,
    "start_time": "2023-07-27T23:26:58.117Z"
   },
   {
    "duration": 51,
    "start_time": "2023-07-27T23:26:58.146Z"
   },
   {
    "duration": 18,
    "start_time": "2023-07-27T23:26:58.199Z"
   },
   {
    "duration": 12,
    "start_time": "2023-07-27T23:26:58.219Z"
   },
   {
    "duration": 27,
    "start_time": "2023-07-27T23:26:58.233Z"
   },
   {
    "duration": 21,
    "start_time": "2023-07-27T23:26:58.262Z"
   },
   {
    "duration": 6,
    "start_time": "2023-07-27T23:26:58.285Z"
   },
   {
    "duration": 26,
    "start_time": "2023-07-27T23:26:58.294Z"
   },
   {
    "duration": 3,
    "start_time": "2023-07-27T23:26:58.322Z"
   },
   {
    "duration": 12,
    "start_time": "2023-07-27T23:26:58.327Z"
   },
   {
    "duration": 21,
    "start_time": "2023-07-27T23:26:58.340Z"
   },
   {
    "duration": 17,
    "start_time": "2023-07-27T23:26:58.363Z"
   },
   {
    "duration": 28,
    "start_time": "2023-07-27T23:26:58.382Z"
   },
   {
    "duration": 16,
    "start_time": "2023-07-27T23:26:58.412Z"
   },
   {
    "duration": 72,
    "start_time": "2023-07-27T23:26:58.430Z"
   },
   {
    "duration": 7,
    "start_time": "2023-07-27T23:26:58.504Z"
   },
   {
    "duration": 151,
    "start_time": "2023-07-27T23:26:58.513Z"
   },
   {
    "duration": 0,
    "start_time": "2023-07-27T23:26:58.668Z"
   },
   {
    "duration": 0,
    "start_time": "2023-07-27T23:26:58.672Z"
   },
   {
    "duration": 0,
    "start_time": "2023-07-27T23:26:58.673Z"
   },
   {
    "duration": 0,
    "start_time": "2023-07-27T23:26:58.676Z"
   },
   {
    "duration": 0,
    "start_time": "2023-07-27T23:26:58.677Z"
   },
   {
    "duration": 0,
    "start_time": "2023-07-27T23:26:58.678Z"
   },
   {
    "duration": 0,
    "start_time": "2023-07-27T23:26:58.679Z"
   },
   {
    "duration": 0,
    "start_time": "2023-07-27T23:26:58.681Z"
   },
   {
    "duration": 0,
    "start_time": "2023-07-27T23:26:58.682Z"
   },
   {
    "duration": 0,
    "start_time": "2023-07-27T23:26:58.683Z"
   },
   {
    "duration": 0,
    "start_time": "2023-07-27T23:26:58.685Z"
   },
   {
    "duration": 0,
    "start_time": "2023-07-27T23:26:58.686Z"
   },
   {
    "duration": 0,
    "start_time": "2023-07-27T23:26:58.687Z"
   },
   {
    "duration": 0,
    "start_time": "2023-07-27T23:26:58.689Z"
   },
   {
    "duration": 0,
    "start_time": "2023-07-27T23:26:58.690Z"
   },
   {
    "duration": 0,
    "start_time": "2023-07-27T23:26:58.691Z"
   },
   {
    "duration": 1,
    "start_time": "2023-07-27T23:26:58.692Z"
   },
   {
    "duration": 0,
    "start_time": "2023-07-27T23:26:58.694Z"
   },
   {
    "duration": 11,
    "start_time": "2023-07-27T23:29:32.668Z"
   },
   {
    "duration": 4,
    "start_time": "2023-07-27T23:29:42.613Z"
   },
   {
    "duration": 4,
    "start_time": "2023-07-27T23:30:07.676Z"
   },
   {
    "duration": 7,
    "start_time": "2023-07-27T23:30:32.166Z"
   },
   {
    "duration": 31,
    "start_time": "2023-07-27T23:31:57.481Z"
   },
   {
    "duration": 5,
    "start_time": "2023-07-27T23:32:56.531Z"
   },
   {
    "duration": 28,
    "start_time": "2023-07-27T23:32:59.580Z"
   },
   {
    "duration": 25,
    "start_time": "2023-07-27T23:38:33.834Z"
   },
   {
    "duration": 16,
    "start_time": "2023-07-27T23:40:45.905Z"
   },
   {
    "duration": 27,
    "start_time": "2023-07-27T23:42:58.998Z"
   },
   {
    "duration": 23,
    "start_time": "2023-07-27T23:44:13.261Z"
   },
   {
    "duration": 1456,
    "start_time": "2023-07-27T23:44:31.407Z"
   },
   {
    "duration": 43,
    "start_time": "2023-07-27T23:44:32.865Z"
   },
   {
    "duration": 27,
    "start_time": "2023-07-27T23:44:32.910Z"
   },
   {
    "duration": 51,
    "start_time": "2023-07-27T23:44:32.939Z"
   },
   {
    "duration": 17,
    "start_time": "2023-07-27T23:44:32.992Z"
   },
   {
    "duration": 15,
    "start_time": "2023-07-27T23:44:33.011Z"
   },
   {
    "duration": 29,
    "start_time": "2023-07-27T23:44:33.028Z"
   },
   {
    "duration": 25,
    "start_time": "2023-07-27T23:44:33.059Z"
   },
   {
    "duration": 4,
    "start_time": "2023-07-27T23:44:33.086Z"
   },
   {
    "duration": 17,
    "start_time": "2023-07-27T23:44:33.094Z"
   },
   {
    "duration": 2,
    "start_time": "2023-07-27T23:44:33.113Z"
   },
   {
    "duration": 5,
    "start_time": "2023-07-27T23:44:33.117Z"
   },
   {
    "duration": 32,
    "start_time": "2023-07-27T23:44:33.124Z"
   },
   {
    "duration": 13,
    "start_time": "2023-07-27T23:44:33.159Z"
   },
   {
    "duration": 147,
    "start_time": "2023-07-27T23:44:33.175Z"
   },
   {
    "duration": 0,
    "start_time": "2023-07-27T23:44:33.324Z"
   },
   {
    "duration": 0,
    "start_time": "2023-07-27T23:44:33.326Z"
   },
   {
    "duration": 0,
    "start_time": "2023-07-27T23:44:33.328Z"
   },
   {
    "duration": 0,
    "start_time": "2023-07-27T23:44:33.329Z"
   },
   {
    "duration": 0,
    "start_time": "2023-07-27T23:44:33.331Z"
   },
   {
    "duration": 0,
    "start_time": "2023-07-27T23:44:33.332Z"
   },
   {
    "duration": 0,
    "start_time": "2023-07-27T23:44:33.333Z"
   },
   {
    "duration": 0,
    "start_time": "2023-07-27T23:44:33.335Z"
   },
   {
    "duration": 0,
    "start_time": "2023-07-27T23:44:33.357Z"
   },
   {
    "duration": 0,
    "start_time": "2023-07-27T23:44:33.358Z"
   },
   {
    "duration": 0,
    "start_time": "2023-07-27T23:44:33.365Z"
   },
   {
    "duration": 0,
    "start_time": "2023-07-27T23:44:33.366Z"
   },
   {
    "duration": 0,
    "start_time": "2023-07-27T23:44:33.368Z"
   },
   {
    "duration": 0,
    "start_time": "2023-07-27T23:44:33.369Z"
   },
   {
    "duration": 0,
    "start_time": "2023-07-27T23:44:33.370Z"
   },
   {
    "duration": 0,
    "start_time": "2023-07-27T23:44:33.371Z"
   },
   {
    "duration": 0,
    "start_time": "2023-07-27T23:44:33.373Z"
   },
   {
    "duration": 0,
    "start_time": "2023-07-27T23:44:33.374Z"
   },
   {
    "duration": 0,
    "start_time": "2023-07-27T23:44:33.375Z"
   },
   {
    "duration": 0,
    "start_time": "2023-07-27T23:44:33.376Z"
   },
   {
    "duration": 0,
    "start_time": "2023-07-27T23:44:33.378Z"
   },
   {
    "duration": 0,
    "start_time": "2023-07-27T23:44:33.380Z"
   },
   {
    "duration": 4,
    "start_time": "2023-07-27T23:44:40.292Z"
   },
   {
    "duration": 55,
    "start_time": "2023-07-27T23:44:40.298Z"
   },
   {
    "duration": 30,
    "start_time": "2023-07-27T23:44:40.354Z"
   },
   {
    "duration": 78,
    "start_time": "2023-07-27T23:44:40.387Z"
   },
   {
    "duration": 38,
    "start_time": "2023-07-27T23:44:40.467Z"
   },
   {
    "duration": 10,
    "start_time": "2023-07-27T23:44:40.507Z"
   },
   {
    "duration": 4,
    "start_time": "2023-07-27T23:44:40.519Z"
   },
   {
    "duration": 14,
    "start_time": "2023-07-27T23:44:40.526Z"
   },
   {
    "duration": 7,
    "start_time": "2023-07-27T23:44:40.558Z"
   },
   {
    "duration": 18,
    "start_time": "2023-07-27T23:44:40.567Z"
   },
   {
    "duration": 3,
    "start_time": "2023-07-27T23:44:40.587Z"
   },
   {
    "duration": 4,
    "start_time": "2023-07-27T23:44:40.592Z"
   },
   {
    "duration": 7,
    "start_time": "2023-07-27T23:44:40.598Z"
   },
   {
    "duration": 11,
    "start_time": "2023-07-27T23:44:40.607Z"
   },
   {
    "duration": 52,
    "start_time": "2023-07-27T23:44:40.621Z"
   },
   {
    "duration": 0,
    "start_time": "2023-07-27T23:44:40.675Z"
   },
   {
    "duration": 0,
    "start_time": "2023-07-27T23:44:40.677Z"
   },
   {
    "duration": 0,
    "start_time": "2023-07-27T23:44:40.679Z"
   },
   {
    "duration": 0,
    "start_time": "2023-07-27T23:44:40.680Z"
   },
   {
    "duration": 0,
    "start_time": "2023-07-27T23:44:40.681Z"
   },
   {
    "duration": 0,
    "start_time": "2023-07-27T23:44:40.682Z"
   },
   {
    "duration": 0,
    "start_time": "2023-07-27T23:44:40.684Z"
   },
   {
    "duration": 0,
    "start_time": "2023-07-27T23:44:40.686Z"
   },
   {
    "duration": 0,
    "start_time": "2023-07-27T23:44:40.687Z"
   },
   {
    "duration": 0,
    "start_time": "2023-07-27T23:44:40.688Z"
   },
   {
    "duration": 0,
    "start_time": "2023-07-27T23:44:40.690Z"
   },
   {
    "duration": 0,
    "start_time": "2023-07-27T23:44:40.691Z"
   },
   {
    "duration": 0,
    "start_time": "2023-07-27T23:44:40.692Z"
   },
   {
    "duration": 0,
    "start_time": "2023-07-27T23:44:40.693Z"
   },
   {
    "duration": 0,
    "start_time": "2023-07-27T23:44:40.694Z"
   },
   {
    "duration": 0,
    "start_time": "2023-07-27T23:44:40.696Z"
   },
   {
    "duration": 0,
    "start_time": "2023-07-27T23:44:40.697Z"
   },
   {
    "duration": 0,
    "start_time": "2023-07-27T23:44:40.699Z"
   },
   {
    "duration": 0,
    "start_time": "2023-07-27T23:44:40.700Z"
   },
   {
    "duration": 0,
    "start_time": "2023-07-27T23:44:40.701Z"
   },
   {
    "duration": 0,
    "start_time": "2023-07-27T23:44:40.703Z"
   },
   {
    "duration": 0,
    "start_time": "2023-07-27T23:44:40.704Z"
   },
   {
    "duration": 16,
    "start_time": "2023-07-27T23:45:26.407Z"
   },
   {
    "duration": 5,
    "start_time": "2023-07-27T23:45:50.518Z"
   },
   {
    "duration": 42,
    "start_time": "2023-07-27T23:45:58.657Z"
   },
   {
    "duration": 32,
    "start_time": "2023-07-27T23:45:58.948Z"
   },
   {
    "duration": 49,
    "start_time": "2023-07-27T23:45:59.737Z"
   },
   {
    "duration": 20,
    "start_time": "2023-07-27T23:46:03.543Z"
   },
   {
    "duration": 14,
    "start_time": "2023-07-27T23:46:04.850Z"
   },
   {
    "duration": 7,
    "start_time": "2023-07-27T23:46:07.165Z"
   },
   {
    "duration": 16,
    "start_time": "2023-07-27T23:46:08.395Z"
   },
   {
    "duration": 5,
    "start_time": "2023-07-27T23:46:09.719Z"
   },
   {
    "duration": 19,
    "start_time": "2023-07-27T23:46:12.056Z"
   },
   {
    "duration": 3,
    "start_time": "2023-07-27T23:46:14.041Z"
   },
   {
    "duration": 2,
    "start_time": "2023-07-27T23:46:15.325Z"
   },
   {
    "duration": 5,
    "start_time": "2023-07-27T23:46:18.647Z"
   },
   {
    "duration": 12,
    "start_time": "2023-07-27T23:46:20.656Z"
   },
   {
    "duration": 16,
    "start_time": "2023-07-27T23:47:05.733Z"
   },
   {
    "duration": 24,
    "start_time": "2023-07-27T23:47:58.496Z"
   },
   {
    "duration": 9,
    "start_time": "2023-07-27T23:48:06.854Z"
   },
   {
    "duration": 1502,
    "start_time": "2023-07-27T23:48:20.146Z"
   },
   {
    "duration": 43,
    "start_time": "2023-07-27T23:48:21.650Z"
   },
   {
    "duration": 23,
    "start_time": "2023-07-27T23:48:21.695Z"
   },
   {
    "duration": 47,
    "start_time": "2023-07-27T23:48:21.720Z"
   },
   {
    "duration": 24,
    "start_time": "2023-07-27T23:48:21.769Z"
   },
   {
    "duration": 12,
    "start_time": "2023-07-27T23:48:21.795Z"
   },
   {
    "duration": 4,
    "start_time": "2023-07-27T23:48:21.809Z"
   },
   {
    "duration": 22,
    "start_time": "2023-07-27T23:48:21.815Z"
   },
   {
    "duration": 22,
    "start_time": "2023-07-27T23:48:21.839Z"
   },
   {
    "duration": 35,
    "start_time": "2023-07-27T23:48:21.866Z"
   },
   {
    "duration": 7,
    "start_time": "2023-07-27T23:48:21.902Z"
   },
   {
    "duration": 15,
    "start_time": "2023-07-27T23:48:21.910Z"
   },
   {
    "duration": 8,
    "start_time": "2023-07-27T23:48:21.927Z"
   },
   {
    "duration": 16,
    "start_time": "2023-07-27T23:48:21.936Z"
   },
   {
    "duration": 34,
    "start_time": "2023-07-27T23:48:21.954Z"
   },
   {
    "duration": 6,
    "start_time": "2023-07-27T23:48:21.989Z"
   },
   {
    "duration": 45,
    "start_time": "2023-07-27T23:48:21.997Z"
   },
   {
    "duration": 16,
    "start_time": "2023-07-27T23:48:22.044Z"
   },
   {
    "duration": 119,
    "start_time": "2023-07-27T23:48:22.062Z"
   },
   {
    "duration": 0,
    "start_time": "2023-07-27T23:48:22.184Z"
   },
   {
    "duration": 0,
    "start_time": "2023-07-27T23:48:22.185Z"
   },
   {
    "duration": 0,
    "start_time": "2023-07-27T23:48:22.187Z"
   },
   {
    "duration": 0,
    "start_time": "2023-07-27T23:48:22.188Z"
   },
   {
    "duration": 0,
    "start_time": "2023-07-27T23:48:22.190Z"
   },
   {
    "duration": 0,
    "start_time": "2023-07-27T23:48:22.191Z"
   },
   {
    "duration": 0,
    "start_time": "2023-07-27T23:48:22.193Z"
   },
   {
    "duration": 0,
    "start_time": "2023-07-27T23:48:22.194Z"
   },
   {
    "duration": 0,
    "start_time": "2023-07-27T23:48:22.195Z"
   },
   {
    "duration": 0,
    "start_time": "2023-07-27T23:48:22.197Z"
   },
   {
    "duration": 0,
    "start_time": "2023-07-27T23:48:22.198Z"
   },
   {
    "duration": 0,
    "start_time": "2023-07-27T23:48:22.199Z"
   },
   {
    "duration": 0,
    "start_time": "2023-07-27T23:48:22.201Z"
   },
   {
    "duration": 0,
    "start_time": "2023-07-27T23:48:22.202Z"
   },
   {
    "duration": 0,
    "start_time": "2023-07-27T23:48:22.203Z"
   },
   {
    "duration": 0,
    "start_time": "2023-07-27T23:48:22.204Z"
   },
   {
    "duration": 0,
    "start_time": "2023-07-27T23:48:22.206Z"
   },
   {
    "duration": 0,
    "start_time": "2023-07-27T23:48:22.207Z"
   },
   {
    "duration": 18,
    "start_time": "2023-07-27T23:49:48.144Z"
   },
   {
    "duration": 29,
    "start_time": "2023-07-27T23:50:44.051Z"
   },
   {
    "duration": 36,
    "start_time": "2023-07-27T23:51:02.641Z"
   },
   {
    "duration": 7,
    "start_time": "2023-07-27T23:51:11.929Z"
   },
   {
    "duration": 41,
    "start_time": "2023-07-27T23:51:21.494Z"
   },
   {
    "duration": 16,
    "start_time": "2023-07-27T23:52:41.100Z"
   },
   {
    "duration": 33,
    "start_time": "2023-07-27T23:53:21.383Z"
   },
   {
    "duration": 5,
    "start_time": "2023-07-27T23:53:27.227Z"
   },
   {
    "duration": 36,
    "start_time": "2023-07-27T23:53:43.069Z"
   },
   {
    "duration": 32,
    "start_time": "2023-07-27T23:55:21.921Z"
   },
   {
    "duration": 377,
    "start_time": "2023-07-27T23:56:03.517Z"
   },
   {
    "duration": 5,
    "start_time": "2023-07-27T23:56:04.733Z"
   },
   {
    "duration": 1037,
    "start_time": "2023-07-27T23:56:07.433Z"
   },
   {
    "duration": 19,
    "start_time": "2023-07-27T23:57:30.573Z"
   },
   {
    "duration": 29,
    "start_time": "2023-07-27T23:57:59.376Z"
   },
   {
    "duration": 6,
    "start_time": "2023-07-27T23:58:03.998Z"
   },
   {
    "duration": 35,
    "start_time": "2023-07-27T23:58:10.788Z"
   },
   {
    "duration": 9,
    "start_time": "2023-07-27T23:59:00.205Z"
   },
   {
    "duration": 13,
    "start_time": "2023-07-28T00:06:26.146Z"
   },
   {
    "duration": 13,
    "start_time": "2023-07-28T00:06:55.307Z"
   },
   {
    "duration": 16,
    "start_time": "2023-07-28T00:07:19.717Z"
   },
   {
    "duration": 13,
    "start_time": "2023-07-28T00:08:33.572Z"
   },
   {
    "duration": 11,
    "start_time": "2023-07-28T00:08:59.574Z"
   },
   {
    "duration": 23,
    "start_time": "2023-07-28T00:09:52.978Z"
   },
   {
    "duration": 12,
    "start_time": "2023-07-28T00:09:58.721Z"
   },
   {
    "duration": 85,
    "start_time": "2023-07-28T00:13:43.742Z"
   },
   {
    "duration": 22,
    "start_time": "2023-07-28T00:13:50.580Z"
   },
   {
    "duration": 11,
    "start_time": "2023-07-28T00:13:53.778Z"
   },
   {
    "duration": 19,
    "start_time": "2023-07-28T00:15:07.572Z"
   },
   {
    "duration": 14,
    "start_time": "2023-07-28T00:15:29.582Z"
   },
   {
    "duration": 26,
    "start_time": "2023-07-28T00:15:43.483Z"
   },
   {
    "duration": 26,
    "start_time": "2023-07-28T00:15:48.240Z"
   },
   {
    "duration": 10,
    "start_time": "2023-07-28T00:15:50.709Z"
   },
   {
    "duration": 21,
    "start_time": "2023-07-28T00:17:45.276Z"
   },
   {
    "duration": 12,
    "start_time": "2023-07-28T00:18:05.995Z"
   },
   {
    "duration": 27,
    "start_time": "2023-07-28T00:19:32.544Z"
   },
   {
    "duration": 19,
    "start_time": "2023-07-28T00:23:15.131Z"
   },
   {
    "duration": 30,
    "start_time": "2023-07-28T00:29:08.557Z"
   },
   {
    "duration": 35,
    "start_time": "2023-07-28T00:29:36.074Z"
   },
   {
    "duration": 32,
    "start_time": "2023-07-28T00:29:44.054Z"
   },
   {
    "duration": 1495,
    "start_time": "2023-07-28T00:30:02.594Z"
   },
   {
    "duration": 41,
    "start_time": "2023-07-28T00:30:04.091Z"
   },
   {
    "duration": 25,
    "start_time": "2023-07-28T00:30:04.133Z"
   },
   {
    "duration": 47,
    "start_time": "2023-07-28T00:30:04.160Z"
   },
   {
    "duration": 17,
    "start_time": "2023-07-28T00:30:04.209Z"
   },
   {
    "duration": 38,
    "start_time": "2023-07-28T00:30:04.227Z"
   },
   {
    "duration": 6,
    "start_time": "2023-07-28T00:30:04.268Z"
   },
   {
    "duration": 15,
    "start_time": "2023-07-28T00:30:04.276Z"
   },
   {
    "duration": 4,
    "start_time": "2023-07-28T00:30:04.293Z"
   },
   {
    "duration": 24,
    "start_time": "2023-07-28T00:30:04.298Z"
   },
   {
    "duration": 5,
    "start_time": "2023-07-28T00:30:04.324Z"
   },
   {
    "duration": 5,
    "start_time": "2023-07-28T00:30:04.330Z"
   },
   {
    "duration": 29,
    "start_time": "2023-07-28T00:30:04.336Z"
   },
   {
    "duration": 13,
    "start_time": "2023-07-28T00:30:04.369Z"
   },
   {
    "duration": 26,
    "start_time": "2023-07-28T00:30:04.384Z"
   },
   {
    "duration": 17,
    "start_time": "2023-07-28T00:30:04.411Z"
   },
   {
    "duration": 69,
    "start_time": "2023-07-28T00:30:04.429Z"
   },
   {
    "duration": 4,
    "start_time": "2023-07-28T00:30:04.500Z"
   },
   {
    "duration": 134,
    "start_time": "2023-07-28T00:30:04.506Z"
   },
   {
    "duration": 0,
    "start_time": "2023-07-28T00:30:04.641Z"
   },
   {
    "duration": 0,
    "start_time": "2023-07-28T00:30:04.643Z"
   },
   {
    "duration": 0,
    "start_time": "2023-07-28T00:30:04.643Z"
   },
   {
    "duration": 0,
    "start_time": "2023-07-28T00:30:04.645Z"
   },
   {
    "duration": 0,
    "start_time": "2023-07-28T00:30:04.646Z"
   },
   {
    "duration": 0,
    "start_time": "2023-07-28T00:30:04.647Z"
   },
   {
    "duration": 0,
    "start_time": "2023-07-28T00:30:04.657Z"
   },
   {
    "duration": 0,
    "start_time": "2023-07-28T00:30:04.658Z"
   },
   {
    "duration": 0,
    "start_time": "2023-07-28T00:30:04.660Z"
   },
   {
    "duration": 0,
    "start_time": "2023-07-28T00:30:04.661Z"
   },
   {
    "duration": 0,
    "start_time": "2023-07-28T00:30:04.662Z"
   },
   {
    "duration": 0,
    "start_time": "2023-07-28T00:30:04.663Z"
   },
   {
    "duration": 0,
    "start_time": "2023-07-28T00:30:04.664Z"
   },
   {
    "duration": 0,
    "start_time": "2023-07-28T00:30:04.665Z"
   },
   {
    "duration": 0,
    "start_time": "2023-07-28T00:30:04.666Z"
   },
   {
    "duration": 0,
    "start_time": "2023-07-28T00:30:04.667Z"
   },
   {
    "duration": 0,
    "start_time": "2023-07-28T00:30:04.668Z"
   },
   {
    "duration": 0,
    "start_time": "2023-07-28T00:30:04.669Z"
   },
   {
    "duration": 25,
    "start_time": "2023-07-28T00:32:31.327Z"
   },
   {
    "duration": 17,
    "start_time": "2023-07-28T00:32:33.809Z"
   },
   {
    "duration": 16,
    "start_time": "2023-07-28T00:32:55.234Z"
   },
   {
    "duration": 35,
    "start_time": "2023-07-28T00:36:47.531Z"
   },
   {
    "duration": 12,
    "start_time": "2023-07-28T00:37:40.228Z"
   },
   {
    "duration": 2997,
    "start_time": "2023-07-28T00:58:08.726Z"
   },
   {
    "duration": 106,
    "start_time": "2023-07-28T00:58:25.689Z"
   },
   {
    "duration": 8,
    "start_time": "2023-07-28T01:02:26.622Z"
   },
   {
    "duration": 36,
    "start_time": "2023-07-28T01:03:32.233Z"
   },
   {
    "duration": 22,
    "start_time": "2023-07-28T01:03:47.216Z"
   },
   {
    "duration": 16,
    "start_time": "2023-07-28T01:04:19.771Z"
   },
   {
    "duration": 3690,
    "start_time": "2023-07-28T01:04:43.200Z"
   },
   {
    "duration": 40,
    "start_time": "2023-07-28T01:04:46.892Z"
   },
   {
    "duration": 25,
    "start_time": "2023-07-28T01:04:46.933Z"
   },
   {
    "duration": 48,
    "start_time": "2023-07-28T01:04:46.960Z"
   },
   {
    "duration": 19,
    "start_time": "2023-07-28T01:04:47.010Z"
   },
   {
    "duration": 39,
    "start_time": "2023-07-28T01:04:47.031Z"
   },
   {
    "duration": 8,
    "start_time": "2023-07-28T01:04:47.073Z"
   },
   {
    "duration": 37,
    "start_time": "2023-07-28T01:04:47.082Z"
   },
   {
    "duration": 5,
    "start_time": "2023-07-28T01:04:47.121Z"
   },
   {
    "duration": 36,
    "start_time": "2023-07-28T01:04:47.129Z"
   },
   {
    "duration": 8,
    "start_time": "2023-07-28T01:04:47.167Z"
   },
   {
    "duration": 14,
    "start_time": "2023-07-28T01:04:47.176Z"
   },
   {
    "duration": 9,
    "start_time": "2023-07-28T01:04:47.192Z"
   },
   {
    "duration": 12,
    "start_time": "2023-07-28T01:04:47.202Z"
   },
   {
    "duration": 48,
    "start_time": "2023-07-28T01:04:47.216Z"
   },
   {
    "duration": 60,
    "start_time": "2023-07-28T01:04:47.268Z"
   },
   {
    "duration": 0,
    "start_time": "2023-07-28T01:04:47.330Z"
   },
   {
    "duration": 0,
    "start_time": "2023-07-28T01:04:47.331Z"
   },
   {
    "duration": 0,
    "start_time": "2023-07-28T01:04:47.333Z"
   },
   {
    "duration": 0,
    "start_time": "2023-07-28T01:04:47.335Z"
   },
   {
    "duration": 0,
    "start_time": "2023-07-28T01:04:47.342Z"
   },
   {
    "duration": 0,
    "start_time": "2023-07-28T01:04:47.344Z"
   },
   {
    "duration": 0,
    "start_time": "2023-07-28T01:04:47.345Z"
   },
   {
    "duration": 0,
    "start_time": "2023-07-28T01:04:47.346Z"
   },
   {
    "duration": 0,
    "start_time": "2023-07-28T01:04:47.348Z"
   },
   {
    "duration": 0,
    "start_time": "2023-07-28T01:04:47.349Z"
   },
   {
    "duration": 0,
    "start_time": "2023-07-28T01:04:47.350Z"
   },
   {
    "duration": 0,
    "start_time": "2023-07-28T01:04:47.352Z"
   },
   {
    "duration": 0,
    "start_time": "2023-07-28T01:04:47.353Z"
   },
   {
    "duration": 0,
    "start_time": "2023-07-28T01:04:47.354Z"
   },
   {
    "duration": 0,
    "start_time": "2023-07-28T01:04:47.355Z"
   },
   {
    "duration": 0,
    "start_time": "2023-07-28T01:04:47.361Z"
   },
   {
    "duration": 0,
    "start_time": "2023-07-28T01:04:47.361Z"
   },
   {
    "duration": 0,
    "start_time": "2023-07-28T01:04:47.362Z"
   },
   {
    "duration": 0,
    "start_time": "2023-07-28T01:04:47.362Z"
   },
   {
    "duration": 0,
    "start_time": "2023-07-28T01:04:47.363Z"
   },
   {
    "duration": 0,
    "start_time": "2023-07-28T01:04:47.369Z"
   },
   {
    "duration": 0,
    "start_time": "2023-07-28T01:04:47.370Z"
   },
   {
    "duration": 0,
    "start_time": "2023-07-28T01:04:47.371Z"
   },
   {
    "duration": 113,
    "start_time": "2023-07-28T01:05:18.409Z"
   },
   {
    "duration": 7,
    "start_time": "2023-07-28T01:06:50.209Z"
   },
   {
    "duration": 36,
    "start_time": "2023-07-28T01:07:15.159Z"
   },
   {
    "duration": 33,
    "start_time": "2023-07-28T01:08:11.921Z"
   },
   {
    "duration": 118,
    "start_time": "2023-07-28T01:09:59.168Z"
   },
   {
    "duration": 3564,
    "start_time": "2023-07-28T01:10:15.511Z"
   },
   {
    "duration": 42,
    "start_time": "2023-07-28T01:10:19.078Z"
   },
   {
    "duration": 29,
    "start_time": "2023-07-28T01:10:19.122Z"
   },
   {
    "duration": 46,
    "start_time": "2023-07-28T01:10:19.155Z"
   },
   {
    "duration": 30,
    "start_time": "2023-07-28T01:10:19.203Z"
   },
   {
    "duration": 23,
    "start_time": "2023-07-28T01:10:19.236Z"
   },
   {
    "duration": 11,
    "start_time": "2023-07-28T01:10:19.261Z"
   },
   {
    "duration": 35,
    "start_time": "2023-07-28T01:10:19.274Z"
   },
   {
    "duration": 13,
    "start_time": "2023-07-28T01:10:19.311Z"
   },
   {
    "duration": 36,
    "start_time": "2023-07-28T01:10:19.329Z"
   },
   {
    "duration": 18,
    "start_time": "2023-07-28T01:10:19.367Z"
   },
   {
    "duration": 20,
    "start_time": "2023-07-28T01:10:19.387Z"
   },
   {
    "duration": 8,
    "start_time": "2023-07-28T01:10:19.409Z"
   },
   {
    "duration": 29,
    "start_time": "2023-07-28T01:10:19.419Z"
   },
   {
    "duration": 28,
    "start_time": "2023-07-28T01:10:19.450Z"
   },
   {
    "duration": 129,
    "start_time": "2023-07-28T01:10:19.480Z"
   },
   {
    "duration": 6,
    "start_time": "2023-07-28T01:10:19.610Z"
   },
   {
    "duration": 50,
    "start_time": "2023-07-28T01:10:19.618Z"
   },
   {
    "duration": 9,
    "start_time": "2023-07-28T01:10:19.670Z"
   },
   {
    "duration": 133,
    "start_time": "2023-07-28T01:10:19.681Z"
   },
   {
    "duration": 0,
    "start_time": "2023-07-28T01:10:19.816Z"
   },
   {
    "duration": 0,
    "start_time": "2023-07-28T01:10:19.817Z"
   },
   {
    "duration": 0,
    "start_time": "2023-07-28T01:10:19.818Z"
   },
   {
    "duration": 0,
    "start_time": "2023-07-28T01:10:19.819Z"
   },
   {
    "duration": 0,
    "start_time": "2023-07-28T01:10:19.820Z"
   },
   {
    "duration": 0,
    "start_time": "2023-07-28T01:10:19.821Z"
   },
   {
    "duration": 0,
    "start_time": "2023-07-28T01:10:19.821Z"
   },
   {
    "duration": 0,
    "start_time": "2023-07-28T01:10:19.823Z"
   },
   {
    "duration": 0,
    "start_time": "2023-07-28T01:10:19.824Z"
   },
   {
    "duration": 0,
    "start_time": "2023-07-28T01:10:19.824Z"
   },
   {
    "duration": 0,
    "start_time": "2023-07-28T01:10:19.825Z"
   },
   {
    "duration": 0,
    "start_time": "2023-07-28T01:10:19.826Z"
   },
   {
    "duration": 0,
    "start_time": "2023-07-28T01:10:19.827Z"
   },
   {
    "duration": 0,
    "start_time": "2023-07-28T01:10:19.828Z"
   },
   {
    "duration": 0,
    "start_time": "2023-07-28T01:10:19.829Z"
   },
   {
    "duration": 0,
    "start_time": "2023-07-28T01:10:19.830Z"
   },
   {
    "duration": 0,
    "start_time": "2023-07-28T01:10:19.831Z"
   },
   {
    "duration": 0,
    "start_time": "2023-07-28T01:10:19.858Z"
   },
   {
    "duration": 14,
    "start_time": "2023-07-28T01:15:28.437Z"
   },
   {
    "duration": 12,
    "start_time": "2023-07-28T01:16:36.013Z"
   },
   {
    "duration": 13,
    "start_time": "2023-07-28T01:17:02.440Z"
   },
   {
    "duration": 16698,
    "start_time": "2023-07-28T01:17:14.482Z"
   },
   {
    "duration": 41,
    "start_time": "2023-07-28T01:17:31.183Z"
   },
   {
    "duration": 26,
    "start_time": "2023-07-28T01:17:31.225Z"
   },
   {
    "duration": 45,
    "start_time": "2023-07-28T01:17:31.257Z"
   },
   {
    "duration": 17,
    "start_time": "2023-07-28T01:17:31.304Z"
   },
   {
    "duration": 14,
    "start_time": "2023-07-28T01:17:31.323Z"
   },
   {
    "duration": 23,
    "start_time": "2023-07-28T01:17:31.338Z"
   },
   {
    "duration": 36,
    "start_time": "2023-07-28T01:17:31.363Z"
   },
   {
    "duration": 12,
    "start_time": "2023-07-28T01:17:31.401Z"
   },
   {
    "duration": 22,
    "start_time": "2023-07-28T01:17:31.416Z"
   },
   {
    "duration": 8,
    "start_time": "2023-07-28T01:17:31.440Z"
   },
   {
    "duration": 31,
    "start_time": "2023-07-28T01:17:31.450Z"
   },
   {
    "duration": 23,
    "start_time": "2023-07-28T01:17:31.484Z"
   },
   {
    "duration": 29,
    "start_time": "2023-07-28T01:17:31.509Z"
   },
   {
    "duration": 35,
    "start_time": "2023-07-28T01:17:31.540Z"
   },
   {
    "duration": 121,
    "start_time": "2023-07-28T01:17:31.577Z"
   },
   {
    "duration": 199,
    "start_time": "2023-07-28T01:17:31.699Z"
   },
   {
    "duration": 0,
    "start_time": "2023-07-28T01:17:31.900Z"
   },
   {
    "duration": 0,
    "start_time": "2023-07-28T01:17:31.902Z"
   },
   {
    "duration": 0,
    "start_time": "2023-07-28T01:17:31.902Z"
   },
   {
    "duration": 0,
    "start_time": "2023-07-28T01:17:31.904Z"
   },
   {
    "duration": 0,
    "start_time": "2023-07-28T01:17:31.905Z"
   },
   {
    "duration": 0,
    "start_time": "2023-07-28T01:17:31.906Z"
   },
   {
    "duration": 0,
    "start_time": "2023-07-28T01:17:31.907Z"
   },
   {
    "duration": 0,
    "start_time": "2023-07-28T01:17:31.908Z"
   },
   {
    "duration": 0,
    "start_time": "2023-07-28T01:17:31.909Z"
   },
   {
    "duration": 1,
    "start_time": "2023-07-28T01:17:31.910Z"
   },
   {
    "duration": 0,
    "start_time": "2023-07-28T01:17:31.911Z"
   },
   {
    "duration": 0,
    "start_time": "2023-07-28T01:17:31.913Z"
   },
   {
    "duration": 1,
    "start_time": "2023-07-28T01:17:31.913Z"
   },
   {
    "duration": 0,
    "start_time": "2023-07-28T01:17:31.915Z"
   },
   {
    "duration": 0,
    "start_time": "2023-07-28T01:17:31.916Z"
   },
   {
    "duration": 0,
    "start_time": "2023-07-28T01:17:31.917Z"
   },
   {
    "duration": 0,
    "start_time": "2023-07-28T01:17:31.918Z"
   },
   {
    "duration": 0,
    "start_time": "2023-07-28T01:17:31.919Z"
   },
   {
    "duration": 0,
    "start_time": "2023-07-28T01:17:31.956Z"
   },
   {
    "duration": 0,
    "start_time": "2023-07-28T01:17:31.957Z"
   },
   {
    "duration": 0,
    "start_time": "2023-07-28T01:17:31.959Z"
   },
   {
    "duration": 7,
    "start_time": "2023-07-28T01:18:20.806Z"
   },
   {
    "duration": 37,
    "start_time": "2023-07-28T01:18:26.963Z"
   },
   {
    "duration": 14,
    "start_time": "2023-07-28T01:18:58.806Z"
   },
   {
    "duration": 9654,
    "start_time": "2023-07-28T01:19:05.518Z"
   },
   {
    "duration": 9,
    "start_time": "2023-07-28T01:19:28.574Z"
   },
   {
    "duration": 75778,
    "start_time": "2023-07-28T01:19:32.177Z"
   },
   {
    "duration": 5,
    "start_time": "2023-07-28T01:21:13.080Z"
   },
   {
    "duration": 16161,
    "start_time": "2023-07-28T01:21:26.718Z"
   },
   {
    "duration": 7,
    "start_time": "2023-07-28T01:24:07.245Z"
   },
   {
    "duration": 9775,
    "start_time": "2023-07-28T01:24:17.152Z"
   },
   {
    "duration": 75184,
    "start_time": "2023-07-28T01:24:29.547Z"
   },
   {
    "duration": 13759,
    "start_time": "2023-07-28T01:25:52.919Z"
   },
   {
    "duration": 11,
    "start_time": "2023-07-28T01:26:14.713Z"
   },
   {
    "duration": 5348,
    "start_time": "2023-07-28T01:26:39.498Z"
   },
   {
    "duration": 41138,
    "start_time": "2023-07-28T01:26:44.848Z"
   },
   {
    "duration": 8889,
    "start_time": "2023-07-28T01:27:25.988Z"
   },
   {
    "duration": 91,
    "start_time": "2023-07-28T01:27:34.880Z"
   },
   {
    "duration": 12470,
    "start_time": "2023-07-28T01:27:34.973Z"
   },
   {
    "duration": 103916,
    "start_time": "2023-07-28T01:27:47.445Z"
   },
   {
    "duration": 13300,
    "start_time": "2023-07-28T01:29:31.364Z"
   },
   {
    "duration": 362,
    "start_time": "2023-07-28T01:29:44.666Z"
   },
   {
    "duration": 157,
    "start_time": "2023-07-28T01:29:45.030Z"
   },
   {
    "duration": 378,
    "start_time": "2023-07-28T01:30:38.243Z"
   }
  ],
  "kernelspec": {
   "display_name": "Python 3 (ipykernel)",
   "language": "python",
   "name": "python3"
  },
  "language_info": {
   "codemirror_mode": {
    "name": "ipython",
    "version": 3
   },
   "file_extension": ".py",
   "mimetype": "text/x-python",
   "name": "python",
   "nbconvert_exporter": "python",
   "pygments_lexer": "ipython3",
   "version": "3.11.5"
  },
  "toc": {
   "base_numbering": 1,
   "nav_menu": {},
   "number_sections": true,
   "sideBar": true,
   "skip_h1_title": true,
   "title_cell": "Содержание",
   "title_sidebar": "Contents",
   "toc_cell": true,
   "toc_position": {
    "height": "calc(100% - 180px)",
    "left": "10px",
    "top": "150px",
    "width": "290.417px"
   },
   "toc_section_display": true,
   "toc_window_display": true
  }
 },
 "nbformat": 4,
 "nbformat_minor": 2
}
