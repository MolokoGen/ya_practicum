{
 "cells": [
  {
   "cell_type": "markdown",
   "metadata": {},
   "source": [
    "<div style=\"border:solid Chocolate 2px; padding: 40px\">\n",
    "\n",
    "<b>Привет!👋</b>\n",
    "\n",
    "Меня зовут Огурлиев Анзор, я буду ревьюером твоего проекта. Сразу хочу предложить тебе общаться на \"ты\", если тебе это неудобно, скажи мне об этом. Нам предстоит пройти с тобой через тернистый и от того интересный путь анализа данных! Можешь не переживать, я всегда помогу тебе, если у тебя возникнут вопросы)\n",
    "\n",
    "По ходу твоей работы я буду оставлять свои комментарии, по выполненным тобой шагам. Попрошу тебя не удалять их, так мне будет проще отслеживать твой прогресс в случае повторной проверки.\n",
    "\n",
    "Очень важно вести диалог и обсуждать те пункты, которые у тебя могли не получиться, поэтому, ты можешь оставлять свои комментарии, и мы обязательно во всем разберемся! Самое главное - выделяй свои комментарии удобным для тебя способом (цвет, рамка), но так, чтобы они отчетлитво отличались от моих комментариев. Так мы ни в чем не запутаемся)\n",
    "\n",
    "Свои комментарии я буду выделять так: <font color='green'>зеленый</font>, <font color='gold'>желтый</font> и <font color='red'>красный</font> цвет, например:\n",
    "\n",
    "<br/>\n",
    "\n",
    "<div class=\"alert alert-success\">\n",
    "<h2> Комментарий ревьюера V1<a class=\"tocSkip\"> </h2>\n",
    "\n",
    "<b>Все отлично!👍:</b> Этот комментарий я буду оставлять, если твое решение оптимально для данного шага.\n",
    "</div>\n",
    "\n",
    "<br/>\n",
    "\n",
    "<div class=\"alert alert-warning\">\n",
    "    <h2> Комментарий ревьюера V1<a class=\"tocSkip\"> </h2>\n",
    "\n",
    "<b>Некоторые замечания и рекомендации💡:</b> Это не означает, что ты совершил ошибку. Такими комментариями я буду отмечать места, где ты справился с задачей, но её можно решить ещё лучше. Также в таких комментариях я буду оставлять для тебя другие советы.\n",
    "</div>\n",
    "\n",
    "\n",
    "<br/>\n",
    "<div class=\"alert alert-block alert-danger\">\n",
    "<h2> Комментарий ревьюера V1<a class=\"tocSkip\"></h2>\n",
    "\n",
    "\n",
    "<b>На доработку🤔:</b>\n",
    "Если решение, которое ты применил на определенном шаге, требует значительных изменений, то я буду оставлять такой комментарий. Тебе нужно будет подумать еще раз как правильным образом решить данный этап. Если ревью содержит такие комментарии, то я не смогу принять проект с первого раза.\n",
    "</div>\n",
    "\n",
    "P.S. В оглавлении комментария ты увидишь `V1` (`V1`, `V2`, `V3`) - это версия моего комментария, которая понадобится нам с тобой, чтобы не запутаться, если потребуется оставить тебе комментарии после первой проверки."
   ]
  },
  {
   "cell_type": "markdown",
   "metadata": {},
   "source": [
    "# Анализ данных в интернет-магазине «Стримчик»"
   ]
  },
  {
   "cell_type": "markdown",
   "metadata": {},
   "source": [
    "# Описание проекта:  \n",
    "    Интернет-магазине «Стримчик», который продаёт по всему миру компьютерные игры.   \n",
    "    Доступны данные о продажах игр, оценки пользователей и экспертов, жанры и платформы (например, Xbox или PlayStation).  \n",
    "    Исследование проводится в декабре 2016 г.  \n",
    "    Необходимо выявить определяющие успешность игры закономерности. Это позволит сделать ставку на потенциально популярный продукт и спланировать рекламные кампании.  \n",
    "    Рекламная кампания планируется на 2017-й г.   \n",
    "    В наборе данных попадается аббревиатура ESRB (Entertainment Software Rating Board) — это ассоциация, определяющая возрастной рейтинг компьютерных игр. ESRB оценивает игровой контент и присваивает ему подходящую возрастную категорию\n"
   ]
  },
  {
   "cell_type": "markdown",
   "metadata": {},
   "source": [
    "**Описание данных**\n",
    "  \n",
    "  Name — название игры\n",
    "  \n",
    "  Platform — платформа\n",
    "  \n",
    "  Year_of_Release — год выпуска\n",
    "  \n",
    "  Genre — жанр игры\n",
    "  \n",
    "  NA_sales — продажи в Северной Америке (миллионы проданных копий)\n",
    "  \n",
    "  EU_sales — продажи в Европе (миллионы проданных копий)\n",
    "  \n",
    "  JP_sales — продажи в Японии (миллионы проданных копий)\n",
    "  \n",
    "  Other_sales — продажи в других странах (миллионы проданных копий)\n",
    "  \n",
    "  Critic_Score — оценка критиков (максимум 100)\n",
    "  \n",
    "  User_Score — оценка пользователей (максимум 10)\n",
    "  \n",
    "  Rating — рейтинг от организации ESRB (англ. Entertainment Software Rating Board). Эта ассоциация определяет рейтинг компьютерных игр и присваивает им подходящую возрастную категорию."
   ]
  },
  {
   "cell_type": "markdown",
   "metadata": {},
   "source": [
    "# План работы\n",
    "__1 Открыть файл с данными и изучите общую информацию__\n",
    "\n",
    "__2 Подготовка данных:__\n",
    "\n",
    "-Импортировать исходные данные о продажах игр, оценках пользователей и экспертов, жанрах, платформах и возрастном рейтинге ESRB.  \n",
    "-Очистить данные от недостающих значений или ошибок.  \n",
    "-Преобразовать данные в удобный для анализа формат.\n",
    "\n",
    "__3 Исследовательский анализ данных:__\n",
    "\n",
    "-Изучить статистики и распределения данных.  \n",
    "-Выявить основные тренды и паттерны, используя визуализации, графики и диаграммы.  \n",
    "-Оценить общую динамику продаж игр, а также провести сравнительный анализ по различным переменным.\n",
    "\n",
    "__4 Составьте портрет пользователя каждого региона:__  \n",
    "-Определить для пользователя каждого региона (NA, EU, JP):  \n",
    "-Самые популярные платформы (топ-5). Опишите различия в долях продаж.  \n",
    "-Самые популярные жанры (топ-5). Поясните разницу.  \n",
    "-Влияет ли рейтинг ESRB на продажи в отдельном регионе?\n",
    "\n",
    "__5 Проверить гипотезы__\n",
    "-Средние пользовательские рейтинги платформ Xbox One и PC одинаковые;\n",
    "-Средние пользовательские рейтинги жанров Action (англ. «действие», экшен-игры) и Sports (англ. «спортивные соревнования») разные.\n",
    "\n",
    "__6 Общий вывод__"
   ]
  },
  {
   "cell_type": "markdown",
   "metadata": {},
   "source": [
    "<div class=\"alert alert-success\">\n",
    "<h2> Комментарий ревьюера V1<a class=\"tocSkip\"> </h2>\n",
    "\n",
    "<b>Все отлично!👍:</b> Молодец, что начинаешь проект с описания."
   ]
  },
  {
   "cell_type": "markdown",
   "metadata": {},
   "source": [
    "### Изучение общей информации"
   ]
  },
  {
   "cell_type": "code",
   "execution_count": 1,
   "metadata": {},
   "outputs": [],
   "source": [
    "#Импортируем необходимые библиотеки\n",
    "import pandas as pd\n",
    "import seaborn as sns\n",
    "import matplotlib.pyplot as plt\n",
    "import numpy as np\n",
    "from scipy import stats as st\n",
    "from math import factorial, sqrt"
   ]
  },
  {
   "cell_type": "code",
   "execution_count": 2,
   "metadata": {},
   "outputs": [
    {
     "name": "stdout",
     "output_type": "stream",
     "text": [
      "Начальное количество данных: 16715\n"
     ]
    }
   ],
   "source": [
    "#Загрузим исследуемый датасет\n",
    "df = pd.read_csv('/datasets/games.csv')\n",
    "\n",
    "#Зафиксируем начальное количество данных\n",
    "start_len_df = df.shape[0]\n",
    "print('Начальное количество данных:',start_len_df)"
   ]
  },
  {
   "cell_type": "code",
   "execution_count": 3,
   "metadata": {},
   "outputs": [
    {
     "name": "stdout",
     "output_type": "stream",
     "text": [
      "<class 'pandas.core.frame.DataFrame'>\n",
      "RangeIndex: 16715 entries, 0 to 16714\n",
      "Data columns (total 11 columns):\n",
      " #   Column           Non-Null Count  Dtype  \n",
      "---  ------           --------------  -----  \n",
      " 0   Name             16713 non-null  object \n",
      " 1   Platform         16715 non-null  object \n",
      " 2   Year_of_Release  16446 non-null  float64\n",
      " 3   Genre            16713 non-null  object \n",
      " 4   NA_sales         16715 non-null  float64\n",
      " 5   EU_sales         16715 non-null  float64\n",
      " 6   JP_sales         16715 non-null  float64\n",
      " 7   Other_sales      16715 non-null  float64\n",
      " 8   Critic_Score     8137 non-null   float64\n",
      " 9   User_Score       10014 non-null  object \n",
      " 10  Rating           9949 non-null   object \n",
      "dtypes: float64(6), object(5)\n",
      "memory usage: 1.4+ MB\n"
     ]
    },
    {
     "data": {
      "text/html": [
       "<div>\n",
       "<style scoped>\n",
       "    .dataframe tbody tr th:only-of-type {\n",
       "        vertical-align: middle;\n",
       "    }\n",
       "\n",
       "    .dataframe tbody tr th {\n",
       "        vertical-align: top;\n",
       "    }\n",
       "\n",
       "    .dataframe thead th {\n",
       "        text-align: right;\n",
       "    }\n",
       "</style>\n",
       "<table border=\"1\" class=\"dataframe\">\n",
       "  <thead>\n",
       "    <tr style=\"text-align: right;\">\n",
       "      <th></th>\n",
       "      <th>Name</th>\n",
       "      <th>Platform</th>\n",
       "      <th>Year_of_Release</th>\n",
       "      <th>Genre</th>\n",
       "      <th>NA_sales</th>\n",
       "      <th>EU_sales</th>\n",
       "      <th>JP_sales</th>\n",
       "      <th>Other_sales</th>\n",
       "      <th>Critic_Score</th>\n",
       "      <th>User_Score</th>\n",
       "      <th>Rating</th>\n",
       "    </tr>\n",
       "  </thead>\n",
       "  <tbody>\n",
       "    <tr>\n",
       "      <th>0</th>\n",
       "      <td>Wii Sports</td>\n",
       "      <td>Wii</td>\n",
       "      <td>2006.0</td>\n",
       "      <td>Sports</td>\n",
       "      <td>41.36</td>\n",
       "      <td>28.96</td>\n",
       "      <td>3.77</td>\n",
       "      <td>8.45</td>\n",
       "      <td>76.0</td>\n",
       "      <td>8</td>\n",
       "      <td>E</td>\n",
       "    </tr>\n",
       "    <tr>\n",
       "      <th>1</th>\n",
       "      <td>Super Mario Bros.</td>\n",
       "      <td>NES</td>\n",
       "      <td>1985.0</td>\n",
       "      <td>Platform</td>\n",
       "      <td>29.08</td>\n",
       "      <td>3.58</td>\n",
       "      <td>6.81</td>\n",
       "      <td>0.77</td>\n",
       "      <td>NaN</td>\n",
       "      <td>NaN</td>\n",
       "      <td>NaN</td>\n",
       "    </tr>\n",
       "    <tr>\n",
       "      <th>2</th>\n",
       "      <td>Mario Kart Wii</td>\n",
       "      <td>Wii</td>\n",
       "      <td>2008.0</td>\n",
       "      <td>Racing</td>\n",
       "      <td>15.68</td>\n",
       "      <td>12.76</td>\n",
       "      <td>3.79</td>\n",
       "      <td>3.29</td>\n",
       "      <td>82.0</td>\n",
       "      <td>8.3</td>\n",
       "      <td>E</td>\n",
       "    </tr>\n",
       "    <tr>\n",
       "      <th>3</th>\n",
       "      <td>Wii Sports Resort</td>\n",
       "      <td>Wii</td>\n",
       "      <td>2009.0</td>\n",
       "      <td>Sports</td>\n",
       "      <td>15.61</td>\n",
       "      <td>10.93</td>\n",
       "      <td>3.28</td>\n",
       "      <td>2.95</td>\n",
       "      <td>80.0</td>\n",
       "      <td>8</td>\n",
       "      <td>E</td>\n",
       "    </tr>\n",
       "    <tr>\n",
       "      <th>4</th>\n",
       "      <td>Pokemon Red/Pokemon Blue</td>\n",
       "      <td>GB</td>\n",
       "      <td>1996.0</td>\n",
       "      <td>Role-Playing</td>\n",
       "      <td>11.27</td>\n",
       "      <td>8.89</td>\n",
       "      <td>10.22</td>\n",
       "      <td>1.00</td>\n",
       "      <td>NaN</td>\n",
       "      <td>NaN</td>\n",
       "      <td>NaN</td>\n",
       "    </tr>\n",
       "    <tr>\n",
       "      <th>5</th>\n",
       "      <td>Tetris</td>\n",
       "      <td>GB</td>\n",
       "      <td>1989.0</td>\n",
       "      <td>Puzzle</td>\n",
       "      <td>23.20</td>\n",
       "      <td>2.26</td>\n",
       "      <td>4.22</td>\n",
       "      <td>0.58</td>\n",
       "      <td>NaN</td>\n",
       "      <td>NaN</td>\n",
       "      <td>NaN</td>\n",
       "    </tr>\n",
       "    <tr>\n",
       "      <th>6</th>\n",
       "      <td>New Super Mario Bros.</td>\n",
       "      <td>DS</td>\n",
       "      <td>2006.0</td>\n",
       "      <td>Platform</td>\n",
       "      <td>11.28</td>\n",
       "      <td>9.14</td>\n",
       "      <td>6.50</td>\n",
       "      <td>2.88</td>\n",
       "      <td>89.0</td>\n",
       "      <td>8.5</td>\n",
       "      <td>E</td>\n",
       "    </tr>\n",
       "    <tr>\n",
       "      <th>7</th>\n",
       "      <td>Wii Play</td>\n",
       "      <td>Wii</td>\n",
       "      <td>2006.0</td>\n",
       "      <td>Misc</td>\n",
       "      <td>13.96</td>\n",
       "      <td>9.18</td>\n",
       "      <td>2.93</td>\n",
       "      <td>2.84</td>\n",
       "      <td>58.0</td>\n",
       "      <td>6.6</td>\n",
       "      <td>E</td>\n",
       "    </tr>\n",
       "    <tr>\n",
       "      <th>8</th>\n",
       "      <td>New Super Mario Bros. Wii</td>\n",
       "      <td>Wii</td>\n",
       "      <td>2009.0</td>\n",
       "      <td>Platform</td>\n",
       "      <td>14.44</td>\n",
       "      <td>6.94</td>\n",
       "      <td>4.70</td>\n",
       "      <td>2.24</td>\n",
       "      <td>87.0</td>\n",
       "      <td>8.4</td>\n",
       "      <td>E</td>\n",
       "    </tr>\n",
       "    <tr>\n",
       "      <th>9</th>\n",
       "      <td>Duck Hunt</td>\n",
       "      <td>NES</td>\n",
       "      <td>1984.0</td>\n",
       "      <td>Shooter</td>\n",
       "      <td>26.93</td>\n",
       "      <td>0.63</td>\n",
       "      <td>0.28</td>\n",
       "      <td>0.47</td>\n",
       "      <td>NaN</td>\n",
       "      <td>NaN</td>\n",
       "      <td>NaN</td>\n",
       "    </tr>\n",
       "  </tbody>\n",
       "</table>\n",
       "</div>"
      ],
      "text/plain": [
       "                        Name Platform  Year_of_Release         Genre  \\\n",
       "0                 Wii Sports      Wii           2006.0        Sports   \n",
       "1          Super Mario Bros.      NES           1985.0      Platform   \n",
       "2             Mario Kart Wii      Wii           2008.0        Racing   \n",
       "3          Wii Sports Resort      Wii           2009.0        Sports   \n",
       "4   Pokemon Red/Pokemon Blue       GB           1996.0  Role-Playing   \n",
       "5                     Tetris       GB           1989.0        Puzzle   \n",
       "6      New Super Mario Bros.       DS           2006.0      Platform   \n",
       "7                   Wii Play      Wii           2006.0          Misc   \n",
       "8  New Super Mario Bros. Wii      Wii           2009.0      Platform   \n",
       "9                  Duck Hunt      NES           1984.0       Shooter   \n",
       "\n",
       "   NA_sales  EU_sales  JP_sales  Other_sales  Critic_Score User_Score Rating  \n",
       "0     41.36     28.96      3.77         8.45          76.0          8      E  \n",
       "1     29.08      3.58      6.81         0.77           NaN        NaN    NaN  \n",
       "2     15.68     12.76      3.79         3.29          82.0        8.3      E  \n",
       "3     15.61     10.93      3.28         2.95          80.0          8      E  \n",
       "4     11.27      8.89     10.22         1.00           NaN        NaN    NaN  \n",
       "5     23.20      2.26      4.22         0.58           NaN        NaN    NaN  \n",
       "6     11.28      9.14      6.50         2.88          89.0        8.5      E  \n",
       "7     13.96      9.18      2.93         2.84          58.0        6.6      E  \n",
       "8     14.44      6.94      4.70         2.24          87.0        8.4      E  \n",
       "9     26.93      0.63      0.28         0.47           NaN        NaN    NaN  "
      ]
     },
     "metadata": {},
     "output_type": "display_data"
    }
   ],
   "source": [
    "#Выведем информацию по датафрейму и первые 10 строк\n",
    "df.info()\n",
    "display(df.head(10))"
   ]
  },
  {
   "cell_type": "markdown",
   "metadata": {},
   "source": [
    "Общая гистограмма для всех числовых столбцов таблицы"
   ]
  },
  {
   "cell_type": "code",
   "execution_count": 4,
   "metadata": {},
   "outputs": [
    {
     "data": {
      "image/png": "[encoded data removed]",
      "text/plain": [
       "<Figure size 1080x1440 with 6 Axes>"
      ]
     },
     "metadata": {
      "needs_background": "light"
     },
     "output_type": "display_data"
    }
   ],
   "source": [
    "df.hist(figsize=(15, 20))\n",
    "plt.show()"
   ]
  },
  {
   "cell_type": "markdown",
   "metadata": {},
   "source": [
    "**Промежуточный вывод**  \n",
    "Данная таблица состоит из 11 столбцов и 16715 записей.  \n",
    "Много пропусков в столбцах Critic_Score, User_Score, Rating \n",
    "\n",
    "Типы переменных:\n",
    "\n",
    "Категориальный: Name, Platform, Genre, Rating.  \n",
    "Количественный: Year_of_Release, NA_sales, EU_sales, JP_sales, Other_sales, Critic_Score, User_Score."
   ]
  },
  {
   "cell_type": "markdown",
   "metadata": {},
   "source": [
    "<div class=\"alert alert-success\">\n",
    "<h2> Комментарий ревьюера V1<a class=\"tocSkip\"> </h2>\n",
    "\n",
    "<b>Все отлично!👍:</b> Правильно рассмотрел данные, с которыми предстоит работать."
   ]
  },
  {
   "cell_type": "markdown",
   "metadata": {},
   "source": [
    "### Подготовка данных"
   ]
  },
  {
   "cell_type": "markdown",
   "metadata": {},
   "source": [
    "#### Названия столбцов"
   ]
  },
  {
   "cell_type": "code",
   "execution_count": 5,
   "metadata": {},
   "outputs": [
    {
     "name": "stdout",
     "output_type": "stream",
     "text": [
      "<class 'pandas.core.frame.DataFrame'>\n",
      "RangeIndex: 16715 entries, 0 to 16714\n",
      "Data columns (total 11 columns):\n",
      " #   Column           Non-Null Count  Dtype  \n",
      "---  ------           --------------  -----  \n",
      " 0   name             16713 non-null  object \n",
      " 1   platform         16715 non-null  object \n",
      " 2   year_of_release  16446 non-null  float64\n",
      " 3   genre            16713 non-null  object \n",
      " 4   na_sales         16715 non-null  float64\n",
      " 5   eu_sales         16715 non-null  float64\n",
      " 6   jp_sales         16715 non-null  float64\n",
      " 7   other_sales      16715 non-null  float64\n",
      " 8   critic_score     8137 non-null   float64\n",
      " 9   user_score       10014 non-null  object \n",
      " 10  rating           9949 non-null   object \n",
      "dtypes: float64(6), object(5)\n",
      "memory usage: 1.4+ MB\n"
     ]
    }
   ],
   "source": [
    "#Приведем названия столбцов к нижнему регистру\n",
    "df.columns = df.columns.str.lower()\n",
    "df.info()"
   ]
  },
  {
   "cell_type": "markdown",
   "metadata": {},
   "source": [
    "<div class=\"alert alert-success\">\n",
    "<h2> Комментарий ревьюера V1<a class=\"tocSkip\"> </h2>\n",
    "\n",
    "<b>Все отлично!👍:</b> Правильно привел названия столбцов к нижнему регистру."
   ]
  },
  {
   "cell_type": "markdown",
   "metadata": {},
   "source": [
    "#### Преобразование типов данных"
   ]
  },
  {
   "cell_type": "code",
   "execution_count": 6,
   "metadata": {},
   "outputs": [
    {
     "data": {
      "text/plain": [
       "False    16446\n",
       "True       269\n",
       "Name: year_of_release, dtype: int64"
      ]
     },
     "metadata": {},
     "output_type": "display_data"
    },
    {
     "data": {
      "text/plain": [
       "True     8578\n",
       "False    8137\n",
       "Name: critic_score, dtype: int64"
      ]
     },
     "metadata": {},
     "output_type": "display_data"
    }
   ],
   "source": [
    "#Преобразуем year_of_release к целочисленному формату\n",
    "display(df['year_of_release'].isna().value_counts())\n",
    "display(df['critic_score'].isna().value_counts())"
   ]
  },
  {
   "cell_type": "markdown",
   "metadata": {},
   "source": [
    "Так как в year_of_release содержится год и он не может быть дробным, его следует привести к целомучисленному типу.  \n",
    "В critic_score содержатся только целые значения, имеет смысл перевести столбец к целочисленному типу."
   ]
  },
  {
   "cell_type": "code",
   "execution_count": 7,
   "metadata": {},
   "outputs": [
    {
     "name": "stdout",
     "output_type": "stream",
     "text": [
      "<class 'pandas.core.frame.DataFrame'>\n",
      "RangeIndex: 16715 entries, 0 to 16714\n",
      "Data columns (total 11 columns):\n",
      " #   Column           Non-Null Count  Dtype  \n",
      "---  ------           --------------  -----  \n",
      " 0   name             16713 non-null  object \n",
      " 1   platform         16715 non-null  object \n",
      " 2   year_of_release  16446 non-null  Int64  \n",
      " 3   genre            16713 non-null  object \n",
      " 4   na_sales         16715 non-null  float64\n",
      " 5   eu_sales         16715 non-null  float64\n",
      " 6   jp_sales         16715 non-null  float64\n",
      " 7   other_sales      16715 non-null  float64\n",
      " 8   critic_score     8137 non-null   Int64  \n",
      " 9   user_score       10014 non-null  object \n",
      " 10  rating           9949 non-null   object \n",
      "dtypes: Int64(2), float64(4), object(5)\n",
      "memory usage: 1.4+ MB\n"
     ]
    }
   ],
   "source": [
    "#Так как в year_of_release, critic_score имеются пропуски, приведем к типу Int64\n",
    "df = df.astype({\"year_of_release\": \"Int64\", \"critic_score\": \"Int64\"})\n",
    "df.info()"
   ]
  },
  {
   "cell_type": "markdown",
   "metadata": {},
   "source": [
    "TBD \"to be defined\" - это отсутсвие оценки на момент выгрузки датафрейма.  \n",
    "Строковое значение \"tbd\" означает, что сейчас идет оценивание и по факту оценки нет, поэтому все \"tbd\" можно заменить на NaN."
   ]
  },
  {
   "cell_type": "code",
   "execution_count": 8,
   "metadata": {},
   "outputs": [],
   "source": [
    "df['user_score'] = pd.to_numeric(df['user_score'], downcast='float', errors ='coerce')\n",
    "df['user_score'] = df['user_score'].round(1)"
   ]
  },
  {
   "cell_type": "markdown",
   "metadata": {},
   "source": [
    "<div class=\"alert alert-success\">\n",
    "<h2> Комментарий ревьюера V1<a class=\"tocSkip\"> </h2>\n",
    "\n",
    "<b>Все отлично!👍:</b> В данном случае можно заменить значения tbd на nan."
   ]
  },
  {
   "cell_type": "markdown",
   "metadata": {},
   "source": [
    "#### Обработка пропусков"
   ]
  },
  {
   "cell_type": "code",
   "execution_count": 9,
   "metadata": {
    "scrolled": false
   },
   "outputs": [
    {
     "data": {
      "text/html": [
       "<div>\n",
       "<style scoped>\n",
       "    .dataframe tbody tr th:only-of-type {\n",
       "        vertical-align: middle;\n",
       "    }\n",
       "\n",
       "    .dataframe tbody tr th {\n",
       "        vertical-align: top;\n",
       "    }\n",
       "\n",
       "    .dataframe thead th {\n",
       "        text-align: right;\n",
       "    }\n",
       "</style>\n",
       "<table border=\"1\" class=\"dataframe\">\n",
       "  <thead>\n",
       "    <tr style=\"text-align: right;\">\n",
       "      <th></th>\n",
       "      <th>name</th>\n",
       "      <th>platform</th>\n",
       "      <th>year_of_release</th>\n",
       "      <th>genre</th>\n",
       "      <th>na_sales</th>\n",
       "      <th>eu_sales</th>\n",
       "      <th>jp_sales</th>\n",
       "      <th>other_sales</th>\n",
       "      <th>critic_score</th>\n",
       "      <th>user_score</th>\n",
       "      <th>rating</th>\n",
       "    </tr>\n",
       "  </thead>\n",
       "  <tbody>\n",
       "    <tr>\n",
       "      <th>659</th>\n",
       "      <td>NaN</td>\n",
       "      <td>GEN</td>\n",
       "      <td>1993</td>\n",
       "      <td>NaN</td>\n",
       "      <td>1.78</td>\n",
       "      <td>0.53</td>\n",
       "      <td>0.00</td>\n",
       "      <td>0.08</td>\n",
       "      <td>&lt;NA&gt;</td>\n",
       "      <td>NaN</td>\n",
       "      <td>NaN</td>\n",
       "    </tr>\n",
       "    <tr>\n",
       "      <th>14244</th>\n",
       "      <td>NaN</td>\n",
       "      <td>GEN</td>\n",
       "      <td>1993</td>\n",
       "      <td>NaN</td>\n",
       "      <td>0.00</td>\n",
       "      <td>0.00</td>\n",
       "      <td>0.03</td>\n",
       "      <td>0.00</td>\n",
       "      <td>&lt;NA&gt;</td>\n",
       "      <td>NaN</td>\n",
       "      <td>NaN</td>\n",
       "    </tr>\n",
       "  </tbody>\n",
       "</table>\n",
       "</div>"
      ],
      "text/plain": [
       "      name platform  year_of_release genre  na_sales  eu_sales  jp_sales  \\\n",
       "659    NaN      GEN             1993   NaN      1.78      0.53      0.00   \n",
       "14244  NaN      GEN             1993   NaN      0.00      0.00      0.03   \n",
       "\n",
       "       other_sales  critic_score  user_score rating  \n",
       "659           0.08          <NA>         NaN    NaN  \n",
       "14244         0.00          <NA>         NaN    NaN  "
      ]
     },
     "metadata": {},
     "output_type": "display_data"
    }
   ],
   "source": [
    "#Определим пропущенные значения в названиях игр\n",
    "display(df[df['name'].isna() == True])"
   ]
  },
  {
   "cell_type": "code",
   "execution_count": 10,
   "metadata": {},
   "outputs": [
    {
     "name": "stdout",
     "output_type": "stream",
     "text": [
      "<class 'pandas.core.frame.DataFrame'>\n",
      "Int64Index: 16713 entries, 0 to 16714\n",
      "Data columns (total 11 columns):\n",
      " #   Column           Non-Null Count  Dtype  \n",
      "---  ------           --------------  -----  \n",
      " 0   name             16713 non-null  object \n",
      " 1   platform         16713 non-null  object \n",
      " 2   year_of_release  16444 non-null  Int64  \n",
      " 3   genre            16713 non-null  object \n",
      " 4   na_sales         16713 non-null  float64\n",
      " 5   eu_sales         16713 non-null  float64\n",
      " 6   jp_sales         16713 non-null  float64\n",
      " 7   other_sales      16713 non-null  float64\n",
      " 8   critic_score     8137 non-null   Int64  \n",
      " 9   user_score       7590 non-null   float32\n",
      " 10  rating           9949 non-null   object \n",
      "dtypes: Int64(2), float32(1), float64(4), object(4)\n",
      "memory usage: 1.5+ MB\n"
     ]
    }
   ],
   "source": [
    "#Так как восстановить названия игр не представляется возможным, удалим эти две записи \n",
    "df = df[~(df['name'].isna() == True)]\n",
    "df.info()"
   ]
  },
  {
   "cell_type": "markdown",
   "metadata": {},
   "source": [
    "<div class=\"alert alert-success\">\n",
    "<h2> Комментарий ревьюера V1<a class=\"tocSkip\"> </h2>\n",
    "\n",
    "<b>Все отлично!👍:</b> Можно удалить эти игры, их всего 2."
   ]
  },
  {
   "cell_type": "markdown",
   "metadata": {},
   "source": [
    "Заполним часть пропусков в year_of_release значением из названия name. Так как год релиза игр идет перед началом спортивного сезона, заполним значениями на год раньше. "
   ]
  },
  {
   "cell_type": "code",
   "execution_count": 11,
   "metadata": {
    "scrolled": true
   },
   "outputs": [
    {
     "name": "stderr",
     "output_type": "stream",
     "text": [
      "/tmp/ipykernel_67/3152164215.py:9: SettingWithCopyWarning: \n",
      "A value is trying to be set on a copy of a slice from a DataFrame.\n",
      "Try using .loc[row_indexer,col_indexer] = value instead\n",
      "\n",
      "See the caveats in the documentation: https://pandas.pydata.org/pandas-docs/stable/user_guide/indexing.html#returning-a-view-versus-a-copy\n",
      "  dfr['year_of_release_n']= df['name'].apply(fill_year)\n"
     ]
    }
   ],
   "source": [
    "dfr = df[['name','year_of_release']]\n",
    "def fill_year(row):\n",
    "        split_name = row.split()\n",
    "        year_name = 0\n",
    "        for year in split_name:\n",
    "            if year.isnumeric():\n",
    "                year_name = int(year)   \n",
    "        return year_name-1\n",
    "dfr['year_of_release_n']= df['name'].apply(fill_year)\n",
    "dfr = dfr[(dfr['year_of_release'].isna() == True) & (dfr['year_of_release_n'] < 2017) & (dfr['year_of_release_n'] > 1980)]\n",
    "dfr['year_of_release'] = dfr['year_of_release_n']\n",
    "dfr = dfr[['name','year_of_release']]\n",
    "df = df.astype({\"year_of_release\": \"Int64\"})"
   ]
  },
  {
   "cell_type": "code",
   "execution_count": 12,
   "metadata": {},
   "outputs": [
    {
     "data": {
      "text/html": [
       "<div>\n",
       "<style scoped>\n",
       "    .dataframe tbody tr th:only-of-type {\n",
       "        vertical-align: middle;\n",
       "    }\n",
       "\n",
       "    .dataframe tbody tr th {\n",
       "        vertical-align: top;\n",
       "    }\n",
       "\n",
       "    .dataframe thead th {\n",
       "        text-align: right;\n",
       "    }\n",
       "</style>\n",
       "<table border=\"1\" class=\"dataframe\">\n",
       "  <thead>\n",
       "    <tr style=\"text-align: right;\">\n",
       "      <th></th>\n",
       "      <th>name</th>\n",
       "      <th>year_of_release</th>\n",
       "    </tr>\n",
       "  </thead>\n",
       "  <tbody>\n",
       "    <tr>\n",
       "      <th>183</th>\n",
       "      <td>Madden NFL 2004</td>\n",
       "      <td>2003</td>\n",
       "    </tr>\n",
       "    <tr>\n",
       "      <th>377</th>\n",
       "      <td>FIFA Soccer 2004</td>\n",
       "      <td>2003</td>\n",
       "    </tr>\n",
       "    <tr>\n",
       "      <th>475</th>\n",
       "      <td>wwe Smackdown vs. Raw 2006</td>\n",
       "      <td>2005</td>\n",
       "    </tr>\n",
       "    <tr>\n",
       "      <th>1650</th>\n",
       "      <td>NASCAR Thunder 2003</td>\n",
       "      <td>2002</td>\n",
       "    </tr>\n",
       "    <tr>\n",
       "      <th>3486</th>\n",
       "      <td>Madden NFL 2002</td>\n",
       "      <td>2001</td>\n",
       "    </tr>\n",
       "    <tr>\n",
       "      <th>4775</th>\n",
       "      <td>NFL GameDay 2003</td>\n",
       "      <td>2002</td>\n",
       "    </tr>\n",
       "    <tr>\n",
       "      <th>5156</th>\n",
       "      <td>NBA Live 2003</td>\n",
       "      <td>2002</td>\n",
       "    </tr>\n",
       "    <tr>\n",
       "      <th>5655</th>\n",
       "      <td>All-Star Baseball 2005</td>\n",
       "      <td>2004</td>\n",
       "    </tr>\n",
       "    <tr>\n",
       "      <th>5889</th>\n",
       "      <td>NBA Live 2003</td>\n",
       "      <td>2002</td>\n",
       "    </tr>\n",
       "    <tr>\n",
       "      <th>8918</th>\n",
       "      <td>All-Star Baseball 2005</td>\n",
       "      <td>2004</td>\n",
       "    </tr>\n",
       "    <tr>\n",
       "      <th>13195</th>\n",
       "      <td>Tour de France 2011</td>\n",
       "      <td>2010</td>\n",
       "    </tr>\n",
       "    <tr>\n",
       "      <th>13929</th>\n",
       "      <td>Sega Rally 2006</td>\n",
       "      <td>2005</td>\n",
       "    </tr>\n",
       "    <tr>\n",
       "      <th>15953</th>\n",
       "      <td>PDC World Championship Darts 2008</td>\n",
       "      <td>2007</td>\n",
       "    </tr>\n",
       "    <tr>\n",
       "      <th>16079</th>\n",
       "      <td>Football Manager 2007</td>\n",
       "      <td>2006</td>\n",
       "    </tr>\n",
       "    <tr>\n",
       "      <th>16373</th>\n",
       "      <td>PDC World Championship Darts 2008</td>\n",
       "      <td>2007</td>\n",
       "    </tr>\n",
       "  </tbody>\n",
       "</table>\n",
       "</div>"
      ],
      "text/plain": [
       "                                    name  year_of_release\n",
       "183                      Madden NFL 2004             2003\n",
       "377                     FIFA Soccer 2004             2003\n",
       "475           wwe Smackdown vs. Raw 2006             2005\n",
       "1650                 NASCAR Thunder 2003             2002\n",
       "3486                     Madden NFL 2002             2001\n",
       "4775                    NFL GameDay 2003             2002\n",
       "5156                       NBA Live 2003             2002\n",
       "5655              All-Star Baseball 2005             2004\n",
       "5889                       NBA Live 2003             2002\n",
       "8918              All-Star Baseball 2005             2004\n",
       "13195                Tour de France 2011             2010\n",
       "13929                    Sega Rally 2006             2005\n",
       "15953  PDC World Championship Darts 2008             2007\n",
       "16079              Football Manager 2007             2006\n",
       "16373  PDC World Championship Darts 2008             2007"
      ]
     },
     "metadata": {},
     "output_type": "display_data"
    }
   ],
   "source": [
    "display(dfr)"
   ]
  },
  {
   "cell_type": "code",
   "execution_count": 13,
   "metadata": {},
   "outputs": [],
   "source": [
    "df['year_of_release'].fillna(dfr['year_of_release'], inplace=True)"
   ]
  },
  {
   "cell_type": "code",
   "execution_count": 14,
   "metadata": {},
   "outputs": [
    {
     "data": {
      "text/plain": [
       "False    16459\n",
       "True       254\n",
       "Name: year_of_release, dtype: int64"
      ]
     },
     "execution_count": 14,
     "metadata": {},
     "output_type": "execute_result"
    }
   ],
   "source": [
    "df['year_of_release'].isna().value_counts()"
   ]
  },
  {
   "cell_type": "markdown",
   "metadata": {},
   "source": [
    "Остальные пропуски в year_of_release восстановить невозможно, удалим их"
   ]
  },
  {
   "cell_type": "code",
   "execution_count": 15,
   "metadata": {},
   "outputs": [
    {
     "name": "stdout",
     "output_type": "stream",
     "text": [
      "<class 'pandas.core.frame.DataFrame'>\n",
      "Int64Index: 16459 entries, 0 to 16714\n",
      "Data columns (total 11 columns):\n",
      " #   Column           Non-Null Count  Dtype  \n",
      "---  ------           --------------  -----  \n",
      " 0   name             16459 non-null  object \n",
      " 1   platform         16459 non-null  object \n",
      " 2   year_of_release  16459 non-null  Int64  \n",
      " 3   genre            16459 non-null  object \n",
      " 4   na_sales         16459 non-null  float64\n",
      " 5   eu_sales         16459 non-null  float64\n",
      " 6   jp_sales         16459 non-null  float64\n",
      " 7   other_sales      16459 non-null  float64\n",
      " 8   critic_score     7994 non-null   Int64  \n",
      " 9   user_score       7472 non-null   float32\n",
      " 10  rating           9778 non-null   object \n",
      "dtypes: Int64(2), float32(1), float64(4), object(4)\n",
      "memory usage: 1.5+ MB\n"
     ]
    }
   ],
   "source": [
    "df.drop(df[df['year_of_release'].isna()].index,inplace=True)\n",
    "df.info()"
   ]
  },
  {
   "cell_type": "markdown",
   "metadata": {},
   "source": [
    "Так как значения в critic_score,user_score,rating не зависимы от других столбцов, объективное заполнение пропусков не представляется возможным.\n",
    "Причинами пропусков в данных могут быть как человеческий фактор так и системные ошибки. Оценка игр походит не быстро, а может даже вообще не пройти, так что по всему миру крупные агенства по рейтингу игр могут не оставить оценку. Из-за этого в большинстве случаев отсутсвуют оценки игроков или ESRB оценка."
   ]
  },
  {
   "cell_type": "markdown",
   "metadata": {},
   "source": [
    "<div class=\"alert alert-success\">\n",
    "<h2> Комментарий ревьюера V1<a class=\"tocSkip\"> </h2>\n",
    "\n",
    "<b>Все отлично!👍:</b> Абсолютно верно обработал пропуски, продолжай в том же духе!"
   ]
  },
  {
   "cell_type": "markdown",
   "metadata": {},
   "source": [
    "#### Удаление дубликатов"
   ]
  },
  {
   "cell_type": "code",
   "execution_count": 16,
   "metadata": {},
   "outputs": [
    {
     "name": "stdout",
     "output_type": "stream",
     "text": [
      "<class 'pandas.core.frame.DataFrame'>\n",
      "Int64Index: 16459 entries, 0 to 16714\n",
      "Data columns (total 11 columns):\n",
      " #   Column           Non-Null Count  Dtype  \n",
      "---  ------           --------------  -----  \n",
      " 0   name             16459 non-null  object \n",
      " 1   platform         16459 non-null  object \n",
      " 2   year_of_release  16459 non-null  Int64  \n",
      " 3   genre            16459 non-null  object \n",
      " 4   na_sales         16459 non-null  float64\n",
      " 5   eu_sales         16459 non-null  float64\n",
      " 6   jp_sales         16459 non-null  float64\n",
      " 7   other_sales      16459 non-null  float64\n",
      " 8   critic_score     7994 non-null   Int64  \n",
      " 9   user_score       7472 non-null   float32\n",
      " 10  rating           9778 non-null   object \n",
      "dtypes: Int64(2), float32(1), float64(4), object(4)\n",
      "memory usage: 1.5+ MB\n"
     ]
    }
   ],
   "source": [
    "df.drop_duplicates()\n",
    "df.info()"
   ]
  },
  {
   "cell_type": "markdown",
   "metadata": {},
   "source": [
    "Явных дубликатов не обнаружено."
   ]
  },
  {
   "cell_type": "code",
   "execution_count": 17,
   "metadata": {},
   "outputs": [],
   "source": [
    "#Поиск дубликатов в столбцах name,platform,year_of_release\n",
    "#duplicates_df = df.loc[:, 'name':'genre']\n",
    "#duplicates_df.drop_duplicates()\n",
    "#duplicates_df.info()\n"
   ]
  },
  {
   "cell_type": "markdown",
   "metadata": {},
   "source": [
    "<div class=\"alert alert-block alert-danger\">\n",
    "<h2> Комментарий ревьюера V1<a class=\"tocSkip\"></h2>\n",
    "\n",
    "\n",
    "<b>На доработку🤔:</b>\n",
    "Нужно проверить данные на наличие неявных дубликатов. Это игры с одинаковым названием, годом релиза, жанром и платформой, а в других столбцах значения могут отличаться. Можно воспользоваться методом duplicated()."
   ]
  },
  {
   "cell_type": "markdown",
   "metadata": {},
   "source": [
    "<div class=\"alert-info\" style=\"padding: 20px; border-radius: 10px\">\n",
    "Проверим наличие неявных дубликатов\n",
    "</div>"
   ]
  },
  {
   "cell_type": "code",
   "execution_count": 18,
   "metadata": {},
   "outputs": [
    {
     "data": {
      "text/html": [
       "<div>\n",
       "<style scoped>\n",
       "    .dataframe tbody tr th:only-of-type {\n",
       "        vertical-align: middle;\n",
       "    }\n",
       "\n",
       "    .dataframe tbody tr th {\n",
       "        vertical-align: top;\n",
       "    }\n",
       "\n",
       "    .dataframe thead th {\n",
       "        text-align: right;\n",
       "    }\n",
       "</style>\n",
       "<table border=\"1\" class=\"dataframe\">\n",
       "  <thead>\n",
       "    <tr style=\"text-align: right;\">\n",
       "      <th></th>\n",
       "      <th>name</th>\n",
       "      <th>platform</th>\n",
       "      <th>year_of_release</th>\n",
       "      <th>genre</th>\n",
       "      <th>na_sales</th>\n",
       "      <th>eu_sales</th>\n",
       "      <th>jp_sales</th>\n",
       "      <th>other_sales</th>\n",
       "      <th>critic_score</th>\n",
       "      <th>user_score</th>\n",
       "      <th>rating</th>\n",
       "    </tr>\n",
       "  </thead>\n",
       "  <tbody>\n",
       "    <tr>\n",
       "      <th>604</th>\n",
       "      <td>Madden NFL 13</td>\n",
       "      <td>PS3</td>\n",
       "      <td>2012</td>\n",
       "      <td>Sports</td>\n",
       "      <td>2.11</td>\n",
       "      <td>0.22</td>\n",
       "      <td>0.0</td>\n",
       "      <td>0.23</td>\n",
       "      <td>83</td>\n",
       "      <td>5.5</td>\n",
       "      <td>E</td>\n",
       "    </tr>\n",
       "    <tr>\n",
       "      <th>16230</th>\n",
       "      <td>Madden NFL 13</td>\n",
       "      <td>PS3</td>\n",
       "      <td>2012</td>\n",
       "      <td>Sports</td>\n",
       "      <td>0.00</td>\n",
       "      <td>0.01</td>\n",
       "      <td>0.0</td>\n",
       "      <td>0.00</td>\n",
       "      <td>83</td>\n",
       "      <td>5.5</td>\n",
       "      <td>E</td>\n",
       "    </tr>\n",
       "  </tbody>\n",
       "</table>\n",
       "</div>"
      ],
      "text/plain": [
       "                name platform  year_of_release   genre  na_sales  eu_sales  \\\n",
       "604    Madden NFL 13      PS3             2012  Sports      2.11      0.22   \n",
       "16230  Madden NFL 13      PS3             2012  Sports      0.00      0.01   \n",
       "\n",
       "       jp_sales  other_sales  critic_score  user_score rating  \n",
       "604         0.0         0.23            83         5.5      E  \n",
       "16230       0.0         0.00            83         5.5      E  "
      ]
     },
     "metadata": {},
     "output_type": "display_data"
    }
   ],
   "source": [
    "display(df[df.duplicated(subset=['name','platform','year_of_release','genre'], keep=False) == True])"
   ]
  },
  {
   "cell_type": "markdown",
   "metadata": {},
   "source": [
    "Обнаружен один дубликат. Удалим запись с индексом 16230, так как в нем меньше данных по продажам"
   ]
  },
  {
   "cell_type": "code",
   "execution_count": 19,
   "metadata": {},
   "outputs": [
    {
     "name": "stdout",
     "output_type": "stream",
     "text": [
      "<class 'pandas.core.frame.DataFrame'>\n",
      "Int64Index: 16458 entries, 0 to 16714\n",
      "Data columns (total 11 columns):\n",
      " #   Column           Non-Null Count  Dtype  \n",
      "---  ------           --------------  -----  \n",
      " 0   name             16458 non-null  object \n",
      " 1   platform         16458 non-null  object \n",
      " 2   year_of_release  16458 non-null  Int64  \n",
      " 3   genre            16458 non-null  object \n",
      " 4   na_sales         16458 non-null  float64\n",
      " 5   eu_sales         16458 non-null  float64\n",
      " 6   jp_sales         16458 non-null  float64\n",
      " 7   other_sales      16458 non-null  float64\n",
      " 8   critic_score     7993 non-null   Int64  \n",
      " 9   user_score       7471 non-null   float32\n",
      " 10  rating           9777 non-null   object \n",
      "dtypes: Int64(2), float32(1), float64(4), object(4)\n",
      "memory usage: 1.5+ MB\n"
     ]
    }
   ],
   "source": [
    "df = df.drop(index=[16230])\n",
    "df.info()"
   ]
  },
  {
   "cell_type": "markdown",
   "metadata": {},
   "source": [
    "<div class=\"alert alert-success\">\n",
    "<h2> Комментарий ревьюера V2<a class=\"tocSkip\"> </h2>\n",
    "\n",
    "<b>Все отлично!👍:</b> Все верно"
   ]
  },
  {
   "cell_type": "markdown",
   "metadata": {},
   "source": [
    "#### Подсчет суммарных продаж по всему миру"
   ]
  },
  {
   "cell_type": "code",
   "execution_count": 20,
   "metadata": {
    "scrolled": true
   },
   "outputs": [
    {
     "data": {
      "text/html": [
       "<div>\n",
       "<style scoped>\n",
       "    .dataframe tbody tr th:only-of-type {\n",
       "        vertical-align: middle;\n",
       "    }\n",
       "\n",
       "    .dataframe tbody tr th {\n",
       "        vertical-align: top;\n",
       "    }\n",
       "\n",
       "    .dataframe thead th {\n",
       "        text-align: right;\n",
       "    }\n",
       "</style>\n",
       "<table border=\"1\" class=\"dataframe\">\n",
       "  <thead>\n",
       "    <tr style=\"text-align: right;\">\n",
       "      <th></th>\n",
       "      <th>name</th>\n",
       "      <th>platform</th>\n",
       "      <th>year_of_release</th>\n",
       "      <th>genre</th>\n",
       "      <th>na_sales</th>\n",
       "      <th>eu_sales</th>\n",
       "      <th>jp_sales</th>\n",
       "      <th>other_sales</th>\n",
       "      <th>critic_score</th>\n",
       "      <th>user_score</th>\n",
       "      <th>rating</th>\n",
       "      <th>global_sales</th>\n",
       "    </tr>\n",
       "  </thead>\n",
       "  <tbody>\n",
       "    <tr>\n",
       "      <th>0</th>\n",
       "      <td>Wii Sports</td>\n",
       "      <td>Wii</td>\n",
       "      <td>2006</td>\n",
       "      <td>Sports</td>\n",
       "      <td>41.36</td>\n",
       "      <td>28.96</td>\n",
       "      <td>3.77</td>\n",
       "      <td>8.45</td>\n",
       "      <td>76</td>\n",
       "      <td>8.0</td>\n",
       "      <td>E</td>\n",
       "      <td>82.54</td>\n",
       "    </tr>\n",
       "    <tr>\n",
       "      <th>1</th>\n",
       "      <td>Super Mario Bros.</td>\n",
       "      <td>NES</td>\n",
       "      <td>1985</td>\n",
       "      <td>Platform</td>\n",
       "      <td>29.08</td>\n",
       "      <td>3.58</td>\n",
       "      <td>6.81</td>\n",
       "      <td>0.77</td>\n",
       "      <td>&lt;NA&gt;</td>\n",
       "      <td>NaN</td>\n",
       "      <td>NaN</td>\n",
       "      <td>40.24</td>\n",
       "    </tr>\n",
       "    <tr>\n",
       "      <th>2</th>\n",
       "      <td>Mario Kart Wii</td>\n",
       "      <td>Wii</td>\n",
       "      <td>2008</td>\n",
       "      <td>Racing</td>\n",
       "      <td>15.68</td>\n",
       "      <td>12.76</td>\n",
       "      <td>3.79</td>\n",
       "      <td>3.29</td>\n",
       "      <td>82</td>\n",
       "      <td>8.3</td>\n",
       "      <td>E</td>\n",
       "      <td>35.52</td>\n",
       "    </tr>\n",
       "    <tr>\n",
       "      <th>3</th>\n",
       "      <td>Wii Sports Resort</td>\n",
       "      <td>Wii</td>\n",
       "      <td>2009</td>\n",
       "      <td>Sports</td>\n",
       "      <td>15.61</td>\n",
       "      <td>10.93</td>\n",
       "      <td>3.28</td>\n",
       "      <td>2.95</td>\n",
       "      <td>80</td>\n",
       "      <td>8.0</td>\n",
       "      <td>E</td>\n",
       "      <td>32.77</td>\n",
       "    </tr>\n",
       "    <tr>\n",
       "      <th>4</th>\n",
       "      <td>Pokemon Red/Pokemon Blue</td>\n",
       "      <td>GB</td>\n",
       "      <td>1996</td>\n",
       "      <td>Role-Playing</td>\n",
       "      <td>11.27</td>\n",
       "      <td>8.89</td>\n",
       "      <td>10.22</td>\n",
       "      <td>1.00</td>\n",
       "      <td>&lt;NA&gt;</td>\n",
       "      <td>NaN</td>\n",
       "      <td>NaN</td>\n",
       "      <td>31.38</td>\n",
       "    </tr>\n",
       "  </tbody>\n",
       "</table>\n",
       "</div>"
      ],
      "text/plain": [
       "                       name platform  year_of_release         genre  na_sales  \\\n",
       "0                Wii Sports      Wii             2006        Sports     41.36   \n",
       "1         Super Mario Bros.      NES             1985      Platform     29.08   \n",
       "2            Mario Kart Wii      Wii             2008        Racing     15.68   \n",
       "3         Wii Sports Resort      Wii             2009        Sports     15.61   \n",
       "4  Pokemon Red/Pokemon Blue       GB             1996  Role-Playing     11.27   \n",
       "\n",
       "   eu_sales  jp_sales  other_sales  critic_score  user_score rating  \\\n",
       "0     28.96      3.77         8.45            76         8.0      E   \n",
       "1      3.58      6.81         0.77          <NA>         NaN    NaN   \n",
       "2     12.76      3.79         3.29            82         8.3      E   \n",
       "3     10.93      3.28         2.95            80         8.0      E   \n",
       "4      8.89     10.22         1.00          <NA>         NaN    NaN   \n",
       "\n",
       "   global_sales  \n",
       "0         82.54  \n",
       "1         40.24  \n",
       "2         35.52  \n",
       "3         32.77  \n",
       "4         31.38  "
      ]
     },
     "execution_count": 20,
     "metadata": {},
     "output_type": "execute_result"
    }
   ],
   "source": [
    "df['global_sales'] = (df['na_sales'] + df['eu_sales'] \n",
    "                                   + df['jp_sales'] + df['other_sales'])\n",
    "df.head()"
   ]
  },
  {
   "cell_type": "markdown",
   "metadata": {},
   "source": [
    "<div class=\"alert alert-success\">\n",
    "<h2> Комментарий ревьюера V1<a class=\"tocSkip\"> </h2>\n",
    "\n",
    "<b>Все отлично!👍:</b> Суммарные продажи посчитаны верно."
   ]
  },
  {
   "cell_type": "markdown",
   "metadata": {},
   "source": [
    "На этапе подготовки данных была произведена работа по:  \n",
    "- Приведению названия столбцов в стандартный для Python вид  \n",
    "- Изменению типов данных в столбцах year_of_release и critic_score  \n",
    "- Заполнению пропущенных значений(15 записей) в year_of_release из названия игр. Остальные пропущенные записи (254 шт) были исключены из выборки.  \n",
    "- Поиску дубликатов. Дубликаты в датафрейме не найдены.  \n",
    "- Добавлению столбеца global_sales с просуммированными продажами во всех регионах."
   ]
  },
  {
   "cell_type": "markdown",
   "metadata": {},
   "source": [
    "### Исследовательский анализ данных"
   ]
  },
  {
   "cell_type": "markdown",
   "metadata": {},
   "source": [
    "#### Вывод количества игр за разные годы"
   ]
  },
  {
   "cell_type": "code",
   "execution_count": 21,
   "metadata": {
    "scrolled": true
   },
   "outputs": [
    {
     "data": {
      "text/plain": [
       "2008    1427\n",
       "2009    1426\n",
       "2010    1256\n",
       "2007    1199\n",
       "2011    1136\n",
       "Name: year_of_release, dtype: Int64"
      ]
     },
     "execution_count": 21,
     "metadata": {},
     "output_type": "execute_result"
    },
    {
     "data": {
      "image/png": "[encoded data removed]",
      "text/plain": [
       "<Figure size 1440x576 with 1 Axes>"
      ]
     },
     "metadata": {
      "needs_background": "light"
     },
     "output_type": "display_data"
    }
   ],
   "source": [
    "plt.rcParams ['figure.figsize'] = [20, 8]\n",
    "df.pivot_table(index='year_of_release', values='name', aggfunc=['count']).plot(kind='bar',grid=True, legend = False)\n",
    "plt.ylabel('Количество игр')\n",
    "plt.xlabel('Год релиза')\n",
    "pd.options.mode.chained_assignment = None\n",
    "df['year_of_release'].value_counts().head()"
   ]
  },
  {
   "cell_type": "code",
   "execution_count": 22,
   "metadata": {},
   "outputs": [
    {
     "data": {
      "text/plain": [
       "<AxesSubplot:>"
      ]
     },
     "execution_count": 22,
     "metadata": {},
     "output_type": "execute_result"
    },
    {
     "data": {
      "image/png": "[encoded data removed]",
      "text/plain": [
       "<Figure size 1440x576 with 1 Axes>"
      ]
     },
     "metadata": {
      "needs_background": "light"
     },
     "output_type": "display_data"
    }
   ],
   "source": [
    "df.boxplot(column='year_of_release')"
   ]
  },
  {
   "cell_type": "markdown",
   "metadata": {},
   "source": [
    "Исходя из построенных диаграмм, можно сделать вывод что нужный нам диапазон с датой релиза 1993-2016гг.Пик выпуска игр приходится на 2008,2009гг. Резкий спад выпуска игр 2012году возможно обусловлен экономическим кризисом"
   ]
  },
  {
   "cell_type": "markdown",
   "metadata": {},
   "source": [
    "<div class=\"alert alert-success\">\n",
    "<h2> Комментарий ревьюера V1<a class=\"tocSkip\"> </h2>\n",
    "\n",
    "<b>Все отлично!👍:</b> Все так, согласен с тобой."
   ]
  },
  {
   "cell_type": "markdown",
   "metadata": {},
   "source": [
    "#### Продажи по платформам."
   ]
  },
  {
   "cell_type": "code",
   "execution_count": 23,
   "metadata": {},
   "outputs": [
    {
     "data": {
      "text/html": [
       "<div>\n",
       "<style scoped>\n",
       "    .dataframe tbody tr th:only-of-type {\n",
       "        vertical-align: middle;\n",
       "    }\n",
       "\n",
       "    .dataframe tbody tr th {\n",
       "        vertical-align: top;\n",
       "    }\n",
       "\n",
       "    .dataframe thead th {\n",
       "        text-align: right;\n",
       "    }\n",
       "</style>\n",
       "<table border=\"1\" class=\"dataframe\">\n",
       "  <thead>\n",
       "    <tr style=\"text-align: right;\">\n",
       "      <th></th>\n",
       "      <th>global_sales</th>\n",
       "    </tr>\n",
       "    <tr>\n",
       "      <th>platform</th>\n",
       "      <th></th>\n",
       "    </tr>\n",
       "  </thead>\n",
       "  <tbody>\n",
       "    <tr>\n",
       "      <th>PS2</th>\n",
       "      <td>1247.28</td>\n",
       "    </tr>\n",
       "    <tr>\n",
       "      <th>X360</th>\n",
       "      <td>961.30</td>\n",
       "    </tr>\n",
       "    <tr>\n",
       "      <th>PS3</th>\n",
       "      <td>931.33</td>\n",
       "    </tr>\n",
       "    <tr>\n",
       "      <th>Wii</th>\n",
       "      <td>891.18</td>\n",
       "    </tr>\n",
       "    <tr>\n",
       "      <th>DS</th>\n",
       "      <td>802.79</td>\n",
       "    </tr>\n",
       "    <tr>\n",
       "      <th>PS</th>\n",
       "      <td>727.58</td>\n",
       "    </tr>\n",
       "    <tr>\n",
       "      <th>PS4</th>\n",
       "      <td>314.14</td>\n",
       "    </tr>\n",
       "    <tr>\n",
       "      <th>GBA</th>\n",
       "      <td>312.88</td>\n",
       "    </tr>\n",
       "    <tr>\n",
       "      <th>PSP</th>\n",
       "      <td>289.54</td>\n",
       "    </tr>\n",
       "    <tr>\n",
       "      <th>3DS</th>\n",
       "      <td>257.81</td>\n",
       "    </tr>\n",
       "    <tr>\n",
       "      <th>PC</th>\n",
       "      <td>255.76</td>\n",
       "    </tr>\n",
       "    <tr>\n",
       "      <th>GB</th>\n",
       "      <td>254.43</td>\n",
       "    </tr>\n",
       "    <tr>\n",
       "      <th>XB</th>\n",
       "      <td>252.66</td>\n",
       "    </tr>\n",
       "    <tr>\n",
       "      <th>NES</th>\n",
       "      <td>251.05</td>\n",
       "    </tr>\n",
       "    <tr>\n",
       "      <th>N64</th>\n",
       "      <td>218.01</td>\n",
       "    </tr>\n",
       "    <tr>\n",
       "      <th>SNES</th>\n",
       "      <td>200.04</td>\n",
       "    </tr>\n",
       "    <tr>\n",
       "      <th>GC</th>\n",
       "      <td>197.03</td>\n",
       "    </tr>\n",
       "    <tr>\n",
       "      <th>XOne</th>\n",
       "      <td>159.32</td>\n",
       "    </tr>\n",
       "    <tr>\n",
       "      <th>2600</th>\n",
       "      <td>86.48</td>\n",
       "    </tr>\n",
       "    <tr>\n",
       "      <th>WiiU</th>\n",
       "      <td>82.19</td>\n",
       "    </tr>\n",
       "    <tr>\n",
       "      <th>PSV</th>\n",
       "      <td>53.81</td>\n",
       "    </tr>\n",
       "    <tr>\n",
       "      <th>SAT</th>\n",
       "      <td>33.59</td>\n",
       "    </tr>\n",
       "    <tr>\n",
       "      <th>GEN</th>\n",
       "      <td>28.35</td>\n",
       "    </tr>\n",
       "    <tr>\n",
       "      <th>DC</th>\n",
       "      <td>15.95</td>\n",
       "    </tr>\n",
       "    <tr>\n",
       "      <th>SCD</th>\n",
       "      <td>1.86</td>\n",
       "    </tr>\n",
       "    <tr>\n",
       "      <th>NG</th>\n",
       "      <td>1.44</td>\n",
       "    </tr>\n",
       "    <tr>\n",
       "      <th>WS</th>\n",
       "      <td>1.42</td>\n",
       "    </tr>\n",
       "    <tr>\n",
       "      <th>TG16</th>\n",
       "      <td>0.16</td>\n",
       "    </tr>\n",
       "    <tr>\n",
       "      <th>3DO</th>\n",
       "      <td>0.10</td>\n",
       "    </tr>\n",
       "    <tr>\n",
       "      <th>GG</th>\n",
       "      <td>0.04</td>\n",
       "    </tr>\n",
       "    <tr>\n",
       "      <th>PCFX</th>\n",
       "      <td>0.03</td>\n",
       "    </tr>\n",
       "  </tbody>\n",
       "</table>\n",
       "</div>"
      ],
      "text/plain": [
       "          global_sales\n",
       "platform              \n",
       "PS2            1247.28\n",
       "X360            961.30\n",
       "PS3             931.33\n",
       "Wii             891.18\n",
       "DS              802.79\n",
       "PS              727.58\n",
       "PS4             314.14\n",
       "GBA             312.88\n",
       "PSP             289.54\n",
       "3DS             257.81\n",
       "PC              255.76\n",
       "GB              254.43\n",
       "XB              252.66\n",
       "NES             251.05\n",
       "N64             218.01\n",
       "SNES            200.04\n",
       "GC              197.03\n",
       "XOne            159.32\n",
       "2600             86.48\n",
       "WiiU             82.19\n",
       "PSV              53.81\n",
       "SAT              33.59\n",
       "GEN              28.35\n",
       "DC               15.95\n",
       "SCD               1.86\n",
       "NG                1.44\n",
       "WS                1.42\n",
       "TG16              0.16\n",
       "3DO               0.10\n",
       "GG                0.04\n",
       "PCFX              0.03"
      ]
     },
     "execution_count": 23,
     "metadata": {},
     "output_type": "execute_result"
    }
   ],
   "source": [
    "platform_sales = pd.pivot_table(df, index=['platform'], values = 'global_sales', aggfunc='sum')\n",
    "platform_sales = platform_sales.sort_values('global_sales',ascending=False)\n",
    "platform_sales"
   ]
  },
  {
   "cell_type": "code",
   "execution_count": 24,
   "metadata": {},
   "outputs": [
    {
     "data": {
      "text/plain": [
       "['PS2', 'X360', 'PS3', 'Wii', 'DS']"
      ]
     },
     "metadata": {},
     "output_type": "display_data"
    },
    {
     "name": "stdout",
     "output_type": "stream",
     "text": [
      "<class 'pandas.core.frame.DataFrame'>\n",
      "Int64Index: 8081 entries, 0 to 16711\n",
      "Data columns (total 12 columns):\n",
      " #   Column           Non-Null Count  Dtype  \n",
      "---  ------           --------------  -----  \n",
      " 0   name             8081 non-null   object \n",
      " 1   platform         8081 non-null   object \n",
      " 2   year_of_release  8081 non-null   Int64  \n",
      " 3   genre            8081 non-null   object \n",
      " 4   na_sales         8081 non-null   float64\n",
      " 5   eu_sales         8081 non-null   float64\n",
      " 6   jp_sales         8081 non-null   float64\n",
      " 7   other_sales      8081 non-null   float64\n",
      " 8   critic_score     4254 non-null   Int64  \n",
      " 9   user_score       4090 non-null   float32\n",
      " 10  rating           5657 non-null   object \n",
      " 11  global_sales     8081 non-null   float64\n",
      "dtypes: Int64(2), float32(1), float64(5), object(4)\n",
      "memory usage: 804.9+ KB\n"
     ]
    }
   ],
   "source": [
    "#Рассмотрим первые 5 платформ\n",
    "top_platform = list(platform_sales.index[:5])\n",
    "display(top_platform)\n",
    "df_top_platform = df[df['platform'].isin(top_platform)]\n",
    "df_top_platform.info()"
   ]
  },
  {
   "cell_type": "code",
   "execution_count": 25,
   "metadata": {},
   "outputs": [
    {
     "data": {
      "text/plain": [
       "<AxesSubplot:xlabel='year_of_release'>"
      ]
     },
     "execution_count": 25,
     "metadata": {},
     "output_type": "execute_result"
    },
    {
     "data": {
      "image/png": "[encoded data removed]",
      "text/plain": [
       "<Figure size 1080x504 with 1 Axes>"
      ]
     },
     "metadata": {
      "needs_background": "light"
     },
     "output_type": "display_data"
    }
   ],
   "source": [
    "df_top_platform.pivot_table(index='year_of_release', columns = 'platform', values = 'global_sales', aggfunc='sum').plot(grid=True, figsize= (15, 7))\n"
   ]
  },
  {
   "cell_type": "markdown",
   "metadata": {},
   "source": [
    "На графике видно что характерный срок 'жизни' платформы составляет 8-12 лет. Если рассматривать поколения платформы Playstation? то выход следующего поколения происходит спустя 6 лет после выхода предыдущего. "
   ]
  },
  {
   "cell_type": "markdown",
   "metadata": {},
   "source": [
    "<div class=\"alert alert-success\">\n",
    "<h2> Комментарий ревьюера V1<a class=\"tocSkip\"> </h2>\n",
    "\n",
    "<b>Все отлично!👍:</b> Все правильно, средний срок жизни около 10 лет."
   ]
  },
  {
   "cell_type": "markdown",
   "metadata": {},
   "source": [
    "#### Данные за актуальный период"
   ]
  },
  {
   "cell_type": "markdown",
   "metadata": {},
   "source": [
    "Актуальное время для прогноза составляет 2-3 года, возьмем период с 2014 по 2016 год."
   ]
  },
  {
   "cell_type": "code",
   "execution_count": 26,
   "metadata": {},
   "outputs": [],
   "source": [
    "df_actual = df.query('year_of_release > 2013')"
   ]
  },
  {
   "cell_type": "markdown",
   "metadata": {},
   "source": [
    "<div class=\"alert alert-success\">\n",
    "<h2> Комментарий ревьюера V1<a class=\"tocSkip\"> </h2>\n",
    "\n",
    "<b>Все отлично!👍:</b> Актуальный период подобран верно."
   ]
  },
  {
   "cell_type": "markdown",
   "metadata": {},
   "source": [
    "Прибыль платформ за актуальный период"
   ]
  },
  {
   "cell_type": "code",
   "execution_count": 27,
   "metadata": {},
   "outputs": [
    {
     "data": {
      "text/html": [
       "<div>\n",
       "<style scoped>\n",
       "    .dataframe tbody tr th:only-of-type {\n",
       "        vertical-align: middle;\n",
       "    }\n",
       "\n",
       "    .dataframe tbody tr th {\n",
       "        vertical-align: top;\n",
       "    }\n",
       "\n",
       "    .dataframe thead th {\n",
       "        text-align: right;\n",
       "    }\n",
       "</style>\n",
       "<table border=\"1\" class=\"dataframe\">\n",
       "  <thead>\n",
       "    <tr style=\"text-align: right;\">\n",
       "      <th></th>\n",
       "      <th></th>\n",
       "      <th>global_sales</th>\n",
       "    </tr>\n",
       "    <tr>\n",
       "      <th>platform</th>\n",
       "      <th>year_of_release</th>\n",
       "      <th></th>\n",
       "    </tr>\n",
       "  </thead>\n",
       "  <tbody>\n",
       "    <tr>\n",
       "      <th rowspan=\"3\" valign=\"top\">3DS</th>\n",
       "      <th>2014</th>\n",
       "      <td>43.76</td>\n",
       "    </tr>\n",
       "    <tr>\n",
       "      <th>2015</th>\n",
       "      <td>27.78</td>\n",
       "    </tr>\n",
       "    <tr>\n",
       "      <th>2016</th>\n",
       "      <td>15.14</td>\n",
       "    </tr>\n",
       "    <tr>\n",
       "      <th rowspan=\"3\" valign=\"top\">PC</th>\n",
       "      <th>2014</th>\n",
       "      <td>13.28</td>\n",
       "    </tr>\n",
       "    <tr>\n",
       "      <th>2015</th>\n",
       "      <td>8.52</td>\n",
       "    </tr>\n",
       "    <tr>\n",
       "      <th>2016</th>\n",
       "      <td>5.25</td>\n",
       "    </tr>\n",
       "    <tr>\n",
       "      <th rowspan=\"3\" valign=\"top\">PS3</th>\n",
       "      <th>2014</th>\n",
       "      <td>47.76</td>\n",
       "    </tr>\n",
       "    <tr>\n",
       "      <th>2015</th>\n",
       "      <td>16.82</td>\n",
       "    </tr>\n",
       "    <tr>\n",
       "      <th>2016</th>\n",
       "      <td>3.60</td>\n",
       "    </tr>\n",
       "    <tr>\n",
       "      <th rowspan=\"3\" valign=\"top\">PS4</th>\n",
       "      <th>2014</th>\n",
       "      <td>100.00</td>\n",
       "    </tr>\n",
       "    <tr>\n",
       "      <th>2015</th>\n",
       "      <td>118.90</td>\n",
       "    </tr>\n",
       "    <tr>\n",
       "      <th>2016</th>\n",
       "      <td>69.25</td>\n",
       "    </tr>\n",
       "    <tr>\n",
       "      <th rowspan=\"2\" valign=\"top\">PSP</th>\n",
       "      <th>2014</th>\n",
       "      <td>0.24</td>\n",
       "    </tr>\n",
       "    <tr>\n",
       "      <th>2015</th>\n",
       "      <td>0.12</td>\n",
       "    </tr>\n",
       "    <tr>\n",
       "      <th rowspan=\"3\" valign=\"top\">PSV</th>\n",
       "      <th>2014</th>\n",
       "      <td>11.90</td>\n",
       "    </tr>\n",
       "    <tr>\n",
       "      <th>2015</th>\n",
       "      <td>6.25</td>\n",
       "    </tr>\n",
       "    <tr>\n",
       "      <th>2016</th>\n",
       "      <td>4.25</td>\n",
       "    </tr>\n",
       "    <tr>\n",
       "      <th rowspan=\"3\" valign=\"top\">Wii</th>\n",
       "      <th>2014</th>\n",
       "      <td>3.75</td>\n",
       "    </tr>\n",
       "    <tr>\n",
       "      <th>2015</th>\n",
       "      <td>1.14</td>\n",
       "    </tr>\n",
       "    <tr>\n",
       "      <th>2016</th>\n",
       "      <td>0.18</td>\n",
       "    </tr>\n",
       "    <tr>\n",
       "      <th rowspan=\"3\" valign=\"top\">WiiU</th>\n",
       "      <th>2014</th>\n",
       "      <td>22.03</td>\n",
       "    </tr>\n",
       "    <tr>\n",
       "      <th>2015</th>\n",
       "      <td>16.35</td>\n",
       "    </tr>\n",
       "    <tr>\n",
       "      <th>2016</th>\n",
       "      <td>4.60</td>\n",
       "    </tr>\n",
       "    <tr>\n",
       "      <th rowspan=\"3\" valign=\"top\">X360</th>\n",
       "      <th>2014</th>\n",
       "      <td>34.74</td>\n",
       "    </tr>\n",
       "    <tr>\n",
       "      <th>2015</th>\n",
       "      <td>11.96</td>\n",
       "    </tr>\n",
       "    <tr>\n",
       "      <th>2016</th>\n",
       "      <td>1.52</td>\n",
       "    </tr>\n",
       "    <tr>\n",
       "      <th rowspan=\"3\" valign=\"top\">XOne</th>\n",
       "      <th>2014</th>\n",
       "      <td>54.07</td>\n",
       "    </tr>\n",
       "    <tr>\n",
       "      <th>2015</th>\n",
       "      <td>60.14</td>\n",
       "    </tr>\n",
       "    <tr>\n",
       "      <th>2016</th>\n",
       "      <td>26.15</td>\n",
       "    </tr>\n",
       "  </tbody>\n",
       "</table>\n",
       "</div>"
      ],
      "text/plain": [
       "                          global_sales\n",
       "platform year_of_release              \n",
       "3DS      2014                    43.76\n",
       "         2015                    27.78\n",
       "         2016                    15.14\n",
       "PC       2014                    13.28\n",
       "         2015                     8.52\n",
       "         2016                     5.25\n",
       "PS3      2014                    47.76\n",
       "         2015                    16.82\n",
       "         2016                     3.60\n",
       "PS4      2014                   100.00\n",
       "         2015                   118.90\n",
       "         2016                    69.25\n",
       "PSP      2014                     0.24\n",
       "         2015                     0.12\n",
       "PSV      2014                    11.90\n",
       "         2015                     6.25\n",
       "         2016                     4.25\n",
       "Wii      2014                     3.75\n",
       "         2015                     1.14\n",
       "         2016                     0.18\n",
       "WiiU     2014                    22.03\n",
       "         2015                    16.35\n",
       "         2016                     4.60\n",
       "X360     2014                    34.74\n",
       "         2015                    11.96\n",
       "         2016                     1.52\n",
       "XOne     2014                    54.07\n",
       "         2015                    60.14\n",
       "         2016                    26.15"
      ]
     },
     "execution_count": 27,
     "metadata": {},
     "output_type": "execute_result"
    }
   ],
   "source": [
    "df_actual_pivot = pd.pivot_table(df_actual, index=['platform','year_of_release'], \n",
    "                                     values='global_sales', aggfunc = 'sum')\n",
    "df_actual_pivot"
   ]
  },
  {
   "cell_type": "code",
   "execution_count": 28,
   "metadata": {},
   "outputs": [
    {
     "data": {
      "text/html": [
       "<div>\n",
       "<style scoped>\n",
       "    .dataframe tbody tr th:only-of-type {\n",
       "        vertical-align: middle;\n",
       "    }\n",
       "\n",
       "    .dataframe tbody tr th {\n",
       "        vertical-align: top;\n",
       "    }\n",
       "\n",
       "    .dataframe thead th {\n",
       "        text-align: right;\n",
       "    }\n",
       "</style>\n",
       "<table border=\"1\" class=\"dataframe\">\n",
       "  <thead>\n",
       "    <tr style=\"text-align: right;\">\n",
       "      <th></th>\n",
       "      <th>global_sales</th>\n",
       "    </tr>\n",
       "    <tr>\n",
       "      <th>platform</th>\n",
       "      <th></th>\n",
       "    </tr>\n",
       "  </thead>\n",
       "  <tbody>\n",
       "    <tr>\n",
       "      <th>PS4</th>\n",
       "      <td>288.15</td>\n",
       "    </tr>\n",
       "    <tr>\n",
       "      <th>XOne</th>\n",
       "      <td>140.36</td>\n",
       "    </tr>\n",
       "    <tr>\n",
       "      <th>3DS</th>\n",
       "      <td>86.68</td>\n",
       "    </tr>\n",
       "    <tr>\n",
       "      <th>PS3</th>\n",
       "      <td>68.18</td>\n",
       "    </tr>\n",
       "    <tr>\n",
       "      <th>X360</th>\n",
       "      <td>48.22</td>\n",
       "    </tr>\n",
       "    <tr>\n",
       "      <th>WiiU</th>\n",
       "      <td>42.98</td>\n",
       "    </tr>\n",
       "    <tr>\n",
       "      <th>PC</th>\n",
       "      <td>27.05</td>\n",
       "    </tr>\n",
       "    <tr>\n",
       "      <th>PSV</th>\n",
       "      <td>22.40</td>\n",
       "    </tr>\n",
       "    <tr>\n",
       "      <th>Wii</th>\n",
       "      <td>5.07</td>\n",
       "    </tr>\n",
       "    <tr>\n",
       "      <th>PSP</th>\n",
       "      <td>0.36</td>\n",
       "    </tr>\n",
       "  </tbody>\n",
       "</table>\n",
       "</div>"
      ],
      "text/plain": [
       "          global_sales\n",
       "platform              \n",
       "PS4             288.15\n",
       "XOne            140.36\n",
       "3DS              86.68\n",
       "PS3              68.18\n",
       "X360             48.22\n",
       "WiiU             42.98\n",
       "PC               27.05\n",
       "PSV              22.40\n",
       "Wii               5.07\n",
       "PSP               0.36"
      ]
     },
     "execution_count": 28,
     "metadata": {},
     "output_type": "execute_result"
    }
   ],
   "source": [
    "bestsaller_platform = pd.pivot_table(df_actual_pivot, index='platform', \n",
    "                                     values='global_sales', aggfunc = 'sum')\n",
    "bestsaller_platform.sort_values('global_sales', ascending=False)"
   ]
  },
  {
   "cell_type": "markdown",
   "metadata": {},
   "source": [
    "В топ-5 прибыльных платформ входят: PS4, XOne, 3DS, PS3, X360  \n",
    "Продажи PS4, XOne растут, а PS3,X360,3DS падают так как это устаревающие модели.   "
   ]
  },
  {
   "cell_type": "markdown",
   "metadata": {},
   "source": [
    "<div class=\"alert alert-success\">\n",
    "<h2> Комментарий ревьюера V1<a class=\"tocSkip\"> </h2>\n",
    "\n",
    "<b>Все отлично!👍:</b> Все так, прежде всего стоит обратить внимание на PS4 и XOne."
   ]
  },
  {
   "cell_type": "markdown",
   "metadata": {},
   "source": [
    "#### Построим 'ящик с усами' для всех платформ за актуальный период."
   ]
  },
  {
   "cell_type": "code",
   "execution_count": 29,
   "metadata": {},
   "outputs": [
    {
     "data": {
      "image/png": "[encoded data removed]",
      "text/plain": [
       "<Figure size 1440x576 with 1 Axes>"
      ]
     },
     "metadata": {
      "needs_background": "light"
     },
     "output_type": "display_data"
    }
   ],
   "source": [
    "plt.figure(figsize=(20,8))\n",
    "sns.boxplot(\n",
    "    data=df_actual, \n",
    "    x='platform',\n",
    "    y='global_sales'\n",
    ").set(\n",
    "    xlabel='Платформа',\n",
    "    ylabel='Количество проданных игр',\n",
    "    title='Продажи по платформам в 2014-2016гг'\n",
    ")\n",
    "pd.options.mode.chained_assignment = None"
   ]
  },
  {
   "cell_type": "markdown",
   "metadata": {},
   "source": [
    "Разница в продажах отличается. У новых версий платформ встречаются больше популярных игр выбивающихся из средних значений.\n",
    "Наиболее перспективные платформы: PS4, 3DS, XOne "
   ]
  },
  {
   "cell_type": "markdown",
   "metadata": {},
   "source": [
    "<div class=\"alert alert-block alert-danger\">\n",
    "<h2> Комментарий ревьюера V1<a class=\"tocSkip\"></h2>\n",
    "\n",
    "\n",
    "<b>На доработку🤔:</b>\n",
    "Нужно скорректировать график, по текущему нельзя в полной мере ответить как продажи распределены между платформами. Построй второй график с измененным масштабом по оси Y, например, с помощью метода ylim(). Оцени не только выбросы, но и статистики."
   ]
  },
  {
   "cell_type": "code",
   "execution_count": 30,
   "metadata": {
    "scrolled": false
   },
   "outputs": [
    {
     "data": {
      "image/png": "[encoded data removed]",
      "text/plain": [
       "<Figure size 1440x576 with 1 Axes>"
      ]
     },
     "metadata": {
      "needs_background": "light"
     },
     "output_type": "display_data"
    }
   ],
   "source": [
    "plt.figure(figsize=(20,8))\n",
    "sns.boxplot(\n",
    "    data=df_actual, \n",
    "    x='platform',\n",
    "    y='global_sales',\n",
    ").set(\n",
    "    xlabel='Платформа',\n",
    "    ylabel='Количество проданных игр',\n",
    "    title='Продажи по платформам в 2014-2016гг')\n",
    "plt.ylim([0, 1.5])\n",
    "pd.options.mode.chained_assignment = None"
   ]
  },
  {
   "cell_type": "code",
   "execution_count": 73,
   "metadata": {},
   "outputs": [
    {
     "name": "stdout",
     "output_type": "stream",
     "text": [
      "Платформа  PS4\n"
     ]
    },
    {
     "data": {
      "text/plain": [
       "count    376.000000\n",
       "mean       0.766356\n",
       "std        1.614969\n",
       "min        0.010000\n",
       "25%        0.057500\n",
       "50%        0.185000\n",
       "75%        0.690000\n",
       "max       14.630000\n",
       "Name: global_sales, dtype: float64"
      ]
     },
     "metadata": {},
     "output_type": "display_data"
    },
    {
     "name": "stdout",
     "output_type": "stream",
     "text": [
      "\n",
      "Платформа  3DS\n"
     ]
    },
    {
     "data": {
      "text/plain": [
       "count    212.000000\n",
       "mean       0.408868\n",
       "std        1.188368\n",
       "min        0.010000\n",
       "25%        0.030000\n",
       "50%        0.090000\n",
       "75%        0.250000\n",
       "max       11.680000\n",
       "Name: global_sales, dtype: float64"
      ]
     },
     "metadata": {},
     "output_type": "display_data"
    },
    {
     "name": "stdout",
     "output_type": "stream",
     "text": [
      "\n",
      "Платформа  XOne\n"
     ]
    },
    {
     "data": {
      "text/plain": [
       "count    228.000000\n",
       "mean       0.615614\n",
       "std        1.046513\n",
       "min        0.010000\n",
       "25%        0.050000\n",
       "50%        0.205000\n",
       "75%        0.632500\n",
       "max        7.390000\n",
       "Name: global_sales, dtype: float64"
      ]
     },
     "metadata": {},
     "output_type": "display_data"
    },
    {
     "name": "stdout",
     "output_type": "stream",
     "text": [
      "\n",
      "Платформа  WiiU\n"
     ]
    },
    {
     "data": {
      "text/plain": [
       "count    73.000000\n",
       "mean      0.588767\n",
       "std       1.161467\n",
       "min       0.010000\n",
       "25%       0.050000\n",
       "50%       0.190000\n",
       "75%       0.570000\n",
       "max       7.090000\n",
       "Name: global_sales, dtype: float64"
      ]
     },
     "metadata": {},
     "output_type": "display_data"
    },
    {
     "name": "stdout",
     "output_type": "stream",
     "text": [
      "\n",
      "Платформа  PS3\n"
     ]
    },
    {
     "data": {
      "text/plain": [
       "count    219.000000\n",
       "mean       0.311324\n",
       "std        0.633059\n",
       "min        0.010000\n",
       "25%        0.040000\n",
       "50%        0.110000\n",
       "75%        0.325000\n",
       "max        5.270000\n",
       "Name: global_sales, dtype: float64"
      ]
     },
     "metadata": {},
     "output_type": "display_data"
    },
    {
     "name": "stdout",
     "output_type": "stream",
     "text": [
      "\n",
      "Платформа  X360\n"
     ]
    },
    {
     "data": {
      "text/plain": [
       "count    111.000000\n",
       "mean       0.434414\n",
       "std        0.628967\n",
       "min        0.010000\n",
       "25%        0.070000\n",
       "50%        0.180000\n",
       "75%        0.505000\n",
       "max        4.280000\n",
       "Name: global_sales, dtype: float64"
      ]
     },
     "metadata": {},
     "output_type": "display_data"
    },
    {
     "name": "stdout",
     "output_type": "stream",
     "text": [
      "\n",
      "Платформа  PC\n"
     ]
    },
    {
     "data": {
      "text/plain": [
       "count    151.000000\n",
       "mean       0.179139\n",
       "std        0.329359\n",
       "min        0.010000\n",
       "25%        0.020000\n",
       "50%        0.060000\n",
       "75%        0.200000\n",
       "max        3.050000\n",
       "Name: global_sales, dtype: float64"
      ]
     },
     "metadata": {},
     "output_type": "display_data"
    },
    {
     "name": "stdout",
     "output_type": "stream",
     "text": [
      "\n",
      "Платформа  Wii\n"
     ]
    },
    {
     "data": {
      "text/plain": [
       "count    11.000000\n",
       "mean      0.460909\n",
       "std       0.625451\n",
       "min       0.010000\n",
       "25%       0.035000\n",
       "50%       0.180000\n",
       "75%       0.755000\n",
       "max       2.010000\n",
       "Name: global_sales, dtype: float64"
      ]
     },
     "metadata": {},
     "output_type": "display_data"
    },
    {
     "name": "stdout",
     "output_type": "stream",
     "text": [
      "\n",
      "Платформа  PSV\n"
     ]
    },
    {
     "data": {
      "text/plain": [
       "count    295.000000\n",
       "mean       0.075932\n",
       "std        0.141591\n",
       "min        0.010000\n",
       "25%        0.020000\n",
       "50%        0.040000\n",
       "75%        0.090000\n",
       "max        1.960000\n",
       "Name: global_sales, dtype: float64"
      ]
     },
     "metadata": {},
     "output_type": "display_data"
    },
    {
     "name": "stdout",
     "output_type": "stream",
     "text": [
      "\n",
      "Платформа  PSP\n"
     ]
    },
    {
     "data": {
      "text/plain": [
       "count    13.000000\n",
       "mean      0.027692\n",
       "std       0.027735\n",
       "min       0.010000\n",
       "25%       0.010000\n",
       "50%       0.020000\n",
       "75%       0.020000\n",
       "max       0.090000\n",
       "Name: global_sales, dtype: float64"
      ]
     },
     "metadata": {},
     "output_type": "display_data"
    },
    {
     "name": "stdout",
     "output_type": "stream",
     "text": [
      "\n"
     ]
    }
   ],
   "source": [
    "platform_list = df_actual['platform'].unique()\n",
    "for platform in platform_list:\n",
    "    print('Платформа ',platform)\n",
    "    display(df_actual[df_actual['platform'] == platform]['global_sales'].describe())\n",
    "    print()"
   ]
  },
  {
   "cell_type": "code",
   "execution_count": 64,
   "metadata": {},
   "outputs": [
    {
     "data": {
      "text/plain": [
       "count    1689.000000\n",
       "mean        0.431883\n",
       "std         1.056109\n",
       "min         0.010000\n",
       "25%         0.030000\n",
       "50%         0.100000\n",
       "75%         0.350000\n",
       "max        14.630000\n",
       "Name: global_sales, dtype: float64"
      ]
     },
     "metadata": {},
     "output_type": "display_data"
    }
   ],
   "source": [
    "display(df_actual['global_sales'].describe())"
   ]
  },
  {
   "cell_type": "markdown",
   "metadata": {},
   "source": [
    "<div class=\"alert-info\" style=\"padding: 20px; border-radius: 10px\">\n",
    "\n",
    "Период 2014-2016 год\n",
    "\n",
    "Средняя выручка на игру по миру: 432 тыс. дол. 3/4 игр заработали до 350 тыс. Рекорд 14,6 млн.  \n",
    "    Средняя выручка на игру по платформе PS4: 766 тыс. 3/4 игр заработали до 690 тыс. Рекорд 14,6 млн.  \n",
    "    Средняя выручка на игру по платформе PS3: 311 тыс. 3/4 игр заработали до 325 тыс. Рекорд 5.27 млн.  \n",
    "    Средняя выручка на игру по платформе XOne: 615 тыс. 3/4 игр заработали до 632 тыс. Рекорд 7,4 млн.  \n",
    "    Средняя выручка на игру по платформе X360: 434 тыс. 3/4 игр заработали до 505 тыс. Рекорд 4,3 млн.  \n",
    "    Средняя выручка на игру по платформе 3DS: 409 тыс. 3/4 игр заработали до 250 тыс. Рекорд 11,7 млн.  \n",
    "    Для PS4 и 3DS видна положительная тенденция к росту продаж. Средняя больше 3го квантиля, это значит на эти платформы становятся более популярными.\n",
    "    </div>"
   ]
  },
  {
   "cell_type": "markdown",
   "metadata": {},
   "source": [
    "<div class=\"alert alert-success\">\n",
    "<h2> Комментарий ревьюера V2<a class=\"tocSkip\"> </h2>\n",
    "\n",
    "<b>Все отлично!👍:</b> Все правильно доработал, продолжай в том же духе!"
   ]
  },
  {
   "cell_type": "markdown",
   "metadata": {},
   "source": [
    "#### Влияние отзывов на продажи игр популярных платформ  "
   ]
  },
  {
   "cell_type": "markdown",
   "metadata": {},
   "source": [
    "**PS4**"
   ]
  },
  {
   "cell_type": "code",
   "execution_count": 34,
   "metadata": {},
   "outputs": [
    {
     "data": {
      "text/html": [
       "<div>\n",
       "<style scoped>\n",
       "    .dataframe tbody tr th:only-of-type {\n",
       "        vertical-align: middle;\n",
       "    }\n",
       "\n",
       "    .dataframe tbody tr th {\n",
       "        vertical-align: top;\n",
       "    }\n",
       "\n",
       "    .dataframe thead th {\n",
       "        text-align: right;\n",
       "    }\n",
       "</style>\n",
       "<table border=\"1\" class=\"dataframe\">\n",
       "  <thead>\n",
       "    <tr style=\"text-align: right;\">\n",
       "      <th></th>\n",
       "      <th>global_sales</th>\n",
       "      <th>critic_score</th>\n",
       "      <th>user_score</th>\n",
       "    </tr>\n",
       "  </thead>\n",
       "  <tbody>\n",
       "    <tr>\n",
       "      <th>global_sales</th>\n",
       "      <td>1.000000</td>\n",
       "      <td>0.402661</td>\n",
       "      <td>-0.040132</td>\n",
       "    </tr>\n",
       "    <tr>\n",
       "      <th>critic_score</th>\n",
       "      <td>0.402661</td>\n",
       "      <td>1.000000</td>\n",
       "      <td>0.546434</td>\n",
       "    </tr>\n",
       "    <tr>\n",
       "      <th>user_score</th>\n",
       "      <td>-0.040132</td>\n",
       "      <td>0.546434</td>\n",
       "      <td>1.000000</td>\n",
       "    </tr>\n",
       "  </tbody>\n",
       "</table>\n",
       "</div>"
      ],
      "text/plain": [
       "              global_sales  critic_score  user_score\n",
       "global_sales      1.000000      0.402661   -0.040132\n",
       "critic_score      0.402661      1.000000    0.546434\n",
       "user_score       -0.040132      0.546434    1.000000"
      ]
     },
     "metadata": {},
     "output_type": "display_data"
    },
    {
     "data": {
      "image/png": "[encoded data removed]",
      "text/plain": [
       "<Figure size 1080x1080 with 9 Axes>"
      ]
     },
     "metadata": {
      "needs_background": "light"
     },
     "output_type": "display_data"
    }
   ],
   "source": [
    "PS4_sales_score = df_actual.query('platform ==\"PS4\"').loc[:,['global_sales', 'critic_score', 'user_score']]\n",
    "display(PS4_sales_score.corr())\n",
    "pd.plotting.scatter_matrix(PS4_sales_score, figsize=(15, 15))\n",
    "pd.options.mode.chained_assignment = None"
   ]
  },
  {
   "cell_type": "markdown",
   "metadata": {},
   "source": [
    "**3DS**"
   ]
  },
  {
   "cell_type": "code",
   "execution_count": 35,
   "metadata": {},
   "outputs": [
    {
     "data": {
      "text/html": [
       "<div>\n",
       "<style scoped>\n",
       "    .dataframe tbody tr th:only-of-type {\n",
       "        vertical-align: middle;\n",
       "    }\n",
       "\n",
       "    .dataframe tbody tr th {\n",
       "        vertical-align: top;\n",
       "    }\n",
       "\n",
       "    .dataframe thead th {\n",
       "        text-align: right;\n",
       "    }\n",
       "</style>\n",
       "<table border=\"1\" class=\"dataframe\">\n",
       "  <thead>\n",
       "    <tr style=\"text-align: right;\">\n",
       "      <th></th>\n",
       "      <th>global_sales</th>\n",
       "      <th>critic_score</th>\n",
       "      <th>user_score</th>\n",
       "    </tr>\n",
       "  </thead>\n",
       "  <tbody>\n",
       "    <tr>\n",
       "      <th>global_sales</th>\n",
       "      <td>1.000000</td>\n",
       "      <td>0.314117</td>\n",
       "      <td>0.215193</td>\n",
       "    </tr>\n",
       "    <tr>\n",
       "      <th>critic_score</th>\n",
       "      <td>0.314117</td>\n",
       "      <td>1.000000</td>\n",
       "      <td>0.862485</td>\n",
       "    </tr>\n",
       "    <tr>\n",
       "      <th>user_score</th>\n",
       "      <td>0.215193</td>\n",
       "      <td>0.862485</td>\n",
       "      <td>1.000000</td>\n",
       "    </tr>\n",
       "  </tbody>\n",
       "</table>\n",
       "</div>"
      ],
      "text/plain": [
       "              global_sales  critic_score  user_score\n",
       "global_sales      1.000000      0.314117    0.215193\n",
       "critic_score      0.314117      1.000000    0.862485\n",
       "user_score        0.215193      0.862485    1.000000"
      ]
     },
     "metadata": {},
     "output_type": "display_data"
    },
    {
     "data": {
      "image/png": "[encoded data removed]",
      "text/plain": [
       "<Figure size 1080x1080 with 9 Axes>"
      ]
     },
     "metadata": {
      "needs_background": "light"
     },
     "output_type": "display_data"
    }
   ],
   "source": [
    "treeds_sales_score = df_actual.query('platform ==\"3DS\"').loc[:,['global_sales', 'critic_score', 'user_score']]\n",
    "display(treeds_sales_score.corr())\n",
    "pd.plotting.scatter_matrix(treeds_sales_score, figsize=(15, 15))\n",
    "pd.options.mode.chained_assignment = None"
   ]
  },
  {
   "cell_type": "markdown",
   "metadata": {},
   "source": [
    "**XOne**"
   ]
  },
  {
   "cell_type": "code",
   "execution_count": 36,
   "metadata": {},
   "outputs": [
    {
     "data": {
      "text/html": [
       "<div>\n",
       "<style scoped>\n",
       "    .dataframe tbody tr th:only-of-type {\n",
       "        vertical-align: middle;\n",
       "    }\n",
       "\n",
       "    .dataframe tbody tr th {\n",
       "        vertical-align: top;\n",
       "    }\n",
       "\n",
       "    .dataframe thead th {\n",
       "        text-align: right;\n",
       "    }\n",
       "</style>\n",
       "<table border=\"1\" class=\"dataframe\">\n",
       "  <thead>\n",
       "    <tr style=\"text-align: right;\">\n",
       "      <th></th>\n",
       "      <th>global_sales</th>\n",
       "      <th>critic_score</th>\n",
       "      <th>user_score</th>\n",
       "    </tr>\n",
       "  </thead>\n",
       "  <tbody>\n",
       "    <tr>\n",
       "      <th>global_sales</th>\n",
       "      <td>1.000000</td>\n",
       "      <td>0.428677</td>\n",
       "      <td>-0.070384</td>\n",
       "    </tr>\n",
       "    <tr>\n",
       "      <th>critic_score</th>\n",
       "      <td>0.428677</td>\n",
       "      <td>1.000000</td>\n",
       "      <td>0.440977</td>\n",
       "    </tr>\n",
       "    <tr>\n",
       "      <th>user_score</th>\n",
       "      <td>-0.070384</td>\n",
       "      <td>0.440977</td>\n",
       "      <td>1.000000</td>\n",
       "    </tr>\n",
       "  </tbody>\n",
       "</table>\n",
       "</div>"
      ],
      "text/plain": [
       "              global_sales  critic_score  user_score\n",
       "global_sales      1.000000      0.428677   -0.070384\n",
       "critic_score      0.428677      1.000000    0.440977\n",
       "user_score       -0.070384      0.440977    1.000000"
      ]
     },
     "metadata": {},
     "output_type": "display_data"
    },
    {
     "data": {
      "image/png": "[encoded data removed]",
      "text/plain": [
       "<Figure size 1080x1080 with 9 Axes>"
      ]
     },
     "metadata": {
      "needs_background": "light"
     },
     "output_type": "display_data"
    }
   ],
   "source": [
    "XOne_sales_score = df_actual.query('platform ==\"XOne\"').loc[:,['global_sales', 'critic_score', 'user_score']]\n",
    "display(XOne_sales_score.corr())\n",
    "pd.plotting.scatter_matrix(XOne_sales_score, figsize=(15, 15))\n",
    "pd.options.mode.chained_assignment = None"
   ]
  },
  {
   "cell_type": "markdown",
   "metadata": {},
   "source": [
    "PS4 и XOne имеют схожие зависимости в отличае от 3DS, на этой платформе прямая зависимость продаж от отзыва пользователей."
   ]
  },
  {
   "cell_type": "markdown",
   "metadata": {},
   "source": [
    "<div class=\"alert alert-block alert-danger\">\n",
    "<h2> Комментарий ревьюера V1<a class=\"tocSkip\"></h2>\n",
    "\n",
    "\n",
    "<b>На доработку🤔:</b>\n",
    "Нужно описать детально какая зависимость между оценками и продажами. По текущему выводу не понятно какая зависимость от оценок критиков. А от пользовательских оценок?"
   ]
  },
  {
   "cell_type": "markdown",
   "metadata": {},
   "source": [
    "<div class=\"alert-info\" style=\"padding: 20px; border-radius: 10px\">\n",
    "\n",
    "Для платформ PS4, XOne важными критерием является качество игры. Поэтому есть прямая корреляция между прибылью и рейтингом критиков. Обратная корреляция по игрокам не носит сильного смысла.\n",
    "\n",
    "На мнение игроков влияет рейтинг критика. То есть, чем выше ценит игру критик, тем выше оценит ее игрок.\n",
    "    </div>"
   ]
  },
  {
   "cell_type": "markdown",
   "metadata": {},
   "source": [
    "<div class=\"alert alert-success\">\n",
    "<h2> Комментарий ревьюера V2<a class=\"tocSkip\"> </h2>\n",
    "\n",
    "<b>Все отлично!👍:</b> Все верно, продажи в некоторой степени влияют на продажи, а вот оценки пользователей наоборот не оказывают никакого влияния в большинстве случаев."
   ]
  },
  {
   "cell_type": "markdown",
   "metadata": {},
   "source": [
    "#### Общее распределение игр по жанрам"
   ]
  },
  {
   "cell_type": "code",
   "execution_count": 37,
   "metadata": {},
   "outputs": [
    {
     "data": {
      "text/html": [
       "<div>\n",
       "<style scoped>\n",
       "    .dataframe tbody tr th:only-of-type {\n",
       "        vertical-align: middle;\n",
       "    }\n",
       "\n",
       "    .dataframe tbody tr th {\n",
       "        vertical-align: top;\n",
       "    }\n",
       "\n",
       "    .dataframe thead th {\n",
       "        text-align: right;\n",
       "    }\n",
       "</style>\n",
       "<table border=\"1\" class=\"dataframe\">\n",
       "  <thead>\n",
       "    <tr style=\"text-align: right;\">\n",
       "      <th></th>\n",
       "      <th>global_sales</th>\n",
       "    </tr>\n",
       "    <tr>\n",
       "      <th>genre</th>\n",
       "      <th></th>\n",
       "    </tr>\n",
       "  </thead>\n",
       "  <tbody>\n",
       "    <tr>\n",
       "      <th>Action</th>\n",
       "      <td>199.36</td>\n",
       "    </tr>\n",
       "    <tr>\n",
       "      <th>Shooter</th>\n",
       "      <td>170.94</td>\n",
       "    </tr>\n",
       "    <tr>\n",
       "      <th>Sports</th>\n",
       "      <td>109.48</td>\n",
       "    </tr>\n",
       "    <tr>\n",
       "      <th>Role-Playing</th>\n",
       "      <td>101.44</td>\n",
       "    </tr>\n",
       "    <tr>\n",
       "      <th>Misc</th>\n",
       "      <td>37.55</td>\n",
       "    </tr>\n",
       "    <tr>\n",
       "      <th>Fighting</th>\n",
       "      <td>28.22</td>\n",
       "    </tr>\n",
       "    <tr>\n",
       "      <th>Racing</th>\n",
       "      <td>27.52</td>\n",
       "    </tr>\n",
       "    <tr>\n",
       "      <th>Platform</th>\n",
       "      <td>18.09</td>\n",
       "    </tr>\n",
       "    <tr>\n",
       "      <th>Adventure</th>\n",
       "      <td>17.55</td>\n",
       "    </tr>\n",
       "    <tr>\n",
       "      <th>Simulation</th>\n",
       "      <td>13.13</td>\n",
       "    </tr>\n",
       "    <tr>\n",
       "      <th>Strategy</th>\n",
       "      <td>3.96</td>\n",
       "    </tr>\n",
       "    <tr>\n",
       "      <th>Puzzle</th>\n",
       "      <td>2.21</td>\n",
       "    </tr>\n",
       "  </tbody>\n",
       "</table>\n",
       "</div>"
      ],
      "text/plain": [
       "              global_sales\n",
       "genre                     \n",
       "Action              199.36\n",
       "Shooter             170.94\n",
       "Sports              109.48\n",
       "Role-Playing        101.44\n",
       "Misc                 37.55\n",
       "Fighting             28.22\n",
       "Racing               27.52\n",
       "Platform             18.09\n",
       "Adventure            17.55\n",
       "Simulation           13.13\n",
       "Strategy              3.96\n",
       "Puzzle                2.21"
      ]
     },
     "execution_count": 37,
     "metadata": {},
     "output_type": "execute_result"
    }
   ],
   "source": [
    "genre_pivot = pd.pivot_table(df_actual, index='genre', values='global_sales', aggfunc='sum')\n",
    "genre_pivot.sort_values('global_sales', ascending=False)"
   ]
  },
  {
   "cell_type": "markdown",
   "metadata": {},
   "source": [
    "Самыми прибыльными можно считать игры с жанрами Action,Shooter,Sports,Role-Playing, а самыми не популярными Strategy,Puzzle"
   ]
  },
  {
   "cell_type": "markdown",
   "metadata": {},
   "source": [
    "<div class=\"alert alert-block alert-danger\">\n",
    "<h2> Комментарий ревьюера V1<a class=\"tocSkip\"></h2>\n",
    "\n",
    "\n",
    "<b>На доработку🤔:</b>\n",
    "В данном пункте нужно также рассмотреть средние оценки или медианные. На суммарные продажи большое влияние могут оказывать продажи игр бестселлеров, из-за них общие продажи могут быть максимальными, а продажи на одну игру наоборот значительно ниже."
   ]
  },
  {
   "cell_type": "markdown",
   "metadata": {},
   "source": [
    "<div class=\"alert alert-block alert-danger\">\n",
    "<h2> Комментарий ревьюера V1<a class=\"tocSkip\"></h2>\n",
    "\n",
    "\n",
    "<b>На доработку🤔:</b>\n",
    "Всегда строй графики, когда это возможно, они легче поддаются анализу."
   ]
  },
  {
   "cell_type": "code",
   "execution_count": 78,
   "metadata": {},
   "outputs": [
    {
     "data": {
      "image/png": "[encoded data removed]",
      "text/plain": [
       "<Figure size 1440x576 with 1 Axes>"
      ]
     },
     "metadata": {
      "needs_background": "light"
     },
     "output_type": "display_data"
    }
   ],
   "source": [
    "plt.figure(figsize=(20,8))\n",
    "sns.boxplot(\n",
    "    data=df_actual, \n",
    "    x='genre',\n",
    "    y='global_sales',\n",
    ").set(\n",
    "    xlabel='Жанр',\n",
    "    ylabel='Количество проданных игр',\n",
    "    title='Продажи по жанрам в 2014-2016гг')\n",
    "plt.ylim([0, 4])\n",
    "pd.options.mode.chained_assignment = None"
   ]
  },
  {
   "cell_type": "code",
   "execution_count": 72,
   "metadata": {},
   "outputs": [
    {
     "name": "stdout",
     "output_type": "stream",
     "text": [
      "Жанр  Shooter\n"
     ]
    },
    {
     "data": {
      "text/plain": [
       "count    128.000000\n",
       "mean       1.335469\n",
       "std        2.050567\n",
       "min        0.010000\n",
       "25%        0.172500\n",
       "50%        0.515000\n",
       "75%        1.617500\n",
       "max       14.630000\n",
       "Name: global_sales, dtype: float64"
      ]
     },
     "metadata": {},
     "output_type": "display_data"
    },
    {
     "name": "stdout",
     "output_type": "stream",
     "text": [
      "\n",
      "Жанр  Action\n"
     ]
    },
    {
     "data": {
      "text/plain": [
       "count    619.000000\n",
       "mean       0.322068\n",
       "std        0.798181\n",
       "min        0.010000\n",
       "25%        0.030000\n",
       "50%        0.090000\n",
       "75%        0.280000\n",
       "max       12.620000\n",
       "Name: global_sales, dtype: float64"
      ]
     },
     "metadata": {},
     "output_type": "display_data"
    },
    {
     "name": "stdout",
     "output_type": "stream",
     "text": [
      "\n",
      "Жанр  Role-Playing\n"
     ]
    },
    {
     "data": {
      "text/plain": [
       "count    221.000000\n",
       "mean       0.459005\n",
       "std        1.177284\n",
       "min        0.010000\n",
       "25%        0.050000\n",
       "50%        0.110000\n",
       "75%        0.360000\n",
       "max       11.680000\n",
       "Name: global_sales, dtype: float64"
      ]
     },
     "metadata": {},
     "output_type": "display_data"
    },
    {
     "name": "stdout",
     "output_type": "stream",
     "text": [
      "\n",
      "Жанр  Sports\n"
     ]
    },
    {
     "data": {
      "text/plain": [
       "count    161.000000\n",
       "mean       0.680000\n",
       "std        1.239736\n",
       "min        0.010000\n",
       "25%        0.060000\n",
       "50%        0.180000\n",
       "75%        0.640000\n",
       "max        8.580000\n",
       "Name: global_sales, dtype: float64"
      ]
     },
     "metadata": {},
     "output_type": "display_data"
    },
    {
     "name": "stdout",
     "output_type": "stream",
     "text": [
      "\n",
      "Жанр  Fighting\n"
     ]
    },
    {
     "data": {
      "text/plain": [
       "count    60.000000\n",
       "mean      0.470333\n",
       "std       1.188053\n",
       "min       0.010000\n",
       "25%       0.060000\n",
       "50%       0.125000\n",
       "75%       0.320000\n",
       "max       7.550000\n",
       "Name: global_sales, dtype: float64"
      ]
     },
     "metadata": {},
     "output_type": "display_data"
    },
    {
     "name": "stdout",
     "output_type": "stream",
     "text": [
      "\n",
      "Жанр  Racing\n"
     ]
    },
    {
     "data": {
      "text/plain": [
       "count    69.000000\n",
       "mean      0.398841\n",
       "std       0.963716\n",
       "min       0.010000\n",
       "25%       0.030000\n",
       "50%       0.090000\n",
       "75%       0.250000\n",
       "max       7.090000\n",
       "Name: global_sales, dtype: float64"
      ]
     },
     "metadata": {},
     "output_type": "display_data"
    },
    {
     "name": "stdout",
     "output_type": "stream",
     "text": [
      "\n",
      "Жанр  Misc\n"
     ]
    },
    {
     "data": {
      "text/plain": [
       "count    113.000000\n",
       "mean       0.332301\n",
       "std        0.736999\n",
       "min        0.010000\n",
       "25%        0.030000\n",
       "50%        0.090000\n",
       "75%        0.320000\n",
       "max        5.270000\n",
       "Name: global_sales, dtype: float64"
      ]
     },
     "metadata": {},
     "output_type": "display_data"
    },
    {
     "name": "stdout",
     "output_type": "stream",
     "text": [
      "\n",
      "Жанр  Platform\n"
     ]
    },
    {
     "data": {
      "text/plain": [
       "count    38.000000\n",
       "mean      0.476053\n",
       "std       0.722561\n",
       "min       0.010000\n",
       "25%       0.062500\n",
       "50%       0.140000\n",
       "75%       0.467500\n",
       "max       3.210000\n",
       "Name: global_sales, dtype: float64"
      ]
     },
     "metadata": {},
     "output_type": "display_data"
    },
    {
     "name": "stdout",
     "output_type": "stream",
     "text": [
      "\n",
      "Жанр  Simulation\n"
     ]
    },
    {
     "data": {
      "text/plain": [
       "count    44.000000\n",
       "mean      0.298409\n",
       "std       0.646925\n",
       "min       0.010000\n",
       "25%       0.020000\n",
       "50%       0.100000\n",
       "75%       0.327500\n",
       "max       3.050000\n",
       "Name: global_sales, dtype: float64"
      ]
     },
     "metadata": {},
     "output_type": "display_data"
    },
    {
     "name": "stdout",
     "output_type": "stream",
     "text": [
      "\n",
      "Жанр  Adventure\n"
     ]
    },
    {
     "data": {
      "text/plain": [
       "count    185.000000\n",
       "mean       0.094865\n",
       "std        0.203147\n",
       "min        0.010000\n",
       "25%        0.020000\n",
       "50%        0.030000\n",
       "75%        0.080000\n",
       "max        1.660000\n",
       "Name: global_sales, dtype: float64"
      ]
     },
     "metadata": {},
     "output_type": "display_data"
    },
    {
     "name": "stdout",
     "output_type": "stream",
     "text": [
      "\n",
      "Жанр  Puzzle\n"
     ]
    },
    {
     "data": {
      "text/plain": [
       "count    14.000000\n",
       "mean      0.157857\n",
       "std       0.320629\n",
       "min       0.010000\n",
       "25%       0.020000\n",
       "50%       0.045000\n",
       "75%       0.100000\n",
       "max       1.190000\n",
       "Name: global_sales, dtype: float64"
      ]
     },
     "metadata": {},
     "output_type": "display_data"
    },
    {
     "name": "stdout",
     "output_type": "stream",
     "text": [
      "\n",
      "Жанр  Strategy\n"
     ]
    },
    {
     "data": {
      "text/plain": [
       "count    37.000000\n",
       "mean      0.107027\n",
       "std       0.118412\n",
       "min       0.010000\n",
       "25%       0.030000\n",
       "50%       0.060000\n",
       "75%       0.140000\n",
       "max       0.520000\n",
       "Name: global_sales, dtype: float64"
      ]
     },
     "metadata": {},
     "output_type": "display_data"
    },
    {
     "name": "stdout",
     "output_type": "stream",
     "text": [
      "\n"
     ]
    }
   ],
   "source": [
    "genre_list = df_actual['genre'].unique()\n",
    "for genre in genre_list:\n",
    "    print('Жанр ',genre)\n",
    "    display(df_actual[df_actual['genre'] == genre]['global_sales'].describe())\n",
    "    print()\n"
   ]
  },
  {
   "cell_type": "markdown",
   "metadata": {},
   "source": [
    "<div class=\"alert-info\" style=\"padding: 20px; border-radius: 10px\">\n",
    "\n",
    "Период 2014-2016 год\n",
    "\n",
    "Средняя выручка на игру по миру: 432 тыс. дол. 3/4 игр заработали до 350 тыс. Рекорд 14,6 млн.  \n",
    "    Средняя выручка на игру по жанру Shooter: 1335 тыс. 3/4 игр заработали до 1617 тыс. Рекорд 14,6 млн.  \n",
    "    Средняя выручка на игру по жанру Action: 322 тыс. 3/4 игр заработали до 280 тыс. Рекорд 12.62 млн.  \n",
    "    Средняя выручка на игру по жанру Role-Playing: 459 тыс. 3/4 игр заработали до 360 тыс. Рекорд 11,68 млн.  \n",
    "    Средняя выручка на игру по жанру Sports: 680 тыс. 3/4 игр заработали до 640 тыс. Рекорд 8,58 млн.  \n",
    "    Средняя выручка на игру по жанру Fighting: 470 тыс. 3/4 игр заработали до 320 тыс. Рекорд 7,55 млн.  \n",
    "    Средняя выручка на игру по жанру Racing: 398 тыс. 3/4 игр заработали до 250 тыс. Рекорд 7,09 млн.    \n",
    "    Средняя выручка на игру по жанру Misc: 332 тыс. 3/4 игр заработали до 320 тыс. Рекорд 5,27 млн.  \n",
    "    Средняя выручка на игру по жанру Platform: 476 тыс. 3/4 игр заработали до 467 тыс. Рекорд 3,21 млн.  \n",
    "    Средняя выручка на игру по жанру Simulation: 298 тыс. 3/4 игр заработали до 327 тыс. Рекорд 3,05 млн.     \n",
    "    Средняя выручка на игру по жанру Adventure: 204 тыс. 3/4 игр заработали до 80 тыс. Рекорд 1,66 млн.  \n",
    "    Средняя выручка на игру по жанру Puzzle: 158 тыс. 3/4 игр заработали до 100 тыс. Рекорд 1,19 млн.  \n",
    "    Средняя выручка на игру по жанру Strategy: 107 тыс. 3/4 игр заработали до 140 тыс. Рекорд 0,52 млн.  \n",
    "    \n",
    "Для Action,Role-Playing,Sports,Racing,Misc,Platform,Adventure,Puzzle  видна положительная тенденция к росту продаж. Средняя больше 3го квантиля, это значит на эти жанры становятся более популярными.\n",
    "    </div>"
   ]
  },
  {
   "cell_type": "markdown",
   "metadata": {},
   "source": [
    "<div class=\"alert alert-success\">\n",
    "<h2> Комментарий ревьюера V2<a class=\"tocSkip\"> </h2>\n",
    "\n",
    "<b>Все отлично!👍:</b> Абсолютно верный вывод!"
   ]
  },
  {
   "cell_type": "markdown",
   "metadata": {},
   "source": [
    "**Промежуточный вывод**"
   ]
  },
  {
   "cell_type": "markdown",
   "metadata": {},
   "source": [
    "В 2017 год можно ожидать подъем продаж по PS4, 3DS в жанрах Action,Role-Playing,Sports,Racing,Misc,Platform,Adventure,Puzzle"
   ]
  },
  {
   "cell_type": "markdown",
   "metadata": {},
   "source": [
    "### Портрет пользователя каждого региона"
   ]
  },
  {
   "cell_type": "markdown",
   "metadata": {},
   "source": [
    "Создадим выборки по регионам"
   ]
  },
  {
   "cell_type": "markdown",
   "metadata": {},
   "source": [
    "**Пользователи Северной Америки**"
   ]
  },
  {
   "cell_type": "code",
   "execution_count": 38,
   "metadata": {},
   "outputs": [
    {
     "name": "stdout",
     "output_type": "stream",
     "text": [
      "<class 'pandas.core.frame.DataFrame'>\n",
      "Int64Index: 981 entries, 31 to 16672\n",
      "Data columns (total 12 columns):\n",
      " #   Column           Non-Null Count  Dtype  \n",
      "---  ------           --------------  -----  \n",
      " 0   name             981 non-null    object \n",
      " 1   platform         981 non-null    object \n",
      " 2   year_of_release  981 non-null    Int64  \n",
      " 3   genre            981 non-null    object \n",
      " 4   na_sales         981 non-null    float64\n",
      " 5   eu_sales         981 non-null    float64\n",
      " 6   jp_sales         981 non-null    float64\n",
      " 7   other_sales      981 non-null    float64\n",
      " 8   critic_score     571 non-null    Int64  \n",
      " 9   user_score       713 non-null    float32\n",
      " 10  rating           747 non-null    object \n",
      " 11  global_sales     981 non-null    float64\n",
      "dtypes: Int64(2), float32(1), float64(5), object(4)\n",
      "memory usage: 97.7+ KB\n"
     ]
    }
   ],
   "source": [
    "df_actual_na = df_actual.query('na_sales > 0')\n",
    "df_actual_na.info()"
   ]
  },
  {
   "cell_type": "markdown",
   "metadata": {},
   "source": [
    "**Пользователи Европы**"
   ]
  },
  {
   "cell_type": "code",
   "execution_count": 39,
   "metadata": {},
   "outputs": [
    {
     "name": "stdout",
     "output_type": "stream",
     "text": [
      "<class 'pandas.core.frame.DataFrame'>\n",
      "Int64Index: 1067 entries, 31 to 16692\n",
      "Data columns (total 12 columns):\n",
      " #   Column           Non-Null Count  Dtype  \n",
      "---  ------           --------------  -----  \n",
      " 0   name             1067 non-null   object \n",
      " 1   platform         1067 non-null   object \n",
      " 2   year_of_release  1067 non-null   Int64  \n",
      " 3   genre            1067 non-null   object \n",
      " 4   na_sales         1067 non-null   float64\n",
      " 5   eu_sales         1067 non-null   float64\n",
      " 6   jp_sales         1067 non-null   float64\n",
      " 7   other_sales      1067 non-null   float64\n",
      " 8   critic_score     626 non-null    Int64  \n",
      " 9   user_score       774 non-null    float32\n",
      " 10  rating           803 non-null    object \n",
      " 11  global_sales     1067 non-null   float64\n",
      "dtypes: Int64(2), float32(1), float64(5), object(4)\n",
      "memory usage: 106.3+ KB\n"
     ]
    }
   ],
   "source": [
    "df_actual_eu = df_actual.query('eu_sales > 0')\n",
    "df_actual_eu.info()"
   ]
  },
  {
   "cell_type": "markdown",
   "metadata": {},
   "source": [
    "**Пользователи Японии**"
   ]
  },
  {
   "cell_type": "code",
   "execution_count": 40,
   "metadata": {},
   "outputs": [
    {
     "name": "stdout",
     "output_type": "stream",
     "text": [
      "<class 'pandas.core.frame.DataFrame'>\n",
      "Int64Index: 873 entries, 31 to 16714\n",
      "Data columns (total 12 columns):\n",
      " #   Column           Non-Null Count  Dtype  \n",
      "---  ------           --------------  -----  \n",
      " 0   name             873 non-null    object \n",
      " 1   platform         873 non-null    object \n",
      " 2   year_of_release  873 non-null    Int64  \n",
      " 3   genre            873 non-null    object \n",
      " 4   na_sales         873 non-null    float64\n",
      " 5   eu_sales         873 non-null    float64\n",
      " 6   jp_sales         873 non-null    float64\n",
      " 7   other_sales      873 non-null    float64\n",
      " 8   critic_score     278 non-null    Int64  \n",
      " 9   user_score       327 non-null    float32\n",
      " 10  rating           339 non-null    object \n",
      " 11  global_sales     873 non-null    float64\n",
      "dtypes: Int64(2), float32(1), float64(5), object(4)\n",
      "memory usage: 87.0+ KB\n"
     ]
    }
   ],
   "source": [
    "df_actual_jp = df_actual.query('jp_sales > 0')\n",
    "df_actual_jp.info()"
   ]
  },
  {
   "cell_type": "markdown",
   "metadata": {},
   "source": [
    "Исходя из записей видно что у Европы наиболее разнообразен игровой рынок."
   ]
  },
  {
   "cell_type": "markdown",
   "metadata": {},
   "source": [
    "**Самые популярные платформы (топ-5)**"
   ]
  },
  {
   "cell_type": "code",
   "execution_count": 41,
   "metadata": {},
   "outputs": [
    {
     "data": {
      "text/html": [
       "<div>\n",
       "<style scoped>\n",
       "    .dataframe tbody tr th:only-of-type {\n",
       "        vertical-align: middle;\n",
       "    }\n",
       "\n",
       "    .dataframe tbody tr th {\n",
       "        vertical-align: top;\n",
       "    }\n",
       "\n",
       "    .dataframe thead th {\n",
       "        text-align: right;\n",
       "    }\n",
       "</style>\n",
       "<table border=\"1\" class=\"dataframe\">\n",
       "  <thead>\n",
       "    <tr style=\"text-align: right;\">\n",
       "      <th></th>\n",
       "      <th>na_sales</th>\n",
       "    </tr>\n",
       "    <tr>\n",
       "      <th>platform</th>\n",
       "      <th></th>\n",
       "    </tr>\n",
       "  </thead>\n",
       "  <tbody>\n",
       "    <tr>\n",
       "      <th>PS4</th>\n",
       "      <td>98.61</td>\n",
       "    </tr>\n",
       "    <tr>\n",
       "      <th>XOne</th>\n",
       "      <td>81.27</td>\n",
       "    </tr>\n",
       "    <tr>\n",
       "      <th>X360</th>\n",
       "      <td>28.30</td>\n",
       "    </tr>\n",
       "    <tr>\n",
       "      <th>3DS</th>\n",
       "      <td>22.64</td>\n",
       "    </tr>\n",
       "    <tr>\n",
       "      <th>PS3</th>\n",
       "      <td>22.05</td>\n",
       "    </tr>\n",
       "  </tbody>\n",
       "</table>\n",
       "</div>"
      ],
      "text/plain": [
       "          na_sales\n",
       "platform          \n",
       "PS4          98.61\n",
       "XOne         81.27\n",
       "X360         28.30\n",
       "3DS          22.64\n",
       "PS3          22.05"
      ]
     },
     "execution_count": 41,
     "metadata": {},
     "output_type": "execute_result"
    }
   ],
   "source": [
    "na_top_platform_pivot_table = pd.pivot_table(df_actual_na, index='platform', values='na_sales',\n",
    "                                        aggfunc='sum').sort_values('na_sales', ascending=False)\n",
    "na_top_platform_pivot_table.head()"
   ]
  },
  {
   "cell_type": "code",
   "execution_count": 42,
   "metadata": {},
   "outputs": [
    {
     "data": {
      "image/png": "[encoded data removed]",
      "text/plain": [
       "<Figure size 1440x576 with 1 Axes>"
      ]
     },
     "metadata": {
      "needs_background": "light"
     },
     "output_type": "display_data"
    }
   ],
   "source": [
    "na_top_platform_pivot_table.head().plot(kind='barh', y = 'na_sales', legend=False)\n",
    "plt.title('Топ-5 платформ в Северной Америке', fontsize= 15)\n",
    "plt.show()"
   ]
  },
  {
   "cell_type": "code",
   "execution_count": 43,
   "metadata": {},
   "outputs": [
    {
     "data": {
      "text/html": [
       "<div>\n",
       "<style scoped>\n",
       "    .dataframe tbody tr th:only-of-type {\n",
       "        vertical-align: middle;\n",
       "    }\n",
       "\n",
       "    .dataframe tbody tr th {\n",
       "        vertical-align: top;\n",
       "    }\n",
       "\n",
       "    .dataframe thead th {\n",
       "        text-align: right;\n",
       "    }\n",
       "</style>\n",
       "<table border=\"1\" class=\"dataframe\">\n",
       "  <thead>\n",
       "    <tr style=\"text-align: right;\">\n",
       "      <th></th>\n",
       "      <th>eu_sales</th>\n",
       "    </tr>\n",
       "    <tr>\n",
       "      <th>platform</th>\n",
       "      <th></th>\n",
       "    </tr>\n",
       "  </thead>\n",
       "  <tbody>\n",
       "    <tr>\n",
       "      <th>PS4</th>\n",
       "      <td>130.04</td>\n",
       "    </tr>\n",
       "    <tr>\n",
       "      <th>XOne</th>\n",
       "      <td>46.25</td>\n",
       "    </tr>\n",
       "    <tr>\n",
       "      <th>PS3</th>\n",
       "      <td>25.54</td>\n",
       "    </tr>\n",
       "    <tr>\n",
       "      <th>PC</th>\n",
       "      <td>17.97</td>\n",
       "    </tr>\n",
       "    <tr>\n",
       "      <th>3DS</th>\n",
       "      <td>16.12</td>\n",
       "    </tr>\n",
       "  </tbody>\n",
       "</table>\n",
       "</div>"
      ],
      "text/plain": [
       "          eu_sales\n",
       "platform          \n",
       "PS4         130.04\n",
       "XOne         46.25\n",
       "PS3          25.54\n",
       "PC           17.97\n",
       "3DS          16.12"
      ]
     },
     "execution_count": 43,
     "metadata": {},
     "output_type": "execute_result"
    }
   ],
   "source": [
    "eu_top_platform_pivot_table = pd.pivot_table(df_actual_eu, index='platform', values='eu_sales',\n",
    "                                        aggfunc='sum').sort_values('eu_sales', ascending=False)\n",
    "eu_top_platform_pivot_table.head()"
   ]
  },
  {
   "cell_type": "code",
   "execution_count": 44,
   "metadata": {},
   "outputs": [
    {
     "data": {
      "image/png": "[encoded data removed]",
      "text/plain": [
       "<Figure size 1440x576 with 1 Axes>"
      ]
     },
     "metadata": {
      "needs_background": "light"
     },
     "output_type": "display_data"
    }
   ],
   "source": [
    "eu_top_platform_pivot_table.head().plot(kind='barh', y = 'eu_sales', legend=False)\n",
    "plt.title('Топ-5 платформ в Европе', fontsize= 15)\n",
    "plt.show()"
   ]
  },
  {
   "cell_type": "code",
   "execution_count": 45,
   "metadata": {},
   "outputs": [
    {
     "data": {
      "text/html": [
       "<div>\n",
       "<style scoped>\n",
       "    .dataframe tbody tr th:only-of-type {\n",
       "        vertical-align: middle;\n",
       "    }\n",
       "\n",
       "    .dataframe tbody tr th {\n",
       "        vertical-align: top;\n",
       "    }\n",
       "\n",
       "    .dataframe thead th {\n",
       "        text-align: right;\n",
       "    }\n",
       "</style>\n",
       "<table border=\"1\" class=\"dataframe\">\n",
       "  <thead>\n",
       "    <tr style=\"text-align: right;\">\n",
       "      <th></th>\n",
       "      <th>jp_sales</th>\n",
       "    </tr>\n",
       "    <tr>\n",
       "      <th>platform</th>\n",
       "      <th></th>\n",
       "    </tr>\n",
       "  </thead>\n",
       "  <tbody>\n",
       "    <tr>\n",
       "      <th>3DS</th>\n",
       "      <td>44.24</td>\n",
       "    </tr>\n",
       "    <tr>\n",
       "      <th>PS4</th>\n",
       "      <td>15.02</td>\n",
       "    </tr>\n",
       "    <tr>\n",
       "      <th>PSV</th>\n",
       "      <td>14.54</td>\n",
       "    </tr>\n",
       "    <tr>\n",
       "      <th>PS3</th>\n",
       "      <td>11.22</td>\n",
       "    </tr>\n",
       "    <tr>\n",
       "      <th>WiiU</th>\n",
       "      <td>7.31</td>\n",
       "    </tr>\n",
       "  </tbody>\n",
       "</table>\n",
       "</div>"
      ],
      "text/plain": [
       "          jp_sales\n",
       "platform          \n",
       "3DS          44.24\n",
       "PS4          15.02\n",
       "PSV          14.54\n",
       "PS3          11.22\n",
       "WiiU          7.31"
      ]
     },
     "execution_count": 45,
     "metadata": {},
     "output_type": "execute_result"
    }
   ],
   "source": [
    "jp_top_platform_pivot_table = pd.pivot_table(df_actual_jp, index='platform', values='jp_sales',\n",
    "                                        aggfunc='sum').sort_values('jp_sales', ascending=False)\n",
    "jp_top_platform_pivot_table.head()"
   ]
  },
  {
   "cell_type": "code",
   "execution_count": 46,
   "metadata": {},
   "outputs": [
    {
     "data": {
      "image/png": "[encoded data removed]",
      "text/plain": [
       "<Figure size 1440x576 with 1 Axes>"
      ]
     },
     "metadata": {
      "needs_background": "light"
     },
     "output_type": "display_data"
    }
   ],
   "source": [
    "jp_top_platform_pivot_table.head().plot(kind='barh', y = 'jp_sales', legend=False)\n",
    "plt.title('Топ-5 платформ в Японии', fontsize= 15)\n",
    "plt.show()"
   ]
  },
  {
   "cell_type": "markdown",
   "metadata": {},
   "source": [
    "Итого топ-5 платформ по регионам:  \n",
    "    -Северная Америка: PS4,XOne,X360,3DS,PS3  \n",
    "        -Европа: PS4,XOne,PS3,PC,3DS  \n",
    "            -Япония:3DS,PS4,PSV,PS3,WiiU  \n",
    "            В Северной Америке за первенство по продажам игр соревнуются производители платформ Sony и Microsoft,В Европе лидириует Sony, в Японии же в топе локальный бренд от компании Nintendo"
   ]
  },
  {
   "cell_type": "markdown",
   "metadata": {},
   "source": [
    "**Самые популярные жанры (топ-5)**"
   ]
  },
  {
   "cell_type": "code",
   "execution_count": 83,
   "metadata": {},
   "outputs": [
    {
     "data": {
      "text/html": [
       "<div>\n",
       "<style scoped>\n",
       "    .dataframe tbody tr th:only-of-type {\n",
       "        vertical-align: middle;\n",
       "    }\n",
       "\n",
       "    .dataframe tbody tr th {\n",
       "        vertical-align: top;\n",
       "    }\n",
       "\n",
       "    .dataframe thead th {\n",
       "        text-align: right;\n",
       "    }\n",
       "</style>\n",
       "<table border=\"1\" class=\"dataframe\">\n",
       "  <thead>\n",
       "    <tr style=\"text-align: right;\">\n",
       "      <th></th>\n",
       "      <th>na_sales</th>\n",
       "    </tr>\n",
       "    <tr>\n",
       "      <th>genre</th>\n",
       "      <th></th>\n",
       "    </tr>\n",
       "  </thead>\n",
       "  <tbody>\n",
       "    <tr>\n",
       "      <th>Shooter</th>\n",
       "      <td>79.02</td>\n",
       "    </tr>\n",
       "    <tr>\n",
       "      <th>Action</th>\n",
       "      <td>72.53</td>\n",
       "    </tr>\n",
       "    <tr>\n",
       "      <th>Sports</th>\n",
       "      <td>46.13</td>\n",
       "    </tr>\n",
       "    <tr>\n",
       "      <th>Role-Playing</th>\n",
       "      <td>33.47</td>\n",
       "    </tr>\n",
       "    <tr>\n",
       "      <th>Misc</th>\n",
       "      <td>15.05</td>\n",
       "    </tr>\n",
       "  </tbody>\n",
       "</table>\n",
       "</div>"
      ],
      "text/plain": [
       "              na_sales\n",
       "genre                 \n",
       "Shooter          79.02\n",
       "Action           72.53\n",
       "Sports           46.13\n",
       "Role-Playing     33.47\n",
       "Misc             15.05"
      ]
     },
     "execution_count": 83,
     "metadata": {},
     "output_type": "execute_result"
    }
   ],
   "source": [
    "na_top_genre_pivot_table = pd.pivot_table(df_actual_na, index='genre', values='na_sales',\n",
    "                                        aggfunc='sum').sort_values('na_sales', ascending=False).head()\n",
    "na_top_genre_pivot_table"
   ]
  },
  {
   "cell_type": "code",
   "execution_count": 84,
   "metadata": {},
   "outputs": [
    {
     "data": {
      "text/html": [
       "<div>\n",
       "<style scoped>\n",
       "    .dataframe tbody tr th:only-of-type {\n",
       "        vertical-align: middle;\n",
       "    }\n",
       "\n",
       "    .dataframe tbody tr th {\n",
       "        vertical-align: top;\n",
       "    }\n",
       "\n",
       "    .dataframe thead th {\n",
       "        text-align: right;\n",
       "    }\n",
       "</style>\n",
       "<table border=\"1\" class=\"dataframe\">\n",
       "  <thead>\n",
       "    <tr style=\"text-align: right;\">\n",
       "      <th></th>\n",
       "      <th>eu_sales</th>\n",
       "    </tr>\n",
       "    <tr>\n",
       "      <th>genre</th>\n",
       "      <th></th>\n",
       "    </tr>\n",
       "  </thead>\n",
       "  <tbody>\n",
       "    <tr>\n",
       "      <th>Action</th>\n",
       "      <td>74.68</td>\n",
       "    </tr>\n",
       "    <tr>\n",
       "      <th>Shooter</th>\n",
       "      <td>65.52</td>\n",
       "    </tr>\n",
       "    <tr>\n",
       "      <th>Sports</th>\n",
       "      <td>45.73</td>\n",
       "    </tr>\n",
       "    <tr>\n",
       "      <th>Role-Playing</th>\n",
       "      <td>28.17</td>\n",
       "    </tr>\n",
       "    <tr>\n",
       "      <th>Racing</th>\n",
       "      <td>14.13</td>\n",
       "    </tr>\n",
       "  </tbody>\n",
       "</table>\n",
       "</div>"
      ],
      "text/plain": [
       "              eu_sales\n",
       "genre                 \n",
       "Action           74.68\n",
       "Shooter          65.52\n",
       "Sports           45.73\n",
       "Role-Playing     28.17\n",
       "Racing           14.13"
      ]
     },
     "execution_count": 84,
     "metadata": {},
     "output_type": "execute_result"
    }
   ],
   "source": [
    "eu_top_genre_pivot_table = pd.pivot_table(df_actual_eu, index='genre', values='eu_sales',\n",
    "                                        aggfunc='sum').sort_values('eu_sales', ascending=False).head()\n",
    "eu_top_genre_pivot_table"
   ]
  },
  {
   "cell_type": "code",
   "execution_count": 85,
   "metadata": {},
   "outputs": [
    {
     "data": {
      "text/html": [
       "<div>\n",
       "<style scoped>\n",
       "    .dataframe tbody tr th:only-of-type {\n",
       "        vertical-align: middle;\n",
       "    }\n",
       "\n",
       "    .dataframe tbody tr th {\n",
       "        vertical-align: top;\n",
       "    }\n",
       "\n",
       "    .dataframe thead th {\n",
       "        text-align: right;\n",
       "    }\n",
       "</style>\n",
       "<table border=\"1\" class=\"dataframe\">\n",
       "  <thead>\n",
       "    <tr style=\"text-align: right;\">\n",
       "      <th></th>\n",
       "      <th>jp_sales</th>\n",
       "    </tr>\n",
       "    <tr>\n",
       "      <th>genre</th>\n",
       "      <th></th>\n",
       "    </tr>\n",
       "  </thead>\n",
       "  <tbody>\n",
       "    <tr>\n",
       "      <th>Role-Playing</th>\n",
       "      <td>31.16</td>\n",
       "    </tr>\n",
       "    <tr>\n",
       "      <th>Action</th>\n",
       "      <td>29.58</td>\n",
       "    </tr>\n",
       "    <tr>\n",
       "      <th>Fighting</th>\n",
       "      <td>6.37</td>\n",
       "    </tr>\n",
       "    <tr>\n",
       "      <th>Misc</th>\n",
       "      <td>5.61</td>\n",
       "    </tr>\n",
       "    <tr>\n",
       "      <th>Shooter</th>\n",
       "      <td>4.87</td>\n",
       "    </tr>\n",
       "  </tbody>\n",
       "</table>\n",
       "</div>"
      ],
      "text/plain": [
       "              jp_sales\n",
       "genre                 \n",
       "Role-Playing     31.16\n",
       "Action           29.58\n",
       "Fighting          6.37\n",
       "Misc              5.61\n",
       "Shooter           4.87"
      ]
     },
     "execution_count": 85,
     "metadata": {},
     "output_type": "execute_result"
    }
   ],
   "source": [
    "jp_top_genre_pivot_table = pd.pivot_table(df_actual_jp, index='genre', values='jp_sales',\n",
    "                                        aggfunc='sum').sort_values('jp_sales', ascending=False).head()\n",
    "jp_top_genre_pivot_table"
   ]
  },
  {
   "cell_type": "markdown",
   "metadata": {},
   "source": [
    "Итого топ-5 жанров по регионам:  \n",
    "    -Северная Америка: Shooter,Action,Sports,Role-Playing,Misc  \n",
    "        -Европа: Action,Shooter,Sports,Role-Playing,Racing  \n",
    "            -Япония:Role-Playing,Action,Fighting,Misc,Shooter   \n",
    "            Для игроков из Америки и Европы характерны жанры Экшн и Шутер, а для Японии РПГ "
   ]
  },
  {
   "cell_type": "markdown",
   "metadata": {},
   "source": [
    "**Влияние рейтинга ESRB на продажи**"
   ]
  },
  {
   "cell_type": "code",
   "execution_count": 50,
   "metadata": {},
   "outputs": [
    {
     "data": {
      "text/html": [
       "<div>\n",
       "<style scoped>\n",
       "    .dataframe tbody tr th:only-of-type {\n",
       "        vertical-align: middle;\n",
       "    }\n",
       "\n",
       "    .dataframe tbody tr th {\n",
       "        vertical-align: top;\n",
       "    }\n",
       "\n",
       "    .dataframe thead th {\n",
       "        text-align: right;\n",
       "    }\n",
       "</style>\n",
       "<table border=\"1\" class=\"dataframe\">\n",
       "  <thead>\n",
       "    <tr style=\"text-align: right;\">\n",
       "      <th></th>\n",
       "      <th>na_sales</th>\n",
       "    </tr>\n",
       "    <tr>\n",
       "      <th>rating</th>\n",
       "      <th></th>\n",
       "    </tr>\n",
       "  </thead>\n",
       "  <tbody>\n",
       "    <tr>\n",
       "      <th>M</th>\n",
       "      <td>96.42</td>\n",
       "    </tr>\n",
       "    <tr>\n",
       "      <th>E</th>\n",
       "      <td>50.74</td>\n",
       "    </tr>\n",
       "    <tr>\n",
       "      <th>T</th>\n",
       "      <td>38.95</td>\n",
       "    </tr>\n",
       "    <tr>\n",
       "      <th>E10+</th>\n",
       "      <td>33.23</td>\n",
       "    </tr>\n",
       "  </tbody>\n",
       "</table>\n",
       "</div>"
      ],
      "text/plain": [
       "        na_sales\n",
       "rating          \n",
       "M          96.42\n",
       "E          50.74\n",
       "T          38.95\n",
       "E10+       33.23"
      ]
     },
     "execution_count": 50,
     "metadata": {},
     "output_type": "execute_result"
    }
   ],
   "source": [
    "na_rating_pivot_table = pd.pivot_table(df_actual_na, index='rating', values='na_sales',\n",
    "                                        aggfunc='sum').sort_values('na_sales', ascending=False)\n",
    "na_rating_pivot_table"
   ]
  },
  {
   "cell_type": "code",
   "execution_count": 51,
   "metadata": {},
   "outputs": [
    {
     "data": {
      "text/html": [
       "<div>\n",
       "<style scoped>\n",
       "    .dataframe tbody tr th:only-of-type {\n",
       "        vertical-align: middle;\n",
       "    }\n",
       "\n",
       "    .dataframe tbody tr th {\n",
       "        vertical-align: top;\n",
       "    }\n",
       "\n",
       "    .dataframe thead th {\n",
       "        text-align: right;\n",
       "    }\n",
       "</style>\n",
       "<table border=\"1\" class=\"dataframe\">\n",
       "  <thead>\n",
       "    <tr style=\"text-align: right;\">\n",
       "      <th></th>\n",
       "      <th>eu_sales</th>\n",
       "    </tr>\n",
       "    <tr>\n",
       "      <th>rating</th>\n",
       "      <th></th>\n",
       "    </tr>\n",
       "  </thead>\n",
       "  <tbody>\n",
       "    <tr>\n",
       "      <th>M</th>\n",
       "      <td>93.44</td>\n",
       "    </tr>\n",
       "    <tr>\n",
       "      <th>E</th>\n",
       "      <td>58.06</td>\n",
       "    </tr>\n",
       "    <tr>\n",
       "      <th>T</th>\n",
       "      <td>34.07</td>\n",
       "    </tr>\n",
       "    <tr>\n",
       "      <th>E10+</th>\n",
       "      <td>26.16</td>\n",
       "    </tr>\n",
       "  </tbody>\n",
       "</table>\n",
       "</div>"
      ],
      "text/plain": [
       "        eu_sales\n",
       "rating          \n",
       "M          93.44\n",
       "E          58.06\n",
       "T          34.07\n",
       "E10+       26.16"
      ]
     },
     "execution_count": 51,
     "metadata": {},
     "output_type": "execute_result"
    }
   ],
   "source": [
    "eu_rating_pivot_table = pd.pivot_table(df_actual_eu, index='rating', values='eu_sales',\n",
    "                                        aggfunc='sum').sort_values('eu_sales', ascending=False)\n",
    "eu_rating_pivot_table"
   ]
  },
  {
   "cell_type": "code",
   "execution_count": 52,
   "metadata": {},
   "outputs": [
    {
     "data": {
      "text/html": [
       "<div>\n",
       "<style scoped>\n",
       "    .dataframe tbody tr th:only-of-type {\n",
       "        vertical-align: middle;\n",
       "    }\n",
       "\n",
       "    .dataframe tbody tr th {\n",
       "        vertical-align: top;\n",
       "    }\n",
       "\n",
       "    .dataframe thead th {\n",
       "        text-align: right;\n",
       "    }\n",
       "</style>\n",
       "<table border=\"1\" class=\"dataframe\">\n",
       "  <thead>\n",
       "    <tr style=\"text-align: right;\">\n",
       "      <th></th>\n",
       "      <th>jp_sales</th>\n",
       "    </tr>\n",
       "    <tr>\n",
       "      <th>rating</th>\n",
       "      <th></th>\n",
       "    </tr>\n",
       "  </thead>\n",
       "  <tbody>\n",
       "    <tr>\n",
       "      <th>T</th>\n",
       "      <td>14.78</td>\n",
       "    </tr>\n",
       "    <tr>\n",
       "      <th>E</th>\n",
       "      <td>8.94</td>\n",
       "    </tr>\n",
       "    <tr>\n",
       "      <th>M</th>\n",
       "      <td>8.01</td>\n",
       "    </tr>\n",
       "    <tr>\n",
       "      <th>E10+</th>\n",
       "      <td>4.46</td>\n",
       "    </tr>\n",
       "  </tbody>\n",
       "</table>\n",
       "</div>"
      ],
      "text/plain": [
       "        jp_sales\n",
       "rating          \n",
       "T          14.78\n",
       "E           8.94\n",
       "M           8.01\n",
       "E10+        4.46"
      ]
     },
     "execution_count": 52,
     "metadata": {},
     "output_type": "execute_result"
    }
   ],
   "source": [
    "jp_rating_pivot_table = pd.pivot_table(df_actual_jp, index='rating', values='jp_sales',\n",
    "                                        aggfunc='sum').sort_values('jp_sales', ascending=False)\n",
    "jp_rating_pivot_table"
   ]
  },
  {
   "cell_type": "markdown",
   "metadata": {},
   "source": [
    "Рейтинг возраста имеет влияние на продажи в зависимости от региона.  \n",
    "В Америке и Европе  популярны игры с возрастным рейтингом 'M'(Mature 17+).   \n",
    "В Японии лидириуют игры с возрастным рейтингом 'T'(Teen 13+). "
   ]
  },
  {
   "cell_type": "markdown",
   "metadata": {},
   "source": [
    "<div class=\"alert alert-block alert-danger\">\n",
    "<h2> Комментарий ревьюера V1<a class=\"tocSkip\"></h2>\n",
    "\n",
    "\n",
    "<b>На доработку🤔:</b>\n",
    "Нужно визуализировать топовые жанры и рейтинги. Можно воспользоваться методом subplots(), чтобы построить графики в одном полотне, например, в одном ряду, так будет легче сравнивать их."
   ]
  },
  {
   "cell_type": "code",
   "execution_count": 101,
   "metadata": {},
   "outputs": [
    {
     "data": {
      "image/png": "[encoded data removed]",
      "text/plain": [
       "<Figure size 1440x720 with 6 Axes>"
      ]
     },
     "metadata": {
      "needs_background": "light"
     },
     "output_type": "display_data"
    }
   ],
   "source": [
    "fig, axs = plt.subplots(2, 3, figsize=(20, 10))\n",
    "\n",
    "axs[0, 0].plot(na_top_genre_pivot_table.index, na_top_genre_pivot_table['na_sales'])\n",
    "axs[0, 0].set_title('Топ жанры Северной Америки')\n",
    "\n",
    "axs[0, 1].plot(jp_top_genre_pivot_table.index, jp_top_genre_pivot_table['jp_sales'])\n",
    "axs[0, 1].set_title('Топ жанры Японии')\n",
    "\n",
    "axs[0, 2].plot(eu_top_genre_pivot_table.index, eu_top_genre_pivot_table['eu_sales'])\n",
    "axs[0, 2].set_title('Топ жанры Европы')\n",
    "\n",
    "axs[1, 0].plot(na_rating_pivot_table.index, na_rating_pivot_table['na_sales'])\n",
    "axs[1, 0].set_title('Рейтинги ESRB Северной Америки')\n",
    "\n",
    "axs[1, 1].plot(jp_rating_pivot_table.index, jp_rating_pivot_table['jp_sales'])\n",
    "axs[1, 1].set_title('Рейтинги ESRB  Японии')\n",
    "\n",
    "axs[1, 2].plot(eu_rating_pivot_table.index, eu_rating_pivot_table['eu_sales'])\n",
    "axs[1, 2].set_title('Рейтинги ESRB Европы')\n",
    "\n",
    "plt.subplots_adjust(left=0.1, right=0.9, bottom=0.1, top=0.9, wspace=0.4, hspace=0.4)\n",
    "\n",
    "\n",
    "plt.show()"
   ]
  },
  {
   "cell_type": "markdown",
   "metadata": {},
   "source": [
    "**Основной портрет игрока в регионах**"
   ]
  },
  {
   "cell_type": "markdown",
   "metadata": {},
   "source": [
    "Для Северной Америки это пользователь от 17 лет,предпочитает PS4 или XOne, любит экшны и шутеры.  \n",
    "Для Европы это пользователь от 17 лет,предпочитает PS4, любит экшны и шутеры.   \n",
    "Для Японии это пользователь от 13 лет,предпочитает 3DS, любит RPG. \n"
   ]
  },
  {
   "cell_type": "markdown",
   "metadata": {},
   "source": [
    "<div class=\"alert alert-success\">\n",
    "<h2> Комментарий ревьюера V2<a class=\"tocSkip\"> </h2>\n",
    "\n",
    "<b>Все отлично!👍:</b> Все правильно доработал, продолжай в том же духе!"
   ]
  },
  {
   "cell_type": "markdown",
   "metadata": {},
   "source": [
    "### Проверка гипотез"
   ]
  },
  {
   "cell_type": "markdown",
   "metadata": {},
   "source": [
    "**Средние пользовательские рейтинги платформ Xbox One и PC одинаковые**"
   ]
  },
  {
   "cell_type": "code",
   "execution_count": 53,
   "metadata": {},
   "outputs": [
    {
     "data": {
      "text/plain": [
       "count    165.000000\n",
       "mean       6.594544\n",
       "std        1.375139\n",
       "min        1.600000\n",
       "25%        5.800000\n",
       "50%        6.800000\n",
       "75%        7.600000\n",
       "max        9.200000\n",
       "Name: user_score, dtype: float64"
      ]
     },
     "execution_count": 53,
     "metadata": {},
     "output_type": "execute_result"
    }
   ],
   "source": [
    "user_rating_XOne = df_actual.query('platform == \"XOne\"')['user_score'].dropna()\n",
    "user_rating_XOne.describe()"
   ]
  },
  {
   "cell_type": "code",
   "execution_count": 54,
   "metadata": {},
   "outputs": [
    {
     "data": {
      "text/plain": [
       "count    122.000000\n",
       "mean       6.298361\n",
       "std        1.703277\n",
       "min        1.400000\n",
       "25%        5.325000\n",
       "50%        6.800000\n",
       "75%        7.600000\n",
       "max        9.300000\n",
       "Name: user_score, dtype: float64"
      ]
     },
     "execution_count": 54,
     "metadata": {},
     "output_type": "execute_result"
    }
   ],
   "source": [
    "user_rating_PC = df_actual.query('platform == \"PC\"')['user_score'].dropna()\n",
    "user_rating_PC.describe()"
   ]
  },
  {
   "cell_type": "markdown",
   "metadata": {},
   "source": [
    "Нулевая гипотеза:  \n",
    "\"Средние пользовательские рейтинги платформ Xbox One и PC одинаковые\".\n",
    "\n",
    "Альтернативная гипотеза:  \n",
    "\"Средние пользовательские рейтинги платформ Xbox One и PC различаются\".\n",
    "\n",
    "Для оценки гипотезы будем применять тест Стюдента.  \n",
    "\n",
    "При получении ответа \"Отвергаем нулевую гипотезу\" это будет говорить о том, что скорей всего наше предположение неверно. Значит данные различаются.\n",
    "\n",
    "При получении ответа \"Не получилось отвергнуть нулевую гипотезу\", это значит что предположение о равенстве среднего рейтинга верно."
   ]
  },
  {
   "cell_type": "code",
   "execution_count": 55,
   "metadata": {},
   "outputs": [
    {
     "name": "stdout",
     "output_type": "stream",
     "text": [
      "p-значение: 0.10450648833224654\n",
      "Не получилось отвергнуть нулевую гипотезу\n"
     ]
    }
   ],
   "source": [
    "alpha = .01\n",
    "\n",
    "results = st.ttest_ind(user_rating_XOne, user_rating_PC)\n",
    "\n",
    "print('p-значение:', results.pvalue)\n",
    "\n",
    "if (results.pvalue < alpha):\n",
    "    print(\"Отвергаем нулевую гипотезу\")\n",
    "else:\n",
    "    print(\"Не получилось отвергнуть нулевую гипотезу\")"
   ]
  },
  {
   "cell_type": "markdown",
   "metadata": {},
   "source": [
    "Предположение о равенстве среднего рейтинга верно."
   ]
  },
  {
   "cell_type": "markdown",
   "metadata": {},
   "source": [
    "<div class=\"alert alert-success\">\n",
    "<h2> Комментарий ревьюера V1<a class=\"tocSkip\"> </h2>\n",
    "\n",
    "<b>Все отлично!👍:</b> Правильно сформулировал и проверил гипотезы, действительно средние оценки данных платформ с большой вероятностью равны."
   ]
  },
  {
   "cell_type": "markdown",
   "metadata": {},
   "source": [
    "**Средние пользовательские рейтинги жанров Action и Sports разные.**"
   ]
  },
  {
   "cell_type": "code",
   "execution_count": 56,
   "metadata": {},
   "outputs": [
    {
     "data": {
      "text/plain": [
       "count    297.000000\n",
       "mean       6.760606\n",
       "std        1.377852\n",
       "min        2.000000\n",
       "25%        6.100000\n",
       "50%        7.100000\n",
       "75%        7.700000\n",
       "max        9.000000\n",
       "Name: user_score, dtype: float64"
      ]
     },
     "execution_count": 56,
     "metadata": {},
     "output_type": "execute_result"
    }
   ],
   "source": [
    "user_rating_action = df_actual.query('genre == \"Action\"')['user_score'].dropna()\n",
    "user_rating_action.describe()"
   ]
  },
  {
   "cell_type": "code",
   "execution_count": 57,
   "metadata": {},
   "outputs": [
    {
     "data": {
      "text/plain": [
       "count    127.000000\n",
       "mean       5.225197\n",
       "std        1.856604\n",
       "min        0.200000\n",
       "25%        4.000000\n",
       "50%        5.500000\n",
       "75%        6.650000\n",
       "max        8.800000\n",
       "Name: user_score, dtype: float64"
      ]
     },
     "execution_count": 57,
     "metadata": {},
     "output_type": "execute_result"
    }
   ],
   "source": [
    "user_rating_sports = df_actual.query('genre == \"Sports\"')['user_score'].dropna()\n",
    "user_rating_sports.describe()"
   ]
  },
  {
   "cell_type": "markdown",
   "metadata": {},
   "source": [
    "Нулевая гипотеза: \"Средние пользовательские рейтинги жанров Action и Sports одинаковые\".\n",
    "\n",
    "Альтернативная гипотеза: \"Средние пользовательские рейтинги жанров Action и Sports различаются\".\n",
    "\n",
    "Для оценки гипотезы будем применять тест Стюдента.\n",
    "\n",
    "При получении ответа \"Отвергаем нулевую гипотезу\" это будет говорить о том, что скорей всего наше предположение неверно. Значит данные различаются.\n",
    "\n",
    "При получении ответа \"Не получилось отвергнуть нулевую гипотезу\", это значит что предположение о равенстве среднего рейтинга верно."
   ]
  },
  {
   "cell_type": "code",
   "execution_count": 58,
   "metadata": {},
   "outputs": [
    {
     "name": "stdout",
     "output_type": "stream",
     "text": [
      "p-значение: 2.871146400695882e-19\n",
      "Отвергаем нулевую гипотезу\n"
     ]
    }
   ],
   "source": [
    "alpha = .01\n",
    "\n",
    "results = st.ttest_ind(user_rating_action, user_rating_sports)\n",
    "\n",
    "print('p-значение:', results.pvalue)\n",
    "\n",
    "if (results.pvalue < alpha):\n",
    "    print(\"Отвергаем нулевую гипотезу\")\n",
    "else:\n",
    "    print(\"Не получилось отвергнуть нулевую гипотезу\")"
   ]
  },
  {
   "cell_type": "markdown",
   "metadata": {},
   "source": [
    "Предположение о различиях пользовательских рейтингов верно."
   ]
  },
  {
   "cell_type": "markdown",
   "metadata": {},
   "source": [
    "<div class=\"alert alert-success\">\n",
    "<h2> Комментарий ревьюера V1<a class=\"tocSkip\"> </h2>\n",
    "\n",
    "<b>Все отлично!👍:</b> И снова все верно."
   ]
  },
  {
   "cell_type": "markdown",
   "metadata": {},
   "source": [
    "### Общий вывод"
   ]
  },
  {
   "cell_type": "markdown",
   "metadata": {},
   "source": [
    "**В итоговом анализе данных интернет-магазина \"Стримчик\" были выявлены следующие ключевые зависимости:**\n",
    "\n",
    "1 Анализ продаж по годам показал, что пик выпуска игр приходится на 2008-2009 годы, а затем наблюдается спад. Это может быть связано с экономическим кризисом и изменением предпочтений потребителей. Актуальным периодом для прогноза и планирования рекламных кампаний был выбран период с 2014 по 2016 годы.\n",
    "\n",
    "2 При анализе платформ было выявлено, что средний срок \"жизни\" платформы составляет примерно 8-12 лет. Наиболее перспективными платформами, которые показывают рост продаж, являются PS4, Xbox One и 3DS. Следует обратить внимание на эти платформы при планировании рекламных кампаний.\n",
    "\n",
    "3 Жанры игр, пользующиеся наибольшей популярностью, включают Action, Shooter, Sports и Role-Playing, в то время как жанры Strategy и Puzzle менее популярны. Рекомендуется уделить особое внимание популярным жанрам при выборе игр для продвижения.\n",
    "\n",
    "4 Портрет пользователя каждого региона отличается. В Северной Америке и Европе наиболее популярны платформы PS4 и Xbox One, а в Японии - 3DS. Жанровые предпочтения также различаются, где в Северной Америке и Европе предпочитаются экшн и шутеры, а в Японии - RPG. Возрастной рейтинг ESRB также оказывает влияние на продажи в разных регионах.\n",
    "\n",
    "**Исходя из вышеуказанных зависимостей, можно сделать следующие рекомендации для интернет-магазина \"Стримчик\":**\n",
    "\n",
    "1 Уделить особое внимание платформам PS4, Xbox One и 3DS, так как они показывают рост продаж. Планировать рекламные кампании и акции, направленные на эти платформы.\n",
    "\n",
    "2 Выбирать для продвижения игры с популярными жанрами, такими как Action, Shooter, Sports и Role-Playing. Однако не следует полностью игнорировать игры в жанрах Strategy и Puzzle, так как они все равно имеют свою аудиторию.\n",
    "\n",
    "3 Учитывать предпочтения и особенности игрового рынка в каждом регионе при планировании рекламных кампаний. Необходимо адаптировать контент и рекламные сообщения под предпочтения пользователей каждого региона.\n",
    "\n",
    "4 Рассмотреть возможность анализа других факторов, таких как рейтинг критиков, наличие мультиплеерного режима, популярность определенных разработчиков и издателей игр. Эти факторы могут также оказывать значительное влияние на продажи игр.\n",
    "\n",
    "5 Следить за новыми тенденциями в игровой индустрии, такими как развитие виртуальной реальности (VR) и увеличение популярности мобильных игр. Анализировать данные о продажах в этих сегментах и определить, есть ли потенциал для расширения ассортимента в этих направлениях.\n",
    "\n",
    "6 Проводить регулярный мониторинг продаж и реакцию аудитории на новые игры и тренды. Это поможет оперативно реагировать на изменения в предпочтениях потребителей и адаптировать стратегию продвижения игр.\n"
   ]
  },
  {
   "cell_type": "markdown",
   "metadata": {},
   "source": [
    "<div class=\"alert alert-warning\">\n",
    "<h2> Комментарий ревьюера V1<a class=\"tocSkip\"> </h2>\n",
    "\n",
    "<b>Некоторые замечания и рекомендации💡:</b> В итоговом выводе нужно достаточно подробно написать основные пункты выявленных зависимостей. Стоит доработать вывод с учетом моих комментариев по ходу работы. В итоговом выводе также старайся оставлять рекомендации для последующих шагов. Например рекомендации, что можно обработать и проанализировать другие признаки, на что твоим коллегам стоить обратить внимание."
   ]
  },
  {
   "cell_type": "markdown",
   "metadata": {},
   "source": [
    "<div class=\"alert alert-success\">\n",
    "<h2> Комментарий ревьюера V2<a class=\"tocSkip\"> </h2>\n",
    "\n",
    "<b>Все отлично!👍:</b> Отличный вывод, все четко, понятно и структурировано. Вывод в полной мере отражает существующие зависимости, и по нему можно принимать дальнейшие решения.\n",
    "</div>"
   ]
  },
  {
   "cell_type": "markdown",
   "metadata": {},
   "source": [
    "<div style=\"border:solid Chocolate 2px; padding: 40px\">\n",
    "\n",
    "**Общий вывод по проекту**\n",
    "\n",
    "Спасибо за твой проект! Я уверен, что ты приложил все усилия, чтобы сделать этот проект. Это видно по твоей работе, а сформулированные выводы отражают, насколько успешно ты осваиваешь материал.\n",
    "\n",
    "**Отмечу отдельные положительные моменты проекта🙂**:\n",
    "\n",
    "* Ты полностью следовал всем этапам выполнения задания и справился почти со всем. Хорошая работа!\n",
    "* Отдельно выделю некоторые выводы, которые ты смог сформулировать абсолютно точно!\n",
    "* У тебя опрятный и читаемый код. Возможно это звучит банально, однако при работе с чужим кодом это крайне важно)\n",
    "\n",
    "\n",
    "**На что стоит обратить внимание🤓**:\n",
    "\n",
    "* Важно доработать итоговый вывод.\n",
    "* Нужно еще раз посмотреть на график ящик с усами и описать его подробнее.\n",
    "* Проанализируй самые популярные и непопулярные жанры.\n",
    "* Остальные рекомендации ты найдешь в моих комментариях!\n",
    "\n",
    "\n",
    "**Желаю удачи и жду твой проект на повторное ревью!**😉"
   ]
  },
  {
   "cell_type": "markdown",
   "metadata": {},
   "source": [
    "<div style=\"border:solid Chocolate 2px; padding: 40px\">\n",
    "\n",
    "Ты отлично справился с данной работой! Видно, как ты успешно осваиваешь материал, применяешь полученные знания на практике. Мне было очень приятно проверять твою работу, надеюсь, мои комментарии и советы были для тебя полезными.\n",
    "\n",
    "**Желаю удачи в последующем обучении и исследованиях!**😉"
   ]
  },
  {
   "cell_type": "code",
   "execution_count": null,
   "metadata": {},
   "outputs": [],
   "source": []
  }
 ],
 "metadata": {
  "ExecuteTimeLog": [
   {
    "duration": 1282,
    "start_time": "2023-06-19T18:54:12.051Z"
   },
   {
    "duration": 101,
    "start_time": "2023-06-19T18:55:27.249Z"
   },
   {
    "duration": 52,
    "start_time": "2023-06-19T18:56:08.806Z"
   },
   {
    "duration": 13,
    "start_time": "2023-06-19T18:56:19.900Z"
   },
   {
    "duration": 33,
    "start_time": "2023-06-19T18:57:13.801Z"
   },
   {
    "duration": 741,
    "start_time": "2023-06-19T18:58:59.114Z"
   },
   {
    "duration": 652,
    "start_time": "2023-06-19T19:00:59.734Z"
   },
   {
    "duration": 23,
    "start_time": "2023-06-19T19:01:05.747Z"
   },
   {
    "duration": 46,
    "start_time": "2023-06-19T19:11:53.948Z"
   },
   {
    "duration": 66,
    "start_time": "2023-06-19T19:12:32.004Z"
   },
   {
    "duration": 13,
    "start_time": "2023-06-19T19:15:31.398Z"
   },
   {
    "duration": 27,
    "start_time": "2023-06-19T19:20:50.018Z"
   },
   {
    "duration": 17,
    "start_time": "2023-06-19T19:21:21.562Z"
   },
   {
    "duration": 17,
    "start_time": "2023-06-19T19:22:00.693Z"
   },
   {
    "duration": 114,
    "start_time": "2023-06-19T19:23:46.676Z"
   },
   {
    "duration": 16,
    "start_time": "2023-06-19T19:28:37.189Z"
   },
   {
    "duration": 91,
    "start_time": "2023-06-19T19:29:42.209Z"
   },
   {
    "duration": 30,
    "start_time": "2023-06-19T19:29:53.312Z"
   },
   {
    "duration": 40,
    "start_time": "2023-06-19T19:32:02.307Z"
   },
   {
    "duration": 28,
    "start_time": "2023-06-19T20:01:43.254Z"
   },
   {
    "duration": 7,
    "start_time": "2023-06-19T20:17:22.742Z"
   },
   {
    "duration": 5,
    "start_time": "2023-06-19T20:17:37.869Z"
   },
   {
    "duration": 21,
    "start_time": "2023-06-19T20:41:56.935Z"
   },
   {
    "duration": 21,
    "start_time": "2023-06-19T20:42:11.547Z"
   },
   {
    "duration": 7,
    "start_time": "2023-06-19T20:44:36.273Z"
   },
   {
    "duration": 14,
    "start_time": "2023-06-19T20:44:39.924Z"
   },
   {
    "duration": 1594,
    "start_time": "2023-06-19T20:47:44.872Z"
   },
   {
    "duration": 9,
    "start_time": "2023-06-19T20:47:59.205Z"
   },
   {
    "duration": 6,
    "start_time": "2023-06-19T20:48:42.582Z"
   },
   {
    "duration": 7,
    "start_time": "2023-06-19T20:49:09.008Z"
   },
   {
    "duration": 121,
    "start_time": "2023-06-19T20:55:07.175Z"
   },
   {
    "duration": 9,
    "start_time": "2023-06-19T20:55:28.898Z"
   },
   {
    "duration": 140,
    "start_time": "2023-06-19T20:59:36.445Z"
   },
   {
    "duration": 10,
    "start_time": "2023-06-19T21:00:00.603Z"
   },
   {
    "duration": 11,
    "start_time": "2023-06-19T21:01:10.418Z"
   },
   {
    "duration": 32,
    "start_time": "2023-06-19T21:02:50.306Z"
   },
   {
    "duration": 7,
    "start_time": "2023-06-19T21:12:11.258Z"
   },
   {
    "duration": 14,
    "start_time": "2023-06-19T21:12:40.293Z"
   },
   {
    "duration": 21,
    "start_time": "2023-06-19T21:15:17.293Z"
   },
   {
    "duration": 7,
    "start_time": "2023-06-19T22:45:24.179Z"
   },
   {
    "duration": 5,
    "start_time": "2023-06-19T22:45:48.237Z"
   },
   {
    "duration": 15,
    "start_time": "2023-06-19T22:46:04.244Z"
   },
   {
    "duration": 20,
    "start_time": "2023-06-19T22:52:10.415Z"
   },
   {
    "duration": 17,
    "start_time": "2023-06-19T22:54:18.887Z"
   },
   {
    "duration": 34,
    "start_time": "2023-06-19T23:01:15.043Z"
   },
   {
    "duration": 35,
    "start_time": "2023-06-19T23:01:40.600Z"
   },
   {
    "duration": 9,
    "start_time": "2023-06-19T23:02:31.973Z"
   },
   {
    "duration": 33,
    "start_time": "2023-06-19T23:04:22.331Z"
   },
   {
    "duration": 20,
    "start_time": "2023-06-19T23:05:05.806Z"
   },
   {
    "duration": 20,
    "start_time": "2023-06-19T23:05:19.289Z"
   },
   {
    "duration": 21,
    "start_time": "2023-06-19T23:05:28.632Z"
   },
   {
    "duration": 19,
    "start_time": "2023-06-19T23:05:34.435Z"
   },
   {
    "duration": 20,
    "start_time": "2023-06-19T23:05:42.531Z"
   },
   {
    "duration": 25,
    "start_time": "2023-06-19T23:05:55.698Z"
   },
   {
    "duration": 29,
    "start_time": "2023-06-19T23:06:05.118Z"
   },
   {
    "duration": 21,
    "start_time": "2023-06-19T23:06:15.512Z"
   },
   {
    "duration": 22,
    "start_time": "2023-06-19T23:06:21.710Z"
   },
   {
    "duration": 88,
    "start_time": "2023-06-19T23:06:41.674Z"
   },
   {
    "duration": 8,
    "start_time": "2023-06-19T23:06:50.189Z"
   },
   {
    "duration": 21,
    "start_time": "2023-06-19T23:07:26.252Z"
   },
   {
    "duration": 26,
    "start_time": "2023-06-19T23:07:50.399Z"
   },
   {
    "duration": 24,
    "start_time": "2023-06-19T23:08:05.835Z"
   },
   {
    "duration": 34,
    "start_time": "2023-06-19T23:08:47.073Z"
   },
   {
    "duration": 40,
    "start_time": "2023-06-19T23:09:53.462Z"
   },
   {
    "duration": 41,
    "start_time": "2023-06-19T23:10:18.515Z"
   },
   {
    "duration": 38,
    "start_time": "2023-06-19T23:10:41.146Z"
   },
   {
    "duration": 27,
    "start_time": "2023-06-19T23:12:34.123Z"
   },
   {
    "duration": 66,
    "start_time": "2023-06-20T18:33:06.898Z"
   },
   {
    "duration": 4,
    "start_time": "2023-06-20T18:33:19.095Z"
   },
   {
    "duration": 62,
    "start_time": "2023-06-20T18:37:24.551Z"
   },
   {
    "duration": 106,
    "start_time": "2023-06-20T18:37:38.102Z"
   },
   {
    "duration": 3,
    "start_time": "2023-06-20T18:37:46.468Z"
   },
   {
    "duration": 74,
    "start_time": "2023-06-20T18:53:06.648Z"
   },
   {
    "duration": 56,
    "start_time": "2023-06-20T18:53:14.330Z"
   },
   {
    "duration": 8,
    "start_time": "2023-06-20T18:53:35.920Z"
   },
   {
    "duration": 1375,
    "start_time": "2023-06-20T18:53:47.013Z"
   },
   {
    "duration": 439,
    "start_time": "2023-06-20T18:53:48.390Z"
   },
   {
    "duration": 32,
    "start_time": "2023-06-20T18:53:48.831Z"
   },
   {
    "duration": 826,
    "start_time": "2023-06-20T18:53:48.866Z"
   },
   {
    "duration": 22,
    "start_time": "2023-06-20T18:53:49.694Z"
   },
   {
    "duration": 15,
    "start_time": "2023-06-20T18:53:49.718Z"
   },
   {
    "duration": 50,
    "start_time": "2023-06-20T18:53:49.736Z"
   },
   {
    "duration": 24,
    "start_time": "2023-06-20T18:53:49.789Z"
   },
   {
    "duration": 18,
    "start_time": "2023-06-20T18:53:49.816Z"
   },
   {
    "duration": 5,
    "start_time": "2023-06-20T18:53:49.861Z"
   },
   {
    "duration": 69,
    "start_time": "2023-06-20T18:53:49.867Z"
   },
   {
    "duration": 14,
    "start_time": "2023-06-20T18:54:03.950Z"
   },
   {
    "duration": 14,
    "start_time": "2023-06-20T18:54:12.395Z"
   },
   {
    "duration": 27,
    "start_time": "2023-06-20T18:54:55.760Z"
   },
   {
    "duration": 36,
    "start_time": "2023-06-20T18:55:17.237Z"
   },
   {
    "duration": 89,
    "start_time": "2023-06-20T18:55:38.111Z"
   },
   {
    "duration": 19,
    "start_time": "2023-06-20T18:56:30.120Z"
   },
   {
    "duration": 31,
    "start_time": "2023-06-20T18:57:16.096Z"
   },
   {
    "duration": 271,
    "start_time": "2023-06-20T18:57:50.835Z"
   },
   {
    "duration": 26,
    "start_time": "2023-06-20T18:58:14.957Z"
   },
   {
    "duration": 38,
    "start_time": "2023-06-20T18:58:50.766Z"
   },
   {
    "duration": 100,
    "start_time": "2023-06-20T18:59:03.665Z"
   },
   {
    "duration": 594,
    "start_time": "2023-06-20T19:00:24.228Z"
   },
   {
    "duration": 593,
    "start_time": "2023-06-20T19:01:07.471Z"
   },
   {
    "duration": 718,
    "start_time": "2023-06-20T19:05:33.960Z"
   },
   {
    "duration": 666,
    "start_time": "2023-06-20T19:05:45.189Z"
   },
   {
    "duration": 679,
    "start_time": "2023-06-20T19:05:55.046Z"
   },
   {
    "duration": 447,
    "start_time": "2023-06-20T19:06:08.611Z"
   },
   {
    "duration": 25,
    "start_time": "2023-06-20T19:06:42.519Z"
   },
   {
    "duration": 3112,
    "start_time": "2023-06-20T19:06:59.433Z"
   },
   {
    "duration": 18,
    "start_time": "2023-06-20T19:12:41.495Z"
   },
   {
    "duration": 35,
    "start_time": "2023-06-20T19:12:52.711Z"
   },
   {
    "duration": 642,
    "start_time": "2023-06-20T19:13:18.699Z"
   },
   {
    "duration": 29,
    "start_time": "2023-06-20T19:13:41.022Z"
   },
   {
    "duration": 376,
    "start_time": "2023-06-20T19:14:18.837Z"
   },
   {
    "duration": 677,
    "start_time": "2023-06-20T19:14:49.724Z"
   },
   {
    "duration": 32,
    "start_time": "2023-06-20T19:15:54.699Z"
   },
   {
    "duration": 112,
    "start_time": "2023-06-20T19:16:09.940Z"
   },
   {
    "duration": 24,
    "start_time": "2023-06-20T19:16:42.846Z"
   },
   {
    "duration": 39,
    "start_time": "2023-06-20T19:18:54.136Z"
   },
   {
    "duration": 23,
    "start_time": "2023-06-20T19:20:39.418Z"
   },
   {
    "duration": 36,
    "start_time": "2023-06-20T19:21:19.128Z"
   },
   {
    "duration": 6,
    "start_time": "2023-06-20T19:21:59.219Z"
   },
   {
    "duration": 65,
    "start_time": "2023-06-20T19:21:59.227Z"
   },
   {
    "duration": 34,
    "start_time": "2023-06-20T19:21:59.294Z"
   },
   {
    "duration": 838,
    "start_time": "2023-06-20T19:21:59.330Z"
   },
   {
    "duration": 17,
    "start_time": "2023-06-20T19:22:00.171Z"
   },
   {
    "duration": 31,
    "start_time": "2023-06-20T19:22:00.190Z"
   },
   {
    "duration": 56,
    "start_time": "2023-06-20T19:22:00.223Z"
   },
   {
    "duration": 35,
    "start_time": "2023-06-20T19:22:00.281Z"
   },
   {
    "duration": 52,
    "start_time": "2023-06-20T19:22:00.318Z"
   },
   {
    "duration": 16,
    "start_time": "2023-06-20T19:22:00.372Z"
   },
   {
    "duration": 69,
    "start_time": "2023-06-20T19:22:00.390Z"
   },
   {
    "duration": 34,
    "start_time": "2023-06-20T19:22:12.113Z"
   },
   {
    "duration": 4,
    "start_time": "2023-06-20T19:25:21.029Z"
   },
   {
    "duration": 22,
    "start_time": "2023-06-20T19:25:21.708Z"
   },
   {
    "duration": 21,
    "start_time": "2023-06-20T19:26:59.592Z"
   },
   {
    "duration": 88,
    "start_time": "2023-06-20T19:29:41.652Z"
   },
   {
    "duration": 44,
    "start_time": "2023-06-20T19:30:52.232Z"
   },
   {
    "duration": 108,
    "start_time": "2023-06-20T19:31:07.319Z"
   },
   {
    "duration": 22,
    "start_time": "2023-06-20T19:31:36.143Z"
   },
   {
    "duration": 28,
    "start_time": "2023-06-20T19:31:43.244Z"
   },
   {
    "duration": 29,
    "start_time": "2023-06-20T19:32:57.443Z"
   },
   {
    "duration": 31,
    "start_time": "2023-06-20T19:33:24.812Z"
   },
   {
    "duration": 281,
    "start_time": "2023-06-20T19:35:59.111Z"
   },
   {
    "duration": 325,
    "start_time": "2023-06-20T19:37:10.429Z"
   },
   {
    "duration": 331,
    "start_time": "2023-06-20T19:39:04.325Z"
   },
   {
    "duration": 36,
    "start_time": "2023-06-20T19:42:11.905Z"
   },
   {
    "duration": 314,
    "start_time": "2023-06-20T19:42:46.894Z"
   },
   {
    "duration": 23,
    "start_time": "2023-06-20T19:43:17.598Z"
   },
   {
    "duration": 57,
    "start_time": "2023-06-20T19:43:43.448Z"
   },
   {
    "duration": 60,
    "start_time": "2023-06-20T19:44:21.717Z"
   },
   {
    "duration": 33,
    "start_time": "2023-06-20T19:45:48.526Z"
   },
   {
    "duration": 48,
    "start_time": "2023-06-20T19:45:54.609Z"
   },
   {
    "duration": 35,
    "start_time": "2023-06-20T19:46:28.393Z"
   },
   {
    "duration": 45,
    "start_time": "2023-06-20T19:47:48.489Z"
   },
   {
    "duration": 31,
    "start_time": "2023-06-20T19:48:07.556Z"
   },
   {
    "duration": 35,
    "start_time": "2023-06-20T19:48:27.422Z"
   },
   {
    "duration": 37,
    "start_time": "2023-06-20T19:48:33.794Z"
   },
   {
    "duration": 37,
    "start_time": "2023-06-20T19:48:44.590Z"
   },
   {
    "duration": 28,
    "start_time": "2023-06-20T19:48:58.351Z"
   },
   {
    "duration": 28,
    "start_time": "2023-06-20T19:49:05.496Z"
   },
   {
    "duration": 38,
    "start_time": "2023-06-20T19:49:24.933Z"
   },
   {
    "duration": 37,
    "start_time": "2023-06-20T19:49:36.065Z"
   },
   {
    "duration": 39,
    "start_time": "2023-06-20T19:51:44.430Z"
   },
   {
    "duration": 32,
    "start_time": "2023-06-20T19:52:35.232Z"
   },
   {
    "duration": 53,
    "start_time": "2023-06-20T19:53:13.506Z"
   },
   {
    "duration": 31,
    "start_time": "2023-06-20T19:53:53.870Z"
   },
   {
    "duration": 36,
    "start_time": "2023-06-20T19:54:24.311Z"
   },
   {
    "duration": 60,
    "start_time": "2023-06-20T19:56:14.399Z"
   },
   {
    "duration": 32,
    "start_time": "2023-06-20T19:59:18.198Z"
   },
   {
    "duration": 33,
    "start_time": "2023-06-20T20:03:00.411Z"
   },
   {
    "duration": 321,
    "start_time": "2023-06-20T20:12:14.929Z"
   },
   {
    "duration": 312,
    "start_time": "2023-06-20T20:13:00.366Z"
   },
   {
    "duration": 307,
    "start_time": "2023-06-20T20:13:48.961Z"
   },
   {
    "duration": 32,
    "start_time": "2023-06-20T20:15:18.209Z"
   },
   {
    "duration": 1200,
    "start_time": "2023-06-20T20:17:00.591Z"
   },
   {
    "duration": 1120,
    "start_time": "2023-06-20T20:17:20.262Z"
   },
   {
    "duration": 28,
    "start_time": "2023-06-20T20:19:02.106Z"
   },
   {
    "duration": 31,
    "start_time": "2023-06-20T20:19:43.225Z"
   },
   {
    "duration": 28,
    "start_time": "2023-06-20T20:20:26.579Z"
   },
   {
    "duration": 42,
    "start_time": "2023-06-20T20:28:13.790Z"
   },
   {
    "duration": 28,
    "start_time": "2023-06-20T20:28:27.017Z"
   },
   {
    "duration": 39,
    "start_time": "2023-06-20T20:28:51.030Z"
   },
   {
    "duration": 315,
    "start_time": "2023-06-20T20:29:02.113Z"
   },
   {
    "duration": 21,
    "start_time": "2023-06-20T20:29:22.552Z"
   },
   {
    "duration": 21,
    "start_time": "2023-06-20T20:30:24.976Z"
   },
   {
    "duration": 22,
    "start_time": "2023-06-20T20:32:33.659Z"
   },
   {
    "duration": 97,
    "start_time": "2023-06-20T20:44:16.796Z"
   },
   {
    "duration": 79,
    "start_time": "2023-06-20T20:44:39.100Z"
   },
   {
    "duration": 595,
    "start_time": "2023-06-20T20:44:48.956Z"
   },
   {
    "duration": 87,
    "start_time": "2023-06-20T20:47:45.324Z"
   },
   {
    "duration": 772,
    "start_time": "2023-06-20T20:53:29.761Z"
   },
   {
    "duration": 22,
    "start_time": "2023-06-20T20:59:58.107Z"
   },
   {
    "duration": 25,
    "start_time": "2023-06-20T21:00:48.607Z"
   },
   {
    "duration": 1088,
    "start_time": "2023-06-20T21:06:49.499Z"
   },
   {
    "duration": 888,
    "start_time": "2023-06-20T21:07:36.111Z"
   },
   {
    "duration": 2,
    "start_time": "2023-06-20T21:07:58.722Z"
   },
   {
    "duration": 55,
    "start_time": "2023-06-20T21:07:58.726Z"
   },
   {
    "duration": 25,
    "start_time": "2023-06-20T21:07:58.782Z"
   },
   {
    "duration": 781,
    "start_time": "2023-06-20T21:07:58.808Z"
   },
   {
    "duration": 15,
    "start_time": "2023-06-20T21:07:59.591Z"
   },
   {
    "duration": 11,
    "start_time": "2023-06-20T21:07:59.607Z"
   },
   {
    "duration": 16,
    "start_time": "2023-06-20T21:07:59.620Z"
   },
   {
    "duration": 17,
    "start_time": "2023-06-20T21:07:59.659Z"
   },
   {
    "duration": 18,
    "start_time": "2023-06-20T21:07:59.677Z"
   },
   {
    "duration": 4,
    "start_time": "2023-06-20T21:07:59.697Z"
   },
   {
    "duration": 992,
    "start_time": "2023-06-20T21:07:59.702Z"
   },
   {
    "duration": 22,
    "start_time": "2023-06-20T21:08:30.620Z"
   },
   {
    "duration": 1138,
    "start_time": "2023-06-20T21:08:58.256Z"
   },
   {
    "duration": 50,
    "start_time": "2023-06-20T21:08:59.396Z"
   },
   {
    "duration": 38,
    "start_time": "2023-06-20T21:08:59.448Z"
   },
   {
    "duration": 706,
    "start_time": "2023-06-20T21:08:59.488Z"
   },
   {
    "duration": 13,
    "start_time": "2023-06-20T21:09:00.196Z"
   },
   {
    "duration": 32,
    "start_time": "2023-06-20T21:09:00.211Z"
   },
   {
    "duration": 46,
    "start_time": "2023-06-20T21:09:00.244Z"
   },
   {
    "duration": 50,
    "start_time": "2023-06-20T21:09:00.292Z"
   },
   {
    "duration": 40,
    "start_time": "2023-06-20T21:09:00.344Z"
   },
   {
    "duration": 24,
    "start_time": "2023-06-20T21:09:00.386Z"
   },
   {
    "duration": 71,
    "start_time": "2023-06-20T21:09:00.411Z"
   },
   {
    "duration": 937,
    "start_time": "2023-06-20T21:09:11.289Z"
   },
   {
    "duration": 961,
    "start_time": "2023-06-20T21:09:38.610Z"
   },
   {
    "duration": 944,
    "start_time": "2023-06-20T21:15:20.123Z"
   },
   {
    "duration": 43,
    "start_time": "2023-06-20T21:19:26.836Z"
   },
   {
    "duration": 1102,
    "start_time": "2023-06-20T21:19:34.603Z"
   },
   {
    "duration": 53,
    "start_time": "2023-06-20T21:19:35.707Z"
   },
   {
    "duration": 41,
    "start_time": "2023-06-20T21:19:35.764Z"
   },
   {
    "duration": 734,
    "start_time": "2023-06-20T21:19:35.807Z"
   },
   {
    "duration": 32,
    "start_time": "2023-06-20T21:19:36.543Z"
   },
   {
    "duration": 9,
    "start_time": "2023-06-20T21:19:36.577Z"
   },
   {
    "duration": 17,
    "start_time": "2023-06-20T21:19:36.587Z"
   },
   {
    "duration": 19,
    "start_time": "2023-06-20T21:19:36.606Z"
   },
   {
    "duration": 40,
    "start_time": "2023-06-20T21:19:36.630Z"
   },
   {
    "duration": 4,
    "start_time": "2023-06-20T21:19:36.671Z"
   },
   {
    "duration": 38,
    "start_time": "2023-06-20T21:19:36.677Z"
   },
   {
    "duration": 47,
    "start_time": "2023-06-20T21:22:29.053Z"
   },
   {
    "duration": 968,
    "start_time": "2023-06-20T21:22:48.011Z"
   },
   {
    "duration": 71,
    "start_time": "2023-06-20T21:23:14.259Z"
   },
   {
    "duration": 46,
    "start_time": "2023-06-20T21:23:21.141Z"
   },
   {
    "duration": 1278,
    "start_time": "2023-06-20T21:23:49.611Z"
   },
   {
    "duration": 1226,
    "start_time": "2023-06-20T21:24:06.623Z"
   },
   {
    "duration": 20,
    "start_time": "2023-06-20T21:24:37.726Z"
   },
   {
    "duration": 1129,
    "start_time": "2023-06-20T21:26:54.109Z"
   },
   {
    "duration": 114,
    "start_time": "2023-06-20T21:33:00.502Z"
   },
   {
    "duration": 64,
    "start_time": "2023-06-20T21:34:00.290Z"
   },
   {
    "duration": 990,
    "start_time": "2023-06-20T21:34:09.894Z"
   },
   {
    "duration": 30,
    "start_time": "2023-06-20T21:35:06.832Z"
   },
   {
    "duration": 26,
    "start_time": "2023-06-20T21:35:16.574Z"
   },
   {
    "duration": 21,
    "start_time": "2023-06-20T21:38:41.808Z"
   },
   {
    "duration": 24,
    "start_time": "2023-06-20T21:38:59.892Z"
   },
   {
    "duration": 253,
    "start_time": "2023-06-20T21:39:36.834Z"
   },
   {
    "duration": 288,
    "start_time": "2023-06-20T21:40:27.134Z"
   },
   {
    "duration": 26,
    "start_time": "2023-06-20T21:40:38.342Z"
   },
   {
    "duration": 295,
    "start_time": "2023-06-20T21:41:40.704Z"
   },
   {
    "duration": 28,
    "start_time": "2023-06-20T21:41:52.846Z"
   },
   {
    "duration": 24,
    "start_time": "2023-06-20T21:43:56.359Z"
   },
   {
    "duration": 26,
    "start_time": "2023-06-20T21:44:59.533Z"
   },
   {
    "duration": 26,
    "start_time": "2023-06-20T21:45:26.691Z"
   },
   {
    "duration": 32,
    "start_time": "2023-06-20T21:46:17.462Z"
   },
   {
    "duration": 28,
    "start_time": "2023-06-20T21:47:58.330Z"
   },
   {
    "duration": 72,
    "start_time": "2023-06-20T21:48:53.297Z"
   },
   {
    "duration": 26,
    "start_time": "2023-06-20T21:52:54.923Z"
   },
   {
    "duration": 272,
    "start_time": "2023-06-20T21:56:09.481Z"
   },
   {
    "duration": 31,
    "start_time": "2023-06-20T21:59:47.068Z"
   },
   {
    "duration": 36,
    "start_time": "2023-06-20T22:00:06.206Z"
   },
   {
    "duration": 1132,
    "start_time": "2023-06-20T22:00:39.038Z"
   },
   {
    "duration": 52,
    "start_time": "2023-06-20T22:00:40.172Z"
   },
   {
    "duration": 26,
    "start_time": "2023-06-20T22:00:40.226Z"
   },
   {
    "duration": 650,
    "start_time": "2023-06-20T22:00:40.254Z"
   },
   {
    "duration": 14,
    "start_time": "2023-06-20T22:00:40.906Z"
   },
   {
    "duration": 16,
    "start_time": "2023-06-20T22:00:40.922Z"
   },
   {
    "duration": 35,
    "start_time": "2023-06-20T22:00:40.940Z"
   },
   {
    "duration": 15,
    "start_time": "2023-06-20T22:00:40.977Z"
   },
   {
    "duration": 17,
    "start_time": "2023-06-20T22:00:40.993Z"
   },
   {
    "duration": 3,
    "start_time": "2023-06-20T22:00:41.012Z"
   },
   {
    "duration": 50,
    "start_time": "2023-06-20T22:00:41.017Z"
   },
   {
    "duration": 120,
    "start_time": "2023-06-20T22:07:04.173Z"
   },
   {
    "duration": 33,
    "start_time": "2023-06-20T22:07:39.454Z"
   },
   {
    "duration": 7,
    "start_time": "2023-06-20T22:08:07.507Z"
   },
   {
    "duration": 38,
    "start_time": "2023-06-20T22:08:17.386Z"
   },
   {
    "duration": 27,
    "start_time": "2023-06-20T22:08:46.504Z"
   },
   {
    "duration": 29,
    "start_time": "2023-06-20T22:09:01.085Z"
   },
   {
    "duration": 27,
    "start_time": "2023-06-20T22:10:59.694Z"
   },
   {
    "duration": 36,
    "start_time": "2023-06-20T22:11:48.094Z"
   },
   {
    "duration": 36,
    "start_time": "2023-06-20T22:15:53.426Z"
   },
   {
    "duration": 31,
    "start_time": "2023-06-20T22:16:01.653Z"
   },
   {
    "duration": 28,
    "start_time": "2023-06-20T22:16:51.129Z"
   },
   {
    "duration": 30,
    "start_time": "2023-06-20T22:17:37.803Z"
   },
   {
    "duration": 1055,
    "start_time": "2023-06-20T22:18:41.652Z"
   },
   {
    "duration": 27,
    "start_time": "2023-06-20T22:18:57.901Z"
   },
   {
    "duration": 11,
    "start_time": "2023-06-20T22:19:57.018Z"
   },
   {
    "duration": 12,
    "start_time": "2023-06-20T22:20:14.230Z"
   },
   {
    "duration": 6,
    "start_time": "2023-06-20T22:20:27.738Z"
   },
   {
    "duration": 4,
    "start_time": "2023-06-20T22:21:30.804Z"
   },
   {
    "duration": 6,
    "start_time": "2023-06-20T22:21:32.480Z"
   },
   {
    "duration": 33,
    "start_time": "2023-06-20T22:33:03.941Z"
   },
   {
    "duration": 26,
    "start_time": "2023-06-20T22:33:51.013Z"
   },
   {
    "duration": 40,
    "start_time": "2023-06-20T22:33:57.309Z"
   },
   {
    "duration": 28,
    "start_time": "2023-06-20T22:34:38.024Z"
   },
   {
    "duration": 14,
    "start_time": "2023-06-20T22:35:44.251Z"
   },
   {
    "duration": 17,
    "start_time": "2023-06-20T22:35:55.476Z"
   },
   {
    "duration": 31,
    "start_time": "2023-06-20T22:37:12.203Z"
   },
   {
    "duration": 21,
    "start_time": "2023-06-20T22:37:17.065Z"
   },
   {
    "duration": 6,
    "start_time": "2023-06-20T22:37:24.315Z"
   },
   {
    "duration": 18,
    "start_time": "2023-06-20T22:37:30.907Z"
   },
   {
    "duration": 6,
    "start_time": "2023-06-20T22:37:40.350Z"
   },
   {
    "duration": 1074,
    "start_time": "2023-06-20T22:37:54.218Z"
   },
   {
    "duration": 53,
    "start_time": "2023-06-20T22:37:55.294Z"
   },
   {
    "duration": 28,
    "start_time": "2023-06-20T22:37:55.349Z"
   },
   {
    "duration": 715,
    "start_time": "2023-06-20T22:37:55.378Z"
   },
   {
    "duration": 14,
    "start_time": "2023-06-20T22:37:56.095Z"
   },
   {
    "duration": 25,
    "start_time": "2023-06-20T22:37:56.111Z"
   },
   {
    "duration": 23,
    "start_time": "2023-06-20T22:37:56.137Z"
   },
   {
    "duration": 13,
    "start_time": "2023-06-20T22:37:56.161Z"
   },
   {
    "duration": 41,
    "start_time": "2023-06-20T22:37:56.176Z"
   },
   {
    "duration": 33,
    "start_time": "2023-06-20T22:37:56.219Z"
   },
   {
    "duration": 7,
    "start_time": "2023-06-20T22:37:56.259Z"
   },
   {
    "duration": 109,
    "start_time": "2023-06-20T22:37:56.268Z"
   },
   {
    "duration": 0,
    "start_time": "2023-06-20T22:37:56.379Z"
   },
   {
    "duration": 29,
    "start_time": "2023-06-20T22:39:02.885Z"
   },
   {
    "duration": 7,
    "start_time": "2023-06-20T22:40:03.083Z"
   },
   {
    "duration": 8,
    "start_time": "2023-06-20T22:41:03.142Z"
   },
   {
    "duration": 9,
    "start_time": "2023-06-20T22:41:11.065Z"
   },
   {
    "duration": 4,
    "start_time": "2023-06-20T22:47:54.594Z"
   },
   {
    "duration": 6,
    "start_time": "2023-06-20T22:47:58.130Z"
   },
   {
    "duration": 299,
    "start_time": "2023-06-20T22:50:00.913Z"
   },
   {
    "duration": 12,
    "start_time": "2023-06-20T22:50:28.526Z"
   },
   {
    "duration": 4,
    "start_time": "2023-06-20T22:50:44.821Z"
   },
   {
    "duration": 37,
    "start_time": "2023-06-20T22:51:54.014Z"
   },
   {
    "duration": 26,
    "start_time": "2023-06-20T22:53:29.288Z"
   },
   {
    "duration": 6,
    "start_time": "2023-06-20T22:53:43.703Z"
   },
   {
    "duration": 7,
    "start_time": "2023-06-20T22:53:52.273Z"
   },
   {
    "duration": 5,
    "start_time": "2023-06-20T22:53:59.530Z"
   },
   {
    "duration": 11,
    "start_time": "2023-06-20T22:54:16.077Z"
   },
   {
    "duration": 5,
    "start_time": "2023-06-20T22:54:22.112Z"
   },
   {
    "duration": 9,
    "start_time": "2023-06-20T22:54:25.383Z"
   },
   {
    "duration": 1044,
    "start_time": "2023-06-20T22:54:34.109Z"
   },
   {
    "duration": 51,
    "start_time": "2023-06-20T22:54:35.155Z"
   },
   {
    "duration": 29,
    "start_time": "2023-06-20T22:54:35.208Z"
   },
   {
    "duration": 659,
    "start_time": "2023-06-20T22:54:35.239Z"
   },
   {
    "duration": 13,
    "start_time": "2023-06-20T22:54:35.899Z"
   },
   {
    "duration": 7,
    "start_time": "2023-06-20T22:54:35.913Z"
   },
   {
    "duration": 32,
    "start_time": "2023-06-20T22:54:35.921Z"
   },
   {
    "duration": 16,
    "start_time": "2023-06-20T22:54:35.958Z"
   },
   {
    "duration": 14,
    "start_time": "2023-06-20T22:54:35.976Z"
   },
   {
    "duration": 27,
    "start_time": "2023-06-20T22:54:35.992Z"
   },
   {
    "duration": 39,
    "start_time": "2023-06-20T22:54:36.020Z"
   },
   {
    "duration": 38,
    "start_time": "2023-06-20T22:54:36.060Z"
   },
   {
    "duration": 24,
    "start_time": "2023-06-20T22:54:36.100Z"
   },
   {
    "duration": 7,
    "start_time": "2023-06-20T22:55:27.514Z"
   },
   {
    "duration": 254,
    "start_time": "2023-06-20T23:02:15.977Z"
   },
   {
    "duration": 14,
    "start_time": "2023-06-20T23:02:43.442Z"
   },
   {
    "duration": 15,
    "start_time": "2023-06-20T23:02:52.817Z"
   },
   {
    "duration": 9,
    "start_time": "2023-06-20T23:04:51.929Z"
   },
   {
    "duration": 25,
    "start_time": "2023-06-20T23:05:03.771Z"
   },
   {
    "duration": 53,
    "start_time": "2023-06-21T16:07:16.373Z"
   },
   {
    "duration": 1663,
    "start_time": "2023-06-21T16:07:21.648Z"
   },
   {
    "duration": 200,
    "start_time": "2023-06-21T16:07:23.314Z"
   },
   {
    "duration": 39,
    "start_time": "2023-06-21T16:07:23.516Z"
   },
   {
    "duration": 952,
    "start_time": "2023-06-21T16:07:23.558Z"
   },
   {
    "duration": 23,
    "start_time": "2023-06-21T16:07:24.513Z"
   },
   {
    "duration": 28,
    "start_time": "2023-06-21T16:07:24.553Z"
   },
   {
    "duration": 56,
    "start_time": "2023-06-21T16:07:24.593Z"
   },
   {
    "duration": 38,
    "start_time": "2023-06-21T16:07:24.651Z"
   },
   {
    "duration": 39,
    "start_time": "2023-06-21T16:07:24.692Z"
   },
   {
    "duration": 55,
    "start_time": "2023-06-21T16:07:24.736Z"
   },
   {
    "duration": 321,
    "start_time": "2023-06-21T16:07:24.794Z"
   },
   {
    "duration": 21,
    "start_time": "2023-06-21T16:07:25.117Z"
   },
   {
    "duration": 46,
    "start_time": "2023-06-21T16:07:25.141Z"
   },
   {
    "duration": 36,
    "start_time": "2023-06-21T16:07:25.190Z"
   },
   {
    "duration": 45,
    "start_time": "2023-06-21T16:07:25.229Z"
   },
   {
    "duration": 14,
    "start_time": "2023-06-21T16:12:14.304Z"
   },
   {
    "duration": 17,
    "start_time": "2023-06-21T16:13:57.122Z"
   },
   {
    "duration": 17,
    "start_time": "2023-06-21T16:22:11.103Z"
   },
   {
    "duration": 107,
    "start_time": "2023-06-21T16:41:44.870Z"
   },
   {
    "duration": 18,
    "start_time": "2023-06-21T16:41:55.822Z"
   },
   {
    "duration": 32,
    "start_time": "2023-06-21T16:42:47.293Z"
   },
   {
    "duration": 19,
    "start_time": "2023-06-21T16:43:07.183Z"
   },
   {
    "duration": 7,
    "start_time": "2023-06-21T16:44:04.680Z"
   },
   {
    "duration": 183,
    "start_time": "2023-06-21T16:45:01.512Z"
   },
   {
    "duration": 181,
    "start_time": "2023-06-21T16:45:22.103Z"
   },
   {
    "duration": 158,
    "start_time": "2023-06-21T16:45:31.426Z"
   },
   {
    "duration": 365,
    "start_time": "2023-06-21T16:53:16.268Z"
   },
   {
    "duration": 15,
    "start_time": "2023-06-21T17:21:27.031Z"
   },
   {
    "duration": 2988,
    "start_time": "2023-06-21T17:21:55.615Z"
   },
   {
    "duration": 3,
    "start_time": "2023-06-21T17:22:36.328Z"
   },
   {
    "duration": 2630,
    "start_time": "2023-06-21T17:22:43.743Z"
   },
   {
    "duration": 176,
    "start_time": "2023-06-21T17:22:56.830Z"
   },
   {
    "duration": 196,
    "start_time": "2023-06-21T17:23:04.982Z"
   },
   {
    "duration": 344,
    "start_time": "2023-06-21T17:23:56.584Z"
   },
   {
    "duration": 353,
    "start_time": "2023-06-21T17:24:15.571Z"
   },
   {
    "duration": 196,
    "start_time": "2023-06-21T17:24:30.931Z"
   },
   {
    "duration": 387,
    "start_time": "2023-06-21T17:25:49.940Z"
   },
   {
    "duration": 568,
    "start_time": "2023-06-21T17:26:31.548Z"
   },
   {
    "duration": 410,
    "start_time": "2023-06-21T17:26:42.562Z"
   },
   {
    "duration": 551,
    "start_time": "2023-06-21T17:27:35.328Z"
   },
   {
    "duration": 416,
    "start_time": "2023-06-21T17:27:52.393Z"
   },
   {
    "duration": 408,
    "start_time": "2023-06-21T17:29:46.084Z"
   },
   {
    "duration": 477,
    "start_time": "2023-06-21T17:30:48.836Z"
   },
   {
    "duration": 582,
    "start_time": "2023-06-21T17:31:07.884Z"
   },
   {
    "duration": 191,
    "start_time": "2023-06-21T17:31:11.853Z"
   },
   {
    "duration": 123,
    "start_time": "2023-06-21T18:13:02.980Z"
   },
   {
    "duration": 60,
    "start_time": "2023-06-21T18:13:11.750Z"
   },
   {
    "duration": 15,
    "start_time": "2023-06-21T18:13:31.308Z"
   },
   {
    "duration": 1167,
    "start_time": "2023-06-21T18:14:08.854Z"
   },
   {
    "duration": 20,
    "start_time": "2023-06-21T18:22:12.116Z"
   },
   {
    "duration": 19,
    "start_time": "2023-06-21T18:23:16.329Z"
   },
   {
    "duration": 409,
    "start_time": "2023-06-21T18:23:43.421Z"
   },
   {
    "duration": 207,
    "start_time": "2023-06-21T18:23:55.274Z"
   },
   {
    "duration": 18,
    "start_time": "2023-06-21T18:25:03.595Z"
   },
   {
    "duration": 3,
    "start_time": "2023-06-21T18:31:41.816Z"
   },
   {
    "duration": 5,
    "start_time": "2023-06-21T18:31:53.251Z"
   },
   {
    "duration": 46,
    "start_time": "2023-06-21T18:33:29.339Z"
   },
   {
    "duration": 19,
    "start_time": "2023-06-21T18:33:50.796Z"
   },
   {
    "duration": 16,
    "start_time": "2023-06-21T18:34:04.192Z"
   },
   {
    "duration": 374,
    "start_time": "2023-06-21T18:34:59.896Z"
   },
   {
    "duration": 100,
    "start_time": "2023-06-21T18:48:56.401Z"
   },
   {
    "duration": 122,
    "start_time": "2023-06-21T18:49:02.423Z"
   },
   {
    "duration": 19,
    "start_time": "2023-06-21T18:49:10.037Z"
   },
   {
    "duration": 22,
    "start_time": "2023-06-21T18:49:23.298Z"
   },
   {
    "duration": 590,
    "start_time": "2023-06-21T18:49:35.751Z"
   },
   {
    "duration": 345,
    "start_time": "2023-06-21T18:50:22.798Z"
   },
   {
    "duration": 247,
    "start_time": "2023-06-21T18:51:33.077Z"
   },
   {
    "duration": 294,
    "start_time": "2023-06-21T18:55:34.533Z"
   },
   {
    "duration": 7,
    "start_time": "2023-06-21T19:24:03.998Z"
   },
   {
    "duration": 16,
    "start_time": "2023-06-21T19:24:15.498Z"
   },
   {
    "duration": 18,
    "start_time": "2023-06-21T19:24:38.786Z"
   },
   {
    "duration": 19,
    "start_time": "2023-06-21T19:29:23.019Z"
   },
   {
    "duration": 16,
    "start_time": "2023-06-21T19:32:44.598Z"
   },
   {
    "duration": 19,
    "start_time": "2023-06-21T19:32:59.016Z"
   },
   {
    "duration": 12,
    "start_time": "2023-06-21T20:16:18.729Z"
   },
   {
    "duration": 3,
    "start_time": "2023-06-21T20:16:27.580Z"
   },
   {
    "duration": 61,
    "start_time": "2023-06-21T20:16:27.585Z"
   },
   {
    "duration": 33,
    "start_time": "2023-06-21T20:16:27.648Z"
   },
   {
    "duration": 913,
    "start_time": "2023-06-21T20:16:27.683Z"
   },
   {
    "duration": 16,
    "start_time": "2023-06-21T20:16:28.599Z"
   },
   {
    "duration": 15,
    "start_time": "2023-06-21T20:16:28.617Z"
   },
   {
    "duration": 48,
    "start_time": "2023-06-21T20:16:28.634Z"
   },
   {
    "duration": 18,
    "start_time": "2023-06-21T20:16:28.684Z"
   },
   {
    "duration": 24,
    "start_time": "2023-06-21T20:16:28.704Z"
   },
   {
    "duration": 46,
    "start_time": "2023-06-21T20:16:28.729Z"
   },
   {
    "duration": 7,
    "start_time": "2023-06-21T20:16:28.784Z"
   },
   {
    "duration": 11,
    "start_time": "2023-06-21T20:16:28.793Z"
   },
   {
    "duration": 11,
    "start_time": "2023-06-21T20:16:28.807Z"
   },
   {
    "duration": 18,
    "start_time": "2023-06-21T20:16:28.819Z"
   },
   {
    "duration": 32,
    "start_time": "2023-06-21T20:16:28.839Z"
   },
   {
    "duration": 25,
    "start_time": "2023-06-21T20:16:28.872Z"
   },
   {
    "duration": 17,
    "start_time": "2023-06-21T20:16:28.899Z"
   },
   {
    "duration": 437,
    "start_time": "2023-06-21T20:16:28.917Z"
   },
   {
    "duration": 200,
    "start_time": "2023-06-21T20:16:29.356Z"
   },
   {
    "duration": 35,
    "start_time": "2023-06-21T20:16:29.560Z"
   },
   {
    "duration": 27,
    "start_time": "2023-06-21T20:16:29.598Z"
   },
   {
    "duration": 373,
    "start_time": "2023-06-21T20:16:29.627Z"
   },
   {
    "duration": 7,
    "start_time": "2023-06-21T20:16:30.001Z"
   },
   {
    "duration": 78,
    "start_time": "2023-06-21T20:16:30.010Z"
   },
   {
    "duration": 24,
    "start_time": "2023-06-21T20:16:30.090Z"
   },
   {
    "duration": 74,
    "start_time": "2023-06-21T20:16:30.116Z"
   },
   {
    "duration": 21,
    "start_time": "2023-06-21T20:17:33.068Z"
   },
   {
    "duration": 16,
    "start_time": "2023-06-21T20:18:16.603Z"
   },
   {
    "duration": 30,
    "start_time": "2023-06-21T20:19:59.049Z"
   },
   {
    "duration": 9,
    "start_time": "2023-06-21T20:20:02.448Z"
   },
   {
    "duration": 107,
    "start_time": "2023-06-21T20:20:02.459Z"
   },
   {
    "duration": 43,
    "start_time": "2023-06-21T20:20:02.571Z"
   },
   {
    "duration": 892,
    "start_time": "2023-06-21T20:20:02.616Z"
   },
   {
    "duration": 18,
    "start_time": "2023-06-21T20:20:03.510Z"
   },
   {
    "duration": 43,
    "start_time": "2023-06-21T20:20:03.530Z"
   },
   {
    "duration": 48,
    "start_time": "2023-06-21T20:20:03.578Z"
   },
   {
    "duration": 18,
    "start_time": "2023-06-21T20:20:03.629Z"
   },
   {
    "duration": 64,
    "start_time": "2023-06-21T20:20:03.650Z"
   },
   {
    "duration": 32,
    "start_time": "2023-06-21T20:20:03.716Z"
   },
   {
    "duration": 17,
    "start_time": "2023-06-21T20:20:03.750Z"
   },
   {
    "duration": 57,
    "start_time": "2023-06-21T20:20:03.772Z"
   },
   {
    "duration": 20,
    "start_time": "2023-06-21T20:20:03.831Z"
   },
   {
    "duration": 56,
    "start_time": "2023-06-21T20:20:03.853Z"
   },
   {
    "duration": 25,
    "start_time": "2023-06-21T20:20:03.911Z"
   },
   {
    "duration": 41,
    "start_time": "2023-06-21T20:20:03.938Z"
   },
   {
    "duration": 40,
    "start_time": "2023-06-21T20:20:03.983Z"
   },
   {
    "duration": 440,
    "start_time": "2023-06-21T20:20:04.025Z"
   },
   {
    "duration": 195,
    "start_time": "2023-06-21T20:20:04.467Z"
   },
   {
    "duration": 31,
    "start_time": "2023-06-21T20:20:04.664Z"
   },
   {
    "duration": 28,
    "start_time": "2023-06-21T20:20:04.697Z"
   },
   {
    "duration": 263,
    "start_time": "2023-06-21T20:20:04.727Z"
   },
   {
    "duration": 8,
    "start_time": "2023-06-21T20:20:04.992Z"
   },
   {
    "duration": 43,
    "start_time": "2023-06-21T20:20:05.002Z"
   },
   {
    "duration": 23,
    "start_time": "2023-06-21T20:20:05.047Z"
   },
   {
    "duration": 36,
    "start_time": "2023-06-21T20:20:05.075Z"
   },
   {
    "duration": 15,
    "start_time": "2023-06-21T20:21:33.086Z"
   },
   {
    "duration": 1274,
    "start_time": "2023-06-21T21:35:17.916Z"
   },
   {
    "duration": 57,
    "start_time": "2023-06-21T21:35:19.192Z"
   },
   {
    "duration": 46,
    "start_time": "2023-06-21T21:35:19.251Z"
   },
   {
    "duration": 891,
    "start_time": "2023-06-21T21:35:19.299Z"
   },
   {
    "duration": 15,
    "start_time": "2023-06-21T21:35:20.191Z"
   },
   {
    "duration": 13,
    "start_time": "2023-06-21T21:35:20.208Z"
   },
   {
    "duration": 50,
    "start_time": "2023-06-21T21:35:20.223Z"
   },
   {
    "duration": 26,
    "start_time": "2023-06-21T21:35:20.282Z"
   },
   {
    "duration": 36,
    "start_time": "2023-06-21T21:35:20.310Z"
   },
   {
    "duration": 40,
    "start_time": "2023-06-21T21:35:20.350Z"
   },
   {
    "duration": 9,
    "start_time": "2023-06-21T21:35:20.393Z"
   },
   {
    "duration": 13,
    "start_time": "2023-06-21T21:35:20.404Z"
   },
   {
    "duration": 7,
    "start_time": "2023-06-21T21:35:20.419Z"
   },
   {
    "duration": 43,
    "start_time": "2023-06-21T21:35:20.428Z"
   },
   {
    "duration": 39,
    "start_time": "2023-06-21T21:35:20.472Z"
   },
   {
    "duration": 45,
    "start_time": "2023-06-21T21:35:20.513Z"
   },
   {
    "duration": 147,
    "start_time": "2023-06-21T21:35:20.560Z"
   },
   {
    "duration": 451,
    "start_time": "2023-06-21T21:35:20.710Z"
   },
   {
    "duration": 197,
    "start_time": "2023-06-21T21:35:21.169Z"
   },
   {
    "duration": 26,
    "start_time": "2023-06-21T21:35:21.369Z"
   },
   {
    "duration": 17,
    "start_time": "2023-06-21T21:35:21.397Z"
   },
   {
    "duration": 283,
    "start_time": "2023-06-21T21:35:21.416Z"
   },
   {
    "duration": 8,
    "start_time": "2023-06-21T21:35:21.701Z"
   },
   {
    "duration": 63,
    "start_time": "2023-06-21T21:35:21.710Z"
   },
   {
    "duration": 43,
    "start_time": "2023-06-21T21:35:21.774Z"
   },
   {
    "duration": 144,
    "start_time": "2023-06-21T21:35:21.819Z"
   },
   {
    "duration": 11,
    "start_time": "2023-06-21T21:38:16.714Z"
   },
   {
    "duration": 36,
    "start_time": "2023-06-21T21:38:20.456Z"
   },
   {
    "duration": 1298,
    "start_time": "2023-06-21T21:38:42.911Z"
   },
   {
    "duration": 68,
    "start_time": "2023-06-21T21:38:44.211Z"
   },
   {
    "duration": 37,
    "start_time": "2023-06-21T21:38:44.288Z"
   },
   {
    "duration": 930,
    "start_time": "2023-06-21T21:38:44.327Z"
   },
   {
    "duration": 21,
    "start_time": "2023-06-21T21:38:45.259Z"
   },
   {
    "duration": 35,
    "start_time": "2023-06-21T21:38:45.284Z"
   },
   {
    "duration": 29,
    "start_time": "2023-06-21T21:38:45.321Z"
   },
   {
    "duration": 29,
    "start_time": "2023-06-21T21:38:45.354Z"
   },
   {
    "duration": 57,
    "start_time": "2023-06-21T21:38:45.385Z"
   },
   {
    "duration": 37,
    "start_time": "2023-06-21T21:38:45.443Z"
   },
   {
    "duration": 43,
    "start_time": "2023-06-21T21:38:45.483Z"
   },
   {
    "duration": 9,
    "start_time": "2023-06-21T21:38:45.527Z"
   },
   {
    "duration": 9,
    "start_time": "2023-06-21T21:38:45.537Z"
   },
   {
    "duration": 54,
    "start_time": "2023-06-21T21:38:45.549Z"
   },
   {
    "duration": 29,
    "start_time": "2023-06-21T21:38:45.604Z"
   },
   {
    "duration": 24,
    "start_time": "2023-06-21T21:38:45.635Z"
   },
   {
    "duration": 25,
    "start_time": "2023-06-21T21:38:45.670Z"
   },
   {
    "duration": 457,
    "start_time": "2023-06-21T21:38:45.697Z"
   },
   {
    "duration": 203,
    "start_time": "2023-06-21T21:38:46.156Z"
   },
   {
    "duration": 22,
    "start_time": "2023-06-21T21:38:46.365Z"
   },
   {
    "duration": 48,
    "start_time": "2023-06-21T21:38:46.389Z"
   },
   {
    "duration": 263,
    "start_time": "2023-06-21T21:38:46.439Z"
   },
   {
    "duration": 7,
    "start_time": "2023-06-21T21:38:46.704Z"
   },
   {
    "duration": 37,
    "start_time": "2023-06-21T21:38:46.713Z"
   },
   {
    "duration": 21,
    "start_time": "2023-06-21T21:38:46.758Z"
   },
   {
    "duration": 619,
    "start_time": "2023-06-21T21:38:46.780Z"
   },
   {
    "duration": 20,
    "start_time": "2023-06-21T21:39:07.597Z"
   },
   {
    "duration": 334,
    "start_time": "2023-06-21T21:40:33.792Z"
   },
   {
    "duration": 155,
    "start_time": "2023-06-21T22:00:40.939Z"
   },
   {
    "duration": 26,
    "start_time": "2023-06-21T22:02:18.615Z"
   },
   {
    "duration": 21,
    "start_time": "2023-06-21T22:03:25.122Z"
   },
   {
    "duration": 13,
    "start_time": "2023-06-21T22:04:52.835Z"
   },
   {
    "duration": 21,
    "start_time": "2023-06-21T22:05:15.000Z"
   },
   {
    "duration": 20,
    "start_time": "2023-06-21T22:06:21.041Z"
   },
   {
    "duration": 18,
    "start_time": "2023-06-21T22:06:46.286Z"
   },
   {
    "duration": 37,
    "start_time": "2023-06-21T22:08:03.813Z"
   },
   {
    "duration": 483,
    "start_time": "2023-06-21T22:09:45.346Z"
   },
   {
    "duration": 14,
    "start_time": "2023-06-21T22:10:23.696Z"
   },
   {
    "duration": 9,
    "start_time": "2023-06-21T22:10:29.038Z"
   },
   {
    "duration": 8,
    "start_time": "2023-06-21T22:21:42.801Z"
   },
   {
    "duration": 4,
    "start_time": "2023-06-21T22:21:46.638Z"
   },
   {
    "duration": 84,
    "start_time": "2023-06-21T22:21:46.644Z"
   },
   {
    "duration": 34,
    "start_time": "2023-06-21T22:21:46.730Z"
   },
   {
    "duration": 843,
    "start_time": "2023-06-21T22:21:46.775Z"
   },
   {
    "duration": 16,
    "start_time": "2023-06-21T22:21:47.621Z"
   },
   {
    "duration": 35,
    "start_time": "2023-06-21T22:21:47.638Z"
   },
   {
    "duration": 20,
    "start_time": "2023-06-21T22:21:47.682Z"
   },
   {
    "duration": 15,
    "start_time": "2023-06-21T22:21:47.704Z"
   },
   {
    "duration": 37,
    "start_time": "2023-06-21T22:21:47.720Z"
   },
   {
    "duration": 36,
    "start_time": "2023-06-21T22:21:47.758Z"
   },
   {
    "duration": 8,
    "start_time": "2023-06-21T22:21:47.795Z"
   },
   {
    "duration": 27,
    "start_time": "2023-06-21T22:21:47.805Z"
   },
   {
    "duration": 13,
    "start_time": "2023-06-21T22:21:47.835Z"
   },
   {
    "duration": 35,
    "start_time": "2023-06-21T22:21:47.850Z"
   },
   {
    "duration": 11,
    "start_time": "2023-06-21T22:21:47.887Z"
   },
   {
    "duration": 31,
    "start_time": "2023-06-21T22:21:47.900Z"
   },
   {
    "duration": 26,
    "start_time": "2023-06-21T22:21:47.933Z"
   },
   {
    "duration": 22,
    "start_time": "2023-06-21T22:21:47.969Z"
   },
   {
    "duration": 410,
    "start_time": "2023-06-21T22:21:47.993Z"
   },
   {
    "duration": 384,
    "start_time": "2023-06-21T22:21:48.406Z"
   },
   {
    "duration": 17,
    "start_time": "2023-06-21T22:21:48.792Z"
   },
   {
    "duration": 21,
    "start_time": "2023-06-21T22:21:48.810Z"
   },
   {
    "duration": 254,
    "start_time": "2023-06-21T22:21:48.833Z"
   },
   {
    "duration": 8,
    "start_time": "2023-06-21T22:21:49.090Z"
   },
   {
    "duration": 21,
    "start_time": "2023-06-21T22:21:49.100Z"
   },
   {
    "duration": 12,
    "start_time": "2023-06-21T22:21:49.123Z"
   },
   {
    "duration": 377,
    "start_time": "2023-06-21T22:21:49.137Z"
   },
   {
    "duration": 15,
    "start_time": "2023-06-21T22:21:49.516Z"
   },
   {
    "duration": 72,
    "start_time": "2023-06-21T22:21:49.533Z"
   },
   {
    "duration": 908,
    "start_time": "2023-06-21T22:21:49.607Z"
   },
   {
    "duration": 4,
    "start_time": "2023-06-21T22:23:26.838Z"
   },
   {
    "duration": 75,
    "start_time": "2023-06-21T22:23:26.844Z"
   },
   {
    "duration": 31,
    "start_time": "2023-06-21T22:23:26.921Z"
   },
   {
    "duration": 885,
    "start_time": "2023-06-21T22:23:26.954Z"
   },
   {
    "duration": 40,
    "start_time": "2023-06-21T22:23:27.841Z"
   },
   {
    "duration": 16,
    "start_time": "2023-06-21T22:23:27.885Z"
   },
   {
    "duration": 24,
    "start_time": "2023-06-21T22:23:27.903Z"
   },
   {
    "duration": 9,
    "start_time": "2023-06-21T22:23:27.929Z"
   },
   {
    "duration": 30,
    "start_time": "2023-06-21T22:23:27.941Z"
   },
   {
    "duration": 45,
    "start_time": "2023-06-21T22:23:27.973Z"
   },
   {
    "duration": 166,
    "start_time": "2023-06-21T22:23:28.020Z"
   },
   {
    "duration": 13,
    "start_time": "2023-06-21T22:23:28.188Z"
   },
   {
    "duration": 20,
    "start_time": "2023-06-21T22:23:28.202Z"
   },
   {
    "duration": 14,
    "start_time": "2023-06-21T22:23:28.224Z"
   },
   {
    "duration": 31,
    "start_time": "2023-06-21T22:23:28.241Z"
   },
   {
    "duration": 44,
    "start_time": "2023-06-21T22:23:28.276Z"
   },
   {
    "duration": 21,
    "start_time": "2023-06-21T22:23:28.322Z"
   },
   {
    "duration": 44,
    "start_time": "2023-06-21T22:23:28.346Z"
   },
   {
    "duration": 508,
    "start_time": "2023-06-21T22:23:28.392Z"
   },
   {
    "duration": 210,
    "start_time": "2023-06-21T22:23:28.902Z"
   },
   {
    "duration": 18,
    "start_time": "2023-06-21T22:23:29.114Z"
   },
   {
    "duration": 41,
    "start_time": "2023-06-21T22:23:29.134Z"
   },
   {
    "duration": 244,
    "start_time": "2023-06-21T22:23:29.183Z"
   },
   {
    "duration": 8,
    "start_time": "2023-06-21T22:23:29.430Z"
   },
   {
    "duration": 50,
    "start_time": "2023-06-21T22:23:29.440Z"
   },
   {
    "duration": 18,
    "start_time": "2023-06-21T22:23:29.492Z"
   },
   {
    "duration": 315,
    "start_time": "2023-06-21T22:23:29.512Z"
   },
   {
    "duration": 13,
    "start_time": "2023-06-21T22:23:29.830Z"
   },
   {
    "duration": 49,
    "start_time": "2023-06-21T22:23:29.844Z"
   },
   {
    "duration": 838,
    "start_time": "2023-06-21T22:23:29.895Z"
   },
   {
    "duration": 893,
    "start_time": "2023-06-21T22:23:46.768Z"
   },
   {
    "duration": 21,
    "start_time": "2023-06-21T22:25:32.045Z"
   },
   {
    "duration": 739,
    "start_time": "2023-06-21T22:29:43.398Z"
   },
   {
    "duration": 20,
    "start_time": "2023-06-21T22:30:08.426Z"
   },
   {
    "duration": 813,
    "start_time": "2023-06-21T22:30:15.935Z"
   },
   {
    "duration": 105,
    "start_time": "2023-06-21T22:31:37.111Z"
   },
   {
    "duration": 99,
    "start_time": "2023-06-21T22:31:56.928Z"
   },
   {
    "duration": 158,
    "start_time": "2023-06-21T22:32:14.409Z"
   },
   {
    "duration": 877,
    "start_time": "2023-06-21T22:32:22.004Z"
   },
   {
    "duration": 772,
    "start_time": "2023-06-21T22:34:01.095Z"
   },
   {
    "duration": 910,
    "start_time": "2023-06-21T22:34:51.936Z"
   },
   {
    "duration": 16,
    "start_time": "2023-06-21T22:40:56.835Z"
   },
   {
    "duration": 122,
    "start_time": "2023-06-21T22:43:45.497Z"
   },
   {
    "duration": 201,
    "start_time": "2023-06-21T22:43:52.680Z"
   },
   {
    "duration": 18,
    "start_time": "2023-06-21T22:44:51.411Z"
   },
   {
    "duration": 22,
    "start_time": "2023-06-21T22:45:02.628Z"
   },
   {
    "duration": 199,
    "start_time": "2023-06-21T22:45:17.920Z"
   },
   {
    "duration": 330,
    "start_time": "2023-06-21T22:45:44.633Z"
   },
   {
    "duration": 23,
    "start_time": "2023-06-21T22:46:06.726Z"
   },
   {
    "duration": 204,
    "start_time": "2023-06-21T22:46:43.332Z"
   },
   {
    "duration": 20,
    "start_time": "2023-06-21T22:47:54.548Z"
   },
   {
    "duration": 116,
    "start_time": "2023-06-21T22:53:03.757Z"
   },
   {
    "duration": 63,
    "start_time": "2023-06-22T16:56:06.496Z"
   },
   {
    "duration": 1548,
    "start_time": "2023-06-22T16:56:12.449Z"
   },
   {
    "duration": 230,
    "start_time": "2023-06-22T16:56:14.000Z"
   },
   {
    "duration": 49,
    "start_time": "2023-06-22T16:56:14.233Z"
   },
   {
    "duration": 966,
    "start_time": "2023-06-22T16:56:14.284Z"
   },
   {
    "duration": 14,
    "start_time": "2023-06-22T16:56:15.253Z"
   },
   {
    "duration": 16,
    "start_time": "2023-06-22T16:56:15.268Z"
   },
   {
    "duration": 65,
    "start_time": "2023-06-22T16:56:15.285Z"
   },
   {
    "duration": 24,
    "start_time": "2023-06-22T16:56:15.354Z"
   },
   {
    "duration": 61,
    "start_time": "2023-06-22T16:56:15.379Z"
   },
   {
    "duration": 29,
    "start_time": "2023-06-22T16:56:15.443Z"
   },
   {
    "duration": 44,
    "start_time": "2023-06-22T16:56:15.473Z"
   },
   {
    "duration": 31,
    "start_time": "2023-06-22T16:56:15.519Z"
   },
   {
    "duration": 31,
    "start_time": "2023-06-22T16:56:15.552Z"
   },
   {
    "duration": 75,
    "start_time": "2023-06-22T16:56:15.586Z"
   },
   {
    "duration": 38,
    "start_time": "2023-06-22T16:56:15.663Z"
   },
   {
    "duration": 31,
    "start_time": "2023-06-22T16:56:15.703Z"
   },
   {
    "duration": 25,
    "start_time": "2023-06-22T16:56:15.743Z"
   },
   {
    "duration": 28,
    "start_time": "2023-06-22T16:56:15.771Z"
   },
   {
    "duration": 473,
    "start_time": "2023-06-22T16:56:15.801Z"
   },
   {
    "duration": 287,
    "start_time": "2023-06-22T16:56:16.276Z"
   },
   {
    "duration": 16,
    "start_time": "2023-06-22T16:56:16.565Z"
   },
   {
    "duration": 43,
    "start_time": "2023-06-22T16:56:16.583Z"
   },
   {
    "duration": 269,
    "start_time": "2023-06-22T16:56:16.629Z"
   },
   {
    "duration": 18,
    "start_time": "2023-06-22T16:56:16.900Z"
   },
   {
    "duration": 26,
    "start_time": "2023-06-22T16:56:16.919Z"
   },
   {
    "duration": 15,
    "start_time": "2023-06-22T16:56:16.946Z"
   },
   {
    "duration": 426,
    "start_time": "2023-06-22T16:56:16.963Z"
   },
   {
    "duration": 1066,
    "start_time": "2023-06-22T16:56:17.391Z"
   },
   {
    "duration": 909,
    "start_time": "2023-06-22T16:56:18.467Z"
   },
   {
    "duration": 1117,
    "start_time": "2023-06-22T16:56:19.378Z"
   },
   {
    "duration": 41,
    "start_time": "2023-06-22T16:56:20.497Z"
   },
   {
    "duration": 143,
    "start_time": "2023-06-22T16:56:20.547Z"
   },
   {
    "duration": 1110,
    "start_time": "2023-06-22T16:56:40.977Z"
   },
   {
    "duration": 61,
    "start_time": "2023-06-22T16:56:42.089Z"
   },
   {
    "duration": 30,
    "start_time": "2023-06-22T16:56:42.152Z"
   },
   {
    "duration": 842,
    "start_time": "2023-06-22T16:56:42.184Z"
   },
   {
    "duration": 25,
    "start_time": "2023-06-22T16:56:43.029Z"
   },
   {
    "duration": 25,
    "start_time": "2023-06-22T16:56:43.056Z"
   },
   {
    "duration": 40,
    "start_time": "2023-06-22T16:56:43.082Z"
   },
   {
    "duration": 13,
    "start_time": "2023-06-22T16:56:43.127Z"
   },
   {
    "duration": 25,
    "start_time": "2023-06-22T16:56:43.141Z"
   },
   {
    "duration": 34,
    "start_time": "2023-06-22T16:56:43.169Z"
   },
   {
    "duration": 43,
    "start_time": "2023-06-22T16:56:43.205Z"
   },
   {
    "duration": 7,
    "start_time": "2023-06-22T16:56:43.250Z"
   },
   {
    "duration": 16,
    "start_time": "2023-06-22T16:56:43.259Z"
   },
   {
    "duration": 11,
    "start_time": "2023-06-22T16:56:43.278Z"
   },
   {
    "duration": 35,
    "start_time": "2023-06-22T16:56:43.291Z"
   },
   {
    "duration": 33,
    "start_time": "2023-06-22T16:56:43.328Z"
   },
   {
    "duration": 19,
    "start_time": "2023-06-22T16:56:43.363Z"
   },
   {
    "duration": 41,
    "start_time": "2023-06-22T16:56:43.384Z"
   },
   {
    "duration": 491,
    "start_time": "2023-06-22T16:56:43.436Z"
   },
   {
    "duration": 195,
    "start_time": "2023-06-22T16:56:43.929Z"
   },
   {
    "duration": 23,
    "start_time": "2023-06-22T16:56:44.130Z"
   },
   {
    "duration": 18,
    "start_time": "2023-06-22T16:56:44.155Z"
   },
   {
    "duration": 266,
    "start_time": "2023-06-22T16:56:44.175Z"
   },
   {
    "duration": 8,
    "start_time": "2023-06-22T16:56:44.442Z"
   },
   {
    "duration": 19,
    "start_time": "2023-06-22T16:56:44.451Z"
   },
   {
    "duration": 12,
    "start_time": "2023-06-22T16:56:44.472Z"
   },
   {
    "duration": 419,
    "start_time": "2023-06-22T16:56:44.486Z"
   },
   {
    "duration": 872,
    "start_time": "2023-06-22T16:56:44.907Z"
   },
   {
    "duration": 713,
    "start_time": "2023-06-22T16:56:45.781Z"
   },
   {
    "duration": 874,
    "start_time": "2023-06-22T16:56:46.495Z"
   },
   {
    "duration": 15,
    "start_time": "2023-06-22T16:56:47.372Z"
   },
   {
    "duration": 156,
    "start_time": "2023-06-22T16:56:47.389Z"
   },
   {
    "duration": 16,
    "start_time": "2023-06-22T16:57:11.534Z"
   },
   {
    "duration": 15,
    "start_time": "2023-06-22T16:58:16.844Z"
   },
   {
    "duration": 19,
    "start_time": "2023-06-22T16:59:18.711Z"
   },
   {
    "duration": 11,
    "start_time": "2023-06-22T17:08:39.146Z"
   },
   {
    "duration": 21,
    "start_time": "2023-06-22T17:09:14.542Z"
   },
   {
    "duration": 18,
    "start_time": "2023-06-22T17:11:59.956Z"
   },
   {
    "duration": 14,
    "start_time": "2023-06-22T17:12:34.950Z"
   },
   {
    "duration": 18,
    "start_time": "2023-06-22T17:16:46.764Z"
   },
   {
    "duration": 9,
    "start_time": "2023-06-22T17:26:24.358Z"
   },
   {
    "duration": 13,
    "start_time": "2023-06-22T17:26:34.691Z"
   },
   {
    "duration": 214,
    "start_time": "2023-06-22T17:26:37.154Z"
   },
   {
    "duration": 209,
    "start_time": "2023-06-22T17:28:00.855Z"
   },
   {
    "duration": 192,
    "start_time": "2023-06-22T17:29:11.267Z"
   },
   {
    "duration": 204,
    "start_time": "2023-06-22T17:29:22.778Z"
   },
   {
    "duration": 214,
    "start_time": "2023-06-22T17:31:08.752Z"
   },
   {
    "duration": 187,
    "start_time": "2023-06-22T17:33:00.366Z"
   },
   {
    "duration": 229,
    "start_time": "2023-06-22T17:35:59.408Z"
   },
   {
    "duration": 177,
    "start_time": "2023-06-22T17:36:07.050Z"
   },
   {
    "duration": 11,
    "start_time": "2023-06-22T17:37:26.676Z"
   },
   {
    "duration": 20,
    "start_time": "2023-06-22T17:37:39.674Z"
   },
   {
    "duration": 193,
    "start_time": "2023-06-22T17:37:41.740Z"
   },
   {
    "duration": 15,
    "start_time": "2023-06-22T17:37:50.842Z"
   },
   {
    "duration": 221,
    "start_time": "2023-06-22T17:38:29.605Z"
   },
   {
    "duration": 283,
    "start_time": "2023-06-22T17:39:58.130Z"
   },
   {
    "duration": 21,
    "start_time": "2023-06-22T17:41:33.029Z"
   },
   {
    "duration": 19,
    "start_time": "2023-06-22T17:42:33.165Z"
   },
   {
    "duration": 21,
    "start_time": "2023-06-22T17:43:08.443Z"
   },
   {
    "duration": 15,
    "start_time": "2023-06-22T17:54:28.063Z"
   },
   {
    "duration": 17,
    "start_time": "2023-06-22T17:54:48.655Z"
   },
   {
    "duration": 18,
    "start_time": "2023-06-22T17:55:26.538Z"
   },
   {
    "duration": 7,
    "start_time": "2023-06-22T18:15:53.110Z"
   },
   {
    "duration": 10,
    "start_time": "2023-06-22T18:16:23.348Z"
   },
   {
    "duration": 16,
    "start_time": "2023-06-22T18:16:43.827Z"
   },
   {
    "duration": 12,
    "start_time": "2023-06-22T18:17:05.739Z"
   },
   {
    "duration": 5,
    "start_time": "2023-06-22T18:21:14.393Z"
   },
   {
    "duration": 13,
    "start_time": "2023-06-22T18:51:43.632Z"
   },
   {
    "duration": 12,
    "start_time": "2023-06-22T18:52:12.963Z"
   },
   {
    "duration": 6,
    "start_time": "2023-06-22T18:55:21.260Z"
   },
   {
    "duration": 2479,
    "start_time": "2023-06-23T16:33:27.064Z"
   },
   {
    "duration": 313,
    "start_time": "2023-06-23T16:33:29.545Z"
   },
   {
    "duration": 73,
    "start_time": "2023-06-23T16:33:29.860Z"
   },
   {
    "duration": 1315,
    "start_time": "2023-06-23T16:33:29.937Z"
   },
   {
    "duration": 40,
    "start_time": "2023-06-23T16:33:31.259Z"
   },
   {
    "duration": 140,
    "start_time": "2023-06-23T16:33:31.315Z"
   },
   {
    "duration": 185,
    "start_time": "2023-06-23T16:33:31.458Z"
   },
   {
    "duration": 74,
    "start_time": "2023-06-23T16:33:31.647Z"
   },
   {
    "duration": 170,
    "start_time": "2023-06-23T16:33:31.723Z"
   },
   {
    "duration": 190,
    "start_time": "2023-06-23T16:33:31.895Z"
   },
   {
    "duration": 157,
    "start_time": "2023-06-23T16:33:32.087Z"
   },
   {
    "duration": 87,
    "start_time": "2023-06-23T16:33:32.248Z"
   },
   {
    "duration": 134,
    "start_time": "2023-06-23T16:33:32.337Z"
   },
   {
    "duration": 205,
    "start_time": "2023-06-23T16:33:32.476Z"
   },
   {
    "duration": 42,
    "start_time": "2023-06-23T16:33:32.682Z"
   },
   {
    "duration": 80,
    "start_time": "2023-06-23T16:33:32.727Z"
   },
   {
    "duration": 65,
    "start_time": "2023-06-23T16:33:32.809Z"
   },
   {
    "duration": 58,
    "start_time": "2023-06-23T16:33:32.880Z"
   },
   {
    "duration": 630,
    "start_time": "2023-06-23T16:33:32.944Z"
   },
   {
    "duration": 270,
    "start_time": "2023-06-23T16:33:33.580Z"
   },
   {
    "duration": 25,
    "start_time": "2023-06-23T16:33:33.855Z"
   },
   {
    "duration": 127,
    "start_time": "2023-06-23T16:33:33.886Z"
   },
   {
    "duration": 368,
    "start_time": "2023-06-23T16:33:34.019Z"
   },
   {
    "duration": 10,
    "start_time": "2023-06-23T16:33:34.393Z"
   },
   {
    "duration": 91,
    "start_time": "2023-06-23T16:33:34.408Z"
   },
   {
    "duration": 96,
    "start_time": "2023-06-23T16:33:34.501Z"
   },
   {
    "duration": 731,
    "start_time": "2023-06-23T16:33:34.599Z"
   },
   {
    "duration": 1233,
    "start_time": "2023-06-23T16:33:35.336Z"
   },
   {
    "duration": 1113,
    "start_time": "2023-06-23T16:33:36.581Z"
   },
   {
    "duration": 1505,
    "start_time": "2023-06-23T16:33:37.700Z"
   },
   {
    "duration": 43,
    "start_time": "2023-06-23T16:33:39.211Z"
   },
   {
    "duration": 206,
    "start_time": "2023-06-23T16:33:39.261Z"
   },
   {
    "duration": 206,
    "start_time": "2023-06-23T16:33:39.480Z"
   },
   {
    "duration": 251,
    "start_time": "2023-06-23T16:33:39.699Z"
   },
   {
    "duration": 211,
    "start_time": "2023-06-23T16:33:39.958Z"
   },
   {
    "duration": 369,
    "start_time": "2023-06-23T16:33:40.175Z"
   },
   {
    "duration": 24,
    "start_time": "2023-06-23T16:33:40.553Z"
   },
   {
    "duration": 355,
    "start_time": "2023-06-23T16:33:40.583Z"
   },
   {
    "duration": 23,
    "start_time": "2023-06-23T16:33:40.944Z"
   },
   {
    "duration": 234,
    "start_time": "2023-06-23T16:33:40.973Z"
   },
   {
    "duration": 21,
    "start_time": "2023-06-23T16:33:41.218Z"
   },
   {
    "duration": 91,
    "start_time": "2023-06-23T16:33:41.244Z"
   },
   {
    "duration": 116,
    "start_time": "2023-06-23T16:33:41.341Z"
   },
   {
    "duration": 105,
    "start_time": "2023-06-23T16:33:41.464Z"
   },
   {
    "duration": 249,
    "start_time": "2023-06-23T16:33:41.574Z"
   },
   {
    "duration": 127,
    "start_time": "2023-06-23T16:33:41.832Z"
   },
   {
    "duration": 77,
    "start_time": "2023-06-23T16:33:41.962Z"
   },
   {
    "duration": 79,
    "start_time": "2023-06-23T16:33:42.045Z"
   },
   {
    "duration": 117,
    "start_time": "2023-06-23T16:33:42.143Z"
   },
   {
    "duration": 70,
    "start_time": "2023-06-23T16:33:42.274Z"
   },
   {
    "duration": 64,
    "start_time": "2023-06-23T16:33:42.350Z"
   },
   {
    "duration": 69,
    "start_time": "2023-06-23T16:33:42.426Z"
   },
   {
    "duration": 51,
    "start_time": "2023-06-23T17:24:41.064Z"
   },
   {
    "duration": 1416,
    "start_time": "2023-06-23T17:24:44.915Z"
   },
   {
    "duration": 439,
    "start_time": "2023-06-23T17:24:46.332Z"
   },
   {
    "duration": 37,
    "start_time": "2023-06-23T17:24:46.774Z"
   },
   {
    "duration": 834,
    "start_time": "2023-06-23T17:24:46.813Z"
   },
   {
    "duration": 19,
    "start_time": "2023-06-23T17:24:47.649Z"
   },
   {
    "duration": 16,
    "start_time": "2023-06-23T17:24:47.671Z"
   },
   {
    "duration": 19,
    "start_time": "2023-06-23T17:24:47.689Z"
   },
   {
    "duration": 8,
    "start_time": "2023-06-23T17:24:47.710Z"
   },
   {
    "duration": 16,
    "start_time": "2023-06-23T17:24:47.719Z"
   },
   {
    "duration": 26,
    "start_time": "2023-06-23T17:24:47.770Z"
   },
   {
    "duration": 23,
    "start_time": "2023-06-23T17:24:47.798Z"
   },
   {
    "duration": 21,
    "start_time": "2023-06-23T17:24:47.823Z"
   },
   {
    "duration": 29,
    "start_time": "2023-06-23T17:24:47.845Z"
   },
   {
    "duration": 19,
    "start_time": "2023-06-23T17:24:47.877Z"
   },
   {
    "duration": 31,
    "start_time": "2023-06-23T17:24:47.898Z"
   },
   {
    "duration": 22,
    "start_time": "2023-06-23T17:24:47.930Z"
   },
   {
    "duration": 20,
    "start_time": "2023-06-23T17:24:47.954Z"
   },
   {
    "duration": 17,
    "start_time": "2023-06-23T17:24:47.976Z"
   },
   {
    "duration": 17,
    "start_time": "2023-06-23T17:24:47.995Z"
   },
   {
    "duration": 408,
    "start_time": "2023-06-23T17:24:48.013Z"
   },
   {
    "duration": 189,
    "start_time": "2023-06-23T17:24:48.423Z"
   },
   {
    "duration": 15,
    "start_time": "2023-06-23T17:24:48.614Z"
   },
   {
    "duration": 33,
    "start_time": "2023-06-23T17:24:48.630Z"
   },
   {
    "duration": 245,
    "start_time": "2023-06-23T17:24:48.664Z"
   },
   {
    "duration": 7,
    "start_time": "2023-06-23T17:24:48.910Z"
   },
   {
    "duration": 15,
    "start_time": "2023-06-23T17:24:48.918Z"
   },
   {
    "duration": 11,
    "start_time": "2023-06-23T17:24:48.934Z"
   },
   {
    "duration": 373,
    "start_time": "2023-06-23T17:24:48.948Z"
   },
   {
    "duration": 689,
    "start_time": "2023-06-23T17:24:49.323Z"
   },
   {
    "duration": 693,
    "start_time": "2023-06-23T17:24:50.013Z"
   },
   {
    "duration": 840,
    "start_time": "2023-06-23T17:24:50.707Z"
   },
   {
    "duration": 21,
    "start_time": "2023-06-23T17:24:51.549Z"
   },
   {
    "duration": 36,
    "start_time": "2023-06-23T17:24:51.573Z"
   },
   {
    "duration": 19,
    "start_time": "2023-06-23T17:24:51.611Z"
   },
   {
    "duration": 33,
    "start_time": "2023-06-23T17:24:51.632Z"
   },
   {
    "duration": 29,
    "start_time": "2023-06-23T17:24:51.666Z"
   },
   {
    "duration": 160,
    "start_time": "2023-06-23T17:24:51.697Z"
   },
   {
    "duration": 23,
    "start_time": "2023-06-23T17:24:51.859Z"
   },
   {
    "duration": 170,
    "start_time": "2023-06-23T17:24:51.884Z"
   },
   {
    "duration": 28,
    "start_time": "2023-06-23T17:24:52.056Z"
   },
   {
    "duration": 157,
    "start_time": "2023-06-23T17:24:52.087Z"
   },
   {
    "duration": 31,
    "start_time": "2023-06-23T17:24:52.246Z"
   },
   {
    "duration": 20,
    "start_time": "2023-06-23T17:24:52.280Z"
   },
   {
    "duration": 33,
    "start_time": "2023-06-23T17:24:52.302Z"
   },
   {
    "duration": 33,
    "start_time": "2023-06-23T17:24:52.337Z"
   },
   {
    "duration": 27,
    "start_time": "2023-06-23T17:24:52.372Z"
   },
   {
    "duration": 20,
    "start_time": "2023-06-23T17:24:52.402Z"
   },
   {
    "duration": 32,
    "start_time": "2023-06-23T17:24:52.423Z"
   },
   {
    "duration": 10,
    "start_time": "2023-06-23T17:24:52.456Z"
   },
   {
    "duration": 10,
    "start_time": "2023-06-23T17:24:52.471Z"
   },
   {
    "duration": 17,
    "start_time": "2023-06-23T17:24:52.484Z"
   },
   {
    "duration": 9,
    "start_time": "2023-06-23T17:24:52.503Z"
   },
   {
    "duration": 19,
    "start_time": "2023-06-23T17:24:52.513Z"
   },
   {
    "duration": 17,
    "start_time": "2023-06-23T17:25:26.543Z"
   },
   {
    "duration": 21,
    "start_time": "2023-06-23T17:26:12.456Z"
   },
   {
    "duration": 69,
    "start_time": "2023-06-23T17:29:37.748Z"
   },
   {
    "duration": 86,
    "start_time": "2023-06-23T17:29:42.923Z"
   },
   {
    "duration": 76,
    "start_time": "2023-06-23T17:29:48.470Z"
   },
   {
    "duration": 19,
    "start_time": "2023-06-23T17:30:26.130Z"
   },
   {
    "duration": 21,
    "start_time": "2023-06-23T17:30:36.117Z"
   },
   {
    "duration": 473,
    "start_time": "2023-06-23T17:30:56.034Z"
   },
   {
    "duration": 380,
    "start_time": "2023-06-23T17:31:05.964Z"
   },
   {
    "duration": 23,
    "start_time": "2023-06-23T17:31:15.093Z"
   },
   {
    "duration": 25,
    "start_time": "2023-06-23T17:32:00.748Z"
   },
   {
    "duration": 17,
    "start_time": "2023-06-23T17:32:10.211Z"
   },
   {
    "duration": 22,
    "start_time": "2023-06-23T17:32:50.533Z"
   },
   {
    "duration": 18,
    "start_time": "2023-06-23T17:33:41.543Z"
   },
   {
    "duration": 19,
    "start_time": "2023-06-23T17:33:51.941Z"
   },
   {
    "duration": 37,
    "start_time": "2023-06-23T17:35:12.168Z"
   },
   {
    "duration": 18,
    "start_time": "2023-06-23T17:35:55.108Z"
   },
   {
    "duration": 18,
    "start_time": "2023-06-23T17:37:00.506Z"
   },
   {
    "duration": 22,
    "start_time": "2023-06-23T17:37:14.134Z"
   },
   {
    "duration": 27,
    "start_time": "2023-06-23T17:37:19.214Z"
   },
   {
    "duration": 35,
    "start_time": "2023-06-23T17:37:43.107Z"
   },
   {
    "duration": 2,
    "start_time": "2023-06-23T17:38:14.903Z"
   },
   {
    "duration": 26,
    "start_time": "2023-06-23T17:41:49.482Z"
   },
   {
    "duration": 14,
    "start_time": "2023-06-23T17:41:56.708Z"
   },
   {
    "duration": 24,
    "start_time": "2023-06-23T17:42:10.394Z"
   },
   {
    "duration": 14,
    "start_time": "2023-06-23T17:42:19.643Z"
   },
   {
    "duration": 3,
    "start_time": "2023-06-23T17:42:41.700Z"
   },
   {
    "duration": 286,
    "start_time": "2023-06-23T17:42:41.708Z"
   },
   {
    "duration": 24,
    "start_time": "2023-06-23T17:42:41.995Z"
   },
   {
    "duration": 729,
    "start_time": "2023-06-23T17:42:42.020Z"
   },
   {
    "duration": 28,
    "start_time": "2023-06-23T17:42:42.751Z"
   },
   {
    "duration": 15,
    "start_time": "2023-06-23T17:42:42.785Z"
   },
   {
    "duration": 19,
    "start_time": "2023-06-23T17:42:42.801Z"
   },
   {
    "duration": 12,
    "start_time": "2023-06-23T17:42:42.822Z"
   },
   {
    "duration": 33,
    "start_time": "2023-06-23T17:42:42.836Z"
   },
   {
    "duration": 25,
    "start_time": "2023-06-23T17:42:42.876Z"
   },
   {
    "duration": 22,
    "start_time": "2023-06-23T17:42:42.903Z"
   },
   {
    "duration": 7,
    "start_time": "2023-06-23T17:42:42.927Z"
   },
   {
    "duration": 6,
    "start_time": "2023-06-23T17:42:42.935Z"
   },
   {
    "duration": 20,
    "start_time": "2023-06-23T17:42:42.943Z"
   },
   {
    "duration": 28,
    "start_time": "2023-06-23T17:42:42.969Z"
   },
   {
    "duration": 23,
    "start_time": "2023-06-23T17:42:42.998Z"
   },
   {
    "duration": 2,
    "start_time": "2023-06-23T17:42:43.023Z"
   },
   {
    "duration": 20,
    "start_time": "2023-06-23T17:42:43.027Z"
   },
   {
    "duration": 42,
    "start_time": "2023-06-23T17:42:43.049Z"
   },
   {
    "duration": 17,
    "start_time": "2023-06-23T17:42:43.095Z"
   },
   {
    "duration": 379,
    "start_time": "2023-06-23T17:42:43.113Z"
   },
   {
    "duration": 252,
    "start_time": "2023-06-23T17:42:43.496Z"
   },
   {
    "duration": 35,
    "start_time": "2023-06-23T17:42:43.750Z"
   },
   {
    "duration": 18,
    "start_time": "2023-06-23T17:42:43.787Z"
   },
   {
    "duration": 238,
    "start_time": "2023-06-23T17:42:43.807Z"
   },
   {
    "duration": 7,
    "start_time": "2023-06-23T17:42:44.047Z"
   },
   {
    "duration": 41,
    "start_time": "2023-06-23T17:42:44.056Z"
   },
   {
    "duration": 14,
    "start_time": "2023-06-23T17:42:44.101Z"
   },
   {
    "duration": 330,
    "start_time": "2023-06-23T17:42:44.117Z"
   },
   {
    "duration": 751,
    "start_time": "2023-06-23T17:42:44.449Z"
   },
   {
    "duration": 907,
    "start_time": "2023-06-23T17:42:45.202Z"
   },
   {
    "duration": 730,
    "start_time": "2023-06-23T17:42:46.111Z"
   },
   {
    "duration": 14,
    "start_time": "2023-06-23T17:42:46.843Z"
   },
   {
    "duration": 18,
    "start_time": "2023-06-23T17:42:46.870Z"
   },
   {
    "duration": 17,
    "start_time": "2023-06-23T17:42:46.892Z"
   },
   {
    "duration": 13,
    "start_time": "2023-06-23T17:42:46.911Z"
   },
   {
    "duration": 13,
    "start_time": "2023-06-23T17:42:46.926Z"
   },
   {
    "duration": 185,
    "start_time": "2023-06-23T17:42:46.940Z"
   },
   {
    "duration": 15,
    "start_time": "2023-06-23T17:42:47.126Z"
   },
   {
    "duration": 190,
    "start_time": "2023-06-23T17:42:47.143Z"
   },
   {
    "duration": 13,
    "start_time": "2023-06-23T17:42:47.335Z"
   },
   {
    "duration": 175,
    "start_time": "2023-06-23T17:42:47.352Z"
   },
   {
    "duration": 15,
    "start_time": "2023-06-23T17:42:47.529Z"
   },
   {
    "duration": 38,
    "start_time": "2023-06-23T17:42:47.545Z"
   },
   {
    "duration": 17,
    "start_time": "2023-06-23T17:42:47.584Z"
   },
   {
    "duration": 13,
    "start_time": "2023-06-23T17:42:47.602Z"
   },
   {
    "duration": 13,
    "start_time": "2023-06-23T17:42:47.617Z"
   },
   {
    "duration": 19,
    "start_time": "2023-06-23T17:42:47.631Z"
   },
   {
    "duration": 33,
    "start_time": "2023-06-23T17:42:47.651Z"
   },
   {
    "duration": 16,
    "start_time": "2023-06-23T17:42:47.687Z"
   },
   {
    "duration": 6,
    "start_time": "2023-06-23T17:42:47.704Z"
   },
   {
    "duration": 25,
    "start_time": "2023-06-23T17:42:47.711Z"
   },
   {
    "duration": 18,
    "start_time": "2023-06-23T17:42:47.737Z"
   },
   {
    "duration": 7,
    "start_time": "2023-06-23T17:42:47.757Z"
   },
   {
    "duration": 92,
    "start_time": "2023-06-24T14:11:57.907Z"
   },
   {
    "duration": 84,
    "start_time": "2023-06-24T14:12:03.999Z"
   },
   {
    "duration": 85,
    "start_time": "2023-06-24T14:15:35.004Z"
   },
   {
    "duration": 90,
    "start_time": "2023-06-24T14:15:41.408Z"
   },
   {
    "duration": 109,
    "start_time": "2023-06-24T14:15:46.645Z"
   },
   {
    "duration": 139,
    "start_time": "2023-06-24T14:15:53.867Z"
   },
   {
    "duration": 42,
    "start_time": "2023-06-24T14:17:21.674Z"
   },
   {
    "duration": 83,
    "start_time": "2023-06-24T14:17:41.800Z"
   },
   {
    "duration": 6,
    "start_time": "2023-06-24T14:21:03.796Z"
   },
   {
    "duration": 1460,
    "start_time": "2023-06-24T14:21:13.715Z"
   },
   {
    "duration": 102,
    "start_time": "2023-06-24T14:21:15.177Z"
   },
   {
    "duration": 31,
    "start_time": "2023-06-24T14:21:15.281Z"
   },
   {
    "duration": 741,
    "start_time": "2023-06-24T14:21:15.314Z"
   },
   {
    "duration": 17,
    "start_time": "2023-06-24T14:21:16.057Z"
   },
   {
    "duration": 17,
    "start_time": "2023-06-24T14:21:16.076Z"
   },
   {
    "duration": 43,
    "start_time": "2023-06-24T14:21:16.094Z"
   },
   {
    "duration": 18,
    "start_time": "2023-06-24T14:21:16.138Z"
   },
   {
    "duration": 68,
    "start_time": "2023-06-24T14:21:16.158Z"
   },
   {
    "duration": 24,
    "start_time": "2023-06-24T14:21:16.229Z"
   },
   {
    "duration": 27,
    "start_time": "2023-06-24T14:21:16.255Z"
   },
   {
    "duration": 9,
    "start_time": "2023-06-24T14:21:16.284Z"
   },
   {
    "duration": 13,
    "start_time": "2023-06-24T14:21:16.294Z"
   },
   {
    "duration": 8,
    "start_time": "2023-06-24T14:21:16.308Z"
   },
   {
    "duration": 30,
    "start_time": "2023-06-24T14:21:16.318Z"
   },
   {
    "duration": 22,
    "start_time": "2023-06-24T14:21:16.350Z"
   },
   {
    "duration": 3,
    "start_time": "2023-06-24T14:21:16.373Z"
   },
   {
    "duration": 27,
    "start_time": "2023-06-24T14:21:16.377Z"
   },
   {
    "duration": 32,
    "start_time": "2023-06-24T14:21:16.406Z"
   },
   {
    "duration": 16,
    "start_time": "2023-06-24T14:21:16.440Z"
   },
   {
    "duration": 360,
    "start_time": "2023-06-24T14:21:16.458Z"
   },
   {
    "duration": 169,
    "start_time": "2023-06-24T14:21:16.820Z"
   },
   {
    "duration": 16,
    "start_time": "2023-06-24T14:21:16.990Z"
   },
   {
    "duration": 37,
    "start_time": "2023-06-24T14:21:17.008Z"
   },
   {
    "duration": 220,
    "start_time": "2023-06-24T14:21:17.047Z"
   },
   {
    "duration": 7,
    "start_time": "2023-06-24T14:21:17.269Z"
   },
   {
    "duration": 17,
    "start_time": "2023-06-24T14:21:17.278Z"
   },
   {
    "duration": 11,
    "start_time": "2023-06-24T14:21:17.299Z"
   },
   {
    "duration": 376,
    "start_time": "2023-06-24T14:21:17.311Z"
   },
   {
    "duration": 301,
    "start_time": "2023-06-24T14:21:17.689Z"
   },
   {
    "duration": 716,
    "start_time": "2023-06-24T14:21:17.992Z"
   },
   {
    "duration": 629,
    "start_time": "2023-06-24T14:21:18.710Z"
   },
   {
    "duration": 786,
    "start_time": "2023-06-24T14:21:19.347Z"
   },
   {
    "duration": 17,
    "start_time": "2023-06-24T14:21:20.134Z"
   },
   {
    "duration": 16,
    "start_time": "2023-06-24T14:21:20.152Z"
   },
   {
    "duration": 14,
    "start_time": "2023-06-24T14:21:20.170Z"
   },
   {
    "duration": 14,
    "start_time": "2023-06-24T14:21:20.186Z"
   },
   {
    "duration": 46,
    "start_time": "2023-06-24T14:21:20.201Z"
   },
   {
    "duration": 146,
    "start_time": "2023-06-24T14:21:20.249Z"
   },
   {
    "duration": 13,
    "start_time": "2023-06-24T14:21:20.396Z"
   },
   {
    "duration": 187,
    "start_time": "2023-06-24T14:21:20.411Z"
   },
   {
    "duration": 12,
    "start_time": "2023-06-24T14:21:20.599Z"
   },
   {
    "duration": 233,
    "start_time": "2023-06-24T14:21:20.613Z"
   },
   {
    "duration": 14,
    "start_time": "2023-06-24T14:21:20.848Z"
   },
   {
    "duration": 14,
    "start_time": "2023-06-24T14:21:20.864Z"
   },
   {
    "duration": 20,
    "start_time": "2023-06-24T14:21:20.879Z"
   },
   {
    "duration": 29,
    "start_time": "2023-06-24T14:21:20.900Z"
   },
   {
    "duration": 35,
    "start_time": "2023-06-24T14:21:20.934Z"
   },
   {
    "duration": 28,
    "start_time": "2023-06-24T14:21:20.971Z"
   },
   {
    "duration": 43,
    "start_time": "2023-06-24T14:21:21.001Z"
   },
   {
    "duration": 40,
    "start_time": "2023-06-24T14:21:21.048Z"
   },
   {
    "duration": 19,
    "start_time": "2023-06-24T14:21:21.090Z"
   },
   {
    "duration": 93,
    "start_time": "2023-06-24T14:21:21.111Z"
   },
   {
    "duration": 15,
    "start_time": "2023-06-24T14:21:21.206Z"
   },
   {
    "duration": 27,
    "start_time": "2023-06-24T14:21:21.222Z"
   },
   {
    "duration": 268,
    "start_time": "2023-06-24T14:22:12.432Z"
   },
   {
    "duration": 72,
    "start_time": "2023-06-24T14:50:13.485Z"
   },
   {
    "duration": 11,
    "start_time": "2023-06-24T14:50:22.272Z"
   },
   {
    "duration": 10,
    "start_time": "2023-06-24T14:51:13.655Z"
   },
   {
    "duration": 10,
    "start_time": "2023-06-24T14:51:57.197Z"
   },
   {
    "duration": 8,
    "start_time": "2023-06-24T14:54:51.684Z"
   },
   {
    "duration": 77,
    "start_time": "2023-06-24T14:56:16.848Z"
   },
   {
    "duration": 19,
    "start_time": "2023-06-24T14:56:24.429Z"
   },
   {
    "duration": 9,
    "start_time": "2023-06-24T14:56:29.096Z"
   },
   {
    "duration": 9,
    "start_time": "2023-06-24T14:56:32.680Z"
   },
   {
    "duration": 1403,
    "start_time": "2023-06-24T14:57:03.986Z"
   },
   {
    "duration": 7,
    "start_time": "2023-06-24T14:58:04.282Z"
   },
   {
    "duration": 13,
    "start_time": "2023-06-24T14:58:08.528Z"
   },
   {
    "duration": 7,
    "start_time": "2023-06-24T14:58:33.715Z"
   },
   {
    "duration": 8,
    "start_time": "2023-06-24T14:58:56.177Z"
   },
   {
    "duration": 8,
    "start_time": "2023-06-24T15:01:16.372Z"
   },
   {
    "duration": 15,
    "start_time": "2023-06-24T15:01:30.897Z"
   },
   {
    "duration": 8,
    "start_time": "2023-06-24T15:01:46.989Z"
   },
   {
    "duration": 16,
    "start_time": "2023-06-24T15:01:52.929Z"
   },
   {
    "duration": 7,
    "start_time": "2023-06-24T15:01:57.691Z"
   },
   {
    "duration": 7,
    "start_time": "2023-06-24T15:02:01.083Z"
   },
   {
    "duration": 9,
    "start_time": "2023-06-24T15:03:11.583Z"
   },
   {
    "duration": 11,
    "start_time": "2023-06-24T15:03:12.894Z"
   },
   {
    "duration": 1225,
    "start_time": "2023-06-24T15:03:27.060Z"
   },
   {
    "duration": 67,
    "start_time": "2023-06-24T15:03:28.287Z"
   },
   {
    "duration": 32,
    "start_time": "2023-06-24T15:03:28.356Z"
   },
   {
    "duration": 871,
    "start_time": "2023-06-24T15:03:28.391Z"
   },
   {
    "duration": 14,
    "start_time": "2023-06-24T15:03:29.264Z"
   },
   {
    "duration": 9,
    "start_time": "2023-06-24T15:03:29.280Z"
   },
   {
    "duration": 41,
    "start_time": "2023-06-24T15:03:29.291Z"
   },
   {
    "duration": 14,
    "start_time": "2023-06-24T15:03:29.335Z"
   },
   {
    "duration": 25,
    "start_time": "2023-06-24T15:03:29.354Z"
   },
   {
    "duration": 16,
    "start_time": "2023-06-24T15:03:29.382Z"
   },
   {
    "duration": 49,
    "start_time": "2023-06-24T15:03:29.400Z"
   },
   {
    "duration": 10,
    "start_time": "2023-06-24T15:03:29.457Z"
   },
   {
    "duration": 7,
    "start_time": "2023-06-24T15:03:29.469Z"
   },
   {
    "duration": 6,
    "start_time": "2023-06-24T15:03:29.478Z"
   },
   {
    "duration": 16,
    "start_time": "2023-06-24T15:03:29.486Z"
   },
   {
    "duration": 36,
    "start_time": "2023-06-24T15:03:29.534Z"
   },
   {
    "duration": 2,
    "start_time": "2023-06-24T15:03:29.572Z"
   },
   {
    "duration": 32,
    "start_time": "2023-06-24T15:03:29.576Z"
   },
   {
    "duration": 36,
    "start_time": "2023-06-24T15:03:29.610Z"
   },
   {
    "duration": 21,
    "start_time": "2023-06-24T15:03:29.648Z"
   },
   {
    "duration": 435,
    "start_time": "2023-06-24T15:03:29.671Z"
   },
   {
    "duration": 190,
    "start_time": "2023-06-24T15:03:30.108Z"
   },
   {
    "duration": 15,
    "start_time": "2023-06-24T15:03:30.299Z"
   },
   {
    "duration": 83,
    "start_time": "2023-06-24T15:03:30.316Z"
   },
   {
    "duration": 297,
    "start_time": "2023-06-24T15:03:30.402Z"
   },
   {
    "duration": 7,
    "start_time": "2023-06-24T15:03:30.702Z"
   },
   {
    "duration": 65,
    "start_time": "2023-06-24T15:03:30.711Z"
   },
   {
    "duration": 64,
    "start_time": "2023-06-24T15:03:30.781Z"
   },
   {
    "duration": 470,
    "start_time": "2023-06-24T15:03:30.850Z"
   },
   {
    "duration": 323,
    "start_time": "2023-06-24T15:03:31.322Z"
   },
   {
    "duration": 12,
    "start_time": "2023-06-24T15:03:31.646Z"
   },
   {
    "duration": 63,
    "start_time": "2023-06-24T15:03:31.661Z"
   },
   {
    "duration": 69,
    "start_time": "2023-06-24T15:03:31.726Z"
   },
   {
    "duration": 880,
    "start_time": "2023-06-24T15:03:31.797Z"
   },
   {
    "duration": 723,
    "start_time": "2023-06-24T15:03:32.679Z"
   },
   {
    "duration": 1017,
    "start_time": "2023-06-24T15:03:33.404Z"
   },
   {
    "duration": 23,
    "start_time": "2023-06-24T15:03:34.434Z"
   },
   {
    "duration": 217,
    "start_time": "2023-06-24T15:03:34.459Z"
   },
   {
    "duration": 49,
    "start_time": "2023-06-24T15:03:34.679Z"
   },
   {
    "duration": 92,
    "start_time": "2023-06-24T15:03:34.730Z"
   },
   {
    "duration": 67,
    "start_time": "2023-06-24T15:03:34.825Z"
   },
   {
    "duration": 197,
    "start_time": "2023-06-24T15:03:34.894Z"
   },
   {
    "duration": 24,
    "start_time": "2023-06-24T15:03:35.093Z"
   },
   {
    "duration": 244,
    "start_time": "2023-06-24T15:03:35.119Z"
   },
   {
    "duration": 17,
    "start_time": "2023-06-24T15:03:35.365Z"
   },
   {
    "duration": 208,
    "start_time": "2023-06-24T15:03:35.384Z"
   },
   {
    "duration": 16,
    "start_time": "2023-06-24T15:03:35.594Z"
   },
   {
    "duration": 66,
    "start_time": "2023-06-24T15:03:35.612Z"
   },
   {
    "duration": 193,
    "start_time": "2023-06-24T15:03:35.680Z"
   },
   {
    "duration": 148,
    "start_time": "2023-06-24T15:03:35.875Z"
   },
   {
    "duration": 62,
    "start_time": "2023-06-24T15:03:36.025Z"
   },
   {
    "duration": 33,
    "start_time": "2023-06-24T15:03:36.089Z"
   },
   {
    "duration": 67,
    "start_time": "2023-06-24T15:03:36.125Z"
   },
   {
    "duration": 16,
    "start_time": "2023-06-24T15:03:36.193Z"
   },
   {
    "duration": 14,
    "start_time": "2023-06-24T15:03:36.211Z"
   },
   {
    "duration": 44,
    "start_time": "2023-06-24T15:03:36.227Z"
   },
   {
    "duration": 23,
    "start_time": "2023-06-24T15:03:36.273Z"
   },
   {
    "duration": 10,
    "start_time": "2023-06-24T15:03:36.298Z"
   },
   {
    "duration": 4,
    "start_time": "2023-06-24T15:05:59.587Z"
   },
   {
    "duration": 34,
    "start_time": "2023-06-24T15:06:04.010Z"
   },
   {
    "duration": 59,
    "start_time": "2023-06-24T15:06:26.171Z"
   },
   {
    "duration": 89,
    "start_time": "2023-06-24T15:06:37.688Z"
   },
   {
    "duration": 77,
    "start_time": "2023-06-24T15:06:47.988Z"
   },
   {
    "duration": 8,
    "start_time": "2023-06-24T15:11:00.460Z"
   },
   {
    "duration": 303,
    "start_time": "2023-06-24T15:47:51.889Z"
   },
   {
    "duration": 65,
    "start_time": "2023-06-24T15:49:24.410Z"
   },
   {
    "duration": 111,
    "start_time": "2023-06-24T15:52:05.463Z"
   },
   {
    "duration": 14,
    "start_time": "2023-06-24T15:52:21.900Z"
   },
   {
    "duration": 7,
    "start_time": "2023-06-24T15:52:27.359Z"
   },
   {
    "duration": 194,
    "start_time": "2023-06-24T15:52:58.311Z"
   },
   {
    "duration": 97,
    "start_time": "2023-06-24T15:53:24.891Z"
   },
   {
    "duration": 90,
    "start_time": "2023-06-24T15:53:35.415Z"
   },
   {
    "duration": 63,
    "start_time": "2023-06-24T15:54:19.095Z"
   },
   {
    "duration": 348,
    "start_time": "2023-06-24T15:54:47.695Z"
   },
   {
    "duration": 454,
    "start_time": "2023-06-24T15:55:05.269Z"
   },
   {
    "duration": 337,
    "start_time": "2023-06-24T15:55:16.016Z"
   },
   {
    "duration": 328,
    "start_time": "2023-06-24T15:55:35.171Z"
   },
   {
    "duration": 362,
    "start_time": "2023-06-24T15:55:40.455Z"
   },
   {
    "duration": 101,
    "start_time": "2023-06-24T16:14:48.647Z"
   },
   {
    "duration": 9,
    "start_time": "2023-06-24T16:29:23.052Z"
   },
   {
    "duration": 13,
    "start_time": "2023-06-24T16:29:49.848Z"
   },
   {
    "duration": 13,
    "start_time": "2023-06-24T16:30:25.056Z"
   },
   {
    "duration": 13,
    "start_time": "2023-06-24T16:30:49.900Z"
   },
   {
    "duration": 14,
    "start_time": "2023-06-24T16:30:59.320Z"
   },
   {
    "duration": 13,
    "start_time": "2023-06-24T16:31:08.345Z"
   },
   {
    "duration": 21,
    "start_time": "2023-06-24T16:32:36.048Z"
   },
   {
    "duration": 17,
    "start_time": "2023-06-24T16:32:56.601Z"
   },
   {
    "duration": 17,
    "start_time": "2023-06-24T16:35:00.361Z"
   },
   {
    "duration": 1044,
    "start_time": "2023-06-24T16:42:20.328Z"
   },
   {
    "duration": 103,
    "start_time": "2023-06-24T16:43:14.419Z"
   },
   {
    "duration": 10,
    "start_time": "2023-06-24T16:46:06.064Z"
   },
   {
    "duration": 456,
    "start_time": "2023-06-24T16:51:58.824Z"
   },
   {
    "duration": 504,
    "start_time": "2023-06-24T16:52:24.114Z"
   },
   {
    "duration": 2107,
    "start_time": "2023-06-24T16:53:02.217Z"
   },
   {
    "duration": 1935,
    "start_time": "2023-06-24T16:53:13.776Z"
   },
   {
    "duration": 1818,
    "start_time": "2023-06-24T16:53:18.365Z"
   },
   {
    "duration": 613,
    "start_time": "2023-06-24T16:53:35.695Z"
   },
   {
    "duration": 622,
    "start_time": "2023-06-24T16:56:10.521Z"
   },
   {
    "duration": 533,
    "start_time": "2023-06-24T16:58:00.601Z"
   },
   {
    "duration": 570,
    "start_time": "2023-06-24T16:58:36.701Z"
   },
   {
    "duration": 582,
    "start_time": "2023-06-24T16:58:52.033Z"
   }
  ],
  "kernelspec": {
   "display_name": "Python 3 (ipykernel)",
   "language": "python",
   "name": "python3"
  },
  "language_info": {
   "codemirror_mode": {
    "name": "ipython",
    "version": 3
   },
   "file_extension": ".py",
   "mimetype": "text/x-python",
   "name": "python",
   "nbconvert_exporter": "python",
   "pygments_lexer": "ipython3",
   "version": "3.11.5"
  },
  "toc": {
   "base_numbering": 1,
   "nav_menu": {},
   "number_sections": true,
   "sideBar": true,
   "skip_h1_title": true,
   "title_cell": "Table of Contents",
   "title_sidebar": "Contents",
   "toc_cell": false,
   "toc_position": {},
   "toc_section_display": true,
   "toc_window_display": false
  }
 },
 "nbformat": 4,
 "nbformat_minor": 2
}
