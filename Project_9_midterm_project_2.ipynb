{
 "cells": [
  {
   "cell_type": "markdown",
   "metadata": {},
   "source": [
    "<div class=\"alert alert-success\">\n",
    "<font size=\"4\"><b>✔️ Комментарий ревьюера V3</b></font>\n",
    "    <br /> \n",
    "    <font size=\"3\", color = \"black\">\n",
    "<br />\n",
    "Приветствую снова!\n",
    "\n",
    "Несмотря на подозрения, что грид серч усвоен не совсем до конца (иначе зачем заново подбирать параметры циклом после него?), оснований не принять работу у меня сейчас нет.\n",
    "\n",
    "Поздравляю с окончанием очередного модуля обучения! Продолжай в том же духе! 🔥"
   ]
  },
  {
   "cell_type": "markdown",
   "metadata": {},
   "source": [
    "<div class=\"alert alert-danger\">\n",
    "<font size=\"4\"><b>❌ Комментарий ревьюера V2</b></font>\n",
    "    <br /> \n",
    "    <font size=\"3\", color = \"black\">\n",
    "        <b></b>\n",
    "\n",
    "Приветствую ещё раз!\n",
    "\n",
    "Просто скопирую свой комментарий ниже:\n",
    "\n",
    "> Абсолютно не понимаю твой ход. Зачем ты закомментировал функцию `smape`? Да, она была не очень оптимальной, но вполне рабочей. Теперь у тебя кросс-валидация выполняется так, что лучшая функция определяется по r2, а не по smape - это не то, что нам нужно. Верни, пожалуйста, свой кастомный `scorer` и используй его.<br>\n",
    "> Кроме этого, на всякий случай, поясню свой предыдущий красный. У тебя вполне может быть ситуация, что если построить, например, дерево глубины 3, то оно будет отлично предсказывать `target_train_rougher`, а дерево глубиной, например, 5 - отлично предсказывать `target_train_final`. Поэтому стоит отдельно находить лучшую модель на одном таргете, отдельно - на другом. Очевидно, результат от такой последовательности шагов работы станет только лучше. А ты теперь почему-то в целом только под `target_train_final` и ищешь модель 🤔\n",
    "\n",
    "Так что финальный кусок работы надо немного перелопатить.\n",
    "\n",
    "PS: не знаю когда дедлайн, но если что пусть куратор пишет мне в личку - я скажу, что у тебя всё ок, мы на финишной прямой и санкций к тебе применять не надо."
   ]
  },
  {
   "cell_type": "markdown",
   "metadata": {},
   "source": [
    "<div class=\"alert alert-info\">\n",
    "<font size=\"4\"><b>Комментарий ревьюера</b></font>\n",
    "    <br /> \n",
    "    <font size=\"3\", color = \"black\">\n",
    "<br />\n",
    "    Привет, rusakovable, как бы тебя ни звали в миру! :) Спасибо, что прислал задание. <br>Меня зовут Никита Сон и я буду проверять твой проект. Предлагаю обращаться друг к другу на ты, как это принято в Практикуме, если ты не против. Но если хочешь на Вы - не буду возражать 🙂\n",
    "        \n",
    "Поехали 🚀\n",
    "    <br />\n",
    "\n",
    "Мои комментарии обозначены пометкой <b>Комментарий ревьюера</b>. При внесении правок в проект, пожалуйста, не меняй и не удаляй их т.к. дальнейшая проверка будет происходить в том числе на основе того, исправлены замечания в комментариях или нет. Зато ты всегда можешь оставить свои комментарии для меня :)\n",
    "    </font>\n",
    "</div>\n",
    "\n",
    "<div class=\"alert alert-success\">\n",
    "<font size=\"4\"><b>✔️ Комментарий ревьюера</b></font>\n",
    "    <br /> \n",
    "    <font size=\"3\", color = \"black\">\n",
    "<br />\n",
    "В зелёных блоках будут позитивные комментарии\n",
    "<br />\n",
    "    </font>\n",
    "</div>\n",
    "\n",
    "<div class=\"alert alert-warning\">\n",
    "<font size=\"4\"><b>⚠️ Комментарий ревьюера</b></font>\n",
    "    <br /> \n",
    "    <font size=\"3\", color = \"black\">\n",
    "<br />\n",
    "В жёлтых - некритичные замечания\n",
    "    </font>\n",
    "</div>\n",
    "\n",
    "<div class=\"alert alert-danger\">\n",
    "<font size=\"4\"><b>❌ Комментарий ревьюера</b></font>\n",
    "    <br /> \n",
    "    <font size=\"3\", color = \"black\">\n",
    "<br /> \n",
    "В красных - важные замечания, которые надо обязательно устранить\n",
    "    </font>\n",
    "</div>\n",
    "\n",
    "<div class=\"alert alert-info\">\n",
    "<font size=\"4\">🍕<b> Комментарий ревьюера</b></font>\n",
    "    <br /> \n",
    "    <font size=\"3\", color = \"black\">\n",
    "<br /> \n",
    "В синих с пиццей - различные нейтральные сообщения, советы на будещее и прочее.\n",
    "    </font>\n",
    "</div>"
   ]
  },
  {
   "cell_type": "markdown",
   "metadata": {
    "toc": true
   },
   "source": [
    "<h1>Содержание<span class=\"tocSkip\"></span></h1>\n",
    "<div class=\"toc\"><ul class=\"toc-item\"><li><span><a href=\"#Подготовка-данных\" data-toc-modified-id=\"Подготовка-данных-1\"><span class=\"toc-item-num\">1&nbsp;&nbsp;</span>Подготовка данных</a></span><ul class=\"toc-item\"><li><span><a href=\"#Проверка-правильности-расчета-эффективности-обогащения-на-обучающей-выборке.\" data-toc-modified-id=\"Проверка-правильности-расчета-эффективности-обогащения-на-обучающей-выборке.-1.1\"><span class=\"toc-item-num\">1.1&nbsp;&nbsp;</span>Проверка правильности расчета эффективности обогащения на обучающей выборке.</a></span></li><li><span><a href=\"#Анализ-признаков,-недоступных-в-тестовой-выборке\" data-toc-modified-id=\"Анализ-признаков,-недоступных-в-тестовой-выборке-1.2\"><span class=\"toc-item-num\">1.2&nbsp;&nbsp;</span>Анализ признаков, недоступных в тестовой выборке</a></span></li><li><span><a href=\"#Предобработка-данных\" data-toc-modified-id=\"Предобработка-данных-1.3\"><span class=\"toc-item-num\">1.3&nbsp;&nbsp;</span>Предобработка данных</a></span></li><li><span><a href=\"#Промежуточный-вывод\" data-toc-modified-id=\"Промежуточный-вывод-1.4\"><span class=\"toc-item-num\">1.4&nbsp;&nbsp;</span>Промежуточный вывод</a></span></li></ul></li><li><span><a href=\"#Анализ-данных\" data-toc-modified-id=\"Анализ-данных-2\"><span class=\"toc-item-num\">2&nbsp;&nbsp;</span>Анализ данных</a></span><ul class=\"toc-item\"><li><span><a href=\"#Концентрация-металлов-(Au,-Ag,-Pb)-на-различных-этапах\" data-toc-modified-id=\"Концентрация-металлов-(Au,-Ag,-Pb)-на-различных-этапах-2.1\"><span class=\"toc-item-num\">2.1&nbsp;&nbsp;</span>Концентрация металлов (Au, Ag, Pb) на различных этапах</a></span></li><li><span><a href=\"#Распределение-размеров-гранул-исходного-сырья-на-обучающей-и-тестовой-выборках\" data-toc-modified-id=\"Распределение-размеров-гранул-исходного-сырья-на-обучающей-и-тестовой-выборках-2.2\"><span class=\"toc-item-num\">2.2&nbsp;&nbsp;</span>Распределение размеров гранул исходного сырья на обучающей и тестовой выборках</a></span></li><li><span><a href=\"#Суммарная-концентрация-металлов-на-разных-стадиях:-в-сырье,-в-черновом-концентрате,-в-концентрате-после-первой-очистки-и-в-финальном-концентрате.\" data-toc-modified-id=\"Суммарная-концентрация-металлов-на-разных-стадиях:-в-сырье,-в-черновом-концентрате,-в-концентрате-после-первой-очистки-и-в-финальном-концентрате.-2.3\"><span class=\"toc-item-num\">2.3&nbsp;&nbsp;</span>Суммарная концентрация металлов на разных стадиях: в сырье, в черновом концентрате, в концентрате после первой очистки и в финальном концентрате.</a></span></li><li><span><a href=\"#Промежуточный-вывод\" data-toc-modified-id=\"Промежуточный-вывод-2.4\"><span class=\"toc-item-num\">2.4&nbsp;&nbsp;</span>Промежуточный вывод</a></span></li></ul></li><li><span><a href=\"#Модель\" data-toc-modified-id=\"Модель-3\"><span class=\"toc-item-num\">3&nbsp;&nbsp;</span>Модель</a></span><ul class=\"toc-item\"><li><span><a href=\"#Функция-для-вычисления-итоговой-sMAPE\" data-toc-modified-id=\"Функция-для-вычисления-итоговой-sMAPE-3.1\"><span class=\"toc-item-num\">3.1&nbsp;&nbsp;</span>Функция для вычисления итоговой sMAPE</a></span></li><li><span><a href=\"#Обучение-моделей\" data-toc-modified-id=\"Обучение-моделей-3.2\"><span class=\"toc-item-num\">3.2&nbsp;&nbsp;</span>Обучение моделей</a></span></li><li><span><a href=\"#Проверка-модели-на-тестовой-выборке\" data-toc-modified-id=\"Проверка-модели-на-тестовой-выборке-3.3\"><span class=\"toc-item-num\">3.3&nbsp;&nbsp;</span>Проверка модели на тестовой выборке</a></span></li><li><span><a href=\"#Проверка-модели-на-адекватность-с-помощью-DummyRegressor\" data-toc-modified-id=\"Проверка-модели-на-адекватность-с-помощью-DummyRegressor-3.4\"><span class=\"toc-item-num\">3.4&nbsp;&nbsp;</span>Проверка модели на адекватность с помощью DummyRegressor</a></span></li></ul></li><li><span><a href=\"#Вывод\" data-toc-modified-id=\"Вывод-4\"><span class=\"toc-item-num\">4&nbsp;&nbsp;</span>Вывод</a></span></li><li><span><a href=\"#Чек-лист-готовности-проекта\" data-toc-modified-id=\"Чек-лист-готовности-проекта-5\"><span class=\"toc-item-num\">5&nbsp;&nbsp;</span>Чек-лист готовности проекта</a></span></li></ul></div>"
   ]
  },
  {
   "cell_type": "markdown",
   "metadata": {},
   "source": [
    "# Восстановление золота из руды"
   ]
  },
  {
   "cell_type": "markdown",
   "metadata": {},
   "source": [
    "Подготовьте прототип модели машинного обучения для «Цифры». Компания разрабатывает решения для эффективной работы промышленных предприятий.\n",
    "\n",
    "Модель должна предсказать коэффициент восстановления золота из золотосодержащей руды. Используйте данные с параметрами добычи и очистки. \n",
    "\n",
    "Модель поможет оптимизировать производство, чтобы не запускать предприятие с убыточными характеристиками.\n",
    "\n",
    "Вам нужно:\n",
    "\n",
    "1. Подготовить данные;\n",
    "2. Провести исследовательский анализ данных;\n",
    "3. Построить и обучить модель.\n",
    "\n",
    "Чтобы выполнить проект, обращайтесь к библиотекам *pandas*, *matplotlib* и *sklearn.* Вам поможет их документация."
   ]
  },
  {
   "cell_type": "markdown",
   "metadata": {},
   "source": [
    "## Подготовка данных"
   ]
  },
  {
   "cell_type": "code",
   "execution_count": 90,
   "metadata": {},
   "outputs": [],
   "source": [
    "import pandas as pd\n",
    "import numpy as np\n",
    "import seaborn as sns\n",
    "import matplotlib.pyplot as plt\n",
    "from sklearn.model_selection import train_test_split, cross_val_score, cross_val_predict, GridSearchCV\n",
    "from sklearn.metrics import mean_absolute_error, make_scorer\n",
    "from sklearn.linear_model import LinearRegression\n",
    "from sklearn.tree import DecisionTreeRegressor\n",
    "from sklearn.dummy import DummyRegressor"
   ]
  },
  {
   "cell_type": "code",
   "execution_count": 162,
   "metadata": {},
   "outputs": [],
   "source": [
    "rs = 42"
   ]
  },
  {
   "cell_type": "code",
   "execution_count": 92,
   "metadata": {
    "scrolled": false
   },
   "outputs": [
    {
     "name": "stdout",
     "output_type": "stream",
     "text": [
      "<class 'pandas.core.frame.DataFrame'>\n",
      "RangeIndex: 14579 entries, 0 to 14578\n",
      "Data columns (total 87 columns):\n",
      " #   Column                                              Non-Null Count  Dtype  \n",
      "---  ------                                              --------------  -----  \n",
      " 0   date                                                14579 non-null  object \n",
      " 1   rougher.input.feed_au                               14579 non-null  float64\n",
      " 2   rougher.input.feed_ag                               14579 non-null  float64\n",
      " 3   rougher.input.feed_pb                               14507 non-null  float64\n",
      " 4   rougher.input.feed_sol                              14502 non-null  float64\n",
      " 5   rougher.input.feed_rate                             14572 non-null  float64\n",
      " 6   rougher.input.feed_size                             14478 non-null  float64\n",
      " 7   rougher.input.floatbank10_sulfate                   14548 non-null  float64\n",
      " 8   rougher.input.floatbank10_xanthate                  14572 non-null  float64\n",
      " 9   rougher.state.floatbank10_a_air                     14579 non-null  float64\n",
      " 10  rougher.state.floatbank10_a_level                   14579 non-null  float64\n",
      " 11  rougher.state.floatbank10_b_air                     14579 non-null  float64\n",
      " 12  rougher.state.floatbank10_b_level                   14579 non-null  float64\n",
      " 13  rougher.state.floatbank10_c_air                     14579 non-null  float64\n",
      " 14  rougher.state.floatbank10_c_level                   14579 non-null  float64\n",
      " 15  rougher.state.floatbank10_d_air                     14579 non-null  float64\n",
      " 16  rougher.state.floatbank10_d_level                   14579 non-null  float64\n",
      " 17  rougher.state.floatbank10_e_air                     14150 non-null  float64\n",
      " 18  rougher.state.floatbank10_e_level                   14579 non-null  float64\n",
      " 19  rougher.state.floatbank10_f_air                     14579 non-null  float64\n",
      " 20  rougher.state.floatbank10_f_level                   14579 non-null  float64\n",
      " 21  rougher.input.floatbank11_sulfate                   14543 non-null  float64\n",
      " 22  rougher.input.floatbank11_xanthate                  14172 non-null  float64\n",
      " 23  rougher.calculation.sulfate_to_au_concentrate       14578 non-null  float64\n",
      " 24  rougher.calculation.floatbank10_sulfate_to_au_feed  14578 non-null  float64\n",
      " 25  rougher.calculation.floatbank11_sulfate_to_au_feed  14578 non-null  float64\n",
      " 26  rougher.calculation.au_pb_ratio                     14579 non-null  float64\n",
      " 27  rougher.output.concentrate_au                       14579 non-null  float64\n",
      " 28  rougher.output.concentrate_ag                       14579 non-null  float64\n",
      " 29  rougher.output.concentrate_pb                       14579 non-null  float64\n",
      " 30  rougher.output.concentrate_sol                      14561 non-null  float64\n",
      " 31  rougher.output.recovery                             14579 non-null  float64\n",
      " 32  rougher.output.tail_au                              14579 non-null  float64\n",
      " 33  rougher.output.tail_ag                              14578 non-null  float64\n",
      " 34  rougher.output.tail_pb                              14579 non-null  float64\n",
      " 35  rougher.output.tail_sol                             14579 non-null  float64\n",
      " 36  primary_cleaner.input.sulfate                       14556 non-null  float64\n",
      " 37  primary_cleaner.input.depressant                    14551 non-null  float64\n",
      " 38  primary_cleaner.input.feed_size                     14579 non-null  float64\n",
      " 39  primary_cleaner.input.xanthate                      14518 non-null  float64\n",
      " 40  primary_cleaner.state.floatbank8_a_air              14576 non-null  float64\n",
      " 41  primary_cleaner.state.floatbank8_a_level            14579 non-null  float64\n",
      " 42  primary_cleaner.state.floatbank8_b_air              14576 non-null  float64\n",
      " 43  primary_cleaner.state.floatbank8_b_level            14579 non-null  float64\n",
      " 44  primary_cleaner.state.floatbank8_c_air              14579 non-null  float64\n",
      " 45  primary_cleaner.state.floatbank8_c_level            14579 non-null  float64\n",
      " 46  primary_cleaner.state.floatbank8_d_air              14578 non-null  float64\n",
      " 47  primary_cleaner.state.floatbank8_d_level            14579 non-null  float64\n",
      " 48  primary_cleaner.output.concentrate_au               14579 non-null  float64\n",
      " 49  primary_cleaner.output.concentrate_ag               14579 non-null  float64\n",
      " 50  primary_cleaner.output.concentrate_pb               14491 non-null  float64\n",
      " 51  primary_cleaner.output.concentrate_sol              14314 non-null  float64\n",
      " 52  primary_cleaner.output.tail_au                      14579 non-null  float64\n",
      " 53  primary_cleaner.output.tail_ag                      14575 non-null  float64\n",
      " 54  primary_cleaner.output.tail_pb                      14573 non-null  float64\n",
      " 55  primary_cleaner.output.tail_sol                     14534 non-null  float64\n",
      " 56  secondary_cleaner.state.floatbank2_a_air            14485 non-null  float64\n",
      " 57  secondary_cleaner.state.floatbank2_a_level          14579 non-null  float64\n",
      " 58  secondary_cleaner.state.floatbank2_b_air            14557 non-null  float64\n",
      " 59  secondary_cleaner.state.floatbank2_b_level          14579 non-null  float64\n",
      " 60  secondary_cleaner.state.floatbank3_a_air            14567 non-null  float64\n",
      " 61  secondary_cleaner.state.floatbank3_a_level          14579 non-null  float64\n",
      " 62  secondary_cleaner.state.floatbank3_b_air            14579 non-null  float64\n",
      " 63  secondary_cleaner.state.floatbank3_b_level          14579 non-null  float64\n",
      " 64  secondary_cleaner.state.floatbank4_a_air            14574 non-null  float64\n",
      " 65  secondary_cleaner.state.floatbank4_a_level          14579 non-null  float64\n",
      " 66  secondary_cleaner.state.floatbank4_b_air            14579 non-null  float64\n",
      " 67  secondary_cleaner.state.floatbank4_b_level          14579 non-null  float64\n",
      " 68  secondary_cleaner.state.floatbank5_a_air            14579 non-null  float64\n",
      " 69  secondary_cleaner.state.floatbank5_a_level          14579 non-null  float64\n",
      " 70  secondary_cleaner.state.floatbank5_b_air            14579 non-null  float64\n",
      " 71  secondary_cleaner.state.floatbank5_b_level          14579 non-null  float64\n",
      " 72  secondary_cleaner.state.floatbank6_a_air            14578 non-null  float64\n",
      " 73  secondary_cleaner.state.floatbank6_a_level          14579 non-null  float64\n",
      " 74  secondary_cleaner.output.tail_au                    14579 non-null  float64\n",
      " 75  secondary_cleaner.output.tail_ag                    14578 non-null  float64\n",
      " 76  secondary_cleaner.output.tail_pb                    14575 non-null  float64\n",
      " 77  secondary_cleaner.output.tail_sol                   13659 non-null  float64\n",
      " 78  final.output.concentrate_au                         14579 non-null  float64\n",
      " 79  final.output.concentrate_ag                         14578 non-null  float64\n",
      " 80  final.output.concentrate_pb                         14578 non-null  float64\n",
      " 81  final.output.concentrate_sol                        14387 non-null  float64\n",
      " 82  final.output.recovery                               14579 non-null  float64\n",
      " 83  final.output.tail_au                                14579 non-null  float64\n",
      " 84  final.output.tail_ag                                14578 non-null  float64\n",
      " 85  final.output.tail_pb                                14504 non-null  float64\n",
      " 86  final.output.tail_sol                               14574 non-null  float64\n",
      "dtypes: float64(86), object(1)\n",
      "memory usage: 9.7+ MB\n"
     ]
    },
    {
     "data": {
      "text/html": [
       "<div>\n",
       "<style scoped>\n",
       "    .dataframe tbody tr th:only-of-type {\n",
       "        vertical-align: middle;\n",
       "    }\n",
       "\n",
       "    .dataframe tbody tr th {\n",
       "        vertical-align: top;\n",
       "    }\n",
       "\n",
       "    .dataframe thead th {\n",
       "        text-align: right;\n",
       "    }\n",
       "</style>\n",
       "<table border=\"1\" class=\"dataframe\">\n",
       "  <thead>\n",
       "    <tr style=\"text-align: right;\">\n",
       "      <th></th>\n",
       "      <th>rougher.input.feed_au</th>\n",
       "      <th>rougher.input.feed_ag</th>\n",
       "      <th>rougher.input.feed_pb</th>\n",
       "      <th>rougher.input.feed_sol</th>\n",
       "      <th>rougher.input.feed_rate</th>\n",
       "      <th>rougher.input.feed_size</th>\n",
       "      <th>rougher.input.floatbank10_sulfate</th>\n",
       "      <th>rougher.input.floatbank10_xanthate</th>\n",
       "      <th>rougher.state.floatbank10_a_air</th>\n",
       "      <th>rougher.state.floatbank10_a_level</th>\n",
       "      <th>...</th>\n",
       "      <th>secondary_cleaner.output.tail_sol</th>\n",
       "      <th>final.output.concentrate_au</th>\n",
       "      <th>final.output.concentrate_ag</th>\n",
       "      <th>final.output.concentrate_pb</th>\n",
       "      <th>final.output.concentrate_sol</th>\n",
       "      <th>final.output.recovery</th>\n",
       "      <th>final.output.tail_au</th>\n",
       "      <th>final.output.tail_ag</th>\n",
       "      <th>final.output.tail_pb</th>\n",
       "      <th>final.output.tail_sol</th>\n",
       "    </tr>\n",
       "  </thead>\n",
       "  <tbody>\n",
       "    <tr>\n",
       "      <th>count</th>\n",
       "      <td>14579.000000</td>\n",
       "      <td>14579.000000</td>\n",
       "      <td>14507.000000</td>\n",
       "      <td>14502.000000</td>\n",
       "      <td>14572.000000</td>\n",
       "      <td>14478.000000</td>\n",
       "      <td>14548.000000</td>\n",
       "      <td>14572.000000</td>\n",
       "      <td>14579.000000</td>\n",
       "      <td>14579.000000</td>\n",
       "      <td>...</td>\n",
       "      <td>13659.000000</td>\n",
       "      <td>14579.000000</td>\n",
       "      <td>14578.000000</td>\n",
       "      <td>14578.000000</td>\n",
       "      <td>14387.000000</td>\n",
       "      <td>14579.000000</td>\n",
       "      <td>14579.000000</td>\n",
       "      <td>14578.000000</td>\n",
       "      <td>14504.000000</td>\n",
       "      <td>14574.000000</td>\n",
       "    </tr>\n",
       "    <tr>\n",
       "      <th>mean</th>\n",
       "      <td>8.352941</td>\n",
       "      <td>8.877460</td>\n",
       "      <td>3.604221</td>\n",
       "      <td>36.561420</td>\n",
       "      <td>474.332784</td>\n",
       "      <td>58.922712</td>\n",
       "      <td>12.427399</td>\n",
       "      <td>5.994854</td>\n",
       "      <td>1104.208278</td>\n",
       "      <td>-379.367166</td>\n",
       "      <td>...</td>\n",
       "      <td>7.111347</td>\n",
       "      <td>43.979499</td>\n",
       "      <td>5.192145</td>\n",
       "      <td>9.923809</td>\n",
       "      <td>9.566676</td>\n",
       "      <td>66.759066</td>\n",
       "      <td>3.087939</td>\n",
       "      <td>9.731972</td>\n",
       "      <td>2.719985</td>\n",
       "      <td>10.612745</td>\n",
       "    </tr>\n",
       "    <tr>\n",
       "      <th>std</th>\n",
       "      <td>1.934376</td>\n",
       "      <td>1.922536</td>\n",
       "      <td>1.056063</td>\n",
       "      <td>5.209823</td>\n",
       "      <td>108.503552</td>\n",
       "      <td>22.407410</td>\n",
       "      <td>3.428939</td>\n",
       "      <td>1.152873</td>\n",
       "      <td>162.235606</td>\n",
       "      <td>94.652311</td>\n",
       "      <td>...</td>\n",
       "      <td>3.909951</td>\n",
       "      <td>5.471437</td>\n",
       "      <td>1.388014</td>\n",
       "      <td>1.706976</td>\n",
       "      <td>2.805654</td>\n",
       "      <td>10.619709</td>\n",
       "      <td>0.915187</td>\n",
       "      <td>2.358143</td>\n",
       "      <td>0.958929</td>\n",
       "      <td>2.871075</td>\n",
       "    </tr>\n",
       "    <tr>\n",
       "      <th>min</th>\n",
       "      <td>0.010000</td>\n",
       "      <td>0.010000</td>\n",
       "      <td>0.010000</td>\n",
       "      <td>0.010000</td>\n",
       "      <td>0.002986</td>\n",
       "      <td>0.049194</td>\n",
       "      <td>0.001083</td>\n",
       "      <td>0.000568</td>\n",
       "      <td>-0.042069</td>\n",
       "      <td>-657.949759</td>\n",
       "      <td>...</td>\n",
       "      <td>0.000000</td>\n",
       "      <td>0.000000</td>\n",
       "      <td>0.000000</td>\n",
       "      <td>0.000000</td>\n",
       "      <td>0.000000</td>\n",
       "      <td>0.000000</td>\n",
       "      <td>0.000000</td>\n",
       "      <td>0.000000</td>\n",
       "      <td>0.000000</td>\n",
       "      <td>0.000000</td>\n",
       "    </tr>\n",
       "    <tr>\n",
       "      <th>25%</th>\n",
       "      <td>6.932996</td>\n",
       "      <td>7.341922</td>\n",
       "      <td>2.880490</td>\n",
       "      <td>34.093951</td>\n",
       "      <td>411.048483</td>\n",
       "      <td>47.278490</td>\n",
       "      <td>10.002832</td>\n",
       "      <td>5.304167</td>\n",
       "      <td>999.644856</td>\n",
       "      <td>-499.861797</td>\n",
       "      <td>...</td>\n",
       "      <td>3.784897</td>\n",
       "      <td>43.345906</td>\n",
       "      <td>4.283347</td>\n",
       "      <td>9.103183</td>\n",
       "      <td>7.860030</td>\n",
       "      <td>63.114596</td>\n",
       "      <td>2.505287</td>\n",
       "      <td>8.088928</td>\n",
       "      <td>2.036512</td>\n",
       "      <td>9.013412</td>\n",
       "    </tr>\n",
       "    <tr>\n",
       "      <th>50%</th>\n",
       "      <td>8.225284</td>\n",
       "      <td>8.715859</td>\n",
       "      <td>3.532399</td>\n",
       "      <td>37.097511</td>\n",
       "      <td>498.187968</td>\n",
       "      <td>54.361187</td>\n",
       "      <td>12.003320</td>\n",
       "      <td>6.003053</td>\n",
       "      <td>1000.982624</td>\n",
       "      <td>-300.314199</td>\n",
       "      <td>...</td>\n",
       "      <td>7.629968</td>\n",
       "      <td>44.975014</td>\n",
       "      <td>5.118647</td>\n",
       "      <td>10.046455</td>\n",
       "      <td>9.301970</td>\n",
       "      <td>67.962788</td>\n",
       "      <td>3.029238</td>\n",
       "      <td>9.818512</td>\n",
       "      <td>2.774847</td>\n",
       "      <td>10.670515</td>\n",
       "    </tr>\n",
       "    <tr>\n",
       "      <th>75%</th>\n",
       "      <td>9.832210</td>\n",
       "      <td>10.255843</td>\n",
       "      <td>4.257282</td>\n",
       "      <td>39.899799</td>\n",
       "      <td>549.586552</td>\n",
       "      <td>64.464926</td>\n",
       "      <td>14.929903</td>\n",
       "      <td>6.796632</td>\n",
       "      <td>1292.663971</td>\n",
       "      <td>-299.989315</td>\n",
       "      <td>...</td>\n",
       "      <td>10.367050</td>\n",
       "      <td>46.275153</td>\n",
       "      <td>5.925380</td>\n",
       "      <td>10.981203</td>\n",
       "      <td>11.001573</td>\n",
       "      <td>72.598187</td>\n",
       "      <td>3.614098</td>\n",
       "      <td>11.169187</td>\n",
       "      <td>3.353845</td>\n",
       "      <td>12.130827</td>\n",
       "    </tr>\n",
       "    <tr>\n",
       "      <th>max</th>\n",
       "      <td>13.731330</td>\n",
       "      <td>14.596026</td>\n",
       "      <td>7.052325</td>\n",
       "      <td>53.475325</td>\n",
       "      <td>717.508837</td>\n",
       "      <td>484.967466</td>\n",
       "      <td>36.118275</td>\n",
       "      <td>9.703448</td>\n",
       "      <td>1512.299531</td>\n",
       "      <td>-273.776101</td>\n",
       "      <td>...</td>\n",
       "      <td>26.000772</td>\n",
       "      <td>52.756638</td>\n",
       "      <td>16.001945</td>\n",
       "      <td>16.705297</td>\n",
       "      <td>19.423912</td>\n",
       "      <td>100.000000</td>\n",
       "      <td>8.245022</td>\n",
       "      <td>19.552149</td>\n",
       "      <td>5.804178</td>\n",
       "      <td>22.317730</td>\n",
       "    </tr>\n",
       "  </tbody>\n",
       "</table>\n",
       "<p>8 rows × 86 columns</p>\n",
       "</div>"
      ],
      "text/plain": [
       "       rougher.input.feed_au  rougher.input.feed_ag  rougher.input.feed_pb  \\\n",
       "count           14579.000000           14579.000000           14507.000000   \n",
       "mean                8.352941               8.877460               3.604221   \n",
       "std                 1.934376               1.922536               1.056063   \n",
       "min                 0.010000               0.010000               0.010000   \n",
       "25%                 6.932996               7.341922               2.880490   \n",
       "50%                 8.225284               8.715859               3.532399   \n",
       "75%                 9.832210              10.255843               4.257282   \n",
       "max                13.731330              14.596026               7.052325   \n",
       "\n",
       "       rougher.input.feed_sol  rougher.input.feed_rate  \\\n",
       "count            14502.000000             14572.000000   \n",
       "mean                36.561420               474.332784   \n",
       "std                  5.209823               108.503552   \n",
       "min                  0.010000                 0.002986   \n",
       "25%                 34.093951               411.048483   \n",
       "50%                 37.097511               498.187968   \n",
       "75%                 39.899799               549.586552   \n",
       "max                 53.475325               717.508837   \n",
       "\n",
       "       rougher.input.feed_size  rougher.input.floatbank10_sulfate  \\\n",
       "count             14478.000000                       14548.000000   \n",
       "mean                 58.922712                          12.427399   \n",
       "std                  22.407410                           3.428939   \n",
       "min                   0.049194                           0.001083   \n",
       "25%                  47.278490                          10.002832   \n",
       "50%                  54.361187                          12.003320   \n",
       "75%                  64.464926                          14.929903   \n",
       "max                 484.967466                          36.118275   \n",
       "\n",
       "       rougher.input.floatbank10_xanthate  rougher.state.floatbank10_a_air  \\\n",
       "count                        14572.000000                     14579.000000   \n",
       "mean                             5.994854                      1104.208278   \n",
       "std                              1.152873                       162.235606   \n",
       "min                              0.000568                        -0.042069   \n",
       "25%                              5.304167                       999.644856   \n",
       "50%                              6.003053                      1000.982624   \n",
       "75%                              6.796632                      1292.663971   \n",
       "max                              9.703448                      1512.299531   \n",
       "\n",
       "       rougher.state.floatbank10_a_level  ...  \\\n",
       "count                       14579.000000  ...   \n",
       "mean                         -379.367166  ...   \n",
       "std                            94.652311  ...   \n",
       "min                          -657.949759  ...   \n",
       "25%                          -499.861797  ...   \n",
       "50%                          -300.314199  ...   \n",
       "75%                          -299.989315  ...   \n",
       "max                          -273.776101  ...   \n",
       "\n",
       "       secondary_cleaner.output.tail_sol  final.output.concentrate_au  \\\n",
       "count                       13659.000000                 14579.000000   \n",
       "mean                            7.111347                    43.979499   \n",
       "std                             3.909951                     5.471437   \n",
       "min                             0.000000                     0.000000   \n",
       "25%                             3.784897                    43.345906   \n",
       "50%                             7.629968                    44.975014   \n",
       "75%                            10.367050                    46.275153   \n",
       "max                            26.000772                    52.756638   \n",
       "\n",
       "       final.output.concentrate_ag  final.output.concentrate_pb  \\\n",
       "count                 14578.000000                 14578.000000   \n",
       "mean                      5.192145                     9.923809   \n",
       "std                       1.388014                     1.706976   \n",
       "min                       0.000000                     0.000000   \n",
       "25%                       4.283347                     9.103183   \n",
       "50%                       5.118647                    10.046455   \n",
       "75%                       5.925380                    10.981203   \n",
       "max                      16.001945                    16.705297   \n",
       "\n",
       "       final.output.concentrate_sol  final.output.recovery  \\\n",
       "count                  14387.000000           14579.000000   \n",
       "mean                       9.566676              66.759066   \n",
       "std                        2.805654              10.619709   \n",
       "min                        0.000000               0.000000   \n",
       "25%                        7.860030              63.114596   \n",
       "50%                        9.301970              67.962788   \n",
       "75%                       11.001573              72.598187   \n",
       "max                       19.423912             100.000000   \n",
       "\n",
       "       final.output.tail_au  final.output.tail_ag  final.output.tail_pb  \\\n",
       "count          14579.000000          14578.000000          14504.000000   \n",
       "mean               3.087939              9.731972              2.719985   \n",
       "std                0.915187              2.358143              0.958929   \n",
       "min                0.000000              0.000000              0.000000   \n",
       "25%                2.505287              8.088928              2.036512   \n",
       "50%                3.029238              9.818512              2.774847   \n",
       "75%                3.614098             11.169187              3.353845   \n",
       "max                8.245022             19.552149              5.804178   \n",
       "\n",
       "       final.output.tail_sol  \n",
       "count           14574.000000  \n",
       "mean               10.612745  \n",
       "std                 2.871075  \n",
       "min                 0.000000  \n",
       "25%                 9.013412  \n",
       "50%                10.670515  \n",
       "75%                12.130827  \n",
       "max                22.317730  \n",
       "\n",
       "[8 rows x 86 columns]"
      ]
     },
     "execution_count": 92,
     "metadata": {},
     "output_type": "execute_result"
    }
   ],
   "source": [
    "gi_train = pd.read_csv('/datasets/gold_industry_train.csv')\n",
    "gi_train.info()\n",
    "gi_train.describe()"
   ]
  },
  {
   "cell_type": "code",
   "execution_count": 93,
   "metadata": {
    "scrolled": true
   },
   "outputs": [
    {
     "name": "stdout",
     "output_type": "stream",
     "text": [
      "<class 'pandas.core.frame.DataFrame'>\n",
      "RangeIndex: 4860 entries, 0 to 4859\n",
      "Data columns (total 53 columns):\n",
      " #   Column                                      Non-Null Count  Dtype  \n",
      "---  ------                                      --------------  -----  \n",
      " 0   date                                        4860 non-null   object \n",
      " 1   rougher.input.feed_au                       4860 non-null   float64\n",
      " 2   rougher.input.feed_ag                       4860 non-null   float64\n",
      " 3   rougher.input.feed_pb                       4832 non-null   float64\n",
      " 4   rougher.input.feed_sol                      4838 non-null   float64\n",
      " 5   rougher.input.feed_rate                     4856 non-null   float64\n",
      " 6   rougher.input.feed_size                     4816 non-null   float64\n",
      " 7   rougher.input.floatbank10_sulfate           4857 non-null   float64\n",
      " 8   rougher.input.floatbank10_xanthate          4859 non-null   float64\n",
      " 9   rougher.state.floatbank10_a_air             4859 non-null   float64\n",
      " 10  rougher.state.floatbank10_a_level           4859 non-null   float64\n",
      " 11  rougher.state.floatbank10_b_air             4859 non-null   float64\n",
      " 12  rougher.state.floatbank10_b_level           4859 non-null   float64\n",
      " 13  rougher.state.floatbank10_c_air             4859 non-null   float64\n",
      " 14  rougher.state.floatbank10_c_level           4859 non-null   float64\n",
      " 15  rougher.state.floatbank10_d_air             4860 non-null   float64\n",
      " 16  rougher.state.floatbank10_d_level           4860 non-null   float64\n",
      " 17  rougher.state.floatbank10_e_air             4853 non-null   float64\n",
      " 18  rougher.state.floatbank10_e_level           4860 non-null   float64\n",
      " 19  rougher.state.floatbank10_f_air             4860 non-null   float64\n",
      " 20  rougher.state.floatbank10_f_level           4860 non-null   float64\n",
      " 21  rougher.input.floatbank11_sulfate           4852 non-null   float64\n",
      " 22  rougher.input.floatbank11_xanthate          4814 non-null   float64\n",
      " 23  primary_cleaner.input.sulfate               4859 non-null   float64\n",
      " 24  primary_cleaner.input.depressant            4851 non-null   float64\n",
      " 25  primary_cleaner.input.feed_size             4860 non-null   float64\n",
      " 26  primary_cleaner.input.xanthate              4817 non-null   float64\n",
      " 27  primary_cleaner.state.floatbank8_a_air      4859 non-null   float64\n",
      " 28  primary_cleaner.state.floatbank8_a_level    4859 non-null   float64\n",
      " 29  primary_cleaner.state.floatbank8_b_air      4859 non-null   float64\n",
      " 30  primary_cleaner.state.floatbank8_b_level    4859 non-null   float64\n",
      " 31  primary_cleaner.state.floatbank8_c_air      4858 non-null   float64\n",
      " 32  primary_cleaner.state.floatbank8_c_level    4859 non-null   float64\n",
      " 33  primary_cleaner.state.floatbank8_d_air      4858 non-null   float64\n",
      " 34  primary_cleaner.state.floatbank8_d_level    4859 non-null   float64\n",
      " 35  secondary_cleaner.state.floatbank2_a_air    4734 non-null   float64\n",
      " 36  secondary_cleaner.state.floatbank2_a_level  4859 non-null   float64\n",
      " 37  secondary_cleaner.state.floatbank2_b_air    4859 non-null   float64\n",
      " 38  secondary_cleaner.state.floatbank2_b_level  4859 non-null   float64\n",
      " 39  secondary_cleaner.state.floatbank3_a_air    4859 non-null   float64\n",
      " 40  secondary_cleaner.state.floatbank3_a_level  4859 non-null   float64\n",
      " 41  secondary_cleaner.state.floatbank3_b_air    4859 non-null   float64\n",
      " 42  secondary_cleaner.state.floatbank3_b_level  4859 non-null   float64\n",
      " 43  secondary_cleaner.state.floatbank4_a_air    4859 non-null   float64\n",
      " 44  secondary_cleaner.state.floatbank4_a_level  4859 non-null   float64\n",
      " 45  secondary_cleaner.state.floatbank4_b_air    4859 non-null   float64\n",
      " 46  secondary_cleaner.state.floatbank4_b_level  4859 non-null   float64\n",
      " 47  secondary_cleaner.state.floatbank5_a_air    4859 non-null   float64\n",
      " 48  secondary_cleaner.state.floatbank5_a_level  4859 non-null   float64\n",
      " 49  secondary_cleaner.state.floatbank5_b_air    4859 non-null   float64\n",
      " 50  secondary_cleaner.state.floatbank5_b_level  4859 non-null   float64\n",
      " 51  secondary_cleaner.state.floatbank6_a_air    4859 non-null   float64\n",
      " 52  secondary_cleaner.state.floatbank6_a_level  4859 non-null   float64\n",
      "dtypes: float64(52), object(1)\n",
      "memory usage: 2.0+ MB\n"
     ]
    },
    {
     "data": {
      "text/html": [
       "<div>\n",
       "<style scoped>\n",
       "    .dataframe tbody tr th:only-of-type {\n",
       "        vertical-align: middle;\n",
       "    }\n",
       "\n",
       "    .dataframe tbody tr th {\n",
       "        vertical-align: top;\n",
       "    }\n",
       "\n",
       "    .dataframe thead th {\n",
       "        text-align: right;\n",
       "    }\n",
       "</style>\n",
       "<table border=\"1\" class=\"dataframe\">\n",
       "  <thead>\n",
       "    <tr style=\"text-align: right;\">\n",
       "      <th></th>\n",
       "      <th>rougher.input.feed_au</th>\n",
       "      <th>rougher.input.feed_ag</th>\n",
       "      <th>rougher.input.feed_pb</th>\n",
       "      <th>rougher.input.feed_sol</th>\n",
       "      <th>rougher.input.feed_rate</th>\n",
       "      <th>rougher.input.feed_size</th>\n",
       "      <th>rougher.input.floatbank10_sulfate</th>\n",
       "      <th>rougher.input.floatbank10_xanthate</th>\n",
       "      <th>rougher.state.floatbank10_a_air</th>\n",
       "      <th>rougher.state.floatbank10_a_level</th>\n",
       "      <th>...</th>\n",
       "      <th>secondary_cleaner.state.floatbank4_a_air</th>\n",
       "      <th>secondary_cleaner.state.floatbank4_a_level</th>\n",
       "      <th>secondary_cleaner.state.floatbank4_b_air</th>\n",
       "      <th>secondary_cleaner.state.floatbank4_b_level</th>\n",
       "      <th>secondary_cleaner.state.floatbank5_a_air</th>\n",
       "      <th>secondary_cleaner.state.floatbank5_a_level</th>\n",
       "      <th>secondary_cleaner.state.floatbank5_b_air</th>\n",
       "      <th>secondary_cleaner.state.floatbank5_b_level</th>\n",
       "      <th>secondary_cleaner.state.floatbank6_a_air</th>\n",
       "      <th>secondary_cleaner.state.floatbank6_a_level</th>\n",
       "    </tr>\n",
       "  </thead>\n",
       "  <tbody>\n",
       "    <tr>\n",
       "      <th>count</th>\n",
       "      <td>4860.000000</td>\n",
       "      <td>4860.000000</td>\n",
       "      <td>4832.000000</td>\n",
       "      <td>4838.000000</td>\n",
       "      <td>4856.000000</td>\n",
       "      <td>4816.000000</td>\n",
       "      <td>4857.000000</td>\n",
       "      <td>4859.000000</td>\n",
       "      <td>4859.000000</td>\n",
       "      <td>4859.000000</td>\n",
       "      <td>...</td>\n",
       "      <td>4.859000e+03</td>\n",
       "      <td>4859.000000</td>\n",
       "      <td>4.859000e+03</td>\n",
       "      <td>4859.000000</td>\n",
       "      <td>4859.000000</td>\n",
       "      <td>4859.000000</td>\n",
       "      <td>4859.000000</td>\n",
       "      <td>4859.000000</td>\n",
       "      <td>4859.000000</td>\n",
       "      <td>4859.000000</td>\n",
       "    </tr>\n",
       "    <tr>\n",
       "      <th>mean</th>\n",
       "      <td>8.005584</td>\n",
       "      <td>8.547348</td>\n",
       "      <td>3.579662</td>\n",
       "      <td>37.095864</td>\n",
       "      <td>490.285103</td>\n",
       "      <td>59.113400</td>\n",
       "      <td>12.055735</td>\n",
       "      <td>6.101308</td>\n",
       "      <td>1108.635895</td>\n",
       "      <td>-368.340127</td>\n",
       "      <td>...</td>\n",
       "      <td>1.985770e+01</td>\n",
       "      <td>-488.665140</td>\n",
       "      <td>1.557025e+01</td>\n",
       "      <td>-464.176507</td>\n",
       "      <td>16.594103</td>\n",
       "      <td>-490.815250</td>\n",
       "      <td>12.945971</td>\n",
       "      <td>-489.583564</td>\n",
       "      <td>19.053888</td>\n",
       "      <td>-504.678924</td>\n",
       "    </tr>\n",
       "    <tr>\n",
       "      <th>std</th>\n",
       "      <td>1.993590</td>\n",
       "      <td>1.958601</td>\n",
       "      <td>1.029377</td>\n",
       "      <td>4.926284</td>\n",
       "      <td>94.371623</td>\n",
       "      <td>19.125122</td>\n",
       "      <td>3.407642</td>\n",
       "      <td>1.042754</td>\n",
       "      <td>156.493143</td>\n",
       "      <td>91.155929</td>\n",
       "      <td>...</td>\n",
       "      <td>5.913105e+00</td>\n",
       "      <td>44.392714</td>\n",
       "      <td>4.927361e+00</td>\n",
       "      <td>65.706994</td>\n",
       "      <td>5.724305</td>\n",
       "      <td>32.258443</td>\n",
       "      <td>5.533176</td>\n",
       "      <td>37.084609</td>\n",
       "      <td>5.548996</td>\n",
       "      <td>38.690186</td>\n",
       "    </tr>\n",
       "    <tr>\n",
       "      <th>min</th>\n",
       "      <td>0.010000</td>\n",
       "      <td>0.010000</td>\n",
       "      <td>0.010000</td>\n",
       "      <td>0.010000</td>\n",
       "      <td>0.012786</td>\n",
       "      <td>0.046369</td>\n",
       "      <td>0.018907</td>\n",
       "      <td>0.015783</td>\n",
       "      <td>300.792494</td>\n",
       "      <td>-600.568138</td>\n",
       "      <td>...</td>\n",
       "      <td>1.079872e-16</td>\n",
       "      <td>-799.704969</td>\n",
       "      <td>2.489718e-17</td>\n",
       "      <td>-799.860767</td>\n",
       "      <td>-0.371498</td>\n",
       "      <td>-797.142475</td>\n",
       "      <td>1.358469</td>\n",
       "      <td>-800.006180</td>\n",
       "      <td>0.160386</td>\n",
       "      <td>-809.734800</td>\n",
       "    </tr>\n",
       "    <tr>\n",
       "      <th>25%</th>\n",
       "      <td>6.574363</td>\n",
       "      <td>6.975898</td>\n",
       "      <td>2.903612</td>\n",
       "      <td>34.510841</td>\n",
       "      <td>434.099695</td>\n",
       "      <td>47.596984</td>\n",
       "      <td>9.890429</td>\n",
       "      <td>5.499808</td>\n",
       "      <td>999.715729</td>\n",
       "      <td>-499.731972</td>\n",
       "      <td>...</td>\n",
       "      <td>1.501123e+01</td>\n",
       "      <td>-500.704004</td>\n",
       "      <td>1.202172e+01</td>\n",
       "      <td>-500.196517</td>\n",
       "      <td>11.073822</td>\n",
       "      <td>-500.483564</td>\n",
       "      <td>9.011890</td>\n",
       "      <td>-500.129913</td>\n",
       "      <td>14.963953</td>\n",
       "      <td>-500.668501</td>\n",
       "    </tr>\n",
       "    <tr>\n",
       "      <th>50%</th>\n",
       "      <td>7.812923</td>\n",
       "      <td>8.179714</td>\n",
       "      <td>3.540772</td>\n",
       "      <td>37.499761</td>\n",
       "      <td>502.118742</td>\n",
       "      <td>55.509481</td>\n",
       "      <td>11.997859</td>\n",
       "      <td>6.099805</td>\n",
       "      <td>1001.414798</td>\n",
       "      <td>-300.181367</td>\n",
       "      <td>...</td>\n",
       "      <td>1.996807e+01</td>\n",
       "      <td>-499.892919</td>\n",
       "      <td>1.501240e+01</td>\n",
       "      <td>-499.540776</td>\n",
       "      <td>16.631195</td>\n",
       "      <td>-499.873136</td>\n",
       "      <td>11.999417</td>\n",
       "      <td>-499.955304</td>\n",
       "      <td>19.960006</td>\n",
       "      <td>-500.033769</td>\n",
       "    </tr>\n",
       "    <tr>\n",
       "      <th>75%</th>\n",
       "      <td>9.556589</td>\n",
       "      <td>10.084339</td>\n",
       "      <td>4.199847</td>\n",
       "      <td>40.461315</td>\n",
       "      <td>555.596563</td>\n",
       "      <td>66.661547</td>\n",
       "      <td>14.496072</td>\n",
       "      <td>6.802101</td>\n",
       "      <td>1202.837565</td>\n",
       "      <td>-299.961547</td>\n",
       "      <td>...</td>\n",
       "      <td>2.498900e+01</td>\n",
       "      <td>-498.652030</td>\n",
       "      <td>1.999949e+01</td>\n",
       "      <td>-400.302329</td>\n",
       "      <td>19.983191</td>\n",
       "      <td>-498.852815</td>\n",
       "      <td>15.004198</td>\n",
       "      <td>-499.643776</td>\n",
       "      <td>24.974583</td>\n",
       "      <td>-499.460134</td>\n",
       "    </tr>\n",
       "    <tr>\n",
       "      <th>max</th>\n",
       "      <td>13.417156</td>\n",
       "      <td>14.533698</td>\n",
       "      <td>7.142594</td>\n",
       "      <td>53.477742</td>\n",
       "      <td>702.523396</td>\n",
       "      <td>363.989699</td>\n",
       "      <td>30.010759</td>\n",
       "      <td>9.396928</td>\n",
       "      <td>1521.980372</td>\n",
       "      <td>-281.039299</td>\n",
       "      <td>...</td>\n",
       "      <td>3.008450e+01</td>\n",
       "      <td>-383.373053</td>\n",
       "      <td>2.398898e+01</td>\n",
       "      <td>-114.250832</td>\n",
       "      <td>33.215996</td>\n",
       "      <td>-288.963521</td>\n",
       "      <td>24.177106</td>\n",
       "      <td>-141.934397</td>\n",
       "      <td>32.028529</td>\n",
       "      <td>-104.427459</td>\n",
       "    </tr>\n",
       "  </tbody>\n",
       "</table>\n",
       "<p>8 rows × 52 columns</p>\n",
       "</div>"
      ],
      "text/plain": [
       "       rougher.input.feed_au  rougher.input.feed_ag  rougher.input.feed_pb  \\\n",
       "count            4860.000000            4860.000000            4832.000000   \n",
       "mean                8.005584               8.547348               3.579662   \n",
       "std                 1.993590               1.958601               1.029377   \n",
       "min                 0.010000               0.010000               0.010000   \n",
       "25%                 6.574363               6.975898               2.903612   \n",
       "50%                 7.812923               8.179714               3.540772   \n",
       "75%                 9.556589              10.084339               4.199847   \n",
       "max                13.417156              14.533698               7.142594   \n",
       "\n",
       "       rougher.input.feed_sol  rougher.input.feed_rate  \\\n",
       "count             4838.000000              4856.000000   \n",
       "mean                37.095864               490.285103   \n",
       "std                  4.926284                94.371623   \n",
       "min                  0.010000                 0.012786   \n",
       "25%                 34.510841               434.099695   \n",
       "50%                 37.499761               502.118742   \n",
       "75%                 40.461315               555.596563   \n",
       "max                 53.477742               702.523396   \n",
       "\n",
       "       rougher.input.feed_size  rougher.input.floatbank10_sulfate  \\\n",
       "count              4816.000000                        4857.000000   \n",
       "mean                 59.113400                          12.055735   \n",
       "std                  19.125122                           3.407642   \n",
       "min                   0.046369                           0.018907   \n",
       "25%                  47.596984                           9.890429   \n",
       "50%                  55.509481                          11.997859   \n",
       "75%                  66.661547                          14.496072   \n",
       "max                 363.989699                          30.010759   \n",
       "\n",
       "       rougher.input.floatbank10_xanthate  rougher.state.floatbank10_a_air  \\\n",
       "count                         4859.000000                      4859.000000   \n",
       "mean                             6.101308                      1108.635895   \n",
       "std                              1.042754                       156.493143   \n",
       "min                              0.015783                       300.792494   \n",
       "25%                              5.499808                       999.715729   \n",
       "50%                              6.099805                      1001.414798   \n",
       "75%                              6.802101                      1202.837565   \n",
       "max                              9.396928                      1521.980372   \n",
       "\n",
       "       rougher.state.floatbank10_a_level  ...  \\\n",
       "count                        4859.000000  ...   \n",
       "mean                         -368.340127  ...   \n",
       "std                            91.155929  ...   \n",
       "min                          -600.568138  ...   \n",
       "25%                          -499.731972  ...   \n",
       "50%                          -300.181367  ...   \n",
       "75%                          -299.961547  ...   \n",
       "max                          -281.039299  ...   \n",
       "\n",
       "       secondary_cleaner.state.floatbank4_a_air  \\\n",
       "count                              4.859000e+03   \n",
       "mean                               1.985770e+01   \n",
       "std                                5.913105e+00   \n",
       "min                                1.079872e-16   \n",
       "25%                                1.501123e+01   \n",
       "50%                                1.996807e+01   \n",
       "75%                                2.498900e+01   \n",
       "max                                3.008450e+01   \n",
       "\n",
       "       secondary_cleaner.state.floatbank4_a_level  \\\n",
       "count                                 4859.000000   \n",
       "mean                                  -488.665140   \n",
       "std                                     44.392714   \n",
       "min                                   -799.704969   \n",
       "25%                                   -500.704004   \n",
       "50%                                   -499.892919   \n",
       "75%                                   -498.652030   \n",
       "max                                   -383.373053   \n",
       "\n",
       "       secondary_cleaner.state.floatbank4_b_air  \\\n",
       "count                              4.859000e+03   \n",
       "mean                               1.557025e+01   \n",
       "std                                4.927361e+00   \n",
       "min                                2.489718e-17   \n",
       "25%                                1.202172e+01   \n",
       "50%                                1.501240e+01   \n",
       "75%                                1.999949e+01   \n",
       "max                                2.398898e+01   \n",
       "\n",
       "       secondary_cleaner.state.floatbank4_b_level  \\\n",
       "count                                 4859.000000   \n",
       "mean                                  -464.176507   \n",
       "std                                     65.706994   \n",
       "min                                   -799.860767   \n",
       "25%                                   -500.196517   \n",
       "50%                                   -499.540776   \n",
       "75%                                   -400.302329   \n",
       "max                                   -114.250832   \n",
       "\n",
       "       secondary_cleaner.state.floatbank5_a_air  \\\n",
       "count                               4859.000000   \n",
       "mean                                  16.594103   \n",
       "std                                    5.724305   \n",
       "min                                   -0.371498   \n",
       "25%                                   11.073822   \n",
       "50%                                   16.631195   \n",
       "75%                                   19.983191   \n",
       "max                                   33.215996   \n",
       "\n",
       "       secondary_cleaner.state.floatbank5_a_level  \\\n",
       "count                                 4859.000000   \n",
       "mean                                  -490.815250   \n",
       "std                                     32.258443   \n",
       "min                                   -797.142475   \n",
       "25%                                   -500.483564   \n",
       "50%                                   -499.873136   \n",
       "75%                                   -498.852815   \n",
       "max                                   -288.963521   \n",
       "\n",
       "       secondary_cleaner.state.floatbank5_b_air  \\\n",
       "count                               4859.000000   \n",
       "mean                                  12.945971   \n",
       "std                                    5.533176   \n",
       "min                                    1.358469   \n",
       "25%                                    9.011890   \n",
       "50%                                   11.999417   \n",
       "75%                                   15.004198   \n",
       "max                                   24.177106   \n",
       "\n",
       "       secondary_cleaner.state.floatbank5_b_level  \\\n",
       "count                                 4859.000000   \n",
       "mean                                  -489.583564   \n",
       "std                                     37.084609   \n",
       "min                                   -800.006180   \n",
       "25%                                   -500.129913   \n",
       "50%                                   -499.955304   \n",
       "75%                                   -499.643776   \n",
       "max                                   -141.934397   \n",
       "\n",
       "       secondary_cleaner.state.floatbank6_a_air  \\\n",
       "count                               4859.000000   \n",
       "mean                                  19.053888   \n",
       "std                                    5.548996   \n",
       "min                                    0.160386   \n",
       "25%                                   14.963953   \n",
       "50%                                   19.960006   \n",
       "75%                                   24.974583   \n",
       "max                                   32.028529   \n",
       "\n",
       "       secondary_cleaner.state.floatbank6_a_level  \n",
       "count                                 4859.000000  \n",
       "mean                                  -504.678924  \n",
       "std                                     38.690186  \n",
       "min                                   -809.734800  \n",
       "25%                                   -500.668501  \n",
       "50%                                   -500.033769  \n",
       "75%                                   -499.460134  \n",
       "max                                   -104.427459  \n",
       "\n",
       "[8 rows x 52 columns]"
      ]
     },
     "execution_count": 93,
     "metadata": {},
     "output_type": "execute_result"
    }
   ],
   "source": [
    "gi_test = pd.read_csv('/datasets/gold_industry_test.csv')\n",
    "gi_test.info()\n",
    "gi_test.describe()"
   ]
  },
  {
   "cell_type": "code",
   "execution_count": 94,
   "metadata": {
    "scrolled": false
   },
   "outputs": [
    {
     "name": "stdout",
     "output_type": "stream",
     "text": [
      "<class 'pandas.core.frame.DataFrame'>\n",
      "RangeIndex: 19439 entries, 0 to 19438\n",
      "Data columns (total 87 columns):\n",
      " #   Column                                              Non-Null Count  Dtype  \n",
      "---  ------                                              --------------  -----  \n",
      " 0   date                                                19439 non-null  object \n",
      " 1   rougher.input.feed_au                               19439 non-null  float64\n",
      " 2   rougher.input.feed_ag                               19439 non-null  float64\n",
      " 3   rougher.input.feed_pb                               19339 non-null  float64\n",
      " 4   rougher.input.feed_sol                              19340 non-null  float64\n",
      " 5   rougher.input.feed_rate                             19428 non-null  float64\n",
      " 6   rougher.input.feed_size                             19294 non-null  float64\n",
      " 7   rougher.input.floatbank10_sulfate                   19405 non-null  float64\n",
      " 8   rougher.input.floatbank10_xanthate                  19431 non-null  float64\n",
      " 9   rougher.state.floatbank10_a_air                     19438 non-null  float64\n",
      " 10  rougher.state.floatbank10_a_level                   19438 non-null  float64\n",
      " 11  rougher.state.floatbank10_b_air                     19438 non-null  float64\n",
      " 12  rougher.state.floatbank10_b_level                   19438 non-null  float64\n",
      " 13  rougher.state.floatbank10_c_air                     19438 non-null  float64\n",
      " 14  rougher.state.floatbank10_c_level                   19438 non-null  float64\n",
      " 15  rougher.state.floatbank10_d_air                     19439 non-null  float64\n",
      " 16  rougher.state.floatbank10_d_level                   19439 non-null  float64\n",
      " 17  rougher.state.floatbank10_e_air                     19003 non-null  float64\n",
      " 18  rougher.state.floatbank10_e_level                   19439 non-null  float64\n",
      " 19  rougher.state.floatbank10_f_air                     19439 non-null  float64\n",
      " 20  rougher.state.floatbank10_f_level                   19439 non-null  float64\n",
      " 21  rougher.input.floatbank11_sulfate                   19395 non-null  float64\n",
      " 22  rougher.input.floatbank11_xanthate                  18986 non-null  float64\n",
      " 23  rougher.calculation.sulfate_to_au_concentrate       19437 non-null  float64\n",
      " 24  rougher.calculation.floatbank10_sulfate_to_au_feed  19437 non-null  float64\n",
      " 25  rougher.calculation.floatbank11_sulfate_to_au_feed  19437 non-null  float64\n",
      " 26  rougher.calculation.au_pb_ratio                     19439 non-null  float64\n",
      " 27  rougher.output.concentrate_au                       19439 non-null  float64\n",
      " 28  rougher.output.concentrate_ag                       19439 non-null  float64\n",
      " 29  rougher.output.concentrate_pb                       19439 non-null  float64\n",
      " 30  rougher.output.concentrate_sol                      19416 non-null  float64\n",
      " 31  rougher.output.recovery                             19439 non-null  float64\n",
      " 32  rougher.output.tail_au                              19439 non-null  float64\n",
      " 33  rougher.output.tail_ag                              19438 non-null  float64\n",
      " 34  rougher.output.tail_pb                              19439 non-null  float64\n",
      " 35  rougher.output.tail_sol                             19439 non-null  float64\n",
      " 36  primary_cleaner.input.sulfate                       19415 non-null  float64\n",
      " 37  primary_cleaner.input.depressant                    19402 non-null  float64\n",
      " 38  primary_cleaner.input.feed_size                     19439 non-null  float64\n",
      " 39  primary_cleaner.input.xanthate                      19335 non-null  float64\n",
      " 40  primary_cleaner.state.floatbank8_a_air              19435 non-null  float64\n",
      " 41  primary_cleaner.state.floatbank8_a_level            19438 non-null  float64\n",
      " 42  primary_cleaner.state.floatbank8_b_air              19435 non-null  float64\n",
      " 43  primary_cleaner.state.floatbank8_b_level            19438 non-null  float64\n",
      " 44  primary_cleaner.state.floatbank8_c_air              19437 non-null  float64\n",
      " 45  primary_cleaner.state.floatbank8_c_level            19438 non-null  float64\n",
      " 46  primary_cleaner.state.floatbank8_d_air              19436 non-null  float64\n",
      " 47  primary_cleaner.state.floatbank8_d_level            19438 non-null  float64\n",
      " 48  primary_cleaner.output.concentrate_au               19439 non-null  float64\n",
      " 49  primary_cleaner.output.concentrate_ag               19439 non-null  float64\n",
      " 50  primary_cleaner.output.concentrate_pb               19323 non-null  float64\n",
      " 51  primary_cleaner.output.concentrate_sol              19069 non-null  float64\n",
      " 52  primary_cleaner.output.tail_au                      19439 non-null  float64\n",
      " 53  primary_cleaner.output.tail_ag                      19435 non-null  float64\n",
      " 54  primary_cleaner.output.tail_pb                      19418 non-null  float64\n",
      " 55  primary_cleaner.output.tail_sol                     19377 non-null  float64\n",
      " 56  secondary_cleaner.state.floatbank2_a_air            19219 non-null  float64\n",
      " 57  secondary_cleaner.state.floatbank2_a_level          19438 non-null  float64\n",
      " 58  secondary_cleaner.state.floatbank2_b_air            19416 non-null  float64\n",
      " 59  secondary_cleaner.state.floatbank2_b_level          19438 non-null  float64\n",
      " 60  secondary_cleaner.state.floatbank3_a_air            19426 non-null  float64\n",
      " 61  secondary_cleaner.state.floatbank3_a_level          19438 non-null  float64\n",
      " 62  secondary_cleaner.state.floatbank3_b_air            19438 non-null  float64\n",
      " 63  secondary_cleaner.state.floatbank3_b_level          19438 non-null  float64\n",
      " 64  secondary_cleaner.state.floatbank4_a_air            19433 non-null  float64\n",
      " 65  secondary_cleaner.state.floatbank4_a_level          19438 non-null  float64\n",
      " 66  secondary_cleaner.state.floatbank4_b_air            19438 non-null  float64\n",
      " 67  secondary_cleaner.state.floatbank4_b_level          19438 non-null  float64\n",
      " 68  secondary_cleaner.state.floatbank5_a_air            19438 non-null  float64\n",
      " 69  secondary_cleaner.state.floatbank5_a_level          19438 non-null  float64\n",
      " 70  secondary_cleaner.state.floatbank5_b_air            19438 non-null  float64\n",
      " 71  secondary_cleaner.state.floatbank5_b_level          19438 non-null  float64\n",
      " 72  secondary_cleaner.state.floatbank6_a_air            19437 non-null  float64\n",
      " 73  secondary_cleaner.state.floatbank6_a_level          19438 non-null  float64\n",
      " 74  secondary_cleaner.output.tail_au                    19439 non-null  float64\n",
      " 75  secondary_cleaner.output.tail_ag                    19437 non-null  float64\n",
      " 76  secondary_cleaner.output.tail_pb                    19427 non-null  float64\n",
      " 77  secondary_cleaner.output.tail_sol                   17691 non-null  float64\n",
      " 78  final.output.concentrate_au                         19439 non-null  float64\n",
      " 79  final.output.concentrate_ag                         19438 non-null  float64\n",
      " 80  final.output.concentrate_pb                         19438 non-null  float64\n",
      " 81  final.output.concentrate_sol                        19228 non-null  float64\n",
      " 82  final.output.recovery                               19439 non-null  float64\n",
      " 83  final.output.tail_au                                19439 non-null  float64\n",
      " 84  final.output.tail_ag                                19438 non-null  float64\n",
      " 85  final.output.tail_pb                                19338 non-null  float64\n",
      " 86  final.output.tail_sol                               19433 non-null  float64\n",
      "dtypes: float64(86), object(1)\n",
      "memory usage: 12.9+ MB\n"
     ]
    },
    {
     "data": {
      "text/html": [
       "<div>\n",
       "<style scoped>\n",
       "    .dataframe tbody tr th:only-of-type {\n",
       "        vertical-align: middle;\n",
       "    }\n",
       "\n",
       "    .dataframe tbody tr th {\n",
       "        vertical-align: top;\n",
       "    }\n",
       "\n",
       "    .dataframe thead th {\n",
       "        text-align: right;\n",
       "    }\n",
       "</style>\n",
       "<table border=\"1\" class=\"dataframe\">\n",
       "  <thead>\n",
       "    <tr style=\"text-align: right;\">\n",
       "      <th></th>\n",
       "      <th>rougher.input.feed_au</th>\n",
       "      <th>rougher.input.feed_ag</th>\n",
       "      <th>rougher.input.feed_pb</th>\n",
       "      <th>rougher.input.feed_sol</th>\n",
       "      <th>rougher.input.feed_rate</th>\n",
       "      <th>rougher.input.feed_size</th>\n",
       "      <th>rougher.input.floatbank10_sulfate</th>\n",
       "      <th>rougher.input.floatbank10_xanthate</th>\n",
       "      <th>rougher.state.floatbank10_a_air</th>\n",
       "      <th>rougher.state.floatbank10_a_level</th>\n",
       "      <th>...</th>\n",
       "      <th>secondary_cleaner.output.tail_sol</th>\n",
       "      <th>final.output.concentrate_au</th>\n",
       "      <th>final.output.concentrate_ag</th>\n",
       "      <th>final.output.concentrate_pb</th>\n",
       "      <th>final.output.concentrate_sol</th>\n",
       "      <th>final.output.recovery</th>\n",
       "      <th>final.output.tail_au</th>\n",
       "      <th>final.output.tail_ag</th>\n",
       "      <th>final.output.tail_pb</th>\n",
       "      <th>final.output.tail_sol</th>\n",
       "    </tr>\n",
       "  </thead>\n",
       "  <tbody>\n",
       "    <tr>\n",
       "      <th>count</th>\n",
       "      <td>19439.000000</td>\n",
       "      <td>19439.000000</td>\n",
       "      <td>19339.000000</td>\n",
       "      <td>19340.000000</td>\n",
       "      <td>19428.000000</td>\n",
       "      <td>19294.000000</td>\n",
       "      <td>19405.000000</td>\n",
       "      <td>19431.000000</td>\n",
       "      <td>19438.000000</td>\n",
       "      <td>19438.000000</td>\n",
       "      <td>...</td>\n",
       "      <td>17691.000000</td>\n",
       "      <td>19439.000000</td>\n",
       "      <td>19438.000000</td>\n",
       "      <td>19438.000000</td>\n",
       "      <td>19228.000000</td>\n",
       "      <td>19439.000000</td>\n",
       "      <td>19439.000000</td>\n",
       "      <td>19438.000000</td>\n",
       "      <td>19338.000000</td>\n",
       "      <td>19433.000000</td>\n",
       "    </tr>\n",
       "    <tr>\n",
       "      <th>mean</th>\n",
       "      <td>8.266097</td>\n",
       "      <td>8.794927</td>\n",
       "      <td>3.598085</td>\n",
       "      <td>36.695114</td>\n",
       "      <td>478.320042</td>\n",
       "      <td>58.970310</td>\n",
       "      <td>12.334373</td>\n",
       "      <td>6.021474</td>\n",
       "      <td>1105.315068</td>\n",
       "      <td>-376.610690</td>\n",
       "      <td>...</td>\n",
       "      <td>7.167247</td>\n",
       "      <td>44.076513</td>\n",
       "      <td>5.168470</td>\n",
       "      <td>9.978895</td>\n",
       "      <td>9.501224</td>\n",
       "      <td>67.050208</td>\n",
       "      <td>3.042467</td>\n",
       "      <td>9.688589</td>\n",
       "      <td>2.705795</td>\n",
       "      <td>10.583728</td>\n",
       "    </tr>\n",
       "    <tr>\n",
       "      <th>std</th>\n",
       "      <td>1.955092</td>\n",
       "      <td>1.936847</td>\n",
       "      <td>1.049486</td>\n",
       "      <td>5.145445</td>\n",
       "      <td>105.373758</td>\n",
       "      <td>21.634478</td>\n",
       "      <td>3.427317</td>\n",
       "      <td>1.127263</td>\n",
       "      <td>160.826798</td>\n",
       "      <td>93.909667</td>\n",
       "      <td>...</td>\n",
       "      <td>3.916079</td>\n",
       "      <td>5.129784</td>\n",
       "      <td>1.372348</td>\n",
       "      <td>1.669240</td>\n",
       "      <td>2.787537</td>\n",
       "      <td>10.125840</td>\n",
       "      <td>0.922808</td>\n",
       "      <td>2.328642</td>\n",
       "      <td>0.949077</td>\n",
       "      <td>2.868782</td>\n",
       "    </tr>\n",
       "    <tr>\n",
       "      <th>min</th>\n",
       "      <td>0.010000</td>\n",
       "      <td>0.010000</td>\n",
       "      <td>0.010000</td>\n",
       "      <td>0.010000</td>\n",
       "      <td>0.002986</td>\n",
       "      <td>0.046369</td>\n",
       "      <td>0.001083</td>\n",
       "      <td>0.000568</td>\n",
       "      <td>-0.042069</td>\n",
       "      <td>-657.949759</td>\n",
       "      <td>...</td>\n",
       "      <td>0.000000</td>\n",
       "      <td>0.000000</td>\n",
       "      <td>0.000000</td>\n",
       "      <td>0.000000</td>\n",
       "      <td>0.000000</td>\n",
       "      <td>0.000000</td>\n",
       "      <td>0.000000</td>\n",
       "      <td>0.000000</td>\n",
       "      <td>0.000000</td>\n",
       "      <td>0.000000</td>\n",
       "    </tr>\n",
       "    <tr>\n",
       "      <th>25%</th>\n",
       "      <td>6.854384</td>\n",
       "      <td>7.237967</td>\n",
       "      <td>2.887280</td>\n",
       "      <td>34.207799</td>\n",
       "      <td>416.525453</td>\n",
       "      <td>47.435103</td>\n",
       "      <td>10.000362</td>\n",
       "      <td>5.398678</td>\n",
       "      <td>999.661867</td>\n",
       "      <td>-499.835165</td>\n",
       "      <td>...</td>\n",
       "      <td>3.845475</td>\n",
       "      <td>43.402215</td>\n",
       "      <td>4.251240</td>\n",
       "      <td>9.137262</td>\n",
       "      <td>7.722820</td>\n",
       "      <td>63.299712</td>\n",
       "      <td>2.461138</td>\n",
       "      <td>8.062878</td>\n",
       "      <td>2.040119</td>\n",
       "      <td>8.938947</td>\n",
       "    </tr>\n",
       "    <tr>\n",
       "      <th>50%</th>\n",
       "      <td>8.125839</td>\n",
       "      <td>8.593574</td>\n",
       "      <td>3.534895</td>\n",
       "      <td>37.202650</td>\n",
       "      <td>499.416120</td>\n",
       "      <td>54.610197</td>\n",
       "      <td>12.001174</td>\n",
       "      <td>6.008273</td>\n",
       "      <td>1001.072890</td>\n",
       "      <td>-300.263994</td>\n",
       "      <td>...</td>\n",
       "      <td>7.685827</td>\n",
       "      <td>45.011244</td>\n",
       "      <td>5.066094</td>\n",
       "      <td>10.102433</td>\n",
       "      <td>9.218961</td>\n",
       "      <td>68.172738</td>\n",
       "      <td>2.984909</td>\n",
       "      <td>9.743623</td>\n",
       "      <td>2.748730</td>\n",
       "      <td>10.622456</td>\n",
       "    </tr>\n",
       "    <tr>\n",
       "      <th>75%</th>\n",
       "      <td>9.769917</td>\n",
       "      <td>10.213771</td>\n",
       "      <td>4.244161</td>\n",
       "      <td>40.039133</td>\n",
       "      <td>550.172183</td>\n",
       "      <td>65.023044</td>\n",
       "      <td>14.716595</td>\n",
       "      <td>6.798051</td>\n",
       "      <td>1205.620588</td>\n",
       "      <td>-299.981998</td>\n",
       "      <td>...</td>\n",
       "      <td>10.411296</td>\n",
       "      <td>46.275313</td>\n",
       "      <td>5.895527</td>\n",
       "      <td>11.035769</td>\n",
       "      <td>10.947813</td>\n",
       "      <td>72.686642</td>\n",
       "      <td>3.571351</td>\n",
       "      <td>11.134294</td>\n",
       "      <td>3.333216</td>\n",
       "      <td>12.104271</td>\n",
       "    </tr>\n",
       "    <tr>\n",
       "      <th>max</th>\n",
       "      <td>13.731330</td>\n",
       "      <td>14.596026</td>\n",
       "      <td>7.142594</td>\n",
       "      <td>53.477742</td>\n",
       "      <td>717.508837</td>\n",
       "      <td>484.967466</td>\n",
       "      <td>36.118275</td>\n",
       "      <td>9.703448</td>\n",
       "      <td>1521.980372</td>\n",
       "      <td>-273.776101</td>\n",
       "      <td>...</td>\n",
       "      <td>26.000772</td>\n",
       "      <td>52.756638</td>\n",
       "      <td>16.001945</td>\n",
       "      <td>17.031899</td>\n",
       "      <td>19.615720</td>\n",
       "      <td>100.000000</td>\n",
       "      <td>8.245022</td>\n",
       "      <td>19.552149</td>\n",
       "      <td>5.804178</td>\n",
       "      <td>22.317730</td>\n",
       "    </tr>\n",
       "  </tbody>\n",
       "</table>\n",
       "<p>8 rows × 86 columns</p>\n",
       "</div>"
      ],
      "text/plain": [
       "       rougher.input.feed_au  rougher.input.feed_ag  rougher.input.feed_pb  \\\n",
       "count           19439.000000           19439.000000           19339.000000   \n",
       "mean                8.266097               8.794927               3.598085   \n",
       "std                 1.955092               1.936847               1.049486   \n",
       "min                 0.010000               0.010000               0.010000   \n",
       "25%                 6.854384               7.237967               2.887280   \n",
       "50%                 8.125839               8.593574               3.534895   \n",
       "75%                 9.769917              10.213771               4.244161   \n",
       "max                13.731330              14.596026               7.142594   \n",
       "\n",
       "       rougher.input.feed_sol  rougher.input.feed_rate  \\\n",
       "count            19340.000000             19428.000000   \n",
       "mean                36.695114               478.320042   \n",
       "std                  5.145445               105.373758   \n",
       "min                  0.010000                 0.002986   \n",
       "25%                 34.207799               416.525453   \n",
       "50%                 37.202650               499.416120   \n",
       "75%                 40.039133               550.172183   \n",
       "max                 53.477742               717.508837   \n",
       "\n",
       "       rougher.input.feed_size  rougher.input.floatbank10_sulfate  \\\n",
       "count             19294.000000                       19405.000000   \n",
       "mean                 58.970310                          12.334373   \n",
       "std                  21.634478                           3.427317   \n",
       "min                   0.046369                           0.001083   \n",
       "25%                  47.435103                          10.000362   \n",
       "50%                  54.610197                          12.001174   \n",
       "75%                  65.023044                          14.716595   \n",
       "max                 484.967466                          36.118275   \n",
       "\n",
       "       rougher.input.floatbank10_xanthate  rougher.state.floatbank10_a_air  \\\n",
       "count                        19431.000000                     19438.000000   \n",
       "mean                             6.021474                      1105.315068   \n",
       "std                              1.127263                       160.826798   \n",
       "min                              0.000568                        -0.042069   \n",
       "25%                              5.398678                       999.661867   \n",
       "50%                              6.008273                      1001.072890   \n",
       "75%                              6.798051                      1205.620588   \n",
       "max                              9.703448                      1521.980372   \n",
       "\n",
       "       rougher.state.floatbank10_a_level  ...  \\\n",
       "count                       19438.000000  ...   \n",
       "mean                         -376.610690  ...   \n",
       "std                            93.909667  ...   \n",
       "min                          -657.949759  ...   \n",
       "25%                          -499.835165  ...   \n",
       "50%                          -300.263994  ...   \n",
       "75%                          -299.981998  ...   \n",
       "max                          -273.776101  ...   \n",
       "\n",
       "       secondary_cleaner.output.tail_sol  final.output.concentrate_au  \\\n",
       "count                       17691.000000                 19439.000000   \n",
       "mean                            7.167247                    44.076513   \n",
       "std                             3.916079                     5.129784   \n",
       "min                             0.000000                     0.000000   \n",
       "25%                             3.845475                    43.402215   \n",
       "50%                             7.685827                    45.011244   \n",
       "75%                            10.411296                    46.275313   \n",
       "max                            26.000772                    52.756638   \n",
       "\n",
       "       final.output.concentrate_ag  final.output.concentrate_pb  \\\n",
       "count                 19438.000000                 19438.000000   \n",
       "mean                      5.168470                     9.978895   \n",
       "std                       1.372348                     1.669240   \n",
       "min                       0.000000                     0.000000   \n",
       "25%                       4.251240                     9.137262   \n",
       "50%                       5.066094                    10.102433   \n",
       "75%                       5.895527                    11.035769   \n",
       "max                      16.001945                    17.031899   \n",
       "\n",
       "       final.output.concentrate_sol  final.output.recovery  \\\n",
       "count                  19228.000000           19439.000000   \n",
       "mean                       9.501224              67.050208   \n",
       "std                        2.787537              10.125840   \n",
       "min                        0.000000               0.000000   \n",
       "25%                        7.722820              63.299712   \n",
       "50%                        9.218961              68.172738   \n",
       "75%                       10.947813              72.686642   \n",
       "max                       19.615720             100.000000   \n",
       "\n",
       "       final.output.tail_au  final.output.tail_ag  final.output.tail_pb  \\\n",
       "count          19439.000000          19438.000000          19338.000000   \n",
       "mean               3.042467              9.688589              2.705795   \n",
       "std                0.922808              2.328642              0.949077   \n",
       "min                0.000000              0.000000              0.000000   \n",
       "25%                2.461138              8.062878              2.040119   \n",
       "50%                2.984909              9.743623              2.748730   \n",
       "75%                3.571351             11.134294              3.333216   \n",
       "max                8.245022             19.552149              5.804178   \n",
       "\n",
       "       final.output.tail_sol  \n",
       "count           19433.000000  \n",
       "mean               10.583728  \n",
       "std                 2.868782  \n",
       "min                 0.000000  \n",
       "25%                 8.938947  \n",
       "50%                10.622456  \n",
       "75%                12.104271  \n",
       "max                22.317730  \n",
       "\n",
       "[8 rows x 86 columns]"
      ]
     },
     "execution_count": 94,
     "metadata": {},
     "output_type": "execute_result"
    }
   ],
   "source": [
    "gi_full = pd.read_csv('/datasets/gold_industry_full.csv')\n",
    "gi_full.info()\n",
    "gi_full.describe()"
   ]
  },
  {
   "cell_type": "markdown",
   "metadata": {},
   "source": [
    "Полная выборка имеет 19,5 тыс записей. Тренировочная и тестовая выборки разделены в соотношении 75% и 25%.   \n",
    "В тестовой выборке отсутствуют целевые признаки.  "
   ]
  },
  {
   "cell_type": "markdown",
   "metadata": {},
   "source": [
    "### Проверка правильности расчета эффективности обогащения на обучающей выборке."
   ]
  },
  {
   "cell_type": "markdown",
   "metadata": {},
   "source": [
    "Проверим пропуски в используемых столбцах"
   ]
  },
  {
   "cell_type": "code",
   "execution_count": 95,
   "metadata": {},
   "outputs": [
    {
     "data": {
      "text/plain": [
       "False    14579\n",
       "Name: rougher.output.concentrate_au, dtype: int64"
      ]
     },
     "execution_count": 95,
     "metadata": {},
     "output_type": "execute_result"
    }
   ],
   "source": [
    "gi_train['rougher.output.concentrate_au'].isna().value_counts()"
   ]
  },
  {
   "cell_type": "code",
   "execution_count": 96,
   "metadata": {},
   "outputs": [
    {
     "data": {
      "text/plain": [
       "False    14579\n",
       "Name: rougher.input.feed_au, dtype: int64"
      ]
     },
     "execution_count": 96,
     "metadata": {},
     "output_type": "execute_result"
    }
   ],
   "source": [
    "gi_train['rougher.input.feed_au'].isna().value_counts()"
   ]
  },
  {
   "cell_type": "code",
   "execution_count": 97,
   "metadata": {},
   "outputs": [
    {
     "data": {
      "text/plain": [
       "False    14579\n",
       "Name: rougher.output.tail_au, dtype: int64"
      ]
     },
     "execution_count": 97,
     "metadata": {},
     "output_type": "execute_result"
    }
   ],
   "source": [
    "gi_train['rougher.output.tail_au'].isna().value_counts()"
   ]
  },
  {
   "cell_type": "code",
   "execution_count": 98,
   "metadata": {},
   "outputs": [
    {
     "data": {
      "text/plain": [
       "False    14579\n",
       "Name: rougher.output.recovery, dtype: int64"
      ]
     },
     "execution_count": 98,
     "metadata": {},
     "output_type": "execute_result"
    }
   ],
   "source": [
    "gi_train['rougher.output.recovery'].isna().value_counts()"
   ]
  },
  {
   "cell_type": "code",
   "execution_count": 99,
   "metadata": {},
   "outputs": [],
   "source": [
    "#gi_train.dropna(subset=['rougher.output.concentrate_au', 'rougher.input.feed_au',\n",
    "#                                   'rougher.output.tail_au','rougher.output.recovery'], inplace=True)"
   ]
  },
  {
   "cell_type": "markdown",
   "metadata": {},
   "source": [
    "<div class=\"alert alert-warning\">\n",
    "<font size=\"4\"><b>⚠️ Комментарий ревьюера</b></font>\n",
    "    <br /> \n",
    "    <font size=\"3\", color = \"black\">\n",
    "<br />\n",
    "Стоит ли удалять пропуски в столбцах, где пропусков нет?"
   ]
  },
  {
   "cell_type": "markdown",
   "metadata": {},
   "source": [
    "<div class=\"alert alert-info\">\n",
    "<font size=\"4\"><b>🔆Комментарий студента</b></font>\n",
    "    <br /> \n",
    "    <font size=\"3\", color = \"black\">\n",
    "<br /> \n",
    "Да, действительно пропусков нет, удалил для профилактики, без проверок.\n",
    "    </font>\n",
    "</div>"
   ]
  },
  {
   "cell_type": "code",
   "execution_count": 100,
   "metadata": {},
   "outputs": [
    {
     "name": "stdout",
     "output_type": "stream",
     "text": [
      "Абсолютная средняя ошибка : 1.0851689485498649e-14\n"
     ]
    }
   ],
   "source": [
    "concentrate_au = gi_train['rougher.output.concentrate_au']\n",
    "feed_au = gi_train['rougher.input.feed_au']\n",
    "tail_au = gi_train['rougher.output.tail_au']\n",
    "output_recovery = gi_train['rougher.output.recovery']\n",
    "calculated_recovery = concentrate_au * (feed_au - tail_au) / feed_au / (concentrate_au - tail_au) * 100\n",
    "print('Абсолютная средняя ошибка :', mean_absolute_error(output_recovery, calculated_recovery))"
   ]
  },
  {
   "cell_type": "markdown",
   "metadata": {},
   "source": [
    "Ошибка имеет очень малое значение значение, следовательно эффективность обогащения рассчитана правильно."
   ]
  },
  {
   "cell_type": "markdown",
   "metadata": {},
   "source": [
    "<div class=\"alert alert-success\">\n",
    "<font size=\"4\"><b>✔️ Комментарий ревьюера</b></font>\n",
    "    <br /> \n",
    "    <font size=\"3\", color = \"black\">\n",
    "<br />\n",
    "Расчёт верный"
   ]
  },
  {
   "cell_type": "markdown",
   "metadata": {},
   "source": [
    "<div class=\"alert alert-info\">\n",
    "<font size=\"4\">🍕<b> Комментарий ревьюера</b></font>\n",
    "    <br /> \n",
    "    <font size=\"3\", color = \"black\">\n",
    "<br />\n",
    "Вообще, почему несмотря на неравную в точности нулю ошибку мы можем говорить, что данные корректны? Дело в том, что в питоне, как и любом другом языке программирования, операции с нецелыми числами имеют ограниченную точность. Например:"
   ]
  },
  {
   "cell_type": "code",
   "execution_count": 101,
   "metadata": {},
   "outputs": [
    {
     "data": {
      "text/plain": [
       "-1.1102230246251565e-16"
      ]
     },
     "execution_count": 101,
     "metadata": {},
     "output_type": "execute_result"
    }
   ],
   "source": [
    "# КОД РЕВЬЮЕРА\n",
    "1/2 + 1/3 - 5/6"
   ]
  },
  {
   "cell_type": "markdown",
   "metadata": {},
   "source": [
    "<div class=\"alert alert-info\">\n",
    "<font size=\"4\"></font>\n",
    "    <font size=\"3\", color = \"black\">\n",
    "Приведя к общему знаменателю нетрудно посчитать, что значение выражения в точности равно нулю. Почему же питон считает, что это число порядка 1е-16? 1/3 в десятичном виде == 0.33333 ну и бесконечное число троек после запятой. Разумеется, физически невозможно, да и просто бессмысленно хранить бесконечное число знаков, хранится ограниченное количество, из-за этого и возникают микроскопические расхождения."
   ]
  },
  {
   "cell_type": "markdown",
   "metadata": {},
   "source": [
    "### Анализ признаков, недоступных в тестовой выборке"
   ]
  },
  {
   "cell_type": "code",
   "execution_count": 102,
   "metadata": {},
   "outputs": [
    {
     "data": {
      "text/plain": [
       "{'final.output.concentrate_ag',\n",
       " 'final.output.concentrate_au',\n",
       " 'final.output.concentrate_pb',\n",
       " 'final.output.concentrate_sol',\n",
       " 'final.output.recovery',\n",
       " 'final.output.tail_ag',\n",
       " 'final.output.tail_au',\n",
       " 'final.output.tail_pb',\n",
       " 'final.output.tail_sol',\n",
       " 'primary_cleaner.output.concentrate_ag',\n",
       " 'primary_cleaner.output.concentrate_au',\n",
       " 'primary_cleaner.output.concentrate_pb',\n",
       " 'primary_cleaner.output.concentrate_sol',\n",
       " 'primary_cleaner.output.tail_ag',\n",
       " 'primary_cleaner.output.tail_au',\n",
       " 'primary_cleaner.output.tail_pb',\n",
       " 'primary_cleaner.output.tail_sol',\n",
       " 'rougher.calculation.au_pb_ratio',\n",
       " 'rougher.calculation.floatbank10_sulfate_to_au_feed',\n",
       " 'rougher.calculation.floatbank11_sulfate_to_au_feed',\n",
       " 'rougher.calculation.sulfate_to_au_concentrate',\n",
       " 'rougher.output.concentrate_ag',\n",
       " 'rougher.output.concentrate_au',\n",
       " 'rougher.output.concentrate_pb',\n",
       " 'rougher.output.concentrate_sol',\n",
       " 'rougher.output.recovery',\n",
       " 'rougher.output.tail_ag',\n",
       " 'rougher.output.tail_au',\n",
       " 'rougher.output.tail_pb',\n",
       " 'rougher.output.tail_sol',\n",
       " 'secondary_cleaner.output.tail_ag',\n",
       " 'secondary_cleaner.output.tail_au',\n",
       " 'secondary_cleaner.output.tail_pb',\n",
       " 'secondary_cleaner.output.tail_sol'}"
      ]
     },
     "execution_count": 102,
     "metadata": {},
     "output_type": "execute_result"
    }
   ],
   "source": [
    "set(gi_train.columns)-set(gi_test.columns)"
   ]
  },
  {
   "cell_type": "markdown",
   "metadata": {},
   "source": [
    "Данные признаки отсутствуют в тестовой выборке. Это параметры продукта, расчетные характеристики, относящиеся к разным этапам."
   ]
  },
  {
   "cell_type": "markdown",
   "metadata": {},
   "source": [
    "<div class=\"alert alert-success\">\n",
    "<font size=\"4\"><b>✔️ Комментарий ревьюера</b></font>\n",
    "    <br /> \n",
    "    <font size=\"3\", color = \"black\">\n",
    "<br />\n",
    "Краткость - сетра таланта. Но в целом ок."
   ]
  },
  {
   "cell_type": "markdown",
   "metadata": {},
   "source": [
    "### Предобработка данных"
   ]
  },
  {
   "cell_type": "markdown",
   "metadata": {},
   "source": [
    "Проверим наличие пропусков"
   ]
  },
  {
   "cell_type": "code",
   "execution_count": 103,
   "metadata": {
    "scrolled": true
   },
   "outputs": [
    {
     "data": {
      "text/plain": [
       "date                       0\n",
       "rougher.input.feed_au      0\n",
       "rougher.input.feed_ag      0\n",
       "rougher.input.feed_pb     72\n",
       "rougher.input.feed_sol    77\n",
       "                          ..\n",
       "final.output.recovery      0\n",
       "final.output.tail_au       0\n",
       "final.output.tail_ag       1\n",
       "final.output.tail_pb      75\n",
       "final.output.tail_sol      5\n",
       "Length: 87, dtype: int64"
      ]
     },
     "metadata": {},
     "output_type": "display_data"
    },
    {
     "data": {
      "text/plain": [
       "date                                            0\n",
       "rougher.input.feed_au                           0\n",
       "rougher.input.feed_ag                           0\n",
       "rougher.input.feed_pb                          28\n",
       "rougher.input.feed_sol                         22\n",
       "rougher.input.feed_rate                         4\n",
       "rougher.input.feed_size                        44\n",
       "rougher.input.floatbank10_sulfate               3\n",
       "rougher.input.floatbank10_xanthate              1\n",
       "rougher.state.floatbank10_a_air                 1\n",
       "rougher.state.floatbank10_a_level               1\n",
       "rougher.state.floatbank10_b_air                 1\n",
       "rougher.state.floatbank10_b_level               1\n",
       "rougher.state.floatbank10_c_air                 1\n",
       "rougher.state.floatbank10_c_level               1\n",
       "rougher.state.floatbank10_d_air                 0\n",
       "rougher.state.floatbank10_d_level               0\n",
       "rougher.state.floatbank10_e_air                 7\n",
       "rougher.state.floatbank10_e_level               0\n",
       "rougher.state.floatbank10_f_air                 0\n",
       "rougher.state.floatbank10_f_level               0\n",
       "rougher.input.floatbank11_sulfate               8\n",
       "rougher.input.floatbank11_xanthate             46\n",
       "primary_cleaner.input.sulfate                   1\n",
       "primary_cleaner.input.depressant                9\n",
       "primary_cleaner.input.feed_size                 0\n",
       "primary_cleaner.input.xanthate                 43\n",
       "primary_cleaner.state.floatbank8_a_air          1\n",
       "primary_cleaner.state.floatbank8_a_level        1\n",
       "primary_cleaner.state.floatbank8_b_air          1\n",
       "primary_cleaner.state.floatbank8_b_level        1\n",
       "primary_cleaner.state.floatbank8_c_air          2\n",
       "primary_cleaner.state.floatbank8_c_level        1\n",
       "primary_cleaner.state.floatbank8_d_air          2\n",
       "primary_cleaner.state.floatbank8_d_level        1\n",
       "secondary_cleaner.state.floatbank2_a_air      126\n",
       "secondary_cleaner.state.floatbank2_a_level      1\n",
       "secondary_cleaner.state.floatbank2_b_air        1\n",
       "secondary_cleaner.state.floatbank2_b_level      1\n",
       "secondary_cleaner.state.floatbank3_a_air        1\n",
       "secondary_cleaner.state.floatbank3_a_level      1\n",
       "secondary_cleaner.state.floatbank3_b_air        1\n",
       "secondary_cleaner.state.floatbank3_b_level      1\n",
       "secondary_cleaner.state.floatbank4_a_air        1\n",
       "secondary_cleaner.state.floatbank4_a_level      1\n",
       "secondary_cleaner.state.floatbank4_b_air        1\n",
       "secondary_cleaner.state.floatbank4_b_level      1\n",
       "secondary_cleaner.state.floatbank5_a_air        1\n",
       "secondary_cleaner.state.floatbank5_a_level      1\n",
       "secondary_cleaner.state.floatbank5_b_air        1\n",
       "secondary_cleaner.state.floatbank5_b_level      1\n",
       "secondary_cleaner.state.floatbank6_a_air        1\n",
       "secondary_cleaner.state.floatbank6_a_level      1\n",
       "dtype: int64"
      ]
     },
     "metadata": {},
     "output_type": "display_data"
    }
   ],
   "source": [
    "display(gi_train.isna().sum())\n",
    "display(gi_test.isna().sum())"
   ]
  },
  {
   "cell_type": "markdown",
   "metadata": {},
   "source": [
    "Соседние по времени параметры часто похожи, заполним пропуски соответствующими значениями в предыдущем ряду методом ffill."
   ]
  },
  {
   "cell_type": "code",
   "execution_count": 104,
   "metadata": {},
   "outputs": [],
   "source": [
    "gi_train.ffill(axis='rows', inplace=True)\n",
    "gi_test.ffill(axis='rows', inplace=True)"
   ]
  },
  {
   "cell_type": "markdown",
   "metadata": {},
   "source": [
    "<div class=\"alert alert-success\">\n",
    "<font size=\"4\"><b>✔️ Комментарий ревьюера</b></font>\n",
    "    <br /> \n",
    "    <font size=\"3\", color = \"black\">\n",
    "<br />\n",
    "В условиях нашего проекта, когда строки данных - последовательные во времени измерения одних и тех же величин, ffill - действительно логичный метод."
   ]
  },
  {
   "cell_type": "code",
   "execution_count": 105,
   "metadata": {},
   "outputs": [
    {
     "data": {
      "text/plain": [
       "0    87\n",
       "dtype: int64"
      ]
     },
     "metadata": {},
     "output_type": "display_data"
    },
    {
     "data": {
      "text/plain": [
       "0    53\n",
       "dtype: int64"
      ]
     },
     "metadata": {},
     "output_type": "display_data"
    }
   ],
   "source": [
    "#проверка\n",
    "display(gi_train.isna().sum().value_counts())\n",
    "display(gi_test.isna().sum().value_counts())"
   ]
  },
  {
   "cell_type": "markdown",
   "metadata": {},
   "source": [
    "Проверим данные на дубликаты"
   ]
  },
  {
   "cell_type": "code",
   "execution_count": 106,
   "metadata": {},
   "outputs": [
    {
     "data": {
      "text/plain": [
       "False    14579\n",
       "dtype: int64"
      ]
     },
     "metadata": {},
     "output_type": "display_data"
    },
    {
     "data": {
      "text/plain": [
       "False    4860\n",
       "dtype: int64"
      ]
     },
     "metadata": {},
     "output_type": "display_data"
    }
   ],
   "source": [
    "display(gi_train.duplicated().value_counts())\n",
    "display(gi_test.duplicated().value_counts())"
   ]
  },
  {
   "cell_type": "markdown",
   "metadata": {},
   "source": [
    "Дубликаты не обнаружены."
   ]
  },
  {
   "cell_type": "markdown",
   "metadata": {},
   "source": [
    "<div class=\"alert alert-success\">\n",
    "<font size=\"4\"><b>✔️ Комментарий ревьюера</b></font>\n",
    "    <br /> \n",
    "    <font size=\"3\", color = \"black\">\n",
    "<br />    \n",
    "Проверка дубликатов - важный шаг EDA практически любого проекта"
   ]
  },
  {
   "cell_type": "markdown",
   "metadata": {},
   "source": [
    "### Промежуточный вывод"
   ]
  },
  {
   "cell_type": "markdown",
   "metadata": {},
   "source": [
    "Выполнена предобработка данных, пропущенные данные заполнены соседними значениями, возможно не были сняты данные по выбранным этапам.\n",
    "Дубликаты в выборках не обнаружены."
   ]
  },
  {
   "cell_type": "markdown",
   "metadata": {},
   "source": [
    "## Анализ данных"
   ]
  },
  {
   "cell_type": "markdown",
   "metadata": {},
   "source": [
    "### Концентрация металлов (Au, Ag, Pb) на различных этапах"
   ]
  },
  {
   "cell_type": "markdown",
   "metadata": {},
   "source": [
    "Удалим аномальные значения в исследуемых признаках"
   ]
  },
  {
   "cell_type": "code",
   "execution_count": 107,
   "metadata": {
    "scrolled": true
   },
   "outputs": [],
   "source": [
    "gi_train = gi_train.drop(gi_train[(gi_train['final.output.concentrate_au'] < 1) | \n",
    "                                  (gi_train['primary_cleaner.output.concentrate_au'] < 1) | \n",
    "                                  (gi_train['rougher.output.concentrate_au'] < 1) | \n",
    "                                  (gi_train['rougher.input.feed_au'] < 1 )].index)"
   ]
  },
  {
   "cell_type": "markdown",
   "metadata": {},
   "source": [
    "Рассмотрим концентрацию веществ на каждом этапе."
   ]
  },
  {
   "cell_type": "code",
   "execution_count": 108,
   "metadata": {},
   "outputs": [
    {
     "data": {
      "text/plain": [
       "<Figure size 432x288 with 0 Axes>"
      ]
     },
     "metadata": {},
     "output_type": "display_data"
    },
    {
     "data": {
      "image/png": "[encoded data removed]",
      "text/plain": [
       "<Figure size 864x648 with 1 Axes>"
      ]
     },
     "metadata": {
      "needs_background": "light"
     },
     "output_type": "display_data"
    },
    {
     "data": {
      "image/png": "[encoded data removed]",
      "text/plain": [
       "<Figure size 864x648 with 1 Axes>"
      ]
     },
     "metadata": {
      "needs_background": "light"
     },
     "output_type": "display_data"
    },
    {
     "data": {
      "image/png": "[encoded data removed]",
      "text/plain": [
       "<Figure size 864x648 with 1 Axes>"
      ]
     },
     "metadata": {
      "needs_background": "light"
     },
     "output_type": "display_data"
    }
   ],
   "source": [
    "\n",
    "plt.suptitle('Изменение концентрации металлов на различных этапах очистки', fontsize=18, fontweight='bold')\n",
    "\n",
    "plt.figure(figsize=[12,9])\n",
    "plt.hist(gi_train['final.output.concentrate_au'], bins=100, label = 'final.output', alpha=.5)\n",
    "plt.hist(gi_train['primary_cleaner.output.concentrate_au'], bins=100, label = 'primary_cleaner.output', alpha=.5)\n",
    "plt.hist(gi_train['rougher.output.concentrate_au'], bins=100, label = 'rougher.output', alpha=.5)\n",
    "plt.hist(gi_train['rougher.input.feed_au'], bins=100, label = 'rougher.input', alpha=.5)\n",
    "\n",
    "plt.xlim([0, 55])\n",
    "plt.ylim([0, 1600])\n",
    "\n",
    "plt.xlabel(\"Концентрация золота на выходе этапов\")\n",
    "plt.ylabel(\"Количество результатов\")\n",
    "\n",
    "plt.legend(loc='upper left', fontsize='x-large')\n",
    "\n",
    "plt.show()\n",
    "\n",
    "plt.figure(figsize=[12,9])\n",
    "plt.hist(gi_train['final.output.concentrate_ag'], bins=100, label = 'final.output', alpha=.5)\n",
    "plt.hist(gi_train['primary_cleaner.output.concentrate_ag'], bins=100, label = 'primary_cleaner.output', alpha=.5)\n",
    "plt.hist(gi_train['rougher.output.concentrate_ag'], bins=100, label = 'rougher.output', alpha=.5)\n",
    "plt.hist(gi_train['rougher.input.feed_ag'], bins=100, label = 'rougher.input', alpha=.5)\n",
    "\n",
    "plt.xlim([0, 25])\n",
    "plt.ylim([0, 800])\n",
    "\n",
    "plt.xlabel(\"Концентрация серебра на выходе этапов\")\n",
    "plt.ylabel(\"Количество результатов\")\n",
    "\n",
    "plt.legend(loc='upper right', fontsize='x-large')\n",
    "\n",
    "plt.show()\n",
    "\n",
    "plt.figure(figsize=[12,9])\n",
    "plt.hist(gi_train['final.output.concentrate_pb'], bins=100, label = 'final.output', alpha=.5)\n",
    "plt.hist(gi_train['primary_cleaner.output.concentrate_pb'], bins=100, label = 'primary_cleaner.output', alpha=.5)\n",
    "plt.hist(gi_train['rougher.output.concentrate_pb'], bins=100, label = 'rougher.output', alpha=.5)\n",
    "plt.hist(gi_train['rougher.input.feed_pb'], bins=100, label = 'rougher.input', alpha=.5)\n",
    "\n",
    "plt.xlim([0, 20])\n",
    "plt.ylim([0, 800])\n",
    "\n",
    "plt.xlabel(\"Концентрация свинца на выходе этапов\")\n",
    "plt.ylabel(\"Количество результатов\")\n",
    "\n",
    "plt.legend(loc='upper left', fontsize='x-large')\n",
    "\n",
    "plt.show()\n"
   ]
  },
  {
   "cell_type": "markdown",
   "metadata": {},
   "source": [
    "Концентрация золота равномерно повышается от флотации до финальной очистки.\n",
    "\n",
    "Концентрация серебра уменьшается в процессе очистки, высокая концентрация после стадии флотации. \n",
    "\n",
    "Концентрация свинца значительно повышается от стадии флотации к первичной очистке, и еще немного повышается на стадии финальной очистки."
   ]
  },
  {
   "cell_type": "markdown",
   "metadata": {},
   "source": [
    "<div class=\"alert alert-danger\">\n",
    "<font size=\"4\"><b>❌ Комментарий ревьюера</b></font>\n",
    "    <br /> \n",
    "    <font size=\"3\", color = \"black\">\n",
    "<br /> \n",
    "По твоим гистограммам невозможно сделать вывод как на концентрации металлов влияет флотация. Для того, чтобы можно было это понять стоит также добавить на каждый из плотов гистограмму, соотвествующую концентрации металла в исходном сырье.\n",
    "\n",
    "Кроме того, уже сейчас видны явно выбивающиеся из общей картины данных околонулевые выбросы. Эти аномалии из обучающей выборки надо почистить."
   ]
  },
  {
   "cell_type": "markdown",
   "metadata": {},
   "source": [
    "<div class=\"alert alert-success\">\n",
    "<font size=\"4\"><b>✔️ Комментарий ревьюера V2</b></font>\n",
    "    <br /> \n",
    "    <font size=\"3\", color = \"black\">\n",
    "<br />    \n",
    "Другое дело!\n",
    "\n",
    "Хотя надо сначала увидеть аномалии, а потом удалять. Но карать за такое логическое несоответствие, что ты как-то увидел их заранее, не буду.\n",
    "<br />\n",
    "    </font>\n",
    "</div>"
   ]
  },
  {
   "cell_type": "markdown",
   "metadata": {},
   "source": [
    "### Распределение размеров гранул исходного сырья на обучающей и тестовой выборках"
   ]
  },
  {
   "cell_type": "code",
   "execution_count": 109,
   "metadata": {},
   "outputs": [
    {
     "data": {
      "image/png": "[encoded data removed]",
      "text/plain": [
       "<Figure size 864x648 with 1 Axes>"
      ]
     },
     "metadata": {
      "needs_background": "light"
     },
     "output_type": "display_data"
    }
   ],
   "source": [
    "plt.figure(figsize=[12,9])\n",
    "\n",
    "plt.hist(gi_train['rougher.input.feed_size'], bins=300, label = 'Train rougher.input.feed_size', alpha=.5, density=True)\n",
    "plt.hist(gi_test['rougher.input.feed_size'], bins=300, label = 'Test rougher.input.feed_size', alpha=.5, density=True)\n",
    "\n",
    "#plt.xlim([0, 200])\n",
    "#plt.ylim([0, 1500])\n",
    "\n",
    "plt.xlabel(\"Размер гранул сырья\")\n",
    "plt.ylabel(\"Доля результатов к корзине\")\n",
    "\n",
    "plt.legend(loc='upper right', fontsize='x-large')\n",
    "\n",
    "plt.title(\"Гистограмма распределения гранул сырья перед флотацией\")\n",
    "plt.show()"
   ]
  },
  {
   "cell_type": "markdown",
   "metadata": {},
   "source": [
    "<div class=\"alert alert-danger\">\n",
    "<font size=\"4\"><b>❌ Комментарий ревьюера</b></font>\n",
    "    <br /> \n",
    "    <font size=\"3\", color = \"black\">\n",
    "<br /> \n",
    "Сравнивать гистограммы, построенные по отличающимся в разы объёмам данных - затея очень плохая. Чтобы сравнение было корректным надо строить такие гистограммы, что высота столбика соответствует не количеству элементов в соответствующей корзине, а доле элементов в корзине по отношению к общему объёму данных.\n",
    "\n",
    "Для этого можно просто передать параметр `density=True`"
   ]
  },
  {
   "cell_type": "markdown",
   "metadata": {},
   "source": [
    "<div class=\"alert alert-info\">\n",
    "<font size=\"4\"><b>🔆Комментарий студента</b></font>\n",
    "    <br /> \n",
    "    <font size=\"3\", color = \"black\">\n",
    "<br /> \n",
    "Исправил\n",
    "    </font>\n",
    "</div>"
   ]
  },
  {
   "cell_type": "markdown",
   "metadata": {},
   "source": [
    "<div class=\"alert alert-success\">\n",
    "<font size=\"4\"><b>✔️ Комментарий ревьюера V2</b></font>\n",
    "    <br /> \n",
    "    <font size=\"3\", color = \"black\">\n",
    "<br />    \n",
    "👍\n",
    "<br />\n",
    "    </font>\n",
    "</div>"
   ]
  },
  {
   "cell_type": "markdown",
   "metadata": {},
   "source": [
    "Распределение гранул до флотации похоже на нормальное со смещением влево как в обучающей, так и в тестовой выбрке. Существует много выбросов после размера гранул 100."
   ]
  },
  {
   "cell_type": "code",
   "execution_count": 110,
   "metadata": {},
   "outputs": [
    {
     "data": {
      "image/png": "[encoded data removed]",
      "text/plain": [
       "<Figure size 864x648 with 1 Axes>"
      ]
     },
     "metadata": {
      "needs_background": "light"
     },
     "output_type": "display_data"
    }
   ],
   "source": [
    "plt.figure(figsize=[12,9])\n",
    "\n",
    "plt.hist(gi_train['primary_cleaner.input.feed_size'], bins=100, label = 'Train primary_cleaner.input.feed_size', alpha=.5, density=True)\n",
    "plt.hist(gi_test['primary_cleaner.input.feed_size'], bins=100, label = 'Test primary_cleaner.input.feed_size', alpha=.5, density=True)\n",
    "\n",
    "#plt.xlim([0, 16])\n",
    "#plt.ylim([0, 1700])\n",
    "\n",
    "plt.xlabel(\"Размер гранул сырья\")\n",
    "plt.ylabel(\"Доля результатов к корзине\")\n",
    "\n",
    "plt.legend(loc='upper right', fontsize='x-large')\n",
    "\n",
    "plt.title(\"Гистограмма распределения гранул сырья перед первичной очисткой\")\n",
    "plt.show()"
   ]
  },
  {
   "cell_type": "markdown",
   "metadata": {},
   "source": [
    "На гистограмме видно, что распределения не сильно отличаются, учитывая большее количество наблюдений для обучающей выборки."
   ]
  },
  {
   "cell_type": "code",
   "execution_count": 111,
   "metadata": {},
   "outputs": [
    {
     "data": {
      "text/plain": [
       "count    13878.000000\n",
       "mean        59.099840\n",
       "std         23.125968\n",
       "min          0.049194\n",
       "25%         47.316285\n",
       "50%         54.482564\n",
       "75%         64.299720\n",
       "max        484.967466\n",
       "Name: rougher.input.feed_size, dtype: float64"
      ]
     },
     "execution_count": 111,
     "metadata": {},
     "output_type": "execute_result"
    }
   ],
   "source": [
    "gi_train['rougher.input.feed_size'].describe()"
   ]
  },
  {
   "cell_type": "code",
   "execution_count": 112,
   "metadata": {},
   "outputs": [
    {
     "data": {
      "text/plain": [
       "count    4860.000000\n",
       "mean       59.136150\n",
       "std        19.512497\n",
       "min         0.046369\n",
       "25%        47.610795\n",
       "50%        55.461058\n",
       "75%        66.538910\n",
       "max       363.989699\n",
       "Name: rougher.input.feed_size, dtype: float64"
      ]
     },
     "execution_count": 112,
     "metadata": {},
     "output_type": "execute_result"
    }
   ],
   "source": [
    "gi_test['rougher.input.feed_size'].describe()"
   ]
  },
  {
   "cell_type": "markdown",
   "metadata": {},
   "source": [
    "Метод describe показал, что средний размер гранул сырья на обучающей выборке и на тестовой около 59 микрон, так что будем считать, что распределения равны."
   ]
  },
  {
   "cell_type": "markdown",
   "metadata": {},
   "source": [
    "### Суммарная концентрация металлов на разных стадиях: в сырье, в черновом концентрате, в концентрате после первой очистки и в финальном концентрате."
   ]
  },
  {
   "cell_type": "markdown",
   "metadata": {},
   "source": [
    "Найдем суммарную концентрацию металлов (ag, pb, sol, au) в сырье"
   ]
  },
  {
   "cell_type": "code",
   "execution_count": 113,
   "metadata": {},
   "outputs": [],
   "source": [
    "sum_r_feed = gi_train[['rougher.input.feed_ag', \n",
    "                   'rougher.input.feed_pb', \n",
    "                   'rougher.input.feed_sol', \n",
    "                   'rougher.input.feed_au']].sum(axis=1)"
   ]
  },
  {
   "cell_type": "code",
   "execution_count": 114,
   "metadata": {},
   "outputs": [
    {
     "data": {
      "text/plain": [
       "Text(0.5, 1.0, 'Суммарная концентрация металлов в сырье')"
      ]
     },
     "execution_count": 114,
     "metadata": {},
     "output_type": "execute_result"
    },
    {
     "data": {
      "image/png": "[encoded data removed]",
      "text/plain": [
       "<Figure size 1152x576 with 1 Axes>"
      ]
     },
     "metadata": {
      "needs_background": "light"
     },
     "output_type": "display_data"
    }
   ],
   "source": [
    "plt.subplots(figsize = (16,8))\n",
    "sns.histplot(sum_r_feed, fill=True, bins=150)\n",
    "plt.title('Суммарная концентрация металлов в сырье')"
   ]
  },
  {
   "cell_type": "markdown",
   "metadata": {},
   "source": [
    "Найдем суммарную концентрацию металлов (ag, pb, sol, au) в черновом концентрате"
   ]
  },
  {
   "cell_type": "code",
   "execution_count": 115,
   "metadata": {},
   "outputs": [],
   "source": [
    "sum_r_conc = gi_train[['rougher.output.concentrate_pb', \n",
    "                   'rougher.output.concentrate_ag', \n",
    "                   'rougher.output.concentrate_sol', \n",
    "                   'rougher.output.concentrate_au']].sum(axis=1)"
   ]
  },
  {
   "cell_type": "code",
   "execution_count": 116,
   "metadata": {},
   "outputs": [
    {
     "data": {
      "text/plain": [
       "Text(0.5, 1.0, 'Суммарная концентрация металлов в черновом концентрате')"
      ]
     },
     "execution_count": 116,
     "metadata": {},
     "output_type": "execute_result"
    },
    {
     "data": {
      "image/png": "[encoded data removed]",
      "text/plain": [
       "<Figure size 1152x576 with 1 Axes>"
      ]
     },
     "metadata": {
      "needs_background": "light"
     },
     "output_type": "display_data"
    }
   ],
   "source": [
    "plt.subplots(figsize = (16,8))\n",
    "sns.histplot(sum_r_conc, fill=True, bins=150)\n",
    "plt.title('Суммарная концентрация металлов в черновом концентрате')"
   ]
  },
  {
   "cell_type": "markdown",
   "metadata": {},
   "source": [
    "Найдем суммарную концентрацию металлов (ag, pb, sol, au) после первичной очистки"
   ]
  },
  {
   "cell_type": "code",
   "execution_count": 117,
   "metadata": {},
   "outputs": [],
   "source": [
    "sum_pc_conc = gi_train[['primary_cleaner.output.concentrate_pb', \n",
    "                   'primary_cleaner.output.concentrate_ag', \n",
    "                   'primary_cleaner.output.concentrate_sol', \n",
    "                   'primary_cleaner.output.concentrate_au']].sum(axis=1)"
   ]
  },
  {
   "cell_type": "code",
   "execution_count": 118,
   "metadata": {},
   "outputs": [
    {
     "data": {
      "text/plain": [
       "Text(0.5, 1.0, 'Суммарная концентрация металлов после первичной очистки')"
      ]
     },
     "execution_count": 118,
     "metadata": {},
     "output_type": "execute_result"
    },
    {
     "data": {
      "image/png": "[encoded data removed]",
      "text/plain": [
       "<Figure size 1152x576 with 1 Axes>"
      ]
     },
     "metadata": {
      "needs_background": "light"
     },
     "output_type": "display_data"
    }
   ],
   "source": [
    "plt.subplots(figsize = (16,8))\n",
    "sns.histplot(sum_pc_conc, fill=True, bins=150)\n",
    "plt.title('Суммарная концентрация металлов после первичной очистки')"
   ]
  },
  {
   "cell_type": "markdown",
   "metadata": {},
   "source": [
    "Найдем суммарную концентрацию металлов (ag, pb, sol, au) в финальном концентрате"
   ]
  },
  {
   "cell_type": "code",
   "execution_count": 119,
   "metadata": {},
   "outputs": [],
   "source": [
    "sum_fin_conc = gi_train[['final.output.concentrate_pb', \n",
    "                   'final.output.concentrate_ag', \n",
    "                   'final.output.concentrate_sol', \n",
    "                   'final.output.concentrate_au']].sum(axis=1)"
   ]
  },
  {
   "cell_type": "code",
   "execution_count": 120,
   "metadata": {
    "scrolled": false
   },
   "outputs": [
    {
     "data": {
      "text/plain": [
       "Text(0.5, 1.0, 'Суммарная концентрация металлов в финальном концентрате')"
      ]
     },
     "execution_count": 120,
     "metadata": {},
     "output_type": "execute_result"
    },
    {
     "data": {
      "image/png": "[encoded data removed]",
      "text/plain": [
       "<Figure size 1152x576 with 1 Axes>"
      ]
     },
     "metadata": {
      "needs_background": "light"
     },
     "output_type": "display_data"
    }
   ],
   "source": [
    "plt.subplots(figsize = (16,8))\n",
    "sns.histplot(sum_fin_conc, fill=True, bins=150)\n",
    "plt.title('Суммарная концентрация металлов в финальном концентрате')"
   ]
  },
  {
   "cell_type": "markdown",
   "metadata": {},
   "source": [
    "Найдены строки с нулевыми значениями в rougher.output, они являются аномалией. Удалим их."
   ]
  },
  {
   "cell_type": "code",
   "execution_count": 121,
   "metadata": {},
   "outputs": [
    {
     "data": {
      "text/html": [
       "<div>\n",
       "<style scoped>\n",
       "    .dataframe tbody tr th:only-of-type {\n",
       "        vertical-align: middle;\n",
       "    }\n",
       "\n",
       "    .dataframe tbody tr th {\n",
       "        vertical-align: top;\n",
       "    }\n",
       "\n",
       "    .dataframe thead th {\n",
       "        text-align: right;\n",
       "    }\n",
       "</style>\n",
       "<table border=\"1\" class=\"dataframe\">\n",
       "  <thead>\n",
       "    <tr style=\"text-align: right;\">\n",
       "      <th></th>\n",
       "      <th>date</th>\n",
       "      <th>rougher.input.feed_au</th>\n",
       "      <th>rougher.input.feed_ag</th>\n",
       "      <th>rougher.input.feed_pb</th>\n",
       "      <th>rougher.input.feed_sol</th>\n",
       "      <th>rougher.input.feed_rate</th>\n",
       "      <th>rougher.input.feed_size</th>\n",
       "      <th>rougher.input.floatbank10_sulfate</th>\n",
       "      <th>rougher.input.floatbank10_xanthate</th>\n",
       "      <th>rougher.state.floatbank10_a_air</th>\n",
       "      <th>...</th>\n",
       "      <th>secondary_cleaner.output.tail_sol</th>\n",
       "      <th>final.output.concentrate_au</th>\n",
       "      <th>final.output.concentrate_ag</th>\n",
       "      <th>final.output.concentrate_pb</th>\n",
       "      <th>final.output.concentrate_sol</th>\n",
       "      <th>final.output.recovery</th>\n",
       "      <th>final.output.tail_au</th>\n",
       "      <th>final.output.tail_ag</th>\n",
       "      <th>final.output.tail_pb</th>\n",
       "      <th>final.output.tail_sol</th>\n",
       "    </tr>\n",
       "  </thead>\n",
       "  <tbody>\n",
       "  </tbody>\n",
       "</table>\n",
       "<p>0 rows × 87 columns</p>\n",
       "</div>"
      ],
      "text/plain": [
       "Empty DataFrame\n",
       "Columns: [date, rougher.input.feed_au, rougher.input.feed_ag, rougher.input.feed_pb, rougher.input.feed_sol, rougher.input.feed_rate, rougher.input.feed_size, rougher.input.floatbank10_sulfate, rougher.input.floatbank10_xanthate, rougher.state.floatbank10_a_air, rougher.state.floatbank10_a_level, rougher.state.floatbank10_b_air, rougher.state.floatbank10_b_level, rougher.state.floatbank10_c_air, rougher.state.floatbank10_c_level, rougher.state.floatbank10_d_air, rougher.state.floatbank10_d_level, rougher.state.floatbank10_e_air, rougher.state.floatbank10_e_level, rougher.state.floatbank10_f_air, rougher.state.floatbank10_f_level, rougher.input.floatbank11_sulfate, rougher.input.floatbank11_xanthate, rougher.calculation.sulfate_to_au_concentrate, rougher.calculation.floatbank10_sulfate_to_au_feed, rougher.calculation.floatbank11_sulfate_to_au_feed, rougher.calculation.au_pb_ratio, rougher.output.concentrate_au, rougher.output.concentrate_ag, rougher.output.concentrate_pb, rougher.output.concentrate_sol, rougher.output.recovery, rougher.output.tail_au, rougher.output.tail_ag, rougher.output.tail_pb, rougher.output.tail_sol, primary_cleaner.input.sulfate, primary_cleaner.input.depressant, primary_cleaner.input.feed_size, primary_cleaner.input.xanthate, primary_cleaner.state.floatbank8_a_air, primary_cleaner.state.floatbank8_a_level, primary_cleaner.state.floatbank8_b_air, primary_cleaner.state.floatbank8_b_level, primary_cleaner.state.floatbank8_c_air, primary_cleaner.state.floatbank8_c_level, primary_cleaner.state.floatbank8_d_air, primary_cleaner.state.floatbank8_d_level, primary_cleaner.output.concentrate_au, primary_cleaner.output.concentrate_ag, primary_cleaner.output.concentrate_pb, primary_cleaner.output.concentrate_sol, primary_cleaner.output.tail_au, primary_cleaner.output.tail_ag, primary_cleaner.output.tail_pb, primary_cleaner.output.tail_sol, secondary_cleaner.state.floatbank2_a_air, secondary_cleaner.state.floatbank2_a_level, secondary_cleaner.state.floatbank2_b_air, secondary_cleaner.state.floatbank2_b_level, secondary_cleaner.state.floatbank3_a_air, secondary_cleaner.state.floatbank3_a_level, secondary_cleaner.state.floatbank3_b_air, secondary_cleaner.state.floatbank3_b_level, secondary_cleaner.state.floatbank4_a_air, secondary_cleaner.state.floatbank4_a_level, secondary_cleaner.state.floatbank4_b_air, secondary_cleaner.state.floatbank4_b_level, secondary_cleaner.state.floatbank5_a_air, secondary_cleaner.state.floatbank5_a_level, secondary_cleaner.state.floatbank5_b_air, secondary_cleaner.state.floatbank5_b_level, secondary_cleaner.state.floatbank6_a_air, secondary_cleaner.state.floatbank6_a_level, secondary_cleaner.output.tail_au, secondary_cleaner.output.tail_ag, secondary_cleaner.output.tail_pb, secondary_cleaner.output.tail_sol, final.output.concentrate_au, final.output.concentrate_ag, final.output.concentrate_pb, final.output.concentrate_sol, final.output.recovery, final.output.tail_au, final.output.tail_ag, final.output.tail_pb, final.output.tail_sol]\n",
       "Index: []\n",
       "\n",
       "[0 rows x 87 columns]"
      ]
     },
     "execution_count": 121,
     "metadata": {},
     "output_type": "execute_result"
    }
   ],
   "source": [
    "gi_train = gi_train.drop(gi_train[gi_train['rougher.output.concentrate_ag'] == 0].index)\n",
    "gi_train[gi_train['rougher.output.concentrate_ag'] == 0].head()"
   ]
  },
  {
   "cell_type": "markdown",
   "metadata": {},
   "source": [
    "### Промежуточный вывод"
   ]
  },
  {
   "cell_type": "markdown",
   "metadata": {},
   "source": [
    "В результате анализа были изучены:\n",
    "\n",
    "- Концетрации основных веществ на разных этапах очистки.\n",
    "- Размер гранул тестовой и обучающей выборки.\n",
    "- Суммарная концентрация веществ."
   ]
  },
  {
   "cell_type": "markdown",
   "metadata": {},
   "source": [
    "## Модель"
   ]
  },
  {
   "cell_type": "markdown",
   "metadata": {},
   "source": [
    "Добавим недостающие целевые признаки в тестовую выборку из полной, с помощью даты."
   ]
  },
  {
   "cell_type": "code",
   "execution_count": 122,
   "metadata": {},
   "outputs": [],
   "source": [
    "gi_test = gi_test.merge(gi_full[['date', 'rougher.output.recovery', 'final.output.recovery']], how = 'left', on = 'date')"
   ]
  },
  {
   "cell_type": "markdown",
   "metadata": {},
   "source": [
    "<div class=\"alert alert-success\">\n",
    "<font size=\"4\"><b>✔️ Комментарий ревьюера</b></font>\n",
    "    <br /> \n",
    "    <font size=\"3\", color = \"black\">\n",
    "<br />\n",
    "Молодец, что присоединил таргеты по дате, а не индексу. Тут из-за присоединения по индексам у многих студентов признаки и таргеты друг другу не соответствуют."
   ]
  },
  {
   "cell_type": "markdown",
   "metadata": {},
   "source": [
    "Удалим признак даты"
   ]
  },
  {
   "cell_type": "code",
   "execution_count": 123,
   "metadata": {},
   "outputs": [],
   "source": [
    "gi_test.drop(['date'], axis=1, inplace=True)"
   ]
  },
  {
   "cell_type": "markdown",
   "metadata": {},
   "source": [
    "Исключим из тренировочной выборки признаки, которых нет в тестовой"
   ]
  },
  {
   "cell_type": "code",
   "execution_count": 124,
   "metadata": {},
   "outputs": [],
   "source": [
    "gi_train = gi_train.drop(set(gi_train.columns)-set(gi_test.columns), axis=1)"
   ]
  },
  {
   "cell_type": "markdown",
   "metadata": {},
   "source": [
    "### Функция для вычисления итоговой sMAPE"
   ]
  },
  {
   "cell_type": "code",
   "execution_count": 147,
   "metadata": {},
   "outputs": [],
   "source": [
    "def smape(target, predicted):\n",
    "  return 1/len(target) * np.sum(2 * np.abs(target - predicted) / (np.abs(target) + np.abs(predicted))*100)\n",
    "def smape_final(rougher, final):\n",
    "  return 0.25*rougher + 0.75*final"
   ]
  },
  {
   "cell_type": "code",
   "execution_count": 168,
   "metadata": {},
   "outputs": [],
   "source": [
    "def sMAPE_score(rougher_recovery_target, rougher_recovery_predicted, final_recovery_target, final_recovery_predicted):\n",
    "    n = rougher_recovery_target.shape[0]\n",
    "    rougher_sMAPE = ((2*abs(rougher_recovery_target - rougher_recovery_predicted)/\n",
    "                     (abs(rougher_recovery_target) + abs(rougher_recovery_predicted))).sum() * 100 / n)\n",
    "    final_sMAPE = ((2*abs(final_recovery_target- final_recovery_predicted)/\n",
    "                     (abs(final_recovery_target) + abs(final_recovery_predicted))).sum() * 100 / n)\n",
    "    return rougher_sMAPE * 0.25 + final_sMAPE * 0.75"
   ]
  },
  {
   "cell_type": "markdown",
   "metadata": {},
   "source": [
    "<div class=\"alert alert-info\">\n",
    "<font size=\"4\">🍕<b> Комментарий ревьюера</b></font>\n",
    "    <br /> \n",
    "    <font size=\"3\", color = \"black\">\n",
    "<br />\n",
    "Вместо суммирования и деления на длину, кажется, намного проще использовать метод .mean()"
   ]
  },
  {
   "cell_type": "markdown",
   "metadata": {},
   "source": [
    "Выделим признаки на тренировочной выборке для чернового концентрата и для финального концентрата"
   ]
  },
  {
   "cell_type": "markdown",
   "metadata": {},
   "source": [
    "<div class=\"alert alert-info\">\n",
    "<font size=\"4\"><b>🔆Комментарий студента</b></font>\n",
    "    <br /> \n",
    "    <font size=\"3\", color = \"black\">\n",
    "<br /> \n",
    "Переписал функцию по-другому\n",
    "    </font>\n",
    "</div>"
   ]
  },
  {
   "cell_type": "code",
   "execution_count": 127,
   "metadata": {},
   "outputs": [],
   "source": [
    "features_train_rougher = gi_train.filter(regex='^rougher',axis=1)\n",
    "features_train_rougher = features_train_rougher.drop(['rougher.output.recovery'], axis=1)\n",
    "target_train_rougher = gi_train['rougher.output.recovery']\n",
    "\n",
    "features_train_final = gi_train.drop(['rougher.output.recovery', 'final.output.recovery'], axis=1)\n",
    "target_train_final = gi_train['final.output.recovery']"
   ]
  },
  {
   "cell_type": "markdown",
   "metadata": {},
   "source": [
    "Выделим признаки на тестовой выборке для чернового концентрата и для финального концентрата"
   ]
  },
  {
   "cell_type": "code",
   "execution_count": 128,
   "metadata": {},
   "outputs": [],
   "source": [
    "features_test_rougher = gi_test.filter(regex='^rougher',axis=1)\n",
    "features_test_rougher = features_test_rougher.drop(['rougher.output.recovery'], axis=1)\n",
    "target_test_rougher = gi_test['rougher.output.recovery']\n",
    "\n",
    "features_test_final = gi_test.drop(['rougher.output.recovery', 'final.output.recovery'], axis=1)\n",
    "target_test_final = gi_test['final.output.recovery']"
   ]
  },
  {
   "cell_type": "markdown",
   "metadata": {},
   "source": [
    "### Обучение моделей"
   ]
  },
  {
   "cell_type": "markdown",
   "metadata": {},
   "source": [
    "Рассмотрим модель линейной регрессии и выполним кросс валидацию."
   ]
  },
  {
   "cell_type": "code",
   "execution_count": 155,
   "metadata": {},
   "outputs": [
    {
     "name": "stdout",
     "output_type": "stream",
     "text": [
      "sMape для линейной регрессии rougher: -6.56018527853698\n",
      "sMape для линейной регрессии final: -9.428520440008665\n",
      "Итоговое sMape для линейной регрессии: -8.711436649640742\n"
     ]
    }
   ],
   "source": [
    "model = LinearRegression()\n",
    "scorer = make_scorer(smape, greater_is_better=False)\n",
    "rougher_recovery_predicted = cross_val_score(model, features_train_rougher, target_train_rougher, scoring=scorer, cv=5)\n",
    "final_recovery_predicted =  cross_val_score(model, features_train_final, target_train_final, scoring=scorer, cv=5)\n",
    "print('sMape для линейной регрессии rougher:', rougher_recovery_predicted.mean())\n",
    "print('sMape для линейной регрессии final:', final_recovery_predicted.mean())\n",
    "print('Итоговое sMape для линейной регрессии:', smape_final(rougher_recovery_predicted, final_recovery_predicted).mean())\n"
   ]
  },
  {
   "cell_type": "markdown",
   "metadata": {},
   "source": [
    "Рассмотрим модель решающего дерева и выполним кросс валидацию c помощью GridSearchCV"
   ]
  },
  {
   "cell_type": "code",
   "execution_count": 156,
   "metadata": {},
   "outputs": [
    {
     "name": "stdout",
     "output_type": "stream",
     "text": [
      "Лучшие параметры для rougher:\n",
      "{'criterion': 'mae', 'max_depth': 2, 'random_state': 42}\n",
      "\n",
      "Лучшие параметры для final:\n",
      "{'criterion': 'mae', 'max_depth': 2, 'random_state': 42}\n"
     ]
    }
   ],
   "source": [
    "model_DTR = DecisionTreeRegressor() \n",
    "max_depth_list = [x for x in range(1, 11, 1)]\n",
    "hyperparams = [{'criterion':['mse'], 'max_depth':max_depth_list, 'random_state':rs},\n",
    "               {'criterion':['mae'], 'max_depth':max_depth_list, 'random_state':rs}]\n",
    "\n",
    "clf_rougher = GridSearchCV(model_DTR, hyperparams)\n",
    "clf_rougher.fit(features_train_rougher, target_train_rougher)\n",
    "\n",
    "clf_final = GridSearchCV(model_DTR, hyperparams)\n",
    "clf_final.fit(features_train_final, target_train_final)\n",
    "\n",
    "print(\"Лучшие параметры для rougher:\")\n",
    "print(clf_rougher.best_params_)\n",
    "print()\n",
    "print(\"Лучшие параметры для final:\")\n",
    "print(clf_final.best_params_)"
   ]
  },
  {
   "cell_type": "markdown",
   "metadata": {},
   "source": [
    "<div class=\"alert alert-danger\">\n",
    "<font size=\"4\"><b>❌ Комментарий ревьюера V2</b></font>\n",
    "    <br /> \n",
    "    <font size=\"3\", color = \"black\">\n",
    "        <b></b>\n",
    "\n",
    "Абсолютно не понимаю твой ход. Зачем ты закомментировал функцию `smape`? Да, она была не очень оптимальной, но вполне рабочей. Теперь у тебя кросс-валидация выполняется так, что лучшая функция определяется по r2, а не по smape - это не то, что нам нужно. Верни, пожалуйста, свой кастомный `scorer` и используй его.\n",
    "\n",
    "Кроме этого, на всякий случай, поясню свой предыдущий красный.\n",
    "\n",
    "У тебя вполне может быть ситуация, что если построить, например, дерево глубины 3, то оно будет отлично предсказывать `target_train_rougher`, а дерево глубиной, например, 5 - отлично предсказывать `target_train_final`. Поэтому стоит отдельно находить лучшую модель на одном таргете, отдельно - на другом. Очевидно, результат от такой последовательности шагов работы станет только лучше. А ты теперь почему-то в целом только под `target_train_final` и ищешь модель 🤔"
   ]
  },
  {
   "cell_type": "code",
   "execution_count": 164,
   "metadata": {},
   "outputs": [
    {
     "name": "stdout",
     "output_type": "stream",
     "text": [
      "Глубина: 1\n",
      "sMAPE для решающего дерева rougher: -7.054342429703441\n",
      "sMAPE для решающего дерева final: -9.23753197328763\n",
      "Итоговое sMAPE для решающего дерева final: -8.691734587391583\n",
      "\n",
      "Глубина: 2\n",
      "sMAPE для решающего дерева rougher: -6.357335537697905\n",
      "sMAPE для решающего дерева final: -8.899184561641787\n",
      "Итоговое sMAPE для решающего дерева final: -8.263722305655818\n",
      "\n",
      "Глубина: 3\n",
      "sMAPE для решающего дерева rougher: -6.712043657617636\n",
      "sMAPE для решающего дерева final: -9.43665250562845\n",
      "Итоговое sMAPE для решающего дерева final: -8.755500293625747\n",
      "\n",
      "Глубина: 4\n",
      "sMAPE для решающего дерева rougher: -6.617982050539615\n",
      "sMAPE для решающего дерева final: -10.3279424527066\n",
      "Итоговое sMAPE для решающего дерева final: -9.400452352164853\n",
      "\n",
      "Глубина: 5\n",
      "sMAPE для решающего дерева rougher: -6.694649194202124\n",
      "sMAPE для решающего дерева final: -10.21436175235752\n",
      "Итоговое sMAPE для решающего дерева final: -9.334433612818671\n",
      "\n",
      "Глубина: 6\n",
      "sMAPE для решающего дерева rougher: -6.55350869122081\n",
      "sMAPE для решающего дерева final: -10.105742538498799\n",
      "Итоговое sMAPE для решающего дерева final: -9.217684076679301\n",
      "\n",
      "Глубина: 7\n",
      "sMAPE для решающего дерева rougher: -6.8292536364756105\n",
      "sMAPE для решающего дерева final: -10.510661945704985\n",
      "Итоговое sMAPE для решающего дерева final: -9.590309868397641\n",
      "\n",
      "Глубина: 8\n",
      "sMAPE для решающего дерева rougher: -7.371146903610935\n",
      "sMAPE для решающего дерева final: -11.4125193594908\n",
      "Итоговое sMAPE для решающего дерева final: -10.402176245520833\n",
      "\n",
      "Глубина: 9\n",
      "sMAPE для решающего дерева rougher: -7.3456149026352\n",
      "sMAPE для решающего дерева final: -11.833087135565034\n",
      "Итоговое sMAPE для решающего дерева final: -10.711219077332576\n",
      "\n",
      "\n"
     ]
    }
   ],
   "source": [
    "for depth in range(1, 10, 1):\n",
    "    model_DTR = DecisionTreeRegressor(random_state=rs, max_depth = depth)\n",
    "    scorer = make_scorer(smape, greater_is_better=False)\n",
    "    rougher_DTR = cross_val_score(model_DTR, features_train_rougher, target_train_rougher, scoring=scorer, cv=5)\n",
    "    final_DTR = cross_val_score(model_DTR, features_train_final, target_train_final, scoring=scorer, cv=5)\n",
    "    print('Глубина:',depth)\n",
    "    print('sMAPE для решающего дерева rougher:',rougher_DTR.mean())\n",
    "    print('sMAPE для решающего дерева final:',final_DTR.mean())\n",
    "    print('Итоговое sMAPE для решающего дерева final:',smape_final(rougher_DTR,final_DTR).mean())\n",
    "    print('')\n",
    "print() "
   ]
  },
  {
   "cell_type": "markdown",
   "metadata": {},
   "source": [
    "<div class=\"alert alert-warning\">\n",
    "<font size=\"4\"><b>⚠️ Комментарий ревьюера V3</b></font>\n",
    "    <br /> \n",
    "    <font size=\"3\", color = \"black\">\n",
    "<br />\n",
    "Не очень понимаю зачем ты после грид серча ещё раз ищешь гиперпараметры, но допустим. Возможно, у тебя есть какое-то непонимание работы с грид серчём? Пусть наставник/преподаватель тебе помогут, если такое действительно есть."
   ]
  },
  {
   "cell_type": "markdown",
   "metadata": {},
   "source": [
    "Наименьшие значения smape модель показывает при глубине дерева 2"
   ]
  },
  {
   "cell_type": "markdown",
   "metadata": {},
   "source": [
    "<div class=\"alert alert-danger\">\n",
    "<font size=\"4\"><b>❌ Комментарий ревьюера</b></font>\n",
    "    <br /> \n",
    "    <font size=\"3\", color = \"black\">\n",
    "<br /> \n",
    "Формально вполне возможна ситуация, что на первом таргете лучше справляется одна модель (например, лес), на втором - другая (например, линейная модель), поэтому нам надо отдельно найти лучшую модель на первом таргете и отдельно - на втором, и уже затем их результаты взвесить, вычислив smape итоговый.\n",
    "\n",
    "Тем более реальна ситуация, что на одном таргете будут лучшими одни гиперпараметры, на другом - другие. Очевидно, если обучим две разные модели и посчитаем их итоговый взвешенный smape, то он будет лучше, чем если подбирать гиперпараметры под взвешенный smape сразу, как это делаешь ты сейчас.\n",
    "\n",
    "Говоря более коротко, искать модели на rougher и на final надо независимо друг от друга."
   ]
  },
  {
   "cell_type": "markdown",
   "metadata": {},
   "source": [
    "<div class=\"alert alert-warning\">\n",
    "<font size=\"4\"><b>⚠️ Комментарий ревьюера</b></font>\n",
    "    <br /> \n",
    "    <font size=\"3\", color = \"black\">\n",
    "<br />\n",
    "Очень рекомендую тебе разобраться и использовать либо <a href=\"https://scikit-learn.org/stable/modules/generated/sklearn.model_selection.GridSearchCV.html\">GridSearchCV</a>, либо, что в текущем проекте несколько лучше, <a href=\"https://scikit-learn.org/stable/modules/generated/sklearn.model_selection.RandomizedSearchCV.html\">RandomizedSearchCV</a>. Это упростит тебе жизнь и сделает код намного более легко воспринимаемым."
   ]
  },
  {
   "cell_type": "markdown",
   "metadata": {},
   "source": [
    "### Проверка модели на тестовой выборке"
   ]
  },
  {
   "cell_type": "code",
   "execution_count": 176,
   "metadata": {
    "scrolled": true
   },
   "outputs": [
    {
     "name": "stdout",
     "output_type": "stream",
     "text": [
      "Итоговое sMAPE на тестовой выборке: 7.656242810979833\n"
     ]
    }
   ],
   "source": [
    "model_rougher = DecisionTreeRegressor(criterion='mae', random_state=rs, max_depth = 2)\n",
    "model_final = DecisionTreeRegressor(random_state=rs, max_depth = 2)\n",
    "model_rougher.fit(features_train_rougher, target_train_rougher)\n",
    "model_final.fit(features_train_final, target_train_final)\n",
    "test_predictions_rougher = model_rougher.predict(features_test_rougher)\n",
    "test_predictions_final = model_final.predict(features_test_final)\n",
    "print('Итоговое sMAPE на тестовой выборке:',sMAPE_score(\n",
    "    target_test_rougher, test_predictions_rougher, target_test_final, test_predictions_final))"
   ]
  },
  {
   "cell_type": "markdown",
   "metadata": {},
   "source": [
    "<div class=\"alert alert-info\">\n",
    "<font size=\"4\">🍕<b> Комментарий ревьюера</b></font>\n",
    "    <br /> \n",
    "    <font size=\"3\", color = \"black\">\n",
    "<br />\n",
    "Настоятельно тебе рекомендую рандом стейт (и другие глобальные константы) в начале работы сохранять в отдельную переменную и оперировать дальше ей. Иногда бывает нужно провести эксперимент с другим рандомом и менять по коду во всех местах где он испоьзуется явно хуже, чем одну переменную в начале поменять."
   ]
  },
  {
   "cell_type": "markdown",
   "metadata": {},
   "source": [
    "### Проверка модели на адекватность с помощью DummyRegressor"
   ]
  },
  {
   "cell_type": "code",
   "execution_count": 177,
   "metadata": {},
   "outputs": [
    {
     "name": "stdout",
     "output_type": "stream",
     "text": [
      "Итоговое sMAPE для DummyRegressor: 8.466759030905775\n"
     ]
    }
   ],
   "source": [
    "dummy_model_rougher = DummyRegressor(strategy=\"mean\")\n",
    "dummy_model_final = DummyRegressor(strategy=\"mean\")\n",
    "dummy_model_rougher.fit(features_train_rougher, target_train_rougher)\n",
    "dummy_model_final.fit(features_train_final, target_train_final)\n",
    "test_predictions_rougher = dummy_model_rougher.predict(features_test_rougher)\n",
    "test_predictions_final = dummy_model_final.predict(features_test_final)\n",
    "\n",
    "print('Итоговое sMAPE для DummyRegressor:',sMAPE_score(\n",
    "    target_test_rougher, test_predictions_rougher, target_test_final, test_predictions_final))"
   ]
  },
  {
   "cell_type": "markdown",
   "metadata": {},
   "source": [
    "Модель адекватна, тк sMAPE на тестовой выборке: 7.65, что меньше чем у DummyRegressor"
   ]
  },
  {
   "cell_type": "markdown",
   "metadata": {},
   "source": [
    "<div class=\"alert alert-info\">\n",
    "<font size=\"4\"><b>🔆Комментарий студента</b></font>\n",
    "    <br /> \n",
    "    <font size=\"3\", color = \"black\">\n",
    "<br /> \n",
    "После изменения фунции подсчета sMAPE, значения полуились выше чем у Dummy, не могу понять в чем дело \n",
    "    </font>\n",
    "</div>"
   ]
  },
  {
   "cell_type": "markdown",
   "metadata": {},
   "source": [
    "<div class=\"alert alert-success\">\n",
    "<font size=\"4\"><b>✔️ Комментарий ревьюера</b></font>\n",
    "    <br /> \n",
    "    <font size=\"3\", color = \"black\">\n",
    "<br />    \n",
    "Молодец, что делаешь проверку адекватности модели. Ведь без этого мы не можем понимать какое значение смапе можно считать хорошим, а какое - нет. Давать заказчику работу, не понимая хорошая ли модель - сомнительная затея\n",
    "<br />\n",
    "    </font>\n",
    "</div>"
   ]
  },
  {
   "cell_type": "markdown",
   "metadata": {},
   "source": [
    "<div class=\"alert alert-warning\">\n",
    "<font size=\"4\"><b>⚠️ Комментарий ревьюера</b></font>\n",
    "    <br /> \n",
    "    <font size=\"3\", color = \"black\">\n",
    "<br />\n",
    "Нам важно понимать, что модель, отобранная на тестирование (или 2 модели, если на таргетах rougher и final лучше себя показали разные) справляются лучше, чем дамми не только по итоговому смапе, но и по каждой из его 2 компонент. Гипотетически ведь вполне реальна ситуация: на одном таргете чуть лучше дамми, на другом лучше лес, после вычисления итогового смапе лес лучше. Но даже победы дамми на одном отдельно взятом таргете вполне достаточно, чтобы сказать, что мы что-то в работе сделали не так, надо дорабатывать."
   ]
  },
  {
   "cell_type": "markdown",
   "metadata": {},
   "source": [
    "## Вывод"
   ]
  },
  {
   "cell_type": "markdown",
   "metadata": {},
   "source": [
    "В ходе работы было выполнено:\n",
    "\n",
    "- Подготовлены данные.\n",
    "- Проведен исследовательский анализ данных.\n",
    "- Построена и обучена модель.\n",
    "\n",
    "Лучшее значение симметричного средне абсолютного процентного отклонения 7.65 показала модель решающего дерева. \n"
   ]
  },
  {
   "cell_type": "markdown",
   "metadata": {},
   "source": [
    "<div class=\"alert alert-info\">\n",
    "<font size=\"4\">🍕<b> Комментарий ревьюера</b></font>\n",
    "    <br /> \n",
    "    <font size=\"3\", color = \"black\">\n",
    "<br />\n",
    "Подведём итоги. В целом, у тебя достаточно хорошая работа, но несколько поводов для доработки есть:\n",
    "\n",
    "+ Добавить гистограмму концентрации в исходном сырье\n",
    "+ Почистить от аномалий трейн датасет\n",
    "+ Нормализовать гистограммы размеров гранул\n",
    "+ Находить лучшую модель на rougher и на final независимо друг от друга\n",
    "\n",
    "В целом, кажется, весьма немного и не сложно. Так что верю в твой успех и жду новую отправку."
   ]
  },
  {
   "cell_type": "markdown",
   "metadata": {},
   "source": [
    "## Чек-лист готовности проекта"
   ]
  },
  {
   "cell_type": "markdown",
   "metadata": {},
   "source": [
    "- [x]  Jupyter Notebook открыт\n",
    "- [x]  Весь код выполняется без ошибок\n",
    "- [x]  Ячейки с кодом расположены в порядке выполнения\n",
    "- [x]  Выполнен шаг 1: данные подготовлены\n",
    "    - [x]  Проверена формула вычисления эффективности обогащения\n",
    "    - [x]  Проанализированы признаки, недоступные в тестовой выборке\n",
    "    - [x]  Проведена предобработка данных\n",
    "- [x]  Выполнен шаг 2: данные проанализированы\n",
    "    - [x]  Исследовано изменение концентрации элементов на каждом этапе\n",
    "    - [x]  Проанализированы распределения размеров гранул на обучающей и тестовой выборках\n",
    "    - [x]  Исследованы суммарные концентрации\n",
    "- [x]  Выполнен шаг 3: построена модель прогнозирования\n",
    "    - [x]  Написана функция для вычисления итогового *sMAPE*\n",
    "    - [x]  Обучено и проверено несколько моделей\n",
    "    - [x]  Выбрана лучшая модель, её качество проверено на тестовой выборке"
   ]
  }
 ],
 "metadata": {
  "ExecuteTimeLog": [
   {
    "duration": 49,
    "start_time": "2023-08-09T18:56:42.379Z"
   },
   {
    "duration": 1577,
    "start_time": "2023-08-09T18:56:47.019Z"
   },
   {
    "duration": 1546,
    "start_time": "2023-08-09T18:56:48.827Z"
   },
   {
    "duration": 582,
    "start_time": "2023-08-09T20:31:32.611Z"
   },
   {
    "duration": 1314,
    "start_time": "2023-08-09T20:35:11.675Z"
   },
   {
    "duration": 358,
    "start_time": "2023-08-09T20:35:52.787Z"
   },
   {
    "duration": 427,
    "start_time": "2023-08-09T20:36:10.000Z"
   },
   {
    "duration": 203,
    "start_time": "2023-08-09T20:37:47.915Z"
   },
   {
    "duration": 398,
    "start_time": "2023-08-09T20:40:23.280Z"
   },
   {
    "duration": 391,
    "start_time": "2023-08-09T20:40:43.479Z"
   },
   {
    "duration": 481,
    "start_time": "2023-08-09T20:41:05.918Z"
   },
   {
    "duration": 461,
    "start_time": "2023-08-09T20:41:59.205Z"
   },
   {
    "duration": 455,
    "start_time": "2023-08-09T21:05:48.283Z"
   },
   {
    "duration": 360,
    "start_time": "2023-08-09T21:06:45.133Z"
   },
   {
    "duration": 411,
    "start_time": "2023-08-09T21:07:22.418Z"
   },
   {
    "duration": 404,
    "start_time": "2023-08-09T21:07:31.276Z"
   },
   {
    "duration": 447,
    "start_time": "2023-08-09T21:07:40.628Z"
   },
   {
    "duration": 374,
    "start_time": "2023-08-09T21:07:51.835Z"
   },
   {
    "duration": 79,
    "start_time": "2023-08-10T19:58:44.746Z"
   },
   {
    "duration": 1399,
    "start_time": "2023-08-10T19:58:55.797Z"
   },
   {
    "duration": 913,
    "start_time": "2023-08-10T19:58:57.198Z"
   },
   {
    "duration": 217,
    "start_time": "2023-08-10T19:58:58.113Z"
   },
   {
    "duration": 370,
    "start_time": "2023-08-10T19:59:28.010Z"
   },
   {
    "duration": 16,
    "start_time": "2023-08-10T20:36:35.809Z"
   },
   {
    "duration": 121,
    "start_time": "2023-08-10T20:36:36.099Z"
   },
   {
    "duration": 4469,
    "start_time": "2023-08-10T20:44:37.660Z"
   },
   {
    "duration": 355,
    "start_time": "2023-08-10T21:50:10.344Z"
   },
   {
    "duration": 374,
    "start_time": "2023-08-10T21:50:41.337Z"
   },
   {
    "duration": 107,
    "start_time": "2023-08-10T21:50:53.548Z"
   },
   {
    "duration": 8,
    "start_time": "2023-08-10T21:52:44.817Z"
   },
   {
    "duration": 856,
    "start_time": "2023-08-28T19:00:55.721Z"
   },
   {
    "duration": 16011,
    "start_time": "2023-08-28T19:01:34.299Z"
   },
   {
    "duration": 1417,
    "start_time": "2023-08-28T19:01:50.312Z"
   },
   {
    "duration": 189,
    "start_time": "2023-08-28T19:02:27.947Z"
   },
   {
    "duration": 116,
    "start_time": "2023-08-28T19:04:23.576Z"
   },
   {
    "duration": 474,
    "start_time": "2023-08-28T19:04:30.857Z"
   },
   {
    "duration": 58987,
    "start_time": "2023-08-28T19:04:36.257Z"
   },
   {
    "duration": 2307,
    "start_time": "2023-08-28T19:54:23.962Z"
   },
   {
    "duration": 2876,
    "start_time": "2023-08-28T19:54:26.272Z"
   },
   {
    "duration": 1247,
    "start_time": "2023-08-28T19:54:29.150Z"
   },
   {
    "duration": 10,
    "start_time": "2023-08-28T19:54:30.399Z"
   },
   {
    "duration": 434,
    "start_time": "2023-08-28T19:54:30.412Z"
   },
   {
    "duration": 0,
    "start_time": "2023-08-28T19:55:09.799Z"
   },
   {
    "duration": 0,
    "start_time": "2023-08-28T19:55:09.800Z"
   },
   {
    "duration": 0,
    "start_time": "2023-08-28T19:55:09.802Z"
   },
   {
    "duration": 0,
    "start_time": "2023-08-28T19:55:09.803Z"
   },
   {
    "duration": 0,
    "start_time": "2023-08-28T19:55:09.804Z"
   },
   {
    "duration": 0,
    "start_time": "2023-08-28T19:55:09.805Z"
   },
   {
    "duration": 2243,
    "start_time": "2023-08-28T19:55:11.683Z"
   },
   {
    "duration": 4,
    "start_time": "2023-08-28T19:55:21.222Z"
   },
   {
    "duration": 325,
    "start_time": "2023-08-28T19:55:22.037Z"
   },
   {
    "duration": 10,
    "start_time": "2023-08-28T19:55:23.629Z"
   },
   {
    "duration": 115,
    "start_time": "2023-08-28T19:55:25.480Z"
   },
   {
    "duration": 944,
    "start_time": "2023-08-31T19:52:57.732Z"
   },
   {
    "duration": 768,
    "start_time": "2023-08-31T19:53:06.824Z"
   },
   {
    "duration": 1489,
    "start_time": "2023-08-31T19:53:14.930Z"
   },
   {
    "duration": 545,
    "start_time": "2023-08-31T19:53:21.677Z"
   },
   {
    "duration": 2120,
    "start_time": "2023-08-31T19:54:09.465Z"
   },
   {
    "duration": 14,
    "start_time": "2023-08-31T20:11:06.450Z"
   },
   {
    "duration": 16,
    "start_time": "2023-08-31T20:16:11.443Z"
   },
   {
    "duration": 3,
    "start_time": "2023-08-31T21:00:23.230Z"
   },
   {
    "duration": 45,
    "start_time": "2023-08-31T21:00:31.161Z"
   },
   {
    "duration": 8,
    "start_time": "2023-08-31T21:00:48.768Z"
   },
   {
    "duration": 7,
    "start_time": "2023-08-31T21:01:57.326Z"
   },
   {
    "duration": 6,
    "start_time": "2023-08-31T21:07:00.170Z"
   },
   {
    "duration": 5,
    "start_time": "2023-08-31T21:12:51.134Z"
   },
   {
    "duration": 10,
    "start_time": "2023-08-31T21:26:56.159Z"
   },
   {
    "duration": 13,
    "start_time": "2023-08-31T21:27:38.590Z"
   },
   {
    "duration": 11,
    "start_time": "2023-08-31T21:31:55.884Z"
   },
   {
    "duration": 13,
    "start_time": "2023-08-31T21:32:07.920Z"
   },
   {
    "duration": 9,
    "start_time": "2023-08-31T21:34:15.807Z"
   },
   {
    "duration": 13,
    "start_time": "2023-08-31T21:34:17.134Z"
   },
   {
    "duration": 13,
    "start_time": "2023-08-31T21:35:22.688Z"
   },
   {
    "duration": 13,
    "start_time": "2023-08-31T21:35:37.553Z"
   },
   {
    "duration": 120,
    "start_time": "2023-08-31T21:39:16.911Z"
   },
   {
    "duration": 119,
    "start_time": "2023-08-31T21:39:23.580Z"
   },
   {
    "duration": 119,
    "start_time": "2023-08-31T21:39:48.504Z"
   },
   {
    "duration": 134,
    "start_time": "2023-08-31T21:40:12.735Z"
   },
   {
    "duration": 140,
    "start_time": "2023-08-31T21:40:36.541Z"
   },
   {
    "duration": 548,
    "start_time": "2023-08-31T21:53:59.132Z"
   },
   {
    "duration": 645,
    "start_time": "2023-08-31T21:54:30.919Z"
   },
   {
    "duration": 540,
    "start_time": "2023-08-31T21:54:38.973Z"
   },
   {
    "duration": 865,
    "start_time": "2023-08-31T22:04:14.223Z"
   },
   {
    "duration": 722,
    "start_time": "2023-08-31T22:05:37.947Z"
   },
   {
    "duration": 1175,
    "start_time": "2023-08-31T22:05:56.743Z"
   },
   {
    "duration": 1358,
    "start_time": "2023-08-31T22:06:24.148Z"
   },
   {
    "duration": 1203,
    "start_time": "2023-08-31T22:07:57.568Z"
   },
   {
    "duration": 1353,
    "start_time": "2023-08-31T22:08:16.756Z"
   },
   {
    "duration": 1330,
    "start_time": "2023-08-31T22:08:58.352Z"
   },
   {
    "duration": 1335,
    "start_time": "2023-08-31T22:09:14.533Z"
   },
   {
    "duration": 1377,
    "start_time": "2023-08-31T22:10:04.205Z"
   },
   {
    "duration": 1495,
    "start_time": "2023-08-31T22:10:28.217Z"
   },
   {
    "duration": 1239,
    "start_time": "2023-08-31T22:11:05.513Z"
   },
   {
    "duration": 2194,
    "start_time": "2023-08-31T22:12:41.633Z"
   },
   {
    "duration": 315,
    "start_time": "2023-08-31T22:14:23.003Z"
   },
   {
    "duration": 299,
    "start_time": "2023-08-31T22:14:54.653Z"
   },
   {
    "duration": 1706,
    "start_time": "2023-08-31T22:15:38.473Z"
   },
   {
    "duration": 1529,
    "start_time": "2023-08-31T22:15:55.381Z"
   },
   {
    "duration": 1607,
    "start_time": "2023-08-31T22:16:08.590Z"
   },
   {
    "duration": 1793,
    "start_time": "2023-08-31T22:16:37.411Z"
   },
   {
    "duration": 1857,
    "start_time": "2023-08-31T22:17:24.546Z"
   },
   {
    "duration": 1937,
    "start_time": "2023-08-31T22:17:34.722Z"
   },
   {
    "duration": 1925,
    "start_time": "2023-08-31T22:18:00.429Z"
   },
   {
    "duration": 1752,
    "start_time": "2023-08-31T22:18:09.968Z"
   },
   {
    "duration": 1803,
    "start_time": "2023-08-31T22:18:21.431Z"
   },
   {
    "duration": 1680,
    "start_time": "2023-08-31T22:18:40.724Z"
   },
   {
    "duration": 1731,
    "start_time": "2023-08-31T22:23:13.292Z"
   },
   {
    "duration": 1806,
    "start_time": "2023-08-31T22:23:31.202Z"
   },
   {
    "duration": 1915,
    "start_time": "2023-08-31T22:23:52.721Z"
   },
   {
    "duration": 826,
    "start_time": "2023-08-31T22:50:22.579Z"
   },
   {
    "duration": 647,
    "start_time": "2023-08-31T22:50:36.179Z"
   },
   {
    "duration": 691,
    "start_time": "2023-08-31T22:50:43.541Z"
   },
   {
    "duration": 837,
    "start_time": "2023-08-31T22:50:58.488Z"
   },
   {
    "duration": 13,
    "start_time": "2023-08-31T23:06:11.104Z"
   },
   {
    "duration": 419,
    "start_time": "2023-08-31T23:06:25.949Z"
   },
   {
    "duration": 559,
    "start_time": "2023-08-31T23:06:37.309Z"
   },
   {
    "duration": 417,
    "start_time": "2023-08-31T23:06:42.265Z"
   },
   {
    "duration": 417,
    "start_time": "2023-08-31T23:06:51.620Z"
   },
   {
    "duration": 432,
    "start_time": "2023-08-31T23:06:59.410Z"
   },
   {
    "duration": 600,
    "start_time": "2023-08-31T23:07:17.752Z"
   },
   {
    "duration": 10,
    "start_time": "2023-08-31T23:11:00.007Z"
   },
   {
    "duration": 8,
    "start_time": "2023-08-31T23:11:31.052Z"
   },
   {
    "duration": 11,
    "start_time": "2023-08-31T23:11:46.836Z"
   },
   {
    "duration": 10,
    "start_time": "2023-08-31T23:12:01.463Z"
   },
   {
    "duration": 9,
    "start_time": "2023-08-31T23:12:02.420Z"
   },
   {
    "duration": 6,
    "start_time": "2023-08-31T23:26:29.630Z"
   },
   {
    "duration": 136,
    "start_time": "2023-08-31T23:26:31.586Z"
   },
   {
    "duration": 5,
    "start_time": "2023-08-31T23:28:02.014Z"
   },
   {
    "duration": 61,
    "start_time": "2023-08-31T23:28:45.306Z"
   },
   {
    "duration": 553,
    "start_time": "2023-08-31T23:29:09.594Z"
   },
   {
    "duration": 793,
    "start_time": "2023-08-31T23:29:17.366Z"
   },
   {
    "duration": 801,
    "start_time": "2023-08-31T23:29:24.290Z"
   },
   {
    "duration": 730,
    "start_time": "2023-08-31T23:29:30.800Z"
   },
   {
    "duration": 429,
    "start_time": "2023-08-31T23:29:40.581Z"
   },
   {
    "duration": 314,
    "start_time": "2023-08-31T23:29:49.809Z"
   },
   {
    "duration": 392,
    "start_time": "2023-08-31T23:30:01.351Z"
   },
   {
    "duration": 5,
    "start_time": "2023-08-31T23:32:35.775Z"
   },
   {
    "duration": 776,
    "start_time": "2023-08-31T23:33:05.583Z"
   },
   {
    "duration": 305,
    "start_time": "2023-08-31T23:33:18.115Z"
   },
   {
    "duration": 338,
    "start_time": "2023-08-31T23:33:23.704Z"
   },
   {
    "duration": 5,
    "start_time": "2023-08-31T23:35:05.656Z"
   },
   {
    "duration": 361,
    "start_time": "2023-08-31T23:35:28.719Z"
   },
   {
    "duration": 19,
    "start_time": "2023-08-31T23:38:11.817Z"
   },
   {
    "duration": 6,
    "start_time": "2023-08-31T23:38:47.355Z"
   },
   {
    "duration": 368,
    "start_time": "2023-08-31T23:38:49.974Z"
   },
   {
    "duration": 35,
    "start_time": "2023-08-31T23:41:31.704Z"
   },
   {
    "duration": 6,
    "start_time": "2023-08-31T23:42:04.710Z"
   },
   {
    "duration": 363,
    "start_time": "2023-08-31T23:42:06.992Z"
   },
   {
    "duration": 33,
    "start_time": "2023-08-31T23:42:24.435Z"
   },
   {
    "duration": 6,
    "start_time": "2023-08-31T23:42:27.492Z"
   },
   {
    "duration": 631,
    "start_time": "2023-08-31T23:42:29.617Z"
   },
   {
    "duration": 5,
    "start_time": "2023-08-31T23:53:40.489Z"
   },
   {
    "duration": 366,
    "start_time": "2023-08-31T23:53:42.958Z"
   },
   {
    "duration": 5,
    "start_time": "2023-08-31T23:54:01.620Z"
   },
   {
    "duration": 380,
    "start_time": "2023-08-31T23:54:05.052Z"
   },
   {
    "duration": 33,
    "start_time": "2023-08-31T23:54:19.756Z"
   },
   {
    "duration": 17,
    "start_time": "2023-08-31T23:56:09.404Z"
   },
   {
    "duration": 5,
    "start_time": "2023-08-31T23:56:16.713Z"
   },
   {
    "duration": 340,
    "start_time": "2023-08-31T23:56:22.422Z"
   },
   {
    "duration": 20,
    "start_time": "2023-08-31T23:58:02.157Z"
   },
   {
    "duration": 4,
    "start_time": "2023-08-31T23:58:06.678Z"
   },
   {
    "duration": 343,
    "start_time": "2023-08-31T23:58:09.610Z"
   },
   {
    "duration": 18,
    "start_time": "2023-08-31T23:59:23.897Z"
   },
   {
    "duration": 18,
    "start_time": "2023-09-01T00:00:13.429Z"
   },
   {
    "duration": 371,
    "start_time": "2023-09-01T00:00:17.758Z"
   },
   {
    "duration": 20,
    "start_time": "2023-09-01T00:02:30.998Z"
   },
   {
    "duration": 681,
    "start_time": "2023-09-01T00:02:34.052Z"
   },
   {
    "duration": 90,
    "start_time": "2023-09-01T00:05:08.672Z"
   },
   {
    "duration": 1577,
    "start_time": "2023-09-01T20:30:02.631Z"
   },
   {
    "duration": 1433,
    "start_time": "2023-09-01T20:30:04.211Z"
   },
   {
    "duration": 509,
    "start_time": "2023-09-01T20:30:05.645Z"
   },
   {
    "duration": 1736,
    "start_time": "2023-09-01T20:30:06.157Z"
   },
   {
    "duration": 12,
    "start_time": "2023-09-01T20:30:07.895Z"
   },
   {
    "duration": 7,
    "start_time": "2023-09-01T20:30:07.908Z"
   },
   {
    "duration": 5,
    "start_time": "2023-09-01T20:30:07.917Z"
   },
   {
    "duration": 12,
    "start_time": "2023-09-01T20:30:07.944Z"
   },
   {
    "duration": 10,
    "start_time": "2023-09-01T20:30:07.957Z"
   },
   {
    "duration": 28,
    "start_time": "2023-09-01T20:30:07.969Z"
   },
   {
    "duration": 153,
    "start_time": "2023-09-01T20:30:07.999Z"
   },
   {
    "duration": 1657,
    "start_time": "2023-09-01T20:30:08.154Z"
   },
   {
    "duration": 731,
    "start_time": "2023-09-01T20:30:09.813Z"
   },
   {
    "duration": 423,
    "start_time": "2023-09-01T20:30:10.546Z"
   },
   {
    "duration": 8,
    "start_time": "2023-09-01T20:30:10.970Z"
   },
   {
    "duration": 10,
    "start_time": "2023-09-01T20:30:10.980Z"
   },
   {
    "duration": 13,
    "start_time": "2023-09-01T20:30:10.991Z"
   },
   {
    "duration": 380,
    "start_time": "2023-09-01T20:30:11.006Z"
   },
   {
    "duration": 5,
    "start_time": "2023-09-01T20:30:11.387Z"
   },
   {
    "duration": 332,
    "start_time": "2023-09-01T20:30:11.394Z"
   },
   {
    "duration": 5,
    "start_time": "2023-09-01T20:30:11.728Z"
   },
   {
    "duration": 450,
    "start_time": "2023-09-01T20:30:11.743Z"
   },
   {
    "duration": 4,
    "start_time": "2023-09-01T20:30:12.194Z"
   },
   {
    "duration": 345,
    "start_time": "2023-09-01T20:30:12.199Z"
   },
   {
    "duration": 19,
    "start_time": "2023-09-01T20:30:12.546Z"
   },
   {
    "duration": 22,
    "start_time": "2023-09-01T20:33:00.634Z"
   },
   {
    "duration": 27,
    "start_time": "2023-09-01T20:33:42.977Z"
   },
   {
    "duration": 4,
    "start_time": "2023-09-01T20:36:28.230Z"
   },
   {
    "duration": 5,
    "start_time": "2023-09-01T20:38:48.158Z"
   },
   {
    "duration": 4,
    "start_time": "2023-09-01T20:51:50.222Z"
   },
   {
    "duration": 110,
    "start_time": "2023-09-01T21:04:31.183Z"
   },
   {
    "duration": 1064,
    "start_time": "2023-09-01T21:06:07.385Z"
   },
   {
    "duration": 5,
    "start_time": "2023-09-01T21:06:31.336Z"
   },
   {
    "duration": 1376,
    "start_time": "2023-09-01T21:07:13.154Z"
   },
   {
    "duration": 513,
    "start_time": "2023-09-01T21:07:14.531Z"
   },
   {
    "duration": 200,
    "start_time": "2023-09-01T21:07:15.045Z"
   },
   {
    "duration": 619,
    "start_time": "2023-09-01T21:07:15.247Z"
   },
   {
    "duration": 12,
    "start_time": "2023-09-01T21:07:15.867Z"
   },
   {
    "duration": 6,
    "start_time": "2023-09-01T21:07:15.881Z"
   },
   {
    "duration": 10,
    "start_time": "2023-09-01T21:07:15.888Z"
   },
   {
    "duration": 19,
    "start_time": "2023-09-01T21:07:15.899Z"
   },
   {
    "duration": 24,
    "start_time": "2023-09-01T21:07:15.920Z"
   },
   {
    "duration": 12,
    "start_time": "2023-09-01T21:07:15.946Z"
   },
   {
    "duration": 147,
    "start_time": "2023-09-01T21:07:15.959Z"
   },
   {
    "duration": 1520,
    "start_time": "2023-09-01T21:07:16.107Z"
   },
   {
    "duration": 679,
    "start_time": "2023-09-01T21:07:17.628Z"
   },
   {
    "duration": 375,
    "start_time": "2023-09-01T21:07:18.308Z"
   },
   {
    "duration": 8,
    "start_time": "2023-09-01T21:07:18.684Z"
   },
   {
    "duration": 13,
    "start_time": "2023-09-01T21:07:18.693Z"
   },
   {
    "duration": 4,
    "start_time": "2023-09-01T21:07:18.708Z"
   },
   {
    "duration": 333,
    "start_time": "2023-09-01T21:07:18.713Z"
   },
   {
    "duration": 5,
    "start_time": "2023-09-01T21:07:19.047Z"
   },
   {
    "duration": 309,
    "start_time": "2023-09-01T21:07:19.054Z"
   },
   {
    "duration": 5,
    "start_time": "2023-09-01T21:07:19.365Z"
   },
   {
    "duration": 452,
    "start_time": "2023-09-01T21:07:19.371Z"
   },
   {
    "duration": 5,
    "start_time": "2023-09-01T21:07:19.824Z"
   },
   {
    "duration": 320,
    "start_time": "2023-09-01T21:07:19.830Z"
   },
   {
    "duration": 18,
    "start_time": "2023-09-01T21:07:20.151Z"
   },
   {
    "duration": 12,
    "start_time": "2023-09-01T21:07:20.170Z"
   },
   {
    "duration": 11,
    "start_time": "2023-09-01T21:07:20.183Z"
   },
   {
    "duration": 7,
    "start_time": "2023-09-01T21:07:20.197Z"
   },
   {
    "duration": 6,
    "start_time": "2023-09-01T21:07:20.205Z"
   },
   {
    "duration": 8,
    "start_time": "2023-09-01T21:07:20.213Z"
   },
   {
    "duration": 25,
    "start_time": "2023-09-01T21:07:20.222Z"
   },
   {
    "duration": 10,
    "start_time": "2023-09-01T21:07:20.249Z"
   },
   {
    "duration": 37,
    "start_time": "2023-09-01T21:15:25.687Z"
   },
   {
    "duration": 4,
    "start_time": "2023-09-01T21:16:53.182Z"
   },
   {
    "duration": 115,
    "start_time": "2023-09-01T21:21:32.653Z"
   },
   {
    "duration": 3,
    "start_time": "2023-09-01T21:25:30.988Z"
   },
   {
    "duration": 79,
    "start_time": "2023-09-01T21:25:50.031Z"
   },
   {
    "duration": 2521,
    "start_time": "2023-09-01T21:25:56.426Z"
   },
   {
    "duration": 3,
    "start_time": "2023-09-01T21:29:41.289Z"
   },
   {
    "duration": 7,
    "start_time": "2023-09-01T21:29:53.089Z"
   },
   {
    "duration": 7,
    "start_time": "2023-09-01T21:29:56.284Z"
   },
   {
    "duration": 2359,
    "start_time": "2023-09-01T21:30:03.089Z"
   },
   {
    "duration": 16554,
    "start_time": "2023-09-01T21:34:00.206Z"
   },
   {
    "duration": 16727,
    "start_time": "2023-09-01T21:35:12.463Z"
   },
   {
    "duration": 95,
    "start_time": "2023-09-01T21:41:39.590Z"
   },
   {
    "duration": 296,
    "start_time": "2023-09-01T21:41:48.596Z"
   },
   {
    "duration": 8,
    "start_time": "2023-09-01T21:45:43.457Z"
   },
   {
    "duration": 3,
    "start_time": "2023-09-01T21:49:37.235Z"
   },
   {
    "duration": 2047,
    "start_time": "2023-09-02T15:05:33.396Z"
   },
   {
    "duration": 1776,
    "start_time": "2023-09-02T15:05:38.330Z"
   },
   {
    "duration": 597,
    "start_time": "2023-09-02T15:05:40.719Z"
   },
   {
    "duration": 2228,
    "start_time": "2023-09-02T15:05:41.351Z"
   },
   {
    "duration": 6,
    "start_time": "2023-09-02T15:06:03.872Z"
   },
   {
    "duration": 16,
    "start_time": "2023-09-02T15:06:05.093Z"
   },
   {
    "duration": 6,
    "start_time": "2023-09-02T15:06:10.713Z"
   },
   {
    "duration": 10,
    "start_time": "2023-09-02T15:06:46.075Z"
   },
   {
    "duration": 4,
    "start_time": "2023-09-02T15:07:12.479Z"
   },
   {
    "duration": 7,
    "start_time": "2023-09-02T15:07:23.446Z"
   },
   {
    "duration": 14,
    "start_time": "2023-09-02T15:07:44.518Z"
   },
   {
    "duration": 9,
    "start_time": "2023-09-02T15:07:46.872Z"
   },
   {
    "duration": 22,
    "start_time": "2023-09-02T15:07:59.728Z"
   },
   {
    "duration": 195,
    "start_time": "2023-09-02T15:08:02.325Z"
   },
   {
    "duration": 1816,
    "start_time": "2023-09-02T15:08:30.181Z"
   },
   {
    "duration": 822,
    "start_time": "2023-09-02T15:09:39.417Z"
   },
   {
    "duration": 439,
    "start_time": "2023-09-02T15:10:00.208Z"
   },
   {
    "duration": 10,
    "start_time": "2023-09-02T15:10:02.899Z"
   },
   {
    "duration": 9,
    "start_time": "2023-09-02T15:10:03.083Z"
   },
   {
    "duration": 6,
    "start_time": "2023-09-02T15:10:05.175Z"
   },
   {
    "duration": 373,
    "start_time": "2023-09-02T15:10:05.707Z"
   },
   {
    "duration": 4,
    "start_time": "2023-09-02T15:10:06.390Z"
   },
   {
    "duration": 388,
    "start_time": "2023-09-02T15:10:06.675Z"
   },
   {
    "duration": 5,
    "start_time": "2023-09-02T15:10:08.232Z"
   },
   {
    "duration": 514,
    "start_time": "2023-09-02T15:10:09.294Z"
   },
   {
    "duration": 6,
    "start_time": "2023-09-02T15:10:12.075Z"
   },
   {
    "duration": 373,
    "start_time": "2023-09-02T15:10:12.427Z"
   },
   {
    "duration": 23,
    "start_time": "2023-09-02T15:10:22.638Z"
   },
   {
    "duration": 11,
    "start_time": "2023-09-02T15:10:30.280Z"
   },
   {
    "duration": 6,
    "start_time": "2023-09-02T15:11:02.061Z"
   },
   {
    "duration": 23,
    "start_time": "2023-09-02T15:11:07.311Z"
   },
   {
    "duration": 59,
    "start_time": "2023-09-03T10:57:31.911Z"
   },
   {
    "duration": 1830,
    "start_time": "2023-09-03T10:57:43.887Z"
   },
   {
    "duration": 1149,
    "start_time": "2023-09-03T10:57:45.719Z"
   },
   {
    "duration": 305,
    "start_time": "2023-09-03T10:57:46.870Z"
   },
   {
    "duration": 1367,
    "start_time": "2023-09-03T10:57:47.177Z"
   },
   {
    "duration": 7,
    "start_time": "2023-09-03T10:58:03.074Z"
   },
   {
    "duration": 6,
    "start_time": "2023-09-03T10:58:19.851Z"
   },
   {
    "duration": 84,
    "start_time": "2023-09-03T10:58:42.697Z"
   },
   {
    "duration": 6,
    "start_time": "2023-09-03T10:58:55.191Z"
   },
   {
    "duration": 7,
    "start_time": "2023-09-03T10:59:15.979Z"
   },
   {
    "duration": 7,
    "start_time": "2023-09-03T10:59:47.512Z"
   },
   {
    "duration": 80,
    "start_time": "2023-09-03T11:00:15.776Z"
   },
   {
    "duration": 9,
    "start_time": "2023-09-03T11:06:53.988Z"
   },
   {
    "duration": 1721,
    "start_time": "2023-09-03T11:08:00.207Z"
   },
   {
    "duration": 12,
    "start_time": "2023-09-03T11:08:16.391Z"
   },
   {
    "duration": 7,
    "start_time": "2023-09-03T11:08:30.879Z"
   },
   {
    "duration": 1580,
    "start_time": "2023-09-03T11:37:24.587Z"
   },
   {
    "duration": 662,
    "start_time": "2023-09-03T11:37:26.168Z"
   },
   {
    "duration": 240,
    "start_time": "2023-09-03T11:37:26.831Z"
   },
   {
    "duration": 719,
    "start_time": "2023-09-03T11:37:27.073Z"
   },
   {
    "duration": 18,
    "start_time": "2023-09-03T11:37:27.794Z"
   },
   {
    "duration": 6,
    "start_time": "2023-09-03T11:37:27.814Z"
   },
   {
    "duration": 12,
    "start_time": "2023-09-03T11:37:27.822Z"
   },
   {
    "duration": 9,
    "start_time": "2023-09-03T11:37:27.836Z"
   },
   {
    "duration": 4,
    "start_time": "2023-09-03T11:37:27.847Z"
   },
   {
    "duration": 12,
    "start_time": "2023-09-03T11:37:27.854Z"
   },
   {
    "duration": 11,
    "start_time": "2023-09-03T11:37:27.868Z"
   },
   {
    "duration": 30,
    "start_time": "2023-09-03T11:37:27.881Z"
   },
   {
    "duration": 17,
    "start_time": "2023-09-03T11:37:27.913Z"
   },
   {
    "duration": 8,
    "start_time": "2023-09-03T11:37:27.932Z"
   },
   {
    "duration": 13,
    "start_time": "2023-09-03T11:37:27.942Z"
   },
   {
    "duration": 188,
    "start_time": "2023-09-03T11:37:27.957Z"
   },
   {
    "duration": 2522,
    "start_time": "2023-09-03T11:37:28.147Z"
   },
   {
    "duration": 739,
    "start_time": "2023-09-03T11:37:30.672Z"
   },
   {
    "duration": 482,
    "start_time": "2023-09-03T11:37:31.413Z"
   },
   {
    "duration": 18,
    "start_time": "2023-09-03T11:37:31.898Z"
   },
   {
    "duration": 11,
    "start_time": "2023-09-03T11:37:31.918Z"
   },
   {
    "duration": 7,
    "start_time": "2023-09-03T11:37:31.931Z"
   },
   {
    "duration": 641,
    "start_time": "2023-09-03T11:37:31.940Z"
   },
   {
    "duration": 6,
    "start_time": "2023-09-03T11:37:32.584Z"
   },
   {
    "duration": 424,
    "start_time": "2023-09-03T11:37:32.592Z"
   },
   {
    "duration": 5,
    "start_time": "2023-09-03T11:37:33.018Z"
   },
   {
    "duration": 403,
    "start_time": "2023-09-03T11:37:33.025Z"
   },
   {
    "duration": 5,
    "start_time": "2023-09-03T11:37:33.433Z"
   },
   {
    "duration": 394,
    "start_time": "2023-09-03T11:37:33.440Z"
   },
   {
    "duration": 20,
    "start_time": "2023-09-03T11:37:33.836Z"
   },
   {
    "duration": 15,
    "start_time": "2023-09-03T11:37:33.857Z"
   },
   {
    "duration": 5,
    "start_time": "2023-09-03T11:37:33.874Z"
   },
   {
    "duration": 28,
    "start_time": "2023-09-03T11:37:33.881Z"
   },
   {
    "duration": 14,
    "start_time": "2023-09-03T11:37:33.911Z"
   },
   {
    "duration": 10,
    "start_time": "2023-09-03T11:37:33.927Z"
   },
   {
    "duration": 12,
    "start_time": "2023-09-03T11:37:33.939Z"
   },
   {
    "duration": 2367,
    "start_time": "2023-09-03T11:37:33.953Z"
   },
   {
    "duration": 19677,
    "start_time": "2023-09-03T11:37:36.408Z"
   },
   {
    "duration": 485,
    "start_time": "2023-09-03T11:37:56.087Z"
   },
   {
    "duration": 0,
    "start_time": "2023-09-03T11:37:56.574Z"
   },
   {
    "duration": 1546,
    "start_time": "2023-09-03T11:50:55.511Z"
   },
   {
    "duration": 1251,
    "start_time": "2023-09-03T11:51:39.447Z"
   },
   {
    "duration": 1342,
    "start_time": "2023-09-03T11:52:47.309Z"
   },
   {
    "duration": 88,
    "start_time": "2023-09-03T11:54:05.809Z"
   },
   {
    "duration": 128,
    "start_time": "2023-09-03T11:54:14.224Z"
   },
   {
    "duration": 75,
    "start_time": "2023-09-03T11:54:28.552Z"
   },
   {
    "duration": 78,
    "start_time": "2023-09-03T11:54:36.615Z"
   },
   {
    "duration": 1618,
    "start_time": "2023-09-03T11:54:47.171Z"
   },
   {
    "duration": 618,
    "start_time": "2023-09-03T11:54:48.791Z"
   },
   {
    "duration": 234,
    "start_time": "2023-09-03T11:54:49.411Z"
   },
   {
    "duration": 722,
    "start_time": "2023-09-03T11:54:49.647Z"
   },
   {
    "duration": 6,
    "start_time": "2023-09-03T11:54:50.371Z"
   },
   {
    "duration": 28,
    "start_time": "2023-09-03T11:54:50.379Z"
   },
   {
    "duration": 35,
    "start_time": "2023-09-03T11:54:50.409Z"
   },
   {
    "duration": 18,
    "start_time": "2023-09-03T11:54:50.446Z"
   },
   {
    "duration": 14,
    "start_time": "2023-09-03T11:54:50.466Z"
   },
   {
    "duration": 20,
    "start_time": "2023-09-03T11:54:50.482Z"
   },
   {
    "duration": 31,
    "start_time": "2023-09-03T11:54:50.504Z"
   },
   {
    "duration": 29,
    "start_time": "2023-09-03T11:54:50.537Z"
   },
   {
    "duration": 36,
    "start_time": "2023-09-03T11:54:50.568Z"
   },
   {
    "duration": 16,
    "start_time": "2023-09-03T11:54:50.605Z"
   },
   {
    "duration": 17,
    "start_time": "2023-09-03T11:54:50.624Z"
   },
   {
    "duration": 170,
    "start_time": "2023-09-03T11:54:50.643Z"
   },
   {
    "duration": 81,
    "start_time": "2023-09-03T11:54:50.815Z"
   },
   {
    "duration": 0,
    "start_time": "2023-09-03T11:54:50.898Z"
   },
   {
    "duration": 0,
    "start_time": "2023-09-03T11:54:50.899Z"
   },
   {
    "duration": 0,
    "start_time": "2023-09-03T11:54:50.901Z"
   },
   {
    "duration": 0,
    "start_time": "2023-09-03T11:54:50.902Z"
   },
   {
    "duration": 0,
    "start_time": "2023-09-03T11:54:50.903Z"
   },
   {
    "duration": 0,
    "start_time": "2023-09-03T11:54:50.904Z"
   },
   {
    "duration": 0,
    "start_time": "2023-09-03T11:54:50.905Z"
   },
   {
    "duration": 0,
    "start_time": "2023-09-03T11:54:50.906Z"
   },
   {
    "duration": 0,
    "start_time": "2023-09-03T11:54:50.908Z"
   },
   {
    "duration": 0,
    "start_time": "2023-09-03T11:54:50.910Z"
   },
   {
    "duration": 0,
    "start_time": "2023-09-03T11:54:50.911Z"
   },
   {
    "duration": 0,
    "start_time": "2023-09-03T11:54:50.912Z"
   },
   {
    "duration": 0,
    "start_time": "2023-09-03T11:54:50.913Z"
   },
   {
    "duration": 0,
    "start_time": "2023-09-03T11:54:50.914Z"
   },
   {
    "duration": 0,
    "start_time": "2023-09-03T11:54:50.915Z"
   },
   {
    "duration": 0,
    "start_time": "2023-09-03T11:54:50.916Z"
   },
   {
    "duration": 0,
    "start_time": "2023-09-03T11:54:50.917Z"
   },
   {
    "duration": 0,
    "start_time": "2023-09-03T11:54:50.918Z"
   },
   {
    "duration": 0,
    "start_time": "2023-09-03T11:54:50.919Z"
   },
   {
    "duration": 0,
    "start_time": "2023-09-03T11:54:50.920Z"
   },
   {
    "duration": 0,
    "start_time": "2023-09-03T11:54:50.922Z"
   },
   {
    "duration": 0,
    "start_time": "2023-09-03T11:54:50.923Z"
   },
   {
    "duration": 0,
    "start_time": "2023-09-03T11:54:50.924Z"
   },
   {
    "duration": 0,
    "start_time": "2023-09-03T11:54:50.925Z"
   },
   {
    "duration": 140,
    "start_time": "2023-09-03T11:55:11.983Z"
   },
   {
    "duration": 88,
    "start_time": "2023-09-03T11:55:33.464Z"
   },
   {
    "duration": 10,
    "start_time": "2023-09-03T11:56:47.414Z"
   },
   {
    "duration": 4,
    "start_time": "2023-09-03T11:57:17.899Z"
   },
   {
    "duration": 13,
    "start_time": "2023-09-03T11:57:47.888Z"
   },
   {
    "duration": 2405,
    "start_time": "2023-09-03T11:57:54.870Z"
   },
   {
    "duration": 11,
    "start_time": "2023-09-03T11:59:10.502Z"
   },
   {
    "duration": 9,
    "start_time": "2023-09-03T11:59:23.976Z"
   },
   {
    "duration": 2226,
    "start_time": "2023-09-03T11:59:26.703Z"
   },
   {
    "duration": 88,
    "start_time": "2023-09-03T12:01:41.441Z"
   },
   {
    "duration": 12,
    "start_time": "2023-09-03T12:01:47.762Z"
   },
   {
    "duration": 2398,
    "start_time": "2023-09-03T12:01:51.006Z"
   },
   {
    "duration": 793,
    "start_time": "2023-09-03T12:04:11.442Z"
   },
   {
    "duration": 659,
    "start_time": "2023-09-03T12:04:35.530Z"
   },
   {
    "duration": 835,
    "start_time": "2023-09-03T12:04:44.196Z"
   },
   {
    "duration": 645,
    "start_time": "2023-09-03T12:04:53.579Z"
   },
   {
    "duration": 843,
    "start_time": "2023-09-03T12:05:04.690Z"
   },
   {
    "duration": 706,
    "start_time": "2023-09-03T12:05:19.426Z"
   },
   {
    "duration": 247,
    "start_time": "2023-09-03T12:06:09.355Z"
   },
   {
    "duration": 922,
    "start_time": "2023-09-03T12:07:47.648Z"
   },
   {
    "duration": 712,
    "start_time": "2023-09-03T12:08:45.116Z"
   },
   {
    "duration": 817,
    "start_time": "2023-09-03T12:08:57.772Z"
   },
   {
    "duration": 754,
    "start_time": "2023-09-03T12:09:21.421Z"
   },
   {
    "duration": 460,
    "start_time": "2023-09-03T12:10:21.249Z"
   },
   {
    "duration": 598,
    "start_time": "2023-09-03T12:10:37.541Z"
   },
   {
    "duration": 459,
    "start_time": "2023-09-03T12:10:55.731Z"
   },
   {
    "duration": 746,
    "start_time": "2023-09-03T12:17:19.191Z"
   },
   {
    "duration": 640,
    "start_time": "2023-09-03T12:19:02.910Z"
   },
   {
    "duration": 961,
    "start_time": "2023-09-03T12:19:13.916Z"
   },
   {
    "duration": 591,
    "start_time": "2023-09-03T12:20:46.980Z"
   },
   {
    "duration": 12,
    "start_time": "2023-09-03T12:21:42.303Z"
   },
   {
    "duration": 11,
    "start_time": "2023-09-03T12:21:46.644Z"
   },
   {
    "duration": 5,
    "start_time": "2023-09-03T12:22:03.266Z"
   },
   {
    "duration": 411,
    "start_time": "2023-09-03T12:22:07.875Z"
   },
   {
    "duration": 5,
    "start_time": "2023-09-03T12:22:08.288Z"
   },
   {
    "duration": 388,
    "start_time": "2023-09-03T12:22:08.295Z"
   },
   {
    "duration": 6,
    "start_time": "2023-09-03T12:22:08.685Z"
   },
   {
    "duration": 410,
    "start_time": "2023-09-03T12:22:08.693Z"
   },
   {
    "duration": 5,
    "start_time": "2023-09-03T12:22:09.108Z"
   },
   {
    "duration": 542,
    "start_time": "2023-09-03T12:22:09.115Z"
   },
   {
    "duration": 19,
    "start_time": "2023-09-03T12:22:09.659Z"
   },
   {
    "duration": 29,
    "start_time": "2023-09-03T12:22:09.680Z"
   },
   {
    "duration": 6,
    "start_time": "2023-09-03T12:22:09.711Z"
   },
   {
    "duration": 6,
    "start_time": "2023-09-03T12:22:09.719Z"
   },
   {
    "duration": 7,
    "start_time": "2023-09-03T12:22:09.727Z"
   },
   {
    "duration": 15,
    "start_time": "2023-09-03T12:22:09.735Z"
   },
   {
    "duration": 18,
    "start_time": "2023-09-03T12:22:09.753Z"
   },
   {
    "duration": 2439,
    "start_time": "2023-09-03T12:22:09.773Z"
   },
   {
    "duration": 19054,
    "start_time": "2023-09-03T12:22:12.219Z"
   },
   {
    "duration": 466,
    "start_time": "2023-09-03T12:22:31.275Z"
   },
   {
    "duration": 0,
    "start_time": "2023-09-03T12:22:31.743Z"
   },
   {
    "duration": 4,
    "start_time": "2023-09-03T12:24:45.994Z"
   },
   {
    "duration": 9,
    "start_time": "2023-09-03T12:24:55.266Z"
   },
   {
    "duration": 8,
    "start_time": "2023-09-03T12:24:56.603Z"
   },
   {
    "duration": 3081,
    "start_time": "2023-09-03T12:25:00.443Z"
   },
   {
    "duration": 3,
    "start_time": "2023-09-03T12:25:20.147Z"
   },
   {
    "duration": 10,
    "start_time": "2023-09-03T12:25:21.294Z"
   },
   {
    "duration": 7,
    "start_time": "2023-09-03T12:25:22.215Z"
   },
   {
    "duration": 2287,
    "start_time": "2023-09-03T12:25:24.229Z"
   },
   {
    "duration": 351,
    "start_time": "2023-09-03T12:32:01.582Z"
   },
   {
    "duration": 4,
    "start_time": "2023-09-03T12:41:14.988Z"
   },
   {
    "duration": 2857,
    "start_time": "2023-09-03T13:09:59.461Z"
   },
   {
    "duration": 3,
    "start_time": "2023-09-03T13:10:47.535Z"
   },
   {
    "duration": 2819,
    "start_time": "2023-09-03T13:13:44.391Z"
   },
   {
    "duration": 2896,
    "start_time": "2023-09-03T13:13:50.915Z"
   },
   {
    "duration": 15,
    "start_time": "2023-09-03T13:25:00.573Z"
   },
   {
    "duration": 1788341,
    "start_time": "2023-09-03T13:25:17.936Z"
   },
   {
    "duration": 2,
    "start_time": "2023-09-03T13:55:06.279Z"
   },
   {
    "duration": 4,
    "start_time": "2023-09-03T13:59:46.165Z"
   },
   {
    "duration": 524,
    "start_time": "2023-09-03T14:00:05.397Z"
   },
   {
    "duration": 11,
    "start_time": "2023-09-03T14:06:28.987Z"
   },
   {
    "duration": 5,
    "start_time": "2023-09-03T14:13:33.244Z"
   },
   {
    "duration": 649,
    "start_time": "2023-09-03T14:14:00.662Z"
   },
   {
    "duration": 11,
    "start_time": "2023-09-03T14:14:07.506Z"
   },
   {
    "duration": 46730,
    "start_time": "2023-09-03T14:15:14.188Z"
   },
   {
    "duration": 12,
    "start_time": "2023-09-03T14:16:14.648Z"
   },
   {
    "duration": 9,
    "start_time": "2023-09-03T14:17:11.910Z"
   },
   {
    "duration": 11,
    "start_time": "2023-09-03T14:17:21.207Z"
   },
   {
    "duration": 3,
    "start_time": "2023-09-03T14:17:42.477Z"
   },
   {
    "duration": 3,
    "start_time": "2023-09-03T14:18:26.785Z"
   },
   {
    "duration": 3303,
    "start_time": "2023-09-03T14:26:00.036Z"
   },
   {
    "duration": 2628,
    "start_time": "2023-09-03T14:27:57.791Z"
   },
   {
    "duration": 46038,
    "start_time": "2023-09-03T14:30:36.735Z"
   },
   {
    "duration": 55459,
    "start_time": "2023-09-03T14:38:31.770Z"
   },
   {
    "duration": 1575,
    "start_time": "2023-09-03T14:46:12.288Z"
   },
   {
    "duration": 3,
    "start_time": "2023-09-03T14:46:13.866Z"
   },
   {
    "duration": 641,
    "start_time": "2023-09-03T14:46:13.870Z"
   },
   {
    "duration": 244,
    "start_time": "2023-09-03T14:46:14.513Z"
   },
   {
    "duration": 770,
    "start_time": "2023-09-03T14:46:14.759Z"
   },
   {
    "duration": 8,
    "start_time": "2023-09-03T14:46:15.531Z"
   },
   {
    "duration": 17,
    "start_time": "2023-09-03T14:46:15.542Z"
   },
   {
    "duration": 16,
    "start_time": "2023-09-03T14:46:15.562Z"
   },
   {
    "duration": 30,
    "start_time": "2023-09-03T14:46:15.579Z"
   },
   {
    "duration": 14,
    "start_time": "2023-09-03T14:46:15.613Z"
   },
   {
    "duration": 21,
    "start_time": "2023-09-03T14:46:15.629Z"
   },
   {
    "duration": 5,
    "start_time": "2023-09-03T14:46:15.652Z"
   },
   {
    "duration": 16,
    "start_time": "2023-09-03T14:46:15.659Z"
   },
   {
    "duration": 33,
    "start_time": "2023-09-03T14:46:15.677Z"
   },
   {
    "duration": 12,
    "start_time": "2023-09-03T14:46:15.712Z"
   },
   {
    "duration": 17,
    "start_time": "2023-09-03T14:46:15.726Z"
   },
   {
    "duration": 194,
    "start_time": "2023-09-03T14:46:15.745Z"
   },
   {
    "duration": 16,
    "start_time": "2023-09-03T14:46:15.941Z"
   },
   {
    "duration": 2497,
    "start_time": "2023-09-03T14:46:15.960Z"
   },
   {
    "duration": 953,
    "start_time": "2023-09-03T14:46:18.460Z"
   },
   {
    "duration": 597,
    "start_time": "2023-09-03T14:46:19.415Z"
   },
   {
    "duration": 14,
    "start_time": "2023-09-03T14:46:20.014Z"
   },
   {
    "duration": 17,
    "start_time": "2023-09-03T14:46:20.030Z"
   },
   {
    "duration": 6,
    "start_time": "2023-09-03T14:46:20.049Z"
   },
   {
    "duration": 436,
    "start_time": "2023-09-03T14:46:20.057Z"
   },
   {
    "duration": 6,
    "start_time": "2023-09-03T14:46:20.494Z"
   },
   {
    "duration": 398,
    "start_time": "2023-09-03T14:46:20.502Z"
   },
   {
    "duration": 10,
    "start_time": "2023-09-03T14:46:20.904Z"
   },
   {
    "duration": 415,
    "start_time": "2023-09-03T14:46:20.916Z"
   },
   {
    "duration": 5,
    "start_time": "2023-09-03T14:46:21.333Z"
   },
   {
    "duration": 503,
    "start_time": "2023-09-03T14:46:21.340Z"
   },
   {
    "duration": 21,
    "start_time": "2023-09-03T14:46:21.846Z"
   },
   {
    "duration": 15,
    "start_time": "2023-09-03T14:46:21.868Z"
   },
   {
    "duration": 5,
    "start_time": "2023-09-03T14:46:21.910Z"
   },
   {
    "duration": 7,
    "start_time": "2023-09-03T14:46:21.917Z"
   },
   {
    "duration": 8,
    "start_time": "2023-09-03T14:46:21.926Z"
   },
   {
    "duration": 21,
    "start_time": "2023-09-03T14:46:21.935Z"
   },
   {
    "duration": 12,
    "start_time": "2023-09-03T14:46:21.958Z"
   },
   {
    "duration": 11,
    "start_time": "2023-09-03T14:46:21.971Z"
   },
   {
    "duration": 25,
    "start_time": "2023-09-03T14:46:21.984Z"
   },
   {
    "duration": 3308,
    "start_time": "2023-09-03T14:46:22.011Z"
   },
   {
    "duration": 3,
    "start_time": "2023-09-03T14:46:25.322Z"
   },
   {
    "duration": 84,
    "start_time": "2023-09-03T14:46:25.327Z"
   },
   {
    "duration": 5,
    "start_time": "2023-09-03T14:46:25.414Z"
   },
   {
    "duration": 8,
    "start_time": "2023-09-03T14:46:25.421Z"
   },
   {
    "duration": 390,
    "start_time": "2023-09-03T14:46:25.431Z"
   },
   {
    "duration": 56195,
    "start_time": "2023-09-03T14:46:25.823Z"
   },
   {
    "duration": 9,
    "start_time": "2023-09-03T14:47:22.020Z"
   },
   {
    "duration": 72,
    "start_time": "2023-09-03T14:56:02.247Z"
   },
   {
    "duration": 762,
    "start_time": "2023-09-03T15:13:23.559Z"
   },
   {
    "duration": 495,
    "start_time": "2023-09-03T15:14:18.651Z"
   },
   {
    "duration": 81,
    "start_time": "2023-09-03T22:02:07.662Z"
   },
   {
    "duration": 1866,
    "start_time": "2023-09-03T22:02:14.223Z"
   },
   {
    "duration": 4,
    "start_time": "2023-09-03T22:02:16.091Z"
   },
   {
    "duration": 1241,
    "start_time": "2023-09-03T22:02:16.100Z"
   },
   {
    "duration": 330,
    "start_time": "2023-09-03T22:02:17.344Z"
   },
   {
    "duration": 1602,
    "start_time": "2023-09-03T22:02:17.676Z"
   },
   {
    "duration": 6,
    "start_time": "2023-09-03T22:02:19.280Z"
   },
   {
    "duration": 28,
    "start_time": "2023-09-03T22:02:19.288Z"
   },
   {
    "duration": 13,
    "start_time": "2023-09-03T22:02:19.318Z"
   },
   {
    "duration": 7,
    "start_time": "2023-09-03T22:02:19.333Z"
   },
   {
    "duration": 4,
    "start_time": "2023-09-03T22:02:19.343Z"
   },
   {
    "duration": 14,
    "start_time": "2023-09-03T22:02:19.349Z"
   },
   {
    "duration": 5,
    "start_time": "2023-09-03T22:02:19.365Z"
   },
   {
    "duration": 33,
    "start_time": "2023-09-03T22:02:19.372Z"
   },
   {
    "duration": 24,
    "start_time": "2023-09-03T22:02:19.407Z"
   },
   {
    "duration": 8,
    "start_time": "2023-09-03T22:02:19.433Z"
   },
   {
    "duration": 12,
    "start_time": "2023-09-03T22:02:19.443Z"
   },
   {
    "duration": 198,
    "start_time": "2023-09-03T22:02:19.456Z"
   },
   {
    "duration": 13,
    "start_time": "2023-09-03T22:02:19.655Z"
   },
   {
    "duration": 2671,
    "start_time": "2023-09-03T22:02:19.670Z"
   },
   {
    "duration": 1034,
    "start_time": "2023-09-03T22:02:22.343Z"
   },
   {
    "duration": 667,
    "start_time": "2023-09-03T22:02:23.379Z"
   },
   {
    "duration": 9,
    "start_time": "2023-09-03T22:02:24.048Z"
   },
   {
    "duration": 18,
    "start_time": "2023-09-03T22:02:24.059Z"
   },
   {
    "duration": 21,
    "start_time": "2023-09-03T22:02:24.078Z"
   },
   {
    "duration": 464,
    "start_time": "2023-09-03T22:02:24.101Z"
   },
   {
    "duration": 7,
    "start_time": "2023-09-03T22:02:24.568Z"
   },
   {
    "duration": 481,
    "start_time": "2023-09-03T22:02:24.577Z"
   },
   {
    "duration": 5,
    "start_time": "2023-09-03T22:02:25.062Z"
   },
   {
    "duration": 417,
    "start_time": "2023-09-03T22:02:25.069Z"
   },
   {
    "duration": 14,
    "start_time": "2023-09-03T22:02:25.488Z"
   },
   {
    "duration": 556,
    "start_time": "2023-09-03T22:02:25.503Z"
   },
   {
    "duration": 20,
    "start_time": "2023-09-03T22:02:26.060Z"
   },
   {
    "duration": 42,
    "start_time": "2023-09-03T22:02:26.081Z"
   },
   {
    "duration": 13,
    "start_time": "2023-09-03T22:02:26.125Z"
   },
   {
    "duration": 74,
    "start_time": "2023-09-03T22:02:26.140Z"
   },
   {
    "duration": 22,
    "start_time": "2023-09-03T22:02:26.219Z"
   },
   {
    "duration": 14,
    "start_time": "2023-09-03T22:02:26.243Z"
   },
   {
    "duration": 34,
    "start_time": "2023-09-03T22:02:26.259Z"
   },
   {
    "duration": 31,
    "start_time": "2023-09-03T22:02:26.295Z"
   },
   {
    "duration": 31,
    "start_time": "2023-09-03T22:02:26.328Z"
   },
   {
    "duration": 52,
    "start_time": "2023-09-03T22:02:26.361Z"
   },
   {
    "duration": 2624,
    "start_time": "2023-09-03T22:02:26.416Z"
   },
   {
    "duration": 0,
    "start_time": "2023-09-03T22:02:29.042Z"
   },
   {
    "duration": 0,
    "start_time": "2023-09-03T22:02:29.043Z"
   },
   {
    "duration": 0,
    "start_time": "2023-09-03T22:02:29.045Z"
   },
   {
    "duration": 1,
    "start_time": "2023-09-03T22:02:29.046Z"
   },
   {
    "duration": 0,
    "start_time": "2023-09-03T22:02:29.048Z"
   },
   {
    "duration": 0,
    "start_time": "2023-09-03T22:02:29.049Z"
   },
   {
    "duration": 3224,
    "start_time": "2023-09-03T22:08:02.381Z"
   },
   {
    "duration": 15,
    "start_time": "2023-09-03T22:17:46.250Z"
   },
   {
    "duration": 3,
    "start_time": "2023-09-03T22:18:21.524Z"
   },
   {
    "duration": 3,
    "start_time": "2023-09-03T22:18:27.641Z"
   },
   {
    "duration": 5,
    "start_time": "2023-09-03T22:18:27.646Z"
   },
   {
    "duration": 573,
    "start_time": "2023-09-03T22:18:27.653Z"
   },
   {
    "duration": 212,
    "start_time": "2023-09-03T22:18:28.228Z"
   },
   {
    "duration": 681,
    "start_time": "2023-09-03T22:18:28.443Z"
   },
   {
    "duration": 9,
    "start_time": "2023-09-03T22:18:29.126Z"
   },
   {
    "duration": 15,
    "start_time": "2023-09-03T22:18:29.137Z"
   },
   {
    "duration": 13,
    "start_time": "2023-09-03T22:18:29.155Z"
   },
   {
    "duration": 11,
    "start_time": "2023-09-03T22:18:29.170Z"
   },
   {
    "duration": 19,
    "start_time": "2023-09-03T22:18:29.182Z"
   },
   {
    "duration": 8,
    "start_time": "2023-09-03T22:18:29.205Z"
   },
   {
    "duration": 4,
    "start_time": "2023-09-03T22:18:29.215Z"
   },
   {
    "duration": 7,
    "start_time": "2023-09-03T22:18:29.221Z"
   },
   {
    "duration": 15,
    "start_time": "2023-09-03T22:18:29.229Z"
   },
   {
    "duration": 9,
    "start_time": "2023-09-03T22:18:29.245Z"
   },
   {
    "duration": 53,
    "start_time": "2023-09-03T22:18:29.255Z"
   },
   {
    "duration": 165,
    "start_time": "2023-09-03T22:18:29.311Z"
   },
   {
    "duration": 9,
    "start_time": "2023-09-03T22:18:29.478Z"
   },
   {
    "duration": 2356,
    "start_time": "2023-09-03T22:18:29.489Z"
   },
   {
    "duration": 1194,
    "start_time": "2023-09-03T22:18:31.847Z"
   },
   {
    "duration": 447,
    "start_time": "2023-09-03T22:18:33.043Z"
   },
   {
    "duration": 12,
    "start_time": "2023-09-03T22:18:33.492Z"
   },
   {
    "duration": 20,
    "start_time": "2023-09-03T22:18:33.506Z"
   },
   {
    "duration": 9,
    "start_time": "2023-09-03T22:18:33.528Z"
   },
   {
    "duration": 386,
    "start_time": "2023-09-03T22:18:33.539Z"
   },
   {
    "duration": 5,
    "start_time": "2023-09-03T22:18:33.927Z"
   },
   {
    "duration": 398,
    "start_time": "2023-09-03T22:18:33.934Z"
   },
   {
    "duration": 5,
    "start_time": "2023-09-03T22:18:34.334Z"
   },
   {
    "duration": 642,
    "start_time": "2023-09-03T22:18:34.342Z"
   },
   {
    "duration": 6,
    "start_time": "2023-09-03T22:18:34.986Z"
   },
   {
    "duration": 413,
    "start_time": "2023-09-03T22:18:35.001Z"
   },
   {
    "duration": 20,
    "start_time": "2023-09-03T22:18:35.415Z"
   },
   {
    "duration": 34,
    "start_time": "2023-09-03T22:18:35.438Z"
   },
   {
    "duration": 12,
    "start_time": "2023-09-03T22:18:35.474Z"
   },
   {
    "duration": 9,
    "start_time": "2023-09-03T22:18:35.487Z"
   },
   {
    "duration": 12,
    "start_time": "2023-09-03T22:18:35.498Z"
   },
   {
    "duration": 16,
    "start_time": "2023-09-03T22:18:35.512Z"
   },
   {
    "duration": 20,
    "start_time": "2023-09-03T22:18:35.530Z"
   },
   {
    "duration": 25,
    "start_time": "2023-09-03T22:18:35.552Z"
   },
   {
    "duration": 18,
    "start_time": "2023-09-03T22:18:35.579Z"
   },
   {
    "duration": 10,
    "start_time": "2023-09-03T22:18:35.599Z"
   },
   {
    "duration": 3106,
    "start_time": "2023-09-03T22:18:35.611Z"
   },
   {
    "duration": 0,
    "start_time": "2023-09-03T22:18:38.719Z"
   },
   {
    "duration": 0,
    "start_time": "2023-09-03T22:18:38.720Z"
   },
   {
    "duration": 0,
    "start_time": "2023-09-03T22:18:38.721Z"
   },
   {
    "duration": 0,
    "start_time": "2023-09-03T22:18:38.722Z"
   },
   {
    "duration": 0,
    "start_time": "2023-09-03T22:18:38.724Z"
   },
   {
    "duration": 0,
    "start_time": "2023-09-03T22:18:38.724Z"
   },
   {
    "duration": 13,
    "start_time": "2023-09-03T22:18:52.972Z"
   },
   {
    "duration": 4,
    "start_time": "2023-09-03T22:23:39.249Z"
   },
   {
    "duration": 6,
    "start_time": "2023-09-03T22:23:39.256Z"
   },
   {
    "duration": 585,
    "start_time": "2023-09-03T22:23:39.265Z"
   },
   {
    "duration": 217,
    "start_time": "2023-09-03T22:23:39.852Z"
   },
   {
    "duration": 701,
    "start_time": "2023-09-03T22:23:40.072Z"
   },
   {
    "duration": 6,
    "start_time": "2023-09-03T22:23:40.774Z"
   },
   {
    "duration": 21,
    "start_time": "2023-09-03T22:23:40.782Z"
   },
   {
    "duration": 15,
    "start_time": "2023-09-03T22:23:40.805Z"
   },
   {
    "duration": 9,
    "start_time": "2023-09-03T22:23:40.821Z"
   },
   {
    "duration": 5,
    "start_time": "2023-09-03T22:23:40.832Z"
   },
   {
    "duration": 13,
    "start_time": "2023-09-03T22:23:40.840Z"
   },
   {
    "duration": 12,
    "start_time": "2023-09-03T22:23:40.854Z"
   },
   {
    "duration": 7,
    "start_time": "2023-09-03T22:23:40.868Z"
   },
   {
    "duration": 31,
    "start_time": "2023-09-03T22:23:40.877Z"
   },
   {
    "duration": 8,
    "start_time": "2023-09-03T22:23:40.910Z"
   },
   {
    "duration": 12,
    "start_time": "2023-09-03T22:23:40.920Z"
   },
   {
    "duration": 177,
    "start_time": "2023-09-03T22:23:40.933Z"
   },
   {
    "duration": 10,
    "start_time": "2023-09-03T22:23:41.112Z"
   },
   {
    "duration": 2269,
    "start_time": "2023-09-03T22:23:41.124Z"
   },
   {
    "duration": 1169,
    "start_time": "2023-09-03T22:23:43.395Z"
   },
   {
    "duration": 516,
    "start_time": "2023-09-03T22:23:44.566Z"
   },
   {
    "duration": 23,
    "start_time": "2023-09-03T22:23:45.084Z"
   },
   {
    "duration": 117,
    "start_time": "2023-09-03T22:23:45.109Z"
   },
   {
    "duration": 21,
    "start_time": "2023-09-03T22:23:45.227Z"
   },
   {
    "duration": 592,
    "start_time": "2023-09-03T22:23:45.250Z"
   },
   {
    "duration": 5,
    "start_time": "2023-09-03T22:23:45.844Z"
   },
   {
    "duration": 377,
    "start_time": "2023-09-03T22:23:45.851Z"
   },
   {
    "duration": 5,
    "start_time": "2023-09-03T22:23:46.230Z"
   },
   {
    "duration": 392,
    "start_time": "2023-09-03T22:23:46.240Z"
   },
   {
    "duration": 5,
    "start_time": "2023-09-03T22:23:46.634Z"
   },
   {
    "duration": 532,
    "start_time": "2023-09-03T22:23:46.640Z"
   },
   {
    "duration": 17,
    "start_time": "2023-09-03T22:23:47.173Z"
   },
   {
    "duration": 15,
    "start_time": "2023-09-03T22:23:47.201Z"
   },
   {
    "duration": 7,
    "start_time": "2023-09-03T22:23:47.218Z"
   },
   {
    "duration": 12,
    "start_time": "2023-09-03T22:23:47.226Z"
   },
   {
    "duration": 6,
    "start_time": "2023-09-03T22:23:47.239Z"
   },
   {
    "duration": 4,
    "start_time": "2023-09-03T22:23:47.246Z"
   },
   {
    "duration": 15,
    "start_time": "2023-09-03T22:23:47.251Z"
   },
   {
    "duration": 15,
    "start_time": "2023-09-03T22:23:47.267Z"
   },
   {
    "duration": 21,
    "start_time": "2023-09-03T22:23:47.283Z"
   },
   {
    "duration": 4,
    "start_time": "2023-09-03T22:23:47.306Z"
   },
   {
    "duration": 7,
    "start_time": "2023-09-03T22:23:47.311Z"
   },
   {
    "duration": 21,
    "start_time": "2023-09-03T22:23:47.320Z"
   },
   {
    "duration": 0,
    "start_time": "2023-09-03T22:23:47.343Z"
   },
   {
    "duration": 0,
    "start_time": "2023-09-03T22:23:47.344Z"
   },
   {
    "duration": 0,
    "start_time": "2023-09-03T22:23:47.345Z"
   },
   {
    "duration": 0,
    "start_time": "2023-09-03T22:23:47.347Z"
   },
   {
    "duration": 0,
    "start_time": "2023-09-03T22:23:47.348Z"
   },
   {
    "duration": 15,
    "start_time": "2023-09-03T22:24:10.582Z"
   },
   {
    "duration": 13,
    "start_time": "2023-09-03T22:24:26.061Z"
   },
   {
    "duration": 18,
    "start_time": "2023-09-03T22:26:32.317Z"
   },
   {
    "duration": 14,
    "start_time": "2023-09-03T22:27:23.862Z"
   },
   {
    "duration": 16,
    "start_time": "2023-09-03T22:28:20.819Z"
   },
   {
    "duration": 3,
    "start_time": "2023-09-03T22:28:42.804Z"
   },
   {
    "duration": 0,
    "start_time": "2023-09-03T22:29:38.751Z"
   },
   {
    "duration": 0,
    "start_time": "2023-09-03T22:34:30.968Z"
   },
   {
    "duration": 24338,
    "start_time": "2023-09-03T22:35:47.238Z"
   },
   {
    "duration": 0,
    "start_time": "2023-09-03T22:36:11.580Z"
   },
   {
    "duration": 3185,
    "start_time": "2023-09-03T22:36:18.226Z"
   },
   {
    "duration": 3632,
    "start_time": "2023-09-03T22:37:59.072Z"
   },
   {
    "duration": 2548,
    "start_time": "2023-09-03T22:38:54.958Z"
   },
   {
    "duration": 8,
    "start_time": "2023-09-03T22:40:49.104Z"
   },
   {
    "duration": 2573,
    "start_time": "2023-09-03T22:42:31.049Z"
   },
   {
    "duration": 3,
    "start_time": "2023-09-03T22:43:07.563Z"
   },
   {
    "duration": 2816,
    "start_time": "2023-09-03T22:43:15.101Z"
   },
   {
    "duration": 2755,
    "start_time": "2023-09-03T22:44:53.758Z"
   },
   {
    "duration": 90012,
    "start_time": "2023-09-03T22:45:18.574Z"
   },
   {
    "duration": 0,
    "start_time": "2023-09-03T22:46:48.588Z"
   },
   {
    "duration": 2174,
    "start_time": "2023-09-03T22:46:50.632Z"
   },
   {
    "duration": 2775,
    "start_time": "2023-09-03T22:49:46.639Z"
   },
   {
    "duration": 2463,
    "start_time": "2023-09-03T22:53:27.844Z"
   },
   {
    "duration": 2272,
    "start_time": "2023-09-03T22:53:48.642Z"
   },
   {
    "duration": 2379,
    "start_time": "2023-09-03T22:55:12.323Z"
   },
   {
    "duration": 2032823,
    "start_time": "2023-09-03T22:55:37.305Z"
   },
   {
    "duration": 214,
    "start_time": "2023-09-03T23:38:13.686Z"
   },
   {
    "duration": 18372,
    "start_time": "2023-09-03T23:38:48.526Z"
   },
   {
    "duration": 235,
    "start_time": "2023-09-03T23:39:21.017Z"
   },
   {
    "duration": 18133,
    "start_time": "2023-09-03T23:39:41.569Z"
   },
   {
    "duration": 18272,
    "start_time": "2023-09-03T23:41:21.888Z"
   },
   {
    "duration": 2,
    "start_time": "2023-09-03T23:42:27.466Z"
   },
   {
    "duration": 18110,
    "start_time": "2023-09-03T23:42:52.074Z"
   },
   {
    "duration": 18366,
    "start_time": "2023-09-03T23:45:27.210Z"
   },
   {
    "duration": 83,
    "start_time": "2023-09-03T23:50:45.721Z"
   },
   {
    "duration": 242,
    "start_time": "2023-09-03T23:50:54.100Z"
   },
   {
    "duration": 235,
    "start_time": "2023-09-03T23:55:35.587Z"
   },
   {
    "duration": 4,
    "start_time": "2023-09-03T23:55:43.679Z"
   },
   {
    "duration": 239,
    "start_time": "2023-09-03T23:55:54.942Z"
   },
   {
    "duration": 480,
    "start_time": "2023-09-03T23:56:07.333Z"
   },
   {
    "duration": 43694,
    "start_time": "2023-09-03T23:58:24.314Z"
   },
   {
    "duration": 44350,
    "start_time": "2023-09-03T23:59:25.020Z"
   },
   {
    "duration": 234,
    "start_time": "2023-09-04T00:00:47.223Z"
   },
   {
    "duration": 230,
    "start_time": "2023-09-04T00:01:22.136Z"
   },
   {
    "duration": 13338,
    "start_time": "2023-09-04T00:02:00.574Z"
   },
   {
    "duration": 7,
    "start_time": "2023-09-04T00:02:30.299Z"
   }
  ],
  "kernelspec": {
   "display_name": "Python 3 (ipykernel)",
   "language": "python",
   "name": "python3"
  },
  "language_info": {
   "codemirror_mode": {
    "name": "ipython",
    "version": 3
   },
   "file_extension": ".py",
   "mimetype": "text/x-python",
   "name": "python",
   "nbconvert_exporter": "python",
   "pygments_lexer": "ipython3",
   "version": "3.9.5"
  },
  "toc": {
   "base_numbering": 1,
   "nav_menu": {},
   "number_sections": true,
   "sideBar": true,
   "skip_h1_title": true,
   "title_cell": "Содержание",
   "title_sidebar": "Contents",
   "toc_cell": true,
   "toc_position": {
    "height": "calc(100% - 180px)",
    "left": "10px",
    "top": "150px",
    "width": "184.201px"
   },
   "toc_section_display": true,
   "toc_window_display": true
  }
 },
 "nbformat": 4,
 "nbformat_minor": 2
}
